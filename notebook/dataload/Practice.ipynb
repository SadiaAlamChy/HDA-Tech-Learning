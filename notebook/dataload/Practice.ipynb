{
 "cells": [
  {
   "cell_type": "markdown",
   "id": "e08455a1",
   "metadata": {},
   "source": [
    "# Load Data"
   ]
  },
  {
   "cell_type": "code",
   "execution_count": 190,
   "id": "95e08353",
   "metadata": {},
   "outputs": [
    {
     "name": "stdout",
     "output_type": "stream",
     "text": [
      "Requirement already satisfied: psycopg2 in c:\\users\\administrator\\.conda\\envs\\hda\\lib\\site-packages (2.9.3)\n",
      "Note: you may need to restart the kernel to use updated packages.\n"
     ]
    }
   ],
   "source": [
    "pip install psycopg2"
   ]
  },
  {
   "cell_type": "code",
   "execution_count": 191,
   "id": "f52d210f",
   "metadata": {},
   "outputs": [],
   "source": [
    "import psycopg2"
   ]
  },
  {
   "cell_type": "code",
   "execution_count": 192,
   "id": "cc45c293",
   "metadata": {},
   "outputs": [],
   "source": [
    "class PostgresConnection(object):\n",
    "    def __init__(self):\n",
    "        self.connection = psycopg2.connect(database=\"hda\",\n",
    "                                           user = \"postgres\",\n",
    "                                           password = \"mohammad\",\n",
    "                                           host = \"127.0.0.1\",\n",
    "                                           port = \"5433\")\n",
    "\n",
    "    def getConnection(self):\n",
    "        print(\"successfully connected to database\")\n",
    "        return self.connection"
   ]
  },
  {
   "cell_type": "code",
   "execution_count": 193,
   "id": "862bca19",
   "metadata": {},
   "outputs": [
    {
     "name": "stdout",
     "output_type": "stream",
     "text": [
      "successfully connected to database\n"
     ]
    }
   ],
   "source": [
    "con = PostgresConnection().getConnection()"
   ]
  },
  {
   "cell_type": "code",
   "execution_count": null,
   "id": "7ca0be11",
   "metadata": {},
   "outputs": [],
   "source": []
  },
  {
   "cell_type": "code",
   "execution_count": 194,
   "id": "0d299a68",
   "metadata": {},
   "outputs": [],
   "source": [
    "mycursor = con.cursor()\n",
    "query = \"SELECT payment_key ,coustomer_key FROM ecombd where unit='ct' \"\n"
   ]
  },
  {
   "cell_type": "code",
   "execution_count": 195,
   "id": "48ba1e51",
   "metadata": {},
   "outputs": [],
   "source": [
    "mycursor.execute(query)\n",
    "record = mycursor.fetchall()"
   ]
  },
  {
   "cell_type": "code",
   "execution_count": 196,
   "id": "71249256",
   "metadata": {},
   "outputs": [
    {
     "data": {
      "text/plain": [
       "355938"
      ]
     },
     "execution_count": 196,
     "metadata": {},
     "output_type": "execute_result"
    }
   ],
   "source": [
    "len(record)"
   ]
  },
  {
   "cell_type": "code",
   "execution_count": 198,
   "id": "c8282c38",
   "metadata": {},
   "outputs": [
    {
     "data": {
      "text/plain": [
       "[('P026', 'C004510'),\n",
       " ('P030', 'C007261'),\n",
       " ('P032', 'C007048'),\n",
       " ('P027', 'C008728'),\n",
       " ('P019', 'C003128'),\n",
       " ('P003', 'C000849'),\n",
       " ('P016', 'C005138'),\n",
       " ('P018', 'C006779'),\n",
       " ('P019', 'C004953'),\n",
       " ('P028', 'C001667'),\n",
       " ('P026', 'C008372'),\n",
       " ('P016', 'C003012'),\n",
       " ('P006', 'C002416'),\n",
       " ('P029', 'C004635'),\n",
       " ('P001', 'C002106'),\n",
       " ('P021', 'C004163'),\n",
       " ('P033', 'C008636'),\n",
       " ('P035', 'C004785'),\n",
       " ('P029', 'C004238'),\n",
       " ('P012', 'C001376')]"
      ]
     },
     "execution_count": 198,
     "metadata": {},
     "output_type": "execute_result"
    }
   ],
   "source": [
    "record[:20]"
   ]
  },
  {
   "cell_type": "markdown",
   "id": "e6077534",
   "metadata": {},
   "source": [
    "# Data insertion"
   ]
  },
  {
   "cell_type": "code",
   "execution_count": 199,
   "id": "21c5b5a0",
   "metadata": {},
   "outputs": [],
   "source": [
    "mycursor.execute(\"INSERT INTO ecombd (coustomer_key,time_key, unit) VALUES ('C123456','T123456','BG')\")"
   ]
  },
  {
   "cell_type": "code",
   "execution_count": 200,
   "id": "c62fbb32",
   "metadata": {},
   "outputs": [],
   "source": [
    "mycursor.execute(\"INSERT INTO ecombd (coustomer_key,time_key, unit) VALUES ('C78910','T78910','BG')\")"
   ]
  },
  {
   "cell_type": "code",
   "execution_count": 201,
   "id": "89eb2e5c",
   "metadata": {},
   "outputs": [],
   "source": [
    "# import numpy as np\n",
    "# for i in range(2):\n",
    "#     a = np.random.randint(100000,199999)\n",
    "#     t = ('T'+str(a))\n",
    "#     c = 'C'+str(a)\n",
    "#     mycursor.execute(\"INSERT INTO ecombd (coustomer_key,time_key, unit) VALUES (c,t,'BG')\")\n",
    "#     print(t,c)"
   ]
  },
  {
   "cell_type": "code",
   "execution_count": 202,
   "id": "8003f730",
   "metadata": {},
   "outputs": [],
   "source": [
    "query = \"SELECT *FROM ecombd WHERE unit='BG'\""
   ]
  },
  {
   "cell_type": "code",
   "execution_count": 203,
   "id": "953cf7fa",
   "metadata": {},
   "outputs": [],
   "source": [
    "mycursor.execute(query)\n",
    "records = mycursor.fetchall()"
   ]
  },
  {
   "cell_type": "code",
   "execution_count": 204,
   "id": "37300dcc",
   "metadata": {},
   "outputs": [
    {
     "data": {
      "text/plain": [
       "[(None, 'C123456', 'T123456', None, None, None, 'BG', None, None),\n",
       " (None, 'C78910', 'T78910', None, None, None, 'BG', None, None)]"
      ]
     },
     "execution_count": 204,
     "metadata": {},
     "output_type": "execute_result"
    }
   ],
   "source": [
    "records"
   ]
  },
  {
   "cell_type": "code",
   "execution_count": null,
   "id": "5bb30203",
   "metadata": {},
   "outputs": [],
   "source": []
  }
 ],
 "metadata": {
  "kernelspec": {
   "display_name": "Python 3 (ipykernel)",
   "language": "python",
   "name": "python3"
  },
  "language_info": {
   "codemirror_mode": {
    "name": "ipython",
    "version": 3
   },
   "file_extension": ".py",
   "mimetype": "text/x-python",
   "name": "python",
   "nbconvert_exporter": "python",
   "pygments_lexer": "ipython3",
   "version": "3.8.12"
  }
 },
 "nbformat": 4,
 "nbformat_minor": 5
}
