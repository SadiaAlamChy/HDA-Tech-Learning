{
 "cells": [
  {
   "cell_type": "markdown",
   "id": "0a40bfb4",
   "metadata": {},
   "source": [
    "# Package install"
   ]
  },
  {
   "cell_type": "code",
   "execution_count": 83,
   "id": "95e08353",
   "metadata": {},
   "outputs": [
    {
     "name": "stdout",
     "output_type": "stream",
     "text": [
      "Requirement already satisfied: psycopg2 in c:\\users\\administrator\\.conda\\envs\\hda\\lib\\site-packages (2.9.3)Note: you may need to restart the kernel to use updated packages.\n",
      "\n"
     ]
    }
   ],
   "source": [
    "pip install psycopg2"
   ]
  },
  {
   "cell_type": "code",
   "execution_count": 84,
   "id": "d0ffcad6",
   "metadata": {},
   "outputs": [
    {
     "name": "stdout",
     "output_type": "stream",
     "text": [
      "Requirement already satisfied: openpyxl in c:\\users\\administrator\\.conda\\envs\\hda\\lib\\site-packages (3.0.9)\n",
      "Requirement already satisfied: et-xmlfile in c:\\users\\administrator\\.conda\\envs\\hda\\lib\\site-packages (from openpyxl) (1.1.0)\n",
      "Note: you may need to restart the kernel to use updated packages.\n"
     ]
    }
   ],
   "source": [
    "pip install openpyxl"
   ]
  },
  {
   "cell_type": "markdown",
   "id": "db062d0b",
   "metadata": {},
   "source": [
    "# Package call"
   ]
  },
  {
   "cell_type": "code",
   "execution_count": 85,
   "id": "93f9be39",
   "metadata": {},
   "outputs": [],
   "source": [
    "import psycopg2\n",
    "import pandas as pd\n",
    "import psycopg2.extras\n",
    "import psycopg2"
   ]
  },
  {
   "cell_type": "markdown",
   "id": "d5e781be",
   "metadata": {},
   "source": [
    "# Extract"
   ]
  },
  {
   "cell_type": "code",
   "execution_count": 86,
   "id": "26be76bc",
   "metadata": {},
   "outputs": [],
   "source": [
    "# df = \"/Users/Administrator/Downloads/New folder/pdf/Intern/ecommerce_csv\""
   ]
  },
  {
   "cell_type": "markdown",
   "id": "073f715a",
   "metadata": {},
   "source": [
    "#### Reading trans_dim from csv file"
   ]
  },
  {
   "cell_type": "code",
   "execution_count": 87,
   "id": "8ea4011b",
   "metadata": {},
   "outputs": [],
   "source": [
    "df = 'C:/Users/Administrator/Downloads/New folder/pdf/Intern/'"
   ]
  },
  {
   "cell_type": "code",
   "execution_count": 88,
   "id": "efe0665c",
   "metadata": {},
   "outputs": [],
   "source": [
    "\n",
    "# trans_dim = pd.read_csv(\"/Users/Administrator/Downloads/New folder/pdf/Intern/ecommerce_csv/Trans_dim.csv\")\n",
    "trans_dim = pd.read_excel(open(df + \"e-commerece_data.xlsx\",\"rb\"), sheet_name=1, engine='openpyxl')"
   ]
  },
  {
   "cell_type": "code",
   "execution_count": 89,
   "id": "26875bb8",
   "metadata": {},
   "outputs": [
    {
     "data": {
      "text/html": [
       "<div>\n",
       "<style scoped>\n",
       "    .dataframe tbody tr th:only-of-type {\n",
       "        vertical-align: middle;\n",
       "    }\n",
       "\n",
       "    .dataframe tbody tr th {\n",
       "        vertical-align: top;\n",
       "    }\n",
       "\n",
       "    .dataframe thead th {\n",
       "        text-align: right;\n",
       "    }\n",
       "</style>\n",
       "<table border=\"1\" class=\"dataframe\">\n",
       "  <thead>\n",
       "    <tr style=\"text-align: right;\">\n",
       "      <th></th>\n",
       "      <th>payment_key</th>\n",
       "      <th>trans_type</th>\n",
       "      <th>bank_name</th>\n",
       "    </tr>\n",
       "  </thead>\n",
       "  <tbody>\n",
       "    <tr>\n",
       "      <th>0</th>\n",
       "      <td>P001</td>\n",
       "      <td>cash</td>\n",
       "      <td>None</td>\n",
       "    </tr>\n",
       "    <tr>\n",
       "      <th>1</th>\n",
       "      <td>P002</td>\n",
       "      <td>card</td>\n",
       "      <td>AB Bank Limited</td>\n",
       "    </tr>\n",
       "    <tr>\n",
       "      <th>2</th>\n",
       "      <td>P003</td>\n",
       "      <td>card</td>\n",
       "      <td>Bangladesh Commerce Bank Limited</td>\n",
       "    </tr>\n",
       "    <tr>\n",
       "      <th>3</th>\n",
       "      <td>P004</td>\n",
       "      <td>card</td>\n",
       "      <td>Bank Asia Limited</td>\n",
       "    </tr>\n",
       "    <tr>\n",
       "      <th>4</th>\n",
       "      <td>P005</td>\n",
       "      <td>card</td>\n",
       "      <td>BRAC Bank Limited</td>\n",
       "    </tr>\n",
       "  </tbody>\n",
       "</table>\n",
       "</div>"
      ],
      "text/plain": [
       "  payment_key trans_type                         bank_name\n",
       "0        P001       cash                              None\n",
       "1        P002       card                   AB Bank Limited\n",
       "2        P003       card  Bangladesh Commerce Bank Limited\n",
       "3        P004       card                 Bank Asia Limited\n",
       "4        P005       card                 BRAC Bank Limited"
      ]
     },
     "execution_count": 89,
     "metadata": {},
     "output_type": "execute_result"
    }
   ],
   "source": [
    "trans_dim.head()"
   ]
  },
  {
   "cell_type": "code",
   "execution_count": 93,
   "id": "6eab9c13",
   "metadata": {},
   "outputs": [
    {
     "name": "stdout",
     "output_type": "stream",
     "text": [
      "<class 'pandas.core.frame.DataFrame'>\n",
      "RangeIndex: 39 entries, 0 to 38\n",
      "Data columns (total 3 columns):\n",
      " #   Column       Non-Null Count  Dtype \n",
      "---  ------       --------------  ----- \n",
      " 0   payment_key  39 non-null     object\n",
      " 1   trans_type   39 non-null     object\n",
      " 2   bank_name    39 non-null     object\n",
      "dtypes: object(3)\n",
      "memory usage: 1.0+ KB\n"
     ]
    }
   ],
   "source": [
    "trans_dim.info()"
   ]
  },
  {
   "cell_type": "markdown",
   "id": "39cc0472",
   "metadata": {},
   "source": [
    "#### Reading store_df from csv file"
   ]
  },
  {
   "cell_type": "code",
   "execution_count": 90,
   "id": "ebd34818",
   "metadata": {},
   "outputs": [],
   "source": [
    "\n",
    "store_df = pd.read_excel(open(df + \"e-commerece_data.xlsx\",\"rb\"), sheet_name=5, engine='openpyxl')\n",
    "# pd.read_csv(\"/Users/Administrator/Downloads/New folder/pdf/Intern/ecommerce_csv/Store_dim.csv\")"
   ]
  },
  {
   "cell_type": "code",
   "execution_count": 91,
   "id": "6fdcde8e",
   "metadata": {},
   "outputs": [
    {
     "data": {
      "text/html": [
       "<div>\n",
       "<style scoped>\n",
       "    .dataframe tbody tr th:only-of-type {\n",
       "        vertical-align: middle;\n",
       "    }\n",
       "\n",
       "    .dataframe tbody tr th {\n",
       "        vertical-align: top;\n",
       "    }\n",
       "\n",
       "    .dataframe thead th {\n",
       "        text-align: right;\n",
       "    }\n",
       "</style>\n",
       "<table border=\"1\" class=\"dataframe\">\n",
       "  <thead>\n",
       "    <tr style=\"text-align: right;\">\n",
       "      <th></th>\n",
       "      <th>store_key</th>\n",
       "      <th>division</th>\n",
       "      <th>district</th>\n",
       "      <th>upazila</th>\n",
       "    </tr>\n",
       "  </thead>\n",
       "  <tbody>\n",
       "    <tr>\n",
       "      <th>0</th>\n",
       "      <td>S0001</td>\n",
       "      <td>SYLHET</td>\n",
       "      <td>HABIGANJ</td>\n",
       "      <td>AJMIRIGANJ</td>\n",
       "    </tr>\n",
       "    <tr>\n",
       "      <th>1</th>\n",
       "      <td>S0002</td>\n",
       "      <td>SYLHET</td>\n",
       "      <td>HABIGANJ</td>\n",
       "      <td>BAHUBAL</td>\n",
       "    </tr>\n",
       "    <tr>\n",
       "      <th>2</th>\n",
       "      <td>S0003</td>\n",
       "      <td>SYLHET</td>\n",
       "      <td>HABIGANJ</td>\n",
       "      <td>BANIACHONG</td>\n",
       "    </tr>\n",
       "    <tr>\n",
       "      <th>3</th>\n",
       "      <td>S0004</td>\n",
       "      <td>SYLHET</td>\n",
       "      <td>HABIGANJ</td>\n",
       "      <td>CHUNARUGHAT</td>\n",
       "    </tr>\n",
       "    <tr>\n",
       "      <th>4</th>\n",
       "      <td>S0005</td>\n",
       "      <td>SYLHET</td>\n",
       "      <td>HABIGANJ</td>\n",
       "      <td>HABIGANJ SADAR</td>\n",
       "    </tr>\n",
       "  </tbody>\n",
       "</table>\n",
       "</div>"
      ],
      "text/plain": [
       "  store_key division  district         upazila\n",
       "0     S0001   SYLHET  HABIGANJ      AJMIRIGANJ\n",
       "1     S0002   SYLHET  HABIGANJ         BAHUBAL\n",
       "2     S0003   SYLHET  HABIGANJ      BANIACHONG\n",
       "3     S0004   SYLHET  HABIGANJ     CHUNARUGHAT\n",
       "4     S0005   SYLHET  HABIGANJ  HABIGANJ SADAR"
      ]
     },
     "execution_count": 91,
     "metadata": {},
     "output_type": "execute_result"
    }
   ],
   "source": [
    "store_df.head()"
   ]
  },
  {
   "cell_type": "code",
   "execution_count": 92,
   "id": "56c69dc5",
   "metadata": {},
   "outputs": [
    {
     "name": "stdout",
     "output_type": "stream",
     "text": [
      "<class 'pandas.core.frame.DataFrame'>\n",
      "RangeIndex: 726 entries, 0 to 725\n",
      "Data columns (total 4 columns):\n",
      " #   Column     Non-Null Count  Dtype \n",
      "---  ------     --------------  ----- \n",
      " 0   store_key  726 non-null    object\n",
      " 1   division   726 non-null    object\n",
      " 2   district   726 non-null    object\n",
      " 3   upazila    726 non-null    object\n",
      "dtypes: object(4)\n",
      "memory usage: 22.8+ KB\n"
     ]
    }
   ],
   "source": [
    "store_df.info()"
   ]
  },
  {
   "cell_type": "code",
   "execution_count": 97,
   "id": "1f3422c0",
   "metadata": {},
   "outputs": [
    {
     "data": {
      "text/plain": [
       "store_key    0\n",
       "division     0\n",
       "district     0\n",
       "upazila      0\n",
       "dtype: int64"
      ]
     },
     "execution_count": 97,
     "metadata": {},
     "output_type": "execute_result"
    }
   ],
   "source": [
    "store_df.isnull().sum()"
   ]
  },
  {
   "cell_type": "markdown",
   "id": "0a912949",
   "metadata": {},
   "source": [
    "#### Reading item_dim from csv file"
   ]
  },
  {
   "cell_type": "code",
   "execution_count": 98,
   "id": "b09337ca",
   "metadata": {},
   "outputs": [
    {
     "data": {
      "text/html": [
       "<div>\n",
       "<style scoped>\n",
       "    .dataframe tbody tr th:only-of-type {\n",
       "        vertical-align: middle;\n",
       "    }\n",
       "\n",
       "    .dataframe tbody tr th {\n",
       "        vertical-align: top;\n",
       "    }\n",
       "\n",
       "    .dataframe thead th {\n",
       "        text-align: right;\n",
       "    }\n",
       "</style>\n",
       "<table border=\"1\" class=\"dataframe\">\n",
       "  <thead>\n",
       "    <tr style=\"text-align: right;\">\n",
       "      <th></th>\n",
       "      <th>item_key</th>\n",
       "      <th>item_name</th>\n",
       "      <th>desc</th>\n",
       "      <th>unit_price</th>\n",
       "      <th>man_country</th>\n",
       "      <th>supplier</th>\n",
       "      <th>unit</th>\n",
       "    </tr>\n",
       "  </thead>\n",
       "  <tbody>\n",
       "    <tr>\n",
       "      <th>0</th>\n",
       "      <td>I00001</td>\n",
       "      <td>A&amp;W Root Beer - 12 oz cans</td>\n",
       "      <td>a. Beverage - Soda</td>\n",
       "      <td>11.50</td>\n",
       "      <td>Netherlands</td>\n",
       "      <td>Bolsius Boxmeer</td>\n",
       "      <td>cans</td>\n",
       "    </tr>\n",
       "    <tr>\n",
       "      <th>1</th>\n",
       "      <td>I00002</td>\n",
       "      <td>A&amp;W Root Beer Diet - 12 oz cans</td>\n",
       "      <td>a. Beverage - Soda</td>\n",
       "      <td>6.75</td>\n",
       "      <td>poland</td>\n",
       "      <td>CHROMADURLIN S.A.S</td>\n",
       "      <td>cans</td>\n",
       "    </tr>\n",
       "    <tr>\n",
       "      <th>2</th>\n",
       "      <td>I00003</td>\n",
       "      <td>Barq's Root Beer - 12 oz cans</td>\n",
       "      <td>a. Beverage - Soda</td>\n",
       "      <td>6.75</td>\n",
       "      <td>Bangladesh</td>\n",
       "      <td>DENIMACH LTD</td>\n",
       "      <td>cans</td>\n",
       "    </tr>\n",
       "    <tr>\n",
       "      <th>3</th>\n",
       "      <td>I00004</td>\n",
       "      <td>Cherry Coke 12oz</td>\n",
       "      <td>a. Beverage - Soda</td>\n",
       "      <td>6.75</td>\n",
       "      <td>Netherlands</td>\n",
       "      <td>Bolsius Boxmeer</td>\n",
       "      <td>cans</td>\n",
       "    </tr>\n",
       "    <tr>\n",
       "      <th>4</th>\n",
       "      <td>I00005</td>\n",
       "      <td>Cherry Coke Zero 12 pack</td>\n",
       "      <td>a. Beverage - Soda</td>\n",
       "      <td>6.75</td>\n",
       "      <td>Finland</td>\n",
       "      <td>HARDFORD AB</td>\n",
       "      <td>cans</td>\n",
       "    </tr>\n",
       "  </tbody>\n",
       "</table>\n",
       "</div>"
      ],
      "text/plain": [
       "  item_key                        item_name                desc  unit_price  \\\n",
       "0   I00001       A&W Root Beer - 12 oz cans  a. Beverage - Soda       11.50   \n",
       "1   I00002  A&W Root Beer Diet - 12 oz cans  a. Beverage - Soda        6.75   \n",
       "2   I00003    Barq's Root Beer - 12 oz cans  a. Beverage - Soda        6.75   \n",
       "3   I00004                 Cherry Coke 12oz  a. Beverage - Soda        6.75   \n",
       "4   I00005         Cherry Coke Zero 12 pack  a. Beverage - Soda        6.75   \n",
       "\n",
       "   man_country            supplier  unit  \n",
       "0  Netherlands     Bolsius Boxmeer  cans  \n",
       "1       poland  CHROMADURLIN S.A.S  cans  \n",
       "2   Bangladesh        DENIMACH LTD  cans  \n",
       "3  Netherlands     Bolsius Boxmeer  cans  \n",
       "4      Finland         HARDFORD AB  cans  "
      ]
     },
     "execution_count": 98,
     "metadata": {},
     "output_type": "execute_result"
    }
   ],
   "source": [
    "\n",
    "item_df = pd.read_excel(open(df + \"e-commerece_data.xlsx\",\"rb\"), sheet_name=2, engine='openpyxl')\n",
    "# pd.read_csv(\"/Users/Administrator/Downloads/New folder/pdf/Intern/ecommerce_csv/Item_dim.csv\")\n",
    "item_df.head()"
   ]
  },
  {
   "cell_type": "code",
   "execution_count": 99,
   "id": "b7be2bb8",
   "metadata": {},
   "outputs": [
    {
     "name": "stdout",
     "output_type": "stream",
     "text": [
      "<class 'pandas.core.frame.DataFrame'>\n",
      "RangeIndex: 264 entries, 0 to 263\n",
      "Data columns (total 7 columns):\n",
      " #   Column       Non-Null Count  Dtype  \n",
      "---  ------       --------------  -----  \n",
      " 0   item_key     264 non-null    object \n",
      " 1   item_name    264 non-null    object \n",
      " 2   desc         264 non-null    object \n",
      " 3   unit_price   264 non-null    float64\n",
      " 4   man_country  264 non-null    object \n",
      " 5   supplier     264 non-null    object \n",
      " 6   unit         263 non-null    object \n",
      "dtypes: float64(1), object(6)\n",
      "memory usage: 14.6+ KB\n"
     ]
    }
   ],
   "source": [
    "item_df.info()"
   ]
  },
  {
   "cell_type": "code",
   "execution_count": 100,
   "id": "36cb109b",
   "metadata": {},
   "outputs": [
    {
     "name": "stderr",
     "output_type": "stream",
     "text": [
      "C:\\Users\\ADMINI~1\\AppData\\Local\\Temp/ipykernel_14244/3986604733.py:1: FutureWarning: Dropping of nuisance columns in DataFrame reductions (with 'numeric_only=None') is deprecated; in a future version this will raise TypeError.  Select only valid columns before calling the reduction.\n",
      "  item_df.sum().isna()\n"
     ]
    },
    {
     "data": {
      "text/plain": [
       "item_key       False\n",
       "item_name      False\n",
       "desc           False\n",
       "unit_price     False\n",
       "man_country    False\n",
       "supplier       False\n",
       "dtype: bool"
      ]
     },
     "execution_count": 100,
     "metadata": {},
     "output_type": "execute_result"
    }
   ],
   "source": [
    "item_df.sum().isna()"
   ]
  },
  {
   "cell_type": "markdown",
   "id": "bfb2c437",
   "metadata": {},
   "source": [
    "#### Customer table "
   ]
  },
  {
   "cell_type": "code",
   "execution_count": 101,
   "id": "80faa662",
   "metadata": {},
   "outputs": [
    {
     "data": {
      "text/html": [
       "<div>\n",
       "<style scoped>\n",
       "    .dataframe tbody tr th:only-of-type {\n",
       "        vertical-align: middle;\n",
       "    }\n",
       "\n",
       "    .dataframe tbody tr th {\n",
       "        vertical-align: top;\n",
       "    }\n",
       "\n",
       "    .dataframe thead th {\n",
       "        text-align: right;\n",
       "    }\n",
       "</style>\n",
       "<table border=\"1\" class=\"dataframe\">\n",
       "  <thead>\n",
       "    <tr style=\"text-align: right;\">\n",
       "      <th></th>\n",
       "      <th>coustomer_key</th>\n",
       "      <th>name</th>\n",
       "      <th>contact_no</th>\n",
       "      <th>nid</th>\n",
       "    </tr>\n",
       "  </thead>\n",
       "  <tbody>\n",
       "    <tr>\n",
       "      <th>0</th>\n",
       "      <td>C000001</td>\n",
       "      <td>sumit</td>\n",
       "      <td>8801920345851</td>\n",
       "      <td>7505075708899</td>\n",
       "    </tr>\n",
       "    <tr>\n",
       "      <th>1</th>\n",
       "      <td>C000002</td>\n",
       "      <td>tammanne</td>\n",
       "      <td>8801817069329</td>\n",
       "      <td>1977731324842</td>\n",
       "    </tr>\n",
       "    <tr>\n",
       "      <th>2</th>\n",
       "      <td>C000003</td>\n",
       "      <td>kailash kumar</td>\n",
       "      <td>8801663795774</td>\n",
       "      <td>3769494056318</td>\n",
       "    </tr>\n",
       "    <tr>\n",
       "      <th>3</th>\n",
       "      <td>C000004</td>\n",
       "      <td>bhagwati prasad</td>\n",
       "      <td>8801533627961</td>\n",
       "      <td>9378834712725</td>\n",
       "    </tr>\n",
       "    <tr>\n",
       "      <th>4</th>\n",
       "      <td>C000005</td>\n",
       "      <td>ajay</td>\n",
       "      <td>8801943715786</td>\n",
       "      <td>3540815556323</td>\n",
       "    </tr>\n",
       "  </tbody>\n",
       "</table>\n",
       "</div>"
      ],
      "text/plain": [
       "  coustomer_key             name     contact_no            nid\n",
       "0       C000001            sumit  8801920345851  7505075708899\n",
       "1       C000002         tammanne  8801817069329  1977731324842\n",
       "2       C000003    kailash kumar  8801663795774  3769494056318\n",
       "3       C000004  bhagwati prasad  8801533627961  9378834712725\n",
       "4       C000005             ajay  8801943715786  3540815556323"
      ]
     },
     "execution_count": 101,
     "metadata": {},
     "output_type": "execute_result"
    }
   ],
   "source": [
    "customer_df = pd.read_excel(open(df + \"e-commerece_data.xlsx\",\"rb\"), sheet_name=3, engine='openpyxl')\n",
    "# pd.read_csv(\"/Users/Administrator/Downloads/New folder/pdf/Intern/ecommerce_csv/Coustomer_dim.csv\")\n",
    "customer_df.head()"
   ]
  },
  {
   "cell_type": "code",
   "execution_count": 102,
   "id": "b796c42c",
   "metadata": {},
   "outputs": [
    {
     "name": "stdout",
     "output_type": "stream",
     "text": [
      "<class 'pandas.core.frame.DataFrame'>\n",
      "RangeIndex: 9191 entries, 0 to 9190\n",
      "Data columns (total 4 columns):\n",
      " #   Column         Non-Null Count  Dtype \n",
      "---  ------         --------------  ----- \n",
      " 0   coustomer_key  9191 non-null   object\n",
      " 1   name           9164 non-null   object\n",
      " 2   contact_no     9191 non-null   int64 \n",
      " 3   nid            9191 non-null   int64 \n",
      "dtypes: int64(2), object(2)\n",
      "memory usage: 287.3+ KB\n"
     ]
    }
   ],
   "source": [
    "customer_df.info()"
   ]
  },
  {
   "cell_type": "code",
   "execution_count": 103,
   "id": "5b899d6d",
   "metadata": {},
   "outputs": [
    {
     "data": {
      "text/plain": [
       "coustomer_key     0\n",
       "name             27\n",
       "contact_no        0\n",
       "nid               0\n",
       "dtype: int64"
      ]
     },
     "execution_count": 103,
     "metadata": {},
     "output_type": "execute_result"
    }
   ],
   "source": [
    "customer_df.isna().sum()"
   ]
  },
  {
   "cell_type": "code",
   "execution_count": 104,
   "id": "9f5c914a",
   "metadata": {},
   "outputs": [],
   "source": [
    "customer_df['name'].fillna('Null',inplace = True)"
   ]
  },
  {
   "cell_type": "code",
   "execution_count": 105,
   "id": "0e3e9cd0",
   "metadata": {},
   "outputs": [
    {
     "data": {
      "text/plain": [
       "coustomer_key    0\n",
       "name             0\n",
       "contact_no       0\n",
       "nid              0\n",
       "dtype: int64"
      ]
     },
     "execution_count": 105,
     "metadata": {},
     "output_type": "execute_result"
    }
   ],
   "source": [
    "customer_df.isna().sum()"
   ]
  },
  {
   "cell_type": "code",
   "execution_count": 16,
   "id": "08dc9ec9",
   "metadata": {},
   "outputs": [
    {
     "data": {
      "text/plain": [
       "coustomer_key    0\n",
       "name             0\n",
       "contact_no       0\n",
       "nid              0\n",
       "dtype: int64"
      ]
     },
     "execution_count": 16,
     "metadata": {},
     "output_type": "execute_result"
    }
   ],
   "source": [
    "# customer_df.dropna(inplace = True)\n",
    "# customer_df.isna().sum()"
   ]
  },
  {
   "cell_type": "code",
   "execution_count": 17,
   "id": "ab4b50f4",
   "metadata": {},
   "outputs": [],
   "source": [
    "# customer_df['contact_no'] = customer_df['contact_no'].astype('Int64')"
   ]
  },
  {
   "cell_type": "code",
   "execution_count": null,
   "id": "c313d64e",
   "metadata": {},
   "outputs": [],
   "source": []
  },
  {
   "cell_type": "code",
   "execution_count": 106,
   "id": "8aae8617",
   "metadata": {},
   "outputs": [
    {
     "data": {
      "text/plain": [
       "0       8801920345851\n",
       "1       8801817069329\n",
       "2       8801663795774\n",
       "3       8801533627961\n",
       "4       8801943715786\n",
       "            ...      \n",
       "9186    8801563029753\n",
       "9187    8801794982266\n",
       "9188    8801890032435\n",
       "9189    8801563290767\n",
       "9190    8801524507359\n",
       "Name: contact_no, Length: 9191, dtype: int64"
      ]
     },
     "execution_count": 106,
     "metadata": {},
     "output_type": "execute_result"
    }
   ],
   "source": [
    "customer_df.iloc[:,2]"
   ]
  },
  {
   "cell_type": "code",
   "execution_count": 107,
   "id": "468ffc00",
   "metadata": {},
   "outputs": [
    {
     "name": "stdout",
     "output_type": "stream",
     "text": [
      "<class 'pandas.core.frame.DataFrame'>\n",
      "RangeIndex: 9191 entries, 0 to 9190\n",
      "Data columns (total 4 columns):\n",
      " #   Column         Non-Null Count  Dtype \n",
      "---  ------         --------------  ----- \n",
      " 0   coustomer_key  9191 non-null   object\n",
      " 1   name           9191 non-null   object\n",
      " 2   contact_no     9191 non-null   int64 \n",
      " 3   nid            9191 non-null   int64 \n",
      "dtypes: int64(2), object(2)\n",
      "memory usage: 287.3+ KB\n"
     ]
    }
   ],
   "source": [
    "customer_df.info()"
   ]
  },
  {
   "cell_type": "code",
   "execution_count": 20,
   "id": "f7cfc56b",
   "metadata": {},
   "outputs": [
    {
     "data": {
      "text/plain": [
       "0    7505080000000\n",
       "1    1977730000000\n",
       "2    3769490000000\n",
       "3    9378830000000\n",
       "4    3540820000000\n",
       "Name: nid, dtype: Int64"
      ]
     },
     "execution_count": 20,
     "metadata": {},
     "output_type": "execute_result"
    }
   ],
   "source": [
    "# customer_df['nid'] = customer_df['nid'].astype('Int64')\n",
    "# customer_df.iloc[:5,3]"
   ]
  },
  {
   "cell_type": "markdown",
   "id": "765ccb20",
   "metadata": {},
   "source": [
    "### Time_dim table"
   ]
  },
  {
   "cell_type": "code",
   "execution_count": 108,
   "id": "3e929024",
   "metadata": {},
   "outputs": [
    {
     "data": {
      "text/html": [
       "<div>\n",
       "<style scoped>\n",
       "    .dataframe tbody tr th:only-of-type {\n",
       "        vertical-align: middle;\n",
       "    }\n",
       "\n",
       "    .dataframe tbody tr th {\n",
       "        vertical-align: top;\n",
       "    }\n",
       "\n",
       "    .dataframe thead th {\n",
       "        text-align: right;\n",
       "    }\n",
       "</style>\n",
       "<table border=\"1\" class=\"dataframe\">\n",
       "  <thead>\n",
       "    <tr style=\"text-align: right;\">\n",
       "      <th></th>\n",
       "      <th>time_key</th>\n",
       "      <th>date</th>\n",
       "      <th>hour</th>\n",
       "      <th>day</th>\n",
       "      <th>week</th>\n",
       "      <th>month</th>\n",
       "      <th>quarter</th>\n",
       "      <th>year</th>\n",
       "    </tr>\n",
       "  </thead>\n",
       "  <tbody>\n",
       "    <tr>\n",
       "      <th>0</th>\n",
       "      <td>T00001</td>\n",
       "      <td>20-05-2017 14:56</td>\n",
       "      <td>14</td>\n",
       "      <td>20</td>\n",
       "      <td>3rd Week</td>\n",
       "      <td>5</td>\n",
       "      <td>Q2</td>\n",
       "      <td>2017</td>\n",
       "    </tr>\n",
       "    <tr>\n",
       "      <th>1</th>\n",
       "      <td>T00002</td>\n",
       "      <td>30-01-2015 22:14</td>\n",
       "      <td>22</td>\n",
       "      <td>30</td>\n",
       "      <td>4th Week</td>\n",
       "      <td>1</td>\n",
       "      <td>Q1</td>\n",
       "      <td>2015</td>\n",
       "    </tr>\n",
       "    <tr>\n",
       "      <th>2</th>\n",
       "      <td>T00003</td>\n",
       "      <td>14-03-2020 02:34</td>\n",
       "      <td>2</td>\n",
       "      <td>14</td>\n",
       "      <td>2nd Week</td>\n",
       "      <td>3</td>\n",
       "      <td>Q1</td>\n",
       "      <td>2020</td>\n",
       "    </tr>\n",
       "    <tr>\n",
       "      <th>3</th>\n",
       "      <td>T00004</td>\n",
       "      <td>27-04-2018 12:19</td>\n",
       "      <td>12</td>\n",
       "      <td>27</td>\n",
       "      <td>4th Week</td>\n",
       "      <td>4</td>\n",
       "      <td>Q2</td>\n",
       "      <td>2018</td>\n",
       "    </tr>\n",
       "    <tr>\n",
       "      <th>4</th>\n",
       "      <td>T00005</td>\n",
       "      <td>14-04-2018 10:43</td>\n",
       "      <td>10</td>\n",
       "      <td>14</td>\n",
       "      <td>2nd Week</td>\n",
       "      <td>4</td>\n",
       "      <td>Q2</td>\n",
       "      <td>2018</td>\n",
       "    </tr>\n",
       "  </tbody>\n",
       "</table>\n",
       "</div>"
      ],
      "text/plain": [
       "  time_key              date  hour  day      week  month quarter  year\n",
       "0   T00001  20-05-2017 14:56    14   20  3rd Week      5      Q2  2017\n",
       "1   T00002  30-01-2015 22:14    22   30  4th Week      1      Q1  2015\n",
       "2   T00003  14-03-2020 02:34     2   14  2nd Week      3      Q1  2020\n",
       "3   T00004  27-04-2018 12:19    12   27  4th Week      4      Q2  2018\n",
       "4   T00005  14-04-2018 10:43    10   14  2nd Week      4      Q2  2018"
      ]
     },
     "execution_count": 108,
     "metadata": {},
     "output_type": "execute_result"
    }
   ],
   "source": [
    "time_df = pd.read_excel(open(df + \"e-commerece_data.xlsx\",\"rb\"), sheet_name=4, engine='openpyxl')\n",
    "# pd.read_csv(\"/Users/Administrator/Downloads/New folder/pdf/Intern/ecommerce_csv/Time_dim.csv\")\n",
    "time_df.head()"
   ]
  },
  {
   "cell_type": "code",
   "execution_count": 109,
   "id": "1095b60e",
   "metadata": {},
   "outputs": [
    {
     "name": "stdout",
     "output_type": "stream",
     "text": [
      "<class 'pandas.core.frame.DataFrame'>\n",
      "RangeIndex: 99999 entries, 0 to 99998\n",
      "Data columns (total 8 columns):\n",
      " #   Column    Non-Null Count  Dtype \n",
      "---  ------    --------------  ----- \n",
      " 0   time_key  99999 non-null  object\n",
      " 1   date      99999 non-null  object\n",
      " 2   hour      99999 non-null  int64 \n",
      " 3   day       99999 non-null  int64 \n",
      " 4   week      99999 non-null  object\n",
      " 5   month     99999 non-null  int64 \n",
      " 6   quarter   99999 non-null  object\n",
      " 7   year      99999 non-null  int64 \n",
      "dtypes: int64(4), object(4)\n",
      "memory usage: 6.1+ MB\n"
     ]
    }
   ],
   "source": [
    "time_df.info()"
   ]
  },
  {
   "cell_type": "code",
   "execution_count": 110,
   "id": "7e006f3d",
   "metadata": {},
   "outputs": [
    {
     "data": {
      "text/plain": [
       "time_key    0\n",
       "date        0\n",
       "hour        0\n",
       "day         0\n",
       "week        0\n",
       "month       0\n",
       "quarter     0\n",
       "year        0\n",
       "dtype: int64"
      ]
     },
     "execution_count": 110,
     "metadata": {},
     "output_type": "execute_result"
    }
   ],
   "source": [
    "time_df.isna().sum()"
   ]
  },
  {
   "cell_type": "code",
   "execution_count": 111,
   "id": "216c2622",
   "metadata": {},
   "outputs": [
    {
     "data": {
      "text/html": [
       "<div>\n",
       "<style scoped>\n",
       "    .dataframe tbody tr th:only-of-type {\n",
       "        vertical-align: middle;\n",
       "    }\n",
       "\n",
       "    .dataframe tbody tr th {\n",
       "        vertical-align: top;\n",
       "    }\n",
       "\n",
       "    .dataframe thead th {\n",
       "        text-align: right;\n",
       "    }\n",
       "</style>\n",
       "<table border=\"1\" class=\"dataframe\">\n",
       "  <thead>\n",
       "    <tr style=\"text-align: right;\">\n",
       "      <th></th>\n",
       "      <th>time_key</th>\n",
       "      <th>date</th>\n",
       "      <th>hour</th>\n",
       "      <th>day</th>\n",
       "      <th>week</th>\n",
       "      <th>month</th>\n",
       "      <th>quarter</th>\n",
       "      <th>year</th>\n",
       "    </tr>\n",
       "  </thead>\n",
       "  <tbody>\n",
       "    <tr>\n",
       "      <th>0</th>\n",
       "      <td>T00001</td>\n",
       "      <td>2017-05-20 14:56:00</td>\n",
       "      <td>14</td>\n",
       "      <td>20</td>\n",
       "      <td>3rd Week</td>\n",
       "      <td>5</td>\n",
       "      <td>Q2</td>\n",
       "      <td>2017</td>\n",
       "    </tr>\n",
       "    <tr>\n",
       "      <th>1</th>\n",
       "      <td>T00002</td>\n",
       "      <td>2015-01-30 22:14:00</td>\n",
       "      <td>22</td>\n",
       "      <td>30</td>\n",
       "      <td>4th Week</td>\n",
       "      <td>1</td>\n",
       "      <td>Q1</td>\n",
       "      <td>2015</td>\n",
       "    </tr>\n",
       "    <tr>\n",
       "      <th>2</th>\n",
       "      <td>T00003</td>\n",
       "      <td>2020-03-14 02:34:00</td>\n",
       "      <td>2</td>\n",
       "      <td>14</td>\n",
       "      <td>2nd Week</td>\n",
       "      <td>3</td>\n",
       "      <td>Q1</td>\n",
       "      <td>2020</td>\n",
       "    </tr>\n",
       "    <tr>\n",
       "      <th>3</th>\n",
       "      <td>T00004</td>\n",
       "      <td>2018-04-27 12:19:00</td>\n",
       "      <td>12</td>\n",
       "      <td>27</td>\n",
       "      <td>4th Week</td>\n",
       "      <td>4</td>\n",
       "      <td>Q2</td>\n",
       "      <td>2018</td>\n",
       "    </tr>\n",
       "    <tr>\n",
       "      <th>4</th>\n",
       "      <td>T00005</td>\n",
       "      <td>2018-04-14 10:43:00</td>\n",
       "      <td>10</td>\n",
       "      <td>14</td>\n",
       "      <td>2nd Week</td>\n",
       "      <td>4</td>\n",
       "      <td>Q2</td>\n",
       "      <td>2018</td>\n",
       "    </tr>\n",
       "  </tbody>\n",
       "</table>\n",
       "</div>"
      ],
      "text/plain": [
       "  time_key                date  hour  day      week  month quarter  year\n",
       "0   T00001 2017-05-20 14:56:00    14   20  3rd Week      5      Q2  2017\n",
       "1   T00002 2015-01-30 22:14:00    22   30  4th Week      1      Q1  2015\n",
       "2   T00003 2020-03-14 02:34:00     2   14  2nd Week      3      Q1  2020\n",
       "3   T00004 2018-04-27 12:19:00    12   27  4th Week      4      Q2  2018\n",
       "4   T00005 2018-04-14 10:43:00    10   14  2nd Week      4      Q2  2018"
      ]
     },
     "execution_count": 111,
     "metadata": {},
     "output_type": "execute_result"
    }
   ],
   "source": [
    "time_df['date'] = pd.to_datetime(time_df['date'],format = '%d-%m-%Y %H:%M')\n",
    "time_df.head()"
   ]
  },
  {
   "cell_type": "code",
   "execution_count": 116,
   "id": "e996b9e9",
   "metadata": {},
   "outputs": [
    {
     "name": "stdout",
     "output_type": "stream",
     "text": [
      "<class 'pandas.core.frame.DataFrame'>\n",
      "RangeIndex: 99999 entries, 0 to 99998\n",
      "Data columns (total 8 columns):\n",
      " #   Column    Non-Null Count  Dtype         \n",
      "---  ------    --------------  -----         \n",
      " 0   time_key  99999 non-null  object        \n",
      " 1   date      99999 non-null  datetime64[ns]\n",
      " 2   hour      99999 non-null  int64         \n",
      " 3   day       99999 non-null  int64         \n",
      " 4   week      99999 non-null  object        \n",
      " 5   month     99999 non-null  int64         \n",
      " 6   quarter   99999 non-null  object        \n",
      " 7   year      99999 non-null  int64         \n",
      "dtypes: datetime64[ns](1), int64(4), object(3)\n",
      "memory usage: 6.1+ MB\n"
     ]
    }
   ],
   "source": [
    "time_df['date'] = pd.to_datetime(time_df['date'])\n",
    "time_df.info()"
   ]
  },
  {
   "cell_type": "code",
   "execution_count": 114,
   "id": "c97c98b3",
   "metadata": {},
   "outputs": [
    {
     "name": "stdout",
     "output_type": "stream",
     "text": [
      "<class 'pandas.core.frame.DataFrame'>\n",
      "RangeIndex: 99999 entries, 0 to 99998\n",
      "Data columns (total 8 columns):\n",
      " #   Column    Non-Null Count  Dtype         \n",
      "---  ------    --------------  -----         \n",
      " 0   time_key  99999 non-null  object        \n",
      " 1   date      99999 non-null  datetime64[ns]\n",
      " 2   hour      99999 non-null  int64         \n",
      " 3   day       99999 non-null  int64         \n",
      " 4   week      99999 non-null  object        \n",
      " 5   month     99999 non-null  int64         \n",
      " 6   quarter   99999 non-null  object        \n",
      " 7   year      99999 non-null  int64         \n",
      "dtypes: datetime64[ns](1), int64(4), object(3)\n",
      "memory usage: 6.1+ MB\n"
     ]
    }
   ],
   "source": [
    "time_df.info()"
   ]
  },
  {
   "cell_type": "code",
   "execution_count": 117,
   "id": "818e3ff2",
   "metadata": {},
   "outputs": [],
   "source": [
    "# fact_df = pd.read_csv(\"/Users/Administrator/HDA-Tech-Learning/notebook/e-commerece_data.csv\")\n",
    "# fact_df.head()"
   ]
  },
  {
   "cell_type": "code",
   "execution_count": 37,
   "id": "d312350c",
   "metadata": {},
   "outputs": [],
   "source": []
  },
  {
   "cell_type": "code",
   "execution_count": 112,
   "id": "6b0cbd45",
   "metadata": {},
   "outputs": [
    {
     "data": {
      "text/html": [
       "<div>\n",
       "<style scoped>\n",
       "    .dataframe tbody tr th:only-of-type {\n",
       "        vertical-align: middle;\n",
       "    }\n",
       "\n",
       "    .dataframe tbody tr th {\n",
       "        vertical-align: top;\n",
       "    }\n",
       "\n",
       "    .dataframe thead th {\n",
       "        text-align: right;\n",
       "    }\n",
       "</style>\n",
       "<table border=\"1\" class=\"dataframe\">\n",
       "  <thead>\n",
       "    <tr style=\"text-align: right;\">\n",
       "      <th></th>\n",
       "      <th>payment_key</th>\n",
       "      <th>coustomer_key</th>\n",
       "      <th>time_key</th>\n",
       "      <th>item_key</th>\n",
       "      <th>store_key</th>\n",
       "      <th>quantity</th>\n",
       "      <th>unit</th>\n",
       "      <th>unit_price</th>\n",
       "      <th>total_price</th>\n",
       "    </tr>\n",
       "  </thead>\n",
       "  <tbody>\n",
       "    <tr>\n",
       "      <th>0</th>\n",
       "      <td>P026</td>\n",
       "      <td>C004510</td>\n",
       "      <td>T049189</td>\n",
       "      <td>I00177</td>\n",
       "      <td>S00307</td>\n",
       "      <td>1</td>\n",
       "      <td>ct</td>\n",
       "      <td>35.0</td>\n",
       "      <td>35.0</td>\n",
       "    </tr>\n",
       "    <tr>\n",
       "      <th>1</th>\n",
       "      <td>P022</td>\n",
       "      <td>C008967</td>\n",
       "      <td>T041209</td>\n",
       "      <td>I00248</td>\n",
       "      <td>S00595</td>\n",
       "      <td>1</td>\n",
       "      <td>rolls</td>\n",
       "      <td>26.0</td>\n",
       "      <td>26.0</td>\n",
       "    </tr>\n",
       "    <tr>\n",
       "      <th>2</th>\n",
       "      <td>P030</td>\n",
       "      <td>C007261</td>\n",
       "      <td>T03633</td>\n",
       "      <td>I00195</td>\n",
       "      <td>S00496</td>\n",
       "      <td>8</td>\n",
       "      <td>ct</td>\n",
       "      <td>12.5</td>\n",
       "      <td>100.0</td>\n",
       "    </tr>\n",
       "    <tr>\n",
       "      <th>3</th>\n",
       "      <td>P032</td>\n",
       "      <td>C007048</td>\n",
       "      <td>T084631</td>\n",
       "      <td>I00131</td>\n",
       "      <td>S0086</td>\n",
       "      <td>8</td>\n",
       "      <td>ct</td>\n",
       "      <td>14.0</td>\n",
       "      <td>112.0</td>\n",
       "    </tr>\n",
       "    <tr>\n",
       "      <th>4</th>\n",
       "      <td>P014</td>\n",
       "      <td>C006430</td>\n",
       "      <td>T071276</td>\n",
       "      <td>I00050</td>\n",
       "      <td>S00488</td>\n",
       "      <td>8</td>\n",
       "      <td>cans</td>\n",
       "      <td>8.0</td>\n",
       "      <td>64.0</td>\n",
       "    </tr>\n",
       "  </tbody>\n",
       "</table>\n",
       "</div>"
      ],
      "text/plain": [
       "  payment_key coustomer_key time_key item_key store_key  quantity   unit  \\\n",
       "0        P026       C004510  T049189   I00177    S00307         1     ct   \n",
       "1        P022       C008967  T041209   I00248    S00595         1  rolls   \n",
       "2        P030       C007261   T03633   I00195    S00496         8     ct   \n",
       "3        P032       C007048  T084631   I00131     S0086         8     ct   \n",
       "4        P014       C006430  T071276   I00050    S00488         8   cans   \n",
       "\n",
       "   unit_price  total_price  \n",
       "0        35.0         35.0  \n",
       "1        26.0         26.0  \n",
       "2        12.5        100.0  \n",
       "3        14.0        112.0  \n",
       "4         8.0         64.0  "
      ]
     },
     "execution_count": 112,
     "metadata": {},
     "output_type": "execute_result"
    }
   ],
   "source": [
    "fact_df = pd.read_excel(open(df + \"e-commerece_data.xlsx\",\"rb\"), sheet_name=0, engine='openpyxl')\n",
    "fact_df.head()"
   ]
  },
  {
   "cell_type": "code",
   "execution_count": 115,
   "id": "d63df3bd",
   "metadata": {},
   "outputs": [
    {
     "name": "stdout",
     "output_type": "stream",
     "text": [
      "<class 'pandas.core.frame.DataFrame'>\n",
      "RangeIndex: 1000000 entries, 0 to 999999\n",
      "Data columns (total 9 columns):\n",
      " #   Column         Non-Null Count    Dtype  \n",
      "---  ------         --------------    -----  \n",
      " 0   payment_key    1000000 non-null  object \n",
      " 1   coustomer_key  1000000 non-null  object \n",
      " 2   time_key       1000000 non-null  object \n",
      " 3   item_key       1000000 non-null  object \n",
      " 4   store_key      1000000 non-null  object \n",
      " 5   quantity       1000000 non-null  int64  \n",
      " 6   unit           996277 non-null   object \n",
      " 7   unit_price     1000000 non-null  float64\n",
      " 8   total_price    1000000 non-null  float64\n",
      "dtypes: float64(2), int64(1), object(6)\n",
      "memory usage: 68.7+ MB\n"
     ]
    }
   ],
   "source": [
    "fact_df.info() "
   ]
  },
  {
   "cell_type": "code",
   "execution_count": 118,
   "id": "710ea611",
   "metadata": {},
   "outputs": [
    {
     "data": {
      "text/plain": [
       "payment_key         0\n",
       "coustomer_key       0\n",
       "time_key            0\n",
       "item_key            0\n",
       "store_key           0\n",
       "quantity            0\n",
       "unit             3723\n",
       "unit_price          0\n",
       "total_price         0\n",
       "dtype: int64"
      ]
     },
     "execution_count": 118,
     "metadata": {},
     "output_type": "execute_result"
    }
   ],
   "source": [
    "fact_df.isna().sum()"
   ]
  },
  {
   "cell_type": "code",
   "execution_count": 63,
   "id": "a1373958",
   "metadata": {},
   "outputs": [
    {
     "data": {
      "text/plain": [
       "payment_key      0\n",
       "coustomer_key    0\n",
       "time_key         0\n",
       "item_key         0\n",
       "store_key        0\n",
       "quantity         0\n",
       "unit             0\n",
       "unit_price       0\n",
       "total_price      0\n",
       "dtype: int64"
      ]
     },
     "execution_count": 63,
     "metadata": {},
     "output_type": "execute_result"
    }
   ],
   "source": [
    "fact_df.dropna(inplace = True)\n",
    "fact_df.isna().sum()"
   ]
  },
  {
   "cell_type": "code",
   "execution_count": 119,
   "id": "2e4d4df9",
   "metadata": {},
   "outputs": [
    {
     "data": {
      "text/plain": [
       "999961"
      ]
     },
     "execution_count": 119,
     "metadata": {},
     "output_type": "execute_result"
    }
   ],
   "source": [
    "# df = load_data()\n",
    "fact_df.payment_key.duplicated().sum()"
   ]
  },
  {
   "cell_type": "code",
   "execution_count": null,
   "id": "018638c5",
   "metadata": {},
   "outputs": [],
   "source": []
  },
  {
   "cell_type": "code",
   "execution_count": 59,
   "id": "cd295d6b",
   "metadata": {},
   "outputs": [
    {
     "data": {
      "text/plain": [
       "payment_key      996238\n",
       "coustomer_key         0\n",
       "time_key              0\n",
       "item_key              0\n",
       "store_key             0\n",
       "quantity              0\n",
       "unit                  0\n",
       "unit_price            0\n",
       "total_price           0\n",
       "dtype: int64"
      ]
     },
     "execution_count": 59,
     "metadata": {},
     "output_type": "execute_result"
    }
   ],
   "source": [
    "fact_df['payment_key'] = fact_df['payment_key'].drop_duplicates(keep='first')\n",
    "fact_df.isna().sum()"
   ]
  },
  {
   "cell_type": "code",
   "execution_count": 32,
   "id": "01b3f615",
   "metadata": {},
   "outputs": [
    {
     "data": {
      "text/plain": [
       "payment_key      0\n",
       "coustomer_key    0\n",
       "time_key         0\n",
       "item_key         0\n",
       "store_key        0\n",
       "quantity         0\n",
       "unit             0\n",
       "unit_price       0\n",
       "total_price      0\n",
       "dtype: int64"
      ]
     },
     "execution_count": 32,
     "metadata": {},
     "output_type": "execute_result"
    }
   ],
   "source": [
    "fact_df.dropna(inplace = True)\n",
    "fact_df.isna().sum()"
   ]
  },
  {
   "cell_type": "markdown",
   "id": "46ec1bde",
   "metadata": {},
   "source": [
    "# Connection with postgreesql"
   ]
  },
  {
   "cell_type": "code",
   "execution_count": 120,
   "id": "cc45c293",
   "metadata": {},
   "outputs": [],
   "source": [
    "class PostgresConnection(object):\n",
    "    def __init__(self):\n",
    "        self.connection = psycopg2.connect(database=\"ecomdb\",\n",
    "                                           user = \"postgres\",\n",
    "                                           password = \"123456\",\n",
    "                                           host = \"127.0.0.1\",\n",
    "                                           port = \"5433\")\n",
    "\n",
    "    def getConnection(self):\n",
    "        print(\"successfully connected to database\")\n",
    "        return self.connection"
   ]
  },
  {
   "cell_type": "code",
   "execution_count": 121,
   "id": "862bca19",
   "metadata": {},
   "outputs": [
    {
     "name": "stdout",
     "output_type": "stream",
     "text": [
      "successfully connected to database\n"
     ]
    }
   ],
   "source": [
    "con = PostgresConnection().getConnection()"
   ]
  },
  {
   "cell_type": "markdown",
   "id": "e08455a1",
   "metadata": {},
   "source": [
    "# Load Data"
   ]
  },
  {
   "cell_type": "code",
   "execution_count": null,
   "id": "f52d210f",
   "metadata": {},
   "outputs": [],
   "source": []
  },
  {
   "cell_type": "code",
   "execution_count": 122,
   "id": "7ca0be11",
   "metadata": {},
   "outputs": [],
   "source": [
    "#Trans_dim table \n",
    "\n",
    "insert_sql = \"INSERT INTO ecomdb.trans_dim ( payment_key, trans_type, bank_name)\" \\\n",
    "            \" VALUES (%s, %s, %s)\"\n",
    "cur = con.cursor()\n",
    "psycopg2.extras.execute_batch(cur, insert_sql, trans_dim.values)\n",
    "con.commit()\n",
    "cur.close()"
   ]
  },
  {
   "cell_type": "code",
   "execution_count": 123,
   "id": "5681df4b",
   "metadata": {},
   "outputs": [],
   "source": [
    "# cur = con.cursor()\n",
    "# select_stmt = \"SELECT t.payment_key , t.trans_type, t.bank_name \" \\\n",
    "#               \"FROM ecomdb.trans_dim t\"\n",
    "# cur.execute(select_stmt)\n",
    "# records = cur.fetchall()"
   ]
  },
  {
   "cell_type": "code",
   "execution_count": 124,
   "id": "05c3e578",
   "metadata": {},
   "outputs": [],
   "source": [
    "#store_dim table\n",
    "sql_for_store = \"INSERT INTO ecomdb.store_dim(store_key,division, district,upazila)\"\\\n",
    "                \"VALUES (%s , %s, %s, %s)\"\n",
    "cur = con.cursor()\n",
    "psycopg2.extras.execute_batch(cur,sql_for_store,store_df.values)\n",
    "con.commit()\n",
    "cur.close()"
   ]
  },
  {
   "cell_type": "code",
   "execution_count": 125,
   "id": "4a828808",
   "metadata": {},
   "outputs": [],
   "source": [
    "#Item_dim table \n",
    "\n",
    "sql_for_item = \"INSERT INTO ecomdb.item_dim(item_key, item_name, desc_,unit_price, man_country, supplier, unit)\"\\\n",
    "               \" VALUES (%s, %s, %s, %s, %s, %s, %s)\"\n",
    "cur = con.cursor()\n",
    "psycopg2.extras.execute_batch(cur, sql_for_item , item_df.values)\n",
    "con.commit()\n",
    "cur.close()"
   ]
  },
  {
   "cell_type": "code",
   "execution_count": 126,
   "id": "fc802b8a",
   "metadata": {},
   "outputs": [],
   "source": [
    "# sql_for_item = \"INSERT INTO ecomdb.item_dim(item_key, item_name, desc_,unit_price, man_country, supplier, unit)\"\\\n",
    "#                \" VALUES (%s, %s, %s, %s, %s, %s, %s)\"\n",
    "\n",
    "# curr = con.cursor()\n",
    "# curr.execute(sql_for_item)"
   ]
  },
  {
   "cell_type": "code",
   "execution_count": 127,
   "id": "7a863ec1",
   "metadata": {},
   "outputs": [],
   "source": [
    "#Customer table \n",
    "sql_for_customer = \"INSERT INTO ecomdb.coustomer_dim(coustomer_key,name,contact_no,nid)\"\\\n",
    "                    \"VALUES (%s,%s,%s,%s)\"\n",
    "cur = con.cursor()\n",
    "psycopg2.extras.execute_batch(cur,sql_for_customer, customer_df.values)\n",
    "con.commit()\n",
    "cur.close()"
   ]
  },
  {
   "cell_type": "markdown",
   "id": "0ae810eb",
   "metadata": {},
   "source": [
    "#### Time table "
   ]
  },
  {
   "cell_type": "code",
   "execution_count": 128,
   "id": "af552466",
   "metadata": {},
   "outputs": [],
   "source": [
    "#Time table \n",
    "sql_for_time = \"INSERT INTO ecomdb.time_dim(time_key, date, hour , day, week , month , quarter, year)\"\\\n",
    "               \"VALUES(%s,%s,%s,%s,%s,%s,%s,%s)\"\n",
    "cur = con.cursor()\n",
    "psycopg2.extras.execute_batch(cur,sql_for_time, time_df.values)\n",
    "con.commit()\n",
    "cur.close()"
   ]
  },
  {
   "cell_type": "markdown",
   "id": "9f45e9c7",
   "metadata": {},
   "source": [
    "#### Fact date"
   ]
  },
  {
   "cell_type": "code",
   "execution_count": 129,
   "id": "a5a1bee7",
   "metadata": {},
   "outputs": [],
   "source": [
    "sql_for_fact = \"INSERT INTO ecomdb.fact_table(payment_key,coustomer_key,time_key,item_key,store_key, quantity,unit,unit_price, total_price)\"\\\n",
    "               \"VALUES(%s, %s, %s, %s,%s, %s, %s, %s, %s)\"   \n",
    "cur = con.cursor()\n",
    "psycopg2.extras.execute_batch(cur, sql_for_fact , fact_df.values)\n",
    "con.commit()\n",
    "cur.close()"
   ]
  },
  {
   "cell_type": "code",
   "execution_count": null,
   "id": "80cbe2ae",
   "metadata": {},
   "outputs": [],
   "source": []
  },
  {
   "cell_type": "code",
   "execution_count": 194,
   "id": "0d299a68",
   "metadata": {},
   "outputs": [],
   "source": [
    "mycursor = con.cursor()\n",
    "query = \"SELECT payment_key ,coustomer_key FROM ecombd where unit='ct' \"\n"
   ]
  },
  {
   "cell_type": "code",
   "execution_count": 195,
   "id": "48ba1e51",
   "metadata": {},
   "outputs": [],
   "source": []
  },
  {
   "cell_type": "code",
   "execution_count": 587,
   "id": "71249256",
   "metadata": {},
   "outputs": [],
   "source": [
    "# len(record)"
   ]
  },
  {
   "cell_type": "code",
   "execution_count": 586,
   "id": "c8282c38",
   "metadata": {},
   "outputs": [],
   "source": [
    "# mycursor.execute(query)\n",
    "# record = mycursor.fetchall()\n",
    "# record[:20]"
   ]
  },
  {
   "cell_type": "markdown",
   "id": "e6077534",
   "metadata": {},
   "source": [
    "# Data insertion"
   ]
  },
  {
   "cell_type": "code",
   "execution_count": 199,
   "id": "21c5b5a0",
   "metadata": {},
   "outputs": [],
   "source": [
    "mycursor.execute(\"INSERT INTO ecombd (coustomer_key,time_key, unit) VALUES ('C123456','T123456','BG')\")"
   ]
  },
  {
   "cell_type": "code",
   "execution_count": 200,
   "id": "c62fbb32",
   "metadata": {},
   "outputs": [],
   "source": [
    "mycursor.execute(\"INSERT INTO ecombd (coustomer_key,time_key, unit) VALUES ('C78910','T78910','BG')\")"
   ]
  },
  {
   "cell_type": "code",
   "execution_count": 201,
   "id": "89eb2e5c",
   "metadata": {},
   "outputs": [],
   "source": []
  },
  {
   "cell_type": "code",
   "execution_count": 202,
   "id": "8003f730",
   "metadata": {},
   "outputs": [],
   "source": [
    "query = \"SELECT *FROM ecombd WHERE unit='BG'\""
   ]
  },
  {
   "cell_type": "code",
   "execution_count": 203,
   "id": "953cf7fa",
   "metadata": {},
   "outputs": [],
   "source": [
    "mycursor.execute(query)\n",
    "records = mycursor.fetchall()"
   ]
  },
  {
   "cell_type": "code",
   "execution_count": 204,
   "id": "37300dcc",
   "metadata": {},
   "outputs": [
    {
     "data": {
      "text/plain": [
       "[(None, 'C123456', 'T123456', None, None, None, 'BG', None, None),\n",
       " (None, 'C78910', 'T78910', None, None, None, 'BG', None, None)]"
      ]
     },
     "execution_count": 204,
     "metadata": {},
     "output_type": "execute_result"
    }
   ],
   "source": [
    "records"
   ]
  },
  {
   "cell_type": "code",
   "execution_count": null,
   "id": "5bb30203",
   "metadata": {},
   "outputs": [],
   "source": [
    ".."
   ]
  }
 ],
 "metadata": {
  "kernelspec": {
   "display_name": "Python 3 (ipykernel)",
   "language": "python",
   "name": "python3"
  },
  "language_info": {
   "codemirror_mode": {
    "name": "ipython",
    "version": 3
   },
   "file_extension": ".py",
   "mimetype": "text/x-python",
   "name": "python",
   "nbconvert_exporter": "python",
   "pygments_lexer": "ipython3",
   "version": "3.8.12"
  }
 },
 "nbformat": 4,
 "nbformat_minor": 5
}
