{
 "cells": [
  {
   "cell_type": "code",
   "execution_count": 38,
   "id": "262636e9",
   "metadata": {},
   "outputs": [
    {
     "name": "stdout",
     "output_type": "stream",
     "text": [
      "Requirement already satisfied: psycopg2 in c:\\users\\administrator\\.conda\\envs\\hda\\lib\\site-packages (2.9.3)\n",
      "Note: you may need to restart the kernel to use updated packages.\n"
     ]
    }
   ],
   "source": [
    "pip install psycopg2"
   ]
  },
  {
   "cell_type": "code",
   "execution_count": 39,
   "id": "38fd7510",
   "metadata": {},
   "outputs": [
    {
     "name": "stdout",
     "output_type": "stream",
     "text": [
      "Requirement already satisfied: openpyxl in c:\\users\\administrator\\.conda\\envs\\hda\\lib\\site-packages (3.0.9)Note: you may need to restart the kernel to use updated packages.\n",
      "\n",
      "Requirement already satisfied: et-xmlfile in c:\\users\\administrator\\.conda\\envs\\hda\\lib\\site-packages (from openpyxl) (1.1.0)\n"
     ]
    }
   ],
   "source": [
    "pip install openpyxl"
   ]
  },
  {
   "cell_type": "code",
   "execution_count": 40,
   "id": "fbf597e6",
   "metadata": {},
   "outputs": [],
   "source": [
    "import psycopg2\n",
    "import pandas as pd\n",
    "import psycopg2.extras\n",
    "import psycopg2"
   ]
  },
  {
   "cell_type": "code",
   "execution_count": 41,
   "id": "bc4460b2",
   "metadata": {},
   "outputs": [],
   "source": [
    "class PostgresConnection(object):\n",
    "    def __init__(self):\n",
    "        self.connection = psycopg2.connect(database=\"ecomdb\",\n",
    "                                           user = \"postgres\",\n",
    "                                           password = \"123456\",\n",
    "                                           host = \"127.0.0.1\",\n",
    "                                           port = \"5433\")\n",
    "\n",
    "    def getConnection(self):\n",
    "        print(\"successfully connected to database\")\n",
    "        return self.connection"
   ]
  },
  {
   "cell_type": "code",
   "execution_count": 42,
   "id": "d1f6e72f",
   "metadata": {},
   "outputs": [
    {
     "name": "stdout",
     "output_type": "stream",
     "text": [
      "successfully connected to database\n"
     ]
    }
   ],
   "source": [
    "con = PostgresConnection().getConnection()"
   ]
  },
  {
   "cell_type": "code",
   "execution_count": 43,
   "id": "fe9b11b1",
   "metadata": {},
   "outputs": [
    {
     "data": {
      "text/plain": [
       "[('P001', 'cash', 'None'),\n",
       " ('P002', 'card', 'AB Bank Limited'),\n",
       " ('P003', 'card', 'Bangladesh Commerce Bank Limited'),\n",
       " ('P004', 'card', 'Bank Asia Limited'),\n",
       " ('P005', 'card', 'BRAC Bank Limited'),\n",
       " ('P006', 'card', 'Citizens Bank Limited'),\n",
       " ('P007', 'card', 'City Bank Limited'),\n",
       " ('P008', 'card', 'Community Bank Bangladesh Limited'),\n",
       " ('P009', 'card', 'Dhaka Bank Limited'),\n",
       " ('P010', 'card', 'Dutch-Bangla Bank Limited'),\n",
       " ('P011', 'card', 'Eastern Bank Limited'),\n",
       " ('P012', 'card', 'IFIC Bank Limited'),\n",
       " ('P013', 'card', 'Jamuna Bank Limited'),\n",
       " ('P014', 'card', 'Meghna Bank Limited'),\n",
       " ('P015', 'card', 'Mercantile Bank Limited'),\n",
       " ('P016', 'card', 'Midland Bank Limited'),\n",
       " ('P017', 'card', 'Modhumoti Bank Limited'),\n",
       " ('P018', 'card', 'Mutual Trust Bank Limited'),\n",
       " ('P019', 'card', 'National Bank Limited'),\n",
       " ('P020', 'card', 'National Credit & Commerce Bank Limited'),\n",
       " ('P021', 'card', 'NRB Bank Limited'),\n",
       " ('P022', 'card', 'NRB Commercial Bank Ltd'),\n",
       " ('P023', 'card', 'NRB Global Bank Ltd'),\n",
       " ('P024', 'card', 'One Bank Limited'),\n",
       " ('P025', 'card', 'Padma Bank Limited'),\n",
       " ('P026', 'card', 'Premier Bank Limited'),\n",
       " ('P027', 'card', 'Prime Bank Limited'),\n",
       " ('P028', 'card', 'Pubali Bank Limited'),\n",
       " ('P029', 'card', 'Standard Bank Limited'),\n",
       " ('P030', 'card', 'Shimanto Bank Ltd'),\n",
       " ('P031', 'card', 'Southeast Bank Limited'),\n",
       " ('P032', 'card', 'South Bangla Agriculture and Commerce Bank Limited'),\n",
       " ('P033', 'card', 'Trust Bank Limited'),\n",
       " ('P034', 'card', 'United Commercial Bank Ltd'),\n",
       " ('P035', 'card', 'Uttara Bank Limited'),\n",
       " ('P036', 'card', 'Bengal Commercial Bank Ltd'),\n",
       " ('P037', 'mobile', 'Bkash'),\n",
       " ('P038', 'mobile', 'Rocket'),\n",
       " ('P039', 'mobile', 'Nagad')]"
      ]
     },
     "execution_count": 43,
     "metadata": {},
     "output_type": "execute_result"
    }
   ],
   "source": [
    "cur = con.cursor()\n",
    "select_stmt = \"SELECT t.payment_key , t.trans_type, t.bank_name \" \\\n",
    "              \"FROM ecomdb_star_schema.trans_dim t\"\n",
    "cur.execute(select_stmt)\n",
    "records = cur.fetchall()\n",
    "records"
   ]
  },
  {
   "cell_type": "code",
   "execution_count": 44,
   "id": "ff6876c0",
   "metadata": {},
   "outputs": [
    {
     "name": "stdout",
     "output_type": "stream",
     "text": [
      "<class 'pandas.core.frame.DataFrame'>\n",
      "RangeIndex: 39 entries, 0 to 38\n",
      "Data columns (total 3 columns):\n",
      " #   Column       Non-Null Count  Dtype \n",
      "---  ------       --------------  ----- \n",
      " 0   payment_key  39 non-null     object\n",
      " 1   trans_type   39 non-null     object\n",
      " 2   bank_name    39 non-null     object\n",
      "dtypes: object(3)\n",
      "memory usage: 1.0+ KB\n"
     ]
    }
   ],
   "source": [
    "trans_df = pd.DataFrame(list(records), columns=['payment_key', 'trans_type', 'bank_name'])\n",
    "trans_df.info()"
   ]
  },
  {
   "cell_type": "code",
   "execution_count": 47,
   "id": "10856b8d",
   "metadata": {},
   "outputs": [
    {
     "data": {
      "text/plain": [
       "[(None, Decimal('3541.50')),\n",
       " ('DHAKA', Decimal('105.0')),\n",
       " ('DHAKA', Decimal('74.25')),\n",
       " ('DHAKA', Decimal('48.0')),\n",
       " ('RAJSHAHI', Decimal('45.0')),\n",
       " ('CHITTAGONG', Decimal('170.0')),\n",
       " ('DHAKA', Decimal('35.0')),\n",
       " ('DHAKA', Decimal('156.0')),\n",
       " ('DHAKA', Decimal('24.0')),\n",
       " ('DHAKA', Decimal('209.0')),\n",
       " ('DHAKA', Decimal('60.0')),\n",
       " ('SYLHET', Decimal('60.0')),\n",
       " ('CHITTAGONG', Decimal('60.0')),\n",
       " ('DHAKA', Decimal('26.0')),\n",
       " ('RANGPUR', Decimal('270.0')),\n",
       " ('KHULNA', Decimal('136.0')),\n",
       " ('RAJSHAHI', Decimal('74.25')),\n",
       " ('RANGPUR', Decimal('20.0')),\n",
       " ('BARISAL', Decimal('6.75')),\n",
       " ('CHITTAGONG', Decimal('153.0')),\n",
       " ('DHAKA', Decimal('110.0')),\n",
       " ('DHAKA', Decimal('104.0')),\n",
       " ('SYLHET', Decimal('14.0')),\n",
       " ('CHITTAGONG', Decimal('47.25')),\n",
       " ('DHAKA', Decimal('120.0')),\n",
       " ('RAJSHAHI', Decimal('75.0')),\n",
       " ('RAJSHAHI', Decimal('30.0')),\n",
       " ('CHITTAGONG', Decimal('64.0')),\n",
       " ('BARISAL', Decimal('160.0')),\n",
       " ('KHULNA', Decimal('31.0')),\n",
       " ('DHAKA', Decimal('150.0')),\n",
       " ('SYLHET', Decimal('90.0')),\n",
       " ('RAJSHAHI', Decimal('96.0')),\n",
       " ('KHULNA', Decimal('120.0')),\n",
       " ('RANGPUR', Decimal('112.0')),\n",
       " ('CHITTAGONG', Decimal('15.0')),\n",
       " ('CHITTAGONG', Decimal('100.0')),\n",
       " ('DHAKA', Decimal('153.0')),\n",
       " ('CHITTAGONG', Decimal('128.0')),\n",
       " ('RANGPUR', Decimal('90.0')),\n",
       " ('RAJSHAHI', Decimal('320.25')),\n",
       " ('DHAKA', Decimal('1374.25')),\n",
       " ('CHITTAGONG', Decimal('737.25')),\n",
       " ('BARISAL', Decimal('166.75')),\n",
       " ('KHULNA', Decimal('287.0')),\n",
       " ('RANGPUR', Decimal('492.0')),\n",
       " ('SYLHET', Decimal('164.0')),\n",
       " (None, Decimal('14.0')),\n",
       " (None, Decimal('64.0')),\n",
       " (None, Decimal('112.0')),\n",
       " (None, Decimal('180.0')),\n",
       " (None, Decimal('240.0')),\n",
       " (None, Decimal('31.0')),\n",
       " (None, Decimal('26.0')),\n",
       " (None, Decimal('24.0')),\n",
       " (None, Decimal('48.0')),\n",
       " (None, Decimal('6.75')),\n",
       " (None, Decimal('110.0')),\n",
       " (None, Decimal('160.0')),\n",
       " (None, Decimal('104.0')),\n",
       " (None, Decimal('75.0')),\n",
       " (None, Decimal('270.0')),\n",
       " (None, Decimal('128.0')),\n",
       " (None, Decimal('306.0')),\n",
       " (None, Decimal('47.25')),\n",
       " (None, Decimal('148.50')),\n",
       " (None, Decimal('100.0')),\n",
       " (None, Decimal('209.0')),\n",
       " (None, Decimal('156.0')),\n",
       " (None, Decimal('136.0')),\n",
       " (None, Decimal('30.0')),\n",
       " (None, Decimal('15.0')),\n",
       " (None, Decimal('96.0')),\n",
       " (None, Decimal('170.0')),\n",
       " (None, Decimal('45.0')),\n",
       " (None, Decimal('180.0')),\n",
       " (None, Decimal('20.0')),\n",
       " (None, Decimal('105.0')),\n",
       " (None, Decimal('150.0')),\n",
       " (None, Decimal('35.0'))]"
      ]
     },
     "execution_count": 47,
     "metadata": {},
     "output_type": "execute_result"
    }
   ],
   "source": [
    "cur = con.cursor()\n",
    "select_query = \"select s.division, sum(t.total_price)\"\\\n",
    "               \" from ecomdb.fact_table t \"\\\n",
    "               \"join ecomdb.store_dim s on s.store_key = t.store_key \"\\\n",
    "               \"group by cube (s.division , t.total_price)\"\n",
    "cur.execute(select_query)\n",
    "records = cur.fetchall()\n",
    "records"
   ]
  },
  {
   "cell_type": "code",
   "execution_count": 49,
   "id": "f0e25897",
   "metadata": {},
   "outputs": [
    {
     "ename": "AttributeError",
     "evalue": "'list' object has no attribute 'info'",
     "output_type": "error",
     "traceback": [
      "\u001b[1;31m---------------------------------------------------------------------------\u001b[0m",
      "\u001b[1;31mAttributeError\u001b[0m                            Traceback (most recent call last)",
      "\u001b[1;32mC:\\Users\\ADMINI~1\\AppData\\Local\\Temp/ipykernel_3316/3598427983.py\u001b[0m in \u001b[0;36m<module>\u001b[1;34m\u001b[0m\n\u001b[1;32m----> 1\u001b[1;33m \u001b[0mrecords\u001b[0m\u001b[1;33m.\u001b[0m\u001b[0minfo\u001b[0m\u001b[1;33m(\u001b[0m\u001b[1;33m)\u001b[0m\u001b[1;33m\u001b[0m\u001b[1;33m\u001b[0m\u001b[0m\n\u001b[0m",
      "\u001b[1;31mAttributeError\u001b[0m: 'list' object has no attribute 'info'"
     ]
    }
   ],
   "source": []
  },
  {
   "cell_type": "code",
   "execution_count": 50,
   "id": "82ef71fe",
   "metadata": {},
   "outputs": [
    {
     "name": "stdout",
     "output_type": "stream",
     "text": [
      "<class 'pandas.core.frame.DataFrame'>\n",
      "RangeIndex: 80 entries, 0 to 79\n",
      "Data columns (total 2 columns):\n",
      " #   Column       Non-Null Count  Dtype \n",
      "---  ------       --------------  ----- \n",
      " 0   division     46 non-null     object\n",
      " 1   total_price  80 non-null     object\n",
      "dtypes: object(2)\n",
      "memory usage: 1.4+ KB\n"
     ]
    }
   ],
   "source": [
    "query_1 = pd.DataFrame(list(records),columns = ['division','total_price'])\n",
    "query_1.head()\n",
    "# query_1['total_price'] = query_1['total_price'].astype('Int64')\n",
    "query_1.info()"
   ]
  },
  {
   "cell_type": "code",
   "execution_count": 53,
   "id": "72a6e8aa",
   "metadata": {},
   "outputs": [
    {
     "data": {
      "text/html": [
       "<div>\n",
       "<style scoped>\n",
       "    .dataframe tbody tr th:only-of-type {\n",
       "        vertical-align: middle;\n",
       "    }\n",
       "\n",
       "    .dataframe tbody tr th {\n",
       "        vertical-align: top;\n",
       "    }\n",
       "\n",
       "    .dataframe thead th {\n",
       "        text-align: right;\n",
       "    }\n",
       "</style>\n",
       "<table border=\"1\" class=\"dataframe\">\n",
       "  <thead>\n",
       "    <tr style=\"text-align: right;\">\n",
       "      <th></th>\n",
       "      <th>division</th>\n",
       "      <th>total_price</th>\n",
       "    </tr>\n",
       "  </thead>\n",
       "  <tbody>\n",
       "    <tr>\n",
       "      <th>0</th>\n",
       "      <td>None</td>\n",
       "      <td>3541.50</td>\n",
       "    </tr>\n",
       "    <tr>\n",
       "      <th>1</th>\n",
       "      <td>DHAKA</td>\n",
       "      <td>105.00</td>\n",
       "    </tr>\n",
       "    <tr>\n",
       "      <th>2</th>\n",
       "      <td>DHAKA</td>\n",
       "      <td>74.25</td>\n",
       "    </tr>\n",
       "    <tr>\n",
       "      <th>3</th>\n",
       "      <td>DHAKA</td>\n",
       "      <td>48.00</td>\n",
       "    </tr>\n",
       "    <tr>\n",
       "      <th>4</th>\n",
       "      <td>RAJSHAHI</td>\n",
       "      <td>45.00</td>\n",
       "    </tr>\n",
       "  </tbody>\n",
       "</table>\n",
       "</div>"
      ],
      "text/plain": [
       "   division  total_price\n",
       "0      None      3541.50\n",
       "1     DHAKA       105.00\n",
       "2     DHAKA        74.25\n",
       "3     DHAKA        48.00\n",
       "4  RAJSHAHI        45.00"
      ]
     },
     "execution_count": 53,
     "metadata": {},
     "output_type": "execute_result"
    }
   ],
   "source": [
    "query_1['total_price'] = query_1['total_price'].astype(str).astype(float)\n",
    "query_1.head()"
   ]
  },
  {
   "cell_type": "code",
   "execution_count": 54,
   "id": "60358c82",
   "metadata": {},
   "outputs": [],
   "source": [
    "import matplotlib.pyplot as plt\n",
    "import numpy as np\n"
   ]
  },
  {
   "cell_type": "code",
   "execution_count": 61,
   "id": "b9827ca4",
   "metadata": {},
   "outputs": [
    {
     "ename": "TypeError",
     "evalue": "bar() missing 1 required positional argument: 'height'",
     "output_type": "error",
     "traceback": [
      "\u001b[1;31m---------------------------------------------------------------------------\u001b[0m",
      "\u001b[1;31mTypeError\u001b[0m                                 Traceback (most recent call last)",
      "\u001b[1;32mC:\\Users\\ADMINI~1\\AppData\\Local\\Temp/ipykernel_3316/1104149035.py\u001b[0m in \u001b[0;36m<module>\u001b[1;34m\u001b[0m\n\u001b[0;32m      1\u001b[0m \u001b[1;31m# plt.pie(query_1.total_price, labels = query_1.division)\u001b[0m\u001b[1;33m\u001b[0m\u001b[1;33m\u001b[0m\u001b[1;33m\u001b[0m\u001b[0m\n\u001b[1;32m----> 2\u001b[1;33m \u001b[0mplt\u001b[0m\u001b[1;33m.\u001b[0m\u001b[0mbar\u001b[0m\u001b[1;33m(\u001b[0m\u001b[0mx\u001b[0m\u001b[1;33m=\u001b[0m\u001b[0mquery_1\u001b[0m\u001b[1;33m[\u001b[0m\u001b[1;34m'total_price'\u001b[0m\u001b[1;33m]\u001b[0m\u001b[1;33m,\u001b[0m\u001b[0my\u001b[0m\u001b[1;33m=\u001b[0m\u001b[0mquery_1\u001b[0m\u001b[1;33m[\u001b[0m\u001b[1;34m'division'\u001b[0m\u001b[1;33m]\u001b[0m\u001b[1;33m,\u001b[0m\u001b[0mrot\u001b[0m \u001b[1;33m=\u001b[0m \u001b[1;36m0\u001b[0m\u001b[1;33m)\u001b[0m\u001b[1;33m\u001b[0m\u001b[1;33m\u001b[0m\u001b[0m\n\u001b[0m\u001b[0;32m      3\u001b[0m \u001b[0mplt\u001b[0m\u001b[1;33m.\u001b[0m\u001b[0mlegend\u001b[0m\u001b[1;33m(\u001b[0m\u001b[1;33m)\u001b[0m\u001b[1;33m\u001b[0m\u001b[1;33m\u001b[0m\u001b[0m\n\u001b[0;32m      4\u001b[0m \u001b[0mplt\u001b[0m\u001b[1;33m.\u001b[0m\u001b[0mshow\u001b[0m\u001b[1;33m(\u001b[0m\u001b[1;33m)\u001b[0m\u001b[1;33m\u001b[0m\u001b[1;33m\u001b[0m\u001b[0m\n",
      "\u001b[1;31mTypeError\u001b[0m: bar() missing 1 required positional argument: 'height'"
     ]
    }
   ],
   "source": [
    "# plt.pie(query_1.total_price, labels = query_1.division)\n",
    "plt.bar(x=query_1['total_price'],y=query_1['division'])\n",
    "plt.legend()\n",
    "plt.show() "
   ]
  },
  {
   "cell_type": "code",
   "execution_count": null,
   "id": "5fe7106d",
   "metadata": {},
   "outputs": [],
   "source": []
  }
 ],
 "metadata": {
  "kernelspec": {
   "display_name": "Python 3 (ipykernel)",
   "language": "python",
   "name": "python3"
  },
  "language_info": {
   "codemirror_mode": {
    "name": "ipython",
    "version": 3
   },
   "file_extension": ".py",
   "mimetype": "text/x-python",
   "name": "python",
   "nbconvert_exporter": "python",
   "pygments_lexer": "ipython3",
   "version": "3.8.12"
  }
 },
 "nbformat": 4,
 "nbformat_minor": 5
}
