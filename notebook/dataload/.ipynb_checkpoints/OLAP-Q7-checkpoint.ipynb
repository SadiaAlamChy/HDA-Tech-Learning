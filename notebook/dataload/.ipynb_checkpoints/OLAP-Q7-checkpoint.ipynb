{
 "cells": [
  {
   "cell_type": "code",
   "execution_count": 2,
   "id": "ed6ac2c8",
   "metadata": {},
   "outputs": [],
   "source": [
    "import psycopg2\n",
    "import pandas as pd\n",
    "import psycopg2.extras\n",
    "import matplotlib.pyplot as plt"
   ]
  },
  {
   "cell_type": "code",
   "execution_count": 3,
   "id": "9bec3a21",
   "metadata": {},
   "outputs": [],
   "source": [
    "class PostgresConnection(object):\n",
    "    def __init__(self):\n",
    "        self.connection = psycopg2.connect(database=\"ecomdb\",\n",
    "                                           user = \"postgres\",\n",
    "                                           password = \"123456\",\n",
    "                                           host = \"127.0.0.1\",\n",
    "                                           port = \"5432\")\n",
    "\n",
    "    def getConnection(self):\n",
    "        print(\"successfully connected to database\")\n",
    "        return self.connection\n",
    "    \n",
    "    \n",
    "# con = PostgresConnection().getConnection()    "
   ]
  },
  {
   "cell_type": "markdown",
   "id": "77b5dbd9",
   "metadata": {},
   "source": [
    "### Common Function to fetch Data from all tables "
   ]
  },
  {
   "cell_type": "code",
   "execution_count": 4,
   "id": "05854ec4",
   "metadata": {},
   "outputs": [],
   "source": [
    "#  select_stmt= is the SQL select query along with  table and column name    \n",
    "def retrive_data_from_table(select_stmt): \n",
    "    con = PostgresConnection().getConnection()\n",
    "    cur = con.cursor()\n",
    "#     select_stmt = \"SELECT t.payment_key , t.trans_type, t.bank_name \" \\\n",
    "#                   \"FROM ecomdb_star_schema.trans_dim t\"\n",
    "    cur.execute(select_stmt)\n",
    "    records = cur.fetchall()\n",
    "    return records"
   ]
  },
  {
   "cell_type": "markdown",
   "id": "45e9a8e6",
   "metadata": {},
   "source": [
    "### Q7: What products have been sold through card or mobile since X days?\n",
    "#### input: X = 5 days\n",
    "#### output: [item1, item2, item3, ...........]"
   ]
  },
  {
   "cell_type": "code",
   "execution_count": null,
   "id": "7fb9292e",
   "metadata": {},
   "outputs": [],
   "source": [
    "# --- ============== Question 7 ==============\n",
    "# select distinct t3.item_name \n",
    "# from ecomdb_star_schema.fact_table t1 \n",
    "# join ecomdb_star_schema.trans_dim t2 on t1.payment_key = t2.payment_key\n",
    "# join ecomdb_star_schema.item_dim t3 on t1.item_key = t3.item_key\n",
    "# where t2.trans_type= 'card'or t2.trans_type= 'mobile'\n",
    " \n",
    "#  select t1.item_name from ecomdb_star_schema.item_dim t1 where item_key IN(\n",
    "# \t\tselect t2.item_key from ecomdb_star_schema.fact_table t2  where t2.payment_key IN(\n",
    "# \t\t\tselect payment_key from ecomdb_star_schema.item_dim  where trans_type = 'card' or trans_type= 'mobile'"
   ]
  },
  {
   "cell_type": "code",
   "execution_count": null,
   "id": "e8c9c2f0",
   "metadata": {},
   "outputs": [],
   "source": [
    "\n",
    "x = input('enter a number : ')\n",
    "\n",
    "cur = con.cursor()\n",
    "# select_query = \n",
    "m_1 = \"select  i.item_name,\\\n",
    "                tr.trans_type,\\\n",
    "                t.date\\\n",
    "                from ecomdb.fact_table f\\\n",
    "                join ecomdb.item_dim i on f.item_key=i.item_key\\\n",
    "                join ecomdb.trans_dim tr on tr.payment_key = f.payment_key\\\n",
    "                join ecomdb.time_dim t on t.time_key = f.time_key\\\n",
    "                where tr.trans_type = 'card' and t.date > now() - interval ' \"\n",
    "       m_2 = x+\"  day'  \"\n",
    "# group by cube(i.item_name,tr.trans_type,t.date) \"\n",
    "# -- order by (i.item_name) desc \"\n",
    "cur.execute(m_1+m_2)\n",
    "records = cur.fetchall()\n",
    "records"
   ]
  },
  {
   "cell_type": "code",
   "execution_count": null,
   "id": "036b42c6",
   "metadata": {},
   "outputs": [],
   "source": []
  },
  {
   "cell_type": "code",
   "execution_count": null,
   "id": "89edacb8",
   "metadata": {},
   "outputs": [],
   "source": []
  }
 ],
 "metadata": {
  "kernelspec": {
   "display_name": "Python 3",
   "language": "python",
   "name": "python3"
  },
  "language_info": {
   "codemirror_mode": {
    "name": "ipython",
    "version": 3
   },
   "file_extension": ".py",
   "mimetype": "text/x-python",
   "name": "python",
   "nbconvert_exporter": "python",
   "pygments_lexer": "ipython3",
   "version": "3.8.8"
  }
 },
 "nbformat": 4,
 "nbformat_minor": 5
}
