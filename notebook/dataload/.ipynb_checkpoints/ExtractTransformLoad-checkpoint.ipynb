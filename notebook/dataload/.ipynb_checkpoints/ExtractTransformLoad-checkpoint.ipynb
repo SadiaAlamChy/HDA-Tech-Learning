{
 "cells": [
  {
   "cell_type": "markdown",
   "id": "6414c38d",
   "metadata": {},
   "source": [
    "### Package installation"
   ]
  },
  {
   "cell_type": "code",
   "execution_count": 1,
   "id": "486f39b2",
   "metadata": {},
   "outputs": [
    {
     "name": "stdout",
     "output_type": "stream",
     "text": [
      "Requirement already satisfied: psycopg2 in h:\\vinternship\\ecommerce\\lib\\site-packages (2.9.3)Note: you may need to restart the kernel to use updated packages.\n",
      "\n"
     ]
    },
    {
     "name": "stderr",
     "output_type": "stream",
     "text": [
      "WARNING: You are using pip version 21.3.1; however, version 22.0.3 is available.\n",
      "You should consider upgrading via the 'H:\\Vinternship\\eCommerce\\Scripts\\python.exe -m pip install --upgrade pip' command.\n"
     ]
    }
   ],
   "source": [
    "pip install psycopg2"
   ]
  },
  {
   "cell_type": "code",
   "execution_count": null,
   "id": "74cbfd9f",
   "metadata": {},
   "outputs": [],
   "source": [
    "pip install pandas"
   ]
  },
  {
   "cell_type": "code",
   "execution_count": null,
   "id": "15df71cf",
   "metadata": {},
   "outputs": [],
   "source": [
    "pip install openpyxl"
   ]
  },
  {
   "cell_type": "markdown",
   "id": "0d8d726c",
   "metadata": {},
   "source": [
    "### Package call"
   ]
  },
  {
   "cell_type": "code",
   "execution_count": 2,
   "id": "e115cff7",
   "metadata": {},
   "outputs": [],
   "source": [
    "import psycopg2\n",
    "import pandas as pd\n",
    "import psycopg2.extras"
   ]
  },
  {
   "cell_type": "markdown",
   "id": "7252962e",
   "metadata": {},
   "source": [
    "### Extract"
   ]
  },
  {
   "cell_type": "markdown",
   "id": "1cb00ce6",
   "metadata": {},
   "source": [
    "***Read from excel file***"
   ]
  },
  {
   "cell_type": "code",
   "execution_count": 3,
   "id": "767f8b1b",
   "metadata": {},
   "outputs": [],
   "source": [
    "DATA_DIR = \"H:/Vinternship/\""
   ]
  },
  {
   "cell_type": "code",
   "execution_count": 5,
   "id": "d1a98736",
   "metadata": {},
   "outputs": [
    {
     "data": {
      "text/html": [
       "<div>\n",
       "<style scoped>\n",
       "    .dataframe tbody tr th:only-of-type {\n",
       "        vertical-align: middle;\n",
       "    }\n",
       "\n",
       "    .dataframe tbody tr th {\n",
       "        vertical-align: top;\n",
       "    }\n",
       "\n",
       "    .dataframe thead th {\n",
       "        text-align: right;\n",
       "    }\n",
       "</style>\n",
       "<table border=\"1\" class=\"dataframe\">\n",
       "  <thead>\n",
       "    <tr style=\"text-align: right;\">\n",
       "      <th></th>\n",
       "      <th>payment_key</th>\n",
       "      <th>coustomer_key</th>\n",
       "      <th>time_key</th>\n",
       "      <th>item_key</th>\n",
       "      <th>store_key</th>\n",
       "      <th>quantity</th>\n",
       "      <th>unit</th>\n",
       "      <th>unit_price</th>\n",
       "      <th>total_price</th>\n",
       "    </tr>\n",
       "  </thead>\n",
       "  <tbody>\n",
       "    <tr>\n",
       "      <th>0</th>\n",
       "      <td>P026</td>\n",
       "      <td>C004510</td>\n",
       "      <td>T049189</td>\n",
       "      <td>I00177</td>\n",
       "      <td>S00307</td>\n",
       "      <td>1</td>\n",
       "      <td>ct</td>\n",
       "      <td>35.0</td>\n",
       "      <td>35.0</td>\n",
       "    </tr>\n",
       "    <tr>\n",
       "      <th>1</th>\n",
       "      <td>P022</td>\n",
       "      <td>C008967</td>\n",
       "      <td>T041209</td>\n",
       "      <td>I00248</td>\n",
       "      <td>S00595</td>\n",
       "      <td>1</td>\n",
       "      <td>rolls</td>\n",
       "      <td>26.0</td>\n",
       "      <td>26.0</td>\n",
       "    </tr>\n",
       "    <tr>\n",
       "      <th>2</th>\n",
       "      <td>P030</td>\n",
       "      <td>C007261</td>\n",
       "      <td>T03633</td>\n",
       "      <td>I00195</td>\n",
       "      <td>S00496</td>\n",
       "      <td>8</td>\n",
       "      <td>ct</td>\n",
       "      <td>12.5</td>\n",
       "      <td>100.0</td>\n",
       "    </tr>\n",
       "    <tr>\n",
       "      <th>3</th>\n",
       "      <td>P032</td>\n",
       "      <td>C007048</td>\n",
       "      <td>T084631</td>\n",
       "      <td>I00131</td>\n",
       "      <td>S0086</td>\n",
       "      <td>8</td>\n",
       "      <td>ct</td>\n",
       "      <td>14.0</td>\n",
       "      <td>112.0</td>\n",
       "    </tr>\n",
       "    <tr>\n",
       "      <th>4</th>\n",
       "      <td>P014</td>\n",
       "      <td>C006430</td>\n",
       "      <td>T071276</td>\n",
       "      <td>I00050</td>\n",
       "      <td>S00488</td>\n",
       "      <td>8</td>\n",
       "      <td>cans</td>\n",
       "      <td>8.0</td>\n",
       "      <td>64.0</td>\n",
       "    </tr>\n",
       "    <tr>\n",
       "      <th>...</th>\n",
       "      <td>...</td>\n",
       "      <td>...</td>\n",
       "      <td>...</td>\n",
       "      <td>...</td>\n",
       "      <td>...</td>\n",
       "      <td>...</td>\n",
       "      <td>...</td>\n",
       "      <td>...</td>\n",
       "      <td>...</td>\n",
       "    </tr>\n",
       "    <tr>\n",
       "      <th>999995</th>\n",
       "      <td>P010</td>\n",
       "      <td>C003726</td>\n",
       "      <td>T09247</td>\n",
       "      <td>I00063</td>\n",
       "      <td>S00502</td>\n",
       "      <td>5</td>\n",
       "      <td>cans</td>\n",
       "      <td>40.0</td>\n",
       "      <td>200.0</td>\n",
       "    </tr>\n",
       "    <tr>\n",
       "      <th>999996</th>\n",
       "      <td>P021</td>\n",
       "      <td>C002581</td>\n",
       "      <td>T023483</td>\n",
       "      <td>I00252</td>\n",
       "      <td>S00225</td>\n",
       "      <td>1</td>\n",
       "      <td>ct</td>\n",
       "      <td>11.0</td>\n",
       "      <td>11.0</td>\n",
       "    </tr>\n",
       "    <tr>\n",
       "      <th>999997</th>\n",
       "      <td>P035</td>\n",
       "      <td>C006133</td>\n",
       "      <td>T039372</td>\n",
       "      <td>I00119</td>\n",
       "      <td>S00555</td>\n",
       "      <td>7</td>\n",
       "      <td>ct</td>\n",
       "      <td>53.0</td>\n",
       "      <td>371.0</td>\n",
       "    </tr>\n",
       "    <tr>\n",
       "      <th>999998</th>\n",
       "      <td>P031</td>\n",
       "      <td>C008735</td>\n",
       "      <td>T097975</td>\n",
       "      <td>I00257</td>\n",
       "      <td>S00440</td>\n",
       "      <td>2</td>\n",
       "      <td>ct</td>\n",
       "      <td>21.0</td>\n",
       "      <td>42.0</td>\n",
       "    </tr>\n",
       "    <tr>\n",
       "      <th>999999</th>\n",
       "      <td>P032</td>\n",
       "      <td>C004067</td>\n",
       "      <td>T018028</td>\n",
       "      <td>I00044</td>\n",
       "      <td>S00326</td>\n",
       "      <td>10</td>\n",
       "      <td>cans</td>\n",
       "      <td>8.0</td>\n",
       "      <td>80.0</td>\n",
       "    </tr>\n",
       "  </tbody>\n",
       "</table>\n",
       "<p>1000000 rows × 9 columns</p>\n",
       "</div>"
      ],
      "text/plain": [
       "       payment_key coustomer_key time_key item_key store_key  quantity   unit  \\\n",
       "0             P026       C004510  T049189   I00177    S00307         1     ct   \n",
       "1             P022       C008967  T041209   I00248    S00595         1  rolls   \n",
       "2             P030       C007261   T03633   I00195    S00496         8     ct   \n",
       "3             P032       C007048  T084631   I00131     S0086         8     ct   \n",
       "4             P014       C006430  T071276   I00050    S00488         8   cans   \n",
       "...            ...           ...      ...      ...       ...       ...    ...   \n",
       "999995        P010       C003726   T09247   I00063    S00502         5   cans   \n",
       "999996        P021       C002581  T023483   I00252    S00225         1     ct   \n",
       "999997        P035       C006133  T039372   I00119    S00555         7     ct   \n",
       "999998        P031       C008735  T097975   I00257    S00440         2     ct   \n",
       "999999        P032       C004067  T018028   I00044    S00326        10   cans   \n",
       "\n",
       "        unit_price  total_price  \n",
       "0             35.0         35.0  \n",
       "1             26.0         26.0  \n",
       "2             12.5        100.0  \n",
       "3             14.0        112.0  \n",
       "4              8.0         64.0  \n",
       "...            ...          ...  \n",
       "999995        40.0        200.0  \n",
       "999996        11.0         11.0  \n",
       "999997        53.0        371.0  \n",
       "999998        21.0         42.0  \n",
       "999999         8.0         80.0  \n",
       "\n",
       "[1000000 rows x 9 columns]"
      ]
     },
     "execution_count": 5,
     "metadata": {},
     "output_type": "execute_result"
    }
   ],
   "source": [
    "fact_table = pd.read_excel(open(DATA_DIR + 'e-commerece_data.xlsx','rb'), sheet_name=0, engine='openpyxl')\n",
    "fact_table"
   ]
  },
  {
   "cell_type": "markdown",
   "id": "2cad87bd",
   "metadata": {},
   "source": [
    "### Load"
   ]
  },
  {
   "cell_type": "markdown",
   "id": "92d87a80",
   "metadata": {},
   "source": [
    "***Connect to the database***"
   ]
  },
  {
   "cell_type": "code",
   "execution_count": 6,
   "id": "5fe3e9ef",
   "metadata": {},
   "outputs": [],
   "source": [
    "\n",
    "class PostgresConnection(object):\n",
    "    def __init__(self):\n",
    "        self.connection = psycopg2.connect(database=\"ecomdb\",\n",
    "                                           user = \"postgres\",\n",
    "                                           password = \"Nabila12345@\",\n",
    "                                           host = \"127.0.0.1\",\n",
    "                                           port = \"5432\")\n",
    "\n",
    "    def getConnection(self):\n",
    "        print(\"successfully connected to database\"),\n",
    "        return self.connection"
   ]
  },
  {
   "cell_type": "code",
   "execution_count": 7,
   "id": "8628012d",
   "metadata": {},
   "outputs": [
    {
     "name": "stdout",
     "output_type": "stream",
     "text": [
      "successfully connected to database\n"
     ]
    }
   ],
   "source": [
    "con = PostgresConnection().getConnection()"
   ]
  },
  {
   "cell_type": "markdown",
   "id": "c7b68b75",
   "metadata": {},
   "source": [
    "***Data Insertion***"
   ]
  },
  {
   "cell_type": "code",
   "execution_count": 12,
   "id": "9a97b7f3",
   "metadata": {},
   "outputs": [
    {
     "ename": "ValueError",
     "evalue": "unsupported format character 'f' (0x66) at index 173",
     "output_type": "error",
     "traceback": [
      "\u001b[1;31m---------------------------------------------------------------------------\u001b[0m",
      "\u001b[1;31mValueError\u001b[0m                                Traceback (most recent call last)",
      "Input \u001b[1;32mIn [12]\u001b[0m, in \u001b[0;36m<module>\u001b[1;34m\u001b[0m\n\u001b[0;32m      1\u001b[0m insert_stmt \u001b[38;5;241m=\u001b[39m \u001b[38;5;124m\"\u001b[39m\u001b[38;5;124mINSERT INTO ecomdb_star_Schema.Fact_table (payment_key,coustomer_key,time_key,item_key,store_key,quantity,unit,unit_price,total_price)\u001b[39m\u001b[38;5;124m\"\u001b[39m\\\n\u001b[0;32m      2\u001b[0m               \u001b[38;5;124m\"\u001b[39m\u001b[38;5;124m VALUES (\u001b[39m\u001b[38;5;132;01m%s\u001b[39;00m\u001b[38;5;124m, \u001b[39m\u001b[38;5;132;01m%s\u001b[39;00m\u001b[38;5;124m, \u001b[39m\u001b[38;5;132;01m%s\u001b[39;00m\u001b[38;5;124m, \u001b[39m\u001b[38;5;132;01m%s\u001b[39;00m\u001b[38;5;124m, \u001b[39m\u001b[38;5;132;01m%s\u001b[39;00m\u001b[38;5;124m, \u001b[39m\u001b[38;5;132;01m%s\u001b[39;00m\u001b[38;5;124m, \u001b[39m\u001b[38;5;132;01m%s\u001b[39;00m\u001b[38;5;124m , \u001b[39m\u001b[38;5;132;01m%f\u001b[39;00m\u001b[38;5;124m, \u001b[39m\u001b[38;5;132;01m%f\u001b[39;00m\u001b[38;5;124m)\u001b[39m\u001b[38;5;124m\"\u001b[39m\n\u001b[0;32m      3\u001b[0m cur \u001b[38;5;241m=\u001b[39m con\u001b[38;5;241m.\u001b[39mcursor()\n\u001b[1;32m----> 4\u001b[0m \u001b[43mpsycopg2\u001b[49m\u001b[38;5;241;43m.\u001b[39;49m\u001b[43mextras\u001b[49m\u001b[38;5;241;43m.\u001b[39;49m\u001b[43mexecute_batch\u001b[49m\u001b[43m(\u001b[49m\u001b[43mcur\u001b[49m\u001b[43m,\u001b[49m\u001b[43m \u001b[49m\u001b[43minsert_stmt\u001b[49m\u001b[43m,\u001b[49m\u001b[43m \u001b[49m\u001b[43mfact_table\u001b[49m\u001b[38;5;241;43m.\u001b[39;49m\u001b[43mvalues\u001b[49m\u001b[43m)\u001b[49m\n\u001b[0;32m      5\u001b[0m con\u001b[38;5;241m.\u001b[39mcommit()\n\u001b[0;32m      6\u001b[0m cur\u001b[38;5;241m.\u001b[39mclose()\n",
      "File \u001b[1;32mH:\\Vinternship\\eCommerce\\lib\\site-packages\\psycopg2\\extras.py:1186\u001b[0m, in \u001b[0;36mexecute_batch\u001b[1;34m(cur, sql, argslist, page_size)\u001b[0m\n\u001b[0;32m   1166\u001b[0m \u001b[38;5;124mr\u001b[39m\u001b[38;5;124;03m\"\"\"Execute groups of statements in fewer server roundtrips.\u001b[39;00m\n\u001b[0;32m   1167\u001b[0m \n\u001b[0;32m   1168\u001b[0m \u001b[38;5;124;03mExecute *sql* several times, against all parameters set (sequences or\u001b[39;00m\n\u001b[1;32m   (...)\u001b[0m\n\u001b[0;32m   1183\u001b[0m \n\u001b[0;32m   1184\u001b[0m \u001b[38;5;124;03m\"\"\"\u001b[39;00m\n\u001b[0;32m   1185\u001b[0m \u001b[38;5;28;01mfor\u001b[39;00m page \u001b[38;5;129;01min\u001b[39;00m _paginate(argslist, page_size\u001b[38;5;241m=\u001b[39mpage_size):\n\u001b[1;32m-> 1186\u001b[0m     sqls \u001b[38;5;241m=\u001b[39m [cur\u001b[38;5;241m.\u001b[39mmogrify(sql, args) \u001b[38;5;28;01mfor\u001b[39;00m args \u001b[38;5;129;01min\u001b[39;00m page]\n\u001b[0;32m   1187\u001b[0m     cur\u001b[38;5;241m.\u001b[39mexecute(\u001b[38;5;124mb\u001b[39m\u001b[38;5;124m\"\u001b[39m\u001b[38;5;124m;\u001b[39m\u001b[38;5;124m\"\u001b[39m\u001b[38;5;241m.\u001b[39mjoin(sqls))\n",
      "File \u001b[1;32mH:\\Vinternship\\eCommerce\\lib\\site-packages\\psycopg2\\extras.py:1186\u001b[0m, in \u001b[0;36m<listcomp>\u001b[1;34m(.0)\u001b[0m\n\u001b[0;32m   1166\u001b[0m \u001b[38;5;124mr\u001b[39m\u001b[38;5;124;03m\"\"\"Execute groups of statements in fewer server roundtrips.\u001b[39;00m\n\u001b[0;32m   1167\u001b[0m \n\u001b[0;32m   1168\u001b[0m \u001b[38;5;124;03mExecute *sql* several times, against all parameters set (sequences or\u001b[39;00m\n\u001b[1;32m   (...)\u001b[0m\n\u001b[0;32m   1183\u001b[0m \n\u001b[0;32m   1184\u001b[0m \u001b[38;5;124;03m\"\"\"\u001b[39;00m\n\u001b[0;32m   1185\u001b[0m \u001b[38;5;28;01mfor\u001b[39;00m page \u001b[38;5;129;01min\u001b[39;00m _paginate(argslist, page_size\u001b[38;5;241m=\u001b[39mpage_size):\n\u001b[1;32m-> 1186\u001b[0m     sqls \u001b[38;5;241m=\u001b[39m [\u001b[43mcur\u001b[49m\u001b[38;5;241;43m.\u001b[39;49m\u001b[43mmogrify\u001b[49m\u001b[43m(\u001b[49m\u001b[43msql\u001b[49m\u001b[43m,\u001b[49m\u001b[43m \u001b[49m\u001b[43margs\u001b[49m\u001b[43m)\u001b[49m \u001b[38;5;28;01mfor\u001b[39;00m args \u001b[38;5;129;01min\u001b[39;00m page]\n\u001b[0;32m   1187\u001b[0m     cur\u001b[38;5;241m.\u001b[39mexecute(\u001b[38;5;124mb\u001b[39m\u001b[38;5;124m\"\u001b[39m\u001b[38;5;124m;\u001b[39m\u001b[38;5;124m\"\u001b[39m\u001b[38;5;241m.\u001b[39mjoin(sqls))\n",
      "\u001b[1;31mValueError\u001b[0m: unsupported format character 'f' (0x66) at index 173"
     ]
    }
   ],
   "source": [
    "insert_stmt = \"INSERT INTO ecomdb_star_Schema.Fact_table (payment_key,coustomer_key,time_key,item_key,store_key,quantity,unit,unit_price,total_price)\"\\\n",
    "              \" VALUES (%s, %s, %s, %s, %s, %s, %s , %f, %f)\"\n",
    "cur = con.cursor()\n",
    "psycopg2.extras.execute_batch(cur, insert_stmt, fact_table.values)\n",
    "con.commit()\n",
    "cur.close()"
   ]
  },
  {
   "cell_type": "code",
   "execution_count": null,
   "id": "bb837d71",
   "metadata": {},
   "outputs": [],
   "source": []
  }
 ],
 "metadata": {
  "kernelspec": {
   "display_name": "Python 3 (ipykernel)",
   "language": "python",
   "name": "python3"
  },
  "language_info": {
   "codemirror_mode": {
    "name": "ipython",
    "version": 3
   },
   "file_extension": ".py",
   "mimetype": "text/x-python",
   "name": "python",
   "nbconvert_exporter": "python",
   "pygments_lexer": "ipython3",
   "version": "3.9.6"
  }
 },
 "nbformat": 4,
 "nbformat_minor": 5
}
