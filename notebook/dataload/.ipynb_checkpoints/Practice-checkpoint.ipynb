{
 "cells": [
  {
   "cell_type": "markdown",
   "id": "0a40bfb4",
   "metadata": {},
   "source": [
    "# Package install"
   ]
  },
  {
   "cell_type": "code",
   "execution_count": 551,
   "id": "95e08353",
   "metadata": {},
   "outputs": [
    {
     "name": "stdout",
     "output_type": "stream",
     "text": [
      "Requirement already satisfied: psycopg2 in c:\\users\\administrator\\.conda\\envs\\hda\\lib\\site-packages (2.9.3)\n",
      "Note: you may need to restart the kernel to use updated packages.\n"
     ]
    }
   ],
   "source": [
    "pip install psycopg2"
   ]
  },
  {
   "cell_type": "code",
   "execution_count": 552,
   "id": "d0ffcad6",
   "metadata": {},
   "outputs": [
    {
     "name": "stdout",
     "output_type": "stream",
     "text": [
      "Requirement already satisfied: openpyxl in c:\\users\\administrator\\.conda\\envs\\hda\\lib\\site-packages (3.0.9)\n",
      "Requirement already satisfied: et-xmlfile in c:\\users\\administrator\\.conda\\envs\\hda\\lib\\site-packages (from openpyxl) (1.1.0)\n",
      "Note: you may need to restart the kernel to use updated packages.\n"
     ]
    }
   ],
   "source": [
    "pip install openpyxl"
   ]
  },
  {
   "cell_type": "markdown",
   "id": "db062d0b",
   "metadata": {},
   "source": [
    "# Package call"
   ]
  },
  {
   "cell_type": "code",
   "execution_count": 553,
   "id": "93f9be39",
   "metadata": {},
   "outputs": [],
   "source": [
    "import psycopg2\n",
    "import pandas as pd\n",
    "import psycopg2.extras\n",
    "import psycopg2"
   ]
  },
  {
   "cell_type": "markdown",
   "id": "d5e781be",
   "metadata": {},
   "source": [
    "# Extract"
   ]
  },
  {
   "cell_type": "code",
   "execution_count": 554,
   "id": "26be76bc",
   "metadata": {},
   "outputs": [],
   "source": [
    "# df = \"/Users/Administrator/Downloads/New folder/pdf/Intern/ecommerce_csv\""
   ]
  },
  {
   "cell_type": "markdown",
   "id": "073f715a",
   "metadata": {},
   "source": [
    "#### Reading trans_dim from csv file"
   ]
  },
  {
   "cell_type": "code",
   "execution_count": 555,
   "id": "efe0665c",
   "metadata": {},
   "outputs": [],
   "source": [
    "\n",
    "trans_dim = pd.read_csv(\"/Users/Administrator/Downloads/New folder/pdf/Intern/ecommerce_csv/Trans_dim.csv\")"
   ]
  },
  {
   "cell_type": "code",
   "execution_count": 556,
   "id": "26875bb8",
   "metadata": {},
   "outputs": [
    {
     "data": {
      "text/html": [
       "<div>\n",
       "<style scoped>\n",
       "    .dataframe tbody tr th:only-of-type {\n",
       "        vertical-align: middle;\n",
       "    }\n",
       "\n",
       "    .dataframe tbody tr th {\n",
       "        vertical-align: top;\n",
       "    }\n",
       "\n",
       "    .dataframe thead th {\n",
       "        text-align: right;\n",
       "    }\n",
       "</style>\n",
       "<table border=\"1\" class=\"dataframe\">\n",
       "  <thead>\n",
       "    <tr style=\"text-align: right;\">\n",
       "      <th></th>\n",
       "      <th>payment_key</th>\n",
       "      <th>trans_type</th>\n",
       "      <th>bank_name</th>\n",
       "    </tr>\n",
       "  </thead>\n",
       "  <tbody>\n",
       "    <tr>\n",
       "      <th>0</th>\n",
       "      <td>P001</td>\n",
       "      <td>cash</td>\n",
       "      <td>None</td>\n",
       "    </tr>\n",
       "    <tr>\n",
       "      <th>1</th>\n",
       "      <td>P002</td>\n",
       "      <td>card</td>\n",
       "      <td>AB Bank Limited</td>\n",
       "    </tr>\n",
       "    <tr>\n",
       "      <th>2</th>\n",
       "      <td>P003</td>\n",
       "      <td>card</td>\n",
       "      <td>Bangladesh Commerce Bank Limited</td>\n",
       "    </tr>\n",
       "    <tr>\n",
       "      <th>3</th>\n",
       "      <td>P004</td>\n",
       "      <td>card</td>\n",
       "      <td>Bank Asia Limited</td>\n",
       "    </tr>\n",
       "    <tr>\n",
       "      <th>4</th>\n",
       "      <td>P005</td>\n",
       "      <td>card</td>\n",
       "      <td>BRAC Bank Limited</td>\n",
       "    </tr>\n",
       "  </tbody>\n",
       "</table>\n",
       "</div>"
      ],
      "text/plain": [
       "  payment_key trans_type                         bank_name\n",
       "0        P001       cash                              None\n",
       "1        P002       card                   AB Bank Limited\n",
       "2        P003       card  Bangladesh Commerce Bank Limited\n",
       "3        P004       card                 Bank Asia Limited\n",
       "4        P005       card                 BRAC Bank Limited"
      ]
     },
     "execution_count": 556,
     "metadata": {},
     "output_type": "execute_result"
    }
   ],
   "source": [
    "trans_dim.head()"
   ]
  },
  {
   "cell_type": "markdown",
   "id": "39cc0472",
   "metadata": {},
   "source": [
    "#### Reading store_df from csv file"
   ]
  },
  {
   "cell_type": "code",
   "execution_count": 557,
   "id": "ebd34818",
   "metadata": {},
   "outputs": [],
   "source": [
    "\n",
    "store_df = pd.read_csv(\"/Users/Administrator/Downloads/New folder/pdf/Intern/ecommerce_csv/Store_dim.csv\")"
   ]
  },
  {
   "cell_type": "code",
   "execution_count": 558,
   "id": "6fdcde8e",
   "metadata": {},
   "outputs": [
    {
     "data": {
      "text/html": [
       "<div>\n",
       "<style scoped>\n",
       "    .dataframe tbody tr th:only-of-type {\n",
       "        vertical-align: middle;\n",
       "    }\n",
       "\n",
       "    .dataframe tbody tr th {\n",
       "        vertical-align: top;\n",
       "    }\n",
       "\n",
       "    .dataframe thead th {\n",
       "        text-align: right;\n",
       "    }\n",
       "</style>\n",
       "<table border=\"1\" class=\"dataframe\">\n",
       "  <thead>\n",
       "    <tr style=\"text-align: right;\">\n",
       "      <th></th>\n",
       "      <th>store_key</th>\n",
       "      <th>division</th>\n",
       "      <th>district</th>\n",
       "      <th>upazila</th>\n",
       "    </tr>\n",
       "  </thead>\n",
       "  <tbody>\n",
       "    <tr>\n",
       "      <th>0</th>\n",
       "      <td>S0001</td>\n",
       "      <td>SYLHET</td>\n",
       "      <td>HABIGANJ</td>\n",
       "      <td>AJMIRIGANJ</td>\n",
       "    </tr>\n",
       "    <tr>\n",
       "      <th>1</th>\n",
       "      <td>S0002</td>\n",
       "      <td>SYLHET</td>\n",
       "      <td>HABIGANJ</td>\n",
       "      <td>BAHUBAL</td>\n",
       "    </tr>\n",
       "    <tr>\n",
       "      <th>2</th>\n",
       "      <td>S0003</td>\n",
       "      <td>SYLHET</td>\n",
       "      <td>HABIGANJ</td>\n",
       "      <td>BANIACHONG</td>\n",
       "    </tr>\n",
       "    <tr>\n",
       "      <th>3</th>\n",
       "      <td>S0004</td>\n",
       "      <td>SYLHET</td>\n",
       "      <td>HABIGANJ</td>\n",
       "      <td>CHUNARUGHAT</td>\n",
       "    </tr>\n",
       "    <tr>\n",
       "      <th>4</th>\n",
       "      <td>S0005</td>\n",
       "      <td>SYLHET</td>\n",
       "      <td>HABIGANJ</td>\n",
       "      <td>HABIGANJ SADAR</td>\n",
       "    </tr>\n",
       "  </tbody>\n",
       "</table>\n",
       "</div>"
      ],
      "text/plain": [
       "  store_key division  district         upazila\n",
       "0     S0001   SYLHET  HABIGANJ      AJMIRIGANJ\n",
       "1     S0002   SYLHET  HABIGANJ         BAHUBAL\n",
       "2     S0003   SYLHET  HABIGANJ      BANIACHONG\n",
       "3     S0004   SYLHET  HABIGANJ     CHUNARUGHAT\n",
       "4     S0005   SYLHET  HABIGANJ  HABIGANJ SADAR"
      ]
     },
     "execution_count": 558,
     "metadata": {},
     "output_type": "execute_result"
    }
   ],
   "source": [
    "store_df.head()"
   ]
  },
  {
   "cell_type": "code",
   "execution_count": 559,
   "id": "56c69dc5",
   "metadata": {},
   "outputs": [
    {
     "name": "stdout",
     "output_type": "stream",
     "text": [
      "<class 'pandas.core.frame.DataFrame'>\n",
      "RangeIndex: 726 entries, 0 to 725\n",
      "Data columns (total 4 columns):\n",
      " #   Column     Non-Null Count  Dtype \n",
      "---  ------     --------------  ----- \n",
      " 0   store_key  726 non-null    object\n",
      " 1   division   726 non-null    object\n",
      " 2   district   726 non-null    object\n",
      " 3   upazila    726 non-null    object\n",
      "dtypes: object(4)\n",
      "memory usage: 22.8+ KB\n"
     ]
    }
   ],
   "source": [
    "store_df.info()"
   ]
  },
  {
   "cell_type": "markdown",
   "id": "0a912949",
   "metadata": {},
   "source": [
    "#### Reading item_dim from csv file"
   ]
  },
  {
   "cell_type": "code",
   "execution_count": 560,
   "id": "b09337ca",
   "metadata": {},
   "outputs": [
    {
     "data": {
      "text/html": [
       "<div>\n",
       "<style scoped>\n",
       "    .dataframe tbody tr th:only-of-type {\n",
       "        vertical-align: middle;\n",
       "    }\n",
       "\n",
       "    .dataframe tbody tr th {\n",
       "        vertical-align: top;\n",
       "    }\n",
       "\n",
       "    .dataframe thead th {\n",
       "        text-align: right;\n",
       "    }\n",
       "</style>\n",
       "<table border=\"1\" class=\"dataframe\">\n",
       "  <thead>\n",
       "    <tr style=\"text-align: right;\">\n",
       "      <th></th>\n",
       "      <th>item_key</th>\n",
       "      <th>item_name</th>\n",
       "      <th>desc</th>\n",
       "      <th>unit_price</th>\n",
       "      <th>man_country</th>\n",
       "      <th>supplier</th>\n",
       "      <th>unit</th>\n",
       "    </tr>\n",
       "  </thead>\n",
       "  <tbody>\n",
       "    <tr>\n",
       "      <th>0</th>\n",
       "      <td>I00001</td>\n",
       "      <td>A&amp;W Root Beer - 12 oz cans</td>\n",
       "      <td>a. Beverage - Soda</td>\n",
       "      <td>11.50</td>\n",
       "      <td>Netherlands</td>\n",
       "      <td>Bolsius Boxmeer</td>\n",
       "      <td>cans</td>\n",
       "    </tr>\n",
       "    <tr>\n",
       "      <th>1</th>\n",
       "      <td>I00002</td>\n",
       "      <td>A&amp;W Root Beer Diet - 12 oz cans</td>\n",
       "      <td>a. Beverage - Soda</td>\n",
       "      <td>6.75</td>\n",
       "      <td>poland</td>\n",
       "      <td>CHROMADURLIN S.A.S</td>\n",
       "      <td>cans</td>\n",
       "    </tr>\n",
       "    <tr>\n",
       "      <th>2</th>\n",
       "      <td>I00003</td>\n",
       "      <td>Barq's Root Beer - 12 oz cans</td>\n",
       "      <td>a. Beverage - Soda</td>\n",
       "      <td>6.75</td>\n",
       "      <td>Bangladesh</td>\n",
       "      <td>DENIMACH LTD</td>\n",
       "      <td>cans</td>\n",
       "    </tr>\n",
       "    <tr>\n",
       "      <th>3</th>\n",
       "      <td>I00004</td>\n",
       "      <td>Cherry Coke 12oz</td>\n",
       "      <td>a. Beverage - Soda</td>\n",
       "      <td>6.75</td>\n",
       "      <td>Netherlands</td>\n",
       "      <td>Bolsius Boxmeer</td>\n",
       "      <td>cans</td>\n",
       "    </tr>\n",
       "    <tr>\n",
       "      <th>4</th>\n",
       "      <td>I00005</td>\n",
       "      <td>Cherry Coke Zero 12 pack</td>\n",
       "      <td>a. Beverage - Soda</td>\n",
       "      <td>6.75</td>\n",
       "      <td>Finland</td>\n",
       "      <td>HARDFORD AB</td>\n",
       "      <td>cans</td>\n",
       "    </tr>\n",
       "  </tbody>\n",
       "</table>\n",
       "</div>"
      ],
      "text/plain": [
       "  item_key                        item_name                desc  unit_price  \\\n",
       "0   I00001       A&W Root Beer - 12 oz cans  a. Beverage - Soda       11.50   \n",
       "1   I00002  A&W Root Beer Diet - 12 oz cans  a. Beverage - Soda        6.75   \n",
       "2   I00003    Barq's Root Beer - 12 oz cans  a. Beverage - Soda        6.75   \n",
       "3   I00004                 Cherry Coke 12oz  a. Beverage - Soda        6.75   \n",
       "4   I00005         Cherry Coke Zero 12 pack  a. Beverage - Soda        6.75   \n",
       "\n",
       "   man_country            supplier  unit  \n",
       "0  Netherlands     Bolsius Boxmeer  cans  \n",
       "1       poland  CHROMADURLIN S.A.S  cans  \n",
       "2   Bangladesh        DENIMACH LTD  cans  \n",
       "3  Netherlands     Bolsius Boxmeer  cans  \n",
       "4      Finland         HARDFORD AB  cans  "
      ]
     },
     "execution_count": 560,
     "metadata": {},
     "output_type": "execute_result"
    }
   ],
   "source": [
    "\n",
    "item_df = pd.read_csv(\"/Users/Administrator/Downloads/New folder/pdf/Intern/ecommerce_csv/Item_dim.csv\")\n",
    "item_df.head()"
   ]
  },
  {
   "cell_type": "code",
   "execution_count": 561,
   "id": "b7be2bb8",
   "metadata": {},
   "outputs": [
    {
     "name": "stdout",
     "output_type": "stream",
     "text": [
      "<class 'pandas.core.frame.DataFrame'>\n",
      "RangeIndex: 264 entries, 0 to 263\n",
      "Data columns (total 7 columns):\n",
      " #   Column       Non-Null Count  Dtype  \n",
      "---  ------       --------------  -----  \n",
      " 0   item_key     264 non-null    object \n",
      " 1   item_name    264 non-null    object \n",
      " 2   desc         264 non-null    object \n",
      " 3   unit_price   264 non-null    float64\n",
      " 4   man_country  264 non-null    object \n",
      " 5   supplier     264 non-null    object \n",
      " 6   unit         263 non-null    object \n",
      "dtypes: float64(1), object(6)\n",
      "memory usage: 14.6+ KB\n"
     ]
    }
   ],
   "source": [
    "item_df.info()"
   ]
  },
  {
   "cell_type": "code",
   "execution_count": 562,
   "id": "36cb109b",
   "metadata": {},
   "outputs": [
    {
     "name": "stderr",
     "output_type": "stream",
     "text": [
      "C:\\Users\\ADMINI~1\\AppData\\Local\\Temp/ipykernel_13052/3986604733.py:1: FutureWarning: Dropping of nuisance columns in DataFrame reductions (with 'numeric_only=None') is deprecated; in a future version this will raise TypeError.  Select only valid columns before calling the reduction.\n",
      "  item_df.sum().isna()\n"
     ]
    },
    {
     "data": {
      "text/plain": [
       "item_key       False\n",
       "item_name      False\n",
       "desc           False\n",
       "unit_price     False\n",
       "man_country    False\n",
       "supplier       False\n",
       "dtype: bool"
      ]
     },
     "execution_count": 562,
     "metadata": {},
     "output_type": "execute_result"
    }
   ],
   "source": [
    "item_df.sum().isna()"
   ]
  },
  {
   "cell_type": "markdown",
   "id": "bfb2c437",
   "metadata": {},
   "source": [
    "#### Customer table "
   ]
  },
  {
   "cell_type": "code",
   "execution_count": 563,
   "id": "80faa662",
   "metadata": {},
   "outputs": [
    {
     "data": {
      "text/html": [
       "<div>\n",
       "<style scoped>\n",
       "    .dataframe tbody tr th:only-of-type {\n",
       "        vertical-align: middle;\n",
       "    }\n",
       "\n",
       "    .dataframe tbody tr th {\n",
       "        vertical-align: top;\n",
       "    }\n",
       "\n",
       "    .dataframe thead th {\n",
       "        text-align: right;\n",
       "    }\n",
       "</style>\n",
       "<table border=\"1\" class=\"dataframe\">\n",
       "  <thead>\n",
       "    <tr style=\"text-align: right;\">\n",
       "      <th></th>\n",
       "      <th>coustomer_key</th>\n",
       "      <th>name</th>\n",
       "      <th>contact_no</th>\n",
       "      <th>nid</th>\n",
       "    </tr>\n",
       "  </thead>\n",
       "  <tbody>\n",
       "    <tr>\n",
       "      <th>0</th>\n",
       "      <td>C000001</td>\n",
       "      <td>sumit</td>\n",
       "      <td>8.801920e+12</td>\n",
       "      <td>7.505080e+12</td>\n",
       "    </tr>\n",
       "    <tr>\n",
       "      <th>1</th>\n",
       "      <td>C000002</td>\n",
       "      <td>tammanne</td>\n",
       "      <td>8.801817e+12</td>\n",
       "      <td>1.977730e+12</td>\n",
       "    </tr>\n",
       "    <tr>\n",
       "      <th>2</th>\n",
       "      <td>C000003</td>\n",
       "      <td>kailash kumar</td>\n",
       "      <td>8.801660e+12</td>\n",
       "      <td>3.769490e+12</td>\n",
       "    </tr>\n",
       "    <tr>\n",
       "      <th>3</th>\n",
       "      <td>C000004</td>\n",
       "      <td>bhagwati prasad</td>\n",
       "      <td>8.801534e+12</td>\n",
       "      <td>9.378830e+12</td>\n",
       "    </tr>\n",
       "    <tr>\n",
       "      <th>4</th>\n",
       "      <td>C000005</td>\n",
       "      <td>ajay</td>\n",
       "      <td>8.801944e+12</td>\n",
       "      <td>3.540820e+12</td>\n",
       "    </tr>\n",
       "  </tbody>\n",
       "</table>\n",
       "</div>"
      ],
      "text/plain": [
       "  coustomer_key             name    contact_no           nid\n",
       "0       C000001            sumit  8.801920e+12  7.505080e+12\n",
       "1       C000002         tammanne  8.801817e+12  1.977730e+12\n",
       "2       C000003    kailash kumar  8.801660e+12  3.769490e+12\n",
       "3       C000004  bhagwati prasad  8.801534e+12  9.378830e+12\n",
       "4       C000005             ajay  8.801944e+12  3.540820e+12"
      ]
     },
     "execution_count": 563,
     "metadata": {},
     "output_type": "execute_result"
    }
   ],
   "source": [
    "customer_df = pd.read_csv(\"/Users/Administrator/Downloads/New folder/pdf/Intern/ecommerce_csv/Coustomer_dim.csv\")\n",
    "customer_df.head()"
   ]
  },
  {
   "cell_type": "code",
   "execution_count": 564,
   "id": "b796c42c",
   "metadata": {},
   "outputs": [
    {
     "name": "stdout",
     "output_type": "stream",
     "text": [
      "<class 'pandas.core.frame.DataFrame'>\n",
      "RangeIndex: 9191 entries, 0 to 9190\n",
      "Data columns (total 4 columns):\n",
      " #   Column         Non-Null Count  Dtype  \n",
      "---  ------         --------------  -----  \n",
      " 0   coustomer_key  9191 non-null   object \n",
      " 1   name           9164 non-null   object \n",
      " 2   contact_no     9191 non-null   float64\n",
      " 3   nid            9191 non-null   float64\n",
      "dtypes: float64(2), object(2)\n",
      "memory usage: 287.3+ KB\n"
     ]
    }
   ],
   "source": [
    "customer_df.info()"
   ]
  },
  {
   "cell_type": "code",
   "execution_count": 565,
   "id": "5b899d6d",
   "metadata": {},
   "outputs": [
    {
     "data": {
      "text/plain": [
       "coustomer_key     0\n",
       "name             27\n",
       "contact_no        0\n",
       "nid               0\n",
       "dtype: int64"
      ]
     },
     "execution_count": 565,
     "metadata": {},
     "output_type": "execute_result"
    }
   ],
   "source": [
    "customer_df.isna().sum()"
   ]
  },
  {
   "cell_type": "code",
   "execution_count": 566,
   "id": "08dc9ec9",
   "metadata": {},
   "outputs": [
    {
     "data": {
      "text/plain": [
       "coustomer_key    0\n",
       "name             0\n",
       "contact_no       0\n",
       "nid              0\n",
       "dtype: int64"
      ]
     },
     "execution_count": 566,
     "metadata": {},
     "output_type": "execute_result"
    }
   ],
   "source": [
    "customer_df.dropna(inplace = True)\n",
    "customer_df.isna().sum()"
   ]
  },
  {
   "cell_type": "code",
   "execution_count": 567,
   "id": "ab4b50f4",
   "metadata": {},
   "outputs": [],
   "source": [
    "customer_df['contact_no'] = customer_df['contact_no'].astype('Int64')"
   ]
  },
  {
   "cell_type": "code",
   "execution_count": null,
   "id": "c313d64e",
   "metadata": {},
   "outputs": [],
   "source": []
  },
  {
   "cell_type": "code",
   "execution_count": 568,
   "id": "8aae8617",
   "metadata": {},
   "outputs": [
    {
     "data": {
      "text/plain": [
       "0       8801920000000\n",
       "1       8801817069329\n",
       "2       8801660000000\n",
       "3       8801533627961\n",
       "4       8801943715786\n",
       "            ...      \n",
       "9186    8801560000000\n",
       "9187    8801790000000\n",
       "9188    8801890000000\n",
       "9189    8801560000000\n",
       "9190    8801520000000\n",
       "Name: contact_no, Length: 9164, dtype: Int64"
      ]
     },
     "execution_count": 568,
     "metadata": {},
     "output_type": "execute_result"
    }
   ],
   "source": [
    "customer_df.iloc[:,2]"
   ]
  },
  {
   "cell_type": "code",
   "execution_count": 569,
   "id": "468ffc00",
   "metadata": {},
   "outputs": [
    {
     "name": "stdout",
     "output_type": "stream",
     "text": [
      "<class 'pandas.core.frame.DataFrame'>\n",
      "Int64Index: 9164 entries, 0 to 9190\n",
      "Data columns (total 4 columns):\n",
      " #   Column         Non-Null Count  Dtype  \n",
      "---  ------         --------------  -----  \n",
      " 0   coustomer_key  9164 non-null   object \n",
      " 1   name           9164 non-null   object \n",
      " 2   contact_no     9164 non-null   Int64  \n",
      " 3   nid            9164 non-null   float64\n",
      "dtypes: Int64(1), float64(1), object(2)\n",
      "memory usage: 366.9+ KB\n"
     ]
    }
   ],
   "source": [
    "customer_df.info()"
   ]
  },
  {
   "cell_type": "code",
   "execution_count": 570,
   "id": "f7cfc56b",
   "metadata": {},
   "outputs": [
    {
     "data": {
      "text/plain": [
       "0    7505080000000\n",
       "1    1977730000000\n",
       "2    3769490000000\n",
       "3    9378830000000\n",
       "4    3540820000000\n",
       "Name: nid, dtype: Int64"
      ]
     },
     "execution_count": 570,
     "metadata": {},
     "output_type": "execute_result"
    }
   ],
   "source": [
    "customer_df['nid'] = customer_df['nid'].astype('Int64')\n",
    "customer_df.iloc[:5,3]"
   ]
  },
  {
   "cell_type": "markdown",
   "id": "765ccb20",
   "metadata": {},
   "source": [
    "### Time_dim table"
   ]
  },
  {
   "cell_type": "code",
   "execution_count": 571,
   "id": "3e929024",
   "metadata": {},
   "outputs": [
    {
     "data": {
      "text/html": [
       "<div>\n",
       "<style scoped>\n",
       "    .dataframe tbody tr th:only-of-type {\n",
       "        vertical-align: middle;\n",
       "    }\n",
       "\n",
       "    .dataframe tbody tr th {\n",
       "        vertical-align: top;\n",
       "    }\n",
       "\n",
       "    .dataframe thead th {\n",
       "        text-align: right;\n",
       "    }\n",
       "</style>\n",
       "<table border=\"1\" class=\"dataframe\">\n",
       "  <thead>\n",
       "    <tr style=\"text-align: right;\">\n",
       "      <th></th>\n",
       "      <th>time_key</th>\n",
       "      <th>date</th>\n",
       "      <th>hour</th>\n",
       "      <th>day</th>\n",
       "      <th>week</th>\n",
       "      <th>month</th>\n",
       "      <th>quarter</th>\n",
       "      <th>year</th>\n",
       "    </tr>\n",
       "  </thead>\n",
       "  <tbody>\n",
       "    <tr>\n",
       "      <th>0</th>\n",
       "      <td>T00001</td>\n",
       "      <td>20-05-2017 14:56</td>\n",
       "      <td>14</td>\n",
       "      <td>20</td>\n",
       "      <td>3rd Week</td>\n",
       "      <td>5</td>\n",
       "      <td>Q2</td>\n",
       "      <td>2017</td>\n",
       "    </tr>\n",
       "    <tr>\n",
       "      <th>1</th>\n",
       "      <td>T00002</td>\n",
       "      <td>30-01-2015 22:14</td>\n",
       "      <td>22</td>\n",
       "      <td>30</td>\n",
       "      <td>4th Week</td>\n",
       "      <td>1</td>\n",
       "      <td>Q1</td>\n",
       "      <td>2015</td>\n",
       "    </tr>\n",
       "    <tr>\n",
       "      <th>2</th>\n",
       "      <td>T00003</td>\n",
       "      <td>14-03-2020 02:34</td>\n",
       "      <td>2</td>\n",
       "      <td>14</td>\n",
       "      <td>2nd Week</td>\n",
       "      <td>3</td>\n",
       "      <td>Q1</td>\n",
       "      <td>2020</td>\n",
       "    </tr>\n",
       "    <tr>\n",
       "      <th>3</th>\n",
       "      <td>T00004</td>\n",
       "      <td>27-04-2018 12:19</td>\n",
       "      <td>12</td>\n",
       "      <td>27</td>\n",
       "      <td>4th Week</td>\n",
       "      <td>4</td>\n",
       "      <td>Q2</td>\n",
       "      <td>2018</td>\n",
       "    </tr>\n",
       "    <tr>\n",
       "      <th>4</th>\n",
       "      <td>T00005</td>\n",
       "      <td>14-04-2018 10:43</td>\n",
       "      <td>10</td>\n",
       "      <td>14</td>\n",
       "      <td>2nd Week</td>\n",
       "      <td>4</td>\n",
       "      <td>Q2</td>\n",
       "      <td>2018</td>\n",
       "    </tr>\n",
       "  </tbody>\n",
       "</table>\n",
       "</div>"
      ],
      "text/plain": [
       "  time_key              date  hour  day      week  month quarter  year\n",
       "0   T00001  20-05-2017 14:56    14   20  3rd Week      5      Q2  2017\n",
       "1   T00002  30-01-2015 22:14    22   30  4th Week      1      Q1  2015\n",
       "2   T00003  14-03-2020 02:34     2   14  2nd Week      3      Q1  2020\n",
       "3   T00004  27-04-2018 12:19    12   27  4th Week      4      Q2  2018\n",
       "4   T00005  14-04-2018 10:43    10   14  2nd Week      4      Q2  2018"
      ]
     },
     "execution_count": 571,
     "metadata": {},
     "output_type": "execute_result"
    }
   ],
   "source": [
    "time_df = pd.read_csv(\"/Users/Administrator/Downloads/New folder/pdf/Intern/ecommerce_csv/Time_dim.csv\")\n",
    "time_df.head()"
   ]
  },
  {
   "cell_type": "code",
   "execution_count": 572,
   "id": "1095b60e",
   "metadata": {},
   "outputs": [
    {
     "name": "stdout",
     "output_type": "stream",
     "text": [
      "<class 'pandas.core.frame.DataFrame'>\n",
      "RangeIndex: 99999 entries, 0 to 99998\n",
      "Data columns (total 8 columns):\n",
      " #   Column    Non-Null Count  Dtype \n",
      "---  ------    --------------  ----- \n",
      " 0   time_key  99999 non-null  object\n",
      " 1   date      99999 non-null  object\n",
      " 2   hour      99999 non-null  int64 \n",
      " 3   day       99999 non-null  int64 \n",
      " 4   week      99999 non-null  object\n",
      " 5   month     99999 non-null  int64 \n",
      " 6   quarter   99999 non-null  object\n",
      " 7   year      99999 non-null  int64 \n",
      "dtypes: int64(4), object(4)\n",
      "memory usage: 6.1+ MB\n"
     ]
    }
   ],
   "source": [
    "time_df.info()"
   ]
  },
  {
   "cell_type": "code",
   "execution_count": 573,
   "id": "7e006f3d",
   "metadata": {},
   "outputs": [
    {
     "data": {
      "text/plain": [
       "time_key    0\n",
       "date        0\n",
       "hour        0\n",
       "day         0\n",
       "week        0\n",
       "month       0\n",
       "quarter     0\n",
       "year        0\n",
       "dtype: int64"
      ]
     },
     "execution_count": 573,
     "metadata": {},
     "output_type": "execute_result"
    }
   ],
   "source": [
    "time_df.isna().sum()"
   ]
  },
  {
   "cell_type": "code",
   "execution_count": 574,
   "id": "216c2622",
   "metadata": {},
   "outputs": [
    {
     "data": {
      "text/html": [
       "<div>\n",
       "<style scoped>\n",
       "    .dataframe tbody tr th:only-of-type {\n",
       "        vertical-align: middle;\n",
       "    }\n",
       "\n",
       "    .dataframe tbody tr th {\n",
       "        vertical-align: top;\n",
       "    }\n",
       "\n",
       "    .dataframe thead th {\n",
       "        text-align: right;\n",
       "    }\n",
       "</style>\n",
       "<table border=\"1\" class=\"dataframe\">\n",
       "  <thead>\n",
       "    <tr style=\"text-align: right;\">\n",
       "      <th></th>\n",
       "      <th>time_key</th>\n",
       "      <th>date</th>\n",
       "      <th>hour</th>\n",
       "      <th>day</th>\n",
       "      <th>week</th>\n",
       "      <th>month</th>\n",
       "      <th>quarter</th>\n",
       "      <th>year</th>\n",
       "    </tr>\n",
       "  </thead>\n",
       "  <tbody>\n",
       "    <tr>\n",
       "      <th>0</th>\n",
       "      <td>T00001</td>\n",
       "      <td>2017-05-20 14:56:00</td>\n",
       "      <td>14</td>\n",
       "      <td>20</td>\n",
       "      <td>3rd Week</td>\n",
       "      <td>5</td>\n",
       "      <td>Q2</td>\n",
       "      <td>2017</td>\n",
       "    </tr>\n",
       "    <tr>\n",
       "      <th>1</th>\n",
       "      <td>T00002</td>\n",
       "      <td>2015-01-30 22:14:00</td>\n",
       "      <td>22</td>\n",
       "      <td>30</td>\n",
       "      <td>4th Week</td>\n",
       "      <td>1</td>\n",
       "      <td>Q1</td>\n",
       "      <td>2015</td>\n",
       "    </tr>\n",
       "    <tr>\n",
       "      <th>2</th>\n",
       "      <td>T00003</td>\n",
       "      <td>2020-03-14 02:34:00</td>\n",
       "      <td>2</td>\n",
       "      <td>14</td>\n",
       "      <td>2nd Week</td>\n",
       "      <td>3</td>\n",
       "      <td>Q1</td>\n",
       "      <td>2020</td>\n",
       "    </tr>\n",
       "    <tr>\n",
       "      <th>3</th>\n",
       "      <td>T00004</td>\n",
       "      <td>2018-04-27 12:19:00</td>\n",
       "      <td>12</td>\n",
       "      <td>27</td>\n",
       "      <td>4th Week</td>\n",
       "      <td>4</td>\n",
       "      <td>Q2</td>\n",
       "      <td>2018</td>\n",
       "    </tr>\n",
       "    <tr>\n",
       "      <th>4</th>\n",
       "      <td>T00005</td>\n",
       "      <td>2018-04-14 10:43:00</td>\n",
       "      <td>10</td>\n",
       "      <td>14</td>\n",
       "      <td>2nd Week</td>\n",
       "      <td>4</td>\n",
       "      <td>Q2</td>\n",
       "      <td>2018</td>\n",
       "    </tr>\n",
       "  </tbody>\n",
       "</table>\n",
       "</div>"
      ],
      "text/plain": [
       "  time_key                date  hour  day      week  month quarter  year\n",
       "0   T00001 2017-05-20 14:56:00    14   20  3rd Week      5      Q2  2017\n",
       "1   T00002 2015-01-30 22:14:00    22   30  4th Week      1      Q1  2015\n",
       "2   T00003 2020-03-14 02:34:00     2   14  2nd Week      3      Q1  2020\n",
       "3   T00004 2018-04-27 12:19:00    12   27  4th Week      4      Q2  2018\n",
       "4   T00005 2018-04-14 10:43:00    10   14  2nd Week      4      Q2  2018"
      ]
     },
     "execution_count": 574,
     "metadata": {},
     "output_type": "execute_result"
    }
   ],
   "source": [
    "time_df['date'] = pd.to_datetime(time_df['date'],format = '%d-%m-%Y %H:%M')\n",
    "time_df.head()"
   ]
  },
  {
   "cell_type": "code",
   "execution_count": 575,
   "id": "e996b9e9",
   "metadata": {},
   "outputs": [
    {
     "name": "stdout",
     "output_type": "stream",
     "text": [
      "<class 'pandas.core.frame.DataFrame'>\n",
      "RangeIndex: 99999 entries, 0 to 99998\n",
      "Data columns (total 8 columns):\n",
      " #   Column    Non-Null Count  Dtype         \n",
      "---  ------    --------------  -----         \n",
      " 0   time_key  99999 non-null  object        \n",
      " 1   date      99999 non-null  datetime64[ns]\n",
      " 2   hour      99999 non-null  int64         \n",
      " 3   day       99999 non-null  int64         \n",
      " 4   week      99999 non-null  object        \n",
      " 5   month     99999 non-null  int64         \n",
      " 6   quarter   99999 non-null  object        \n",
      " 7   year      99999 non-null  int64         \n",
      "dtypes: datetime64[ns](1), int64(4), object(3)\n",
      "memory usage: 6.1+ MB\n"
     ]
    }
   ],
   "source": [
    "time_df['date'] = pd.to_datetime(time_df['date'])\n",
    "time_df.info()"
   ]
  },
  {
   "cell_type": "code",
   "execution_count": 576,
   "id": "c97c98b3",
   "metadata": {},
   "outputs": [
    {
     "name": "stdout",
     "output_type": "stream",
     "text": [
      "<class 'pandas.core.frame.DataFrame'>\n",
      "RangeIndex: 99999 entries, 0 to 99998\n",
      "Data columns (total 8 columns):\n",
      " #   Column    Non-Null Count  Dtype         \n",
      "---  ------    --------------  -----         \n",
      " 0   time_key  99999 non-null  object        \n",
      " 1   date      99999 non-null  datetime64[ns]\n",
      " 2   hour      99999 non-null  int64         \n",
      " 3   day       99999 non-null  int64         \n",
      " 4   week      99999 non-null  object        \n",
      " 5   month     99999 non-null  int64         \n",
      " 6   quarter   99999 non-null  object        \n",
      " 7   year      99999 non-null  int64         \n",
      "dtypes: datetime64[ns](1), int64(4), object(3)\n",
      "memory usage: 6.1+ MB\n"
     ]
    }
   ],
   "source": [
    "time_df.info()"
   ]
  },
  {
   "cell_type": "code",
   "execution_count": 577,
   "id": "818e3ff2",
   "metadata": {},
   "outputs": [
    {
     "data": {
      "text/html": [
       "<div>\n",
       "<style scoped>\n",
       "    .dataframe tbody tr th:only-of-type {\n",
       "        vertical-align: middle;\n",
       "    }\n",
       "\n",
       "    .dataframe tbody tr th {\n",
       "        vertical-align: top;\n",
       "    }\n",
       "\n",
       "    .dataframe thead th {\n",
       "        text-align: right;\n",
       "    }\n",
       "</style>\n",
       "<table border=\"1\" class=\"dataframe\">\n",
       "  <thead>\n",
       "    <tr style=\"text-align: right;\">\n",
       "      <th></th>\n",
       "      <th>payment_key</th>\n",
       "      <th>coustomer_key</th>\n",
       "      <th>time_key</th>\n",
       "      <th>item_key</th>\n",
       "      <th>store_key</th>\n",
       "      <th>quantity</th>\n",
       "      <th>unit</th>\n",
       "      <th>unit_price</th>\n",
       "      <th>total_price</th>\n",
       "    </tr>\n",
       "  </thead>\n",
       "  <tbody>\n",
       "    <tr>\n",
       "      <th>0</th>\n",
       "      <td>P026</td>\n",
       "      <td>C004510</td>\n",
       "      <td>T049189</td>\n",
       "      <td>I00177</td>\n",
       "      <td>S00307</td>\n",
       "      <td>1</td>\n",
       "      <td>ct</td>\n",
       "      <td>35.0</td>\n",
       "      <td>35.0</td>\n",
       "    </tr>\n",
       "    <tr>\n",
       "      <th>1</th>\n",
       "      <td>P022</td>\n",
       "      <td>C008967</td>\n",
       "      <td>T041209</td>\n",
       "      <td>I00248</td>\n",
       "      <td>S00595</td>\n",
       "      <td>1</td>\n",
       "      <td>rolls</td>\n",
       "      <td>26.0</td>\n",
       "      <td>26.0</td>\n",
       "    </tr>\n",
       "    <tr>\n",
       "      <th>2</th>\n",
       "      <td>P030</td>\n",
       "      <td>C007261</td>\n",
       "      <td>T03633</td>\n",
       "      <td>I00195</td>\n",
       "      <td>S00496</td>\n",
       "      <td>8</td>\n",
       "      <td>ct</td>\n",
       "      <td>12.5</td>\n",
       "      <td>100.0</td>\n",
       "    </tr>\n",
       "    <tr>\n",
       "      <th>3</th>\n",
       "      <td>P032</td>\n",
       "      <td>C007048</td>\n",
       "      <td>T084631</td>\n",
       "      <td>I00131</td>\n",
       "      <td>S0086</td>\n",
       "      <td>8</td>\n",
       "      <td>ct</td>\n",
       "      <td>14.0</td>\n",
       "      <td>112.0</td>\n",
       "    </tr>\n",
       "    <tr>\n",
       "      <th>4</th>\n",
       "      <td>P014</td>\n",
       "      <td>C006430</td>\n",
       "      <td>T071276</td>\n",
       "      <td>I00050</td>\n",
       "      <td>S00488</td>\n",
       "      <td>8</td>\n",
       "      <td>cans</td>\n",
       "      <td>8.0</td>\n",
       "      <td>64.0</td>\n",
       "    </tr>\n",
       "  </tbody>\n",
       "</table>\n",
       "</div>"
      ],
      "text/plain": [
       "  payment_key coustomer_key time_key item_key store_key  quantity   unit  \\\n",
       "0        P026       C004510  T049189   I00177    S00307         1     ct   \n",
       "1        P022       C008967  T041209   I00248    S00595         1  rolls   \n",
       "2        P030       C007261   T03633   I00195    S00496         8     ct   \n",
       "3        P032       C007048  T084631   I00131     S0086         8     ct   \n",
       "4        P014       C006430  T071276   I00050    S00488         8   cans   \n",
       "\n",
       "   unit_price  total_price  \n",
       "0        35.0         35.0  \n",
       "1        26.0         26.0  \n",
       "2        12.5        100.0  \n",
       "3        14.0        112.0  \n",
       "4         8.0         64.0  "
      ]
     },
     "execution_count": 577,
     "metadata": {},
     "output_type": "execute_result"
    }
   ],
   "source": [
    "fact_df = pd.read_csv(\"/Users/Administrator/HDA-Tech-Learning/notebook/e-commerece_data.csv\")\n",
    "fact_df.head()"
   ]
  },
  {
   "cell_type": "code",
   "execution_count": 578,
   "id": "d63df3bd",
   "metadata": {},
   "outputs": [
    {
     "name": "stdout",
     "output_type": "stream",
     "text": [
      "<class 'pandas.core.frame.DataFrame'>\n",
      "RangeIndex: 1000000 entries, 0 to 999999\n",
      "Data columns (total 9 columns):\n",
      " #   Column         Non-Null Count    Dtype  \n",
      "---  ------         --------------    -----  \n",
      " 0   payment_key    1000000 non-null  object \n",
      " 1   coustomer_key  1000000 non-null  object \n",
      " 2   time_key       1000000 non-null  object \n",
      " 3   item_key       1000000 non-null  object \n",
      " 4   store_key      1000000 non-null  object \n",
      " 5   quantity       1000000 non-null  int64  \n",
      " 6   unit           996277 non-null   object \n",
      " 7   unit_price     1000000 non-null  float64\n",
      " 8   total_price    1000000 non-null  float64\n",
      "dtypes: float64(2), int64(1), object(6)\n",
      "memory usage: 68.7+ MB\n"
     ]
    }
   ],
   "source": [
    "fact_df.info()"
   ]
  },
  {
   "cell_type": "code",
   "execution_count": 579,
   "id": "710ea611",
   "metadata": {},
   "outputs": [
    {
     "data": {
      "text/plain": [
       "payment_key         0\n",
       "coustomer_key       0\n",
       "time_key            0\n",
       "item_key            0\n",
       "store_key           0\n",
       "quantity            0\n",
       "unit             3723\n",
       "unit_price          0\n",
       "total_price         0\n",
       "dtype: int64"
      ]
     },
     "execution_count": 579,
     "metadata": {},
     "output_type": "execute_result"
    }
   ],
   "source": [
    "fact_df.isna().sum()"
   ]
  },
  {
   "cell_type": "code",
   "execution_count": 580,
   "id": "a1373958",
   "metadata": {},
   "outputs": [
    {
     "data": {
      "text/plain": [
       "payment_key      0\n",
       "coustomer_key    0\n",
       "time_key         0\n",
       "item_key         0\n",
       "store_key        0\n",
       "quantity         0\n",
       "unit             0\n",
       "unit_price       0\n",
       "total_price      0\n",
       "dtype: int64"
      ]
     },
     "execution_count": 580,
     "metadata": {},
     "output_type": "execute_result"
    }
   ],
   "source": [
    "fact_df.dropna(inplace = True)\n",
    "fact_df.isna().sum()"
   ]
  },
  {
   "cell_type": "code",
   "execution_count": 581,
   "id": "cd295d6b",
   "metadata": {},
   "outputs": [
    {
     "data": {
      "text/plain": [
       "payment_key      996238\n",
       "coustomer_key         0\n",
       "time_key              0\n",
       "item_key              0\n",
       "store_key             0\n",
       "quantity              0\n",
       "unit                  0\n",
       "unit_price            0\n",
       "total_price           0\n",
       "dtype: int64"
      ]
     },
     "execution_count": 581,
     "metadata": {},
     "output_type": "execute_result"
    }
   ],
   "source": [
    "fact_df['payment_key'] = fact_df['payment_key'].drop_duplicates(keep='first')\n",
    "fact_df.isna().sum()"
   ]
  },
  {
   "cell_type": "code",
   "execution_count": 582,
   "id": "01b3f615",
   "metadata": {},
   "outputs": [
    {
     "data": {
      "text/plain": [
       "payment_key      0\n",
       "coustomer_key    0\n",
       "time_key         0\n",
       "item_key         0\n",
       "store_key        0\n",
       "quantity         0\n",
       "unit             0\n",
       "unit_price       0\n",
       "total_price      0\n",
       "dtype: int64"
      ]
     },
     "execution_count": 582,
     "metadata": {},
     "output_type": "execute_result"
    }
   ],
   "source": [
    "fact_df.dropna(inplace = True)\n",
    "fact_df.isna().sum()"
   ]
  },
  {
   "cell_type": "markdown",
   "id": "46ec1bde",
   "metadata": {},
   "source": [
    "# Connection with postgreesql"
   ]
  },
  {
   "cell_type": "code",
   "execution_count": 583,
   "id": "cc45c293",
   "metadata": {},
   "outputs": [],
   "source": [
    "class PostgresConnection(object):\n",
    "    def __init__(self):\n",
    "        self.connection = psycopg2.connect(database=\"ecomdb\",\n",
    "                                           user = \"postgres\",\n",
    "                                           password = \"123456\",\n",
    "                                           host = \"127.0.0.1\",\n",
    "                                           port = \"5433\")\n",
    "\n",
    "    def getConnection(self):\n",
    "        print(\"successfully connected to database\")\n",
    "        return self.connection"
   ]
  },
  {
   "cell_type": "code",
   "execution_count": 584,
   "id": "862bca19",
   "metadata": {},
   "outputs": [
    {
     "name": "stdout",
     "output_type": "stream",
     "text": [
      "successfully connected to database\n"
     ]
    }
   ],
   "source": [
    "con = PostgresConnection().getConnection()"
   ]
  },
  {
   "cell_type": "markdown",
   "id": "e08455a1",
   "metadata": {},
   "source": [
    "# Load Data"
   ]
  },
  {
   "cell_type": "code",
   "execution_count": null,
   "id": "f52d210f",
   "metadata": {},
   "outputs": [],
   "source": []
  },
  {
   "cell_type": "code",
   "execution_count": 472,
   "id": "7ca0be11",
   "metadata": {},
   "outputs": [
    {
     "ename": "UniqueViolation",
     "evalue": "duplicate key value violates unique constraint \"pk_11\"\nDETAIL:  Key (payment_key)=(P001) already exists.\n",
     "output_type": "error",
     "traceback": [
      "\u001b[1;31m---------------------------------------------------------------------------\u001b[0m",
      "\u001b[1;31mUniqueViolation\u001b[0m                           Traceback (most recent call last)",
      "\u001b[1;32mC:\\Users\\ADMINI~1\\AppData\\Local\\Temp/ipykernel_13052/1600920034.py\u001b[0m in \u001b[0;36m<module>\u001b[1;34m\u001b[0m\n\u001b[0;32m      4\u001b[0m             \u001b[1;34m\" VALUES (%s, %s, %s)\"\u001b[0m\u001b[1;33m\u001b[0m\u001b[1;33m\u001b[0m\u001b[0m\n\u001b[0;32m      5\u001b[0m \u001b[0mcur\u001b[0m \u001b[1;33m=\u001b[0m \u001b[0mcon\u001b[0m\u001b[1;33m.\u001b[0m\u001b[0mcursor\u001b[0m\u001b[1;33m(\u001b[0m\u001b[1;33m)\u001b[0m\u001b[1;33m\u001b[0m\u001b[1;33m\u001b[0m\u001b[0m\n\u001b[1;32m----> 6\u001b[1;33m \u001b[0mpsycopg2\u001b[0m\u001b[1;33m.\u001b[0m\u001b[0mextras\u001b[0m\u001b[1;33m.\u001b[0m\u001b[0mexecute_batch\u001b[0m\u001b[1;33m(\u001b[0m\u001b[0mcur\u001b[0m\u001b[1;33m,\u001b[0m \u001b[0minsert_sql\u001b[0m\u001b[1;33m,\u001b[0m \u001b[0mtrans_dim\u001b[0m\u001b[1;33m.\u001b[0m\u001b[0mvalues\u001b[0m\u001b[1;33m)\u001b[0m\u001b[1;33m\u001b[0m\u001b[1;33m\u001b[0m\u001b[0m\n\u001b[0m\u001b[0;32m      7\u001b[0m \u001b[0mcon\u001b[0m\u001b[1;33m.\u001b[0m\u001b[0mcommit\u001b[0m\u001b[1;33m(\u001b[0m\u001b[1;33m)\u001b[0m\u001b[1;33m\u001b[0m\u001b[1;33m\u001b[0m\u001b[0m\n\u001b[0;32m      8\u001b[0m \u001b[0mcur\u001b[0m\u001b[1;33m.\u001b[0m\u001b[0mclose\u001b[0m\u001b[1;33m(\u001b[0m\u001b[1;33m)\u001b[0m\u001b[1;33m\u001b[0m\u001b[1;33m\u001b[0m\u001b[0m\n",
      "\u001b[1;32m~\\.conda\\envs\\HDA\\lib\\site-packages\\psycopg2\\extras.py\u001b[0m in \u001b[0;36mexecute_batch\u001b[1;34m(cur, sql, argslist, page_size)\u001b[0m\n\u001b[0;32m   1185\u001b[0m     \u001b[1;32mfor\u001b[0m \u001b[0mpage\u001b[0m \u001b[1;32min\u001b[0m \u001b[0m_paginate\u001b[0m\u001b[1;33m(\u001b[0m\u001b[0margslist\u001b[0m\u001b[1;33m,\u001b[0m \u001b[0mpage_size\u001b[0m\u001b[1;33m=\u001b[0m\u001b[0mpage_size\u001b[0m\u001b[1;33m)\u001b[0m\u001b[1;33m:\u001b[0m\u001b[1;33m\u001b[0m\u001b[1;33m\u001b[0m\u001b[0m\n\u001b[0;32m   1186\u001b[0m         \u001b[0msqls\u001b[0m \u001b[1;33m=\u001b[0m \u001b[1;33m[\u001b[0m\u001b[0mcur\u001b[0m\u001b[1;33m.\u001b[0m\u001b[0mmogrify\u001b[0m\u001b[1;33m(\u001b[0m\u001b[0msql\u001b[0m\u001b[1;33m,\u001b[0m \u001b[0margs\u001b[0m\u001b[1;33m)\u001b[0m \u001b[1;32mfor\u001b[0m \u001b[0margs\u001b[0m \u001b[1;32min\u001b[0m \u001b[0mpage\u001b[0m\u001b[1;33m]\u001b[0m\u001b[1;33m\u001b[0m\u001b[1;33m\u001b[0m\u001b[0m\n\u001b[1;32m-> 1187\u001b[1;33m         \u001b[0mcur\u001b[0m\u001b[1;33m.\u001b[0m\u001b[0mexecute\u001b[0m\u001b[1;33m(\u001b[0m\u001b[1;34mb\";\"\u001b[0m\u001b[1;33m.\u001b[0m\u001b[0mjoin\u001b[0m\u001b[1;33m(\u001b[0m\u001b[0msqls\u001b[0m\u001b[1;33m)\u001b[0m\u001b[1;33m)\u001b[0m\u001b[1;33m\u001b[0m\u001b[1;33m\u001b[0m\u001b[0m\n\u001b[0m\u001b[0;32m   1188\u001b[0m \u001b[1;33m\u001b[0m\u001b[0m\n\u001b[0;32m   1189\u001b[0m \u001b[1;33m\u001b[0m\u001b[0m\n",
      "\u001b[1;31mUniqueViolation\u001b[0m: duplicate key value violates unique constraint \"pk_11\"\nDETAIL:  Key (payment_key)=(P001) already exists.\n"
     ]
    }
   ],
   "source": [
    "#Trans_dim table \n",
    "\n",
    "insert_sql = \"INSERT INTO ecomdb.trans_dim ( payment_key, trans_type, bank_name)\" \\\n",
    "            \" VALUES (%s, %s, %s)\"\n",
    "cur = con.cursor()\n",
    "psycopg2.extras.execute_batch(cur, insert_sql, trans_dim.values)\n",
    "con.commit()\n",
    "cur.close()"
   ]
  },
  {
   "cell_type": "code",
   "execution_count": null,
   "id": "5681df4b",
   "metadata": {},
   "outputs": [],
   "source": [
    "# cur = con.cursor()\n",
    "# select_stmt = \"SELECT t.payment_key , t.trans_type, t.bank_name \" \\\n",
    "#               \"FROM ecomdb.trans_dim t\"\n",
    "# cur.execute(select_stmt)\n",
    "# records = cur.fetchall()"
   ]
  },
  {
   "cell_type": "code",
   "execution_count": null,
   "id": "05c3e578",
   "metadata": {},
   "outputs": [],
   "source": [
    "#store_dim table\n",
    "sql_for_store = \"INSERT INTO ecomdb.store_dim(store_key,division, district,upazila)\"\\\n",
    "                \"VALUES (%s , %s, %s, %s)\"\n",
    "cur = con.cursor()\n",
    "psycopg2.extras.execute_batch(cur,sql_for_store,store_df.values)\n",
    "con.commit()\n",
    "cur.close()"
   ]
  },
  {
   "cell_type": "code",
   "execution_count": 178,
   "id": "4a828808",
   "metadata": {},
   "outputs": [],
   "source": [
    "#Item_dim table \n",
    "\n",
    "sql_for_item = \"INSERT INTO ecomdb.item_dim(item_key, item_name, desc_,unit_price, man_country, supplier, unit)\"\\\n",
    "               \" VALUES (%s, %s, %s, %s, %s, %s, %s)\"\n",
    "cur = con.cursor()\n",
    "psycopg2.extras.execute_batch(cur, sql_for_item , item_df.values)\n",
    "con.commit()\n",
    "cur.close()"
   ]
  },
  {
   "cell_type": "code",
   "execution_count": 182,
   "id": "fc802b8a",
   "metadata": {},
   "outputs": [],
   "source": [
    "# sql_for_item = \"INSERT INTO ecomdb.item_dim(item_key, item_name, desc_,unit_price, man_country, supplier, unit)\"\\\n",
    "#                \" VALUES (%s, %s, %s, %s, %s, %s, %s)\"\n",
    "\n",
    "# curr = con.cursor()\n",
    "# curr.execute(sql_for_item)"
   ]
  },
  {
   "cell_type": "code",
   "execution_count": 301,
   "id": "7a863ec1",
   "metadata": {},
   "outputs": [],
   "source": [
    "#Customer table \n",
    "sql_for_customer = \"INSERT INTO ecomdb.coustomer_dim(coustomer_key,name,contact_no,nid)\"\\\n",
    "                    \"VALUES (%s,%s,%s,%s)\"\n",
    "cur = con.cursor()\n",
    "psycopg2.extras.execute_batch(cur,sql_for_customer, customer_df.values)\n",
    "con.commit()\n",
    "cur.close()"
   ]
  },
  {
   "cell_type": "markdown",
   "id": "0ae810eb",
   "metadata": {},
   "source": [
    "#### Time table "
   ]
  },
  {
   "cell_type": "code",
   "execution_count": 312,
   "id": "af552466",
   "metadata": {},
   "outputs": [],
   "source": [
    "#Time table \n",
    "sql_for_time = \"INSERT INTO ecomdb.time_dim(time_key, date, hour , day, week , month , quarter, year)\"\\\n",
    "               \"VALUES(%s,%s,%s,%s,%s,%s,%s,%s)\"\n",
    "cur = con.cursor()\n",
    "psycopg2.extras.execute_batch(cur,sql_for_time, time_df.values)\n",
    "con.commit()\n",
    "cur.close()"
   ]
  },
  {
   "cell_type": "markdown",
   "id": "9f45e9c7",
   "metadata": {},
   "source": [
    "#### Fact date"
   ]
  },
  {
   "cell_type": "code",
   "execution_count": 585,
   "id": "a5a1bee7",
   "metadata": {},
   "outputs": [],
   "source": [
    "sql_for_fact = \"INSERT INTO ecomdb.fact_table(payment_key,coustomer_key,time_key,item_key,store_key, quantity,unit,unit_price, total_price)\"\\\n",
    "               \"VALUES(%s, %s, %s, %s,%s, %s, %s, %s, %s)\"   \n",
    "cur = con.cursor()\n",
    "psycopg2.extras.execute_batch(cur, sql_for_fact , fact_df.values)\n",
    "con.commit()\n",
    "cur.close()"
   ]
  },
  {
   "cell_type": "code",
   "execution_count": null,
   "id": "80cbe2ae",
   "metadata": {},
   "outputs": [],
   "source": []
  },
  {
   "cell_type": "code",
   "execution_count": 194,
   "id": "0d299a68",
   "metadata": {},
   "outputs": [],
   "source": [
    "mycursor = con.cursor()\n",
    "query = \"SELECT payment_key ,coustomer_key FROM ecombd where unit='ct' \"\n"
   ]
  },
  {
   "cell_type": "code",
   "execution_count": 195,
   "id": "48ba1e51",
   "metadata": {},
   "outputs": [],
   "source": []
  },
  {
   "cell_type": "code",
   "execution_count": 587,
   "id": "71249256",
   "metadata": {},
   "outputs": [],
   "source": [
    "# len(record)"
   ]
  },
  {
   "cell_type": "code",
   "execution_count": 586,
   "id": "c8282c38",
   "metadata": {},
   "outputs": [],
   "source": [
    "# mycursor.execute(query)\n",
    "# record = mycursor.fetchall()\n",
    "# record[:20]"
   ]
  },
  {
   "cell_type": "markdown",
   "id": "e6077534",
   "metadata": {},
   "source": [
    "# Data insertion"
   ]
  },
  {
   "cell_type": "code",
   "execution_count": 199,
   "id": "21c5b5a0",
   "metadata": {},
   "outputs": [],
   "source": [
    "mycursor.execute(\"INSERT INTO ecombd (coustomer_key,time_key, unit) VALUES ('C123456','T123456','BG')\")"
   ]
  },
  {
   "cell_type": "code",
   "execution_count": 200,
   "id": "c62fbb32",
   "metadata": {},
   "outputs": [],
   "source": [
    "mycursor.execute(\"INSERT INTO ecombd (coustomer_key,time_key, unit) VALUES ('C78910','T78910','BG')\")"
   ]
  },
  {
   "cell_type": "code",
   "execution_count": 201,
   "id": "89eb2e5c",
   "metadata": {},
   "outputs": [],
   "source": []
  },
  {
   "cell_type": "code",
   "execution_count": 202,
   "id": "8003f730",
   "metadata": {},
   "outputs": [],
   "source": [
    "query = \"SELECT *FROM ecombd WHERE unit='BG'\""
   ]
  },
  {
   "cell_type": "code",
   "execution_count": 203,
   "id": "953cf7fa",
   "metadata": {},
   "outputs": [],
   "source": [
    "mycursor.execute(query)\n",
    "records = mycursor.fetchall()"
   ]
  },
  {
   "cell_type": "code",
   "execution_count": 204,
   "id": "37300dcc",
   "metadata": {},
   "outputs": [
    {
     "data": {
      "text/plain": [
       "[(None, 'C123456', 'T123456', None, None, None, 'BG', None, None),\n",
       " (None, 'C78910', 'T78910', None, None, None, 'BG', None, None)]"
      ]
     },
     "execution_count": 204,
     "metadata": {},
     "output_type": "execute_result"
    }
   ],
   "source": [
    "records"
   ]
  },
  {
   "cell_type": "code",
   "execution_count": null,
   "id": "5bb30203",
   "metadata": {},
   "outputs": [],
   "source": []
  }
 ],
 "metadata": {
  "kernelspec": {
   "display_name": "Python 3 (ipykernel)",
   "language": "python",
   "name": "python3"
  },
  "language_info": {
   "codemirror_mode": {
    "name": "ipython",
    "version": 3
   },
   "file_extension": ".py",
   "mimetype": "text/x-python",
   "name": "python",
   "nbconvert_exporter": "python",
   "pygments_lexer": "ipython3",
   "version": "3.8.12"
  }
 },
 "nbformat": 4,
 "nbformat_minor": 5
}
