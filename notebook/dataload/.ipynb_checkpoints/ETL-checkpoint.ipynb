{
 "cells": [
  {
   "cell_type": "markdown",
   "id": "e9a468a7",
   "metadata": {},
   "source": [
    "### Package installation"
   ]
  },
  {
   "cell_type": "code",
   "execution_count": 1,
   "id": "c1e39e8b",
   "metadata": {},
   "outputs": [
    {
     "name": "stdout",
     "output_type": "stream",
     "text": [
      "Collecting psycopg2\n",
      "  Downloading psycopg2-2.9.3-cp310-cp310-win_amd64.whl (1.2 MB)\n",
      "     ---------------------------------------- 1.2/1.2 MB 2.3 MB/s eta 0:00:00\n",
      "Installing collected packages: psycopg2\n",
      "Successfully installed psycopg2-2.9.3\n",
      "Note: you may need to restart the kernel to use updated packages.\n"
     ]
    }
   ],
   "source": [
    "pip install psycopg2"
   ]
  },
  {
   "cell_type": "code",
   "execution_count": null,
   "id": "4e53af6a",
   "metadata": {},
   "outputs": [],
   "source": []
  },
  {
   "cell_type": "markdown",
   "id": "5aabcafc",
   "metadata": {},
   "source": [
    "### Package call"
   ]
  },
  {
   "cell_type": "code",
   "execution_count": 3,
   "id": "6ece9436",
   "metadata": {},
   "outputs": [],
   "source": [
    "import psycopg2\n"
   ]
  },
  {
   "cell_type": "markdown",
   "id": "75e1b5c4",
   "metadata": {},
   "source": [
    "### Extract"
   ]
  },
  {
   "cell_type": "markdown",
   "id": "a5937007",
   "metadata": {},
   "source": [
    "***Read from excel file***"
   ]
  },
  {
   "cell_type": "code",
   "execution_count": null,
   "id": "b772afcf",
   "metadata": {},
   "outputs": [],
   "source": []
  },
  {
   "cell_type": "markdown",
   "id": "f746a7f9",
   "metadata": {},
   "source": [
    "### Transform"
   ]
  },
  {
   "cell_type": "code",
   "execution_count": null,
   "id": "10cf48a7",
   "metadata": {},
   "outputs": [],
   "source": []
  },
  {
   "cell_type": "code",
   "execution_count": null,
   "id": "7074a649",
   "metadata": {},
   "outputs": [],
   "source": []
  },
  {
   "cell_type": "markdown",
   "id": "110fa63e",
   "metadata": {},
   "source": [
    "### Load"
   ]
  },
  {
   "cell_type": "markdown",
   "id": "dbd8ec63",
   "metadata": {},
   "source": [
    "***Connect to the database***"
   ]
  },
  {
   "cell_type": "code",
   "execution_count": 22,
   "id": "5d3f72cb",
   "metadata": {},
   "outputs": [],
   "source": [
    "\n",
    "class PostgresConnection(object):\n",
    "    def __init__(self):\n",
    "        self.connection = psycopg2.connect(database=\"ecomdb\",\n",
    "                                           user = \"postgres\",\n",
    "                                           password = \"admin\",\n",
    "                                           host = \"127.0.0.1\",\n",
    "                                           port = \"5432\")\n",
    "\n",
    "    def getConnection(self):\n",
    "        print(\"successfully connected to database\")\n",
    "        return self.connection"
   ]
  },
  {
   "cell_type": "code",
   "execution_count": null,
   "id": "b3b25bcf",
   "metadata": {},
   "outputs": [],
   "source": []
  },
  {
   "cell_type": "code",
   "execution_count": 24,
   "id": "add24549",
   "metadata": {},
   "outputs": [
    {
     "name": "stdout",
     "output_type": "stream",
     "text": [
      "successfully connected to database\n"
     ]
    }
   ],
   "source": [
    "con = PostgresConnection().getConnection()\n",
    "con.autocommit = True"
   ]
  },
  {
   "cell_type": "code",
   "execution_count": 20,
   "id": "4c3052d5",
   "metadata": {},
   "outputs": [
    {
     "name": "stdout",
     "output_type": "stream",
     "text": [
      "Collecting pandas\n",
      "  Downloading pandas-1.4.0-cp310-cp310-win_amd64.whl (10.6 MB)\n",
      "     ---------------------------------------- 10.6/10.6 MB 1.1 MB/s eta 0:00:00\n",
      "Collecting pytz>=2020.1\n",
      "  Using cached pytz-2021.3-py2.py3-none-any.whl (503 kB)\n",
      "Collecting numpy>=1.21.0\n",
      "  Downloading numpy-1.22.2-cp310-cp310-win_amd64.whl (14.7 MB)\n",
      "     -------------------------------------- 14.7/14.7 MB 287.6 kB/s eta 0:00:00\n",
      "Requirement already satisfied: python-dateutil>=2.8.1 in c:\\python310\\lib\\site-packages (from pandas) (2.8.2)\n",
      "Requirement already satisfied: six>=1.5 in c:\\python310\\lib\\site-packages (from python-dateutil>=2.8.1->pandas) (1.16.0)\n",
      "Installing collected packages: pytz, numpy, pandas\n",
      "Successfully installed numpy-1.22.2 pandas-1.4.0 pytz-2021.3\n",
      "Note: you may need to restart the kernel to use updated packages.\n"
     ]
    }
   ],
   "source": [
    "pip install pandas"
   ]
  },
  {
   "cell_type": "code",
   "execution_count": null,
   "id": "a6856ae5",
   "metadata": {},
   "outputs": [],
   "source": [
    "import panda as pd\n",
    "\n",
    "time_dim  = pd.read_csv('')"
   ]
  },
  {
   "cell_type": "code",
   "execution_count": 29,
   "id": "2d8f8a04",
   "metadata": {},
   "outputs": [
    {
     "ename": "UndefinedTable",
     "evalue": "relation \"public.fact_data\" does not exist\nLINE 1: SELECT * FROM public.Fact_data\n                      ^\n",
     "output_type": "error",
     "traceback": [
      "\u001b[1;31m---------------------------------------------------------------------------\u001b[0m",
      "\u001b[1;31mUndefinedTable\u001b[0m                            Traceback (most recent call last)",
      "Input \u001b[1;32mIn [29]\u001b[0m, in \u001b[0;36m<module>\u001b[1;34m\u001b[0m\n\u001b[0;32m      2\u001b[0m \u001b[38;5;66;03m# query = \"SELECT t.age, count(DISTINCT(t.pik)) \" \\\u001b[39;00m\n\u001b[0;32m      3\u001b[0m \u001b[38;5;66;03m#         \"FROM datamarts.diabetes_datamart t \" \\\u001b[39;00m\n\u001b[0;32m      4\u001b[0m \u001b[38;5;66;03m#         \"WHERE t.diabetes_status = 1 \" \\\u001b[39;00m\n\u001b[0;32m      5\u001b[0m \u001b[38;5;66;03m#         \"GROUP BY t.age\"\u001b[39;00m\n\u001b[0;32m      7\u001b[0m query \u001b[38;5;241m=\u001b[39m \u001b[38;5;124m\"\u001b[39m\u001b[38;5;124mSELECT * FROM public.Fact_data\u001b[39m\u001b[38;5;124m\"\u001b[39m\n\u001b[1;32m----> 8\u001b[0m \u001b[43mmycursor\u001b[49m\u001b[38;5;241;43m.\u001b[39;49m\u001b[43mexecute\u001b[49m\u001b[43m(\u001b[49m\u001b[43mquery\u001b[49m\u001b[43m)\u001b[49m\n\u001b[0;32m      9\u001b[0m record \u001b[38;5;241m=\u001b[39m mycursor\u001b[38;5;241m.\u001b[39mfetchall()\n",
      "\u001b[1;31mUndefinedTable\u001b[0m: relation \"public.fact_data\" does not exist\nLINE 1: SELECT * FROM public.Fact_data\n                      ^\n"
     ]
    }
   ],
   "source": [
    "mycursor = con.cursor()\n",
    "# query = \"SELECT t.age, count(DISTINCT(t.pik)) \" \\\n",
    "#         \"FROM datamarts.diabetes_datamart t \" \\\n",
    "#         \"WHERE t.diabetes_status = 1 \" \\\n",
    "#         \"GROUP BY t.age\"\n",
    "\n",
    "query = \"SELECT * FROM public.Fact_data\"\n",
    "mycursor.execute(query)\n",
    "record = mycursor.fetchall()"
   ]
  },
  {
   "cell_type": "code",
   "execution_count": null,
   "id": "cbe593e5",
   "metadata": {},
   "outputs": [],
   "source": []
  }
 ],
 "metadata": {
  "kernelspec": {
   "display_name": "Python 3 (ipykernel)",
   "language": "python",
   "name": "python3"
  },
  "language_info": {
   "codemirror_mode": {
    "name": "ipython",
    "version": 3
   },
   "file_extension": ".py",
   "mimetype": "text/x-python",
   "name": "python",
   "nbconvert_exporter": "python",
   "pygments_lexer": "ipython3",
   "version": "3.10.1"
  }
 },
 "nbformat": 4,
 "nbformat_minor": 5
}
