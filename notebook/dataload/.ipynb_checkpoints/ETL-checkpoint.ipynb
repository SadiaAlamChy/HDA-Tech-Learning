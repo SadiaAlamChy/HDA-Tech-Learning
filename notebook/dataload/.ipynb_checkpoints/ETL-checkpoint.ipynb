{
 "cells": [
  {
   "cell_type": "markdown",
   "id": "e9a468a7",
   "metadata": {},
   "source": [
    "### Package installation"
   ]
  },
  {
   "cell_type": "code",
   "execution_count": null,
   "id": "c1e39e8b",
   "metadata": {},
   "outputs": [],
   "source": [
    "pip install psycopg2"
   ]
  },
  {
   "cell_type": "code",
   "execution_count": null,
   "id": "4e53af6a",
   "metadata": {},
   "outputs": [],
   "source": []
  },
  {
   "cell_type": "markdown",
   "id": "5aabcafc",
   "metadata": {},
   "source": [
    "### Package call"
   ]
  },
  {
   "cell_type": "code",
   "execution_count": 4,
   "id": "6ece9436",
   "metadata": {},
   "outputs": [],
   "source": [
    "import psycopg2\n"
   ]
  },
  {
   "cell_type": "markdown",
   "id": "75e1b5c4",
   "metadata": {},
   "source": [
    "### Extract"
   ]
  },
  {
   "cell_type": "markdown",
   "id": "a5937007",
   "metadata": {},
   "source": [
    "***Read from excel file***"
   ]
  },
  {
   "cell_type": "code",
   "execution_count": null,
   "id": "b772afcf",
   "metadata": {},
   "outputs": [],
   "source": []
  },
  {
   "cell_type": "markdown",
   "id": "f746a7f9",
   "metadata": {},
   "source": [
    "### Transform"
   ]
  },
  {
   "cell_type": "code",
   "execution_count": null,
   "id": "10cf48a7",
   "metadata": {},
   "outputs": [],
   "source": []
  },
  {
   "cell_type": "code",
   "execution_count": null,
   "id": "7074a649",
   "metadata": {},
   "outputs": [],
   "source": []
  },
  {
   "cell_type": "markdown",
   "id": "110fa63e",
   "metadata": {},
   "source": [
    "### Load"
   ]
  },
  {
   "cell_type": "markdown",
   "id": "dbd8ec63",
   "metadata": {},
   "source": [
    "***Connect to the database***"
   ]
  },
  {
   "cell_type": "code",
   "execution_count": 5,
   "id": "5d3f72cb",
   "metadata": {},
   "outputs": [],
   "source": [
    "class PostgresConnection(object):\n",
    "    def __init__(self):\n",
    "        self.connection = psycopg2.connect(database=\"ecomdb\",\n",
    "                                           user = \"postgres\",\n",
    "                                           password = \"postgres\",\n",
    "                                           host = \"127.0.0.1\",\n",
    "                                           port = \"5432\")\n",
    "\n",
    "    def getConnection(self):\n",
    "        print(\"successfully connected to database\")\n",
    "        return self.connection"
   ]
  },
  {
   "cell_type": "code",
   "execution_count": 6,
   "id": "add24549",
   "metadata": {},
   "outputs": [
    {
     "name": "stdout",
     "output_type": "stream",
     "text": [
      "successfully connected to database\n"
     ]
    }
   ],
   "source": [
    "con = PostgresConnection().getConnection()"
   ]
  },
  {
   "cell_type": "markdown",
   "id": "4ca74c24",
   "metadata": {},
   "source": [
    "***creating tables on ecomdb***"
   ]
  },
  {
   "cell_type": "code",
   "execution_count": 7,
   "id": "5fd88787",
   "metadata": {},
   "outputs": [],
   "source": [
    "def create_tables():\n",
    "    \"\"\" create tables in the PostgreSQL database\"\"\"\n",
    "    commands = (\n",
    "        \"\"\" CREATE TABLE Trans_dim (\n",
    "                payment_key varchar(50) NOT NULL,\n",
    "                trans_type varchar(10) NOT NULL,\n",
    "                bank_name varchar(100) NOT NULL,\n",
    "                CONSTRAINT PK_7 PRIMARY KEY ( payment_key )\n",
    "        )\n",
    "        \"\"\",\n",
    "        \"\"\" CREATE TABLE Coustomer_dim (\n",
    "                coustomer_key varchar(50) NOT NULL,\n",
    "                name varchar(50) NULL,\n",
    "                contact_no varchar(20) NOT NULL,\n",
    "                nid integer NOT NULL,\n",
    "                CONSTRAINT PK_21 PRIMARY KEY ( coustomer_key )\n",
    "        )\n",
    "        \"\"\",\n",
    "        \n",
    "        \"\"\" CREATE TABLE Time_dim (\n",
    "                time_key varchar(50) NOT NULL,\n",
    "                \"date\" timestamp NOT NULL,\n",
    "                hour integer NOT NULL,\n",
    "                day integer NOT NULL,\n",
    "                week varchar(50) NOT NULL,\n",
    "                month integer NOT NULL,\n",
    "                quarter varchar(10) NOT NULL,\n",
    "                year integer NOT NULL,\n",
    "                CONSTRAINT PK_27 PRIMARY KEY ( time_key )\n",
    "        )\n",
    "        \"\"\",\n",
    "        \n",
    "        \"\"\" CREATE TABLE Item_dim (\n",
    "                item_key varchar(50) NOT NULL,\n",
    "                item_name varchar(100) NOT NULL,\n",
    "                \"desc\" varchar(50) NOT NULL,\n",
    "                unit_price numeric NOT NULL,\n",
    "                man_country varchar(20) NOT NULL,\n",
    "                supplier varchar(100) NOT NULL,\n",
    "                unit varchar(10) NULL,\n",
    "                CONSTRAINT PK_12 PRIMARY KEY ( item_key )\n",
    "        )\n",
    "        \"\"\",\n",
    "        \n",
    "        \"\"\" CREATE TABLE Store_dim (\n",
    "                store_key varchar(50) NOT NULL,\n",
    "                division  varchar(50) NOT NULL,\n",
    "                district  varchar(50) NOT NULL,\n",
    "                upazila   varchar(50) NOT NULL,\n",
    "                CONSTRAINT PK_37 PRIMARY KEY ( store_key )\n",
    "        )\n",
    "        \"\"\",\n",
    "        \"\"\" CREATE TABLE Fact_table (\n",
    "                payment_key   varchar(50) NOT NULL,\n",
    "                store_key     varchar(50) NOT NULL,\n",
    "                item_key      varchar(50) NOT NULL,\n",
    "                time_key      varchar(50) NOT NULL,\n",
    "                coustomer_key varchar(50) NOT NULL,\n",
    "                quantity      integer NOT NULL,\n",
    "                unit          varchar(50) NULL,\n",
    "                unit_price    numeric NOT NULL,\n",
    "                total_price   numeric NOT NULL,\n",
    "                CONSTRAINT FK_46 FOREIGN KEY ( payment_key ) REFERENCES Trans_dim ( payment_key ),\n",
    "                CONSTRAINT FK_49 FOREIGN KEY ( coustomer_key ) REFERENCES Coustomer_dim ( coustomer_key ),\n",
    "                CONSTRAINT FK_54 FOREIGN KEY ( time_key ) REFERENCES Time_dim ( time_key ),\n",
    "                CONSTRAINT FK_57 FOREIGN KEY ( item_key ) REFERENCES Item_dim ( item_key ),\n",
    "                CONSTRAINT FK_60 FOREIGN KEY ( store_key ) REFERENCES Store_dim ( store_key )\n",
    "        )\n",
    "        \"\"\",\n",
    "        \"\"\"\n",
    "        CREATE INDEX FK_48 ON Fact_table (\n",
    "             payment_key)\n",
    "        \"\"\",\n",
    "        \"\"\"CREATE INDEX FK_51 ON Fact_table( \n",
    "             coustomer_key\n",
    "        )\n",
    "        \"\"\", \n",
    "        \"\"\"CREATE INDEX FK_56 ON Fact_table(\n",
    "             time_key\n",
    "        )\n",
    "        \"\"\", \n",
    "        \"\"\"CREATE INDEX FK_59 ON Fact_table(\n",
    "            item_key\n",
    "        )\n",
    "        \"\"\",\n",
    "        \"\"\"\n",
    "        CREATE INDEX FK_62 ON Fact_table (\n",
    "            store_key\n",
    "        )\n",
    "        \"\"\"\n",
    "        )\n",
    "    try:\n",
    "        cur = con.cursor()\n",
    "        # create table one by one\n",
    "        for command in commands:\n",
    "            cur.execute(command)\n",
    "        # close communication with the PostgreSQL database server\n",
    "        cur.close()\n",
    "        # commit the changes\n",
    "        con.commit()\n",
    "    except (Exception, psycopg2.DatabaseError) as error:\n",
    "        print(error)\n",
    "    finally:\n",
    "        if con is not None:\n",
    "            con.close()\n",
    "\n",
    "\n",
    "if __name__ == '__main__':\n",
    "    create_tables()"
   ]
  },
  {
   "cell_type": "code",
   "execution_count": null,
   "id": "be93222a",
   "metadata": {},
   "outputs": [],
   "source": []
  }
 ],
 "metadata": {
  "kernelspec": {
   "display_name": "Python 3 (ipykernel)",
   "language": "python",
   "name": "python3"
  },
  "language_info": {
   "codemirror_mode": {
    "name": "ipython",
    "version": 3
   },
   "file_extension": ".py",
   "mimetype": "text/x-python",
   "name": "python",
   "nbconvert_exporter": "python",
   "pygments_lexer": "ipython3",
   "version": "3.9.7"
  }
 },
 "nbformat": 4,
 "nbformat_minor": 5
}
