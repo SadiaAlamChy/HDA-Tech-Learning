{
 "cells": [
  {
   "cell_type": "markdown",
   "id": "e9a468a7",
   "metadata": {},
   "source": [
    "### Package installation"
   ]
  },
  {
   "cell_type": "code",
   "execution_count": 1,
   "id": "c1e39e8b",
   "metadata": {},
   "outputs": [
    {
     "name": "stdout",
     "output_type": "stream",
     "text": [
      "Collecting psycopg2\n",
      "  Downloading psycopg2-2.9.3.tar.gz (380 kB)\n",
      "     |████████████████████████████████| 380 kB 1.0 MB/s            \n",
      "\u001b[?25h  Preparing metadata (setup.py) ... \u001b[?25ldone\n",
      "\u001b[?25hBuilding wheels for collected packages: psycopg2\n",
      "  Building wheel for psycopg2 (setup.py) ... \u001b[?25ldone\n",
      "\u001b[?25h  Created wheel for psycopg2: filename=psycopg2-2.9.3-cp38-cp38-linux_x86_64.whl size=568788 sha256=ab7ba23b24598cd877f122d939059ae9d18904bd3b7924d096aaa97a6d2c009b\n",
      "  Stored in directory: /home/raihan/.cache/pip/wheels/f3/dc/e2/b8e0e2142eff7fd680295ecd2d92e3bfbb90195523e43da161\n",
      "Successfully built psycopg2\n",
      "Installing collected packages: psycopg2\n",
      "Successfully installed psycopg2-2.9.3\n",
      "\u001b[33mWARNING: You are using pip version 21.3.1; however, version 22.0.3 is available.\n",
      "You should consider upgrading via the '/home/raihan/eSRD-Lab/HDA/hdaenv/bin/python -m pip install --upgrade pip' command.\u001b[0m\n",
      "Note: you may need to restart the kernel to use updated packages.\n"
     ]
    }
   ],
   "source": [
    "pip install psycopg2"
   ]
  },
  {
   "cell_type": "code",
   "execution_count": null,
   "id": "4e53af6a",
   "metadata": {},
   "outputs": [],
   "source": []
  },
  {
   "cell_type": "markdown",
   "id": "5aabcafc",
   "metadata": {},
   "source": [
    "### Package call"
   ]
  },
  {
   "cell_type": "code",
   "execution_count": 15,
   "id": "6ece9436",
   "metadata": {},
   "outputs": [],
   "source": [
    "import psycopg2\n"
   ]
  },
  {
   "cell_type": "markdown",
   "id": "75e1b5c4",
   "metadata": {},
   "source": [
    "### Extract"
   ]
  },
  {
   "cell_type": "markdown",
   "id": "a5937007",
   "metadata": {},
   "source": [
    "***Read from excel file***"
   ]
  },
  {
   "cell_type": "code",
   "execution_count": 13,
   "id": "b772afcf",
   "metadata": {},
   "outputs": [],
   "source": []
  },
  {
   "cell_type": "markdown",
   "id": "f746a7f9",
   "metadata": {},
   "source": [
    "### Transform"
   ]
  },
  {
   "cell_type": "code",
   "execution_count": null,
   "id": "10cf48a7",
   "metadata": {},
   "outputs": [],
   "source": []
  },
  {
   "cell_type": "code",
   "execution_count": null,
   "id": "7074a649",
   "metadata": {},
   "outputs": [],
   "source": []
  },
  {
   "cell_type": "markdown",
   "id": "110fa63e",
   "metadata": {},
   "source": [
    "### Load"
   ]
  },
  {
   "cell_type": "markdown",
   "id": "dbd8ec63",
   "metadata": {},
   "source": [
    "***Connect to the database***"
   ]
  },
  {
   "cell_type": "code",
   "execution_count": null,
   "id": "5d3f72cb",
   "metadata": {},
   "outputs": [],
   "source": [
    "\n",
    "class PostgresConnection(object):\n",
    "    def __init__(self):\n",
    "        self.connection = psycopg2.connect(database=\"test\",\n",
    "                                           user = \"postgres\",\n",
    "                                           password = \"123456\",\n",
    "                                           host = \"127.0.0.1\",\n",
    "                                           port = \"5432\")\n",
    "\n",
    "    def getConnection(self):\n",
    "        print(\"successfully connected to database\")\n",
    "        return self.connection"
   ]
  },
  {
   "cell_type": "code",
   "execution_count": 9,
   "id": "add24549",
   "metadata": {},
   "outputs": [
    {
     "name": "stdout",
     "output_type": "stream",
     "text": [
      "successfully connected to database\n"
     ]
    }
   ],
   "source": [
    "con = PostgresConnection().getConnection()"
   ]
  },
  {
   "cell_type": "code",
   "execution_count": null,
   "id": "2d8f8a04",
   "metadata": {},
   "outputs": [],
   "source": [
    "mycursor = con.cursor()\n",
    "query = \"SELECT t.age, count(DISTINCT(t.pik)) \" \\\n",
    "        \"FROM datamarts.diabetes_datamart t \" \\\n",
    "        \"WHERE t.diabetes_status = 1 \" \\\n",
    "        \"GROUP BY t.age\"\n",
    "mycursor.execute(query)\n",
    "record = mycursor.fetchall()"
   ]
  }
 ],
 "metadata": {
  "kernelspec": {
   "display_name": "Python 3 (ipykernel)",
   "language": "python",
   "name": "python3"
  },
  "language_info": {
   "codemirror_mode": {
    "name": "ipython",
    "version": 3
   },
   "file_extension": ".py",
   "mimetype": "text/x-python",
   "name": "python",
   "nbconvert_exporter": "python",
   "pygments_lexer": "ipython3",
   "version": "3.8.10"
  }
 },
 "nbformat": 4,
 "nbformat_minor": 5
}
