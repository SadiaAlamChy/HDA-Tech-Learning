{
 "cells": [
  {
   "cell_type": "markdown",
   "id": "a3200e5d",
   "metadata": {},
   "source": [
    "## Installation"
   ]
  },
  {
   "cell_type": "code",
   "execution_count": null,
   "id": "9897ad6e",
   "metadata": {},
   "outputs": [],
   "source": [
    "pip install sklearn"
   ]
  },
  {
   "cell_type": "markdown",
   "id": "1bde5085",
   "metadata": {},
   "source": [
    "## Import libraries' "
   ]
  },
  {
   "cell_type": "code",
   "execution_count": 1,
   "id": "9688f12c",
   "metadata": {},
   "outputs": [],
   "source": [
    "import pandas as pd\n",
    "import numpy as np\n",
    "import matplotlib.pyplot as plt\n",
    "import sklearn as sk\n",
    "import seaborn as sns"
   ]
  },
  {
   "cell_type": "code",
   "execution_count": null,
   "id": "96fcadd7",
   "metadata": {},
   "outputs": [],
   "source": [
    "import psycopg2\n",
    "import psycopg2.extras\n",
    "import pandas.io.sql as sqlio\n",
    "\n",
    "#import warnings\n",
    "#warnings.filterwarnings('ignore')"
   ]
  },
  {
   "cell_type": "markdown",
   "id": "41bd3d66",
   "metadata": {},
   "source": [
    "## Load Dataset From CSV"
   ]
  },
  {
   "cell_type": "code",
   "execution_count": 6,
   "id": "0dd94086",
   "metadata": {},
   "outputs": [],
   "source": [
    "cus = pd.read_csv(\"dataset/Coustomer_dim.csv\",low_memory=False)\n",
    "fact = pd.read_csv(\"dataset/Fact_data.csv\",low_memory=False)\n",
    "item = pd.read_csv(\"dataset/Item_dim.csv\",low_memory=False)\n",
    "store = pd.read_csv(\"dataset/Store_dim.csv\",low_memory=False)\n",
    "time = pd.read_csv(\"dataset/Time_dim.csv\",low_memory=False)\n",
    "trans = pd.read_csv(\"dataset/Trans_dim.csv\",low_memory=False)"
   ]
  },
  {
   "cell_type": "markdown",
   "id": "87ced80d",
   "metadata": {},
   "source": [
    "## Load Dataset From Postgres"
   ]
  },
  {
   "cell_type": "markdown",
   "id": "b2d985a1",
   "metadata": {},
   "source": [
    "**Connect to the database**"
   ]
  },
  {
   "cell_type": "code",
   "execution_count": 32,
   "id": "7487634b",
   "metadata": {},
   "outputs": [
    {
     "name": "stdout",
     "output_type": "stream",
     "text": [
      "successfully connected to database\n"
     ]
    }
   ],
   "source": [
    "conn = psycopg2.connect(database=\"ecomdb\",\n",
    "                                           user = \"postgres\",\n",
    "                                           password = \"afra1234\",\n",
    "                                           host = \"127.0.0.1\",\n",
    "                                           port = \"5432\")\n",
    "print(\"successfully connected to database\")  "
   ]
  },
  {
   "cell_type": "code",
   "execution_count": 97,
   "id": "d98db865",
   "metadata": {},
   "outputs": [],
   "source": [
    "cur = conn.cursor()\n",
    "select_stmt = \"select i.item_key,s.store_key, t.payment_key,t.trans_type, i.man_country, i.descript, i.supplier, i.unit, td.year,td.month,td.day,td.hour,td.week, s.district, f.total_price \" \\\n",
    "\"from ecom_schema.fact_table f \" \\\n",
    "\"join ecom_schema.item_dim i on i.item_key=f.item_key \" \\\n",
    "\"join ecom_schema.time_dim td on td.time_key = f.time_key \" \\\n",
    "\"join ecom_schema.store_dim s on s.store_key = f.store_key \" \\\n",
    "\"join ecom_schema.trans_dim t on t.payment_key=f.payment_key \" \\\n",
    "\n",
    "cur.execute(select_stmt)\n",
    "records = cur.fetchall()"
   ]
  },
  {
   "cell_type": "code",
   "execution_count": 98,
   "id": "b1478903",
   "metadata": {},
   "outputs": [
    {
     "data": {
      "text/html": [
       "<div>\n",
       "<style scoped>\n",
       "    .dataframe tbody tr th:only-of-type {\n",
       "        vertical-align: middle;\n",
       "    }\n",
       "\n",
       "    .dataframe tbody tr th {\n",
       "        vertical-align: top;\n",
       "    }\n",
       "\n",
       "    .dataframe thead th {\n",
       "        text-align: right;\n",
       "    }\n",
       "</style>\n",
       "<table border=\"1\" class=\"dataframe\">\n",
       "  <thead>\n",
       "    <tr style=\"text-align: right;\">\n",
       "      <th></th>\n",
       "      <th>item_key</th>\n",
       "      <th>store_key</th>\n",
       "      <th>payment_key</th>\n",
       "      <th>trans_type</th>\n",
       "      <th>man_country</th>\n",
       "      <th>descript</th>\n",
       "      <th>supplier</th>\n",
       "      <th>unit</th>\n",
       "      <th>year</th>\n",
       "      <th>month</th>\n",
       "      <th>day</th>\n",
       "      <th>hour</th>\n",
       "      <th>week</th>\n",
       "      <th>district</th>\n",
       "      <th>total_price</th>\n",
       "    </tr>\n",
       "  </thead>\n",
       "  <tbody>\n",
       "    <tr>\n",
       "      <th>0</th>\n",
       "      <td>I00131</td>\n",
       "      <td>S0086</td>\n",
       "      <td>P032</td>\n",
       "      <td>card</td>\n",
       "      <td>Bangladesh</td>\n",
       "      <td>Dishware - Bowls</td>\n",
       "      <td>DENIMACH LTD</td>\n",
       "      <td>ct</td>\n",
       "      <td>2020</td>\n",
       "      <td>2</td>\n",
       "      <td>1</td>\n",
       "      <td>6</td>\n",
       "      <td>1st Week</td>\n",
       "      <td>RANGPUR</td>\n",
       "      <td>112.0</td>\n",
       "    </tr>\n",
       "    <tr>\n",
       "      <th>1</th>\n",
       "      <td>I00017</td>\n",
       "      <td>S00164</td>\n",
       "      <td>P025</td>\n",
       "      <td>card</td>\n",
       "      <td>Cambodia</td>\n",
       "      <td>Beverage - Soda</td>\n",
       "      <td>NINGBO SEDUNO IMP &amp; EXP CO.LTD</td>\n",
       "      <td>cans</td>\n",
       "      <td>2016</td>\n",
       "      <td>10</td>\n",
       "      <td>16</td>\n",
       "      <td>5</td>\n",
       "      <td>3rd Week</td>\n",
       "      <td>SIRAJGANJ</td>\n",
       "      <td>74.25</td>\n",
       "    </tr>\n",
       "    <tr>\n",
       "      <th>2</th>\n",
       "      <td>I00133</td>\n",
       "      <td>S00640</td>\n",
       "      <td>P019</td>\n",
       "      <td>card</td>\n",
       "      <td>United States</td>\n",
       "      <td>Dishware - Cups Cold</td>\n",
       "      <td>MAESA SAS</td>\n",
       "      <td>ct</td>\n",
       "      <td>2018</td>\n",
       "      <td>2</td>\n",
       "      <td>13</td>\n",
       "      <td>1</td>\n",
       "      <td>2nd Week</td>\n",
       "      <td>DHAKA</td>\n",
       "      <td>150.0</td>\n",
       "    </tr>\n",
       "    <tr>\n",
       "      <th>3</th>\n",
       "      <td>I00023</td>\n",
       "      <td>S0032</td>\n",
       "      <td>P030</td>\n",
       "      <td>card</td>\n",
       "      <td>Cambodia</td>\n",
       "      <td>Beverage - Soda</td>\n",
       "      <td>NINGBO SEDUNO IMP &amp; EXP CO.LTD</td>\n",
       "      <td>cans</td>\n",
       "      <td>2017</td>\n",
       "      <td>11</td>\n",
       "      <td>29</td>\n",
       "      <td>16</td>\n",
       "      <td>4th Week</td>\n",
       "      <td>SYLHET</td>\n",
       "      <td>67.5</td>\n",
       "    </tr>\n",
       "    <tr>\n",
       "      <th>4</th>\n",
       "      <td>I00091</td>\n",
       "      <td>S00455</td>\n",
       "      <td>P015</td>\n",
       "      <td>card</td>\n",
       "      <td>Cambodia</td>\n",
       "      <td>Beverage Water</td>\n",
       "      <td>NINGBO SEDUNO IMP &amp; EXP CO.LTD</td>\n",
       "      <td>bottles</td>\n",
       "      <td>2018</td>\n",
       "      <td>4</td>\n",
       "      <td>9</td>\n",
       "      <td>16</td>\n",
       "      <td>2nd Week</td>\n",
       "      <td>COMILLA</td>\n",
       "      <td>15.0</td>\n",
       "    </tr>\n",
       "    <tr>\n",
       "      <th>5</th>\n",
       "      <td>I00155</td>\n",
       "      <td>S00616</td>\n",
       "      <td>P013</td>\n",
       "      <td>card</td>\n",
       "      <td>India</td>\n",
       "      <td>Food - Chips</td>\n",
       "      <td>Indo Count Industries Ltd</td>\n",
       "      <td>bags</td>\n",
       "      <td>2016</td>\n",
       "      <td>11</td>\n",
       "      <td>26</td>\n",
       "      <td>10</td>\n",
       "      <td>4th Week</td>\n",
       "      <td>DHAKA</td>\n",
       "      <td>153.0</td>\n",
       "    </tr>\n",
       "    <tr>\n",
       "      <th>6</th>\n",
       "      <td>I00066</td>\n",
       "      <td>S00142</td>\n",
       "      <td>P028</td>\n",
       "      <td>card</td>\n",
       "      <td>Cambodia</td>\n",
       "      <td>Beverage - Gatorade</td>\n",
       "      <td>NINGBO SEDUNO IMP &amp; EXP CO.LTD</td>\n",
       "      <td>bottles</td>\n",
       "      <td>2017</td>\n",
       "      <td>9</td>\n",
       "      <td>8</td>\n",
       "      <td>9</td>\n",
       "      <td>2nd Week</td>\n",
       "      <td>PABNA</td>\n",
       "      <td>20.0</td>\n",
       "    </tr>\n",
       "    <tr>\n",
       "      <th>7</th>\n",
       "      <td>I00218</td>\n",
       "      <td>S00395</td>\n",
       "      <td>P016</td>\n",
       "      <td>card</td>\n",
       "      <td>Netherlands</td>\n",
       "      <td>Food - Nuts</td>\n",
       "      <td>Bolsius Boxmeer</td>\n",
       "      <td>ct</td>\n",
       "      <td>2015</td>\n",
       "      <td>7</td>\n",
       "      <td>6</td>\n",
       "      <td>9</td>\n",
       "      <td>1st Week</td>\n",
       "      <td>TANGAIL</td>\n",
       "      <td>18.0</td>\n",
       "    </tr>\n",
       "    <tr>\n",
       "      <th>8</th>\n",
       "      <td>I00246</td>\n",
       "      <td>S0037</td>\n",
       "      <td>P029</td>\n",
       "      <td>card</td>\n",
       "      <td>Germany</td>\n",
       "      <td>Kitchen Supplies</td>\n",
       "      <td>Friedola 1888 GmbH</td>\n",
       "      <td>ct</td>\n",
       "      <td>2017</td>\n",
       "      <td>10</td>\n",
       "      <td>27</td>\n",
       "      <td>12</td>\n",
       "      <td>4th Week</td>\n",
       "      <td>SYLHET</td>\n",
       "      <td>60.0</td>\n",
       "    </tr>\n",
       "    <tr>\n",
       "      <th>9</th>\n",
       "      <td>I00204</td>\n",
       "      <td>S00643</td>\n",
       "      <td>P033</td>\n",
       "      <td>card</td>\n",
       "      <td>Finland</td>\n",
       "      <td>Food - Healthy</td>\n",
       "      <td>HARDFORD AB</td>\n",
       "      <td>ct</td>\n",
       "      <td>2014</td>\n",
       "      <td>7</td>\n",
       "      <td>23</td>\n",
       "      <td>22</td>\n",
       "      <td>4th Week</td>\n",
       "      <td>DHAKA</td>\n",
       "      <td>85.0</td>\n",
       "    </tr>\n",
       "    <tr>\n",
       "      <th>10</th>\n",
       "      <td>I00240</td>\n",
       "      <td>S00483</td>\n",
       "      <td>P012</td>\n",
       "      <td>card</td>\n",
       "      <td>United States</td>\n",
       "      <td>Gum - Mints</td>\n",
       "      <td>MAESA SAS</td>\n",
       "      <td>ct</td>\n",
       "      <td>2020</td>\n",
       "      <td>8</td>\n",
       "      <td>24</td>\n",
       "      <td>11</td>\n",
       "      <td>4th Week</td>\n",
       "      <td>KHAGRACHHARI</td>\n",
       "      <td>126.0</td>\n",
       "    </tr>\n",
       "    <tr>\n",
       "      <th>11</th>\n",
       "      <td>I00123</td>\n",
       "      <td>S00716</td>\n",
       "      <td>P033</td>\n",
       "      <td>card</td>\n",
       "      <td>Netherlands</td>\n",
       "      <td>Coffee Sweetener</td>\n",
       "      <td>Bolsius Boxmeer</td>\n",
       "      <td>ct</td>\n",
       "      <td>2017</td>\n",
       "      <td>11</td>\n",
       "      <td>28</td>\n",
       "      <td>19</td>\n",
       "      <td>4th Week</td>\n",
       "      <td>CHITTAGONG</td>\n",
       "      <td>90.0</td>\n",
       "    </tr>\n",
       "    <tr>\n",
       "      <th>12</th>\n",
       "      <td>I00109</td>\n",
       "      <td>S00630</td>\n",
       "      <td>P006</td>\n",
       "      <td>card</td>\n",
       "      <td>Germany</td>\n",
       "      <td>Coffee Ground</td>\n",
       "      <td>Friedola 1888 GmbH</td>\n",
       "      <td>oz</td>\n",
       "      <td>2019</td>\n",
       "      <td>11</td>\n",
       "      <td>10</td>\n",
       "      <td>11</td>\n",
       "      <td>2nd Week</td>\n",
       "      <td>DHAKA</td>\n",
       "      <td>51.0</td>\n",
       "    </tr>\n",
       "    <tr>\n",
       "      <th>13</th>\n",
       "      <td>I00215</td>\n",
       "      <td>S00537</td>\n",
       "      <td>P015</td>\n",
       "      <td>card</td>\n",
       "      <td>poland</td>\n",
       "      <td>Food - Nuts</td>\n",
       "      <td>CHROMADURLIN S.A.S</td>\n",
       "      <td>ct.</td>\n",
       "      <td>2019</td>\n",
       "      <td>9</td>\n",
       "      <td>17</td>\n",
       "      <td>17</td>\n",
       "      <td>3rd Week</td>\n",
       "      <td>BHOLA</td>\n",
       "      <td>98.0</td>\n",
       "    </tr>\n",
       "    <tr>\n",
       "      <th>14</th>\n",
       "      <td>I00010</td>\n",
       "      <td>S0045</td>\n",
       "      <td>P028</td>\n",
       "      <td>card</td>\n",
       "      <td>Lithuania</td>\n",
       "      <td>Beverage - Soda</td>\n",
       "      <td>BIGSO AB</td>\n",
       "      <td>cans</td>\n",
       "      <td>2014</td>\n",
       "      <td>9</td>\n",
       "      <td>24</td>\n",
       "      <td>1</td>\n",
       "      <td>4th Week</td>\n",
       "      <td>DINAJPUR</td>\n",
       "      <td>20.25</td>\n",
       "    </tr>\n",
       "    <tr>\n",
       "      <th>15</th>\n",
       "      <td>I00218</td>\n",
       "      <td>S00250</td>\n",
       "      <td>P028</td>\n",
       "      <td>card</td>\n",
       "      <td>Netherlands</td>\n",
       "      <td>Food - Nuts</td>\n",
       "      <td>Bolsius Boxmeer</td>\n",
       "      <td>ct</td>\n",
       "      <td>2018</td>\n",
       "      <td>8</td>\n",
       "      <td>3</td>\n",
       "      <td>16</td>\n",
       "      <td>1st Week</td>\n",
       "      <td>DHAKA</td>\n",
       "      <td>66.0</td>\n",
       "    </tr>\n",
       "    <tr>\n",
       "      <th>16</th>\n",
       "      <td>I00066</td>\n",
       "      <td>S00382</td>\n",
       "      <td>P026</td>\n",
       "      <td>card</td>\n",
       "      <td>Cambodia</td>\n",
       "      <td>Beverage - Gatorade</td>\n",
       "      <td>NINGBO SEDUNO IMP &amp; EXP CO.LTD</td>\n",
       "      <td>bottles</td>\n",
       "      <td>2015</td>\n",
       "      <td>6</td>\n",
       "      <td>30</td>\n",
       "      <td>7</td>\n",
       "      <td>4th Week</td>\n",
       "      <td>SHARIATPUR</td>\n",
       "      <td>200.0</td>\n",
       "    </tr>\n",
       "    <tr>\n",
       "      <th>17</th>\n",
       "      <td>I00262</td>\n",
       "      <td>S00601</td>\n",
       "      <td>P015</td>\n",
       "      <td>card</td>\n",
       "      <td>Netherlands</td>\n",
       "      <td>Kitchen Supplies</td>\n",
       "      <td>Bolsius Boxmeer</td>\n",
       "      <td>ct</td>\n",
       "      <td>2016</td>\n",
       "      <td>12</td>\n",
       "      <td>15</td>\n",
       "      <td>9</td>\n",
       "      <td>3rd Week</td>\n",
       "      <td>DHAKA</td>\n",
       "      <td>56.0</td>\n",
       "    </tr>\n",
       "    <tr>\n",
       "      <th>18</th>\n",
       "      <td>I00189</td>\n",
       "      <td>S00359</td>\n",
       "      <td>P030</td>\n",
       "      <td>card</td>\n",
       "      <td>poland</td>\n",
       "      <td>Food - Healthy</td>\n",
       "      <td>CHROMADURLIN S.A.S</td>\n",
       "      <td>ct.</td>\n",
       "      <td>2019</td>\n",
       "      <td>12</td>\n",
       "      <td>18</td>\n",
       "      <td>12</td>\n",
       "      <td>3rd Week</td>\n",
       "      <td>NARAYANGANJ</td>\n",
       "      <td>13.0</td>\n",
       "    </tr>\n",
       "    <tr>\n",
       "      <th>19</th>\n",
       "      <td>I00107</td>\n",
       "      <td>S0004</td>\n",
       "      <td>P035</td>\n",
       "      <td>card</td>\n",
       "      <td>poland</td>\n",
       "      <td>Coffee Ground</td>\n",
       "      <td>CHROMADURLIN S.A.S</td>\n",
       "      <td>oz</td>\n",
       "      <td>2014</td>\n",
       "      <td>12</td>\n",
       "      <td>2</td>\n",
       "      <td>17</td>\n",
       "      <td>1st Week</td>\n",
       "      <td>HABIGANJ</td>\n",
       "      <td>160.0</td>\n",
       "    </tr>\n",
       "  </tbody>\n",
       "</table>\n",
       "</div>"
      ],
      "text/plain": [
       "   item_key store_key payment_key trans_type    man_country  \\\n",
       "0    I00131     S0086        P032       card     Bangladesh   \n",
       "1    I00017    S00164        P025       card       Cambodia   \n",
       "2    I00133    S00640        P019       card  United States   \n",
       "3    I00023     S0032        P030       card       Cambodia   \n",
       "4    I00091    S00455        P015       card       Cambodia   \n",
       "5    I00155    S00616        P013       card          India   \n",
       "6    I00066    S00142        P028       card       Cambodia   \n",
       "7    I00218    S00395        P016       card    Netherlands   \n",
       "8    I00246     S0037        P029       card        Germany   \n",
       "9    I00204    S00643        P033       card        Finland   \n",
       "10   I00240    S00483        P012       card  United States   \n",
       "11   I00123    S00716        P033       card    Netherlands   \n",
       "12   I00109    S00630        P006       card        Germany   \n",
       "13   I00215    S00537        P015       card         poland   \n",
       "14   I00010     S0045        P028       card      Lithuania   \n",
       "15   I00218    S00250        P028       card    Netherlands   \n",
       "16   I00066    S00382        P026       card       Cambodia   \n",
       "17   I00262    S00601        P015       card    Netherlands   \n",
       "18   I00189    S00359        P030       card         poland   \n",
       "19   I00107     S0004        P035       card         poland   \n",
       "\n",
       "                descript                        supplier     unit  year month  \\\n",
       "0       Dishware - Bowls                    DENIMACH LTD       ct  2020     2   \n",
       "1        Beverage - Soda  NINGBO SEDUNO IMP & EXP CO.LTD     cans  2016    10   \n",
       "2   Dishware - Cups Cold                       MAESA SAS       ct  2018     2   \n",
       "3        Beverage - Soda  NINGBO SEDUNO IMP & EXP CO.LTD     cans  2017    11   \n",
       "4         Beverage Water  NINGBO SEDUNO IMP & EXP CO.LTD  bottles  2018     4   \n",
       "5           Food - Chips       Indo Count Industries Ltd     bags  2016    11   \n",
       "6    Beverage - Gatorade  NINGBO SEDUNO IMP & EXP CO.LTD  bottles  2017     9   \n",
       "7            Food - Nuts                 Bolsius Boxmeer       ct  2015     7   \n",
       "8       Kitchen Supplies              Friedola 1888 GmbH       ct  2017    10   \n",
       "9         Food - Healthy                     HARDFORD AB       ct  2014     7   \n",
       "10           Gum - Mints                       MAESA SAS       ct  2020     8   \n",
       "11      Coffee Sweetener                 Bolsius Boxmeer       ct  2017    11   \n",
       "12         Coffee Ground              Friedola 1888 GmbH       oz  2019    11   \n",
       "13           Food - Nuts              CHROMADURLIN S.A.S      ct.  2019     9   \n",
       "14       Beverage - Soda                        BIGSO AB     cans  2014     9   \n",
       "15           Food - Nuts                 Bolsius Boxmeer       ct  2018     8   \n",
       "16   Beverage - Gatorade  NINGBO SEDUNO IMP & EXP CO.LTD  bottles  2015     6   \n",
       "17      Kitchen Supplies                 Bolsius Boxmeer       ct  2016    12   \n",
       "18        Food - Healthy              CHROMADURLIN S.A.S      ct.  2019    12   \n",
       "19         Coffee Ground              CHROMADURLIN S.A.S       oz  2014    12   \n",
       "\n",
       "   day hour      week      district total_price  \n",
       "0    1    6  1st Week       RANGPUR       112.0  \n",
       "1   16    5  3rd Week     SIRAJGANJ       74.25  \n",
       "2   13    1  2nd Week         DHAKA       150.0  \n",
       "3   29   16  4th Week        SYLHET        67.5  \n",
       "4    9   16  2nd Week       COMILLA        15.0  \n",
       "5   26   10  4th Week         DHAKA       153.0  \n",
       "6    8    9  2nd Week         PABNA        20.0  \n",
       "7    6    9  1st Week       TANGAIL        18.0  \n",
       "8   27   12  4th Week        SYLHET        60.0  \n",
       "9   23   22  4th Week         DHAKA        85.0  \n",
       "10  24   11  4th Week  KHAGRACHHARI       126.0  \n",
       "11  28   19  4th Week    CHITTAGONG        90.0  \n",
       "12  10   11  2nd Week         DHAKA        51.0  \n",
       "13  17   17  3rd Week         BHOLA        98.0  \n",
       "14  24    1  4th Week      DINAJPUR       20.25  \n",
       "15   3   16  1st Week         DHAKA        66.0  \n",
       "16  30    7  4th Week    SHARIATPUR       200.0  \n",
       "17  15    9  3rd Week         DHAKA        56.0  \n",
       "18  18   12  3rd Week   NARAYANGANJ        13.0  \n",
       "19   2   17  1st Week      HABIGANJ       160.0  "
      ]
     },
     "execution_count": 98,
     "metadata": {},
     "output_type": "execute_result"
    }
   ],
   "source": [
    "df = pd.DataFrame(list(records), columns=['item_key', 'store_key','payment_key','trans_type',\n",
    "                                          'man_country','descript','supplier','unit',\n",
    "                                          'year','month','day','hour','week','district','total_price'])\n",
    "df.head(20)"
   ]
  },
  {
   "cell_type": "code",
   "execution_count": 99,
   "id": "b5ae2e64",
   "metadata": {},
   "outputs": [
    {
     "data": {
      "text/plain": [
       "(1000000, 15)"
      ]
     },
     "execution_count": 99,
     "metadata": {},
     "output_type": "execute_result"
    }
   ],
   "source": [
    "df.shape"
   ]
  },
  {
   "cell_type": "code",
   "execution_count": 100,
   "id": "0bca14c5",
   "metadata": {},
   "outputs": [],
   "source": [
    "df.to_csv(\"ecom_sales.csv\",index=False)"
   ]
  },
  {
   "cell_type": "markdown",
   "id": "b0ce9dba",
   "metadata": {},
   "source": [
    "#### Load DataSet"
   ]
  },
  {
   "cell_type": "code",
   "execution_count": 101,
   "id": "5b6b6f1f",
   "metadata": {},
   "outputs": [
    {
     "data": {
      "text/html": [
       "<div>\n",
       "<style scoped>\n",
       "    .dataframe tbody tr th:only-of-type {\n",
       "        vertical-align: middle;\n",
       "    }\n",
       "\n",
       "    .dataframe tbody tr th {\n",
       "        vertical-align: top;\n",
       "    }\n",
       "\n",
       "    .dataframe thead th {\n",
       "        text-align: right;\n",
       "    }\n",
       "</style>\n",
       "<table border=\"1\" class=\"dataframe\">\n",
       "  <thead>\n",
       "    <tr style=\"text-align: right;\">\n",
       "      <th></th>\n",
       "      <th>item_key</th>\n",
       "      <th>store_key</th>\n",
       "      <th>payment_key</th>\n",
       "      <th>trans_type</th>\n",
       "      <th>man_country</th>\n",
       "      <th>descript</th>\n",
       "      <th>supplier</th>\n",
       "      <th>unit</th>\n",
       "      <th>year</th>\n",
       "      <th>month</th>\n",
       "      <th>day</th>\n",
       "      <th>hour</th>\n",
       "      <th>week</th>\n",
       "      <th>district</th>\n",
       "      <th>total_price</th>\n",
       "    </tr>\n",
       "  </thead>\n",
       "  <tbody>\n",
       "    <tr>\n",
       "      <th>0</th>\n",
       "      <td>I00131</td>\n",
       "      <td>S0086</td>\n",
       "      <td>P032</td>\n",
       "      <td>card</td>\n",
       "      <td>Bangladesh</td>\n",
       "      <td>Dishware - Bowls</td>\n",
       "      <td>DENIMACH LTD</td>\n",
       "      <td>ct</td>\n",
       "      <td>2020</td>\n",
       "      <td>2</td>\n",
       "      <td>1</td>\n",
       "      <td>6</td>\n",
       "      <td>1st Week</td>\n",
       "      <td>RANGPUR</td>\n",
       "      <td>112.00</td>\n",
       "    </tr>\n",
       "    <tr>\n",
       "      <th>1</th>\n",
       "      <td>I00017</td>\n",
       "      <td>S00164</td>\n",
       "      <td>P025</td>\n",
       "      <td>card</td>\n",
       "      <td>Cambodia</td>\n",
       "      <td>Beverage - Soda</td>\n",
       "      <td>NINGBO SEDUNO IMP &amp; EXP CO.LTD</td>\n",
       "      <td>cans</td>\n",
       "      <td>2016</td>\n",
       "      <td>10</td>\n",
       "      <td>16</td>\n",
       "      <td>5</td>\n",
       "      <td>3rd Week</td>\n",
       "      <td>SIRAJGANJ</td>\n",
       "      <td>74.25</td>\n",
       "    </tr>\n",
       "    <tr>\n",
       "      <th>2</th>\n",
       "      <td>I00133</td>\n",
       "      <td>S00640</td>\n",
       "      <td>P019</td>\n",
       "      <td>card</td>\n",
       "      <td>United States</td>\n",
       "      <td>Dishware - Cups Cold</td>\n",
       "      <td>MAESA SAS</td>\n",
       "      <td>ct</td>\n",
       "      <td>2018</td>\n",
       "      <td>2</td>\n",
       "      <td>13</td>\n",
       "      <td>1</td>\n",
       "      <td>2nd Week</td>\n",
       "      <td>DHAKA</td>\n",
       "      <td>150.00</td>\n",
       "    </tr>\n",
       "    <tr>\n",
       "      <th>3</th>\n",
       "      <td>I00023</td>\n",
       "      <td>S0032</td>\n",
       "      <td>P030</td>\n",
       "      <td>card</td>\n",
       "      <td>Cambodia</td>\n",
       "      <td>Beverage - Soda</td>\n",
       "      <td>NINGBO SEDUNO IMP &amp; EXP CO.LTD</td>\n",
       "      <td>cans</td>\n",
       "      <td>2017</td>\n",
       "      <td>11</td>\n",
       "      <td>29</td>\n",
       "      <td>16</td>\n",
       "      <td>4th Week</td>\n",
       "      <td>SYLHET</td>\n",
       "      <td>67.50</td>\n",
       "    </tr>\n",
       "    <tr>\n",
       "      <th>4</th>\n",
       "      <td>I00091</td>\n",
       "      <td>S00455</td>\n",
       "      <td>P015</td>\n",
       "      <td>card</td>\n",
       "      <td>Cambodia</td>\n",
       "      <td>Beverage Water</td>\n",
       "      <td>NINGBO SEDUNO IMP &amp; EXP CO.LTD</td>\n",
       "      <td>bottles</td>\n",
       "      <td>2018</td>\n",
       "      <td>4</td>\n",
       "      <td>9</td>\n",
       "      <td>16</td>\n",
       "      <td>2nd Week</td>\n",
       "      <td>COMILLA</td>\n",
       "      <td>15.00</td>\n",
       "    </tr>\n",
       "    <tr>\n",
       "      <th>...</th>\n",
       "      <td>...</td>\n",
       "      <td>...</td>\n",
       "      <td>...</td>\n",
       "      <td>...</td>\n",
       "      <td>...</td>\n",
       "      <td>...</td>\n",
       "      <td>...</td>\n",
       "      <td>...</td>\n",
       "      <td>...</td>\n",
       "      <td>...</td>\n",
       "      <td>...</td>\n",
       "      <td>...</td>\n",
       "      <td>...</td>\n",
       "      <td>...</td>\n",
       "      <td>...</td>\n",
       "    </tr>\n",
       "    <tr>\n",
       "      <th>999995</th>\n",
       "      <td>I00052</td>\n",
       "      <td>S00654</td>\n",
       "      <td>P002</td>\n",
       "      <td>card</td>\n",
       "      <td>poland</td>\n",
       "      <td>Beverage - Energy/Protein</td>\n",
       "      <td>CHROMADURLIN S.A.S</td>\n",
       "      <td>cans</td>\n",
       "      <td>2014</td>\n",
       "      <td>4</td>\n",
       "      <td>21</td>\n",
       "      <td>8</td>\n",
       "      <td>3rd Week</td>\n",
       "      <td>DHAKA</td>\n",
       "      <td>120.00</td>\n",
       "    </tr>\n",
       "    <tr>\n",
       "      <th>999996</th>\n",
       "      <td>I00011</td>\n",
       "      <td>S00587</td>\n",
       "      <td>P029</td>\n",
       "      <td>card</td>\n",
       "      <td>Germany</td>\n",
       "      <td>Beverage - Soda</td>\n",
       "      <td>Friedola 1888 GmbH</td>\n",
       "      <td>cans</td>\n",
       "      <td>2017</td>\n",
       "      <td>6</td>\n",
       "      <td>5</td>\n",
       "      <td>19</td>\n",
       "      <td>1st Week</td>\n",
       "      <td>DHAKA</td>\n",
       "      <td>27.00</td>\n",
       "    </tr>\n",
       "    <tr>\n",
       "      <th>999997</th>\n",
       "      <td>I00191</td>\n",
       "      <td>S00294</td>\n",
       "      <td>P020</td>\n",
       "      <td>card</td>\n",
       "      <td>India</td>\n",
       "      <td>Food - Healthy</td>\n",
       "      <td>Indo Count Industries Ltd</td>\n",
       "      <td>bars</td>\n",
       "      <td>2017</td>\n",
       "      <td>8</td>\n",
       "      <td>2</td>\n",
       "      <td>3</td>\n",
       "      <td>1st Week</td>\n",
       "      <td>FARIDPUR</td>\n",
       "      <td>216.00</td>\n",
       "    </tr>\n",
       "    <tr>\n",
       "      <th>999998</th>\n",
       "      <td>I00109</td>\n",
       "      <td>S0001</td>\n",
       "      <td>P014</td>\n",
       "      <td>card</td>\n",
       "      <td>Germany</td>\n",
       "      <td>Coffee Ground</td>\n",
       "      <td>Friedola 1888 GmbH</td>\n",
       "      <td>oz</td>\n",
       "      <td>2015</td>\n",
       "      <td>1</td>\n",
       "      <td>13</td>\n",
       "      <td>14</td>\n",
       "      <td>2nd Week</td>\n",
       "      <td>HABIGANJ</td>\n",
       "      <td>51.00</td>\n",
       "    </tr>\n",
       "    <tr>\n",
       "      <th>999999</th>\n",
       "      <td>I00119</td>\n",
       "      <td>S00555</td>\n",
       "      <td>P035</td>\n",
       "      <td>card</td>\n",
       "      <td>India</td>\n",
       "      <td>Coffee K-Cups</td>\n",
       "      <td>Indo Count Industries Ltd</td>\n",
       "      <td>ct</td>\n",
       "      <td>2017</td>\n",
       "      <td>10</td>\n",
       "      <td>27</td>\n",
       "      <td>9</td>\n",
       "      <td>4th Week</td>\n",
       "      <td>PIROJPUR</td>\n",
       "      <td>371.00</td>\n",
       "    </tr>\n",
       "  </tbody>\n",
       "</table>\n",
       "<p>1000000 rows × 15 columns</p>\n",
       "</div>"
      ],
      "text/plain": [
       "       item_key store_key payment_key trans_type    man_country  \\\n",
       "0        I00131     S0086        P032       card     Bangladesh   \n",
       "1        I00017    S00164        P025       card       Cambodia   \n",
       "2        I00133    S00640        P019       card  United States   \n",
       "3        I00023     S0032        P030       card       Cambodia   \n",
       "4        I00091    S00455        P015       card       Cambodia   \n",
       "...         ...       ...         ...        ...            ...   \n",
       "999995   I00052    S00654        P002       card         poland   \n",
       "999996   I00011    S00587        P029       card        Germany   \n",
       "999997   I00191    S00294        P020       card          India   \n",
       "999998   I00109     S0001        P014       card        Germany   \n",
       "999999   I00119    S00555        P035       card          India   \n",
       "\n",
       "                         descript                        supplier     unit  \\\n",
       "0                Dishware - Bowls                    DENIMACH LTD       ct   \n",
       "1                 Beverage - Soda  NINGBO SEDUNO IMP & EXP CO.LTD     cans   \n",
       "2            Dishware - Cups Cold                       MAESA SAS       ct   \n",
       "3                 Beverage - Soda  NINGBO SEDUNO IMP & EXP CO.LTD     cans   \n",
       "4                  Beverage Water  NINGBO SEDUNO IMP & EXP CO.LTD  bottles   \n",
       "...                           ...                             ...      ...   \n",
       "999995  Beverage - Energy/Protein              CHROMADURLIN S.A.S     cans   \n",
       "999996            Beverage - Soda              Friedola 1888 GmbH     cans   \n",
       "999997             Food - Healthy       Indo Count Industries Ltd     bars   \n",
       "999998              Coffee Ground              Friedola 1888 GmbH       oz   \n",
       "999999              Coffee K-Cups       Indo Count Industries Ltd       ct   \n",
       "\n",
       "        year  month  day  hour      week   district  total_price  \n",
       "0       2020      2    1     6  1st Week    RANGPUR       112.00  \n",
       "1       2016     10   16     5  3rd Week  SIRAJGANJ        74.25  \n",
       "2       2018      2   13     1  2nd Week      DHAKA       150.00  \n",
       "3       2017     11   29    16  4th Week     SYLHET        67.50  \n",
       "4       2018      4    9    16  2nd Week    COMILLA        15.00  \n",
       "...      ...    ...  ...   ...       ...        ...          ...  \n",
       "999995  2014      4   21     8  3rd Week      DHAKA       120.00  \n",
       "999996  2017      6    5    19  1st Week      DHAKA        27.00  \n",
       "999997  2017      8    2     3  1st Week   FARIDPUR       216.00  \n",
       "999998  2015      1   13    14  2nd Week   HABIGANJ        51.00  \n",
       "999999  2017     10   27     9  4th Week   PIROJPUR       371.00  \n",
       "\n",
       "[1000000 rows x 15 columns]"
      ]
     },
     "execution_count": 101,
     "metadata": {},
     "output_type": "execute_result"
    }
   ],
   "source": [
    "df= pd.read_csv(\"ecom_sales.csv\")\n",
    "df"
   ]
  },
  {
   "cell_type": "code",
   "execution_count": 102,
   "id": "5a906101",
   "metadata": {},
   "outputs": [],
   "source": [
    "# Make a copy of the original DataFrame\n",
    "df_tmp = df.copy()"
   ]
  },
  {
   "cell_type": "code",
   "execution_count": 103,
   "id": "716b81e3",
   "metadata": {},
   "outputs": [
    {
     "name": "stdout",
     "output_type": "stream",
     "text": [
      "<class 'pandas.core.frame.DataFrame'>\n",
      "RangeIndex: 1000000 entries, 0 to 999999\n",
      "Data columns (total 15 columns):\n",
      " #   Column       Non-Null Count    Dtype  \n",
      "---  ------       --------------    -----  \n",
      " 0   item_key     1000000 non-null  object \n",
      " 1   store_key    1000000 non-null  object \n",
      " 2   payment_key  1000000 non-null  object \n",
      " 3   trans_type   1000000 non-null  object \n",
      " 4   man_country  1000000 non-null  object \n",
      " 5   descript     1000000 non-null  object \n",
      " 6   supplier     1000000 non-null  object \n",
      " 7   unit         1000000 non-null  object \n",
      " 8   year         1000000 non-null  int64  \n",
      " 9   month        1000000 non-null  int64  \n",
      " 10  day          1000000 non-null  int64  \n",
      " 11  hour         1000000 non-null  int64  \n",
      " 12  week         1000000 non-null  object \n",
      " 13  district     1000000 non-null  object \n",
      " 14  total_price  1000000 non-null  float64\n",
      "dtypes: float64(1), int64(4), object(10)\n",
      "memory usage: 114.4+ MB\n"
     ]
    }
   ],
   "source": [
    "# Check for missing categories and different datatypes\n",
    "df_tmp.info()"
   ]
  },
  {
   "cell_type": "markdown",
   "id": "1caf67fa",
   "metadata": {},
   "source": [
    "## Convert strings to categories\n",
    "One way to help turn all of our data into numbers is to convert the columns with the string datatype into a category datatype.\n",
    "\n",
    "To do this we can use the pandas types API which allows us to interact and manipulate the types of data."
   ]
  },
  {
   "cell_type": "code",
   "execution_count": 104,
   "id": "20841d0d",
   "metadata": {},
   "outputs": [
    {
     "data": {
      "text/html": [
       "<div>\n",
       "<style scoped>\n",
       "    .dataframe tbody tr th:only-of-type {\n",
       "        vertical-align: middle;\n",
       "    }\n",
       "\n",
       "    .dataframe tbody tr th {\n",
       "        vertical-align: top;\n",
       "    }\n",
       "\n",
       "    .dataframe thead th {\n",
       "        text-align: right;\n",
       "    }\n",
       "</style>\n",
       "<table border=\"1\" class=\"dataframe\">\n",
       "  <thead>\n",
       "    <tr style=\"text-align: right;\">\n",
       "      <th></th>\n",
       "      <th>0</th>\n",
       "      <th>1</th>\n",
       "      <th>2</th>\n",
       "      <th>3</th>\n",
       "      <th>4</th>\n",
       "    </tr>\n",
       "  </thead>\n",
       "  <tbody>\n",
       "    <tr>\n",
       "      <th>item_key</th>\n",
       "      <td>I00131</td>\n",
       "      <td>I00017</td>\n",
       "      <td>I00133</td>\n",
       "      <td>I00023</td>\n",
       "      <td>I00091</td>\n",
       "    </tr>\n",
       "    <tr>\n",
       "      <th>store_key</th>\n",
       "      <td>S0086</td>\n",
       "      <td>S00164</td>\n",
       "      <td>S00640</td>\n",
       "      <td>S0032</td>\n",
       "      <td>S00455</td>\n",
       "    </tr>\n",
       "    <tr>\n",
       "      <th>payment_key</th>\n",
       "      <td>P032</td>\n",
       "      <td>P025</td>\n",
       "      <td>P019</td>\n",
       "      <td>P030</td>\n",
       "      <td>P015</td>\n",
       "    </tr>\n",
       "    <tr>\n",
       "      <th>trans_type</th>\n",
       "      <td>card</td>\n",
       "      <td>card</td>\n",
       "      <td>card</td>\n",
       "      <td>card</td>\n",
       "      <td>card</td>\n",
       "    </tr>\n",
       "    <tr>\n",
       "      <th>man_country</th>\n",
       "      <td>Bangladesh</td>\n",
       "      <td>Cambodia</td>\n",
       "      <td>United States</td>\n",
       "      <td>Cambodia</td>\n",
       "      <td>Cambodia</td>\n",
       "    </tr>\n",
       "    <tr>\n",
       "      <th>descript</th>\n",
       "      <td>Dishware - Bowls</td>\n",
       "      <td>Beverage - Soda</td>\n",
       "      <td>Dishware - Cups Cold</td>\n",
       "      <td>Beverage - Soda</td>\n",
       "      <td>Beverage Water</td>\n",
       "    </tr>\n",
       "    <tr>\n",
       "      <th>supplier</th>\n",
       "      <td>DENIMACH LTD</td>\n",
       "      <td>NINGBO SEDUNO IMP &amp; EXP CO.LTD</td>\n",
       "      <td>MAESA SAS</td>\n",
       "      <td>NINGBO SEDUNO IMP &amp; EXP CO.LTD</td>\n",
       "      <td>NINGBO SEDUNO IMP &amp; EXP CO.LTD</td>\n",
       "    </tr>\n",
       "    <tr>\n",
       "      <th>unit</th>\n",
       "      <td>ct</td>\n",
       "      <td>cans</td>\n",
       "      <td>ct</td>\n",
       "      <td>cans</td>\n",
       "      <td>bottles</td>\n",
       "    </tr>\n",
       "    <tr>\n",
       "      <th>year</th>\n",
       "      <td>2020</td>\n",
       "      <td>2016</td>\n",
       "      <td>2018</td>\n",
       "      <td>2017</td>\n",
       "      <td>2018</td>\n",
       "    </tr>\n",
       "    <tr>\n",
       "      <th>month</th>\n",
       "      <td>2</td>\n",
       "      <td>10</td>\n",
       "      <td>2</td>\n",
       "      <td>11</td>\n",
       "      <td>4</td>\n",
       "    </tr>\n",
       "    <tr>\n",
       "      <th>day</th>\n",
       "      <td>1</td>\n",
       "      <td>16</td>\n",
       "      <td>13</td>\n",
       "      <td>29</td>\n",
       "      <td>9</td>\n",
       "    </tr>\n",
       "    <tr>\n",
       "      <th>hour</th>\n",
       "      <td>6</td>\n",
       "      <td>5</td>\n",
       "      <td>1</td>\n",
       "      <td>16</td>\n",
       "      <td>16</td>\n",
       "    </tr>\n",
       "    <tr>\n",
       "      <th>week</th>\n",
       "      <td>1st Week</td>\n",
       "      <td>3rd Week</td>\n",
       "      <td>2nd Week</td>\n",
       "      <td>4th Week</td>\n",
       "      <td>2nd Week</td>\n",
       "    </tr>\n",
       "    <tr>\n",
       "      <th>district</th>\n",
       "      <td>RANGPUR</td>\n",
       "      <td>SIRAJGANJ</td>\n",
       "      <td>DHAKA</td>\n",
       "      <td>SYLHET</td>\n",
       "      <td>COMILLA</td>\n",
       "    </tr>\n",
       "    <tr>\n",
       "      <th>total_price</th>\n",
       "      <td>112.0</td>\n",
       "      <td>74.25</td>\n",
       "      <td>150.0</td>\n",
       "      <td>67.5</td>\n",
       "      <td>15.0</td>\n",
       "    </tr>\n",
       "  </tbody>\n",
       "</table>\n",
       "</div>"
      ],
      "text/plain": [
       "                            0                               1  \\\n",
       "item_key               I00131                          I00017   \n",
       "store_key               S0086                          S00164   \n",
       "payment_key              P032                            P025   \n",
       "trans_type               card                            card   \n",
       "man_country        Bangladesh                        Cambodia   \n",
       "descript     Dishware - Bowls                 Beverage - Soda   \n",
       "supplier         DENIMACH LTD  NINGBO SEDUNO IMP & EXP CO.LTD   \n",
       "unit                       ct                            cans   \n",
       "year                     2020                            2016   \n",
       "month                       2                              10   \n",
       "day                         1                              16   \n",
       "hour                        6                               5   \n",
       "week                 1st Week                        3rd Week   \n",
       "district              RANGPUR                       SIRAJGANJ   \n",
       "total_price             112.0                           74.25   \n",
       "\n",
       "                                2                               3  \\\n",
       "item_key                   I00133                          I00023   \n",
       "store_key                  S00640                           S0032   \n",
       "payment_key                  P019                            P030   \n",
       "trans_type                   card                            card   \n",
       "man_country         United States                        Cambodia   \n",
       "descript     Dishware - Cups Cold                 Beverage - Soda   \n",
       "supplier                MAESA SAS  NINGBO SEDUNO IMP & EXP CO.LTD   \n",
       "unit                           ct                            cans   \n",
       "year                         2018                            2017   \n",
       "month                           2                              11   \n",
       "day                            13                              29   \n",
       "hour                            1                              16   \n",
       "week                     2nd Week                        4th Week   \n",
       "district                    DHAKA                          SYLHET   \n",
       "total_price                 150.0                            67.5   \n",
       "\n",
       "                                          4  \n",
       "item_key                             I00091  \n",
       "store_key                            S00455  \n",
       "payment_key                            P015  \n",
       "trans_type                             card  \n",
       "man_country                        Cambodia  \n",
       "descript                     Beverage Water  \n",
       "supplier     NINGBO SEDUNO IMP & EXP CO.LTD  \n",
       "unit                                bottles  \n",
       "year                                   2018  \n",
       "month                                     4  \n",
       "day                                       9  \n",
       "hour                                     16  \n",
       "week                               2nd Week  \n",
       "district                            COMILLA  \n",
       "total_price                            15.0  "
      ]
     },
     "execution_count": 104,
     "metadata": {},
     "output_type": "execute_result"
    }
   ],
   "source": [
    "df_tmp.head().T"
   ]
  },
  {
   "cell_type": "code",
   "execution_count": 105,
   "id": "a9ee6dbb",
   "metadata": {},
   "outputs": [
    {
     "data": {
      "text/plain": [
       "True"
      ]
     },
     "execution_count": 105,
     "metadata": {},
     "output_type": "execute_result"
    }
   ],
   "source": [
    "pd.api.types.is_string_dtype(df_tmp[\"descript\"])"
   ]
  },
  {
   "cell_type": "code",
   "execution_count": 106,
   "id": "850f6ceb",
   "metadata": {},
   "outputs": [
    {
     "name": "stdout",
     "output_type": "stream",
     "text": [
      "item_key\n",
      "store_key\n",
      "payment_key\n",
      "trans_type\n",
      "man_country\n",
      "descript\n",
      "supplier\n",
      "unit\n",
      "week\n",
      "district\n"
     ]
    }
   ],
   "source": [
    "# These columns contain strings\n",
    "for label, content in df_tmp.items():\n",
    "    if pd.api.types.is_string_dtype(content):\n",
    "        print(label)"
   ]
  },
  {
   "cell_type": "code",
   "execution_count": 93,
   "id": "288cd546",
   "metadata": {},
   "outputs": [
    {
     "name": "stdout",
     "output_type": "stream",
     "text": [
      "This is a key: key1\n",
      "This is a value: hello\n",
      "This is a key: key2\n",
      "This is a value: world!\n"
     ]
    }
   ],
   "source": [
    "random_dict = {\"key1\": \"hello\",\n",
    "               \"key2\": \"world!\"}\n",
    "\n",
    "for key, value in random_dict.items():\n",
    "    print(f\"This is a key: {key}\")\n",
    "    print(f\"This is a value: {value}\")"
   ]
  },
  {
   "cell_type": "code",
   "execution_count": 108,
   "id": "387b9da6",
   "metadata": {},
   "outputs": [],
   "source": [
    "# Turn all of the string values into category values\n",
    "for label, content in df_tmp.items():\n",
    "    if pd.api.types.is_string_dtype(content):\n",
    "        df_tmp[label] = content.astype(\"category\").cat.as_ordered()"
   ]
  },
  {
   "cell_type": "code",
   "execution_count": 109,
   "id": "45802c58",
   "metadata": {},
   "outputs": [
    {
     "name": "stdout",
     "output_type": "stream",
     "text": [
      "<class 'pandas.core.frame.DataFrame'>\n",
      "RangeIndex: 1000000 entries, 0 to 999999\n",
      "Data columns (total 15 columns):\n",
      " #   Column       Non-Null Count    Dtype   \n",
      "---  ------       --------------    -----   \n",
      " 0   item_key     1000000 non-null  category\n",
      " 1   store_key    1000000 non-null  category\n",
      " 2   payment_key  1000000 non-null  category\n",
      " 3   trans_type   1000000 non-null  category\n",
      " 4   man_country  1000000 non-null  category\n",
      " 5   descript     1000000 non-null  category\n",
      " 6   supplier     1000000 non-null  category\n",
      " 7   unit         1000000 non-null  category\n",
      " 8   year         1000000 non-null  int64   \n",
      " 9   month        1000000 non-null  int64   \n",
      " 10  day          1000000 non-null  int64   \n",
      " 11  hour         1000000 non-null  int64   \n",
      " 12  week         1000000 non-null  category\n",
      " 13  district     1000000 non-null  category\n",
      " 14  total_price  1000000 non-null  float64 \n",
      "dtypes: category(10), float64(1), int64(4)\n",
      "memory usage: 49.6 MB\n"
     ]
    }
   ],
   "source": [
    "df_tmp.info()"
   ]
  },
  {
   "cell_type": "code",
   "execution_count": 110,
   "id": "048a82ba",
   "metadata": {},
   "outputs": [
    {
     "data": {
      "text/plain": [
       "Index(['BAGERHAT', 'BANDARBAN', 'BARGUNA', 'BARISAL', 'BHOLA', 'BOGRA',\n",
       "       'BRAHMANBARIA', 'CHANDPUR', 'CHAPAI NABABGANJ', 'CHITTAGONG',\n",
       "       'CHUADANGA', 'COMILLA', 'COX'S BAZAR', 'DHAKA', 'DINAJPUR', 'FARIDPUR',\n",
       "       'FENI', 'GAIBANDHA', 'GAZIPUR', 'GOPALGANJ', 'HABIGANJ', 'JAMALPUR',\n",
       "       'JESSORE', 'JHALOKATI', 'JHENAIDAH', 'JOYPURHAT', 'KHAGRACHHARI',\n",
       "       'KHULNA', 'KISHOREGONJ', 'KURIGRAM', 'KUSHTIA', 'LAKSHMIPUR',\n",
       "       'LALMONIRHAT', 'MADARIPUR', 'MAGURA', 'MANIKGANJ', 'MAULVIBAZAR',\n",
       "       'MEHERPUR', 'MUNSHIGANJ', 'MYMENSINGH', 'NAOGAON', 'NARAIL',\n",
       "       'NARAYANGANJ', 'NARSINGDI', 'NATORE', 'NETRAKONA', 'NILPHAMARI',\n",
       "       'NOAKHALI', 'PABNA', 'PANCHAGARH', 'PATUAKHALI', 'PIROJPUR', 'RAJBARI',\n",
       "       'RAJSHAHI', 'RANGAMATI', 'RANGPUR', 'SATKHIRA', 'SHARIATPUR', 'SHERPUR',\n",
       "       'SIRAJGANJ', 'SUNAMGANJ', 'SYLHET', 'TANGAIL', 'THAKURGAON'],\n",
       "      dtype='object')"
      ]
     },
     "execution_count": 110,
     "metadata": {},
     "output_type": "execute_result"
    }
   ],
   "source": [
    "df_tmp.district.cat.categories"
   ]
  },
  {
   "cell_type": "code",
   "execution_count": 111,
   "id": "b6336ba5",
   "metadata": {},
   "outputs": [
    {
     "data": {
      "text/plain": [
       "0         55\n",
       "1         59\n",
       "2         13\n",
       "3         61\n",
       "4         11\n",
       "          ..\n",
       "999995    13\n",
       "999996    13\n",
       "999997    15\n",
       "999998    20\n",
       "999999    51\n",
       "Length: 1000000, dtype: int8"
      ]
     },
     "execution_count": 111,
     "metadata": {},
     "output_type": "execute_result"
    }
   ],
   "source": [
    "df_tmp.district.cat.codes"
   ]
  },
  {
   "cell_type": "markdown",
   "id": "d1e5ec63",
   "metadata": {},
   "source": [
    "**All of our data is categorical and thus we can now turn the categories into numbers**"
   ]
  },
  {
   "cell_type": "code",
   "execution_count": 112,
   "id": "7ffbe781",
   "metadata": {},
   "outputs": [],
   "source": [
    "# Save preprocessed data\n",
    "df_tmp.to_csv(\"dataset/ecom_processed.csv\",index=False)"
   ]
  },
  {
   "cell_type": "markdown",
   "id": "7d6d3676",
   "metadata": {},
   "source": [
    "## Import preprocessed data"
   ]
  },
  {
   "cell_type": "code",
   "execution_count": 2,
   "id": "f314203f",
   "metadata": {},
   "outputs": [
    {
     "data": {
      "text/html": [
       "<div>\n",
       "<style scoped>\n",
       "    .dataframe tbody tr th:only-of-type {\n",
       "        vertical-align: middle;\n",
       "    }\n",
       "\n",
       "    .dataframe tbody tr th {\n",
       "        vertical-align: top;\n",
       "    }\n",
       "\n",
       "    .dataframe thead th {\n",
       "        text-align: right;\n",
       "    }\n",
       "</style>\n",
       "<table border=\"1\" class=\"dataframe\">\n",
       "  <thead>\n",
       "    <tr style=\"text-align: right;\">\n",
       "      <th></th>\n",
       "      <th>0</th>\n",
       "      <th>1</th>\n",
       "      <th>2</th>\n",
       "      <th>3</th>\n",
       "      <th>4</th>\n",
       "    </tr>\n",
       "  </thead>\n",
       "  <tbody>\n",
       "    <tr>\n",
       "      <th>item_key</th>\n",
       "      <td>131</td>\n",
       "      <td>17</td>\n",
       "      <td>133</td>\n",
       "      <td>23</td>\n",
       "      <td>91</td>\n",
       "    </tr>\n",
       "    <tr>\n",
       "      <th>store_key</th>\n",
       "      <td>86</td>\n",
       "      <td>164</td>\n",
       "      <td>640</td>\n",
       "      <td>32</td>\n",
       "      <td>455</td>\n",
       "    </tr>\n",
       "    <tr>\n",
       "      <th>payment_key</th>\n",
       "      <td>32</td>\n",
       "      <td>25</td>\n",
       "      <td>19</td>\n",
       "      <td>30</td>\n",
       "      <td>15</td>\n",
       "    </tr>\n",
       "    <tr>\n",
       "      <th>trans_type</th>\n",
       "      <td>card</td>\n",
       "      <td>card</td>\n",
       "      <td>card</td>\n",
       "      <td>card</td>\n",
       "      <td>card</td>\n",
       "    </tr>\n",
       "    <tr>\n",
       "      <th>man_country</th>\n",
       "      <td>Bangladesh</td>\n",
       "      <td>Cambodia</td>\n",
       "      <td>United States</td>\n",
       "      <td>Cambodia</td>\n",
       "      <td>Cambodia</td>\n",
       "    </tr>\n",
       "    <tr>\n",
       "      <th>descript</th>\n",
       "      <td>Dishware - Bowls</td>\n",
       "      <td>Beverage - Soda</td>\n",
       "      <td>Dishware - Cups Cold</td>\n",
       "      <td>Beverage - Soda</td>\n",
       "      <td>Beverage Water</td>\n",
       "    </tr>\n",
       "    <tr>\n",
       "      <th>supplier</th>\n",
       "      <td>DENIMACH LTD</td>\n",
       "      <td>NINGBO SEDUNO IMP &amp; EXP CO.LTD</td>\n",
       "      <td>MAESA SAS</td>\n",
       "      <td>NINGBO SEDUNO IMP &amp; EXP CO.LTD</td>\n",
       "      <td>NINGBO SEDUNO IMP &amp; EXP CO.LTD</td>\n",
       "    </tr>\n",
       "    <tr>\n",
       "      <th>unit</th>\n",
       "      <td>ct</td>\n",
       "      <td>cans</td>\n",
       "      <td>ct</td>\n",
       "      <td>cans</td>\n",
       "      <td>bottles</td>\n",
       "    </tr>\n",
       "    <tr>\n",
       "      <th>year</th>\n",
       "      <td>2020</td>\n",
       "      <td>2016</td>\n",
       "      <td>2018</td>\n",
       "      <td>2017</td>\n",
       "      <td>2018</td>\n",
       "    </tr>\n",
       "    <tr>\n",
       "      <th>month</th>\n",
       "      <td>2</td>\n",
       "      <td>10</td>\n",
       "      <td>2</td>\n",
       "      <td>11</td>\n",
       "      <td>4</td>\n",
       "    </tr>\n",
       "    <tr>\n",
       "      <th>day</th>\n",
       "      <td>1</td>\n",
       "      <td>16</td>\n",
       "      <td>13</td>\n",
       "      <td>29</td>\n",
       "      <td>9</td>\n",
       "    </tr>\n",
       "    <tr>\n",
       "      <th>hour</th>\n",
       "      <td>6</td>\n",
       "      <td>5</td>\n",
       "      <td>1</td>\n",
       "      <td>16</td>\n",
       "      <td>16</td>\n",
       "    </tr>\n",
       "    <tr>\n",
       "      <th>week</th>\n",
       "      <td>1st Week</td>\n",
       "      <td>3rd Week</td>\n",
       "      <td>2nd Week</td>\n",
       "      <td>4th Week</td>\n",
       "      <td>2nd Week</td>\n",
       "    </tr>\n",
       "    <tr>\n",
       "      <th>district</th>\n",
       "      <td>RANGPUR</td>\n",
       "      <td>SIRAJGANJ</td>\n",
       "      <td>DHAKA</td>\n",
       "      <td>SYLHET</td>\n",
       "      <td>COMILLA</td>\n",
       "    </tr>\n",
       "    <tr>\n",
       "      <th>total_price</th>\n",
       "      <td>112.0</td>\n",
       "      <td>74.25</td>\n",
       "      <td>150.0</td>\n",
       "      <td>67.5</td>\n",
       "      <td>15.0</td>\n",
       "    </tr>\n",
       "  </tbody>\n",
       "</table>\n",
       "</div>"
      ],
      "text/plain": [
       "                            0                               1  \\\n",
       "item_key                  131                              17   \n",
       "store_key                  86                             164   \n",
       "payment_key                32                              25   \n",
       "trans_type               card                            card   \n",
       "man_country        Bangladesh                        Cambodia   \n",
       "descript     Dishware - Bowls                 Beverage - Soda   \n",
       "supplier         DENIMACH LTD  NINGBO SEDUNO IMP & EXP CO.LTD   \n",
       "unit                       ct                            cans   \n",
       "year                     2020                            2016   \n",
       "month                       2                              10   \n",
       "day                         1                              16   \n",
       "hour                        6                               5   \n",
       "week                 1st Week                        3rd Week   \n",
       "district              RANGPUR                       SIRAJGANJ   \n",
       "total_price             112.0                           74.25   \n",
       "\n",
       "                                2                               3  \\\n",
       "item_key                      133                              23   \n",
       "store_key                     640                              32   \n",
       "payment_key                    19                              30   \n",
       "trans_type                   card                            card   \n",
       "man_country         United States                        Cambodia   \n",
       "descript     Dishware - Cups Cold                 Beverage - Soda   \n",
       "supplier                MAESA SAS  NINGBO SEDUNO IMP & EXP CO.LTD   \n",
       "unit                           ct                            cans   \n",
       "year                         2018                            2017   \n",
       "month                           2                              11   \n",
       "day                            13                              29   \n",
       "hour                            1                              16   \n",
       "week                     2nd Week                        4th Week   \n",
       "district                    DHAKA                          SYLHET   \n",
       "total_price                 150.0                            67.5   \n",
       "\n",
       "                                          4  \n",
       "item_key                                 91  \n",
       "store_key                               455  \n",
       "payment_key                              15  \n",
       "trans_type                             card  \n",
       "man_country                        Cambodia  \n",
       "descript                     Beverage Water  \n",
       "supplier     NINGBO SEDUNO IMP & EXP CO.LTD  \n",
       "unit                                bottles  \n",
       "year                                   2018  \n",
       "month                                     4  \n",
       "day                                       9  \n",
       "hour                                     16  \n",
       "week                               2nd Week  \n",
       "district                            COMILLA  \n",
       "total_price                            15.0  "
      ]
     },
     "execution_count": 2,
     "metadata": {},
     "output_type": "execute_result"
    }
   ],
   "source": [
    "df_tmp = pd.read_csv(\"dataset/ecom_processed.csv\",low_memory=False)\n",
    "df_tmp.head().T"
   ]
  },
  {
   "cell_type": "code",
   "execution_count": 13,
   "id": "5c4f5b32",
   "metadata": {},
   "outputs": [],
   "source": [
    "#df_tmp[\"item_key\"] =''.join(c for c in df_tmp[\"item_key\"] if not c.isdigit())"
   ]
  },
  {
   "cell_type": "markdown",
   "id": "9e63674f",
   "metadata": {},
   "source": [
    "## Convert Key Into STring"
   ]
  },
  {
   "cell_type": "code",
   "execution_count": null,
   "id": "335ecaf8",
   "metadata": {},
   "outputs": [],
   "source": [
    "df_tmp['item_key'] = df_tmp['item_key'].map(lambda x: x.lstrip(\"I\"))\n",
    "df_tmp['item_key'].head()"
   ]
  },
  {
   "cell_type": "code",
   "execution_count": null,
   "id": "5eb02b0a",
   "metadata": {},
   "outputs": [],
   "source": [
    "df_tmp['store_key'] = df_tmp['store_key'].map(lambda x: x.lstrip(\"S\"))\n",
    "df_tmp['store_key'].head()"
   ]
  },
  {
   "cell_type": "code",
   "execution_count": 23,
   "id": "07937801",
   "metadata": {},
   "outputs": [
    {
     "data": {
      "text/plain": [
       "0    032\n",
       "1    025\n",
       "2    019\n",
       "3    030\n",
       "4    015\n",
       "Name: payment_key, dtype: object"
      ]
     },
     "execution_count": 23,
     "metadata": {},
     "output_type": "execute_result"
    }
   ],
   "source": [
    "df_tmp['payment_key'] = df_tmp['payment_key'].map(lambda x: x.lstrip(\"P\"))\n",
    "df_tmp['payment_key'].head()"
   ]
  },
  {
   "cell_type": "code",
   "execution_count": 5,
   "id": "e4f214c8",
   "metadata": {},
   "outputs": [
    {
     "data": {
      "text/html": [
       "<div>\n",
       "<style scoped>\n",
       "    .dataframe tbody tr th:only-of-type {\n",
       "        vertical-align: middle;\n",
       "    }\n",
       "\n",
       "    .dataframe tbody tr th {\n",
       "        vertical-align: top;\n",
       "    }\n",
       "\n",
       "    .dataframe thead th {\n",
       "        text-align: right;\n",
       "    }\n",
       "</style>\n",
       "<table border=\"1\" class=\"dataframe\">\n",
       "  <thead>\n",
       "    <tr style=\"text-align: right;\">\n",
       "      <th></th>\n",
       "      <th>item_key</th>\n",
       "      <th>store_key</th>\n",
       "      <th>payment_key</th>\n",
       "      <th>trans_type</th>\n",
       "      <th>man_country</th>\n",
       "      <th>descript</th>\n",
       "      <th>supplier</th>\n",
       "      <th>unit</th>\n",
       "      <th>year</th>\n",
       "      <th>month</th>\n",
       "      <th>day</th>\n",
       "      <th>hour</th>\n",
       "      <th>week</th>\n",
       "      <th>district</th>\n",
       "      <th>total_price</th>\n",
       "    </tr>\n",
       "  </thead>\n",
       "  <tbody>\n",
       "    <tr>\n",
       "      <th>0</th>\n",
       "      <td>131</td>\n",
       "      <td>86</td>\n",
       "      <td>32</td>\n",
       "      <td>card</td>\n",
       "      <td>Bangladesh</td>\n",
       "      <td>Dishware - Bowls</td>\n",
       "      <td>DENIMACH LTD</td>\n",
       "      <td>ct</td>\n",
       "      <td>2020</td>\n",
       "      <td>2</td>\n",
       "      <td>1</td>\n",
       "      <td>6</td>\n",
       "      <td>1st Week</td>\n",
       "      <td>RANGPUR</td>\n",
       "      <td>112.00</td>\n",
       "    </tr>\n",
       "    <tr>\n",
       "      <th>1</th>\n",
       "      <td>17</td>\n",
       "      <td>164</td>\n",
       "      <td>25</td>\n",
       "      <td>card</td>\n",
       "      <td>Cambodia</td>\n",
       "      <td>Beverage - Soda</td>\n",
       "      <td>NINGBO SEDUNO IMP &amp; EXP CO.LTD</td>\n",
       "      <td>cans</td>\n",
       "      <td>2016</td>\n",
       "      <td>10</td>\n",
       "      <td>16</td>\n",
       "      <td>5</td>\n",
       "      <td>3rd Week</td>\n",
       "      <td>SIRAJGANJ</td>\n",
       "      <td>74.25</td>\n",
       "    </tr>\n",
       "    <tr>\n",
       "      <th>2</th>\n",
       "      <td>133</td>\n",
       "      <td>640</td>\n",
       "      <td>19</td>\n",
       "      <td>card</td>\n",
       "      <td>United States</td>\n",
       "      <td>Dishware - Cups Cold</td>\n",
       "      <td>MAESA SAS</td>\n",
       "      <td>ct</td>\n",
       "      <td>2018</td>\n",
       "      <td>2</td>\n",
       "      <td>13</td>\n",
       "      <td>1</td>\n",
       "      <td>2nd Week</td>\n",
       "      <td>DHAKA</td>\n",
       "      <td>150.00</td>\n",
       "    </tr>\n",
       "    <tr>\n",
       "      <th>3</th>\n",
       "      <td>23</td>\n",
       "      <td>32</td>\n",
       "      <td>30</td>\n",
       "      <td>card</td>\n",
       "      <td>Cambodia</td>\n",
       "      <td>Beverage - Soda</td>\n",
       "      <td>NINGBO SEDUNO IMP &amp; EXP CO.LTD</td>\n",
       "      <td>cans</td>\n",
       "      <td>2017</td>\n",
       "      <td>11</td>\n",
       "      <td>29</td>\n",
       "      <td>16</td>\n",
       "      <td>4th Week</td>\n",
       "      <td>SYLHET</td>\n",
       "      <td>67.50</td>\n",
       "    </tr>\n",
       "    <tr>\n",
       "      <th>4</th>\n",
       "      <td>91</td>\n",
       "      <td>455</td>\n",
       "      <td>15</td>\n",
       "      <td>card</td>\n",
       "      <td>Cambodia</td>\n",
       "      <td>Beverage Water</td>\n",
       "      <td>NINGBO SEDUNO IMP &amp; EXP CO.LTD</td>\n",
       "      <td>bottles</td>\n",
       "      <td>2018</td>\n",
       "      <td>4</td>\n",
       "      <td>9</td>\n",
       "      <td>16</td>\n",
       "      <td>2nd Week</td>\n",
       "      <td>COMILLA</td>\n",
       "      <td>15.00</td>\n",
       "    </tr>\n",
       "  </tbody>\n",
       "</table>\n",
       "</div>"
      ],
      "text/plain": [
       "   item_key  store_key  payment_key trans_type    man_country  \\\n",
       "0       131         86           32       card     Bangladesh   \n",
       "1        17        164           25       card       Cambodia   \n",
       "2       133        640           19       card  United States   \n",
       "3        23         32           30       card       Cambodia   \n",
       "4        91        455           15       card       Cambodia   \n",
       "\n",
       "               descript                        supplier     unit  year  month  \\\n",
       "0      Dishware - Bowls                    DENIMACH LTD       ct  2020      2   \n",
       "1       Beverage - Soda  NINGBO SEDUNO IMP & EXP CO.LTD     cans  2016     10   \n",
       "2  Dishware - Cups Cold                       MAESA SAS       ct  2018      2   \n",
       "3       Beverage - Soda  NINGBO SEDUNO IMP & EXP CO.LTD     cans  2017     11   \n",
       "4        Beverage Water  NINGBO SEDUNO IMP & EXP CO.LTD  bottles  2018      4   \n",
       "\n",
       "   day  hour      week   district  total_price  \n",
       "0    1     6  1st Week    RANGPUR       112.00  \n",
       "1   16     5  3rd Week  SIRAJGANJ        74.25  \n",
       "2   13     1  2nd Week      DHAKA       150.00  \n",
       "3   29    16  4th Week     SYLHET        67.50  \n",
       "4    9    16  2nd Week    COMILLA        15.00  "
      ]
     },
     "execution_count": 5,
     "metadata": {},
     "output_type": "execute_result"
    }
   ],
   "source": [
    "df_tmp.head()"
   ]
  },
  {
   "cell_type": "code",
   "execution_count": 25,
   "id": "4129bbe1",
   "metadata": {},
   "outputs": [],
   "source": [
    "# Save preprocessed data\n",
    "df_tmp.to_csv(\"dataset/ecom_processed.csv\",index=False)"
   ]
  },
  {
   "cell_type": "code",
   "execution_count": 4,
   "id": "16e52a0e",
   "metadata": {},
   "outputs": [
    {
     "data": {
      "text/html": [
       "<div>\n",
       "<style scoped>\n",
       "    .dataframe tbody tr th:only-of-type {\n",
       "        vertical-align: middle;\n",
       "    }\n",
       "\n",
       "    .dataframe tbody tr th {\n",
       "        vertical-align: top;\n",
       "    }\n",
       "\n",
       "    .dataframe thead th {\n",
       "        text-align: right;\n",
       "    }\n",
       "</style>\n",
       "<table border=\"1\" class=\"dataframe\">\n",
       "  <thead>\n",
       "    <tr style=\"text-align: right;\">\n",
       "      <th></th>\n",
       "      <th>0</th>\n",
       "      <th>1</th>\n",
       "      <th>2</th>\n",
       "      <th>3</th>\n",
       "      <th>4</th>\n",
       "    </tr>\n",
       "  </thead>\n",
       "  <tbody>\n",
       "    <tr>\n",
       "      <th>item_key</th>\n",
       "      <td>131</td>\n",
       "      <td>17</td>\n",
       "      <td>133</td>\n",
       "      <td>23</td>\n",
       "      <td>91</td>\n",
       "    </tr>\n",
       "    <tr>\n",
       "      <th>store_key</th>\n",
       "      <td>86</td>\n",
       "      <td>164</td>\n",
       "      <td>640</td>\n",
       "      <td>32</td>\n",
       "      <td>455</td>\n",
       "    </tr>\n",
       "    <tr>\n",
       "      <th>payment_key</th>\n",
       "      <td>32</td>\n",
       "      <td>25</td>\n",
       "      <td>19</td>\n",
       "      <td>30</td>\n",
       "      <td>15</td>\n",
       "    </tr>\n",
       "    <tr>\n",
       "      <th>trans_type</th>\n",
       "      <td>card</td>\n",
       "      <td>card</td>\n",
       "      <td>card</td>\n",
       "      <td>card</td>\n",
       "      <td>card</td>\n",
       "    </tr>\n",
       "    <tr>\n",
       "      <th>man_country</th>\n",
       "      <td>Bangladesh</td>\n",
       "      <td>Cambodia</td>\n",
       "      <td>United States</td>\n",
       "      <td>Cambodia</td>\n",
       "      <td>Cambodia</td>\n",
       "    </tr>\n",
       "    <tr>\n",
       "      <th>descript</th>\n",
       "      <td>Dishware - Bowls</td>\n",
       "      <td>Beverage - Soda</td>\n",
       "      <td>Dishware - Cups Cold</td>\n",
       "      <td>Beverage - Soda</td>\n",
       "      <td>Beverage Water</td>\n",
       "    </tr>\n",
       "    <tr>\n",
       "      <th>supplier</th>\n",
       "      <td>DENIMACH LTD</td>\n",
       "      <td>NINGBO SEDUNO IMP &amp; EXP CO.LTD</td>\n",
       "      <td>MAESA SAS</td>\n",
       "      <td>NINGBO SEDUNO IMP &amp; EXP CO.LTD</td>\n",
       "      <td>NINGBO SEDUNO IMP &amp; EXP CO.LTD</td>\n",
       "    </tr>\n",
       "    <tr>\n",
       "      <th>unit</th>\n",
       "      <td>ct</td>\n",
       "      <td>cans</td>\n",
       "      <td>ct</td>\n",
       "      <td>cans</td>\n",
       "      <td>bottles</td>\n",
       "    </tr>\n",
       "    <tr>\n",
       "      <th>year</th>\n",
       "      <td>2020</td>\n",
       "      <td>2016</td>\n",
       "      <td>2018</td>\n",
       "      <td>2017</td>\n",
       "      <td>2018</td>\n",
       "    </tr>\n",
       "    <tr>\n",
       "      <th>month</th>\n",
       "      <td>2</td>\n",
       "      <td>10</td>\n",
       "      <td>2</td>\n",
       "      <td>11</td>\n",
       "      <td>4</td>\n",
       "    </tr>\n",
       "    <tr>\n",
       "      <th>day</th>\n",
       "      <td>1</td>\n",
       "      <td>16</td>\n",
       "      <td>13</td>\n",
       "      <td>29</td>\n",
       "      <td>9</td>\n",
       "    </tr>\n",
       "    <tr>\n",
       "      <th>hour</th>\n",
       "      <td>6</td>\n",
       "      <td>5</td>\n",
       "      <td>1</td>\n",
       "      <td>16</td>\n",
       "      <td>16</td>\n",
       "    </tr>\n",
       "    <tr>\n",
       "      <th>week</th>\n",
       "      <td>1st Week</td>\n",
       "      <td>3rd Week</td>\n",
       "      <td>2nd Week</td>\n",
       "      <td>4th Week</td>\n",
       "      <td>2nd Week</td>\n",
       "    </tr>\n",
       "    <tr>\n",
       "      <th>district</th>\n",
       "      <td>RANGPUR</td>\n",
       "      <td>SIRAJGANJ</td>\n",
       "      <td>DHAKA</td>\n",
       "      <td>SYLHET</td>\n",
       "      <td>COMILLA</td>\n",
       "    </tr>\n",
       "    <tr>\n",
       "      <th>total_price</th>\n",
       "      <td>112.0</td>\n",
       "      <td>74.25</td>\n",
       "      <td>150.0</td>\n",
       "      <td>67.5</td>\n",
       "      <td>15.0</td>\n",
       "    </tr>\n",
       "  </tbody>\n",
       "</table>\n",
       "</div>"
      ],
      "text/plain": [
       "                            0                               1  \\\n",
       "item_key                  131                              17   \n",
       "store_key                  86                             164   \n",
       "payment_key                32                              25   \n",
       "trans_type               card                            card   \n",
       "man_country        Bangladesh                        Cambodia   \n",
       "descript     Dishware - Bowls                 Beverage - Soda   \n",
       "supplier         DENIMACH LTD  NINGBO SEDUNO IMP & EXP CO.LTD   \n",
       "unit                       ct                            cans   \n",
       "year                     2020                            2016   \n",
       "month                       2                              10   \n",
       "day                         1                              16   \n",
       "hour                        6                               5   \n",
       "week                 1st Week                        3rd Week   \n",
       "district              RANGPUR                       SIRAJGANJ   \n",
       "total_price             112.0                           74.25   \n",
       "\n",
       "                                2                               3  \\\n",
       "item_key                      133                              23   \n",
       "store_key                     640                              32   \n",
       "payment_key                    19                              30   \n",
       "trans_type                   card                            card   \n",
       "man_country         United States                        Cambodia   \n",
       "descript     Dishware - Cups Cold                 Beverage - Soda   \n",
       "supplier                MAESA SAS  NINGBO SEDUNO IMP & EXP CO.LTD   \n",
       "unit                           ct                            cans   \n",
       "year                         2018                            2017   \n",
       "month                           2                              11   \n",
       "day                            13                              29   \n",
       "hour                            1                              16   \n",
       "week                     2nd Week                        4th Week   \n",
       "district                    DHAKA                          SYLHET   \n",
       "total_price                 150.0                            67.5   \n",
       "\n",
       "                                          4  \n",
       "item_key                                 91  \n",
       "store_key                               455  \n",
       "payment_key                              15  \n",
       "trans_type                             card  \n",
       "man_country                        Cambodia  \n",
       "descript                     Beverage Water  \n",
       "supplier     NINGBO SEDUNO IMP & EXP CO.LTD  \n",
       "unit                                bottles  \n",
       "year                                   2018  \n",
       "month                                     4  \n",
       "day                                       9  \n",
       "hour                                     16  \n",
       "week                               2nd Week  \n",
       "district                            COMILLA  \n",
       "total_price                            15.0  "
      ]
     },
     "execution_count": 4,
     "metadata": {},
     "output_type": "execute_result"
    }
   ],
   "source": [
    "df_tmp = pd.read_csv(\"dataset/ecom_processed.csv\",low_memory=False)\n",
    "df_tmp.head().T"
   ]
  },
  {
   "cell_type": "code",
   "execution_count": 6,
   "id": "047ccd9a",
   "metadata": {},
   "outputs": [
    {
     "name": "stdout",
     "output_type": "stream",
     "text": [
      "<class 'pandas.core.frame.DataFrame'>\n",
      "RangeIndex: 1000000 entries, 0 to 999999\n",
      "Data columns (total 15 columns):\n",
      " #   Column       Non-Null Count    Dtype  \n",
      "---  ------       --------------    -----  \n",
      " 0   item_key     1000000 non-null  int64  \n",
      " 1   store_key    1000000 non-null  int64  \n",
      " 2   payment_key  1000000 non-null  int64  \n",
      " 3   trans_type   1000000 non-null  object \n",
      " 4   man_country  1000000 non-null  object \n",
      " 5   descript     1000000 non-null  object \n",
      " 6   supplier     1000000 non-null  object \n",
      " 7   unit         1000000 non-null  object \n",
      " 8   year         1000000 non-null  int64  \n",
      " 9   month        1000000 non-null  int64  \n",
      " 10  day          1000000 non-null  int64  \n",
      " 11  hour         1000000 non-null  int64  \n",
      " 12  week         1000000 non-null  object \n",
      " 13  district     1000000 non-null  object \n",
      " 14  total_price  1000000 non-null  float64\n",
      "dtypes: float64(1), int64(7), object(7)\n",
      "memory usage: 114.4+ MB\n"
     ]
    }
   ],
   "source": [
    "df_tmp.info()"
   ]
  },
  {
   "cell_type": "code",
   "execution_count": 7,
   "id": "602408a8",
   "metadata": {},
   "outputs": [
    {
     "name": "stdout",
     "output_type": "stream",
     "text": [
      "trans_type\n",
      "man_country\n",
      "descript\n",
      "supplier\n",
      "unit\n",
      "week\n",
      "district\n"
     ]
    }
   ],
   "source": [
    "# These columns contain strings\n",
    "for label, content in df_tmp.items():\n",
    "    if pd.api.types.is_string_dtype(content):\n",
    "        print(label)"
   ]
  },
  {
   "cell_type": "code",
   "execution_count": 8,
   "id": "1d6496c4",
   "metadata": {},
   "outputs": [
    {
     "name": "stdout",
     "output_type": "stream",
     "text": [
      "This is a key: key1\n",
      "This is a value: hello\n",
      "This is a key: key2\n",
      "This is a value: world!\n"
     ]
    }
   ],
   "source": [
    "# If you're wondering what df.items() does, let's use a dictionary as an example\n",
    "random_dict = {\"key1\": \"hello\",\n",
    "               \"key2\": \"world!\"}\n",
    "\n",
    "for key, value in random_dict.items():\n",
    "    print(f\"This is a key: {key}\")\n",
    "    print(f\"This is a value: {value}\")"
   ]
  },
  {
   "cell_type": "code",
   "execution_count": 9,
   "id": "f3e26ac4",
   "metadata": {},
   "outputs": [],
   "source": [
    "# This will turn all of the string values into category values\n",
    "for label, content in df_tmp.items():\n",
    "    if pd.api.types.is_string_dtype(content):\n",
    "        df_tmp[label] = content.astype(\"category\").cat.as_ordered()"
   ]
  },
  {
   "cell_type": "code",
   "execution_count": 10,
   "id": "77683b53",
   "metadata": {},
   "outputs": [
    {
     "name": "stdout",
     "output_type": "stream",
     "text": [
      "<class 'pandas.core.frame.DataFrame'>\n",
      "RangeIndex: 1000000 entries, 0 to 999999\n",
      "Data columns (total 15 columns):\n",
      " #   Column       Non-Null Count    Dtype   \n",
      "---  ------       --------------    -----   \n",
      " 0   item_key     1000000 non-null  int64   \n",
      " 1   store_key    1000000 non-null  int64   \n",
      " 2   payment_key  1000000 non-null  int64   \n",
      " 3   trans_type   1000000 non-null  category\n",
      " 4   man_country  1000000 non-null  category\n",
      " 5   descript     1000000 non-null  category\n",
      " 6   supplier     1000000 non-null  category\n",
      " 7   unit         1000000 non-null  category\n",
      " 8   year         1000000 non-null  int64   \n",
      " 9   month        1000000 non-null  int64   \n",
      " 10  day          1000000 non-null  int64   \n",
      " 11  hour         1000000 non-null  int64   \n",
      " 12  week         1000000 non-null  category\n",
      " 13  district     1000000 non-null  category\n",
      " 14  total_price  1000000 non-null  float64 \n",
      "dtypes: category(7), float64(1), int64(7)\n",
      "memory usage: 67.7 MB\n"
     ]
    }
   ],
   "source": [
    "df_tmp.info()"
   ]
  },
  {
   "cell_type": "code",
   "execution_count": 11,
   "id": "2827370f",
   "metadata": {},
   "outputs": [
    {
     "data": {
      "text/plain": [
       "Index(['BAGERHAT', 'BANDARBAN', 'BARGUNA', 'BARISAL', 'BHOLA', 'BOGRA',\n",
       "       'BRAHMANBARIA', 'CHANDPUR', 'CHAPAI NABABGANJ', 'CHITTAGONG',\n",
       "       'CHUADANGA', 'COMILLA', 'COX'S BAZAR', 'DHAKA', 'DINAJPUR', 'FARIDPUR',\n",
       "       'FENI', 'GAIBANDHA', 'GAZIPUR', 'GOPALGANJ', 'HABIGANJ', 'JAMALPUR',\n",
       "       'JESSORE', 'JHALOKATI', 'JHENAIDAH', 'JOYPURHAT', 'KHAGRACHHARI',\n",
       "       'KHULNA', 'KISHOREGONJ', 'KURIGRAM', 'KUSHTIA', 'LAKSHMIPUR',\n",
       "       'LALMONIRHAT', 'MADARIPUR', 'MAGURA', 'MANIKGANJ', 'MAULVIBAZAR',\n",
       "       'MEHERPUR', 'MUNSHIGANJ', 'MYMENSINGH', 'NAOGAON', 'NARAIL',\n",
       "       'NARAYANGANJ', 'NARSINGDI', 'NATORE', 'NETRAKONA', 'NILPHAMARI',\n",
       "       'NOAKHALI', 'PABNA', 'PANCHAGARH', 'PATUAKHALI', 'PIROJPUR', 'RAJBARI',\n",
       "       'RAJSHAHI', 'RANGAMATI', 'RANGPUR', 'SATKHIRA', 'SHARIATPUR', 'SHERPUR',\n",
       "       'SIRAJGANJ', 'SUNAMGANJ', 'SYLHET', 'TANGAIL', 'THAKURGAON'],\n",
       "      dtype='object')"
      ]
     },
     "execution_count": 11,
     "metadata": {},
     "output_type": "execute_result"
    }
   ],
   "source": [
    "df_tmp.district.cat.categories"
   ]
  },
  {
   "cell_type": "code",
   "execution_count": 12,
   "id": "20dd51bc",
   "metadata": {},
   "outputs": [
    {
     "data": {
      "text/plain": [
       "0         55\n",
       "1         59\n",
       "2         13\n",
       "3         61\n",
       "4         11\n",
       "          ..\n",
       "999995    13\n",
       "999996    13\n",
       "999997    15\n",
       "999998    20\n",
       "999999    51\n",
       "Length: 1000000, dtype: int8"
      ]
     },
     "execution_count": 12,
     "metadata": {},
     "output_type": "execute_result"
    }
   ],
   "source": [
    "df_tmp.district.cat.codes"
   ]
  },
  {
   "cell_type": "code",
   "execution_count": 13,
   "id": "1f3ff805",
   "metadata": {},
   "outputs": [],
   "source": [
    "# Turn categorical variables into numbers\n",
    "for label, content in df_tmp.items():\n",
    "    # Check columns which *aren't* numeric\n",
    "    if not pd.api.types.is_numeric_dtype(content):\n",
    "        # Add binary column to inidicate whether sample had missing value\n",
    "        df_tmp[label+\"_is_missing\"] = pd.isnull(content)\n",
    "        # We add the +1 because pandas encodes missing categories as -1\n",
    "        df_tmp[label] = pd.Categorical(content).codes+1    "
   ]
  },
  {
   "cell_type": "code",
   "execution_count": 14,
   "id": "6236ca76",
   "metadata": {},
   "outputs": [
    {
     "name": "stdout",
     "output_type": "stream",
     "text": [
      "<class 'pandas.core.frame.DataFrame'>\n",
      "RangeIndex: 1000000 entries, 0 to 999999\n",
      "Data columns (total 22 columns):\n",
      " #   Column                  Non-Null Count    Dtype  \n",
      "---  ------                  --------------    -----  \n",
      " 0   item_key                1000000 non-null  int64  \n",
      " 1   store_key               1000000 non-null  int64  \n",
      " 2   payment_key             1000000 non-null  int64  \n",
      " 3   trans_type              1000000 non-null  int8   \n",
      " 4   man_country             1000000 non-null  int8   \n",
      " 5   descript                1000000 non-null  int8   \n",
      " 6   supplier                1000000 non-null  int8   \n",
      " 7   unit                    1000000 non-null  int8   \n",
      " 8   year                    1000000 non-null  int64  \n",
      " 9   month                   1000000 non-null  int64  \n",
      " 10  day                     1000000 non-null  int64  \n",
      " 11  hour                    1000000 non-null  int64  \n",
      " 12  week                    1000000 non-null  int8   \n",
      " 13  district                1000000 non-null  int8   \n",
      " 14  total_price             1000000 non-null  float64\n",
      " 15  trans_type_is_missing   1000000 non-null  bool   \n",
      " 16  man_country_is_missing  1000000 non-null  bool   \n",
      " 17  descript_is_missing     1000000 non-null  bool   \n",
      " 18  supplier_is_missing     1000000 non-null  bool   \n",
      " 19  unit_is_missing         1000000 non-null  bool   \n",
      " 20  week_is_missing         1000000 non-null  bool   \n",
      " 21  district_is_missing     1000000 non-null  bool   \n",
      "dtypes: bool(7), float64(1), int64(7), int8(7)\n",
      "memory usage: 74.4 MB\n"
     ]
    }
   ],
   "source": [
    "df_tmp.info()"
   ]
  },
  {
   "cell_type": "code",
   "execution_count": 15,
   "id": "9ae20712",
   "metadata": {},
   "outputs": [
    {
     "data": {
      "text/html": [
       "<div>\n",
       "<style scoped>\n",
       "    .dataframe tbody tr th:only-of-type {\n",
       "        vertical-align: middle;\n",
       "    }\n",
       "\n",
       "    .dataframe tbody tr th {\n",
       "        vertical-align: top;\n",
       "    }\n",
       "\n",
       "    .dataframe thead th {\n",
       "        text-align: right;\n",
       "    }\n",
       "</style>\n",
       "<table border=\"1\" class=\"dataframe\">\n",
       "  <thead>\n",
       "    <tr style=\"text-align: right;\">\n",
       "      <th></th>\n",
       "      <th>0</th>\n",
       "      <th>1</th>\n",
       "      <th>2</th>\n",
       "      <th>3</th>\n",
       "      <th>4</th>\n",
       "    </tr>\n",
       "  </thead>\n",
       "  <tbody>\n",
       "    <tr>\n",
       "      <th>item_key</th>\n",
       "      <td>131</td>\n",
       "      <td>17</td>\n",
       "      <td>133</td>\n",
       "      <td>23</td>\n",
       "      <td>91</td>\n",
       "    </tr>\n",
       "    <tr>\n",
       "      <th>store_key</th>\n",
       "      <td>86</td>\n",
       "      <td>164</td>\n",
       "      <td>640</td>\n",
       "      <td>32</td>\n",
       "      <td>455</td>\n",
       "    </tr>\n",
       "    <tr>\n",
       "      <th>payment_key</th>\n",
       "      <td>32</td>\n",
       "      <td>25</td>\n",
       "      <td>19</td>\n",
       "      <td>30</td>\n",
       "      <td>15</td>\n",
       "    </tr>\n",
       "    <tr>\n",
       "      <th>trans_type</th>\n",
       "      <td>1</td>\n",
       "      <td>1</td>\n",
       "      <td>1</td>\n",
       "      <td>1</td>\n",
       "      <td>1</td>\n",
       "    </tr>\n",
       "    <tr>\n",
       "      <th>man_country</th>\n",
       "      <td>1</td>\n",
       "      <td>2</td>\n",
       "      <td>9</td>\n",
       "      <td>2</td>\n",
       "      <td>2</td>\n",
       "    </tr>\n",
       "    <tr>\n",
       "      <th>descript</th>\n",
       "      <td>17</td>\n",
       "      <td>1</td>\n",
       "      <td>18</td>\n",
       "      <td>1</td>\n",
       "      <td>8</td>\n",
       "    </tr>\n",
       "    <tr>\n",
       "      <th>supplier</th>\n",
       "      <td>5</td>\n",
       "      <td>10</td>\n",
       "      <td>9</td>\n",
       "      <td>10</td>\n",
       "      <td>10</td>\n",
       "    </tr>\n",
       "    <tr>\n",
       "      <th>unit</th>\n",
       "      <td>9</td>\n",
       "      <td>7</td>\n",
       "      <td>9</td>\n",
       "      <td>7</td>\n",
       "      <td>6</td>\n",
       "    </tr>\n",
       "    <tr>\n",
       "      <th>year</th>\n",
       "      <td>2020</td>\n",
       "      <td>2016</td>\n",
       "      <td>2018</td>\n",
       "      <td>2017</td>\n",
       "      <td>2018</td>\n",
       "    </tr>\n",
       "    <tr>\n",
       "      <th>month</th>\n",
       "      <td>2</td>\n",
       "      <td>10</td>\n",
       "      <td>2</td>\n",
       "      <td>11</td>\n",
       "      <td>4</td>\n",
       "    </tr>\n",
       "    <tr>\n",
       "      <th>day</th>\n",
       "      <td>1</td>\n",
       "      <td>16</td>\n",
       "      <td>13</td>\n",
       "      <td>29</td>\n",
       "      <td>9</td>\n",
       "    </tr>\n",
       "    <tr>\n",
       "      <th>hour</th>\n",
       "      <td>6</td>\n",
       "      <td>5</td>\n",
       "      <td>1</td>\n",
       "      <td>16</td>\n",
       "      <td>16</td>\n",
       "    </tr>\n",
       "    <tr>\n",
       "      <th>week</th>\n",
       "      <td>1</td>\n",
       "      <td>3</td>\n",
       "      <td>2</td>\n",
       "      <td>4</td>\n",
       "      <td>2</td>\n",
       "    </tr>\n",
       "    <tr>\n",
       "      <th>district</th>\n",
       "      <td>56</td>\n",
       "      <td>60</td>\n",
       "      <td>14</td>\n",
       "      <td>62</td>\n",
       "      <td>12</td>\n",
       "    </tr>\n",
       "    <tr>\n",
       "      <th>total_price</th>\n",
       "      <td>112.0</td>\n",
       "      <td>74.25</td>\n",
       "      <td>150.0</td>\n",
       "      <td>67.5</td>\n",
       "      <td>15.0</td>\n",
       "    </tr>\n",
       "    <tr>\n",
       "      <th>trans_type_is_missing</th>\n",
       "      <td>False</td>\n",
       "      <td>False</td>\n",
       "      <td>False</td>\n",
       "      <td>False</td>\n",
       "      <td>False</td>\n",
       "    </tr>\n",
       "    <tr>\n",
       "      <th>man_country_is_missing</th>\n",
       "      <td>False</td>\n",
       "      <td>False</td>\n",
       "      <td>False</td>\n",
       "      <td>False</td>\n",
       "      <td>False</td>\n",
       "    </tr>\n",
       "    <tr>\n",
       "      <th>descript_is_missing</th>\n",
       "      <td>False</td>\n",
       "      <td>False</td>\n",
       "      <td>False</td>\n",
       "      <td>False</td>\n",
       "      <td>False</td>\n",
       "    </tr>\n",
       "    <tr>\n",
       "      <th>supplier_is_missing</th>\n",
       "      <td>False</td>\n",
       "      <td>False</td>\n",
       "      <td>False</td>\n",
       "      <td>False</td>\n",
       "      <td>False</td>\n",
       "    </tr>\n",
       "    <tr>\n",
       "      <th>unit_is_missing</th>\n",
       "      <td>False</td>\n",
       "      <td>False</td>\n",
       "      <td>False</td>\n",
       "      <td>False</td>\n",
       "      <td>False</td>\n",
       "    </tr>\n",
       "    <tr>\n",
       "      <th>week_is_missing</th>\n",
       "      <td>False</td>\n",
       "      <td>False</td>\n",
       "      <td>False</td>\n",
       "      <td>False</td>\n",
       "      <td>False</td>\n",
       "    </tr>\n",
       "    <tr>\n",
       "      <th>district_is_missing</th>\n",
       "      <td>False</td>\n",
       "      <td>False</td>\n",
       "      <td>False</td>\n",
       "      <td>False</td>\n",
       "      <td>False</td>\n",
       "    </tr>\n",
       "  </tbody>\n",
       "</table>\n",
       "</div>"
      ],
      "text/plain": [
       "                            0      1      2      3      4\n",
       "item_key                  131     17    133     23     91\n",
       "store_key                  86    164    640     32    455\n",
       "payment_key                32     25     19     30     15\n",
       "trans_type                  1      1      1      1      1\n",
       "man_country                 1      2      9      2      2\n",
       "descript                   17      1     18      1      8\n",
       "supplier                    5     10      9     10     10\n",
       "unit                        9      7      9      7      6\n",
       "year                     2020   2016   2018   2017   2018\n",
       "month                       2     10      2     11      4\n",
       "day                         1     16     13     29      9\n",
       "hour                        6      5      1     16     16\n",
       "week                        1      3      2      4      2\n",
       "district                   56     60     14     62     12\n",
       "total_price             112.0  74.25  150.0   67.5   15.0\n",
       "trans_type_is_missing   False  False  False  False  False\n",
       "man_country_is_missing  False  False  False  False  False\n",
       "descript_is_missing     False  False  False  False  False\n",
       "supplier_is_missing     False  False  False  False  False\n",
       "unit_is_missing         False  False  False  False  False\n",
       "week_is_missing         False  False  False  False  False\n",
       "district_is_missing     False  False  False  False  False"
      ]
     },
     "execution_count": 15,
     "metadata": {},
     "output_type": "execute_result"
    }
   ],
   "source": [
    "df_tmp.head().T"
   ]
  },
  {
   "cell_type": "markdown",
   "id": "e8a0220a",
   "metadata": {},
   "source": [
    "# Modeling with RandomForest Regressor"
   ]
  },
  {
   "cell_type": "code",
   "execution_count": 16,
   "id": "ccd9410e",
   "metadata": {},
   "outputs": [],
   "source": [
    "# This won't work since we've got missing numbers and categories\n",
    "from sklearn.ensemble import RandomForestRegressor"
   ]
  },
  {
   "cell_type": "code",
   "execution_count": 17,
   "id": "be4af000",
   "metadata": {},
   "outputs": [
    {
     "name": "stdout",
     "output_type": "stream",
     "text": [
      "CPU times: total: 39min 42s\n",
      "Wall time: 5min 23s\n"
     ]
    },
    {
     "data": {
      "text/plain": [
       "RandomForestRegressor(n_jobs=-1)"
      ]
     },
     "execution_count": 17,
     "metadata": {},
     "output_type": "execute_result"
    }
   ],
   "source": [
    "%%time\n",
    "# Instantiate model\n",
    "\n",
    "model = RandomForestRegressor(n_jobs=-1)\n",
    "\n",
    "# Fit the model\n",
    "model.fit(df_tmp.drop(\"total_price\", axis=1), df_tmp.total_price)"
   ]
  },
  {
   "cell_type": "code",
   "execution_count": 44,
   "id": "81b39588",
   "metadata": {},
   "outputs": [
    {
     "data": {
      "text/plain": [
       "0.9135102359675323"
      ]
     },
     "execution_count": 44,
     "metadata": {},
     "output_type": "execute_result"
    }
   ],
   "source": [
    "# Score the model\n",
    "model.score(df_tmp.drop(\"total_price\", axis=1), df_tmp.total_price)"
   ]
  },
  {
   "cell_type": "markdown",
   "id": "5c7b1216",
   "metadata": {},
   "source": [
    "# Splitting data into train/valid sets"
   ]
  },
  {
   "cell_type": "code",
   "execution_count": 18,
   "id": "ef8a8be6",
   "metadata": {},
   "outputs": [
    {
     "data": {
      "text/plain": [
       "(8333, 991667)"
      ]
     },
     "execution_count": 18,
     "metadata": {},
     "output_type": "execute_result"
    }
   ],
   "source": [
    "# Split data into training and validation\n",
    "df_val = df_tmp[df_tmp.year == 2021]\n",
    "df_train = df_tmp[df_tmp.year != 2021]\n",
    "\n",
    "len(df_val), len(df_train)"
   ]
  },
  {
   "cell_type": "code",
   "execution_count": 19,
   "id": "172289c0",
   "metadata": {},
   "outputs": [
    {
     "data": {
      "text/plain": [
       "((991667, 21), (991667,), (8333, 21), (8333,))"
      ]
     },
     "execution_count": 19,
     "metadata": {},
     "output_type": "execute_result"
    }
   ],
   "source": [
    "# Split data into X & y\n",
    "X_train, y_train = df_train.drop(\"total_price\", axis=1), df_train.total_price\n",
    "X_valid, y_valid = df_val.drop(\"total_price\", axis=1), df_val.total_price\n",
    "\n",
    "X_train.shape, y_train.shape, X_valid.shape, y_valid.shape"
   ]
  },
  {
   "cell_type": "code",
   "execution_count": null,
   "id": "7142c67c",
   "metadata": {},
   "outputs": [],
   "source": [
    "#Splitting our dataset to Training and Testing dataset\n",
    "from sklearn.model_selection import train_test_split\n",
    "X_train, X_test, y_train, y_test = train_test_split(X, y, test_size=0.2, random_state=42)"
   ]
  },
  {
   "cell_type": "code",
   "execution_count": 20,
   "id": "768f4ef3",
   "metadata": {},
   "outputs": [],
   "source": [
    "# Create evaluation function (the competition uses Root Mean Square Log Error)\n",
    "from sklearn.metrics import mean_squared_log_error, mean_absolute_error\n",
    "\n",
    "def rmsle(y_test, y_preds):\n",
    "    return np.sqrt(mean_squared_log_error(y_test, y_preds))\n",
    "\n",
    "# Create function to evaluate our model\n",
    "def show_scores(model):\n",
    "    train_preds = model.predict(X_train)\n",
    "    val_preds = model.predict(X_valid)\n",
    "    scores = {\"Training MAE\": mean_absolute_error(y_train, train_preds),\n",
    "              \"Valid MAE\": mean_absolute_error(y_valid, val_preds),\n",
    "              \"Training RMSLE\": rmsle(y_train, train_preds),\n",
    "              \"Valid RMSLE\": rmsle(y_valid, val_preds),\n",
    "              \"Training R^2\": model.score(X_train, y_train),\n",
    "              \"Valid R^2\": model.score(X_valid, y_valid)}\n",
    "    return scores"
   ]
  },
  {
   "cell_type": "code",
   "execution_count": 27,
   "id": "a6eafcd6",
   "metadata": {},
   "outputs": [],
   "source": [
    "# Change max samples in RandomForestRegressor\n",
    "model = RandomForestRegressor(n_jobs=-1,\n",
    "                              max_samples=500000)"
   ]
  },
  {
   "cell_type": "code",
   "execution_count": 28,
   "id": "ed095b64",
   "metadata": {},
   "outputs": [
    {
     "name": "stdout",
     "output_type": "stream",
     "text": [
      "CPU times: total: 19min 17s\n",
      "Wall time: 2min 41s\n"
     ]
    },
    {
     "data": {
      "text/plain": [
       "RandomForestRegressor(max_samples=500000, n_jobs=-1)"
      ]
     },
     "execution_count": 28,
     "metadata": {},
     "output_type": "execute_result"
    }
   ],
   "source": [
    "%%time\n",
    "# Cutting down the max number of samples each tree can see improves training time\n",
    "model.fit(X_train, y_train)"
   ]
  },
  {
   "cell_type": "code",
   "execution_count": 29,
   "id": "f43d5a77",
   "metadata": {},
   "outputs": [
    {
     "data": {
      "text/plain": [
       "0.7748125936747305"
      ]
     },
     "execution_count": 29,
     "metadata": {},
     "output_type": "execute_result"
    }
   ],
   "source": [
    "model.score(X_train, y_train)"
   ]
  },
  {
   "cell_type": "code",
   "execution_count": 30,
   "id": "292795c2",
   "metadata": {},
   "outputs": [
    {
     "data": {
      "text/plain": [
       "{'Training MAE': 29.53076288797886,\n",
       " 'Valid MAE': 48.863299531981276,\n",
       " 'Training RMSLE': 0.5215778046188156,\n",
       " 'Valid RMSLE': 0.7233693651149063,\n",
       " 'Training R^2': 0.7748125936747305,\n",
       " 'Valid R^2': 0.40833190687564735}"
      ]
     },
     "execution_count": 30,
     "metadata": {},
     "output_type": "execute_result"
    }
   ],
   "source": [
    "show_scores(model)"
   ]
  },
  {
   "cell_type": "markdown",
   "id": "3beb21bb",
   "metadata": {},
   "source": [
    "## Hyperperameters Tunning"
   ]
  },
  {
   "cell_type": "code",
   "execution_count": 31,
   "id": "27c4252b",
   "metadata": {},
   "outputs": [
    {
     "name": "stdout",
     "output_type": "stream",
     "text": [
      "Fitting 5 folds for each of 20 candidates, totalling 100 fits\n",
      "CPU times: total: 6min\n",
      "Wall time: 6min 6s\n"
     ]
    },
    {
     "data": {
      "text/plain": [
       "RandomizedSearchCV(cv=5, estimator=RandomForestRegressor(), n_iter=20,\n",
       "                   param_distributions={'max_depth': [None, 3, 5, 10],\n",
       "                                        'max_features': [0.5, 1, 'sqrt',\n",
       "                                                         'auto'],\n",
       "                                        'max_samples': [10000],\n",
       "                                        'min_samples_leaf': array([ 1,  3,  5,  7,  9, 11, 13, 15, 17, 19]),\n",
       "                                        'min_samples_split': array([ 2,  4,  6,  8, 10, 12, 14, 16, 18]),\n",
       "                                        'n_estimators': array([10, 20, 30, 40, 50, 60, 70, 80, 90])},\n",
       "                   verbose=True)"
      ]
     },
     "execution_count": 31,
     "metadata": {},
     "output_type": "execute_result"
    }
   ],
   "source": [
    "%%time\n",
    "from sklearn.model_selection import RandomizedSearchCV\n",
    "\n",
    "# Different RandomForestClassifier hyperparameters\n",
    "rf_grid = {\"n_estimators\": np.arange(10, 100, 10),\n",
    "           \"max_depth\": [None, 3, 5, 10],\n",
    "           \"min_samples_split\": np.arange(2, 20, 2),\n",
    "           \"min_samples_leaf\": np.arange(1, 20, 2),\n",
    "           \"max_features\": [0.5, 1, \"sqrt\", \"auto\"],\n",
    "           \"max_samples\": [10000]}\n",
    "\n",
    "rs_model = RandomizedSearchCV(RandomForestRegressor(),\n",
    "                              param_distributions=rf_grid,\n",
    "                              n_iter=20,\n",
    "                              cv=5,\n",
    "                              verbose=True)\n",
    "\n",
    "rs_model.fit(X_train, y_train)"
   ]
  },
  {
   "cell_type": "code",
   "execution_count": 33,
   "id": "37e00d4c",
   "metadata": {},
   "outputs": [
    {
     "data": {
      "text/plain": [
       "{'n_estimators': 80,\n",
       " 'min_samples_split': 18,\n",
       " 'min_samples_leaf': 9,\n",
       " 'max_samples': 10000,\n",
       " 'max_features': 'auto',\n",
       " 'max_depth': None}"
      ]
     },
     "execution_count": 33,
     "metadata": {},
     "output_type": "execute_result"
    }
   ],
   "source": [
    "# Find the best parameters from the RandomizedSearch \n",
    "rs_model.best_params_"
   ]
  },
  {
   "cell_type": "code",
   "execution_count": 34,
   "id": "33958ad1",
   "metadata": {},
   "outputs": [
    {
     "data": {
      "text/plain": [
       "{'Training MAE': 48.146628279220224,\n",
       " 'Valid MAE': 48.289349106168665,\n",
       " 'Training RMSLE': 0.721491115378132,\n",
       " 'Valid RMSLE': 0.7202715411412177,\n",
       " 'Training R^2': 0.41137020673489555,\n",
       " 'Valid R^2': 0.4283049393753745}"
      ]
     },
     "execution_count": 34,
     "metadata": {},
     "output_type": "execute_result"
    }
   ],
   "source": [
    "# Evaluate the RandomizedSearch model\n",
    "show_scores(rs_model)"
   ]
  },
  {
   "cell_type": "markdown",
   "id": "6116e7b7",
   "metadata": {},
   "source": [
    "## Train a model with the best parameters"
   ]
  },
  {
   "cell_type": "code",
   "execution_count": 37,
   "id": "06d9f827",
   "metadata": {},
   "outputs": [
    {
     "name": "stdout",
     "output_type": "stream",
     "text": [
      "CPU times: total: 6.8 s\n",
      "Wall time: 6.79 s\n"
     ]
    },
    {
     "data": {
      "text/plain": [
       "RandomForestRegressor(max_samples=10000, min_samples_leaf=9,\n",
       "                      min_samples_split=18, n_estimators=80)"
      ]
     },
     "execution_count": 37,
     "metadata": {},
     "output_type": "execute_result"
    }
   ],
   "source": [
    "%%time\n",
    "ideal_model = RandomForestRegressor(n_estimators=80,\n",
    "                                    min_samples_leaf=9,\n",
    "                                    min_samples_split=18,\n",
    "                                    max_features='auto',\n",
    "                                    max_samples=10000,\n",
    "                                    max_depth=None)\n",
    "ideal_model.fit(X_train, y_train)"
   ]
  },
  {
   "cell_type": "markdown",
   "id": "9e2a839b",
   "metadata": {},
   "source": [
    "## Save model to disk"
   ]
  },
  {
   "cell_type": "code",
   "execution_count": 41,
   "id": "dbe7ef2e",
   "metadata": {},
   "outputs": [],
   "source": [
    "import pickle"
   ]
  },
  {
   "cell_type": "code",
   "execution_count": 42,
   "id": "ef5bf31c",
   "metadata": {},
   "outputs": [],
   "source": [
    "filename = \"ideal_model.sav\"\n",
    "pickle.dump(ideal_model, open(filename, 'wb'))"
   ]
  },
  {
   "cell_type": "code",
   "execution_count": 38,
   "id": "4f0d2aee",
   "metadata": {},
   "outputs": [
    {
     "data": {
      "text/plain": [
       "{'Training MAE': 48.154483098552845,\n",
       " 'Valid MAE': 48.37970721119038,\n",
       " 'Training RMSLE': 0.7218697002445341,\n",
       " 'Valid RMSLE': 0.7211529887130963,\n",
       " 'Training R^2': 0.4110508692030509,\n",
       " 'Valid R^2': 0.4277854446939938}"
      ]
     },
     "execution_count": 38,
     "metadata": {},
     "output_type": "execute_result"
    }
   ],
   "source": [
    "show_scores(ideal_model)"
   ]
  },
  {
   "cell_type": "code",
   "execution_count": 43,
   "id": "68cb20f2",
   "metadata": {},
   "outputs": [
    {
     "name": "stdout",
     "output_type": "stream",
     "text": [
      "CPU times: total: 6min 4s\n",
      "Wall time: 48.4 s\n"
     ]
    },
    {
     "data": {
      "text/plain": [
       "RandomForestRegressor(max_features=0.5, min_samples_leaf=3, n_estimators=40,\n",
       "                      n_jobs=-1)"
      ]
     },
     "execution_count": 43,
     "metadata": {},
     "output_type": "execute_result"
    }
   ],
   "source": [
    "%%time\n",
    "# Faster model\n",
    "fast_model = RandomForestRegressor(n_estimators=40,\n",
    "                                   min_samples_leaf=3,\n",
    "                                   max_features=0.5,\n",
    "                                   n_jobs=-1)\n",
    "fast_model.fit(X_train, y_train)"
   ]
  },
  {
   "cell_type": "code",
   "execution_count": 44,
   "id": "3c3078a3",
   "metadata": {},
   "outputs": [
    {
     "data": {
      "text/plain": [
       "{'Training MAE': 29.913226308845285,\n",
       " 'Valid MAE': 48.928652460028374,\n",
       " 'Training RMSLE': 0.5285396518559204,\n",
       " 'Valid RMSLE': 0.7240002252492043,\n",
       " 'Training R^2': 0.7649770210023219,\n",
       " 'Valid R^2': 0.4042742938014814}"
      ]
     },
     "execution_count": 44,
     "metadata": {},
     "output_type": "execute_result"
    }
   ],
   "source": [
    "show_scores(fast_model)"
   ]
  },
  {
   "cell_type": "code",
   "execution_count": 45,
   "id": "bd1bcd5d",
   "metadata": {},
   "outputs": [
    {
     "data": {
      "text/plain": [
       "0.7649770210023219"
      ]
     },
     "execution_count": 45,
     "metadata": {},
     "output_type": "execute_result"
    }
   ],
   "source": [
    "fast_model.score(X_train, y_train)"
   ]
  },
  {
   "cell_type": "code",
   "execution_count": 53,
   "id": "84949339",
   "metadata": {},
   "outputs": [
    {
     "data": {
      "text/plain": [
       "array([ 86.59345058,  47.86396825,  79.60379509, ...,  91.01800595,\n",
       "       119.13322421,  92.03171131])"
      ]
     },
     "execution_count": 53,
     "metadata": {},
     "output_type": "execute_result"
    }
   ],
   "source": [
    "# Let's see how the model goes predicting on the test data\n",
    "y_preds =fast_model.predict(X_valid)\n",
    "y_preds"
   ]
  },
  {
   "cell_type": "markdown",
   "id": "48c6a4e7",
   "metadata": {},
   "source": [
    "### Predict One Year(2021) Sales For each of the items"
   ]
  },
  {
   "cell_type": "code",
   "execution_count": 55,
   "id": "d8327fe1",
   "metadata": {},
   "outputs": [
    {
     "data": {
      "text/html": [
       "<div>\n",
       "<style scoped>\n",
       "    .dataframe tbody tr th:only-of-type {\n",
       "        vertical-align: middle;\n",
       "    }\n",
       "\n",
       "    .dataframe tbody tr th {\n",
       "        vertical-align: top;\n",
       "    }\n",
       "\n",
       "    .dataframe thead th {\n",
       "        text-align: right;\n",
       "    }\n",
       "</style>\n",
       "<table border=\"1\" class=\"dataframe\">\n",
       "  <thead>\n",
       "    <tr style=\"text-align: right;\">\n",
       "      <th></th>\n",
       "      <th>item_key</th>\n",
       "      <th>total_sales</th>\n",
       "    </tr>\n",
       "  </thead>\n",
       "  <tbody>\n",
       "    <tr>\n",
       "      <th>20</th>\n",
       "      <td>229</td>\n",
       "      <td>86.593451</td>\n",
       "    </tr>\n",
       "    <tr>\n",
       "      <th>56</th>\n",
       "      <td>45</td>\n",
       "      <td>47.863968</td>\n",
       "    </tr>\n",
       "    <tr>\n",
       "      <th>100</th>\n",
       "      <td>75</td>\n",
       "      <td>79.603795</td>\n",
       "    </tr>\n",
       "    <tr>\n",
       "      <th>154</th>\n",
       "      <td>210</td>\n",
       "      <td>88.249924</td>\n",
       "    </tr>\n",
       "    <tr>\n",
       "      <th>409</th>\n",
       "      <td>13</td>\n",
       "      <td>47.336853</td>\n",
       "    </tr>\n",
       "    <tr>\n",
       "      <th>...</th>\n",
       "      <td>...</td>\n",
       "      <td>...</td>\n",
       "    </tr>\n",
       "    <tr>\n",
       "      <th>999726</th>\n",
       "      <td>112</td>\n",
       "      <td>67.531365</td>\n",
       "    </tr>\n",
       "    <tr>\n",
       "      <th>999738</th>\n",
       "      <td>215</td>\n",
       "      <td>92.560955</td>\n",
       "    </tr>\n",
       "    <tr>\n",
       "      <th>999758</th>\n",
       "      <td>163</td>\n",
       "      <td>91.018006</td>\n",
       "    </tr>\n",
       "    <tr>\n",
       "      <th>999828</th>\n",
       "      <td>169</td>\n",
       "      <td>119.133224</td>\n",
       "    </tr>\n",
       "    <tr>\n",
       "      <th>999832</th>\n",
       "      <td>75</td>\n",
       "      <td>92.031711</td>\n",
       "    </tr>\n",
       "  </tbody>\n",
       "</table>\n",
       "<p>8333 rows × 2 columns</p>\n",
       "</div>"
      ],
      "text/plain": [
       "        item_key  total_sales\n",
       "20           229    86.593451\n",
       "56            45    47.863968\n",
       "100           75    79.603795\n",
       "154          210    88.249924\n",
       "409           13    47.336853\n",
       "...          ...          ...\n",
       "999726       112    67.531365\n",
       "999738       215    92.560955\n",
       "999758       163    91.018006\n",
       "999828       169   119.133224\n",
       "999832        75    92.031711\n",
       "\n",
       "[8333 rows x 2 columns]"
      ]
     },
     "execution_count": 55,
     "metadata": {},
     "output_type": "execute_result"
    }
   ],
   "source": [
    "df_preds = pd.DataFrame()\n",
    "df_preds[\"item_key\"] = X_valid[\"item_key\"]\n",
    "df_preds[\"total_sales\"]= y_preds\n",
    "df_preds"
   ]
  },
  {
   "cell_type": "markdown",
   "id": "f95c1a39",
   "metadata": {},
   "source": [
    "***Another model***"
   ]
  },
  {
   "cell_type": "code",
   "execution_count": 83,
   "id": "a678b01b",
   "metadata": {},
   "outputs": [
    {
     "name": "stdout",
     "output_type": "stream",
     "text": [
      "CPU times: total: 4min\n",
      "Wall time: 32.4 s\n"
     ]
    },
    {
     "data": {
      "text/plain": [
       "RandomForestRegressor(max_features=0.24, min_samples_leaf=3, n_estimators=40,\n",
       "                      n_jobs=-1)"
      ]
     },
     "execution_count": 83,
     "metadata": {},
     "output_type": "execute_result"
    }
   ],
   "source": [
    "%%time\n",
    "model2 = RandomForestRegressor(n_estimators=40,\n",
    "                                   min_samples_leaf=3,\n",
    "                                   max_features=0.24,\n",
    "                                   n_jobs=-1)\n",
    "model2.fit(X_train, y_train)"
   ]
  },
  {
   "cell_type": "code",
   "execution_count": 84,
   "id": "3985623b",
   "metadata": {},
   "outputs": [
    {
     "data": {
      "text/plain": [
       "0.7133514536475094"
      ]
     },
     "execution_count": 84,
     "metadata": {},
     "output_type": "execute_result"
    }
   ],
   "source": [
    "model2.score(X_train, y_train)"
   ]
  },
  {
   "cell_type": "code",
   "execution_count": 86,
   "id": "ca081dd4",
   "metadata": {},
   "outputs": [
    {
     "name": "stdout",
     "output_type": "stream",
     "text": [
      "CPU times: total: 2min 39s\n",
      "Wall time: 22.1 s\n"
     ]
    },
    {
     "data": {
      "text/plain": [
       "RandomForestRegressor(max_features=0.1, min_samples_leaf=3, n_estimators=40,\n",
       "                      n_jobs=-1)"
      ]
     },
     "execution_count": 86,
     "metadata": {},
     "output_type": "execute_result"
    }
   ],
   "source": [
    "%%time\n",
    "model3 = RandomForestRegressor(n_estimators=40,\n",
    "                                   min_samples_leaf=3,\n",
    "                                   max_features=0.1,\n",
    "                                   n_jobs=-1)\n",
    "model3.fit(X_train, y_train)"
   ]
  },
  {
   "cell_type": "code",
   "execution_count": 87,
   "id": "7412a007",
   "metadata": {},
   "outputs": [
    {
     "data": {
      "text/plain": [
       "0.6512691683754341"
      ]
     },
     "execution_count": 87,
     "metadata": {},
     "output_type": "execute_result"
    }
   ],
   "source": [
    "model3.score(X_train, y_train)"
   ]
  },
  {
   "cell_type": "markdown",
   "id": "506d581e",
   "metadata": {},
   "source": [
    "# Modeling with Linear regression "
   ]
  },
  {
   "cell_type": "code",
   "execution_count": 58,
   "id": "ba56cfa9",
   "metadata": {},
   "outputs": [],
   "source": [
    "from sklearn.linear_model import LinearRegression"
   ]
  },
  {
   "cell_type": "code",
   "execution_count": 59,
   "id": "c2df88f1",
   "metadata": {},
   "outputs": [
    {
     "name": "stdout",
     "output_type": "stream",
     "text": [
      "CPU times: total: 1.98 s\n",
      "Wall time: 4.88 s\n"
     ]
    },
    {
     "data": {
      "text/plain": [
       "LinearRegression()"
      ]
     },
     "execution_count": 59,
     "metadata": {},
     "output_type": "execute_result"
    }
   ],
   "source": [
    "%%time\n",
    "# Instantiate model\n",
    "\n",
    "model_Lr = LinearRegression()\n",
    "\n",
    "# Fit the model\n",
    "model_Lr.fit(df_tmp.drop(\"total_price\", axis=1), df_tmp.total_price)"
   ]
  },
  {
   "cell_type": "code",
   "execution_count": 60,
   "id": "fe71cd7d",
   "metadata": {},
   "outputs": [
    {
     "data": {
      "text/plain": [
       "0.008379412526208219"
      ]
     },
     "execution_count": 60,
     "metadata": {},
     "output_type": "execute_result"
    }
   ],
   "source": [
    "# Score the model\n",
    "model_Lr.score(df_tmp.drop(\"total_price\", axis=1), df_tmp.total_price)"
   ]
  },
  {
   "cell_type": "code",
   "execution_count": 61,
   "id": "0c2947cc",
   "metadata": {},
   "outputs": [
    {
     "data": {
      "text/plain": [
       "(8333, 991667)"
      ]
     },
     "execution_count": 61,
     "metadata": {},
     "output_type": "execute_result"
    }
   ],
   "source": [
    "# Split data into training and validation\n",
    "df_val = df_tmp[df_tmp.year == 2021]\n",
    "df_train = df_tmp[df_tmp.year != 2021]\n",
    "\n",
    "len(df_val), len(df_train)"
   ]
  },
  {
   "cell_type": "code",
   "execution_count": 62,
   "id": "a9af9e5e",
   "metadata": {},
   "outputs": [
    {
     "data": {
      "text/plain": [
       "((991667, 21), (991667,), (8333, 21), (8333,))"
      ]
     },
     "execution_count": 62,
     "metadata": {},
     "output_type": "execute_result"
    }
   ],
   "source": [
    "# Split data into X & y\n",
    "X_train, y_train = df_train.drop(\"total_price\", axis=1), df_train.total_price\n",
    "X_valid, y_valid = df_val.drop(\"total_price\", axis=1), df_val.total_price\n",
    "\n",
    "X_train.shape, y_train.shape, X_valid.shape, y_valid.shape"
   ]
  },
  {
   "cell_type": "code",
   "execution_count": 63,
   "id": "f2ff3002",
   "metadata": {},
   "outputs": [
    {
     "data": {
      "text/plain": [
       "LinearRegression()"
      ]
     },
     "execution_count": 63,
     "metadata": {},
     "output_type": "execute_result"
    }
   ],
   "source": [
    "# Fit the model\n",
    "model_Lr.fit(X_train,y_train)"
   ]
  },
  {
   "cell_type": "code",
   "execution_count": 65,
   "id": "b375b204",
   "metadata": {},
   "outputs": [
    {
     "data": {
      "text/plain": [
       "0.008385944021533365"
      ]
     },
     "execution_count": 65,
     "metadata": {},
     "output_type": "execute_result"
    }
   ],
   "source": [
    "model_Lr.score(X_train,y_train)"
   ]
  },
  {
   "cell_type": "code",
   "execution_count": 66,
   "id": "223e5b7b",
   "metadata": {},
   "outputs": [
    {
     "data": {
      "text/plain": [
       "array([109.07329518, 102.74931505, 117.21039862, ..., 108.76653919,\n",
       "       102.37869414, 117.21685801])"
      ]
     },
     "execution_count": 66,
     "metadata": {},
     "output_type": "execute_result"
    }
   ],
   "source": [
    "# Let's see how the model goes predicting on the test data\n",
    "y_preds =model_Lr.predict(X_valid)\n",
    "y_preds"
   ]
  },
  {
   "cell_type": "code",
   "execution_count": 90,
   "id": "2b344c5e",
   "metadata": {},
   "outputs": [
    {
     "data": {
      "text/plain": [
       "LinearRegression(n_jobs=-1)"
      ]
     },
     "execution_count": 90,
     "metadata": {},
     "output_type": "execute_result"
    }
   ],
   "source": [
    "# Instantiate model\n",
    "\n",
    "model_Lr2 = LinearRegression(copy_X=True, n_jobs=-1,fit_intercept=True)\n",
    "\n",
    "# Fit the model\n",
    "model_Lr2.fit(X_train,y_train)"
   ]
  },
  {
   "cell_type": "code",
   "execution_count": 91,
   "id": "8702d90d",
   "metadata": {},
   "outputs": [
    {
     "data": {
      "text/plain": [
       "array([109.07329518, 102.74931505, 117.21039862, ..., 108.76653919,\n",
       "       102.37869414, 117.21685801])"
      ]
     },
     "execution_count": 91,
     "metadata": {},
     "output_type": "execute_result"
    }
   ],
   "source": [
    "y_preds =model_Lr2.predict(X_valid)\n",
    "y_preds"
   ]
  },
  {
   "cell_type": "code",
   "execution_count": 92,
   "id": "816f66e9",
   "metadata": {},
   "outputs": [
    {
     "data": {
      "text/plain": [
       "array([ 3.91530220e-01,  1.39813832e-04, -5.03143342e-03, -2.37327588e-02,\n",
       "        1.80404537e+00, -2.79832306e+00,  4.74165963e-01, -5.32671418e-01,\n",
       "        3.15244810e-02,  4.59164844e-02, -4.37367435e-03,  5.05371769e-03,\n",
       "       -2.31207591e-02,  5.81480322e-03,  0.00000000e+00,  0.00000000e+00,\n",
       "        0.00000000e+00,  0.00000000e+00,  0.00000000e+00,  0.00000000e+00,\n",
       "        0.00000000e+00])"
      ]
     },
     "execution_count": 92,
     "metadata": {},
     "output_type": "execute_result"
    }
   ],
   "source": [
    "#Calculating the Coefficients\n",
    "model_Lr2.coef_"
   ]
  },
  {
   "cell_type": "code",
   "execution_count": 72,
   "id": "71a1239c",
   "metadata": {},
   "outputs": [
    {
     "data": {
      "text/plain": [
       "24.093698641373905"
      ]
     },
     "execution_count": 72,
     "metadata": {},
     "output_type": "execute_result"
    }
   ],
   "source": [
    "#Calculating the Intercept\n",
    "model_Lr2.intercept_"
   ]
  },
  {
   "cell_type": "code",
   "execution_count": null,
   "id": "8bc54be5",
   "metadata": {},
   "outputs": [],
   "source": [
    "#Calculating the R squared value\n",
    "from sklearn.metrics import r2_score\n",
    "r2_score(y_valid, y_preds)\n"
   ]
  }
 ],
 "metadata": {
  "kernelspec": {
   "display_name": "Python 3 (ipykernel)",
   "language": "python",
   "name": "python3"
  },
  "language_info": {
   "codemirror_mode": {
    "name": "ipython",
    "version": 3
   },
   "file_extension": ".py",
   "mimetype": "text/x-python",
   "name": "python",
   "nbconvert_exporter": "python",
   "pygments_lexer": "ipython3",
   "version": "3.9.0"
  }
 },
 "nbformat": 4,
 "nbformat_minor": 5
}
