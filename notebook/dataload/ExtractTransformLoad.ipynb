{
 "cells": [
  {
   "cell_type": "markdown",
   "id": "57254e07",
   "metadata": {},
   "source": [
    "### Package installation"
   ]
  },
  {
   "cell_type": "code",
   "execution_count": 1,
   "id": "b8691ada",
   "metadata": {},
   "outputs": [
    {
     "name": "stdout",
     "output_type": "stream",
     "text": [
      "Requirement already satisfied: psycopg2 in h:\\vinternship\\ecommerce\\lib\\site-packages (2.9.3)Note: you may need to restart the kernel to use updated packages.\n",
      "\n"
     ]
    },
    {
     "name": "stderr",
     "output_type": "stream",
     "text": [
      "WARNING: You are using pip version 21.3.1; however, version 22.0.3 is available.\n",
      "You should consider upgrading via the 'H:\\Vinternship\\eCommerce\\Scripts\\python.exe -m pip install --upgrade pip' command.\n"
     ]
    }
   ],
   "source": [
    "pip install psycopg2"
   ]
  },
  {
   "cell_type": "code",
   "execution_count": null,
   "id": "49566d33",
   "metadata": {},
   "outputs": [],
   "source": [
    "pip install pandas"
   ]
  },
  {
   "cell_type": "code",
   "execution_count": null,
   "id": "205e998b",
   "metadata": {},
   "outputs": [],
   "source": [
    "pip install openpyxl"
   ]
  },
  {
   "cell_type": "markdown",
   "id": "59fda908",
   "metadata": {},
   "source": [
    "### Package call"
   ]
  },
  {
   "cell_type": "code",
   "execution_count": 2,
   "id": "184f8a53",
   "metadata": {},
   "outputs": [],
   "source": [
    "import psycopg2\n",
    "import pandas as pd\n",
    "import psycopg2.extras"
   ]
  },
  {
   "cell_type": "markdown",
   "id": "584ad650",
   "metadata": {},
   "source": [
    "### Extract"
   ]
  },
  {
   "cell_type": "markdown",
   "id": "62568370",
   "metadata": {},
   "source": [
    "***Read from excel file***"
   ]
  },
  {
   "cell_type": "code",
   "execution_count": 3,
   "id": "ab0282ff",
   "metadata": {},
   "outputs": [],
   "source": [
    "DATA_DIR = \"H:/Vinternship/\""
   ]
  },
  {
   "cell_type": "code",
   "execution_count": 5,
   "id": "63292a90",
   "metadata": {},
   "outputs": [
    {
     "data": {
      "text/html": [
       "<div>\n",
       "<style scoped>\n",
       "    .dataframe tbody tr th:only-of-type {\n",
       "        vertical-align: middle;\n",
       "    }\n",
       "\n",
       "    .dataframe tbody tr th {\n",
       "        vertical-align: top;\n",
       "    }\n",
       "\n",
       "    .dataframe thead th {\n",
       "        text-align: right;\n",
       "    }\n",
       "</style>\n",
       "<table border=\"1\" class=\"dataframe\">\n",
       "  <thead>\n",
       "    <tr style=\"text-align: right;\">\n",
       "      <th></th>\n",
       "      <th>payment_key</th>\n",
       "      <th>coustomer_key</th>\n",
       "      <th>time_key</th>\n",
       "      <th>item_key</th>\n",
       "      <th>store_key</th>\n",
       "      <th>quantity</th>\n",
       "      <th>unit</th>\n",
       "      <th>unit_price</th>\n",
       "      <th>total_price</th>\n",
       "    </tr>\n",
       "  </thead>\n",
       "  <tbody>\n",
       "    <tr>\n",
       "      <th>0</th>\n",
       "      <td>P026</td>\n",
       "      <td>C004510</td>\n",
       "      <td>T049189</td>\n",
       "      <td>I00177</td>\n",
       "      <td>S00307</td>\n",
       "      <td>1</td>\n",
       "      <td>ct</td>\n",
       "      <td>35.0</td>\n",
       "      <td>35.0</td>\n",
       "    </tr>\n",
       "    <tr>\n",
       "      <th>1</th>\n",
       "      <td>P022</td>\n",
       "      <td>C008967</td>\n",
       "      <td>T041209</td>\n",
       "      <td>I00248</td>\n",
       "      <td>S00595</td>\n",
       "      <td>1</td>\n",
       "      <td>rolls</td>\n",
       "      <td>26.0</td>\n",
       "      <td>26.0</td>\n",
       "    </tr>\n",
       "    <tr>\n",
       "      <th>2</th>\n",
       "      <td>P030</td>\n",
       "      <td>C007261</td>\n",
       "      <td>T03633</td>\n",
       "      <td>I00195</td>\n",
       "      <td>S00496</td>\n",
       "      <td>8</td>\n",
       "      <td>ct</td>\n",
       "      <td>12.5</td>\n",
       "      <td>100.0</td>\n",
       "    </tr>\n",
       "    <tr>\n",
       "      <th>3</th>\n",
       "      <td>P032</td>\n",
       "      <td>C007048</td>\n",
       "      <td>T084631</td>\n",
       "      <td>I00131</td>\n",
       "      <td>S0086</td>\n",
       "      <td>8</td>\n",
       "      <td>ct</td>\n",
       "      <td>14.0</td>\n",
       "      <td>112.0</td>\n",
       "    </tr>\n",
       "    <tr>\n",
       "      <th>4</th>\n",
       "      <td>P014</td>\n",
       "      <td>C006430</td>\n",
       "      <td>T071276</td>\n",
       "      <td>I00050</td>\n",
       "      <td>S00488</td>\n",
       "      <td>8</td>\n",
       "      <td>cans</td>\n",
       "      <td>8.0</td>\n",
       "      <td>64.0</td>\n",
       "    </tr>\n",
       "    <tr>\n",
       "      <th>...</th>\n",
       "      <td>...</td>\n",
       "      <td>...</td>\n",
       "      <td>...</td>\n",
       "      <td>...</td>\n",
       "      <td>...</td>\n",
       "      <td>...</td>\n",
       "      <td>...</td>\n",
       "      <td>...</td>\n",
       "      <td>...</td>\n",
       "    </tr>\n",
       "    <tr>\n",
       "      <th>999995</th>\n",
       "      <td>P010</td>\n",
       "      <td>C003726</td>\n",
       "      <td>T09247</td>\n",
       "      <td>I00063</td>\n",
       "      <td>S00502</td>\n",
       "      <td>5</td>\n",
       "      <td>cans</td>\n",
       "      <td>40.0</td>\n",
       "      <td>200.0</td>\n",
       "    </tr>\n",
       "    <tr>\n",
       "      <th>999996</th>\n",
       "      <td>P021</td>\n",
       "      <td>C002581</td>\n",
       "      <td>T023483</td>\n",
       "      <td>I00252</td>\n",
       "      <td>S00225</td>\n",
       "      <td>1</td>\n",
       "      <td>ct</td>\n",
       "      <td>11.0</td>\n",
       "      <td>11.0</td>\n",
       "    </tr>\n",
       "    <tr>\n",
       "      <th>999997</th>\n",
       "      <td>P035</td>\n",
       "      <td>C006133</td>\n",
       "      <td>T039372</td>\n",
       "      <td>I00119</td>\n",
       "      <td>S00555</td>\n",
       "      <td>7</td>\n",
       "      <td>ct</td>\n",
       "      <td>53.0</td>\n",
       "      <td>371.0</td>\n",
       "    </tr>\n",
       "    <tr>\n",
       "      <th>999998</th>\n",
       "      <td>P031</td>\n",
       "      <td>C008735</td>\n",
       "      <td>T097975</td>\n",
       "      <td>I00257</td>\n",
       "      <td>S00440</td>\n",
       "      <td>2</td>\n",
       "      <td>ct</td>\n",
       "      <td>21.0</td>\n",
       "      <td>42.0</td>\n",
       "    </tr>\n",
       "    <tr>\n",
       "      <th>999999</th>\n",
       "      <td>P032</td>\n",
       "      <td>C004067</td>\n",
       "      <td>T018028</td>\n",
       "      <td>I00044</td>\n",
       "      <td>S00326</td>\n",
       "      <td>10</td>\n",
       "      <td>cans</td>\n",
       "      <td>8.0</td>\n",
       "      <td>80.0</td>\n",
       "    </tr>\n",
       "  </tbody>\n",
       "</table>\n",
       "<p>1000000 rows × 9 columns</p>\n",
       "</div>"
      ],
      "text/plain": [
       "       payment_key coustomer_key time_key item_key store_key  quantity   unit  \\\n",
       "0             P026       C004510  T049189   I00177    S00307         1     ct   \n",
       "1             P022       C008967  T041209   I00248    S00595         1  rolls   \n",
       "2             P030       C007261   T03633   I00195    S00496         8     ct   \n",
       "3             P032       C007048  T084631   I00131     S0086         8     ct   \n",
       "4             P014       C006430  T071276   I00050    S00488         8   cans   \n",
       "...            ...           ...      ...      ...       ...       ...    ...   \n",
       "999995        P010       C003726   T09247   I00063    S00502         5   cans   \n",
       "999996        P021       C002581  T023483   I00252    S00225         1     ct   \n",
       "999997        P035       C006133  T039372   I00119    S00555         7     ct   \n",
       "999998        P031       C008735  T097975   I00257    S00440         2     ct   \n",
       "999999        P032       C004067  T018028   I00044    S00326        10   cans   \n",
       "\n",
       "        unit_price  total_price  \n",
       "0             35.0         35.0  \n",
       "1             26.0         26.0  \n",
       "2             12.5        100.0  \n",
       "3             14.0        112.0  \n",
       "4              8.0         64.0  \n",
       "...            ...          ...  \n",
       "999995        40.0        200.0  \n",
       "999996        11.0         11.0  \n",
       "999997        53.0        371.0  \n",
       "999998        21.0         42.0  \n",
       "999999         8.0         80.0  \n",
       "\n",
       "[1000000 rows x 9 columns]"
      ]
     },
     "execution_count": 5,
     "metadata": {},
     "output_type": "execute_result"
    }
   ],
   "source": [
    "fact_table = pd.read_excel(open(DATA_DIR + 'e-commerece_data.xlsx','rb'), sheet_name=0, engine='openpyxl')\n",
    "fact_table"
   ]
  },
  {
   "cell_type": "markdown",
   "id": "3a430072",
   "metadata": {},
   "source": [
    "### Load"
   ]
  },
  {
   "cell_type": "markdown",
   "id": "c98da3ea",
   "metadata": {},
   "source": [
    "***Connect to the database***"
   ]
  },
  {
   "cell_type": "code",
   "execution_count": 6,
   "id": "3dc13652",
   "metadata": {},
   "outputs": [],
   "source": [
    "\n",
    "class PostgresConnection(object):\n",
    "    def __init__(self):\n",
    "        self.connection = psycopg2.connect(database=\"ecomdb\",\n",
    "                                           user = \"postgres\",\n",
    "                                           password = \"Nabila12345@\",\n",
    "                                           host = \"127.0.0.1\",\n",
    "                                           port = \"5432\")\n",
    "\n",
    "    def getConnection(self):\n",
    "        print(\"successfully connected to database\"),\n",
    "        return self.connection"
   ]
  },
  {
   "cell_type": "code",
   "execution_count": 7,
   "id": "2bb0ecff",
   "metadata": {},
   "outputs": [
    {
     "name": "stdout",
     "output_type": "stream",
     "text": [
      "successfully connected to database\n"
     ]
    }
   ],
   "source": [
    "con = PostgresConnection().getConnection()"
   ]
  },
  {
   "cell_type": "markdown",
   "id": "a9a36938",
   "metadata": {},
   "source": [
    "***Data Insertion***"
   ]
  },
  {
   "cell_type": "code",
   "execution_count": 30,
   "id": "374093a4",
   "metadata": {},
   "outputs": [
    {
     "ename": "SyntaxError",
     "evalue": "invalid syntax (2171688403.py, line 1)",
     "output_type": "error",
     "traceback": [
      "\u001b[1;36m  Input \u001b[1;32mIn [30]\u001b[1;36m\u001b[0m\n\u001b[1;33m    insert_stmt = \"INSERT INTO \"ecomdb_star_Schema\".\"Fact_table\"(payment_key, coustomer_key, time_key, item_key, store_key, quantity, unit, unit_price, total_price) VALUES (%s, %s, %s, %s, %s, %s, %s, %s, %s)\"\u001b[0m\n\u001b[1;37m                                ^\u001b[0m\n\u001b[1;31mSyntaxError\u001b[0m\u001b[1;31m:\u001b[0m invalid syntax\n"
     ]
    }
   ],
   "source": [
    "insert_stmt = \"INSERT INTO \"ecomdb_star_Schema\".\"Fact_table\"(payment_key, coustomer_key, time_key, item_key, store_key, quantity, unit, unit_price, total_price) VALUES (%s, %s, %s, %s, %s, %s, %s, %s, %s)\"\n",
    "cur = con.cursor()\n",
    "psycopg2.extras.execute_batch(cur, insert_stmt, fact_table.values)\n",
    "con.commit()\n",
    "cur.close()"
   ]
  },
  {
   "cell_type": "code",
   "execution_count": null,
   "id": "8f53b8e5",
   "metadata": {},
   "outputs": [],
   "source": []
  },
  {
   "cell_type": "code",
   "execution_count": null,
   "id": "f032ae03",
   "metadata": {},
   "outputs": [],
   "source": []
  }
 ],
 "metadata": {
  "kernelspec": {
   "display_name": "Python 3 (ipykernel)",
   "language": "python",
   "name": "python3"
  },
  "language_info": {
   "codemirror_mode": {
    "name": "ipython",
    "version": 3
   },
   "file_extension": ".py",
   "mimetype": "text/x-python",
   "name": "python",
   "nbconvert_exporter": "python",
   "pygments_lexer": "ipython3",
   "version": "3.9.6"
  }
 },
 "nbformat": 4,
 "nbformat_minor": 5
}
