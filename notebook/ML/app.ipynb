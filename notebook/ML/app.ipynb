{
 "cells": [
  {
   "cell_type": "code",
   "execution_count": 2,
   "id": "1cf012ad",
   "metadata": {},
   "outputs": [
    {
     "name": "stdout",
     "output_type": "stream",
     "text": [
      "Collecting flask\n",
      "  Downloading Flask-2.0.3-py3-none-any.whl (95 kB)\n",
      "     -------------------------------------- 95.6/95.6 KB 160.7 kB/s eta 0:00:00\n",
      "Requirement already satisfied: click>=7.1.2 in c:\\users\\nayan\\desktop\\myenv\\lib\\site-packages (from flask) (8.0.3)\n",
      "Collecting Werkzeug>=2.0\n",
      "  Downloading Werkzeug-2.0.3-py3-none-any.whl (289 kB)\n",
      "     ------------------------------------ 289.2/289.2 KB 350.1 kB/s eta 0:00:00\n",
      "Collecting itsdangerous>=2.0\n",
      "  Downloading itsdangerous-2.1.0-py3-none-any.whl (15 kB)\n",
      "Requirement already satisfied: Jinja2>=3.0 in c:\\users\\nayan\\desktop\\myenv\\lib\\site-packages (from flask) (3.0.3)\n",
      "Requirement already satisfied: colorama in c:\\users\\nayan\\desktop\\myenv\\lib\\site-packages (from click>=7.1.2->flask) (0.4.4)\n",
      "Requirement already satisfied: MarkupSafe>=2.0 in c:\\users\\nayan\\desktop\\myenv\\lib\\site-packages (from Jinja2>=3.0->flask) (2.0.1)\n",
      "Installing collected packages: Werkzeug, itsdangerous, flask\n",
      "Successfully installed Werkzeug-2.0.3 flask-2.0.3 itsdangerous-2.1.0\n",
      "Note: you may need to restart the kernel to use updated packages.\n"
     ]
    }
   ],
   "source": [
    "pip install flask"
   ]
  },
  {
   "cell_type": "code",
   "execution_count": 22,
   "id": "dcdb9d42",
   "metadata": {},
   "outputs": [],
   "source": [
    "from flask import Flask, jsonify\n",
    "app = Flask(__name__)"
   ]
  },
  {
   "cell_type": "code",
   "execution_count": 23,
   "id": "d2ed565e",
   "metadata": {},
   "outputs": [],
   "source": [
    "@app.route(\"/greeting\", methods = [\"POST\"])\n",
    "def  greeting():\n",
    "    return jsonify({\"msg\" : \"Hello World!!\"})"
   ]
  },
  {
   "cell_type": "code",
   "execution_count": null,
   "id": "63be0353",
   "metadata": {},
   "outputs": [
    {
     "name": "stdout",
     "output_type": "stream",
     "text": [
      " * Serving Flask app '__main__' (lazy loading)\n",
      " * Environment: production\n",
      "\u001b[31m   WARNING: This is a development server. Do not use it in a production deployment.\u001b[0m\n",
      "\u001b[2m   Use a production WSGI server instead.\u001b[0m\n",
      " * Debug mode: off\n"
     ]
    },
    {
     "name": "stderr",
     "output_type": "stream",
     "text": [
      " * Running on http://127.0.0.1:5000/ (Press CTRL+C to quit)\n",
      "127.0.0.1 - - [26/Feb/2022 18:21:38] \"GET / HTTP/1.1\" 404 -\n",
      "127.0.0.1 - - [26/Feb/2022 18:21:44] \"GET /greeting HTTP/1.1\" 405 -\n"
     ]
    }
   ],
   "source": [
    "if __name__ =='__main__':\n",
    "   app.run(port=5000)"
   ]
  },
  {
   "cell_type": "code",
   "execution_count": null,
   "id": "4b621368",
   "metadata": {},
   "outputs": [],
   "source": []
  }
 ],
 "metadata": {
  "kernelspec": {
   "display_name": "Python 3 (ipykernel)",
   "language": "python",
   "name": "python3"
  },
  "language_info": {
   "codemirror_mode": {
    "name": "ipython",
    "version": 3
   },
   "file_extension": ".py",
   "mimetype": "text/x-python",
   "name": "python",
   "nbconvert_exporter": "python",
   "pygments_lexer": "ipython3",
   "version": "3.10.1"
  }
 },
 "nbformat": 4,
 "nbformat_minor": 5
}
