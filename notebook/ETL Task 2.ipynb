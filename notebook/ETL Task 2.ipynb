{
 "cells": [
  {
   "cell_type": "code",
   "execution_count": 1,
   "id": "82c1e1e6",
   "metadata": {},
   "outputs": [
    {
     "name": "stdout",
     "output_type": "stream",
     "text": [
      "Collecting psycopg2\n",
      "  Downloading psycopg2-2.9.3-cp310-cp310-win_amd64.whl (1.2 MB)\n",
      "     ---------------------------------------- 1.2/1.2 MB 2.7 MB/s eta 0:00:00\n",
      "Installing collected packages: psycopg2\n",
      "Successfully installed psycopg2-2.9.3\n",
      "Note: you may need to restart the kernel to use updated packages.\n"
     ]
    }
   ],
   "source": [
    "pip install psycopg2"
   ]
  },
  {
   "cell_type": "code",
   "execution_count": 32,
   "id": "bcd70bae",
   "metadata": {},
   "outputs": [
    {
     "name": "stdout",
     "output_type": "stream",
     "text": [
      "Collecting openpyxl\n",
      "  Downloading openpyxl-3.0.9-py2.py3-none-any.whl (242 kB)\n",
      "     -------------------------------------- 242.2/242.2 KB 1.7 MB/s eta 0:00:00\n",
      "Collecting et-xmlfile\n",
      "  Downloading et_xmlfile-1.1.0-py3-none-any.whl (4.7 kB)\n",
      "Installing collected packages: et-xmlfile, openpyxl\n",
      "Successfully installed et-xmlfile-1.1.0 openpyxl-3.0.9\n",
      "Note: you may need to restart the kernel to use updated packages.\n"
     ]
    }
   ],
   "source": [
    "pip install openpyxl"
   ]
  },
  {
   "cell_type": "code",
   "execution_count": 5,
   "id": "67563e1d",
   "metadata": {},
   "outputs": [
    {
     "name": "stdout",
     "output_type": "stream",
     "text": [
      "Collecting pandas\n",
      "  Downloading pandas-1.4.0-cp310-cp310-win_amd64.whl (10.6 MB)\n",
      "     ---------------------------------------- 10.6/10.6 MB 3.2 MB/s eta 0:00:00\n",
      "Requirement already satisfied: python-dateutil>=2.8.1 in c:\\users\\riyad\\myenv\\lib\\site-packages (from pandas) (2.8.2)\n",
      "Collecting numpy>=1.21.0\n",
      "  Downloading numpy-1.22.2-cp310-cp310-win_amd64.whl (14.7 MB)\n",
      "     ---------------------------------------- 14.7/14.7 MB 3.0 MB/s eta 0:00:00\n",
      "Collecting pytz>=2020.1\n",
      "  Downloading pytz-2021.3-py2.py3-none-any.whl (503 kB)\n",
      "     -------------------------------------- 503.5/503.5 KB 2.4 MB/s eta 0:00:00\n",
      "Requirement already satisfied: six>=1.5 in c:\\users\\riyad\\myenv\\lib\\site-packages (from python-dateutil>=2.8.1->pandas) (1.16.0)\n",
      "Installing collected packages: pytz, numpy, pandas\n",
      "Successfully installed numpy-1.22.2 pandas-1.4.0 pytz-2021.3\n",
      "Note: you may need to restart the kernel to use updated packages.\n"
     ]
    }
   ],
   "source": [
    "pip install pandas"
   ]
  },
  {
   "cell_type": "markdown",
   "id": "f323ff08",
   "metadata": {},
   "source": [
    "# Loading Libraries"
   ]
  },
  {
   "cell_type": "code",
   "execution_count": 106,
   "id": "859753e4",
   "metadata": {},
   "outputs": [],
   "source": [
    "import warnings\n",
    "warnings.filterwarnings(\"ignore\")\n",
    "\n",
    "import psycopg2\n",
    "import psycopg2.extras\n",
    "import pandas as pd"
   ]
  },
  {
   "cell_type": "markdown",
   "id": "36221a73",
   "metadata": {},
   "source": [
    "# Database connection"
   ]
  },
  {
   "cell_type": "code",
   "execution_count": 111,
   "id": "b87369ae",
   "metadata": {},
   "outputs": [],
   "source": [
    "\n",
    "\n",
    "class PostgresConnect(object):\n",
    "    def __init__(self):\n",
    "        self.connection = psycopg2.connect(database = \"ecomdb\",\n",
    "                                          user = \"postgres\",\n",
    "                                          password = \"12345678\",\n",
    "                                          host = \"\",\n",
    "                                          port = \"5432\"\n",
    "                                          )\n",
    "    \n",
    "    def getConnection(self):\n",
    "        print(\"Successfully connected to database\")\n",
    "        return self.connection"
   ]
  },
  {
   "cell_type": "code",
   "execution_count": 112,
   "id": "d09f312b",
   "metadata": {},
   "outputs": [
    {
     "name": "stdout",
     "output_type": "stream",
     "text": [
      "Successfully connected to database\n"
     ]
    }
   ],
   "source": [
    "con = PostgresConnect().getConnection()"
   ]
  },
  {
   "cell_type": "markdown",
   "id": "ab46c7d6",
   "metadata": {},
   "source": [
    "# Extract"
   ]
  },
  {
   "cell_type": "code",
   "execution_count": 9,
   "id": "f88b239b",
   "metadata": {},
   "outputs": [],
   "source": [
    "DATA_DIR = \"F:\\Health Data Analytics\\Ecom Data\""
   ]
  },
  {
   "cell_type": "code",
   "execution_count": 14,
   "id": "1dc9a469",
   "metadata": {},
   "outputs": [],
   "source": [
    "#trans_dim = pd.read_excel(open(DATA_DIR + 'e-commerece_data.xlsx', 'rb'), sheet_name = 1, engine = 'openpyxl')"
   ]
  },
  {
   "cell_type": "markdown",
   "id": "3ea26223",
   "metadata": {},
   "source": [
    "### Customer Data"
   ]
  },
  {
   "cell_type": "code",
   "execution_count": 91,
   "id": "ce25a958",
   "metadata": {},
   "outputs": [
    {
     "data": {
      "text/html": [
       "<div>\n",
       "<style scoped>\n",
       "    .dataframe tbody tr th:only-of-type {\n",
       "        vertical-align: middle;\n",
       "    }\n",
       "\n",
       "    .dataframe tbody tr th {\n",
       "        vertical-align: top;\n",
       "    }\n",
       "\n",
       "    .dataframe thead th {\n",
       "        text-align: right;\n",
       "    }\n",
       "</style>\n",
       "<table border=\"1\" class=\"dataframe\">\n",
       "  <thead>\n",
       "    <tr style=\"text-align: right;\">\n",
       "      <th></th>\n",
       "      <th>coustomer_key</th>\n",
       "      <th>name</th>\n",
       "      <th>contact_no</th>\n",
       "      <th>nid</th>\n",
       "    </tr>\n",
       "  </thead>\n",
       "  <tbody>\n",
       "    <tr>\n",
       "      <th>0</th>\n",
       "      <td>C000001</td>\n",
       "      <td>sumit</td>\n",
       "      <td>8.801920e+12</td>\n",
       "      <td>7.505080e+12</td>\n",
       "    </tr>\n",
       "    <tr>\n",
       "      <th>1</th>\n",
       "      <td>C000002</td>\n",
       "      <td>tammanne</td>\n",
       "      <td>8.801817e+12</td>\n",
       "      <td>1.977730e+12</td>\n",
       "    </tr>\n",
       "    <tr>\n",
       "      <th>2</th>\n",
       "      <td>C000003</td>\n",
       "      <td>kailash kumar</td>\n",
       "      <td>8.801660e+12</td>\n",
       "      <td>3.769490e+12</td>\n",
       "    </tr>\n",
       "    <tr>\n",
       "      <th>3</th>\n",
       "      <td>C000004</td>\n",
       "      <td>bhagwati prasad</td>\n",
       "      <td>8.801534e+12</td>\n",
       "      <td>9.378830e+12</td>\n",
       "    </tr>\n",
       "    <tr>\n",
       "      <th>4</th>\n",
       "      <td>C000005</td>\n",
       "      <td>ajay</td>\n",
       "      <td>8.801944e+12</td>\n",
       "      <td>3.540820e+12</td>\n",
       "    </tr>\n",
       "  </tbody>\n",
       "</table>\n",
       "</div>"
      ],
      "text/plain": [
       "  coustomer_key             name    contact_no           nid\n",
       "0       C000001            sumit  8.801920e+12  7.505080e+12\n",
       "1       C000002         tammanne  8.801817e+12  1.977730e+12\n",
       "2       C000003    kailash kumar  8.801660e+12  3.769490e+12\n",
       "3       C000004  bhagwati prasad  8.801534e+12  9.378830e+12\n",
       "4       C000005             ajay  8.801944e+12  3.540820e+12"
      ]
     },
     "execution_count": 91,
     "metadata": {},
     "output_type": "execute_result"
    }
   ],
   "source": [
    "customer_df = pd.read_csv(\"C:/Users/Riyad/Desktop/ecomdata/Coustomer_dim.csv\")\n",
    "customer_df.head()"
   ]
  },
  {
   "cell_type": "code",
   "execution_count": 92,
   "id": "fa7284a9",
   "metadata": {},
   "outputs": [
    {
     "name": "stdout",
     "output_type": "stream",
     "text": [
      "<class 'pandas.core.frame.DataFrame'>\n",
      "RangeIndex: 9191 entries, 0 to 9190\n",
      "Data columns (total 4 columns):\n",
      " #   Column         Non-Null Count  Dtype  \n",
      "---  ------         --------------  -----  \n",
      " 0   coustomer_key  9191 non-null   object \n",
      " 1   name           9164 non-null   object \n",
      " 2   contact_no     9191 non-null   float64\n",
      " 3   nid            9191 non-null   float64\n",
      "dtypes: float64(2), object(2)\n",
      "memory usage: 287.3+ KB\n"
     ]
    }
   ],
   "source": [
    "customer_df.info()"
   ]
  },
  {
   "cell_type": "code",
   "execution_count": 93,
   "id": "16005b50",
   "metadata": {},
   "outputs": [
    {
     "data": {
      "text/plain": [
       "coustomer_key     0\n",
       "name             27\n",
       "contact_no        0\n",
       "nid               0\n",
       "dtype: int64"
      ]
     },
     "execution_count": 93,
     "metadata": {},
     "output_type": "execute_result"
    }
   ],
   "source": [
    "customer_df.isnull().sum()"
   ]
  },
  {
   "cell_type": "code",
   "execution_count": 96,
   "id": "30c1d68f",
   "metadata": {},
   "outputs": [
    {
     "name": "stdout",
     "output_type": "stream",
     "text": [
      "<class 'pandas.core.frame.DataFrame'>\n",
      "Int64Index: 9164 entries, 0 to 9190\n",
      "Data columns (total 4 columns):\n",
      " #   Column         Non-Null Count  Dtype  \n",
      "---  ------         --------------  -----  \n",
      " 0   coustomer_key  9164 non-null   object \n",
      " 1   name           9164 non-null   object \n",
      " 2   contact_no     9164 non-null   float64\n",
      " 3   nid            9164 non-null   float64\n",
      "dtypes: float64(2), object(2)\n",
      "memory usage: 358.0+ KB\n",
      "None\n"
     ]
    }
   ],
   "source": [
    "customer_df1 = customer_df.dropna()\n",
    "print(customer_df1.info())"
   ]
  },
  {
   "cell_type": "code",
   "execution_count": 97,
   "id": "9b7c880f",
   "metadata": {},
   "outputs": [
    {
     "data": {
      "text/html": [
       "<div>\n",
       "<style scoped>\n",
       "    .dataframe tbody tr th:only-of-type {\n",
       "        vertical-align: middle;\n",
       "    }\n",
       "\n",
       "    .dataframe tbody tr th {\n",
       "        vertical-align: top;\n",
       "    }\n",
       "\n",
       "    .dataframe thead th {\n",
       "        text-align: right;\n",
       "    }\n",
       "</style>\n",
       "<table border=\"1\" class=\"dataframe\">\n",
       "  <thead>\n",
       "    <tr style=\"text-align: right;\">\n",
       "      <th></th>\n",
       "      <th>coustomer_key</th>\n",
       "      <th>name</th>\n",
       "      <th>contact_no</th>\n",
       "      <th>nid</th>\n",
       "    </tr>\n",
       "  </thead>\n",
       "  <tbody>\n",
       "    <tr>\n",
       "      <th>0</th>\n",
       "      <td>C000001</td>\n",
       "      <td>sumit</td>\n",
       "      <td>8.801920e+12</td>\n",
       "      <td>7.505080e+12</td>\n",
       "    </tr>\n",
       "    <tr>\n",
       "      <th>1</th>\n",
       "      <td>C000002</td>\n",
       "      <td>tammanne</td>\n",
       "      <td>8.801817e+12</td>\n",
       "      <td>1.977730e+12</td>\n",
       "    </tr>\n",
       "    <tr>\n",
       "      <th>2</th>\n",
       "      <td>C000003</td>\n",
       "      <td>kailash kumar</td>\n",
       "      <td>8.801660e+12</td>\n",
       "      <td>3.769490e+12</td>\n",
       "    </tr>\n",
       "    <tr>\n",
       "      <th>3</th>\n",
       "      <td>C000004</td>\n",
       "      <td>bhagwati prasad</td>\n",
       "      <td>8.801534e+12</td>\n",
       "      <td>9.378830e+12</td>\n",
       "    </tr>\n",
       "    <tr>\n",
       "      <th>4</th>\n",
       "      <td>C000005</td>\n",
       "      <td>ajay</td>\n",
       "      <td>8.801944e+12</td>\n",
       "      <td>3.540820e+12</td>\n",
       "    </tr>\n",
       "  </tbody>\n",
       "</table>\n",
       "</div>"
      ],
      "text/plain": [
       "  coustomer_key             name    contact_no           nid\n",
       "0       C000001            sumit  8.801920e+12  7.505080e+12\n",
       "1       C000002         tammanne  8.801817e+12  1.977730e+12\n",
       "2       C000003    kailash kumar  8.801660e+12  3.769490e+12\n",
       "3       C000004  bhagwati prasad  8.801534e+12  9.378830e+12\n",
       "4       C000005             ajay  8.801944e+12  3.540820e+12"
      ]
     },
     "execution_count": 97,
     "metadata": {},
     "output_type": "execute_result"
    }
   ],
   "source": [
    "customer_df1.head()"
   ]
  },
  {
   "cell_type": "code",
   "execution_count": 98,
   "id": "c3c3d8f1",
   "metadata": {},
   "outputs": [],
   "source": [
    "customer_df1[\"contact_no\"] = customer_df1[\"contact_no\"].astype(\"Int64\")"
   ]
  },
  {
   "cell_type": "code",
   "execution_count": 99,
   "id": "f3a7352f",
   "metadata": {},
   "outputs": [],
   "source": [
    "customer_df1[\"nid\"] =  customer_df1[\"nid\"].astype(\"Int64\")"
   ]
  },
  {
   "cell_type": "code",
   "execution_count": 100,
   "id": "6d908d18",
   "metadata": {},
   "outputs": [
    {
     "name": "stdout",
     "output_type": "stream",
     "text": [
      "<class 'pandas.core.frame.DataFrame'>\n",
      "Int64Index: 9164 entries, 0 to 9190\n",
      "Data columns (total 4 columns):\n",
      " #   Column         Non-Null Count  Dtype \n",
      "---  ------         --------------  ----- \n",
      " 0   coustomer_key  9164 non-null   object\n",
      " 1   name           9164 non-null   object\n",
      " 2   contact_no     9164 non-null   Int64 \n",
      " 3   nid            9164 non-null   Int64 \n",
      "dtypes: Int64(2), object(2)\n",
      "memory usage: 375.9+ KB\n"
     ]
    }
   ],
   "source": [
    "customer_df1.info()"
   ]
  },
  {
   "cell_type": "code",
   "execution_count": 101,
   "id": "f29557af",
   "metadata": {},
   "outputs": [
    {
     "data": {
      "text/html": [
       "<div>\n",
       "<style scoped>\n",
       "    .dataframe tbody tr th:only-of-type {\n",
       "        vertical-align: middle;\n",
       "    }\n",
       "\n",
       "    .dataframe tbody tr th {\n",
       "        vertical-align: top;\n",
       "    }\n",
       "\n",
       "    .dataframe thead th {\n",
       "        text-align: right;\n",
       "    }\n",
       "</style>\n",
       "<table border=\"1\" class=\"dataframe\">\n",
       "  <thead>\n",
       "    <tr style=\"text-align: right;\">\n",
       "      <th></th>\n",
       "      <th>coustomer_key</th>\n",
       "      <th>name</th>\n",
       "      <th>contact_no</th>\n",
       "      <th>nid</th>\n",
       "    </tr>\n",
       "  </thead>\n",
       "  <tbody>\n",
       "    <tr>\n",
       "      <th>0</th>\n",
       "      <td>C000001</td>\n",
       "      <td>sumit</td>\n",
       "      <td>8801920000000</td>\n",
       "      <td>7505080000000</td>\n",
       "    </tr>\n",
       "    <tr>\n",
       "      <th>1</th>\n",
       "      <td>C000002</td>\n",
       "      <td>tammanne</td>\n",
       "      <td>8801817069329</td>\n",
       "      <td>1977730000000</td>\n",
       "    </tr>\n",
       "    <tr>\n",
       "      <th>2</th>\n",
       "      <td>C000003</td>\n",
       "      <td>kailash kumar</td>\n",
       "      <td>8801660000000</td>\n",
       "      <td>3769490000000</td>\n",
       "    </tr>\n",
       "    <tr>\n",
       "      <th>3</th>\n",
       "      <td>C000004</td>\n",
       "      <td>bhagwati prasad</td>\n",
       "      <td>8801533627961</td>\n",
       "      <td>9378830000000</td>\n",
       "    </tr>\n",
       "    <tr>\n",
       "      <th>4</th>\n",
       "      <td>C000005</td>\n",
       "      <td>ajay</td>\n",
       "      <td>8801943715786</td>\n",
       "      <td>3540820000000</td>\n",
       "    </tr>\n",
       "  </tbody>\n",
       "</table>\n",
       "</div>"
      ],
      "text/plain": [
       "  coustomer_key             name     contact_no            nid\n",
       "0       C000001            sumit  8801920000000  7505080000000\n",
       "1       C000002         tammanne  8801817069329  1977730000000\n",
       "2       C000003    kailash kumar  8801660000000  3769490000000\n",
       "3       C000004  bhagwati prasad  8801533627961  9378830000000\n",
       "4       C000005             ajay  8801943715786  3540820000000"
      ]
     },
     "execution_count": 101,
     "metadata": {},
     "output_type": "execute_result"
    }
   ],
   "source": [
    "customer_df1.head()"
   ]
  },
  {
   "cell_type": "markdown",
   "id": "76676a9e",
   "metadata": {},
   "source": [
    "### Transaction data"
   ]
  },
  {
   "cell_type": "code",
   "execution_count": 49,
   "id": "def29c60",
   "metadata": {},
   "outputs": [
    {
     "data": {
      "text/html": [
       "<div>\n",
       "<style scoped>\n",
       "    .dataframe tbody tr th:only-of-type {\n",
       "        vertical-align: middle;\n",
       "    }\n",
       "\n",
       "    .dataframe tbody tr th {\n",
       "        vertical-align: top;\n",
       "    }\n",
       "\n",
       "    .dataframe thead th {\n",
       "        text-align: right;\n",
       "    }\n",
       "</style>\n",
       "<table border=\"1\" class=\"dataframe\">\n",
       "  <thead>\n",
       "    <tr style=\"text-align: right;\">\n",
       "      <th></th>\n",
       "      <th>payment_key</th>\n",
       "      <th>trans_type</th>\n",
       "      <th>bank_name</th>\n",
       "    </tr>\n",
       "  </thead>\n",
       "  <tbody>\n",
       "    <tr>\n",
       "      <th>0</th>\n",
       "      <td>P001</td>\n",
       "      <td>cash</td>\n",
       "      <td>None</td>\n",
       "    </tr>\n",
       "    <tr>\n",
       "      <th>1</th>\n",
       "      <td>P002</td>\n",
       "      <td>card</td>\n",
       "      <td>AB Bank Limited</td>\n",
       "    </tr>\n",
       "    <tr>\n",
       "      <th>2</th>\n",
       "      <td>P003</td>\n",
       "      <td>card</td>\n",
       "      <td>Bangladesh Commerce Bank Limited</td>\n",
       "    </tr>\n",
       "    <tr>\n",
       "      <th>3</th>\n",
       "      <td>P004</td>\n",
       "      <td>card</td>\n",
       "      <td>Bank Asia Limited</td>\n",
       "    </tr>\n",
       "    <tr>\n",
       "      <th>4</th>\n",
       "      <td>P005</td>\n",
       "      <td>card</td>\n",
       "      <td>BRAC Bank Limited</td>\n",
       "    </tr>\n",
       "  </tbody>\n",
       "</table>\n",
       "</div>"
      ],
      "text/plain": [
       "  payment_key trans_type                         bank_name\n",
       "0        P001       cash                              None\n",
       "1        P002       card                   AB Bank Limited\n",
       "2        P003       card  Bangladesh Commerce Bank Limited\n",
       "3        P004       card                 Bank Asia Limited\n",
       "4        P005       card                 BRAC Bank Limited"
      ]
     },
     "execution_count": 49,
     "metadata": {},
     "output_type": "execute_result"
    }
   ],
   "source": [
    "trans_df = pd.read_csv(\"C:/Users/Riyad/Desktop/ecomdata/Trans_dim.csv\")\n",
    "trans_df.head()"
   ]
  },
  {
   "cell_type": "code",
   "execution_count": 59,
   "id": "9b8943f5",
   "metadata": {},
   "outputs": [
    {
     "data": {
      "text/plain": [
       "0     False\n",
       "1     False\n",
       "2     False\n",
       "3     False\n",
       "4     False\n",
       "5     False\n",
       "6     False\n",
       "7     False\n",
       "8     False\n",
       "9     False\n",
       "10    False\n",
       "11    False\n",
       "12    False\n",
       "13    False\n",
       "14    False\n",
       "15    False\n",
       "16    False\n",
       "17    False\n",
       "18    False\n",
       "19    False\n",
       "20    False\n",
       "21    False\n",
       "22    False\n",
       "23    False\n",
       "24    False\n",
       "25    False\n",
       "26    False\n",
       "27    False\n",
       "28    False\n",
       "29    False\n",
       "30    False\n",
       "31    False\n",
       "32    False\n",
       "33    False\n",
       "34    False\n",
       "35    False\n",
       "36    False\n",
       "37    False\n",
       "38    False\n",
       "Name: payment_key, dtype: bool"
      ]
     },
     "execution_count": 59,
     "metadata": {},
     "output_type": "execute_result"
    }
   ],
   "source": [
    "trans_df[\"payment_key\"] == \"S00307\""
   ]
  },
  {
   "cell_type": "code",
   "execution_count": 50,
   "id": "fa3b719e",
   "metadata": {},
   "outputs": [
    {
     "name": "stdout",
     "output_type": "stream",
     "text": [
      "<class 'pandas.core.frame.DataFrame'>\n",
      "RangeIndex: 39 entries, 0 to 38\n",
      "Data columns (total 3 columns):\n",
      " #   Column       Non-Null Count  Dtype \n",
      "---  ------       --------------  ----- \n",
      " 0   payment_key  39 non-null     object\n",
      " 1   trans_type   39 non-null     object\n",
      " 2   bank_name    39 non-null     object\n",
      "dtypes: object(3)\n",
      "memory usage: 1.0+ KB\n"
     ]
    }
   ],
   "source": [
    "trans_df.info()"
   ]
  },
  {
   "cell_type": "markdown",
   "id": "8e2ac6aa",
   "metadata": {},
   "source": [
    "### Item data"
   ]
  },
  {
   "cell_type": "code",
   "execution_count": 111,
   "id": "b356669f",
   "metadata": {},
   "outputs": [
    {
     "data": {
      "text/html": [
       "<div>\n",
       "<style scoped>\n",
       "    .dataframe tbody tr th:only-of-type {\n",
       "        vertical-align: middle;\n",
       "    }\n",
       "\n",
       "    .dataframe tbody tr th {\n",
       "        vertical-align: top;\n",
       "    }\n",
       "\n",
       "    .dataframe thead th {\n",
       "        text-align: right;\n",
       "    }\n",
       "</style>\n",
       "<table border=\"1\" class=\"dataframe\">\n",
       "  <thead>\n",
       "    <tr style=\"text-align: right;\">\n",
       "      <th></th>\n",
       "      <th>item_key</th>\n",
       "      <th>item_name</th>\n",
       "      <th>desc</th>\n",
       "      <th>unit_price</th>\n",
       "      <th>man_country</th>\n",
       "      <th>supplier</th>\n",
       "      <th>unit</th>\n",
       "    </tr>\n",
       "  </thead>\n",
       "  <tbody>\n",
       "    <tr>\n",
       "      <th>0</th>\n",
       "      <td>I00001</td>\n",
       "      <td>A&amp;W Root Beer - 12 oz cans</td>\n",
       "      <td>a. Beverage - Soda</td>\n",
       "      <td>11.50</td>\n",
       "      <td>Netherlands</td>\n",
       "      <td>Bolsius Boxmeer</td>\n",
       "      <td>cans</td>\n",
       "    </tr>\n",
       "    <tr>\n",
       "      <th>1</th>\n",
       "      <td>I00002</td>\n",
       "      <td>A&amp;W Root Beer Diet - 12 oz cans</td>\n",
       "      <td>a. Beverage - Soda</td>\n",
       "      <td>6.75</td>\n",
       "      <td>poland</td>\n",
       "      <td>CHROMADURLIN S.A.S</td>\n",
       "      <td>cans</td>\n",
       "    </tr>\n",
       "    <tr>\n",
       "      <th>2</th>\n",
       "      <td>I00003</td>\n",
       "      <td>Barq's Root Beer - 12 oz cans</td>\n",
       "      <td>a. Beverage - Soda</td>\n",
       "      <td>6.75</td>\n",
       "      <td>Bangladesh</td>\n",
       "      <td>DENIMACH LTD</td>\n",
       "      <td>cans</td>\n",
       "    </tr>\n",
       "    <tr>\n",
       "      <th>3</th>\n",
       "      <td>I00004</td>\n",
       "      <td>Cherry Coke 12oz</td>\n",
       "      <td>a. Beverage - Soda</td>\n",
       "      <td>6.75</td>\n",
       "      <td>Netherlands</td>\n",
       "      <td>Bolsius Boxmeer</td>\n",
       "      <td>cans</td>\n",
       "    </tr>\n",
       "    <tr>\n",
       "      <th>4</th>\n",
       "      <td>I00005</td>\n",
       "      <td>Cherry Coke Zero 12 pack</td>\n",
       "      <td>a. Beverage - Soda</td>\n",
       "      <td>6.75</td>\n",
       "      <td>Finland</td>\n",
       "      <td>HARDFORD AB</td>\n",
       "      <td>cans</td>\n",
       "    </tr>\n",
       "  </tbody>\n",
       "</table>\n",
       "</div>"
      ],
      "text/plain": [
       "  item_key                        item_name                desc  unit_price  \\\n",
       "0   I00001       A&W Root Beer - 12 oz cans  a. Beverage - Soda       11.50   \n",
       "1   I00002  A&W Root Beer Diet - 12 oz cans  a. Beverage - Soda        6.75   \n",
       "2   I00003    Barq's Root Beer - 12 oz cans  a. Beverage - Soda        6.75   \n",
       "3   I00004                 Cherry Coke 12oz  a. Beverage - Soda        6.75   \n",
       "4   I00005         Cherry Coke Zero 12 pack  a. Beverage - Soda        6.75   \n",
       "\n",
       "   man_country            supplier  unit  \n",
       "0  Netherlands     Bolsius Boxmeer  cans  \n",
       "1       poland  CHROMADURLIN S.A.S  cans  \n",
       "2   Bangladesh        DENIMACH LTD  cans  \n",
       "3  Netherlands     Bolsius Boxmeer  cans  \n",
       "4      Finland         HARDFORD AB  cans  "
      ]
     },
     "execution_count": 111,
     "metadata": {},
     "output_type": "execute_result"
    }
   ],
   "source": [
    "item_df = pd.read_csv(\"Item_dim.csv\")\n",
    "item_df.head()"
   ]
  },
  {
   "cell_type": "code",
   "execution_count": 112,
   "id": "0d0a86b1",
   "metadata": {},
   "outputs": [
    {
     "name": "stdout",
     "output_type": "stream",
     "text": [
      "<class 'pandas.core.frame.DataFrame'>\n",
      "RangeIndex: 264 entries, 0 to 263\n",
      "Data columns (total 7 columns):\n",
      " #   Column       Non-Null Count  Dtype  \n",
      "---  ------       --------------  -----  \n",
      " 0   item_key     264 non-null    object \n",
      " 1   item_name    264 non-null    object \n",
      " 2   desc         264 non-null    object \n",
      " 3   unit_price   264 non-null    float64\n",
      " 4   man_country  264 non-null    object \n",
      " 5   supplier     264 non-null    object \n",
      " 6   unit         263 non-null    object \n",
      "dtypes: float64(1), object(6)\n",
      "memory usage: 14.6+ KB\n"
     ]
    }
   ],
   "source": [
    "item_df.info()"
   ]
  },
  {
   "cell_type": "code",
   "execution_count": 113,
   "id": "557b2c51",
   "metadata": {},
   "outputs": [],
   "source": [
    "item_df.dropna(inplace = True)"
   ]
  },
  {
   "cell_type": "code",
   "execution_count": 115,
   "id": "c8876526",
   "metadata": {},
   "outputs": [
    {
     "name": "stdout",
     "output_type": "stream",
     "text": [
      "item_key       0\n",
      "item_name      0\n",
      "desc           0\n",
      "unit_price     0\n",
      "man_country    0\n",
      "supplier       0\n",
      "unit           0\n",
      "dtype: int64\n",
      "<class 'pandas.core.frame.DataFrame'>\n",
      "Int64Index: 263 entries, 0 to 263\n",
      "Data columns (total 7 columns):\n",
      " #   Column       Non-Null Count  Dtype  \n",
      "---  ------       --------------  -----  \n",
      " 0   item_key     263 non-null    object \n",
      " 1   item_name    263 non-null    object \n",
      " 2   desc         263 non-null    object \n",
      " 3   unit_price   263 non-null    float64\n",
      " 4   man_country  263 non-null    object \n",
      " 5   supplier     263 non-null    object \n",
      " 6   unit         263 non-null    object \n",
      "dtypes: float64(1), object(6)\n",
      "memory usage: 16.4+ KB\n",
      "None\n"
     ]
    }
   ],
   "source": [
    "print(item_df.isnull().sum())\n",
    "print(item_df.info())"
   ]
  },
  {
   "cell_type": "markdown",
   "id": "99c2e786",
   "metadata": {},
   "source": [
    "## Store Data"
   ]
  },
  {
   "cell_type": "code",
   "execution_count": 62,
   "id": "db77f80a",
   "metadata": {},
   "outputs": [
    {
     "data": {
      "text/html": [
       "<div>\n",
       "<style scoped>\n",
       "    .dataframe tbody tr th:only-of-type {\n",
       "        vertical-align: middle;\n",
       "    }\n",
       "\n",
       "    .dataframe tbody tr th {\n",
       "        vertical-align: top;\n",
       "    }\n",
       "\n",
       "    .dataframe thead th {\n",
       "        text-align: right;\n",
       "    }\n",
       "</style>\n",
       "<table border=\"1\" class=\"dataframe\">\n",
       "  <thead>\n",
       "    <tr style=\"text-align: right;\">\n",
       "      <th></th>\n",
       "      <th>store_key</th>\n",
       "      <th>division</th>\n",
       "      <th>district</th>\n",
       "      <th>upazila</th>\n",
       "    </tr>\n",
       "  </thead>\n",
       "  <tbody>\n",
       "    <tr>\n",
       "      <th>0</th>\n",
       "      <td>S0001</td>\n",
       "      <td>SYLHET</td>\n",
       "      <td>HABIGANJ</td>\n",
       "      <td>AJMIRIGANJ</td>\n",
       "    </tr>\n",
       "    <tr>\n",
       "      <th>1</th>\n",
       "      <td>S0002</td>\n",
       "      <td>SYLHET</td>\n",
       "      <td>HABIGANJ</td>\n",
       "      <td>BAHUBAL</td>\n",
       "    </tr>\n",
       "    <tr>\n",
       "      <th>2</th>\n",
       "      <td>S0003</td>\n",
       "      <td>SYLHET</td>\n",
       "      <td>HABIGANJ</td>\n",
       "      <td>BANIACHONG</td>\n",
       "    </tr>\n",
       "    <tr>\n",
       "      <th>3</th>\n",
       "      <td>S0004</td>\n",
       "      <td>SYLHET</td>\n",
       "      <td>HABIGANJ</td>\n",
       "      <td>CHUNARUGHAT</td>\n",
       "    </tr>\n",
       "    <tr>\n",
       "      <th>4</th>\n",
       "      <td>S0005</td>\n",
       "      <td>SYLHET</td>\n",
       "      <td>HABIGANJ</td>\n",
       "      <td>HABIGANJ SADAR</td>\n",
       "    </tr>\n",
       "  </tbody>\n",
       "</table>\n",
       "</div>"
      ],
      "text/plain": [
       "  store_key division  district         upazila\n",
       "0     S0001   SYLHET  HABIGANJ      AJMIRIGANJ\n",
       "1     S0002   SYLHET  HABIGANJ         BAHUBAL\n",
       "2     S0003   SYLHET  HABIGANJ      BANIACHONG\n",
       "3     S0004   SYLHET  HABIGANJ     CHUNARUGHAT\n",
       "4     S0005   SYLHET  HABIGANJ  HABIGANJ SADAR"
      ]
     },
     "execution_count": 62,
     "metadata": {},
     "output_type": "execute_result"
    }
   ],
   "source": [
    "store_df = pd.read_csv(\"C:/Users/Riyad/Desktop/ecomdata/Store_dim.csv\")\n",
    "store_df.head()"
   ]
  },
  {
   "cell_type": "code",
   "execution_count": 12,
   "id": "c18d5370",
   "metadata": {},
   "outputs": [
    {
     "data": {
      "text/plain": [
       "Index(['store_key', 'division', 'district', 'upazila'], dtype='object')"
      ]
     },
     "execution_count": 12,
     "metadata": {},
     "output_type": "execute_result"
    }
   ],
   "source": [
    "store_df.columns"
   ]
  },
  {
   "cell_type": "code",
   "execution_count": 63,
   "id": "07718dc2",
   "metadata": {},
   "outputs": [
    {
     "data": {
      "text/html": [
       "<div>\n",
       "<style scoped>\n",
       "    .dataframe tbody tr th:only-of-type {\n",
       "        vertical-align: middle;\n",
       "    }\n",
       "\n",
       "    .dataframe tbody tr th {\n",
       "        vertical-align: top;\n",
       "    }\n",
       "\n",
       "    .dataframe thead th {\n",
       "        text-align: right;\n",
       "    }\n",
       "</style>\n",
       "<table border=\"1\" class=\"dataframe\">\n",
       "  <thead>\n",
       "    <tr style=\"text-align: right;\">\n",
       "      <th></th>\n",
       "      <th>store_key</th>\n",
       "      <th>division</th>\n",
       "      <th>district</th>\n",
       "      <th>upazila</th>\n",
       "    </tr>\n",
       "  </thead>\n",
       "  <tbody>\n",
       "    <tr>\n",
       "      <th>306</th>\n",
       "      <td>S00307</td>\n",
       "      <td>DHAKA</td>\n",
       "      <td>JAMALPUR</td>\n",
       "      <td>ISLAMPUR</td>\n",
       "    </tr>\n",
       "  </tbody>\n",
       "</table>\n",
       "</div>"
      ],
      "text/plain": [
       "    store_key division  district   upazila\n",
       "306    S00307    DHAKA  JAMALPUR  ISLAMPUR"
      ]
     },
     "execution_count": 63,
     "metadata": {},
     "output_type": "execute_result"
    }
   ],
   "source": [
    "store_df[store_df[\"store_key\"] == \"S00307\"]"
   ]
  },
  {
   "cell_type": "code",
   "execution_count": 14,
   "id": "b355c90f",
   "metadata": {},
   "outputs": [
    {
     "data": {
      "text/plain": [
       "store_key    object\n",
       "division     object\n",
       "district     object\n",
       "upazila      object\n",
       "dtype: object"
      ]
     },
     "execution_count": 14,
     "metadata": {},
     "output_type": "execute_result"
    }
   ],
   "source": [
    "store_df.dtypes"
   ]
  },
  {
   "cell_type": "code",
   "execution_count": 15,
   "id": "e69bea00",
   "metadata": {},
   "outputs": [
    {
     "data": {
      "text/plain": [
       "store_key    0\n",
       "division     0\n",
       "district     0\n",
       "upazila      0\n",
       "dtype: int64"
      ]
     },
     "execution_count": 15,
     "metadata": {},
     "output_type": "execute_result"
    }
   ],
   "source": [
    "store_df.isnull().sum()"
   ]
  },
  {
   "cell_type": "markdown",
   "id": "607eb10e",
   "metadata": {},
   "source": [
    "### Time dim"
   ]
  },
  {
   "cell_type": "code",
   "execution_count": 23,
   "id": "120d94a3",
   "metadata": {},
   "outputs": [
    {
     "data": {
      "text/html": [
       "<div>\n",
       "<style scoped>\n",
       "    .dataframe tbody tr th:only-of-type {\n",
       "        vertical-align: middle;\n",
       "    }\n",
       "\n",
       "    .dataframe tbody tr th {\n",
       "        vertical-align: top;\n",
       "    }\n",
       "\n",
       "    .dataframe thead th {\n",
       "        text-align: right;\n",
       "    }\n",
       "</style>\n",
       "<table border=\"1\" class=\"dataframe\">\n",
       "  <thead>\n",
       "    <tr style=\"text-align: right;\">\n",
       "      <th></th>\n",
       "      <th>time_key</th>\n",
       "      <th>date</th>\n",
       "      <th>hour</th>\n",
       "      <th>day</th>\n",
       "      <th>week</th>\n",
       "      <th>month</th>\n",
       "      <th>quarter</th>\n",
       "      <th>year</th>\n",
       "    </tr>\n",
       "  </thead>\n",
       "  <tbody>\n",
       "    <tr>\n",
       "      <th>0</th>\n",
       "      <td>T00001</td>\n",
       "      <td>20-05-2017 14:56</td>\n",
       "      <td>14</td>\n",
       "      <td>20</td>\n",
       "      <td>3rd Week</td>\n",
       "      <td>5</td>\n",
       "      <td>Q2</td>\n",
       "      <td>2017</td>\n",
       "    </tr>\n",
       "    <tr>\n",
       "      <th>1</th>\n",
       "      <td>T00002</td>\n",
       "      <td>30-01-2015 22:14</td>\n",
       "      <td>22</td>\n",
       "      <td>30</td>\n",
       "      <td>4th Week</td>\n",
       "      <td>1</td>\n",
       "      <td>Q1</td>\n",
       "      <td>2015</td>\n",
       "    </tr>\n",
       "    <tr>\n",
       "      <th>2</th>\n",
       "      <td>T00003</td>\n",
       "      <td>14-03-2020 02:34</td>\n",
       "      <td>2</td>\n",
       "      <td>14</td>\n",
       "      <td>2nd Week</td>\n",
       "      <td>3</td>\n",
       "      <td>Q1</td>\n",
       "      <td>2020</td>\n",
       "    </tr>\n",
       "    <tr>\n",
       "      <th>3</th>\n",
       "      <td>T00004</td>\n",
       "      <td>27-04-2018 12:19</td>\n",
       "      <td>12</td>\n",
       "      <td>27</td>\n",
       "      <td>4th Week</td>\n",
       "      <td>4</td>\n",
       "      <td>Q2</td>\n",
       "      <td>2018</td>\n",
       "    </tr>\n",
       "    <tr>\n",
       "      <th>4</th>\n",
       "      <td>T00005</td>\n",
       "      <td>14-04-2018 10:43</td>\n",
       "      <td>10</td>\n",
       "      <td>14</td>\n",
       "      <td>2nd Week</td>\n",
       "      <td>4</td>\n",
       "      <td>Q2</td>\n",
       "      <td>2018</td>\n",
       "    </tr>\n",
       "  </tbody>\n",
       "</table>\n",
       "</div>"
      ],
      "text/plain": [
       "  time_key              date  hour  day      week  month quarter  year\n",
       "0   T00001  20-05-2017 14:56    14   20  3rd Week      5      Q2  2017\n",
       "1   T00002  30-01-2015 22:14    22   30  4th Week      1      Q1  2015\n",
       "2   T00003  14-03-2020 02:34     2   14  2nd Week      3      Q1  2020\n",
       "3   T00004  27-04-2018 12:19    12   27  4th Week      4      Q2  2018\n",
       "4   T00005  14-04-2018 10:43    10   14  2nd Week      4      Q2  2018"
      ]
     },
     "execution_count": 23,
     "metadata": {},
     "output_type": "execute_result"
    }
   ],
   "source": [
    "time_df = pd.read_csv(\"C:/Users/Riyad/Desktop/ecomdata/Time_dim.csv\")\n",
    "time_df.head()"
   ]
  },
  {
   "cell_type": "code",
   "execution_count": 24,
   "id": "1f7be4d3",
   "metadata": {},
   "outputs": [
    {
     "data": {
      "text/plain": [
       "time_key    0\n",
       "date        0\n",
       "hour        0\n",
       "day         0\n",
       "week        0\n",
       "month       0\n",
       "quarter     0\n",
       "year        0\n",
       "dtype: int64"
      ]
     },
     "execution_count": 24,
     "metadata": {},
     "output_type": "execute_result"
    }
   ],
   "source": [
    "time_df.isnull().sum()"
   ]
  },
  {
   "cell_type": "code",
   "execution_count": 25,
   "id": "fbae3f08",
   "metadata": {},
   "outputs": [],
   "source": [
    "# time_df['date'] = time_df['date'].astype('datetime64[ns]')"
   ]
  },
  {
   "cell_type": "code",
   "execution_count": 26,
   "id": "d1a023c9",
   "metadata": {},
   "outputs": [],
   "source": [
    "time_df[\"date\"] =  pd.to_datetime(time_df[\"date\"], format = '%d-%m-%Y %H:%M')"
   ]
  },
  {
   "cell_type": "code",
   "execution_count": 27,
   "id": "f704250e",
   "metadata": {},
   "outputs": [
    {
     "data": {
      "text/html": [
       "<div>\n",
       "<style scoped>\n",
       "    .dataframe tbody tr th:only-of-type {\n",
       "        vertical-align: middle;\n",
       "    }\n",
       "\n",
       "    .dataframe tbody tr th {\n",
       "        vertical-align: top;\n",
       "    }\n",
       "\n",
       "    .dataframe thead th {\n",
       "        text-align: right;\n",
       "    }\n",
       "</style>\n",
       "<table border=\"1\" class=\"dataframe\">\n",
       "  <thead>\n",
       "    <tr style=\"text-align: right;\">\n",
       "      <th></th>\n",
       "      <th>time_key</th>\n",
       "      <th>date</th>\n",
       "      <th>hour</th>\n",
       "      <th>day</th>\n",
       "      <th>week</th>\n",
       "      <th>month</th>\n",
       "      <th>quarter</th>\n",
       "      <th>year</th>\n",
       "    </tr>\n",
       "  </thead>\n",
       "  <tbody>\n",
       "    <tr>\n",
       "      <th>0</th>\n",
       "      <td>T00001</td>\n",
       "      <td>2017-05-20 14:56:00</td>\n",
       "      <td>14</td>\n",
       "      <td>20</td>\n",
       "      <td>3rd Week</td>\n",
       "      <td>5</td>\n",
       "      <td>Q2</td>\n",
       "      <td>2017</td>\n",
       "    </tr>\n",
       "    <tr>\n",
       "      <th>1</th>\n",
       "      <td>T00002</td>\n",
       "      <td>2015-01-30 22:14:00</td>\n",
       "      <td>22</td>\n",
       "      <td>30</td>\n",
       "      <td>4th Week</td>\n",
       "      <td>1</td>\n",
       "      <td>Q1</td>\n",
       "      <td>2015</td>\n",
       "    </tr>\n",
       "    <tr>\n",
       "      <th>2</th>\n",
       "      <td>T00003</td>\n",
       "      <td>2020-03-14 02:34:00</td>\n",
       "      <td>2</td>\n",
       "      <td>14</td>\n",
       "      <td>2nd Week</td>\n",
       "      <td>3</td>\n",
       "      <td>Q1</td>\n",
       "      <td>2020</td>\n",
       "    </tr>\n",
       "    <tr>\n",
       "      <th>3</th>\n",
       "      <td>T00004</td>\n",
       "      <td>2018-04-27 12:19:00</td>\n",
       "      <td>12</td>\n",
       "      <td>27</td>\n",
       "      <td>4th Week</td>\n",
       "      <td>4</td>\n",
       "      <td>Q2</td>\n",
       "      <td>2018</td>\n",
       "    </tr>\n",
       "    <tr>\n",
       "      <th>4</th>\n",
       "      <td>T00005</td>\n",
       "      <td>2018-04-14 10:43:00</td>\n",
       "      <td>10</td>\n",
       "      <td>14</td>\n",
       "      <td>2nd Week</td>\n",
       "      <td>4</td>\n",
       "      <td>Q2</td>\n",
       "      <td>2018</td>\n",
       "    </tr>\n",
       "  </tbody>\n",
       "</table>\n",
       "</div>"
      ],
      "text/plain": [
       "  time_key                date  hour  day      week  month quarter  year\n",
       "0   T00001 2017-05-20 14:56:00    14   20  3rd Week      5      Q2  2017\n",
       "1   T00002 2015-01-30 22:14:00    22   30  4th Week      1      Q1  2015\n",
       "2   T00003 2020-03-14 02:34:00     2   14  2nd Week      3      Q1  2020\n",
       "3   T00004 2018-04-27 12:19:00    12   27  4th Week      4      Q2  2018\n",
       "4   T00005 2018-04-14 10:43:00    10   14  2nd Week      4      Q2  2018"
      ]
     },
     "execution_count": 27,
     "metadata": {},
     "output_type": "execute_result"
    }
   ],
   "source": [
    "time_df.head()"
   ]
  },
  {
   "cell_type": "code",
   "execution_count": 28,
   "id": "dc8b8130",
   "metadata": {},
   "outputs": [],
   "source": [
    "#df_time_dim['date'] = pd.to_datetime(df_time_dim['date'], format='%d-%m-%Y %H:%M')"
   ]
  },
  {
   "cell_type": "code",
   "execution_count": 29,
   "id": "f2790988",
   "metadata": {},
   "outputs": [
    {
     "name": "stdout",
     "output_type": "stream",
     "text": [
      "<class 'pandas.core.frame.DataFrame'>\n",
      "RangeIndex: 99999 entries, 0 to 99998\n",
      "Data columns (total 8 columns):\n",
      " #   Column    Non-Null Count  Dtype         \n",
      "---  ------    --------------  -----         \n",
      " 0   time_key  99999 non-null  object        \n",
      " 1   date      99999 non-null  datetime64[ns]\n",
      " 2   hour      99999 non-null  int64         \n",
      " 3   day       99999 non-null  int64         \n",
      " 4   week      99999 non-null  object        \n",
      " 5   month     99999 non-null  int64         \n",
      " 6   quarter   99999 non-null  object        \n",
      " 7   year      99999 non-null  int64         \n",
      "dtypes: datetime64[ns](1), int64(4), object(3)\n",
      "memory usage: 6.1+ MB\n"
     ]
    }
   ],
   "source": [
    "time_df.info()"
   ]
  },
  {
   "cell_type": "markdown",
   "id": "5d3037d7",
   "metadata": {},
   "source": [
    "### Fact Data"
   ]
  },
  {
   "cell_type": "code",
   "execution_count": 84,
   "id": "aadec53e",
   "metadata": {},
   "outputs": [
    {
     "data": {
      "text/html": [
       "<div>\n",
       "<style scoped>\n",
       "    .dataframe tbody tr th:only-of-type {\n",
       "        vertical-align: middle;\n",
       "    }\n",
       "\n",
       "    .dataframe tbody tr th {\n",
       "        vertical-align: top;\n",
       "    }\n",
       "\n",
       "    .dataframe thead th {\n",
       "        text-align: right;\n",
       "    }\n",
       "</style>\n",
       "<table border=\"1\" class=\"dataframe\">\n",
       "  <thead>\n",
       "    <tr style=\"text-align: right;\">\n",
       "      <th></th>\n",
       "      <th>payment_key</th>\n",
       "      <th>coustomer_key</th>\n",
       "      <th>time_key</th>\n",
       "      <th>item_key</th>\n",
       "      <th>store_key</th>\n",
       "      <th>quantity</th>\n",
       "      <th>unit</th>\n",
       "      <th>unit_price</th>\n",
       "      <th>total_price</th>\n",
       "    </tr>\n",
       "  </thead>\n",
       "  <tbody>\n",
       "    <tr>\n",
       "      <th>0</th>\n",
       "      <td>P026</td>\n",
       "      <td>C004510</td>\n",
       "      <td>T049189</td>\n",
       "      <td>I00177</td>\n",
       "      <td>S00307</td>\n",
       "      <td>1</td>\n",
       "      <td>ct</td>\n",
       "      <td>35.0</td>\n",
       "      <td>35.0</td>\n",
       "    </tr>\n",
       "    <tr>\n",
       "      <th>1</th>\n",
       "      <td>P022</td>\n",
       "      <td>C008967</td>\n",
       "      <td>T041209</td>\n",
       "      <td>I00248</td>\n",
       "      <td>S00595</td>\n",
       "      <td>1</td>\n",
       "      <td>rolls</td>\n",
       "      <td>26.0</td>\n",
       "      <td>26.0</td>\n",
       "    </tr>\n",
       "    <tr>\n",
       "      <th>2</th>\n",
       "      <td>P030</td>\n",
       "      <td>C007261</td>\n",
       "      <td>T03633</td>\n",
       "      <td>I00195</td>\n",
       "      <td>S00496</td>\n",
       "      <td>8</td>\n",
       "      <td>ct</td>\n",
       "      <td>12.5</td>\n",
       "      <td>100.0</td>\n",
       "    </tr>\n",
       "    <tr>\n",
       "      <th>3</th>\n",
       "      <td>P032</td>\n",
       "      <td>C007048</td>\n",
       "      <td>T084631</td>\n",
       "      <td>I00131</td>\n",
       "      <td>S0086</td>\n",
       "      <td>8</td>\n",
       "      <td>ct</td>\n",
       "      <td>14.0</td>\n",
       "      <td>112.0</td>\n",
       "    </tr>\n",
       "    <tr>\n",
       "      <th>4</th>\n",
       "      <td>P014</td>\n",
       "      <td>C006430</td>\n",
       "      <td>T071276</td>\n",
       "      <td>I00050</td>\n",
       "      <td>S00488</td>\n",
       "      <td>8</td>\n",
       "      <td>cans</td>\n",
       "      <td>8.0</td>\n",
       "      <td>64.0</td>\n",
       "    </tr>\n",
       "  </tbody>\n",
       "</table>\n",
       "</div>"
      ],
      "text/plain": [
       "  payment_key coustomer_key time_key item_key store_key  quantity   unit  \\\n",
       "0        P026       C004510  T049189   I00177    S00307         1     ct   \n",
       "1        P022       C008967  T041209   I00248    S00595         1  rolls   \n",
       "2        P030       C007261   T03633   I00195    S00496         8     ct   \n",
       "3        P032       C007048  T084631   I00131     S0086         8     ct   \n",
       "4        P014       C006430  T071276   I00050    S00488         8   cans   \n",
       "\n",
       "   unit_price  total_price  \n",
       "0        35.0         35.0  \n",
       "1        26.0         26.0  \n",
       "2        12.5        100.0  \n",
       "3        14.0        112.0  \n",
       "4         8.0         64.0  "
      ]
     },
     "execution_count": 84,
     "metadata": {},
     "output_type": "execute_result"
    }
   ],
   "source": [
    "fact_df = pd.read_excel(r'C:/Users/Riyad/Desktop/ecomdata/e-commerece_data.xlsx', sheet_name='Fact_table', engine='openpyxl')\n",
    "fact_df.head()"
   ]
  },
  {
   "cell_type": "code",
   "execution_count": 107,
   "id": "1d70a5f7",
   "metadata": {},
   "outputs": [
    {
     "data": {
      "text/html": [
       "<div>\n",
       "<style scoped>\n",
       "    .dataframe tbody tr th:only-of-type {\n",
       "        vertical-align: middle;\n",
       "    }\n",
       "\n",
       "    .dataframe tbody tr th {\n",
       "        vertical-align: top;\n",
       "    }\n",
       "\n",
       "    .dataframe thead th {\n",
       "        text-align: right;\n",
       "    }\n",
       "</style>\n",
       "<table border=\"1\" class=\"dataframe\">\n",
       "  <thead>\n",
       "    <tr style=\"text-align: right;\">\n",
       "      <th></th>\n",
       "      <th>payment_key</th>\n",
       "      <th>coustomer_key</th>\n",
       "      <th>time_key</th>\n",
       "      <th>item_key</th>\n",
       "      <th>store_key</th>\n",
       "      <th>quantity</th>\n",
       "      <th>unit</th>\n",
       "      <th>unit_price</th>\n",
       "      <th>total_price</th>\n",
       "    </tr>\n",
       "  </thead>\n",
       "  <tbody>\n",
       "    <tr>\n",
       "      <th>0</th>\n",
       "      <td>P026</td>\n",
       "      <td>C004510</td>\n",
       "      <td>T049189</td>\n",
       "      <td>I00177</td>\n",
       "      <td>S00307</td>\n",
       "      <td>1</td>\n",
       "      <td>ct</td>\n",
       "      <td>35.0</td>\n",
       "      <td>35.0</td>\n",
       "    </tr>\n",
       "    <tr>\n",
       "      <th>1</th>\n",
       "      <td>P022</td>\n",
       "      <td>C008967</td>\n",
       "      <td>T041209</td>\n",
       "      <td>I00248</td>\n",
       "      <td>S00595</td>\n",
       "      <td>1</td>\n",
       "      <td>rolls</td>\n",
       "      <td>26.0</td>\n",
       "      <td>26.0</td>\n",
       "    </tr>\n",
       "    <tr>\n",
       "      <th>2</th>\n",
       "      <td>P030</td>\n",
       "      <td>C007261</td>\n",
       "      <td>T03633</td>\n",
       "      <td>I00195</td>\n",
       "      <td>S00496</td>\n",
       "      <td>8</td>\n",
       "      <td>ct</td>\n",
       "      <td>12.5</td>\n",
       "      <td>100.0</td>\n",
       "    </tr>\n",
       "    <tr>\n",
       "      <th>3</th>\n",
       "      <td>P032</td>\n",
       "      <td>C007048</td>\n",
       "      <td>T084631</td>\n",
       "      <td>I00131</td>\n",
       "      <td>S0086</td>\n",
       "      <td>8</td>\n",
       "      <td>ct</td>\n",
       "      <td>14.0</td>\n",
       "      <td>112.0</td>\n",
       "    </tr>\n",
       "    <tr>\n",
       "      <th>4</th>\n",
       "      <td>P014</td>\n",
       "      <td>C006430</td>\n",
       "      <td>T071276</td>\n",
       "      <td>I00050</td>\n",
       "      <td>S00488</td>\n",
       "      <td>8</td>\n",
       "      <td>cans</td>\n",
       "      <td>8.0</td>\n",
       "      <td>64.0</td>\n",
       "    </tr>\n",
       "  </tbody>\n",
       "</table>\n",
       "</div>"
      ],
      "text/plain": [
       "  payment_key coustomer_key time_key item_key store_key quantity   unit  \\\n",
       "0        P026       C004510  T049189   I00177    S00307        1     ct   \n",
       "1        P022       C008967  T041209   I00248    S00595        1  rolls   \n",
       "2        P030       C007261   T03633   I00195    S00496        8     ct   \n",
       "3        P032       C007048  T084631   I00131     S0086        8     ct   \n",
       "4        P014       C006430  T071276   I00050    S00488        8   cans   \n",
       "\n",
       "  unit_price  total_price  \n",
       "0       35.0         35.0  \n",
       "1       26.0         26.0  \n",
       "2       12.5        100.0  \n",
       "3       14.0        112.0  \n",
       "4        8.0         64.0  "
      ]
     },
     "execution_count": 107,
     "metadata": {},
     "output_type": "execute_result"
    }
   ],
   "source": [
    "fact_df1 = pd.read_csv(\"C:/Users/Riyad/Desktop/ecomdata/e-commerece_data.csv\")\n",
    "fact_df1.head()"
   ]
  },
  {
   "cell_type": "code",
   "execution_count": 108,
   "id": "9f8f57b8",
   "metadata": {},
   "outputs": [
    {
     "data": {
      "text/html": [
       "<div>\n",
       "<style scoped>\n",
       "    .dataframe tbody tr th:only-of-type {\n",
       "        vertical-align: middle;\n",
       "    }\n",
       "\n",
       "    .dataframe tbody tr th {\n",
       "        vertical-align: top;\n",
       "    }\n",
       "\n",
       "    .dataframe thead th {\n",
       "        text-align: right;\n",
       "    }\n",
       "</style>\n",
       "<table border=\"1\" class=\"dataframe\">\n",
       "  <thead>\n",
       "    <tr style=\"text-align: right;\">\n",
       "      <th></th>\n",
       "      <th>payment_key</th>\n",
       "      <th>coustomer_key</th>\n",
       "      <th>time_key</th>\n",
       "      <th>item_key</th>\n",
       "      <th>store_key</th>\n",
       "      <th>quantity</th>\n",
       "      <th>unit</th>\n",
       "      <th>unit_price</th>\n",
       "      <th>total_price</th>\n",
       "    </tr>\n",
       "  </thead>\n",
       "  <tbody>\n",
       "    <tr>\n",
       "      <th>0</th>\n",
       "      <td>P026</td>\n",
       "      <td>C004510</td>\n",
       "      <td>T049189</td>\n",
       "      <td>I00177</td>\n",
       "      <td>S00307</td>\n",
       "      <td>1</td>\n",
       "      <td>ct</td>\n",
       "      <td>35.0</td>\n",
       "      <td>35.0</td>\n",
       "    </tr>\n",
       "    <tr>\n",
       "      <th>976</th>\n",
       "      <td>P006</td>\n",
       "      <td>C005776</td>\n",
       "      <td>T061413</td>\n",
       "      <td>I00038</td>\n",
       "      <td>S00307</td>\n",
       "      <td>11</td>\n",
       "      <td>bottles</td>\n",
       "      <td>23.0</td>\n",
       "      <td>253.0</td>\n",
       "    </tr>\n",
       "    <tr>\n",
       "      <th>2544</th>\n",
       "      <td>P033</td>\n",
       "      <td>C008998</td>\n",
       "      <td>T013653</td>\n",
       "      <td>I00233</td>\n",
       "      <td>S00307</td>\n",
       "      <td>11</td>\n",
       "      <td>ct</td>\n",
       "      <td>12.0</td>\n",
       "      <td>132.0</td>\n",
       "    </tr>\n",
       "    <tr>\n",
       "      <th>2812</th>\n",
       "      <td>P019</td>\n",
       "      <td>C005310</td>\n",
       "      <td>T049849</td>\n",
       "      <td>I00232</td>\n",
       "      <td>S00307</td>\n",
       "      <td>9</td>\n",
       "      <td>ct</td>\n",
       "      <td>12.0</td>\n",
       "      <td>108.0</td>\n",
       "    </tr>\n",
       "    <tr>\n",
       "      <th>3690</th>\n",
       "      <td>P005</td>\n",
       "      <td>C003847</td>\n",
       "      <td>T010845</td>\n",
       "      <td>I00047</td>\n",
       "      <td>S00307</td>\n",
       "      <td>7</td>\n",
       "      <td>cans</td>\n",
       "      <td>8.0</td>\n",
       "      <td>56.0</td>\n",
       "    </tr>\n",
       "    <tr>\n",
       "      <th>...</th>\n",
       "      <td>...</td>\n",
       "      <td>...</td>\n",
       "      <td>...</td>\n",
       "      <td>...</td>\n",
       "      <td>...</td>\n",
       "      <td>...</td>\n",
       "      <td>...</td>\n",
       "      <td>...</td>\n",
       "      <td>...</td>\n",
       "    </tr>\n",
       "    <tr>\n",
       "      <th>997793</th>\n",
       "      <td>P020</td>\n",
       "      <td>C001564</td>\n",
       "      <td>T054695</td>\n",
       "      <td>I00095</td>\n",
       "      <td>S00307</td>\n",
       "      <td>2</td>\n",
       "      <td>botlltes</td>\n",
       "      <td>16</td>\n",
       "      <td>32.0</td>\n",
       "    </tr>\n",
       "    <tr>\n",
       "      <th>997983</th>\n",
       "      <td>P018</td>\n",
       "      <td>C007051</td>\n",
       "      <td>T043298</td>\n",
       "      <td>I00210</td>\n",
       "      <td>S00307</td>\n",
       "      <td>1</td>\n",
       "      <td>ct</td>\n",
       "      <td>15</td>\n",
       "      <td>15.0</td>\n",
       "    </tr>\n",
       "    <tr>\n",
       "      <th>999386</th>\n",
       "      <td>P025</td>\n",
       "      <td>C003798</td>\n",
       "      <td>T089015</td>\n",
       "      <td>I00114</td>\n",
       "      <td>S00307</td>\n",
       "      <td>8</td>\n",
       "      <td>ct</td>\n",
       "      <td>44</td>\n",
       "      <td>352.0</td>\n",
       "    </tr>\n",
       "    <tr>\n",
       "      <th>999430</th>\n",
       "      <td>P018</td>\n",
       "      <td>C003830</td>\n",
       "      <td>T031200</td>\n",
       "      <td>I00183</td>\n",
       "      <td>S00307</td>\n",
       "      <td>3</td>\n",
       "      <td>ct</td>\n",
       "      <td>35</td>\n",
       "      <td>105.0</td>\n",
       "    </tr>\n",
       "    <tr>\n",
       "      <th>999596</th>\n",
       "      <td>P036</td>\n",
       "      <td>C008580</td>\n",
       "      <td>T028691</td>\n",
       "      <td>I00056</td>\n",
       "      <td>S00307</td>\n",
       "      <td>10</td>\n",
       "      <td>bottles</td>\n",
       "      <td>24</td>\n",
       "      <td>240.0</td>\n",
       "    </tr>\n",
       "  </tbody>\n",
       "</table>\n",
       "<p>1381 rows × 9 columns</p>\n",
       "</div>"
      ],
      "text/plain": [
       "       payment_key coustomer_key time_key item_key store_key quantity  \\\n",
       "0             P026       C004510  T049189   I00177    S00307        1   \n",
       "976           P006       C005776  T061413   I00038    S00307       11   \n",
       "2544          P033       C008998  T013653   I00233    S00307       11   \n",
       "2812          P019       C005310  T049849   I00232    S00307        9   \n",
       "3690          P005       C003847  T010845   I00047    S00307        7   \n",
       "...            ...           ...      ...      ...       ...      ...   \n",
       "997793        P020       C001564  T054695   I00095    S00307        2   \n",
       "997983        P018       C007051  T043298   I00210    S00307        1   \n",
       "999386        P025       C003798  T089015   I00114    S00307        8   \n",
       "999430        P018       C003830  T031200   I00183    S00307        3   \n",
       "999596        P036       C008580  T028691   I00056    S00307       10   \n",
       "\n",
       "            unit unit_price  total_price  \n",
       "0             ct       35.0         35.0  \n",
       "976      bottles       23.0        253.0  \n",
       "2544          ct       12.0        132.0  \n",
       "2812          ct       12.0        108.0  \n",
       "3690        cans        8.0         56.0  \n",
       "...          ...        ...          ...  \n",
       "997793  botlltes         16         32.0  \n",
       "997983        ct         15         15.0  \n",
       "999386        ct         44        352.0  \n",
       "999430        ct         35        105.0  \n",
       "999596   bottles         24        240.0  \n",
       "\n",
       "[1381 rows x 9 columns]"
      ]
     },
     "execution_count": 108,
     "metadata": {},
     "output_type": "execute_result"
    }
   ],
   "source": [
    "fact_df1[fact_df1[\"store_key\"] == \"S00307\"]"
   ]
  },
  {
   "cell_type": "code",
   "execution_count": 109,
   "id": "c833565e",
   "metadata": {},
   "outputs": [
    {
     "name": "stdout",
     "output_type": "stream",
     "text": [
      "<class 'pandas.core.frame.DataFrame'>\n",
      "RangeIndex: 1110224 entries, 0 to 1110223\n",
      "Data columns (total 9 columns):\n",
      " #   Column         Non-Null Count    Dtype  \n",
      "---  ------         --------------    -----  \n",
      " 0   payment_key    1110224 non-null  object \n",
      " 1   coustomer_key  1110197 non-null  object \n",
      " 2   time_key       1110224 non-null  object \n",
      " 3   item_key       1110184 non-null  object \n",
      " 4   store_key      1100265 non-null  object \n",
      " 5   quantity       1100265 non-null  object \n",
      " 6   unit           1096541 non-null  object \n",
      " 7   unit_price     1100000 non-null  object \n",
      " 8   total_price    1000000 non-null  float64\n",
      "dtypes: float64(1), object(8)\n",
      "memory usage: 76.2+ MB\n"
     ]
    }
   ],
   "source": [
    "fact_df1.info()"
   ]
  },
  {
   "cell_type": "code",
   "execution_count": 110,
   "id": "7aa92161",
   "metadata": {},
   "outputs": [
    {
     "name": "stdout",
     "output_type": "stream",
     "text": [
      "<class 'pandas.core.frame.DataFrame'>\n",
      "Int64Index: 996277 entries, 0 to 999999\n",
      "Data columns (total 9 columns):\n",
      " #   Column         Non-Null Count   Dtype  \n",
      "---  ------         --------------   -----  \n",
      " 0   payment_key    996277 non-null  object \n",
      " 1   coustomer_key  996277 non-null  object \n",
      " 2   time_key       996277 non-null  object \n",
      " 3   item_key       996277 non-null  object \n",
      " 4   store_key      996277 non-null  object \n",
      " 5   quantity       996277 non-null  int64  \n",
      " 6   unit           996277 non-null  object \n",
      " 7   unit_price     996277 non-null  float64\n",
      " 8   total_price    996277 non-null  float64\n",
      "dtypes: float64(2), int64(1), object(6)\n",
      "memory usage: 76.0+ MB\n"
     ]
    }
   ],
   "source": [
    "fact_df.dropna(inplace = True)\n",
    "fact_df.info()"
   ]
  },
  {
   "cell_type": "markdown",
   "id": "e5941dde",
   "metadata": {},
   "source": [
    "# Transform"
   ]
  },
  {
   "cell_type": "code",
   "execution_count": null,
   "id": "38f657ec",
   "metadata": {},
   "outputs": [],
   "source": []
  },
  {
   "cell_type": "markdown",
   "id": "a7613291",
   "metadata": {},
   "source": [
    "# Load"
   ]
  },
  {
   "cell_type": "markdown",
   "id": "c6308f43",
   "metadata": {},
   "source": [
    "### Customer Data Load to postgre"
   ]
  },
  {
   "cell_type": "code",
   "execution_count": 104,
   "id": "d9fb9a8c",
   "metadata": {},
   "outputs": [],
   "source": [
    "#Customer table \n",
    "query_customer = \"INSERT INTO public.customer_dim(cutomer_key,name,contact_no,nid)\"\\\n",
    "                    \"VALUES (%s,%s,%s,%s)\"\n",
    "cur = con.cursor()\n",
    "psycopg2.extras.execute_batch(cur,query_customer, customer_df1.values)\n",
    "con.commit()\n",
    "cur.close()"
   ]
  },
  {
   "cell_type": "markdown",
   "id": "af66c0eb",
   "metadata": {},
   "source": [
    "### Transaction data load to postgre\n"
   ]
  },
  {
   "cell_type": "code",
   "execution_count": 51,
   "id": "a2a6cd6f",
   "metadata": {},
   "outputs": [],
   "source": [
    "query_transaction = \"INSERT INTO public.trans_dim ( payment_key, trans_type, bank_name)\" \\\n",
    "            \" VALUES (%s, %s, %s)\"\n",
    "cur = con.cursor()\n",
    "psycopg2.extras.execute_batch(cur, query_transaction, trans_df.values)\n",
    "con.commit()\n",
    "cur.close()"
   ]
  },
  {
   "cell_type": "markdown",
   "id": "6c026daa",
   "metadata": {},
   "source": [
    "### Item Data to postgre"
   ]
  },
  {
   "cell_type": "code",
   "execution_count": 124,
   "id": "1fc11c4d",
   "metadata": {},
   "outputs": [],
   "source": [
    "query_item = \"INSERT INTO public.item_dim (item_key, item_name, descri, unit_price, man_country, supplier, unit)\"\\\n",
    "              \"VALUES (%s, %s, %s, %s, %s, %s, %s)\"\n",
    "cur = con.cursor()\n",
    "psycopg2.extras.execute_batch(cur, query_item, item_df.values)\n",
    "con.commit()\n",
    "cur.close()"
   ]
  },
  {
   "cell_type": "markdown",
   "id": "0f0e9af6",
   "metadata": {},
   "source": [
    "### Store Data Load to Postgre"
   ]
  },
  {
   "cell_type": "code",
   "execution_count": 21,
   "id": "223416c3",
   "metadata": {},
   "outputs": [],
   "source": [
    "query_store = \"INSERT INTO public.store_dim (store_key, division, district, upazila)\"\\\n",
    "             \"VALUES (%s, %s, %s, %s)\"\n",
    "cur = con.cursor()\n",
    "psycopg2.extras.execute_batch(cur, query_store, store_df.values)\n",
    "con.commit()\n",
    "cur.close()"
   ]
  },
  {
   "cell_type": "markdown",
   "id": "723d1b5c",
   "metadata": {},
   "source": [
    "### Time Dim data to Postgre"
   ]
  },
  {
   "cell_type": "code",
   "execution_count": 30,
   "id": "5eaed7f2",
   "metadata": {},
   "outputs": [],
   "source": [
    "query_time = \"INSERT INTO public.time_dim (time_key, date, hour, day, week, month, quarter, year)\"\\\n",
    "             \"VALUES (%s, %s, %s, %s, %s, %s, %s, %s)\"\n",
    "cur = con.cursor()\n",
    "psycopg2.extras.execute_batch(cur, query_time, time_df.values)\n",
    "con.commit()\n",
    "cur.close()"
   ]
  },
  {
   "cell_type": "markdown",
   "id": "c708f5e7",
   "metadata": {},
   "source": [
    "### Fact Table to postgre"
   ]
  },
  {
   "cell_type": "code",
   "execution_count": 113,
   "id": "c1ae455e",
   "metadata": {},
   "outputs": [],
   "source": [
    "query_fact = \"INSERT INTO public.fact_table(payment_key, cutomer_key, time_key, item_key, store_key, quantity,unit, unit_price, total_price)\"\\\n",
    "               \"VALUES(%s, %s, %s, %s,%s, %s, %s, %s, %s)\"\n",
    "cur  = con.cursor()\n",
    "psycopg2.extras.execute_batch(cur, query_fact, fact_df.values)\n",
    "con.commit()\n",
    "cur.close()"
   ]
  },
  {
   "cell_type": "code",
   "execution_count": null,
   "id": "4e7deea9",
   "metadata": {},
   "outputs": [],
   "source": [
    "insert_stmt = \"INSERT INTO star_schema.fact_table(payment_key, customer_key, time_key, item_key, store_key, quantity, unit, unit_price, total_price)VALUE"
   ]
  }
 ],
 "metadata": {
  "kernelspec": {
   "display_name": "Python 3 (ipykernel)",
   "language": "python",
   "name": "python3"
  },
  "language_info": {
   "codemirror_mode": {
    "name": "ipython",
    "version": 3
   },
   "file_extension": ".py",
   "mimetype": "text/x-python",
   "name": "python",
   "nbconvert_exporter": "python",
   "pygments_lexer": "ipython3",
   "version": "3.10.2"
  }
 },
 "nbformat": 4,
 "nbformat_minor": 5
}
