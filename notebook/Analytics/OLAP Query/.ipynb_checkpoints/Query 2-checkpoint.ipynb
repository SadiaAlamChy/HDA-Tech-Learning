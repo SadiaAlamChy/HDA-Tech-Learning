{
 "cells": [
  {
   "cell_type": "code",
   "execution_count": 1,
   "id": "8487f1b4",
   "metadata": {},
   "outputs": [],
   "source": [
    "import psycopg2\n",
    "import pandas as pd\n",
    "import psycopg2.extras\n",
    "import matplotlib.pyplot as plt"
   ]
  },
  {
   "cell_type": "markdown",
   "id": "3f5796c2",
   "metadata": {},
   "source": [
    "***Connect to the database***"
   ]
  },
  {
   "cell_type": "code",
   "execution_count": 3,
   "id": "16d2500f",
   "metadata": {},
   "outputs": [],
   "source": [
    "class PostgresConnection(object):\n",
    "    def __init__(self):\n",
    "        self.connection = psycopg2.connect(database=\"ecomdb\",\n",
    "                                           user = \"postgres\",\n",
    "                                           password = \"Nabila12345@\",\n",
    "                                           host = \"127.0.0.1\",\n",
    "                                           port = \"5432\")\n",
    "\n",
    "    def getConnection(self):\n",
    "        print(\"successfully connected to database\"),\n",
    "        return self.connection"
   ]
  },
  {
   "cell_type": "markdown",
   "id": "d02b49a5",
   "metadata": {},
   "source": [
    "### Q2: Find the customer/bank/transaction(cash/online) wise total_sale_price joining fact table and respective dimension table "
   ]
  },
  {
   "cell_type": "markdown",
   "id": "e000fa7b",
   "metadata": {},
   "source": [
    "### Division Wise Trans_type"
   ]
  },
  {
   "cell_type": "code",
   "execution_count": 9,
   "id": "6c98a16b",
   "metadata": {},
   "outputs": [
    {
     "name": "stdout",
     "output_type": "stream",
     "text": [
      "successfully connected to database\n"
     ]
    },
    {
     "data": {
      "text/plain": [
       "[('BARISAL', 'card', Decimal('6750526.00')),\n",
       " ('BARISAL', 'cash', Decimal('187811.00')),\n",
       " ('BARISAL', 'mobile', Decimal('582006.75')),\n",
       " ('CHITTAGONG', 'card', Decimal('17748349.50')),\n",
       " ('CHITTAGONG', 'cash', Decimal('495449.00')),\n",
       " ('CHITTAGONG', 'mobile', Decimal('1519796.50')),\n",
       " ('DHAKA', 'card', Decimal('36555610.75')),\n",
       " ('DHAKA', 'cash', Decimal('1045911.75')),\n",
       " ('DHAKA', 'mobile', Decimal('3163097.25')),\n",
       " ('KHULNA', 'card', Decimal('10132554.00')),\n",
       " ('KHULNA', 'cash', Decimal('302784.00')),\n",
       " ('KHULNA', 'mobile', Decimal('876272.50')),\n",
       " ('RAJSHAHI', 'card', Decimal('10882948.50')),\n",
       " ('RAJSHAHI', 'cash', Decimal('308880.75')),\n",
       " ('RAJSHAHI', 'mobile', Decimal('907366.75')),\n",
       " ('RANGPUR', 'card', Decimal('7560570.75')),\n",
       " ('RANGPUR', 'cash', Decimal('224366.50')),\n",
       " ('RANGPUR', 'mobile', Decimal('644899.25')),\n",
       " ('SYLHET', 'card', Decimal('4952479.00')),\n",
       " ('SYLHET', 'cash', Decimal('143312.75')),\n",
       " ('SYLHET', 'mobile', Decimal('416442.50'))]"
      ]
     },
     "execution_count": 9,
     "metadata": {},
     "output_type": "execute_result"
    }
   ],
   "source": [
    "con = PostgresConnection().getConnection()\n",
    "cur = con.cursor()\n",
    "select_stmt = \" SELECT s.division, tr.trans_type, SUM(f.total_price) \" \\\n",
    "              \" From ecomdb_star_schema.fact_table f \" \\\n",
    "              \" JOIN ecomdb_star_schema.store_dim s on s.store_key=f.store_key \" \\\n",
    "              \" JOIN ecomdb_star_schema.trans_dim tr on tr.payment_key=f.payment_key \"\\\n",
    "              \" GROUP BY (s.division,tr.trans_type) \"\\\n",
    "              \" ORDER BY s.division\"\n",
    "cur.execute(select_stmt)\n",
    "records = cur.fetchall()\n",
    "records"
   ]
  },
  {
   "cell_type": "code",
   "execution_count": 10,
   "id": "8eba8529",
   "metadata": {},
   "outputs": [
    {
     "data": {
      "text/html": [
       "<div>\n",
       "<style scoped>\n",
       "    .dataframe tbody tr th:only-of-type {\n",
       "        vertical-align: middle;\n",
       "    }\n",
       "\n",
       "    .dataframe tbody tr th {\n",
       "        vertical-align: top;\n",
       "    }\n",
       "\n",
       "    .dataframe thead th {\n",
       "        text-align: right;\n",
       "    }\n",
       "</style>\n",
       "<table border=\"1\" class=\"dataframe\">\n",
       "  <thead>\n",
       "    <tr style=\"text-align: right;\">\n",
       "      <th></th>\n",
       "      <th>Division</th>\n",
       "      <th>Trans_Type</th>\n",
       "      <th>Total_Sales</th>\n",
       "    </tr>\n",
       "  </thead>\n",
       "  <tbody>\n",
       "    <tr>\n",
       "      <th>0</th>\n",
       "      <td>BARISAL</td>\n",
       "      <td>card</td>\n",
       "      <td>6750526.00</td>\n",
       "    </tr>\n",
       "    <tr>\n",
       "      <th>1</th>\n",
       "      <td>BARISAL</td>\n",
       "      <td>cash</td>\n",
       "      <td>187811.00</td>\n",
       "    </tr>\n",
       "    <tr>\n",
       "      <th>2</th>\n",
       "      <td>BARISAL</td>\n",
       "      <td>mobile</td>\n",
       "      <td>582006.75</td>\n",
       "    </tr>\n",
       "    <tr>\n",
       "      <th>3</th>\n",
       "      <td>CHITTAGONG</td>\n",
       "      <td>card</td>\n",
       "      <td>17748349.50</td>\n",
       "    </tr>\n",
       "    <tr>\n",
       "      <th>4</th>\n",
       "      <td>CHITTAGONG</td>\n",
       "      <td>cash</td>\n",
       "      <td>495449.00</td>\n",
       "    </tr>\n",
       "    <tr>\n",
       "      <th>5</th>\n",
       "      <td>CHITTAGONG</td>\n",
       "      <td>mobile</td>\n",
       "      <td>1519796.50</td>\n",
       "    </tr>\n",
       "    <tr>\n",
       "      <th>6</th>\n",
       "      <td>DHAKA</td>\n",
       "      <td>card</td>\n",
       "      <td>36555610.75</td>\n",
       "    </tr>\n",
       "    <tr>\n",
       "      <th>7</th>\n",
       "      <td>DHAKA</td>\n",
       "      <td>cash</td>\n",
       "      <td>1045911.75</td>\n",
       "    </tr>\n",
       "    <tr>\n",
       "      <th>8</th>\n",
       "      <td>DHAKA</td>\n",
       "      <td>mobile</td>\n",
       "      <td>3163097.25</td>\n",
       "    </tr>\n",
       "    <tr>\n",
       "      <th>9</th>\n",
       "      <td>KHULNA</td>\n",
       "      <td>card</td>\n",
       "      <td>10132554.00</td>\n",
       "    </tr>\n",
       "    <tr>\n",
       "      <th>10</th>\n",
       "      <td>KHULNA</td>\n",
       "      <td>cash</td>\n",
       "      <td>302784.00</td>\n",
       "    </tr>\n",
       "    <tr>\n",
       "      <th>11</th>\n",
       "      <td>KHULNA</td>\n",
       "      <td>mobile</td>\n",
       "      <td>876272.50</td>\n",
       "    </tr>\n",
       "    <tr>\n",
       "      <th>12</th>\n",
       "      <td>RAJSHAHI</td>\n",
       "      <td>card</td>\n",
       "      <td>10882948.50</td>\n",
       "    </tr>\n",
       "    <tr>\n",
       "      <th>13</th>\n",
       "      <td>RAJSHAHI</td>\n",
       "      <td>cash</td>\n",
       "      <td>308880.75</td>\n",
       "    </tr>\n",
       "    <tr>\n",
       "      <th>14</th>\n",
       "      <td>RAJSHAHI</td>\n",
       "      <td>mobile</td>\n",
       "      <td>907366.75</td>\n",
       "    </tr>\n",
       "    <tr>\n",
       "      <th>15</th>\n",
       "      <td>RANGPUR</td>\n",
       "      <td>card</td>\n",
       "      <td>7560570.75</td>\n",
       "    </tr>\n",
       "    <tr>\n",
       "      <th>16</th>\n",
       "      <td>RANGPUR</td>\n",
       "      <td>cash</td>\n",
       "      <td>224366.50</td>\n",
       "    </tr>\n",
       "    <tr>\n",
       "      <th>17</th>\n",
       "      <td>RANGPUR</td>\n",
       "      <td>mobile</td>\n",
       "      <td>644899.25</td>\n",
       "    </tr>\n",
       "    <tr>\n",
       "      <th>18</th>\n",
       "      <td>SYLHET</td>\n",
       "      <td>card</td>\n",
       "      <td>4952479.00</td>\n",
       "    </tr>\n",
       "    <tr>\n",
       "      <th>19</th>\n",
       "      <td>SYLHET</td>\n",
       "      <td>cash</td>\n",
       "      <td>143312.75</td>\n",
       "    </tr>\n",
       "    <tr>\n",
       "      <th>20</th>\n",
       "      <td>SYLHET</td>\n",
       "      <td>mobile</td>\n",
       "      <td>416442.50</td>\n",
       "    </tr>\n",
       "  </tbody>\n",
       "</table>\n",
       "</div>"
      ],
      "text/plain": [
       "      Division Trans_Type  Total_Sales\n",
       "0      BARISAL       card   6750526.00\n",
       "1      BARISAL       cash    187811.00\n",
       "2      BARISAL     mobile    582006.75\n",
       "3   CHITTAGONG       card  17748349.50\n",
       "4   CHITTAGONG       cash    495449.00\n",
       "5   CHITTAGONG     mobile   1519796.50\n",
       "6        DHAKA       card  36555610.75\n",
       "7        DHAKA       cash   1045911.75\n",
       "8        DHAKA     mobile   3163097.25\n",
       "9       KHULNA       card  10132554.00\n",
       "10      KHULNA       cash    302784.00\n",
       "11      KHULNA     mobile    876272.50\n",
       "12    RAJSHAHI       card  10882948.50\n",
       "13    RAJSHAHI       cash    308880.75\n",
       "14    RAJSHAHI     mobile    907366.75\n",
       "15     RANGPUR       card   7560570.75\n",
       "16     RANGPUR       cash    224366.50\n",
       "17     RANGPUR     mobile    644899.25\n",
       "18      SYLHET       card   4952479.00\n",
       "19      SYLHET       cash    143312.75\n",
       "20      SYLHET     mobile    416442.50"
      ]
     },
     "execution_count": 10,
     "metadata": {},
     "output_type": "execute_result"
    }
   ],
   "source": [
    "df1 = pd.DataFrame(list(records), columns=['Division','Trans_Type', 'Total_Sales'])\n",
    "df1"
   ]
  },
  {
   "cell_type": "code",
   "execution_count": 11,
   "id": "d5071680",
   "metadata": {},
   "outputs": [
    {
     "name": "stdout",
     "output_type": "stream",
     "text": [
      "successfully connected to database\n"
     ]
    },
    {
     "data": {
      "text/plain": [
       "[('BARISAL', 'card', Decimal('6750526.00')),\n",
       " ('CHITTAGONG', 'card', Decimal('17748349.50')),\n",
       " ('DHAKA', 'card', Decimal('36555610.75')),\n",
       " ('KHULNA', 'card', Decimal('10132554.00')),\n",
       " ('RAJSHAHI', 'card', Decimal('10882948.50')),\n",
       " ('RANGPUR', 'card', Decimal('7560570.75')),\n",
       " ('SYLHET', 'card', Decimal('4952479.00'))]"
      ]
     },
     "execution_count": 11,
     "metadata": {},
     "output_type": "execute_result"
    }
   ],
   "source": [
    "con = PostgresConnection().getConnection()\n",
    "cur = con.cursor()\n",
    "select_stmt = \" SELECT s.division, tr.trans_type, SUM(f.total_price) \" \\\n",
    "              \" From ecomdb_star_schema.fact_table f \" \\\n",
    "              \" JOIN ecomdb_star_schema.store_dim s on s.store_key=f.store_key \" \\\n",
    "              \" JOIN ecomdb_star_schema.trans_dim tr on tr.payment_key=f.payment_key \"\\\n",
    "              \" Where tr.trans_type ='card' \" \\\n",
    "              \" GROUP BY (s.division,tr.trans_type) \"\\\n",
    "              \" ORDER BY s.division\"\n",
    "cur.execute(select_stmt)\n",
    "records = cur.fetchall()\n",
    "records"
   ]
  },
  {
   "cell_type": "code",
   "execution_count": 12,
   "id": "a9b675ea",
   "metadata": {},
   "outputs": [
    {
     "data": {
      "text/html": [
       "<div>\n",
       "<style scoped>\n",
       "    .dataframe tbody tr th:only-of-type {\n",
       "        vertical-align: middle;\n",
       "    }\n",
       "\n",
       "    .dataframe tbody tr th {\n",
       "        vertical-align: top;\n",
       "    }\n",
       "\n",
       "    .dataframe thead th {\n",
       "        text-align: right;\n",
       "    }\n",
       "</style>\n",
       "<table border=\"1\" class=\"dataframe\">\n",
       "  <thead>\n",
       "    <tr style=\"text-align: right;\">\n",
       "      <th></th>\n",
       "      <th>Division</th>\n",
       "      <th>Trans_Type</th>\n",
       "      <th>Total_Sales</th>\n",
       "    </tr>\n",
       "  </thead>\n",
       "  <tbody>\n",
       "    <tr>\n",
       "      <th>0</th>\n",
       "      <td>BARISAL</td>\n",
       "      <td>card</td>\n",
       "      <td>6750526.00</td>\n",
       "    </tr>\n",
       "    <tr>\n",
       "      <th>1</th>\n",
       "      <td>CHITTAGONG</td>\n",
       "      <td>card</td>\n",
       "      <td>17748349.50</td>\n",
       "    </tr>\n",
       "    <tr>\n",
       "      <th>2</th>\n",
       "      <td>DHAKA</td>\n",
       "      <td>card</td>\n",
       "      <td>36555610.75</td>\n",
       "    </tr>\n",
       "    <tr>\n",
       "      <th>3</th>\n",
       "      <td>KHULNA</td>\n",
       "      <td>card</td>\n",
       "      <td>10132554.00</td>\n",
       "    </tr>\n",
       "    <tr>\n",
       "      <th>4</th>\n",
       "      <td>RAJSHAHI</td>\n",
       "      <td>card</td>\n",
       "      <td>10882948.50</td>\n",
       "    </tr>\n",
       "    <tr>\n",
       "      <th>5</th>\n",
       "      <td>RANGPUR</td>\n",
       "      <td>card</td>\n",
       "      <td>7560570.75</td>\n",
       "    </tr>\n",
       "    <tr>\n",
       "      <th>6</th>\n",
       "      <td>SYLHET</td>\n",
       "      <td>card</td>\n",
       "      <td>4952479.00</td>\n",
       "    </tr>\n",
       "  </tbody>\n",
       "</table>\n",
       "</div>"
      ],
      "text/plain": [
       "     Division Trans_Type  Total_Sales\n",
       "0     BARISAL       card   6750526.00\n",
       "1  CHITTAGONG       card  17748349.50\n",
       "2       DHAKA       card  36555610.75\n",
       "3      KHULNA       card  10132554.00\n",
       "4    RAJSHAHI       card  10882948.50\n",
       "5     RANGPUR       card   7560570.75\n",
       "6      SYLHET       card   4952479.00"
      ]
     },
     "execution_count": 12,
     "metadata": {},
     "output_type": "execute_result"
    }
   ],
   "source": [
    "df_card = pd.DataFrame(list(records), columns=['Division','Trans_Type', 'Total_Sales'])\n",
    "df_card"
   ]
  },
  {
   "cell_type": "code",
   "execution_count": 14,
   "id": "49a1efce",
   "metadata": {},
   "outputs": [],
   "source": [
    "df_card ['Total_Sales'] = pd.to_numeric(df_card ['Total_Sales'],errors='coerce')"
   ]
  },
  {
   "cell_type": "code",
   "execution_count": 17,
   "id": "333a2546",
   "metadata": {},
   "outputs": [
    {
     "data": {
      "image/png": "[encoded data removed]",
      "text/plain": [
       "<Figure size 432x288 with 1 Axes>"
      ]
     },
     "metadata": {},
     "output_type": "display_data"
    }
   ],
   "source": [
    "labels=df_card ['Division']\n",
    "data = df_card ['Total_Sales']\n",
    "textprops = {\"fontsize\":10}\n",
    "plt.title('Division wise total Sales using Card',loc='center',color='b')\n",
    "plt.pie(data, labels=labels, shadow = True, textprops = textprops , autopct='%.2f%%',explode=(0.1, 0.1,0.1, 0.1, 0.1, 0.1,0.1))\n",
    "plt.rcParams[\"figure.figsize\"] = (12,7)\n",
    "plt.show()"
   ]
  },
  {
   "cell_type": "code",
   "execution_count": 18,
   "id": "4d59f2b9",
   "metadata": {},
   "outputs": [
    {
     "data": {
      "image/png": "[encoded data removed]",
      "text/plain": [
       "<Figure size 1080x720 with 1 Axes>"
      ]
     },
     "metadata": {
      "needs_background": "light"
     },
     "output_type": "display_data"
    }
   ],
   "source": [
    "fig = df_card.plot.bar(x='Division', y='Total_Sales', figsize=(15,10), rot=0)"
   ]
  },
  {
   "cell_type": "code",
   "execution_count": 19,
   "id": "5eebcea5",
   "metadata": {},
   "outputs": [
    {
     "name": "stdout",
     "output_type": "stream",
     "text": [
      "successfully connected to database\n"
     ]
    },
    {
     "data": {
      "text/plain": [
       "[('BARISAL', 'cash', Decimal('187811.00')),\n",
       " ('CHITTAGONG', 'cash', Decimal('495449.00')),\n",
       " ('DHAKA', 'cash', Decimal('1045911.75')),\n",
       " ('KHULNA', 'cash', Decimal('302784.00')),\n",
       " ('RAJSHAHI', 'cash', Decimal('308880.75')),\n",
       " ('RANGPUR', 'cash', Decimal('224366.50')),\n",
       " ('SYLHET', 'cash', Decimal('143312.75'))]"
      ]
     },
     "execution_count": 19,
     "metadata": {},
     "output_type": "execute_result"
    }
   ],
   "source": [
    "con = PostgresConnection().getConnection()\n",
    "cur = con.cursor()\n",
    "select_stmt = \" SELECT s.division, tr.trans_type, SUM(f.total_price) \" \\\n",
    "              \" From ecomdb_star_schema.fact_table f \" \\\n",
    "              \" JOIN ecomdb_star_schema.store_dim s on s.store_key=f.store_key \" \\\n",
    "              \" JOIN ecomdb_star_schema.trans_dim tr on tr.payment_key=f.payment_key \"\\\n",
    "              \" Where tr.trans_type ='cash' \" \\\n",
    "              \" GROUP BY (s.division,tr.trans_type) \"\\\n",
    "              \" ORDER BY s.division\"\n",
    "cur.execute(select_stmt)\n",
    "records = cur.fetchall()\n",
    "records"
   ]
  },
  {
   "cell_type": "code",
   "execution_count": 20,
   "id": "f5f888a2",
   "metadata": {},
   "outputs": [
    {
     "data": {
      "text/html": [
       "<div>\n",
       "<style scoped>\n",
       "    .dataframe tbody tr th:only-of-type {\n",
       "        vertical-align: middle;\n",
       "    }\n",
       "\n",
       "    .dataframe tbody tr th {\n",
       "        vertical-align: top;\n",
       "    }\n",
       "\n",
       "    .dataframe thead th {\n",
       "        text-align: right;\n",
       "    }\n",
       "</style>\n",
       "<table border=\"1\" class=\"dataframe\">\n",
       "  <thead>\n",
       "    <tr style=\"text-align: right;\">\n",
       "      <th></th>\n",
       "      <th>Division</th>\n",
       "      <th>Trans_Type</th>\n",
       "      <th>Total_Sales</th>\n",
       "    </tr>\n",
       "  </thead>\n",
       "  <tbody>\n",
       "    <tr>\n",
       "      <th>0</th>\n",
       "      <td>BARISAL</td>\n",
       "      <td>cash</td>\n",
       "      <td>187811.00</td>\n",
       "    </tr>\n",
       "    <tr>\n",
       "      <th>1</th>\n",
       "      <td>CHITTAGONG</td>\n",
       "      <td>cash</td>\n",
       "      <td>495449.00</td>\n",
       "    </tr>\n",
       "    <tr>\n",
       "      <th>2</th>\n",
       "      <td>DHAKA</td>\n",
       "      <td>cash</td>\n",
       "      <td>1045911.75</td>\n",
       "    </tr>\n",
       "    <tr>\n",
       "      <th>3</th>\n",
       "      <td>KHULNA</td>\n",
       "      <td>cash</td>\n",
       "      <td>302784.00</td>\n",
       "    </tr>\n",
       "    <tr>\n",
       "      <th>4</th>\n",
       "      <td>RAJSHAHI</td>\n",
       "      <td>cash</td>\n",
       "      <td>308880.75</td>\n",
       "    </tr>\n",
       "    <tr>\n",
       "      <th>5</th>\n",
       "      <td>RANGPUR</td>\n",
       "      <td>cash</td>\n",
       "      <td>224366.50</td>\n",
       "    </tr>\n",
       "    <tr>\n",
       "      <th>6</th>\n",
       "      <td>SYLHET</td>\n",
       "      <td>cash</td>\n",
       "      <td>143312.75</td>\n",
       "    </tr>\n",
       "  </tbody>\n",
       "</table>\n",
       "</div>"
      ],
      "text/plain": [
       "     Division Trans_Type Total_Sales\n",
       "0     BARISAL       cash   187811.00\n",
       "1  CHITTAGONG       cash   495449.00\n",
       "2       DHAKA       cash  1045911.75\n",
       "3      KHULNA       cash   302784.00\n",
       "4    RAJSHAHI       cash   308880.75\n",
       "5     RANGPUR       cash   224366.50\n",
       "6      SYLHET       cash   143312.75"
      ]
     },
     "execution_count": 20,
     "metadata": {},
     "output_type": "execute_result"
    }
   ],
   "source": [
    "df_cash = pd.DataFrame(list(records), columns=['Division','Trans_Type', 'Total_Sales'])\n",
    "df_cash"
   ]
  },
  {
   "cell_type": "code",
   "execution_count": 22,
   "id": "4a7783df",
   "metadata": {},
   "outputs": [],
   "source": [
    "df_cash ['Total_Sales'] = pd.to_numeric(df_cash ['Total_Sales'],errors='coerce')"
   ]
  },
  {
   "cell_type": "code",
   "execution_count": 23,
   "id": "f1a99e9a",
   "metadata": {},
   "outputs": [
    {
     "data": {
      "image/png": "[encoded data removed]",
      "text/plain": [
       "<Figure size 1080x720 with 1 Axes>"
      ]
     },
     "metadata": {
      "needs_background": "light"
     },
     "output_type": "display_data"
    }
   ],
   "source": [
    "fig = df_cash.plot.bar(x='Division', y='Total_Sales', figsize=(15,10), rot=0)"
   ]
  },
  {
   "cell_type": "code",
   "execution_count": 24,
   "id": "3e258dd2",
   "metadata": {},
   "outputs": [
    {
     "name": "stdout",
     "output_type": "stream",
     "text": [
      "successfully connected to database\n"
     ]
    },
    {
     "data": {
      "text/plain": [
       "[('RAJSHAHI', 'card', Decimal('10882948.50')),\n",
       " ('RAJSHAHI', 'cash', Decimal('308880.75')),\n",
       " ('RAJSHAHI', 'mobile', Decimal('907366.75'))]"
      ]
     },
     "execution_count": 24,
     "metadata": {},
     "output_type": "execute_result"
    }
   ],
   "source": [
    "con = PostgresConnection().getConnection()\n",
    "cur = con.cursor()\n",
    "select_stmt = \" SELECT s.division, tr.trans_type, SUM(f.total_price) \" \\\n",
    "              \" From ecomdb_star_schema.fact_table f \" \\\n",
    "              \" JOIN ecomdb_star_schema.store_dim s on s.store_key=f.store_key \" \\\n",
    "              \" JOIN ecomdb_star_schema.trans_dim tr on tr.payment_key=f.payment_key \"\\\n",
    "              \" Where s.division ='RAJSHAHI' \" \\\n",
    "              \" GROUP BY (s.division,tr.trans_type) \"\\\n",
    "              \" ORDER BY s.division\"\n",
    "cur.execute(select_stmt)\n",
    "records = cur.fetchall()\n",
    "records"
   ]
  },
  {
   "cell_type": "code",
   "execution_count": 25,
   "id": "9fda3eac",
   "metadata": {},
   "outputs": [
    {
     "data": {
      "text/html": [
       "<div>\n",
       "<style scoped>\n",
       "    .dataframe tbody tr th:only-of-type {\n",
       "        vertical-align: middle;\n",
       "    }\n",
       "\n",
       "    .dataframe tbody tr th {\n",
       "        vertical-align: top;\n",
       "    }\n",
       "\n",
       "    .dataframe thead th {\n",
       "        text-align: right;\n",
       "    }\n",
       "</style>\n",
       "<table border=\"1\" class=\"dataframe\">\n",
       "  <thead>\n",
       "    <tr style=\"text-align: right;\">\n",
       "      <th></th>\n",
       "      <th>Division</th>\n",
       "      <th>Trans_Type</th>\n",
       "      <th>Total_Sales</th>\n",
       "    </tr>\n",
       "  </thead>\n",
       "  <tbody>\n",
       "    <tr>\n",
       "      <th>0</th>\n",
       "      <td>RAJSHAHI</td>\n",
       "      <td>card</td>\n",
       "      <td>10882948.50</td>\n",
       "    </tr>\n",
       "    <tr>\n",
       "      <th>1</th>\n",
       "      <td>RAJSHAHI</td>\n",
       "      <td>cash</td>\n",
       "      <td>308880.75</td>\n",
       "    </tr>\n",
       "    <tr>\n",
       "      <th>2</th>\n",
       "      <td>RAJSHAHI</td>\n",
       "      <td>mobile</td>\n",
       "      <td>907366.75</td>\n",
       "    </tr>\n",
       "  </tbody>\n",
       "</table>\n",
       "</div>"
      ],
      "text/plain": [
       "   Division Trans_Type  Total_Sales\n",
       "0  RAJSHAHI       card  10882948.50\n",
       "1  RAJSHAHI       cash    308880.75\n",
       "2  RAJSHAHI     mobile    907366.75"
      ]
     },
     "execution_count": 25,
     "metadata": {},
     "output_type": "execute_result"
    }
   ],
   "source": [
    "df_div = pd.DataFrame(list(records), columns=['Division','Trans_Type', 'Total_Sales'])\n",
    "df_div"
   ]
  },
  {
   "cell_type": "code",
   "execution_count": 26,
   "id": "0edf2c81",
   "metadata": {},
   "outputs": [],
   "source": [
    "df_div ['Total_Sales'] = pd.to_numeric(df_card ['Total_Sales'],errors='coerce')"
   ]
  },
  {
   "cell_type": "code",
   "execution_count": 29,
   "id": "09e74330",
   "metadata": {},
   "outputs": [
    {
     "data": {
      "image/png": "[encoded data removed]",
      "text/plain": [
       "<Figure size 864x504 with 1 Axes>"
      ]
     },
     "metadata": {},
     "output_type": "display_data"
    }
   ],
   "source": [
    "labels=df_div['Trans_Type']\n",
    "data = df_div['Total_Sales']\n",
    "textprops = {\"fontsize\":10}\n",
    "plt.title('Transaction Type in Rajshahi',loc='center',color='b')\n",
    "plt.pie(data, labels=labels, shadow = True, textprops = textprops , autopct='%.2f%%',explode=(0.1, 0.1,0.1))\n",
    "plt.rcParams[\"figure.figsize\"] = (12,7)\n",
    "plt.show()"
   ]
  },
  {
   "cell_type": "code",
   "execution_count": 31,
   "id": "90489195",
   "metadata": {},
   "outputs": [
    {
     "data": {
      "image/png": "[encoded data removed]",
      "text/plain": [
       "<Figure size 360x360 with 1 Axes>"
      ]
     },
     "metadata": {
      "needs_background": "light"
     },
     "output_type": "display_data"
    }
   ],
   "source": [
    "fig = df_div.plot.bar(x='Trans_Type', y='Total_Sales', figsize=(5,5), rot=0)"
   ]
  },
  {
   "cell_type": "code",
   "execution_count": null,
   "id": "e5e3bea9",
   "metadata": {},
   "outputs": [],
   "source": []
  }
 ],
 "metadata": {
  "kernelspec": {
   "display_name": "Python 3 (ipykernel)",
   "language": "python",
   "name": "python3"
  },
  "language_info": {
   "codemirror_mode": {
    "name": "ipython",
    "version": 3
   },
   "file_extension": ".py",
   "mimetype": "text/x-python",
   "name": "python",
   "nbconvert_exporter": "python",
   "pygments_lexer": "ipython3",
   "version": "3.9.6"
  }
 },
 "nbformat": 4,
 "nbformat_minor": 5
}
