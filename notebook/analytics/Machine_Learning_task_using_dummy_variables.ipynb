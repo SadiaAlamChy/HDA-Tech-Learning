{
 "cells": [
  {
   "cell_type": "markdown",
   "id": "e9a468a7",
   "metadata": {},
   "source": [
    "### Package installation"
   ]
  },
  {
   "cell_type": "code",
   "execution_count": 1,
   "id": "c1e39e8b",
   "metadata": {},
   "outputs": [],
   "source": [
    "# !pip install psycopg2"
   ]
  },
  {
   "cell_type": "code",
   "execution_count": 2,
   "id": "898c2ccd",
   "metadata": {},
   "outputs": [],
   "source": [
    "#pip install openpyxl"
   ]
  },
  {
   "cell_type": "markdown",
   "id": "5aabcafc",
   "metadata": {},
   "source": [
    "### Package call"
   ]
  },
  {
   "cell_type": "code",
   "execution_count": 1,
   "id": "6ece9436",
   "metadata": {},
   "outputs": [],
   "source": [
    "import psycopg2\n",
    "import pandas as pd\n",
    "import psycopg2.extras\n",
    "\n",
    "import numpy as np\n",
    "import matplotlib.pyplot as plt\n",
    "from matplotlib import colors\n",
    "from matplotlib.ticker import PercentFormatter\n",
    "\n",
    "from sklearn.preprocessing import MinMaxScaler"
   ]
  },
  {
   "cell_type": "markdown",
   "id": "110fa63e",
   "metadata": {},
   "source": [
    "### Load"
   ]
  },
  {
   "cell_type": "markdown",
   "id": "dbd8ec63",
   "metadata": {},
   "source": [
    "***Connect to the database***"
   ]
  },
  {
   "cell_type": "code",
   "execution_count": 2,
   "id": "5d3f72cb",
   "metadata": {},
   "outputs": [],
   "source": [
    "\n",
    "class PostgresConnection(object):\n",
    "    def __init__(self):\n",
    "        self.connection = psycopg2.connect(database=\"ecomdb\",\n",
    "                                           user = \"postgres\",\n",
    "                                           password = \"Rsjintu8\",\n",
    "                                           host = \"localhost\", #\"127.0.0.1\",\n",
    "                                           port = \"5432\")\n",
    "\n",
    "    def getConnection(self):\n",
    "        print(\"successfully connected to database\")\n",
    "        return self.connection"
   ]
  },
  {
   "cell_type": "code",
   "execution_count": 3,
   "id": "add24549",
   "metadata": {
    "scrolled": false
   },
   "outputs": [
    {
     "name": "stdout",
     "output_type": "stream",
     "text": [
      "successfully connected to database\n"
     ]
    }
   ],
   "source": [
    "con = PostgresConnection().getConnection()"
   ]
  },
  {
   "cell_type": "markdown",
   "id": "87abf15e",
   "metadata": {},
   "source": [
    "## Load dataset"
   ]
  },
  {
   "cell_type": "code",
   "execution_count": 15,
   "id": "43d8effa",
   "metadata": {
    "scrolled": true
   },
   "outputs": [],
   "source": [
    "cur = con.cursor()\n",
    "select_stmt = \"SELECT i.item_key as item, t.month, t.year, SUM(f.total_price) as total_sale_price \"\\\n",
    "\"FROM ecomdb.fact_table as f \"\\\n",
    "\"JOIN ecomdb.store_dim as s ON s.store_key = f.store_key \"\\\n",
    "\"JOIN ecomdb.time_dim as t ON t.time_key = f.time_key \"\\\n",
    "\"JOIN ecomdb.item_dim as i ON i.item_key = f.item_key \"\\\n",
    "\"GROUP BY (i.item_key,t.year,t.month)\"\n",
    "cur.execute(select_stmt)\n",
    "records = cur.fetchall()\n",
    "# records"
   ]
  },
  {
   "cell_type": "code",
   "execution_count": 16,
   "id": "08d4f359",
   "metadata": {},
   "outputs": [
    {
     "data": {
      "text/html": [
       "<div>\n",
       "<style scoped>\n",
       "    .dataframe tbody tr th:only-of-type {\n",
       "        vertical-align: middle;\n",
       "    }\n",
       "\n",
       "    .dataframe tbody tr th {\n",
       "        vertical-align: top;\n",
       "    }\n",
       "\n",
       "    .dataframe thead th {\n",
       "        text-align: right;\n",
       "    }\n",
       "</style>\n",
       "<table border=\"1\" class=\"dataframe\">\n",
       "  <thead>\n",
       "    <tr style=\"text-align: right;\">\n",
       "      <th></th>\n",
       "      <th>Item</th>\n",
       "      <th>Month</th>\n",
       "      <th>Year</th>\n",
       "      <th>Total_sale_price</th>\n",
       "    </tr>\n",
       "  </thead>\n",
       "  <tbody>\n",
       "    <tr>\n",
       "      <th>0</th>\n",
       "      <td>I00001</td>\n",
       "      <td>1</td>\n",
       "      <td>2014</td>\n",
       "      <td>1518.00</td>\n",
       "    </tr>\n",
       "    <tr>\n",
       "      <th>1</th>\n",
       "      <td>I00001</td>\n",
       "      <td>2</td>\n",
       "      <td>2014</td>\n",
       "      <td>2794.50</td>\n",
       "    </tr>\n",
       "    <tr>\n",
       "      <th>2</th>\n",
       "      <td>I00001</td>\n",
       "      <td>3</td>\n",
       "      <td>2014</td>\n",
       "      <td>2921.00</td>\n",
       "    </tr>\n",
       "    <tr>\n",
       "      <th>3</th>\n",
       "      <td>I00001</td>\n",
       "      <td>4</td>\n",
       "      <td>2014</td>\n",
       "      <td>3737.50</td>\n",
       "    </tr>\n",
       "    <tr>\n",
       "      <th>4</th>\n",
       "      <td>I00001</td>\n",
       "      <td>5</td>\n",
       "      <td>2014</td>\n",
       "      <td>2679.50</td>\n",
       "    </tr>\n",
       "    <tr>\n",
       "      <th>...</th>\n",
       "      <td>...</td>\n",
       "      <td>...</td>\n",
       "      <td>...</td>\n",
       "      <td>...</td>\n",
       "    </tr>\n",
       "    <tr>\n",
       "      <th>22435</th>\n",
       "      <td>I00264</td>\n",
       "      <td>9</td>\n",
       "      <td>2020</td>\n",
       "      <td>4155.00</td>\n",
       "    </tr>\n",
       "    <tr>\n",
       "      <th>22436</th>\n",
       "      <td>I00264</td>\n",
       "      <td>10</td>\n",
       "      <td>2020</td>\n",
       "      <td>6315.00</td>\n",
       "    </tr>\n",
       "    <tr>\n",
       "      <th>22437</th>\n",
       "      <td>I00264</td>\n",
       "      <td>11</td>\n",
       "      <td>2020</td>\n",
       "      <td>2910.00</td>\n",
       "    </tr>\n",
       "    <tr>\n",
       "      <th>22438</th>\n",
       "      <td>I00264</td>\n",
       "      <td>12</td>\n",
       "      <td>2020</td>\n",
       "      <td>6390.00</td>\n",
       "    </tr>\n",
       "    <tr>\n",
       "      <th>22439</th>\n",
       "      <td>I00264</td>\n",
       "      <td>1</td>\n",
       "      <td>2021</td>\n",
       "      <td>2910.00</td>\n",
       "    </tr>\n",
       "  </tbody>\n",
       "</table>\n",
       "<p>22440 rows × 4 columns</p>\n",
       "</div>"
      ],
      "text/plain": [
       "         Item  Month  Year Total_sale_price\n",
       "0      I00001      1  2014          1518.00\n",
       "1      I00001      2  2014          2794.50\n",
       "2      I00001      3  2014          2921.00\n",
       "3      I00001      4  2014          3737.50\n",
       "4      I00001      5  2014          2679.50\n",
       "...       ...    ...   ...              ...\n",
       "22435  I00264      9  2020          4155.00\n",
       "22436  I00264     10  2020          6315.00\n",
       "22437  I00264     11  2020          2910.00\n",
       "22438  I00264     12  2020          6390.00\n",
       "22439  I00264      1  2021          2910.00\n",
       "\n",
       "[22440 rows x 4 columns]"
      ]
     },
     "execution_count": 16,
     "metadata": {},
     "output_type": "execute_result"
    }
   ],
   "source": [
    "df = pd.DataFrame(list(records), columns=['Item', 'Month', 'Year', 'Total_sale_price'])\n",
    "df = df.dropna()\n",
    "df"
   ]
  },
  {
   "cell_type": "code",
   "execution_count": 17,
   "id": "32f1c8bc",
   "metadata": {},
   "outputs": [
    {
     "data": {
      "text/plain": [
       "(22440, 4)"
      ]
     },
     "execution_count": 17,
     "metadata": {},
     "output_type": "execute_result"
    }
   ],
   "source": [
    "df.shape"
   ]
  },
  {
   "cell_type": "markdown",
   "id": "f6601a95",
   "metadata": {},
   "source": [
    "# Data Preprocessing"
   ]
  },
  {
   "cell_type": "markdown",
   "id": "c23bd5eb",
   "metadata": {},
   "source": [
    "### Using pandas to create dummy variables"
   ]
  },
  {
   "cell_type": "code",
   "execution_count": 18,
   "id": "760bd2e1",
   "metadata": {},
   "outputs": [
    {
     "data": {
      "text/html": [
       "<div>\n",
       "<style scoped>\n",
       "    .dataframe tbody tr th:only-of-type {\n",
       "        vertical-align: middle;\n",
       "    }\n",
       "\n",
       "    .dataframe tbody tr th {\n",
       "        vertical-align: top;\n",
       "    }\n",
       "\n",
       "    .dataframe thead th {\n",
       "        text-align: right;\n",
       "    }\n",
       "</style>\n",
       "<table border=\"1\" class=\"dataframe\">\n",
       "  <thead>\n",
       "    <tr style=\"text-align: right;\">\n",
       "      <th></th>\n",
       "      <th>I00001</th>\n",
       "      <th>I00002</th>\n",
       "      <th>I00003</th>\n",
       "      <th>I00004</th>\n",
       "      <th>I00005</th>\n",
       "      <th>I00006</th>\n",
       "      <th>I00007</th>\n",
       "      <th>I00008</th>\n",
       "      <th>I00009</th>\n",
       "      <th>I00010</th>\n",
       "      <th>...</th>\n",
       "      <th>I00255</th>\n",
       "      <th>I00256</th>\n",
       "      <th>I00257</th>\n",
       "      <th>I00258</th>\n",
       "      <th>I00259</th>\n",
       "      <th>I00260</th>\n",
       "      <th>I00261</th>\n",
       "      <th>I00262</th>\n",
       "      <th>I00263</th>\n",
       "      <th>I00264</th>\n",
       "    </tr>\n",
       "  </thead>\n",
       "  <tbody>\n",
       "    <tr>\n",
       "      <th>0</th>\n",
       "      <td>1</td>\n",
       "      <td>0</td>\n",
       "      <td>0</td>\n",
       "      <td>0</td>\n",
       "      <td>0</td>\n",
       "      <td>0</td>\n",
       "      <td>0</td>\n",
       "      <td>0</td>\n",
       "      <td>0</td>\n",
       "      <td>0</td>\n",
       "      <td>...</td>\n",
       "      <td>0</td>\n",
       "      <td>0</td>\n",
       "      <td>0</td>\n",
       "      <td>0</td>\n",
       "      <td>0</td>\n",
       "      <td>0</td>\n",
       "      <td>0</td>\n",
       "      <td>0</td>\n",
       "      <td>0</td>\n",
       "      <td>0</td>\n",
       "    </tr>\n",
       "    <tr>\n",
       "      <th>1</th>\n",
       "      <td>1</td>\n",
       "      <td>0</td>\n",
       "      <td>0</td>\n",
       "      <td>0</td>\n",
       "      <td>0</td>\n",
       "      <td>0</td>\n",
       "      <td>0</td>\n",
       "      <td>0</td>\n",
       "      <td>0</td>\n",
       "      <td>0</td>\n",
       "      <td>...</td>\n",
       "      <td>0</td>\n",
       "      <td>0</td>\n",
       "      <td>0</td>\n",
       "      <td>0</td>\n",
       "      <td>0</td>\n",
       "      <td>0</td>\n",
       "      <td>0</td>\n",
       "      <td>0</td>\n",
       "      <td>0</td>\n",
       "      <td>0</td>\n",
       "    </tr>\n",
       "    <tr>\n",
       "      <th>2</th>\n",
       "      <td>1</td>\n",
       "      <td>0</td>\n",
       "      <td>0</td>\n",
       "      <td>0</td>\n",
       "      <td>0</td>\n",
       "      <td>0</td>\n",
       "      <td>0</td>\n",
       "      <td>0</td>\n",
       "      <td>0</td>\n",
       "      <td>0</td>\n",
       "      <td>...</td>\n",
       "      <td>0</td>\n",
       "      <td>0</td>\n",
       "      <td>0</td>\n",
       "      <td>0</td>\n",
       "      <td>0</td>\n",
       "      <td>0</td>\n",
       "      <td>0</td>\n",
       "      <td>0</td>\n",
       "      <td>0</td>\n",
       "      <td>0</td>\n",
       "    </tr>\n",
       "  </tbody>\n",
       "</table>\n",
       "<p>3 rows × 264 columns</p>\n",
       "</div>"
      ],
      "text/plain": [
       "   I00001  I00002  I00003  I00004  I00005  I00006  I00007  I00008  I00009  \\\n",
       "0       1       0       0       0       0       0       0       0       0   \n",
       "1       1       0       0       0       0       0       0       0       0   \n",
       "2       1       0       0       0       0       0       0       0       0   \n",
       "\n",
       "   I00010  ...  I00255  I00256  I00257  I00258  I00259  I00260  I00261  \\\n",
       "0       0  ...       0       0       0       0       0       0       0   \n",
       "1       0  ...       0       0       0       0       0       0       0   \n",
       "2       0  ...       0       0       0       0       0       0       0   \n",
       "\n",
       "   I00262  I00263  I00264  \n",
       "0       0       0       0  \n",
       "1       0       0       0  \n",
       "2       0       0       0  \n",
       "\n",
       "[3 rows x 264 columns]"
      ]
     },
     "execution_count": 18,
     "metadata": {},
     "output_type": "execute_result"
    }
   ],
   "source": [
    "dummies = pd.get_dummies(df.Item)\n",
    "dummies.head(3)"
   ]
  },
  {
   "cell_type": "code",
   "execution_count": 19,
   "id": "b8c55368",
   "metadata": {},
   "outputs": [
    {
     "data": {
      "text/plain": [
       "(22440, 264)"
      ]
     },
     "execution_count": 19,
     "metadata": {},
     "output_type": "execute_result"
    }
   ],
   "source": [
    "dummies.shape"
   ]
  },
  {
   "cell_type": "code",
   "execution_count": 20,
   "id": "cf86b333",
   "metadata": {},
   "outputs": [
    {
     "data": {
      "text/html": [
       "<div>\n",
       "<style scoped>\n",
       "    .dataframe tbody tr th:only-of-type {\n",
       "        vertical-align: middle;\n",
       "    }\n",
       "\n",
       "    .dataframe tbody tr th {\n",
       "        vertical-align: top;\n",
       "    }\n",
       "\n",
       "    .dataframe thead th {\n",
       "        text-align: right;\n",
       "    }\n",
       "</style>\n",
       "<table border=\"1\" class=\"dataframe\">\n",
       "  <thead>\n",
       "    <tr style=\"text-align: right;\">\n",
       "      <th></th>\n",
       "      <th>Item</th>\n",
       "      <th>Month</th>\n",
       "      <th>Year</th>\n",
       "      <th>Total_sale_price</th>\n",
       "      <th>I00001</th>\n",
       "      <th>I00002</th>\n",
       "      <th>I00003</th>\n",
       "      <th>I00004</th>\n",
       "      <th>I00005</th>\n",
       "      <th>I00006</th>\n",
       "      <th>...</th>\n",
       "      <th>I00255</th>\n",
       "      <th>I00256</th>\n",
       "      <th>I00257</th>\n",
       "      <th>I00258</th>\n",
       "      <th>I00259</th>\n",
       "      <th>I00260</th>\n",
       "      <th>I00261</th>\n",
       "      <th>I00262</th>\n",
       "      <th>I00263</th>\n",
       "      <th>I00264</th>\n",
       "    </tr>\n",
       "  </thead>\n",
       "  <tbody>\n",
       "    <tr>\n",
       "      <th>0</th>\n",
       "      <td>I00001</td>\n",
       "      <td>1</td>\n",
       "      <td>2014</td>\n",
       "      <td>1518.00</td>\n",
       "      <td>1</td>\n",
       "      <td>0</td>\n",
       "      <td>0</td>\n",
       "      <td>0</td>\n",
       "      <td>0</td>\n",
       "      <td>0</td>\n",
       "      <td>...</td>\n",
       "      <td>0</td>\n",
       "      <td>0</td>\n",
       "      <td>0</td>\n",
       "      <td>0</td>\n",
       "      <td>0</td>\n",
       "      <td>0</td>\n",
       "      <td>0</td>\n",
       "      <td>0</td>\n",
       "      <td>0</td>\n",
       "      <td>0</td>\n",
       "    </tr>\n",
       "    <tr>\n",
       "      <th>1</th>\n",
       "      <td>I00001</td>\n",
       "      <td>2</td>\n",
       "      <td>2014</td>\n",
       "      <td>2794.50</td>\n",
       "      <td>1</td>\n",
       "      <td>0</td>\n",
       "      <td>0</td>\n",
       "      <td>0</td>\n",
       "      <td>0</td>\n",
       "      <td>0</td>\n",
       "      <td>...</td>\n",
       "      <td>0</td>\n",
       "      <td>0</td>\n",
       "      <td>0</td>\n",
       "      <td>0</td>\n",
       "      <td>0</td>\n",
       "      <td>0</td>\n",
       "      <td>0</td>\n",
       "      <td>0</td>\n",
       "      <td>0</td>\n",
       "      <td>0</td>\n",
       "    </tr>\n",
       "    <tr>\n",
       "      <th>2</th>\n",
       "      <td>I00001</td>\n",
       "      <td>3</td>\n",
       "      <td>2014</td>\n",
       "      <td>2921.00</td>\n",
       "      <td>1</td>\n",
       "      <td>0</td>\n",
       "      <td>0</td>\n",
       "      <td>0</td>\n",
       "      <td>0</td>\n",
       "      <td>0</td>\n",
       "      <td>...</td>\n",
       "      <td>0</td>\n",
       "      <td>0</td>\n",
       "      <td>0</td>\n",
       "      <td>0</td>\n",
       "      <td>0</td>\n",
       "      <td>0</td>\n",
       "      <td>0</td>\n",
       "      <td>0</td>\n",
       "      <td>0</td>\n",
       "      <td>0</td>\n",
       "    </tr>\n",
       "  </tbody>\n",
       "</table>\n",
       "<p>3 rows × 268 columns</p>\n",
       "</div>"
      ],
      "text/plain": [
       "     Item  Month  Year Total_sale_price  I00001  I00002  I00003  I00004  \\\n",
       "0  I00001      1  2014          1518.00       1       0       0       0   \n",
       "1  I00001      2  2014          2794.50       1       0       0       0   \n",
       "2  I00001      3  2014          2921.00       1       0       0       0   \n",
       "\n",
       "   I00005  I00006  ...  I00255  I00256  I00257  I00258  I00259  I00260  \\\n",
       "0       0       0  ...       0       0       0       0       0       0   \n",
       "1       0       0  ...       0       0       0       0       0       0   \n",
       "2       0       0  ...       0       0       0       0       0       0   \n",
       "\n",
       "   I00261  I00262  I00263  I00264  \n",
       "0       0       0       0       0  \n",
       "1       0       0       0       0  \n",
       "2       0       0       0       0  \n",
       "\n",
       "[3 rows x 268 columns]"
      ]
     },
     "execution_count": 20,
     "metadata": {},
     "output_type": "execute_result"
    }
   ],
   "source": [
    "df= pd.concat([df,dummies],axis='columns')\n",
    "df.head(3)"
   ]
  },
  {
   "cell_type": "code",
   "execution_count": 21,
   "id": "db52bf97",
   "metadata": {},
   "outputs": [
    {
     "data": {
      "text/plain": [
       "(22440, 268)"
      ]
     },
     "execution_count": 21,
     "metadata": {},
     "output_type": "execute_result"
    }
   ],
   "source": [
    "df.shape"
   ]
  },
  {
   "cell_type": "code",
   "execution_count": 22,
   "id": "09eee780",
   "metadata": {},
   "outputs": [
    {
     "data": {
      "text/html": [
       "<div>\n",
       "<style scoped>\n",
       "    .dataframe tbody tr th:only-of-type {\n",
       "        vertical-align: middle;\n",
       "    }\n",
       "\n",
       "    .dataframe tbody tr th {\n",
       "        vertical-align: top;\n",
       "    }\n",
       "\n",
       "    .dataframe thead th {\n",
       "        text-align: right;\n",
       "    }\n",
       "</style>\n",
       "<table border=\"1\" class=\"dataframe\">\n",
       "  <thead>\n",
       "    <tr style=\"text-align: right;\">\n",
       "      <th></th>\n",
       "      <th>Month</th>\n",
       "      <th>Year</th>\n",
       "      <th>Total_sale_price</th>\n",
       "      <th>I00001</th>\n",
       "      <th>I00002</th>\n",
       "      <th>I00003</th>\n",
       "      <th>I00004</th>\n",
       "      <th>I00005</th>\n",
       "      <th>I00006</th>\n",
       "      <th>I00007</th>\n",
       "      <th>...</th>\n",
       "      <th>I00255</th>\n",
       "      <th>I00256</th>\n",
       "      <th>I00257</th>\n",
       "      <th>I00258</th>\n",
       "      <th>I00259</th>\n",
       "      <th>I00260</th>\n",
       "      <th>I00261</th>\n",
       "      <th>I00262</th>\n",
       "      <th>I00263</th>\n",
       "      <th>I00264</th>\n",
       "    </tr>\n",
       "  </thead>\n",
       "  <tbody>\n",
       "    <tr>\n",
       "      <th>0</th>\n",
       "      <td>1</td>\n",
       "      <td>2014</td>\n",
       "      <td>1518.00</td>\n",
       "      <td>1</td>\n",
       "      <td>0</td>\n",
       "      <td>0</td>\n",
       "      <td>0</td>\n",
       "      <td>0</td>\n",
       "      <td>0</td>\n",
       "      <td>0</td>\n",
       "      <td>...</td>\n",
       "      <td>0</td>\n",
       "      <td>0</td>\n",
       "      <td>0</td>\n",
       "      <td>0</td>\n",
       "      <td>0</td>\n",
       "      <td>0</td>\n",
       "      <td>0</td>\n",
       "      <td>0</td>\n",
       "      <td>0</td>\n",
       "      <td>0</td>\n",
       "    </tr>\n",
       "    <tr>\n",
       "      <th>1</th>\n",
       "      <td>2</td>\n",
       "      <td>2014</td>\n",
       "      <td>2794.50</td>\n",
       "      <td>1</td>\n",
       "      <td>0</td>\n",
       "      <td>0</td>\n",
       "      <td>0</td>\n",
       "      <td>0</td>\n",
       "      <td>0</td>\n",
       "      <td>0</td>\n",
       "      <td>...</td>\n",
       "      <td>0</td>\n",
       "      <td>0</td>\n",
       "      <td>0</td>\n",
       "      <td>0</td>\n",
       "      <td>0</td>\n",
       "      <td>0</td>\n",
       "      <td>0</td>\n",
       "      <td>0</td>\n",
       "      <td>0</td>\n",
       "      <td>0</td>\n",
       "    </tr>\n",
       "    <tr>\n",
       "      <th>2</th>\n",
       "      <td>3</td>\n",
       "      <td>2014</td>\n",
       "      <td>2921.00</td>\n",
       "      <td>1</td>\n",
       "      <td>0</td>\n",
       "      <td>0</td>\n",
       "      <td>0</td>\n",
       "      <td>0</td>\n",
       "      <td>0</td>\n",
       "      <td>0</td>\n",
       "      <td>...</td>\n",
       "      <td>0</td>\n",
       "      <td>0</td>\n",
       "      <td>0</td>\n",
       "      <td>0</td>\n",
       "      <td>0</td>\n",
       "      <td>0</td>\n",
       "      <td>0</td>\n",
       "      <td>0</td>\n",
       "      <td>0</td>\n",
       "      <td>0</td>\n",
       "    </tr>\n",
       "  </tbody>\n",
       "</table>\n",
       "<p>3 rows × 267 columns</p>\n",
       "</div>"
      ],
      "text/plain": [
       "   Month  Year Total_sale_price  I00001  I00002  I00003  I00004  I00005  \\\n",
       "0      1  2014          1518.00       1       0       0       0       0   \n",
       "1      2  2014          2794.50       1       0       0       0       0   \n",
       "2      3  2014          2921.00       1       0       0       0       0   \n",
       "\n",
       "   I00006  I00007  ...  I00255  I00256  I00257  I00258  I00259  I00260  \\\n",
       "0       0       0  ...       0       0       0       0       0       0   \n",
       "1       0       0  ...       0       0       0       0       0       0   \n",
       "2       0       0  ...       0       0       0       0       0       0   \n",
       "\n",
       "   I00261  I00262  I00263  I00264  \n",
       "0       0       0       0       0  \n",
       "1       0       0       0       0  \n",
       "2       0       0       0       0  \n",
       "\n",
       "[3 rows x 267 columns]"
      ]
     },
     "execution_count": 22,
     "metadata": {},
     "output_type": "execute_result"
    }
   ],
   "source": [
    "df = df.drop(['Item'], axis='columns')\n",
    "df.head(3)"
   ]
  },
  {
   "cell_type": "code",
   "execution_count": 23,
   "id": "ac778251",
   "metadata": {},
   "outputs": [
    {
     "data": {
      "text/html": [
       "<div>\n",
       "<style scoped>\n",
       "    .dataframe tbody tr th:only-of-type {\n",
       "        vertical-align: middle;\n",
       "    }\n",
       "\n",
       "    .dataframe tbody tr th {\n",
       "        vertical-align: top;\n",
       "    }\n",
       "\n",
       "    .dataframe thead th {\n",
       "        text-align: right;\n",
       "    }\n",
       "</style>\n",
       "<table border=\"1\" class=\"dataframe\">\n",
       "  <thead>\n",
       "    <tr style=\"text-align: right;\">\n",
       "      <th></th>\n",
       "      <th>Month</th>\n",
       "      <th>Year</th>\n",
       "      <th>Total_sale_price</th>\n",
       "      <th>I00001</th>\n",
       "      <th>I00002</th>\n",
       "      <th>I00003</th>\n",
       "      <th>I00004</th>\n",
       "      <th>I00005</th>\n",
       "      <th>I00006</th>\n",
       "      <th>I00007</th>\n",
       "      <th>...</th>\n",
       "      <th>I00254</th>\n",
       "      <th>I00255</th>\n",
       "      <th>I00256</th>\n",
       "      <th>I00257</th>\n",
       "      <th>I00258</th>\n",
       "      <th>I00259</th>\n",
       "      <th>I00260</th>\n",
       "      <th>I00261</th>\n",
       "      <th>I00262</th>\n",
       "      <th>I00263</th>\n",
       "    </tr>\n",
       "  </thead>\n",
       "  <tbody>\n",
       "    <tr>\n",
       "      <th>0</th>\n",
       "      <td>1</td>\n",
       "      <td>2014</td>\n",
       "      <td>1518.00</td>\n",
       "      <td>1</td>\n",
       "      <td>0</td>\n",
       "      <td>0</td>\n",
       "      <td>0</td>\n",
       "      <td>0</td>\n",
       "      <td>0</td>\n",
       "      <td>0</td>\n",
       "      <td>...</td>\n",
       "      <td>0</td>\n",
       "      <td>0</td>\n",
       "      <td>0</td>\n",
       "      <td>0</td>\n",
       "      <td>0</td>\n",
       "      <td>0</td>\n",
       "      <td>0</td>\n",
       "      <td>0</td>\n",
       "      <td>0</td>\n",
       "      <td>0</td>\n",
       "    </tr>\n",
       "    <tr>\n",
       "      <th>1</th>\n",
       "      <td>2</td>\n",
       "      <td>2014</td>\n",
       "      <td>2794.50</td>\n",
       "      <td>1</td>\n",
       "      <td>0</td>\n",
       "      <td>0</td>\n",
       "      <td>0</td>\n",
       "      <td>0</td>\n",
       "      <td>0</td>\n",
       "      <td>0</td>\n",
       "      <td>...</td>\n",
       "      <td>0</td>\n",
       "      <td>0</td>\n",
       "      <td>0</td>\n",
       "      <td>0</td>\n",
       "      <td>0</td>\n",
       "      <td>0</td>\n",
       "      <td>0</td>\n",
       "      <td>0</td>\n",
       "      <td>0</td>\n",
       "      <td>0</td>\n",
       "    </tr>\n",
       "    <tr>\n",
       "      <th>2</th>\n",
       "      <td>3</td>\n",
       "      <td>2014</td>\n",
       "      <td>2921.00</td>\n",
       "      <td>1</td>\n",
       "      <td>0</td>\n",
       "      <td>0</td>\n",
       "      <td>0</td>\n",
       "      <td>0</td>\n",
       "      <td>0</td>\n",
       "      <td>0</td>\n",
       "      <td>...</td>\n",
       "      <td>0</td>\n",
       "      <td>0</td>\n",
       "      <td>0</td>\n",
       "      <td>0</td>\n",
       "      <td>0</td>\n",
       "      <td>0</td>\n",
       "      <td>0</td>\n",
       "      <td>0</td>\n",
       "      <td>0</td>\n",
       "      <td>0</td>\n",
       "    </tr>\n",
       "  </tbody>\n",
       "</table>\n",
       "<p>3 rows × 266 columns</p>\n",
       "</div>"
      ],
      "text/plain": [
       "   Month  Year Total_sale_price  I00001  I00002  I00003  I00004  I00005  \\\n",
       "0      1  2014          1518.00       1       0       0       0       0   \n",
       "1      2  2014          2794.50       1       0       0       0       0   \n",
       "2      3  2014          2921.00       1       0       0       0       0   \n",
       "\n",
       "   I00006  I00007  ...  I00254  I00255  I00256  I00257  I00258  I00259  \\\n",
       "0       0       0  ...       0       0       0       0       0       0   \n",
       "1       0       0  ...       0       0       0       0       0       0   \n",
       "2       0       0  ...       0       0       0       0       0       0   \n",
       "\n",
       "   I00260  I00261  I00262  I00263  \n",
       "0       0       0       0       0  \n",
       "1       0       0       0       0  \n",
       "2       0       0       0       0  \n",
       "\n",
       "[3 rows x 266 columns]"
      ]
     },
     "execution_count": 23,
     "metadata": {},
     "output_type": "execute_result"
    }
   ],
   "source": [
    "# Dummy Variable Trap\n",
    "df = df.drop(['I00264'], axis='columns')\n",
    "df.head(3)"
   ]
  },
  {
   "cell_type": "code",
   "execution_count": 24,
   "id": "4702cd7e",
   "metadata": {},
   "outputs": [
    {
     "data": {
      "text/plain": [
       "(22440, 266)"
      ]
     },
     "execution_count": 24,
     "metadata": {},
     "output_type": "execute_result"
    }
   ],
   "source": [
    "df.shape"
   ]
  },
  {
   "cell_type": "markdown",
   "id": "8cb5730d",
   "metadata": {},
   "source": [
    "### scaling Year"
   ]
  },
  {
   "cell_type": "code",
   "execution_count": 25,
   "id": "4b20f490",
   "metadata": {},
   "outputs": [],
   "source": [
    "# scaler = MinMaxScaler()\n",
    "# scaler.fit(df[['Year']])\n",
    "# df['Year'] = scaler.transform(df[['Year']])\n",
    "# df['Year'].values"
   ]
  },
  {
   "cell_type": "code",
   "execution_count": 26,
   "id": "4a2cf094",
   "metadata": {},
   "outputs": [
    {
     "data": {
      "text/plain": [
       "0        2014\n",
       "1        2014\n",
       "2        2014\n",
       "3        2014\n",
       "4        2014\n",
       "         ... \n",
       "22435    2020\n",
       "22436    2020\n",
       "22437    2020\n",
       "22438    2020\n",
       "22439    2021\n",
       "Name: Year, Length: 22440, dtype: int64"
      ]
     },
     "execution_count": 26,
     "metadata": {},
     "output_type": "execute_result"
    }
   ],
   "source": [
    "df['Year']"
   ]
  },
  {
   "cell_type": "code",
   "execution_count": 27,
   "id": "e167915f",
   "metadata": {},
   "outputs": [
    {
     "data": {
      "text/html": [
       "<div>\n",
       "<style scoped>\n",
       "    .dataframe tbody tr th:only-of-type {\n",
       "        vertical-align: middle;\n",
       "    }\n",
       "\n",
       "    .dataframe tbody tr th {\n",
       "        vertical-align: top;\n",
       "    }\n",
       "\n",
       "    .dataframe thead th {\n",
       "        text-align: right;\n",
       "    }\n",
       "</style>\n",
       "<table border=\"1\" class=\"dataframe\">\n",
       "  <thead>\n",
       "    <tr style=\"text-align: right;\">\n",
       "      <th></th>\n",
       "      <th>Month</th>\n",
       "      <th>Year</th>\n",
       "      <th>Total_sale_price</th>\n",
       "      <th>I00001</th>\n",
       "      <th>I00002</th>\n",
       "      <th>I00003</th>\n",
       "      <th>I00004</th>\n",
       "      <th>I00005</th>\n",
       "      <th>I00006</th>\n",
       "      <th>I00007</th>\n",
       "      <th>...</th>\n",
       "      <th>I00254</th>\n",
       "      <th>I00255</th>\n",
       "      <th>I00256</th>\n",
       "      <th>I00257</th>\n",
       "      <th>I00258</th>\n",
       "      <th>I00259</th>\n",
       "      <th>I00260</th>\n",
       "      <th>I00261</th>\n",
       "      <th>I00262</th>\n",
       "      <th>I00263</th>\n",
       "    </tr>\n",
       "  </thead>\n",
       "  <tbody>\n",
       "    <tr>\n",
       "      <th>0</th>\n",
       "      <td>1</td>\n",
       "      <td>2014</td>\n",
       "      <td>1518.00</td>\n",
       "      <td>1</td>\n",
       "      <td>0</td>\n",
       "      <td>0</td>\n",
       "      <td>0</td>\n",
       "      <td>0</td>\n",
       "      <td>0</td>\n",
       "      <td>0</td>\n",
       "      <td>...</td>\n",
       "      <td>0</td>\n",
       "      <td>0</td>\n",
       "      <td>0</td>\n",
       "      <td>0</td>\n",
       "      <td>0</td>\n",
       "      <td>0</td>\n",
       "      <td>0</td>\n",
       "      <td>0</td>\n",
       "      <td>0</td>\n",
       "      <td>0</td>\n",
       "    </tr>\n",
       "    <tr>\n",
       "      <th>1</th>\n",
       "      <td>2</td>\n",
       "      <td>2014</td>\n",
       "      <td>2794.50</td>\n",
       "      <td>1</td>\n",
       "      <td>0</td>\n",
       "      <td>0</td>\n",
       "      <td>0</td>\n",
       "      <td>0</td>\n",
       "      <td>0</td>\n",
       "      <td>0</td>\n",
       "      <td>...</td>\n",
       "      <td>0</td>\n",
       "      <td>0</td>\n",
       "      <td>0</td>\n",
       "      <td>0</td>\n",
       "      <td>0</td>\n",
       "      <td>0</td>\n",
       "      <td>0</td>\n",
       "      <td>0</td>\n",
       "      <td>0</td>\n",
       "      <td>0</td>\n",
       "    </tr>\n",
       "    <tr>\n",
       "      <th>2</th>\n",
       "      <td>3</td>\n",
       "      <td>2014</td>\n",
       "      <td>2921.00</td>\n",
       "      <td>1</td>\n",
       "      <td>0</td>\n",
       "      <td>0</td>\n",
       "      <td>0</td>\n",
       "      <td>0</td>\n",
       "      <td>0</td>\n",
       "      <td>0</td>\n",
       "      <td>...</td>\n",
       "      <td>0</td>\n",
       "      <td>0</td>\n",
       "      <td>0</td>\n",
       "      <td>0</td>\n",
       "      <td>0</td>\n",
       "      <td>0</td>\n",
       "      <td>0</td>\n",
       "      <td>0</td>\n",
       "      <td>0</td>\n",
       "      <td>0</td>\n",
       "    </tr>\n",
       "    <tr>\n",
       "      <th>3</th>\n",
       "      <td>4</td>\n",
       "      <td>2014</td>\n",
       "      <td>3737.50</td>\n",
       "      <td>1</td>\n",
       "      <td>0</td>\n",
       "      <td>0</td>\n",
       "      <td>0</td>\n",
       "      <td>0</td>\n",
       "      <td>0</td>\n",
       "      <td>0</td>\n",
       "      <td>...</td>\n",
       "      <td>0</td>\n",
       "      <td>0</td>\n",
       "      <td>0</td>\n",
       "      <td>0</td>\n",
       "      <td>0</td>\n",
       "      <td>0</td>\n",
       "      <td>0</td>\n",
       "      <td>0</td>\n",
       "      <td>0</td>\n",
       "      <td>0</td>\n",
       "    </tr>\n",
       "    <tr>\n",
       "      <th>4</th>\n",
       "      <td>5</td>\n",
       "      <td>2014</td>\n",
       "      <td>2679.50</td>\n",
       "      <td>1</td>\n",
       "      <td>0</td>\n",
       "      <td>0</td>\n",
       "      <td>0</td>\n",
       "      <td>0</td>\n",
       "      <td>0</td>\n",
       "      <td>0</td>\n",
       "      <td>...</td>\n",
       "      <td>0</td>\n",
       "      <td>0</td>\n",
       "      <td>0</td>\n",
       "      <td>0</td>\n",
       "      <td>0</td>\n",
       "      <td>0</td>\n",
       "      <td>0</td>\n",
       "      <td>0</td>\n",
       "      <td>0</td>\n",
       "      <td>0</td>\n",
       "    </tr>\n",
       "    <tr>\n",
       "      <th>...</th>\n",
       "      <td>...</td>\n",
       "      <td>...</td>\n",
       "      <td>...</td>\n",
       "      <td>...</td>\n",
       "      <td>...</td>\n",
       "      <td>...</td>\n",
       "      <td>...</td>\n",
       "      <td>...</td>\n",
       "      <td>...</td>\n",
       "      <td>...</td>\n",
       "      <td>...</td>\n",
       "      <td>...</td>\n",
       "      <td>...</td>\n",
       "      <td>...</td>\n",
       "      <td>...</td>\n",
       "      <td>...</td>\n",
       "      <td>...</td>\n",
       "      <td>...</td>\n",
       "      <td>...</td>\n",
       "      <td>...</td>\n",
       "      <td>...</td>\n",
       "    </tr>\n",
       "    <tr>\n",
       "      <th>22435</th>\n",
       "      <td>9</td>\n",
       "      <td>2020</td>\n",
       "      <td>4155.00</td>\n",
       "      <td>0</td>\n",
       "      <td>0</td>\n",
       "      <td>0</td>\n",
       "      <td>0</td>\n",
       "      <td>0</td>\n",
       "      <td>0</td>\n",
       "      <td>0</td>\n",
       "      <td>...</td>\n",
       "      <td>0</td>\n",
       "      <td>0</td>\n",
       "      <td>0</td>\n",
       "      <td>0</td>\n",
       "      <td>0</td>\n",
       "      <td>0</td>\n",
       "      <td>0</td>\n",
       "      <td>0</td>\n",
       "      <td>0</td>\n",
       "      <td>0</td>\n",
       "    </tr>\n",
       "    <tr>\n",
       "      <th>22436</th>\n",
       "      <td>10</td>\n",
       "      <td>2020</td>\n",
       "      <td>6315.00</td>\n",
       "      <td>0</td>\n",
       "      <td>0</td>\n",
       "      <td>0</td>\n",
       "      <td>0</td>\n",
       "      <td>0</td>\n",
       "      <td>0</td>\n",
       "      <td>0</td>\n",
       "      <td>...</td>\n",
       "      <td>0</td>\n",
       "      <td>0</td>\n",
       "      <td>0</td>\n",
       "      <td>0</td>\n",
       "      <td>0</td>\n",
       "      <td>0</td>\n",
       "      <td>0</td>\n",
       "      <td>0</td>\n",
       "      <td>0</td>\n",
       "      <td>0</td>\n",
       "    </tr>\n",
       "    <tr>\n",
       "      <th>22437</th>\n",
       "      <td>11</td>\n",
       "      <td>2020</td>\n",
       "      <td>2910.00</td>\n",
       "      <td>0</td>\n",
       "      <td>0</td>\n",
       "      <td>0</td>\n",
       "      <td>0</td>\n",
       "      <td>0</td>\n",
       "      <td>0</td>\n",
       "      <td>0</td>\n",
       "      <td>...</td>\n",
       "      <td>0</td>\n",
       "      <td>0</td>\n",
       "      <td>0</td>\n",
       "      <td>0</td>\n",
       "      <td>0</td>\n",
       "      <td>0</td>\n",
       "      <td>0</td>\n",
       "      <td>0</td>\n",
       "      <td>0</td>\n",
       "      <td>0</td>\n",
       "    </tr>\n",
       "    <tr>\n",
       "      <th>22438</th>\n",
       "      <td>12</td>\n",
       "      <td>2020</td>\n",
       "      <td>6390.00</td>\n",
       "      <td>0</td>\n",
       "      <td>0</td>\n",
       "      <td>0</td>\n",
       "      <td>0</td>\n",
       "      <td>0</td>\n",
       "      <td>0</td>\n",
       "      <td>0</td>\n",
       "      <td>...</td>\n",
       "      <td>0</td>\n",
       "      <td>0</td>\n",
       "      <td>0</td>\n",
       "      <td>0</td>\n",
       "      <td>0</td>\n",
       "      <td>0</td>\n",
       "      <td>0</td>\n",
       "      <td>0</td>\n",
       "      <td>0</td>\n",
       "      <td>0</td>\n",
       "    </tr>\n",
       "    <tr>\n",
       "      <th>22439</th>\n",
       "      <td>1</td>\n",
       "      <td>2021</td>\n",
       "      <td>2910.00</td>\n",
       "      <td>0</td>\n",
       "      <td>0</td>\n",
       "      <td>0</td>\n",
       "      <td>0</td>\n",
       "      <td>0</td>\n",
       "      <td>0</td>\n",
       "      <td>0</td>\n",
       "      <td>...</td>\n",
       "      <td>0</td>\n",
       "      <td>0</td>\n",
       "      <td>0</td>\n",
       "      <td>0</td>\n",
       "      <td>0</td>\n",
       "      <td>0</td>\n",
       "      <td>0</td>\n",
       "      <td>0</td>\n",
       "      <td>0</td>\n",
       "      <td>0</td>\n",
       "    </tr>\n",
       "  </tbody>\n",
       "</table>\n",
       "<p>22440 rows × 266 columns</p>\n",
       "</div>"
      ],
      "text/plain": [
       "       Month  Year Total_sale_price  I00001  I00002  I00003  I00004  I00005  \\\n",
       "0          1  2014          1518.00       1       0       0       0       0   \n",
       "1          2  2014          2794.50       1       0       0       0       0   \n",
       "2          3  2014          2921.00       1       0       0       0       0   \n",
       "3          4  2014          3737.50       1       0       0       0       0   \n",
       "4          5  2014          2679.50       1       0       0       0       0   \n",
       "...      ...   ...              ...     ...     ...     ...     ...     ...   \n",
       "22435      9  2020          4155.00       0       0       0       0       0   \n",
       "22436     10  2020          6315.00       0       0       0       0       0   \n",
       "22437     11  2020          2910.00       0       0       0       0       0   \n",
       "22438     12  2020          6390.00       0       0       0       0       0   \n",
       "22439      1  2021          2910.00       0       0       0       0       0   \n",
       "\n",
       "       I00006  I00007  ...  I00254  I00255  I00256  I00257  I00258  I00259  \\\n",
       "0           0       0  ...       0       0       0       0       0       0   \n",
       "1           0       0  ...       0       0       0       0       0       0   \n",
       "2           0       0  ...       0       0       0       0       0       0   \n",
       "3           0       0  ...       0       0       0       0       0       0   \n",
       "4           0       0  ...       0       0       0       0       0       0   \n",
       "...       ...     ...  ...     ...     ...     ...     ...     ...     ...   \n",
       "22435       0       0  ...       0       0       0       0       0       0   \n",
       "22436       0       0  ...       0       0       0       0       0       0   \n",
       "22437       0       0  ...       0       0       0       0       0       0   \n",
       "22438       0       0  ...       0       0       0       0       0       0   \n",
       "22439       0       0  ...       0       0       0       0       0       0   \n",
       "\n",
       "       I00260  I00261  I00262  I00263  \n",
       "0           0       0       0       0  \n",
       "1           0       0       0       0  \n",
       "2           0       0       0       0  \n",
       "3           0       0       0       0  \n",
       "4           0       0       0       0  \n",
       "...       ...     ...     ...     ...  \n",
       "22435       0       0       0       0  \n",
       "22436       0       0       0       0  \n",
       "22437       0       0       0       0  \n",
       "22438       0       0       0       0  \n",
       "22439       0       0       0       0  \n",
       "\n",
       "[22440 rows x 266 columns]"
      ]
     },
     "execution_count": 27,
     "metadata": {},
     "output_type": "execute_result"
    }
   ],
   "source": [
    "df"
   ]
  },
  {
   "cell_type": "code",
   "execution_count": 28,
   "id": "5608a8b5",
   "metadata": {},
   "outputs": [
    {
     "name": "stdout",
     "output_type": "stream",
     "text": [
      "Checking data quality....\n",
      "<class 'pandas.core.frame.DataFrame'>\n",
      "Int64Index: 22440 entries, 0 to 22439\n",
      "Columns: 266 entries, Month to I00263\n",
      "dtypes: int64(2), object(1), uint8(263)\n",
      "memory usage: 6.3+ MB\n",
      "check finished.\n"
     ]
    }
   ],
   "source": [
    "def data_qualityCheck():\n",
    "    print(\"Checking data quality....\")\n",
    "    df.isnull().sum()\n",
    "    df.info()\n",
    "    print(\"check finished.\")\n",
    "\n",
    "data_qualityCheck()"
   ]
  },
  {
   "cell_type": "markdown",
   "id": "24cc863d",
   "metadata": {},
   "source": [
    "##### X and Y declaration"
   ]
  },
  {
   "cell_type": "code",
   "execution_count": 29,
   "id": "3bd87d0b",
   "metadata": {},
   "outputs": [
    {
     "data": {
      "text/plain": [
       "(22440, 265)"
      ]
     },
     "execution_count": 29,
     "metadata": {},
     "output_type": "execute_result"
    }
   ],
   "source": [
    "X = df.drop(['Total_sale_price'], axis='columns')\n",
    "X.shape"
   ]
  },
  {
   "cell_type": "code",
   "execution_count": 30,
   "id": "60ec42de",
   "metadata": {},
   "outputs": [
    {
     "data": {
      "text/plain": [
       "(22440,)"
      ]
     },
     "execution_count": 30,
     "metadata": {},
     "output_type": "execute_result"
    }
   ],
   "source": [
    "y = df['Total_sale_price']\n",
    "y.shape"
   ]
  },
  {
   "cell_type": "code",
   "execution_count": 31,
   "id": "ea5fda65",
   "metadata": {},
   "outputs": [],
   "source": [
    "# train test split\n",
    "# 80% for training the models\n",
    "# 20% for testing the models\n",
    "\n",
    "from sklearn.model_selection import train_test_split\n",
    "X_train, X_test, y_train, y_test = train_test_split(X, y, test_size=0.2, random_state=42)"
   ]
  },
  {
   "cell_type": "code",
   "execution_count": 32,
   "id": "59f1c5c4",
   "metadata": {},
   "outputs": [
    {
     "data": {
      "text/plain": [
       "(17952, 265)"
      ]
     },
     "execution_count": 32,
     "metadata": {},
     "output_type": "execute_result"
    }
   ],
   "source": [
    "X_train.shape"
   ]
  },
  {
   "cell_type": "code",
   "execution_count": 33,
   "id": "d463e5b0",
   "metadata": {},
   "outputs": [
    {
     "data": {
      "text/plain": [
       "(4488, 265)"
      ]
     },
     "execution_count": 33,
     "metadata": {},
     "output_type": "execute_result"
    }
   ],
   "source": [
    "X_test.shape"
   ]
  },
  {
   "cell_type": "markdown",
   "id": "2228c4d7",
   "metadata": {},
   "source": [
    "## Supervised Learning"
   ]
  },
  {
   "cell_type": "code",
   "execution_count": 34,
   "id": "43de1a86",
   "metadata": {},
   "outputs": [],
   "source": [
    "from sklearn.linear_model import LinearRegression, Ridge, Lasso, RANSACRegressor\n",
    "from sklearn.svm import SVR\n",
    "from sklearn.ensemble import GradientBoostingRegressor, RandomForestRegressor   \n",
    "from sklearn.tree import DecisionTreeRegressor \n",
    "from sklearn.neighbors import KNeighborsRegressor\n",
    "from sklearn.gaussian_process import GaussianProcessRegressor\n",
    "from xgboost import XGBRegressor\n",
    "\n",
    "from sklearn import metrics\n",
    "from sklearn.metrics import mean_squared_error, r2_score\n",
    "\n",
    "from sklearn.preprocessing import PolynomialFeatures "
   ]
  },
  {
   "cell_type": "code",
   "execution_count": 35,
   "id": "5e4fa526",
   "metadata": {},
   "outputs": [],
   "source": [
    "def get_score(model, X_train, X_test, y_train, y_test):\n",
    "    model.fit(X_train, y_train)\n",
    "    y_predict = model.predict((X_test))\n",
    "    score1 = metrics.r2_score(y_test, y_predict) # score1 = model.score(X_test, y_test)\n",
    "    score2 = round(score1*100,2)\n",
    "    return score2"
   ]
  },
  {
   "cell_type": "markdown",
   "id": "2b17bbc1",
   "metadata": {},
   "source": [
    "### r2_score"
   ]
  },
  {
   "cell_type": "code",
   "execution_count": 36,
   "id": "f3d01cb8",
   "metadata": {},
   "outputs": [
    {
     "name": "stdout",
     "output_type": "stream",
     "text": [
      "Linear Regression:  84.25\n",
      "Ridge Regression:  84.25\n",
      "Lasso Regression:  83.47\n",
      "Decision Tree Regression:  70.17\n",
      "Random Forest Regression:  80.42\n",
      "Gradient Boosting Regressor:  59.92\n",
      "Extreme Gradient Boosting(XGB) Regressor 82.78\n",
      "K-Neighbors Regressor:  60.8\n",
      "Support Vector Regression:  -3.72\n",
      "Robust Regression — RANSAC:  -5.252247182845012e+20\n"
     ]
    }
   ],
   "source": [
    "### Without scaling the Year\n",
    "\n",
    "# LinearRegression\n",
    "lr = LinearRegression()\n",
    "print('Linear Regression: ', get_score(lr, X_train, X_test, y_train, y_test))\n",
    "      \n",
    "      \n",
    "# GaussianProcessRegressor\n",
    "# GRReg = GaussianProcessRegressor()\n",
    "# print('Gaussian Process Regressor: ', get_score(GRReg, X_train, X_test, y_train, y_test))\n",
    "\n",
    "      \n",
    "# RidgeRegression\n",
    "rr = Ridge(alpha=0)\n",
    "print('Ridge Regression: ', get_score(rr, X_train, X_test, y_train, y_test))   \n",
    "\n",
    "\n",
    "# LassoRegression\n",
    "lasso=Lasso()\n",
    "print('Lasso Regression: ', get_score(lasso, X_train, X_test, y_train, y_test))\n",
    "\n",
    "\n",
    "# PolynomialRegression\n",
    "# polynom = PolynomialFeatures(degree = 20) \n",
    "# X_polynom = polynom.fit_transform(X_train) \n",
    "# X_test_polynom = polynom.fit_transform(X_test)\n",
    "# PolyReg = LinearRegression() \n",
    "# print('Polynomial Regression: ', get_score(PolyReg, X_polynom, X_test_polynom, y_train, y_test))\n",
    "\n",
    "\n",
    "# DecisionTreeRegression\n",
    "DtReg = DecisionTreeRegressor(random_state = 0) \n",
    "print('Decision Tree Regression: ', get_score(DtReg, X_train, X_test, y_train, y_test))\n",
    "\n",
    "\n",
    "# RandomForestRegression\n",
    "RFReg = RandomForestRegressor(n_estimators = 40, random_state = 0)\n",
    "print('Random Forest Regression: ', get_score(RFReg, X_train, X_test, y_train, y_test))   \n",
    "\n",
    "\n",
    "# Gradient Boosting Regressor\n",
    "gbr = GradientBoostingRegressor()\n",
    "print('Gradient Boosting Regressor: ', get_score(gbr, X_train, X_test, y_train, y_test))\n",
    "\n",
    "\n",
    "# Extreme Gradient Boosting(XGB) Regressor\n",
    "xgb = XGBRegressor()\n",
    "print('Extreme Gradient Boosting(XGB) Regressor', get_score(xgb, X_train, X_test, y_train, y_test))\n",
    "\n",
    "\n",
    "# KNeighborsRegressor\n",
    "# scaler = MinMaxScaler()\n",
    "# scaler.fit(X_train[['Year']])\n",
    "# X_train['Year'] = scaler.transform(X_train[['Year']])\n",
    "# scaler1 = MinMaxScaler()\n",
    "# scaler1.fit(X_test[['Year']])\n",
    "# X_test['Year'] = scaler1.transform(X_test[['Year']])\n",
    "KNReg = KNeighborsRegressor(n_neighbors=5) \n",
    "print('K-Neighbors Regressor: ', get_score(KNReg, X_train, X_test, y_train, y_test))\n",
    "\n",
    "\n",
    "# SupportVectorRegression\n",
    "svr = SVR()\n",
    "print('Support Vector Regression: ', get_score(svr, X_train, X_test, y_train, y_test))\n",
    "\n",
    "\n",
    "# Robust Regression — RANSAC\n",
    "ransac = RANSACRegressor()\n",
    "print('Robust Regression — RANSAC: ', get_score(ransac, X_train, X_test, y_train, y_test))"
   ]
  },
  {
   "cell_type": "code",
   "execution_count": 46,
   "id": "5eeb03be",
   "metadata": {},
   "outputs": [
    {
     "name": "stdout",
     "output_type": "stream",
     "text": [
      "Linear Regression:  84.25\n",
      "Ridge Regression:  84.25\n",
      "Lasso Regression:  83.47\n",
      "Decision Tree Regression:  69.99\n",
      "Random Forest Regression:  79.54\n",
      "Gradient Boosting Regressor:  59.92\n",
      "Extreme Gradient Boosting(XGB) Regressor 82.78\n"
     ]
    },
    {
     "name": "stderr",
     "output_type": "stream",
     "text": [
      "c:\\python\\lib\\site-packages\\ipykernel_launcher.py:54: SettingWithCopyWarning: \n",
      "A value is trying to be set on a copy of a slice from a DataFrame.\n",
      "Try using .loc[row_indexer,col_indexer] = value instead\n",
      "\n",
      "See the caveats in the documentation: https://pandas.pydata.org/pandas-docs/stable/user_guide/indexing.html#returning-a-view-versus-a-copy\n",
      "c:\\python\\lib\\site-packages\\ipykernel_launcher.py:57: SettingWithCopyWarning: \n",
      "A value is trying to be set on a copy of a slice from a DataFrame.\n",
      "Try using .loc[row_indexer,col_indexer] = value instead\n",
      "\n",
      "See the caveats in the documentation: https://pandas.pydata.org/pandas-docs/stable/user_guide/indexing.html#returning-a-view-versus-a-copy\n"
     ]
    },
    {
     "name": "stdout",
     "output_type": "stream",
     "text": [
      "K-Neighbors Regressor:  80.88\n",
      "Support Vector Regression:  -3.49\n",
      "Robust Regression — RANSAC:  -1.7219124114971087e+22\n"
     ]
    }
   ],
   "source": [
    "# After scaling the Year\n",
    "\n",
    "# LinearRegression\n",
    "lr = LinearRegression()\n",
    "print('Linear Regression: ', get_score(lr, X_train, X_test, y_train, y_test))\n",
    "      \n",
    "      \n",
    "# GaussianProcessRegressor\n",
    "# GRReg = GaussianProcessRegressor()\n",
    "# print('Gaussian Process Regressor: ', get_score(GRReg, X_train, X_test, y_train, y_test))\n",
    "\n",
    "      \n",
    "# RidgeRegression\n",
    "rr = Ridge(alpha=0)\n",
    "print('Ridge Regression: ', get_score(rr, X_train, X_test, y_train, y_test))   \n",
    "\n",
    "\n",
    "# LassoRegression\n",
    "lasso=Lasso()\n",
    "print('Lasso Regression: ', get_score(lasso, X_train, X_test, y_train, y_test))\n",
    "\n",
    "\n",
    "# PolynomialRegression\n",
    "# polynom = PolynomialFeatures(degree = 2) \n",
    "# X_polynom = polynom.fit_transform(X_train) \n",
    "# X_test_polynom = polynom.fit_transform(X_test)\n",
    "# PolyReg = LinearRegression() \n",
    "# print('Polynomial Regression: ', get_score(PolyReg, X_polynom, X_test_polynom, y_train, y_test))\n",
    "\n",
    "\n",
    "# DecisionTreeRegression\n",
    "DtReg = DecisionTreeRegressor(random_state = 0) \n",
    "print('Decision Tree Regression: ', get_score(DtReg, X_train, X_test, y_train, y_test))\n",
    "\n",
    "\n",
    "# RandomForestRegression\n",
    "RFReg = RandomForestRegressor(n_estimators = 10, random_state = 0)\n",
    "print('Random Forest Regression: ', get_score(RFReg, X_train, X_test, y_train, y_test))   \n",
    "\n",
    "\n",
    "# Gradient Boosting Regressor\n",
    "gbr = GradientBoostingRegressor()\n",
    "print('Gradient Boosting Regressor: ', get_score(gbr, X_train, X_test, y_train, y_test))\n",
    "\n",
    "\n",
    "# Extreme Gradient Boosting(XGB) Regressor\n",
    "xgb = XGBRegressor()\n",
    "print('Extreme Gradient Boosting(XGB) Regressor', get_score(xgb, X_train, X_test, y_train, y_test))\n",
    "\n",
    "\n",
    "# KNeighborsRegressor\n",
    "scaler = MinMaxScaler()\n",
    "scaler.fit(X_train[['Year']])\n",
    "X_train['Year'] = scaler.transform(X_train[['Year']])\n",
    "scaler1 = MinMaxScaler()\n",
    "scaler1.fit(X_test[['Year']])\n",
    "X_test['Year'] = scaler1.transform(X_test[['Year']])\n",
    "KNReg = KNeighborsRegressor(n_neighbors=5) \n",
    "print('K-Neighbors Regressor: ', get_score(KNReg, X_train, X_test, y_train, y_test))\n",
    "\n",
    "\n",
    "# SupportVectorRegression\n",
    "svr = SVR()\n",
    "print('Support Vector Regression: ', get_score(svr, X_train, X_test, y_train, y_test))\n",
    "\n",
    "\n",
    "# Robust Regression — RANSAC\n",
    "ransac = RANSACRegressor()\n",
    "print('Robust Regression — RANSAC: ', get_score(ransac, X_train, X_test, y_train, y_test))"
   ]
  },
  {
   "cell_type": "code",
   "execution_count": null,
   "id": "1493a06a",
   "metadata": {},
   "outputs": [],
   "source": []
  },
  {
   "cell_type": "markdown",
   "id": "30ade515",
   "metadata": {},
   "source": [
    "### LinearRegression"
   ]
  },
  {
   "cell_type": "code",
   "execution_count": 166,
   "id": "0c91dda9",
   "metadata": {},
   "outputs": [
    {
     "data": {
      "text/plain": [
       "84.25"
      ]
     },
     "execution_count": 166,
     "metadata": {},
     "output_type": "execute_result"
    }
   ],
   "source": [
    "lr = LinearRegression()\n",
    "get_score(lr, X_train, X_test, y_train, y_test)\n",
    "# y_pred = lr.predict(X_test)"
   ]
  },
  {
   "cell_type": "code",
   "execution_count": 167,
   "id": "a6f0406b",
   "metadata": {},
   "outputs": [
    {
     "data": {
      "text/plain": [
       "Text(0.5, 0, 'Month')"
      ]
     },
     "execution_count": 167,
     "metadata": {},
     "output_type": "execute_result"
    },
    {
     "data": {
      "image/png": "[encoded data removed]",
      "text/plain": [
       "<Figure size 432x288 with 1 Axes>"
      ]
     },
     "metadata": {
      "needs_background": "light"
     },
     "output_type": "display_data"
    }
   ],
   "source": [
    "# Visualise the Linear Regression Result\n",
    "plt.scatter(X_train['Month'], y_train, color = 'green') \n",
    "  \n",
    "plt.plot(X_train['Month'], lr.predict(X_train), color = 'blue') \n",
    "plt.title('Linear Regression') \n",
    "plt.xlabel('Month') \n",
    "# plt.ylabel('Month') "
   ]
  },
  {
   "cell_type": "markdown",
   "id": "28c2364e",
   "metadata": {},
   "source": [
    "### Ridge Regression"
   ]
  },
  {
   "cell_type": "code",
   "execution_count": 168,
   "id": "166e5812",
   "metadata": {},
   "outputs": [
    {
     "data": {
      "text/plain": [
       "84.25"
      ]
     },
     "execution_count": 168,
     "metadata": {},
     "output_type": "execute_result"
    }
   ],
   "source": [
    "rr = Ridge(alpha=0)\n",
    "get_score(rr, X_train, X_test, y_train, y_test)"
   ]
  },
  {
   "cell_type": "code",
   "execution_count": 71,
   "id": "1e01c37d",
   "metadata": {},
   "outputs": [
    {
     "data": {
      "image/png": "[encoded data removed]",
      "text/plain": [
       "<Figure size 432x288 with 1 Axes>"
      ]
     },
     "metadata": {
      "needs_background": "light"
     },
     "output_type": "display_data"
    },
    {
     "data": {
      "image/png": "[encoded data removed]",
      "text/plain": [
       "<Figure size 720x432 with 1 Axes>"
      ]
     },
     "metadata": {
      "needs_background": "light"
     },
     "output_type": "display_data"
    }
   ],
   "source": [
    "from sklearn.pipeline import Pipeline\n",
    "from sklearn.preprocessing import PolynomialFeatures\n",
    "\n",
    "m = 100\n",
    "x1 = 5 * np.random.rand(m, 1) - 2\n",
    "x2 = 0.7 * x1 ** 2 - 2 * x1 + 3 + np.random.randn(m, 1)\n",
    "\n",
    "plt.scatter(x1, x2)\n",
    "plt.show()\n",
    "\n",
    "def get_preds_ridge(x1, x2, alpha):\n",
    "    model = Pipeline([\n",
    "        ('poly_feats', PolynomialFeatures(degree=16)),\n",
    "        ('ridge', Ridge(alpha=alpha))\n",
    "    ])\n",
    "    model.fit(x1, x2)\n",
    "    return model.predict(x1)\n",
    "\n",
    "alphas = [0, 20, 200]\n",
    "cs = ['r', 'g', 'b']\n",
    "\n",
    "plt.figure(figsize=(10, 6))\n",
    "plt.plot(x1, x2, 'b+', label='Datapoints')\n",
    "\n",
    "for alpha, c in zip(alphas, cs):\n",
    "    preds = get_preds_ridge(x1, x2, alpha)\n",
    "    # Plot\n",
    "    plt.plot(sorted(x1[:, 0]), preds[np.argsort(x1[:, 0])], c, label='Alpha: {}'.format(alpha))\n",
    "\n",
    "plt.legend()\n",
    "plt.show()"
   ]
  },
  {
   "cell_type": "markdown",
   "id": "de981974",
   "metadata": {},
   "source": [
    "### Lasso Regression "
   ]
  },
  {
   "cell_type": "code",
   "execution_count": 169,
   "id": "831ef3b3",
   "metadata": {},
   "outputs": [
    {
     "data": {
      "text/plain": [
       "83.47"
      ]
     },
     "execution_count": 169,
     "metadata": {},
     "output_type": "execute_result"
    }
   ],
   "source": [
    "lasso=Lasso()\n",
    "get_score(lasso, X_train, X_test, y_train, y_test)"
   ]
  },
  {
   "cell_type": "markdown",
   "id": "5d0593a9",
   "metadata": {},
   "source": [
    "### Polynomial Regression"
   ]
  },
  {
   "cell_type": "code",
   "execution_count": 40,
   "id": "74e1f2a0",
   "metadata": {
    "scrolled": true
   },
   "outputs": [],
   "source": [
    "from sklearn.preprocessing import PolynomialFeatures \n",
    "  \n",
    "polynom = PolynomialFeatures(degree = 2) \n",
    "X_polynom = polynom.fit_transform(X_train) \n",
    "X_test_polynom = polynom.fit_transform(X_test)\n",
    "  \n",
    "# X_polynom"
   ]
  },
  {
   "cell_type": "code",
   "execution_count": 41,
   "id": "21149469",
   "metadata": {},
   "outputs": [
    {
     "ename": "MemoryError",
     "evalue": "Unable to allocate 4.75 GiB for an array with shape (17952, 35511) and data type float64",
     "output_type": "error",
     "traceback": [
      "\u001b[1;31m---------------------------------------------------------------------------\u001b[0m",
      "\u001b[1;31mMemoryError\u001b[0m                               Traceback (most recent call last)",
      "\u001b[1;32m~\\AppData\\Local\\Temp/ipykernel_10804/1447634835.py\u001b[0m in \u001b[0;36m<module>\u001b[1;34m\u001b[0m\n\u001b[0;32m      1\u001b[0m \u001b[0mPolyReg\u001b[0m \u001b[1;33m=\u001b[0m \u001b[0mLinearRegression\u001b[0m\u001b[1;33m(\u001b[0m\u001b[1;33m)\u001b[0m\u001b[1;33m\u001b[0m\u001b[1;33m\u001b[0m\u001b[0m\n\u001b[1;32m----> 2\u001b[1;33m \u001b[0mget_score\u001b[0m\u001b[1;33m(\u001b[0m\u001b[0mPolyReg\u001b[0m\u001b[1;33m,\u001b[0m \u001b[0mX_polynom\u001b[0m\u001b[1;33m,\u001b[0m \u001b[0mX_test_polynom\u001b[0m\u001b[1;33m,\u001b[0m \u001b[0my_train\u001b[0m\u001b[1;33m,\u001b[0m \u001b[0my_test\u001b[0m\u001b[1;33m)\u001b[0m\u001b[1;33m\u001b[0m\u001b[1;33m\u001b[0m\u001b[0m\n\u001b[0m",
      "\u001b[1;32m~\\AppData\\Local\\Temp/ipykernel_10804/619444301.py\u001b[0m in \u001b[0;36mget_score\u001b[1;34m(model, X_train, X_test, y_train, y_test)\u001b[0m\n\u001b[0;32m      1\u001b[0m \u001b[1;32mdef\u001b[0m \u001b[0mget_score\u001b[0m\u001b[1;33m(\u001b[0m\u001b[0mmodel\u001b[0m\u001b[1;33m,\u001b[0m \u001b[0mX_train\u001b[0m\u001b[1;33m,\u001b[0m \u001b[0mX_test\u001b[0m\u001b[1;33m,\u001b[0m \u001b[0my_train\u001b[0m\u001b[1;33m,\u001b[0m \u001b[0my_test\u001b[0m\u001b[1;33m)\u001b[0m\u001b[1;33m:\u001b[0m\u001b[1;33m\u001b[0m\u001b[1;33m\u001b[0m\u001b[0m\n\u001b[1;32m----> 2\u001b[1;33m     \u001b[0mmodel\u001b[0m\u001b[1;33m.\u001b[0m\u001b[0mfit\u001b[0m\u001b[1;33m(\u001b[0m\u001b[0mX_train\u001b[0m\u001b[1;33m,\u001b[0m \u001b[0my_train\u001b[0m\u001b[1;33m)\u001b[0m\u001b[1;33m\u001b[0m\u001b[1;33m\u001b[0m\u001b[0m\n\u001b[0m\u001b[0;32m      3\u001b[0m     \u001b[0my_predict\u001b[0m \u001b[1;33m=\u001b[0m \u001b[0mmodel\u001b[0m\u001b[1;33m.\u001b[0m\u001b[0mpredict\u001b[0m\u001b[1;33m(\u001b[0m\u001b[1;33m(\u001b[0m\u001b[0mX_test\u001b[0m\u001b[1;33m)\u001b[0m\u001b[1;33m)\u001b[0m\u001b[1;33m\u001b[0m\u001b[1;33m\u001b[0m\u001b[0m\n\u001b[0;32m      4\u001b[0m     \u001b[0mscore1\u001b[0m \u001b[1;33m=\u001b[0m \u001b[0mmetrics\u001b[0m\u001b[1;33m.\u001b[0m\u001b[0mr2_score\u001b[0m\u001b[1;33m(\u001b[0m\u001b[0my_test\u001b[0m\u001b[1;33m,\u001b[0m \u001b[0my_predict\u001b[0m\u001b[1;33m)\u001b[0m \u001b[1;31m# score1 = model.score(X_test, y_test)\u001b[0m\u001b[1;33m\u001b[0m\u001b[1;33m\u001b[0m\u001b[0m\n\u001b[0;32m      5\u001b[0m     \u001b[0mscore2\u001b[0m \u001b[1;33m=\u001b[0m \u001b[0mround\u001b[0m\u001b[1;33m(\u001b[0m\u001b[0mscore1\u001b[0m\u001b[1;33m*\u001b[0m\u001b[1;36m100\u001b[0m\u001b[1;33m,\u001b[0m\u001b[1;36m2\u001b[0m\u001b[1;33m)\u001b[0m\u001b[1;33m\u001b[0m\u001b[1;33m\u001b[0m\u001b[0m\n",
      "\u001b[1;32mc:\\python\\lib\\site-packages\\sklearn\\linear_model\\_base.py\u001b[0m in \u001b[0;36mfit\u001b[1;34m(self, X, y, sample_weight)\u001b[0m\n\u001b[0;32m    526\u001b[0m             \u001b[0mX\u001b[0m\u001b[1;33m,\u001b[0m \u001b[0my\u001b[0m\u001b[1;33m,\u001b[0m \u001b[0mfit_intercept\u001b[0m\u001b[1;33m=\u001b[0m\u001b[0mself\u001b[0m\u001b[1;33m.\u001b[0m\u001b[0mfit_intercept\u001b[0m\u001b[1;33m,\u001b[0m \u001b[0mnormalize\u001b[0m\u001b[1;33m=\u001b[0m\u001b[0mself\u001b[0m\u001b[1;33m.\u001b[0m\u001b[0mnormalize\u001b[0m\u001b[1;33m,\u001b[0m\u001b[1;33m\u001b[0m\u001b[1;33m\u001b[0m\u001b[0m\n\u001b[0;32m    527\u001b[0m             \u001b[0mcopy\u001b[0m\u001b[1;33m=\u001b[0m\u001b[0mself\u001b[0m\u001b[1;33m.\u001b[0m\u001b[0mcopy_X\u001b[0m\u001b[1;33m,\u001b[0m \u001b[0msample_weight\u001b[0m\u001b[1;33m=\u001b[0m\u001b[0msample_weight\u001b[0m\u001b[1;33m,\u001b[0m\u001b[1;33m\u001b[0m\u001b[1;33m\u001b[0m\u001b[0m\n\u001b[1;32m--> 528\u001b[1;33m             return_mean=True)\n\u001b[0m\u001b[0;32m    529\u001b[0m \u001b[1;33m\u001b[0m\u001b[0m\n\u001b[0;32m    530\u001b[0m         \u001b[1;32mif\u001b[0m \u001b[0msample_weight\u001b[0m \u001b[1;32mis\u001b[0m \u001b[1;32mnot\u001b[0m \u001b[1;32mNone\u001b[0m\u001b[1;33m:\u001b[0m\u001b[1;33m\u001b[0m\u001b[1;33m\u001b[0m\u001b[0m\n",
      "\u001b[1;32mc:\\python\\lib\\site-packages\\sklearn\\linear_model\\_base.py\u001b[0m in \u001b[0;36m_preprocess_data\u001b[1;34m(X, y, fit_intercept, normalize, copy, sample_weight, return_mean, check_input)\u001b[0m\n\u001b[0;32m    129\u001b[0m     \u001b[1;32mif\u001b[0m \u001b[0mcheck_input\u001b[0m\u001b[1;33m:\u001b[0m\u001b[1;33m\u001b[0m\u001b[1;33m\u001b[0m\u001b[0m\n\u001b[0;32m    130\u001b[0m         X = check_array(X, copy=copy, accept_sparse=['csr', 'csc'],\n\u001b[1;32m--> 131\u001b[1;33m                         dtype=FLOAT_DTYPES)\n\u001b[0m\u001b[0;32m    132\u001b[0m     \u001b[1;32melif\u001b[0m \u001b[0mcopy\u001b[0m\u001b[1;33m:\u001b[0m\u001b[1;33m\u001b[0m\u001b[1;33m\u001b[0m\u001b[0m\n\u001b[0;32m    133\u001b[0m         \u001b[1;32mif\u001b[0m \u001b[0msp\u001b[0m\u001b[1;33m.\u001b[0m\u001b[0missparse\u001b[0m\u001b[1;33m(\u001b[0m\u001b[0mX\u001b[0m\u001b[1;33m)\u001b[0m\u001b[1;33m:\u001b[0m\u001b[1;33m\u001b[0m\u001b[1;33m\u001b[0m\u001b[0m\n",
      "\u001b[1;32mc:\\python\\lib\\site-packages\\sklearn\\utils\\validation.py\u001b[0m in \u001b[0;36minner_f\u001b[1;34m(*args, **kwargs)\u001b[0m\n\u001b[0;32m     61\u001b[0m             \u001b[0mextra_args\u001b[0m \u001b[1;33m=\u001b[0m \u001b[0mlen\u001b[0m\u001b[1;33m(\u001b[0m\u001b[0margs\u001b[0m\u001b[1;33m)\u001b[0m \u001b[1;33m-\u001b[0m \u001b[0mlen\u001b[0m\u001b[1;33m(\u001b[0m\u001b[0mall_args\u001b[0m\u001b[1;33m)\u001b[0m\u001b[1;33m\u001b[0m\u001b[1;33m\u001b[0m\u001b[0m\n\u001b[0;32m     62\u001b[0m             \u001b[1;32mif\u001b[0m \u001b[0mextra_args\u001b[0m \u001b[1;33m<=\u001b[0m \u001b[1;36m0\u001b[0m\u001b[1;33m:\u001b[0m\u001b[1;33m\u001b[0m\u001b[1;33m\u001b[0m\u001b[0m\n\u001b[1;32m---> 63\u001b[1;33m                 \u001b[1;32mreturn\u001b[0m \u001b[0mf\u001b[0m\u001b[1;33m(\u001b[0m\u001b[1;33m*\u001b[0m\u001b[0margs\u001b[0m\u001b[1;33m,\u001b[0m \u001b[1;33m**\u001b[0m\u001b[0mkwargs\u001b[0m\u001b[1;33m)\u001b[0m\u001b[1;33m\u001b[0m\u001b[1;33m\u001b[0m\u001b[0m\n\u001b[0m\u001b[0;32m     64\u001b[0m \u001b[1;33m\u001b[0m\u001b[0m\n\u001b[0;32m     65\u001b[0m             \u001b[1;31m# extra_args > 0\u001b[0m\u001b[1;33m\u001b[0m\u001b[1;33m\u001b[0m\u001b[1;33m\u001b[0m\u001b[0m\n",
      "\u001b[1;32mc:\\python\\lib\\site-packages\\sklearn\\utils\\validation.py\u001b[0m in \u001b[0;36mcheck_array\u001b[1;34m(array, accept_sparse, accept_large_sparse, dtype, order, copy, force_all_finite, ensure_2d, allow_nd, ensure_min_samples, ensure_min_features, estimator)\u001b[0m\n\u001b[0;32m    738\u001b[0m \u001b[1;33m\u001b[0m\u001b[0m\n\u001b[0;32m    739\u001b[0m     \u001b[1;32mif\u001b[0m \u001b[0mcopy\u001b[0m \u001b[1;32mand\u001b[0m \u001b[0mnp\u001b[0m\u001b[1;33m.\u001b[0m\u001b[0mmay_share_memory\u001b[0m\u001b[1;33m(\u001b[0m\u001b[0marray\u001b[0m\u001b[1;33m,\u001b[0m \u001b[0marray_orig\u001b[0m\u001b[1;33m)\u001b[0m\u001b[1;33m:\u001b[0m\u001b[1;33m\u001b[0m\u001b[1;33m\u001b[0m\u001b[0m\n\u001b[1;32m--> 740\u001b[1;33m         \u001b[0marray\u001b[0m \u001b[1;33m=\u001b[0m \u001b[0mnp\u001b[0m\u001b[1;33m.\u001b[0m\u001b[0marray\u001b[0m\u001b[1;33m(\u001b[0m\u001b[0marray\u001b[0m\u001b[1;33m,\u001b[0m \u001b[0mdtype\u001b[0m\u001b[1;33m=\u001b[0m\u001b[0mdtype\u001b[0m\u001b[1;33m,\u001b[0m \u001b[0morder\u001b[0m\u001b[1;33m=\u001b[0m\u001b[0morder\u001b[0m\u001b[1;33m)\u001b[0m\u001b[1;33m\u001b[0m\u001b[1;33m\u001b[0m\u001b[0m\n\u001b[0m\u001b[0;32m    741\u001b[0m \u001b[1;33m\u001b[0m\u001b[0m\n\u001b[0;32m    742\u001b[0m     \u001b[1;32mreturn\u001b[0m \u001b[0marray\u001b[0m\u001b[1;33m\u001b[0m\u001b[1;33m\u001b[0m\u001b[0m\n",
      "\u001b[1;31mMemoryError\u001b[0m: Unable to allocate 4.75 GiB for an array with shape (17952, 35511) and data type float64"
     ]
    }
   ],
   "source": [
    "PolyReg = LinearRegression() \n",
    "get_score(PolyReg, X_polynom, X_test_polynom, y_train, y_test)"
   ]
  },
  {
   "cell_type": "code",
   "execution_count": 69,
   "id": "3a5eb0b3",
   "metadata": {
    "scrolled": true
   },
   "outputs": [
    {
     "ename": "MemoryError",
     "evalue": "Unable to allocate 4.75 GiB for an array with shape (17952, 35511) and data type float64",
     "output_type": "error",
     "traceback": [
      "\u001b[1;31m---------------------------------------------------------------------------\u001b[0m",
      "\u001b[1;31mMemoryError\u001b[0m                               Traceback (most recent call last)",
      "\u001b[1;32m~\\AppData\\Local\\Temp/ipykernel_6724/3694271290.py\u001b[0m in \u001b[0;36m<module>\u001b[1;34m\u001b[0m\n\u001b[0;32m      9\u001b[0m     \u001b[0mX_test_polynom\u001b[0m \u001b[1;33m=\u001b[0m \u001b[0mpolynom\u001b[0m\u001b[1;33m.\u001b[0m\u001b[0mfit_transform\u001b[0m\u001b[1;33m(\u001b[0m\u001b[0mX_test\u001b[0m\u001b[1;33m)\u001b[0m\u001b[1;33m\u001b[0m\u001b[1;33m\u001b[0m\u001b[0m\n\u001b[0;32m     10\u001b[0m     \u001b[0mPolyReg\u001b[0m \u001b[1;33m=\u001b[0m \u001b[0mLinearRegression\u001b[0m\u001b[1;33m(\u001b[0m\u001b[1;33m)\u001b[0m\u001b[1;33m\u001b[0m\u001b[1;33m\u001b[0m\u001b[0m\n\u001b[1;32m---> 11\u001b[1;33m     \u001b[0mAcc\u001b[0m\u001b[1;33m[\u001b[0m\u001b[0mindex\u001b[0m\u001b[1;33m]\u001b[0m \u001b[1;33m=\u001b[0m \u001b[0mget_score\u001b[0m\u001b[1;33m(\u001b[0m\u001b[0mPolyReg\u001b[0m\u001b[1;33m,\u001b[0m \u001b[0mX_train_polynom\u001b[0m\u001b[1;33m,\u001b[0m \u001b[0mX_test_polynom\u001b[0m\u001b[1;33m,\u001b[0m \u001b[0my_train\u001b[0m\u001b[1;33m,\u001b[0m \u001b[0my_test\u001b[0m\u001b[1;33m)\u001b[0m\u001b[1;33m\u001b[0m\u001b[1;33m\u001b[0m\u001b[0m\n\u001b[0m\u001b[0;32m     12\u001b[0m     \u001b[0mprint\u001b[0m\u001b[1;33m(\u001b[0m\u001b[1;34m'degree: '\u001b[0m\u001b[1;33m,\u001b[0m\u001b[0md\u001b[0m\u001b[1;33m,\u001b[0m\u001b[1;34m'r2_score: '\u001b[0m\u001b[1;33m,\u001b[0m \u001b[0mAcc\u001b[0m\u001b[1;33m[\u001b[0m\u001b[0mindex\u001b[0m\u001b[1;33m]\u001b[0m\u001b[1;33m,\u001b[0m \u001b[1;34m'%'\u001b[0m\u001b[1;33m)\u001b[0m\u001b[1;33m\u001b[0m\u001b[1;33m\u001b[0m\u001b[0m\n\u001b[0;32m     13\u001b[0m     \u001b[0mindex\u001b[0m \u001b[1;33m+=\u001b[0m \u001b[1;36m1\u001b[0m\u001b[1;33m\u001b[0m\u001b[1;33m\u001b[0m\u001b[0m\n",
      "\u001b[1;32m~\\AppData\\Local\\Temp/ipykernel_6724/619444301.py\u001b[0m in \u001b[0;36mget_score\u001b[1;34m(model, X_train, X_test, y_train, y_test)\u001b[0m\n\u001b[0;32m      1\u001b[0m \u001b[1;32mdef\u001b[0m \u001b[0mget_score\u001b[0m\u001b[1;33m(\u001b[0m\u001b[0mmodel\u001b[0m\u001b[1;33m,\u001b[0m \u001b[0mX_train\u001b[0m\u001b[1;33m,\u001b[0m \u001b[0mX_test\u001b[0m\u001b[1;33m,\u001b[0m \u001b[0my_train\u001b[0m\u001b[1;33m,\u001b[0m \u001b[0my_test\u001b[0m\u001b[1;33m)\u001b[0m\u001b[1;33m:\u001b[0m\u001b[1;33m\u001b[0m\u001b[1;33m\u001b[0m\u001b[0m\n\u001b[1;32m----> 2\u001b[1;33m     \u001b[0mmodel\u001b[0m\u001b[1;33m.\u001b[0m\u001b[0mfit\u001b[0m\u001b[1;33m(\u001b[0m\u001b[0mX_train\u001b[0m\u001b[1;33m,\u001b[0m \u001b[0my_train\u001b[0m\u001b[1;33m)\u001b[0m\u001b[1;33m\u001b[0m\u001b[1;33m\u001b[0m\u001b[0m\n\u001b[0m\u001b[0;32m      3\u001b[0m     \u001b[0my_predict\u001b[0m \u001b[1;33m=\u001b[0m \u001b[0mmodel\u001b[0m\u001b[1;33m.\u001b[0m\u001b[0mpredict\u001b[0m\u001b[1;33m(\u001b[0m\u001b[1;33m(\u001b[0m\u001b[0mX_test\u001b[0m\u001b[1;33m)\u001b[0m\u001b[1;33m)\u001b[0m\u001b[1;33m\u001b[0m\u001b[1;33m\u001b[0m\u001b[0m\n\u001b[0;32m      4\u001b[0m     \u001b[0mscore1\u001b[0m \u001b[1;33m=\u001b[0m \u001b[0mmetrics\u001b[0m\u001b[1;33m.\u001b[0m\u001b[0mr2_score\u001b[0m\u001b[1;33m(\u001b[0m\u001b[0my_test\u001b[0m\u001b[1;33m,\u001b[0m \u001b[0my_predict\u001b[0m\u001b[1;33m)\u001b[0m \u001b[1;31m# score1 = model.score(X_test, y_test)\u001b[0m\u001b[1;33m\u001b[0m\u001b[1;33m\u001b[0m\u001b[0m\n\u001b[0;32m      5\u001b[0m     \u001b[0mscore2\u001b[0m \u001b[1;33m=\u001b[0m \u001b[0mround\u001b[0m\u001b[1;33m(\u001b[0m\u001b[0mscore1\u001b[0m\u001b[1;33m*\u001b[0m\u001b[1;36m100\u001b[0m\u001b[1;33m,\u001b[0m\u001b[1;36m2\u001b[0m\u001b[1;33m)\u001b[0m\u001b[1;33m\u001b[0m\u001b[1;33m\u001b[0m\u001b[0m\n",
      "\u001b[1;32mc:\\python\\lib\\site-packages\\sklearn\\linear_model\\_base.py\u001b[0m in \u001b[0;36mfit\u001b[1;34m(self, X, y, sample_weight)\u001b[0m\n\u001b[0;32m    526\u001b[0m             \u001b[0mX\u001b[0m\u001b[1;33m,\u001b[0m \u001b[0my\u001b[0m\u001b[1;33m,\u001b[0m \u001b[0mfit_intercept\u001b[0m\u001b[1;33m=\u001b[0m\u001b[0mself\u001b[0m\u001b[1;33m.\u001b[0m\u001b[0mfit_intercept\u001b[0m\u001b[1;33m,\u001b[0m \u001b[0mnormalize\u001b[0m\u001b[1;33m=\u001b[0m\u001b[0mself\u001b[0m\u001b[1;33m.\u001b[0m\u001b[0mnormalize\u001b[0m\u001b[1;33m,\u001b[0m\u001b[1;33m\u001b[0m\u001b[1;33m\u001b[0m\u001b[0m\n\u001b[0;32m    527\u001b[0m             \u001b[0mcopy\u001b[0m\u001b[1;33m=\u001b[0m\u001b[0mself\u001b[0m\u001b[1;33m.\u001b[0m\u001b[0mcopy_X\u001b[0m\u001b[1;33m,\u001b[0m \u001b[0msample_weight\u001b[0m\u001b[1;33m=\u001b[0m\u001b[0msample_weight\u001b[0m\u001b[1;33m,\u001b[0m\u001b[1;33m\u001b[0m\u001b[1;33m\u001b[0m\u001b[0m\n\u001b[1;32m--> 528\u001b[1;33m             return_mean=True)\n\u001b[0m\u001b[0;32m    529\u001b[0m \u001b[1;33m\u001b[0m\u001b[0m\n\u001b[0;32m    530\u001b[0m         \u001b[1;32mif\u001b[0m \u001b[0msample_weight\u001b[0m \u001b[1;32mis\u001b[0m \u001b[1;32mnot\u001b[0m \u001b[1;32mNone\u001b[0m\u001b[1;33m:\u001b[0m\u001b[1;33m\u001b[0m\u001b[1;33m\u001b[0m\u001b[0m\n",
      "\u001b[1;32mc:\\python\\lib\\site-packages\\sklearn\\linear_model\\_base.py\u001b[0m in \u001b[0;36m_preprocess_data\u001b[1;34m(X, y, fit_intercept, normalize, copy, sample_weight, return_mean, check_input)\u001b[0m\n\u001b[0;32m    129\u001b[0m     \u001b[1;32mif\u001b[0m \u001b[0mcheck_input\u001b[0m\u001b[1;33m:\u001b[0m\u001b[1;33m\u001b[0m\u001b[1;33m\u001b[0m\u001b[0m\n\u001b[0;32m    130\u001b[0m         X = check_array(X, copy=copy, accept_sparse=['csr', 'csc'],\n\u001b[1;32m--> 131\u001b[1;33m                         dtype=FLOAT_DTYPES)\n\u001b[0m\u001b[0;32m    132\u001b[0m     \u001b[1;32melif\u001b[0m \u001b[0mcopy\u001b[0m\u001b[1;33m:\u001b[0m\u001b[1;33m\u001b[0m\u001b[1;33m\u001b[0m\u001b[0m\n\u001b[0;32m    133\u001b[0m         \u001b[1;32mif\u001b[0m \u001b[0msp\u001b[0m\u001b[1;33m.\u001b[0m\u001b[0missparse\u001b[0m\u001b[1;33m(\u001b[0m\u001b[0mX\u001b[0m\u001b[1;33m)\u001b[0m\u001b[1;33m:\u001b[0m\u001b[1;33m\u001b[0m\u001b[1;33m\u001b[0m\u001b[0m\n",
      "\u001b[1;32mc:\\python\\lib\\site-packages\\sklearn\\utils\\validation.py\u001b[0m in \u001b[0;36minner_f\u001b[1;34m(*args, **kwargs)\u001b[0m\n\u001b[0;32m     61\u001b[0m             \u001b[0mextra_args\u001b[0m \u001b[1;33m=\u001b[0m \u001b[0mlen\u001b[0m\u001b[1;33m(\u001b[0m\u001b[0margs\u001b[0m\u001b[1;33m)\u001b[0m \u001b[1;33m-\u001b[0m \u001b[0mlen\u001b[0m\u001b[1;33m(\u001b[0m\u001b[0mall_args\u001b[0m\u001b[1;33m)\u001b[0m\u001b[1;33m\u001b[0m\u001b[1;33m\u001b[0m\u001b[0m\n\u001b[0;32m     62\u001b[0m             \u001b[1;32mif\u001b[0m \u001b[0mextra_args\u001b[0m \u001b[1;33m<=\u001b[0m \u001b[1;36m0\u001b[0m\u001b[1;33m:\u001b[0m\u001b[1;33m\u001b[0m\u001b[1;33m\u001b[0m\u001b[0m\n\u001b[1;32m---> 63\u001b[1;33m                 \u001b[1;32mreturn\u001b[0m \u001b[0mf\u001b[0m\u001b[1;33m(\u001b[0m\u001b[1;33m*\u001b[0m\u001b[0margs\u001b[0m\u001b[1;33m,\u001b[0m \u001b[1;33m**\u001b[0m\u001b[0mkwargs\u001b[0m\u001b[1;33m)\u001b[0m\u001b[1;33m\u001b[0m\u001b[1;33m\u001b[0m\u001b[0m\n\u001b[0m\u001b[0;32m     64\u001b[0m \u001b[1;33m\u001b[0m\u001b[0m\n\u001b[0;32m     65\u001b[0m             \u001b[1;31m# extra_args > 0\u001b[0m\u001b[1;33m\u001b[0m\u001b[1;33m\u001b[0m\u001b[1;33m\u001b[0m\u001b[0m\n",
      "\u001b[1;32mc:\\python\\lib\\site-packages\\sklearn\\utils\\validation.py\u001b[0m in \u001b[0;36mcheck_array\u001b[1;34m(array, accept_sparse, accept_large_sparse, dtype, order, copy, force_all_finite, ensure_2d, allow_nd, ensure_min_samples, ensure_min_features, estimator)\u001b[0m\n\u001b[0;32m    738\u001b[0m \u001b[1;33m\u001b[0m\u001b[0m\n\u001b[0;32m    739\u001b[0m     \u001b[1;32mif\u001b[0m \u001b[0mcopy\u001b[0m \u001b[1;32mand\u001b[0m \u001b[0mnp\u001b[0m\u001b[1;33m.\u001b[0m\u001b[0mmay_share_memory\u001b[0m\u001b[1;33m(\u001b[0m\u001b[0marray\u001b[0m\u001b[1;33m,\u001b[0m \u001b[0marray_orig\u001b[0m\u001b[1;33m)\u001b[0m\u001b[1;33m:\u001b[0m\u001b[1;33m\u001b[0m\u001b[1;33m\u001b[0m\u001b[0m\n\u001b[1;32m--> 740\u001b[1;33m         \u001b[0marray\u001b[0m \u001b[1;33m=\u001b[0m \u001b[0mnp\u001b[0m\u001b[1;33m.\u001b[0m\u001b[0marray\u001b[0m\u001b[1;33m(\u001b[0m\u001b[0marray\u001b[0m\u001b[1;33m,\u001b[0m \u001b[0mdtype\u001b[0m\u001b[1;33m=\u001b[0m\u001b[0mdtype\u001b[0m\u001b[1;33m,\u001b[0m \u001b[0morder\u001b[0m\u001b[1;33m=\u001b[0m\u001b[0morder\u001b[0m\u001b[1;33m)\u001b[0m\u001b[1;33m\u001b[0m\u001b[1;33m\u001b[0m\u001b[0m\n\u001b[0m\u001b[0;32m    741\u001b[0m \u001b[1;33m\u001b[0m\u001b[0m\n\u001b[0;32m    742\u001b[0m     \u001b[1;32mreturn\u001b[0m \u001b[0marray\u001b[0m\u001b[1;33m\u001b[0m\u001b[1;33m\u001b[0m\u001b[0m\n",
      "\u001b[1;31mMemoryError\u001b[0m: Unable to allocate 4.75 GiB for an array with shape (17952, 35511) and data type float64"
     ]
    }
   ],
   "source": [
    "degree = [2,3,4,5]\n",
    "Acc = np.zeros(4)\n",
    "\n",
    "\n",
    "index=0\n",
    "for d in degree:\n",
    "    polynom = PolynomialFeatures(degree = d) \n",
    "    X_train_polynom = polynom.fit_transform(X_train)\n",
    "    X_test_polynom = polynom.fit_transform(X_test)\n",
    "    PolyReg = LinearRegression()\n",
    "    Acc[index] = get_score(PolyReg, X_train_polynom, X_test_polynom, y_train, y_test)\n",
    "    print('degree: ',d,'r2_score: ', Acc[index], '%')\n",
    "    index += 1\n",
    "\n",
    "plt.plot(degree, Acc, 'ro-')\n",
    "plt.legend(['r2_score'])\n",
    "plt.xlabel('degree')\n",
    "plt.ylabel('r2_score')"
   ]
  },
  {
   "cell_type": "code",
   "execution_count": 298,
   "id": "40fe1335",
   "metadata": {},
   "outputs": [
    {
     "data": {
      "image/png": "[encoded data removed]",
      "text/plain": [
       "<Figure size 432x288 with 1 Axes>"
      ]
     },
     "metadata": {
      "needs_background": "light"
     },
     "output_type": "display_data"
    }
   ],
   "source": [
    "# Visualise the Polynomial Regression Results \n",
    "plt.scatter(X_train['Month'], y_train, color = 'green') \n",
    "  \n",
    "plt.plot(X_train['Month'], PolyReg.predict(polynom.fit_transform(X_train)), color = 'blue') \n",
    "plt.title('Polynomial Regression') \n",
    "plt.xlabel('Month') \n",
    "# plt.ylabel('Height') \n",
    "  \n",
    "plt.show() "
   ]
  },
  {
   "cell_type": "markdown",
   "id": "66e0b76f",
   "metadata": {},
   "source": [
    "### Gausian Regression"
   ]
  },
  {
   "cell_type": "code",
   "execution_count": 265,
   "id": "cadd3e58",
   "metadata": {
    "scrolled": true
   },
   "outputs": [
    {
     "ename": "MemoryError",
     "evalue": "Unable to allocate 1.20 GiB for an array with shape (161128176,) and data type float64",
     "output_type": "error",
     "traceback": [
      "\u001b[1;31m---------------------------------------------------------------------------\u001b[0m",
      "\u001b[1;31mMemoryError\u001b[0m                               Traceback (most recent call last)",
      "\u001b[1;32m~\\AppData\\Local\\Temp/ipykernel_2040/3242321753.py\u001b[0m in \u001b[0;36m<module>\u001b[1;34m\u001b[0m\n\u001b[0;32m      1\u001b[0m \u001b[0mGRReg\u001b[0m \u001b[1;33m=\u001b[0m \u001b[0mGaussianProcessRegressor\u001b[0m\u001b[1;33m(\u001b[0m\u001b[1;33m)\u001b[0m\u001b[1;33m\u001b[0m\u001b[1;33m\u001b[0m\u001b[0m\n\u001b[1;32m----> 2\u001b[1;33m \u001b[0mget_score\u001b[0m\u001b[1;33m(\u001b[0m\u001b[0mGRReg\u001b[0m\u001b[1;33m,\u001b[0m \u001b[0mX_train\u001b[0m\u001b[1;33m,\u001b[0m \u001b[0mX_test\u001b[0m\u001b[1;33m,\u001b[0m \u001b[0my_train\u001b[0m\u001b[1;33m,\u001b[0m \u001b[0my_test\u001b[0m\u001b[1;33m)\u001b[0m\u001b[1;33m\u001b[0m\u001b[1;33m\u001b[0m\u001b[0m\n\u001b[0m",
      "\u001b[1;32m~\\AppData\\Local\\Temp/ipykernel_2040/619444301.py\u001b[0m in \u001b[0;36mget_score\u001b[1;34m(model, X_train, X_test, y_train, y_test)\u001b[0m\n\u001b[0;32m      1\u001b[0m \u001b[1;32mdef\u001b[0m \u001b[0mget_score\u001b[0m\u001b[1;33m(\u001b[0m\u001b[0mmodel\u001b[0m\u001b[1;33m,\u001b[0m \u001b[0mX_train\u001b[0m\u001b[1;33m,\u001b[0m \u001b[0mX_test\u001b[0m\u001b[1;33m,\u001b[0m \u001b[0my_train\u001b[0m\u001b[1;33m,\u001b[0m \u001b[0my_test\u001b[0m\u001b[1;33m)\u001b[0m\u001b[1;33m:\u001b[0m\u001b[1;33m\u001b[0m\u001b[1;33m\u001b[0m\u001b[0m\n\u001b[1;32m----> 2\u001b[1;33m     \u001b[0mmodel\u001b[0m\u001b[1;33m.\u001b[0m\u001b[0mfit\u001b[0m\u001b[1;33m(\u001b[0m\u001b[0mX_train\u001b[0m\u001b[1;33m,\u001b[0m \u001b[0my_train\u001b[0m\u001b[1;33m)\u001b[0m\u001b[1;33m\u001b[0m\u001b[1;33m\u001b[0m\u001b[0m\n\u001b[0m\u001b[0;32m      3\u001b[0m     \u001b[0my_predict\u001b[0m \u001b[1;33m=\u001b[0m \u001b[0mmodel\u001b[0m\u001b[1;33m.\u001b[0m\u001b[0mpredict\u001b[0m\u001b[1;33m(\u001b[0m\u001b[1;33m(\u001b[0m\u001b[0mX_test\u001b[0m\u001b[1;33m)\u001b[0m\u001b[1;33m)\u001b[0m\u001b[1;33m\u001b[0m\u001b[1;33m\u001b[0m\u001b[0m\n\u001b[0;32m      4\u001b[0m     \u001b[0mscore1\u001b[0m \u001b[1;33m=\u001b[0m \u001b[0mmetrics\u001b[0m\u001b[1;33m.\u001b[0m\u001b[0mr2_score\u001b[0m\u001b[1;33m(\u001b[0m\u001b[0my_test\u001b[0m\u001b[1;33m,\u001b[0m \u001b[0my_predict\u001b[0m\u001b[1;33m)\u001b[0m \u001b[1;31m# score1 = model.score(X_test, y_test)\u001b[0m\u001b[1;33m\u001b[0m\u001b[1;33m\u001b[0m\u001b[0m\n\u001b[0;32m      5\u001b[0m     \u001b[0mscore2\u001b[0m \u001b[1;33m=\u001b[0m \u001b[0mround\u001b[0m\u001b[1;33m(\u001b[0m\u001b[0mscore1\u001b[0m\u001b[1;33m*\u001b[0m\u001b[1;36m100\u001b[0m\u001b[1;33m,\u001b[0m\u001b[1;36m2\u001b[0m\u001b[1;33m)\u001b[0m\u001b[1;33m\u001b[0m\u001b[1;33m\u001b[0m\u001b[0m\n",
      "\u001b[1;32mc:\\python\\lib\\site-packages\\sklearn\\gaussian_process\\_gpr.py\u001b[0m in \u001b[0;36mfit\u001b[1;34m(self, X, y)\u001b[0m\n\u001b[0;32m    264\u001b[0m             \u001b[0mself\u001b[0m\u001b[1;33m.\u001b[0m\u001b[0mlog_marginal_likelihood_value_\u001b[0m \u001b[1;33m=\u001b[0m\u001b[0;31m \u001b[0m\u001b[0;31m\\\u001b[0m\u001b[1;33m\u001b[0m\u001b[1;33m\u001b[0m\u001b[0m\n\u001b[0;32m    265\u001b[0m                 self.log_marginal_likelihood(self.kernel_.theta,\n\u001b[1;32m--> 266\u001b[1;33m                                              clone_kernel=False)\n\u001b[0m\u001b[0;32m    267\u001b[0m \u001b[1;33m\u001b[0m\u001b[0m\n\u001b[0;32m    268\u001b[0m         \u001b[1;31m# Precompute quantities required for predictions which are independent\u001b[0m\u001b[1;33m\u001b[0m\u001b[1;33m\u001b[0m\u001b[1;33m\u001b[0m\u001b[0m\n",
      "\u001b[1;32mc:\\python\\lib\\site-packages\\sklearn\\gaussian_process\\_gpr.py\u001b[0m in \u001b[0;36mlog_marginal_likelihood\u001b[1;34m(self, theta, eval_gradient, clone_kernel)\u001b[0m\n\u001b[0;32m    462\u001b[0m             \u001b[0mK\u001b[0m\u001b[1;33m,\u001b[0m \u001b[0mK_gradient\u001b[0m \u001b[1;33m=\u001b[0m \u001b[0mkernel\u001b[0m\u001b[1;33m(\u001b[0m\u001b[0mself\u001b[0m\u001b[1;33m.\u001b[0m\u001b[0mX_train_\u001b[0m\u001b[1;33m,\u001b[0m \u001b[0meval_gradient\u001b[0m\u001b[1;33m=\u001b[0m\u001b[1;32mTrue\u001b[0m\u001b[1;33m)\u001b[0m\u001b[1;33m\u001b[0m\u001b[1;33m\u001b[0m\u001b[0m\n\u001b[0;32m    463\u001b[0m         \u001b[1;32melse\u001b[0m\u001b[1;33m:\u001b[0m\u001b[1;33m\u001b[0m\u001b[1;33m\u001b[0m\u001b[0m\n\u001b[1;32m--> 464\u001b[1;33m             \u001b[0mK\u001b[0m \u001b[1;33m=\u001b[0m \u001b[0mkernel\u001b[0m\u001b[1;33m(\u001b[0m\u001b[0mself\u001b[0m\u001b[1;33m.\u001b[0m\u001b[0mX_train_\u001b[0m\u001b[1;33m)\u001b[0m\u001b[1;33m\u001b[0m\u001b[1;33m\u001b[0m\u001b[0m\n\u001b[0m\u001b[0;32m    465\u001b[0m \u001b[1;33m\u001b[0m\u001b[0m\n\u001b[0;32m    466\u001b[0m         \u001b[0mK\u001b[0m\u001b[1;33m[\u001b[0m\u001b[0mnp\u001b[0m\u001b[1;33m.\u001b[0m\u001b[0mdiag_indices_from\u001b[0m\u001b[1;33m(\u001b[0m\u001b[0mK\u001b[0m\u001b[1;33m)\u001b[0m\u001b[1;33m]\u001b[0m \u001b[1;33m+=\u001b[0m \u001b[0mself\u001b[0m\u001b[1;33m.\u001b[0m\u001b[0malpha\u001b[0m\u001b[1;33m\u001b[0m\u001b[1;33m\u001b[0m\u001b[0m\n",
      "\u001b[1;32mc:\\python\\lib\\site-packages\\sklearn\\gaussian_process\\kernels.py\u001b[0m in \u001b[0;36m__call__\u001b[1;34m(self, X, Y, eval_gradient)\u001b[0m\n\u001b[0;32m    915\u001b[0m                                        K2_gradient * K1[:, :, np.newaxis]))\n\u001b[0;32m    916\u001b[0m         \u001b[1;32melse\u001b[0m\u001b[1;33m:\u001b[0m\u001b[1;33m\u001b[0m\u001b[1;33m\u001b[0m\u001b[0m\n\u001b[1;32m--> 917\u001b[1;33m             \u001b[1;32mreturn\u001b[0m \u001b[0mself\u001b[0m\u001b[1;33m.\u001b[0m\u001b[0mk1\u001b[0m\u001b[1;33m(\u001b[0m\u001b[0mX\u001b[0m\u001b[1;33m,\u001b[0m \u001b[0mY\u001b[0m\u001b[1;33m)\u001b[0m \u001b[1;33m*\u001b[0m \u001b[0mself\u001b[0m\u001b[1;33m.\u001b[0m\u001b[0mk2\u001b[0m\u001b[1;33m(\u001b[0m\u001b[0mX\u001b[0m\u001b[1;33m,\u001b[0m \u001b[0mY\u001b[0m\u001b[1;33m)\u001b[0m\u001b[1;33m\u001b[0m\u001b[1;33m\u001b[0m\u001b[0m\n\u001b[0m\u001b[0;32m    918\u001b[0m \u001b[1;33m\u001b[0m\u001b[0m\n\u001b[0;32m    919\u001b[0m     \u001b[1;32mdef\u001b[0m \u001b[0mdiag\u001b[0m\u001b[1;33m(\u001b[0m\u001b[0mself\u001b[0m\u001b[1;33m,\u001b[0m \u001b[0mX\u001b[0m\u001b[1;33m)\u001b[0m\u001b[1;33m:\u001b[0m\u001b[1;33m\u001b[0m\u001b[1;33m\u001b[0m\u001b[0m\n",
      "\u001b[1;32mc:\\python\\lib\\site-packages\\sklearn\\gaussian_process\\kernels.py\u001b[0m in \u001b[0;36m__call__\u001b[1;34m(self, X, Y, eval_gradient)\u001b[0m\n\u001b[0;32m   1488\u001b[0m         \u001b[1;32mif\u001b[0m \u001b[0mY\u001b[0m \u001b[1;32mis\u001b[0m \u001b[1;32mNone\u001b[0m\u001b[1;33m:\u001b[0m\u001b[1;33m\u001b[0m\u001b[1;33m\u001b[0m\u001b[0m\n\u001b[0;32m   1489\u001b[0m             \u001b[0mdists\u001b[0m \u001b[1;33m=\u001b[0m \u001b[0mpdist\u001b[0m\u001b[1;33m(\u001b[0m\u001b[0mX\u001b[0m \u001b[1;33m/\u001b[0m \u001b[0mlength_scale\u001b[0m\u001b[1;33m,\u001b[0m \u001b[0mmetric\u001b[0m\u001b[1;33m=\u001b[0m\u001b[1;34m'sqeuclidean'\u001b[0m\u001b[1;33m)\u001b[0m\u001b[1;33m\u001b[0m\u001b[1;33m\u001b[0m\u001b[0m\n\u001b[1;32m-> 1490\u001b[1;33m             \u001b[0mK\u001b[0m \u001b[1;33m=\u001b[0m \u001b[0mnp\u001b[0m\u001b[1;33m.\u001b[0m\u001b[0mexp\u001b[0m\u001b[1;33m(\u001b[0m\u001b[1;33m-\u001b[0m\u001b[1;36m.5\u001b[0m \u001b[1;33m*\u001b[0m \u001b[0mdists\u001b[0m\u001b[1;33m)\u001b[0m\u001b[1;33m\u001b[0m\u001b[1;33m\u001b[0m\u001b[0m\n\u001b[0m\u001b[0;32m   1491\u001b[0m             \u001b[1;31m# convert from upper-triangular matrix to square matrix\u001b[0m\u001b[1;33m\u001b[0m\u001b[1;33m\u001b[0m\u001b[1;33m\u001b[0m\u001b[0m\n\u001b[0;32m   1492\u001b[0m             \u001b[0mK\u001b[0m \u001b[1;33m=\u001b[0m \u001b[0msquareform\u001b[0m\u001b[1;33m(\u001b[0m\u001b[0mK\u001b[0m\u001b[1;33m)\u001b[0m\u001b[1;33m\u001b[0m\u001b[1;33m\u001b[0m\u001b[0m\n",
      "\u001b[1;31mMemoryError\u001b[0m: Unable to allocate 1.20 GiB for an array with shape (161128176,) and data type float64"
     ]
    }
   ],
   "source": [
    "GRReg = GaussianProcessRegressor()\n",
    "get_score(GRReg, X_train, X_test, y_train, y_test)"
   ]
  },
  {
   "cell_type": "markdown",
   "id": "fda3c332",
   "metadata": {},
   "source": [
    "### Decision Tree Regression"
   ]
  },
  {
   "cell_type": "code",
   "execution_count": 170,
   "id": "40cf22ac",
   "metadata": {},
   "outputs": [
    {
     "data": {
      "text/plain": [
       "70.17"
      ]
     },
     "execution_count": 170,
     "metadata": {},
     "output_type": "execute_result"
    }
   ],
   "source": [
    "DtReg = DecisionTreeRegressor(random_state = 0) \n",
    "get_score(DtReg, X_train, X_test, y_train, y_test)"
   ]
  },
  {
   "cell_type": "code",
   "execution_count": 244,
   "id": "6dfb4dae",
   "metadata": {},
   "outputs": [],
   "source": [
    "# Visualise the Decision Tree Regression by creating range of values from min value of X_train to max value of X_train  \n",
    "# having a difference of 0.01 between two consecutive values\n",
    "# X_val = np.arange(min(X_train), max(X_train), 0.01) \n",
    "  \n",
    "# #Reshape the data into a len(X_val)*1 array in order to make a column out of the X_val values \n",
    "# X_val = X_val.reshape((len(X_val), 1))  \n",
    "\n",
    "# plt.scatter(X_train, y_train, color = 'blue') \n",
    "# plt.plot(X_val, DtReg.predict(X_val), color = 'red') \n",
    "# plt.title('Height prediction using Decision Tree Regression') \n",
    "# plt.xlabel('Age')  \n",
    "# plt.ylabel('Height')\n",
    "# plt.figure(figsize=(1,1))\n",
    "# plt.show() "
   ]
  },
  {
   "cell_type": "code",
   "execution_count": 301,
   "id": "8a31d145",
   "metadata": {},
   "outputs": [],
   "source": [
    "from sklearn.tree import export_graphviz \n",
    "from sklearn import tree\n",
    "  \n",
    "tree.export_graphviz(DtReg, out_file ='dtregression.dot', \n",
    "               feature_names =['Item','Month', 'Year']\n",
    "#                class_names = sorted(y_train.unique()), \n",
    "#                 label = 'all', \n",
    "#                 rounded = True,\n",
    "#                 filled = True\n",
    "               ) "
   ]
  },
  {
   "cell_type": "markdown",
   "id": "35130719",
   "metadata": {},
   "source": [
    "### Random Forest Regression"
   ]
  },
  {
   "cell_type": "code",
   "execution_count": 171,
   "id": "1c54a5b1",
   "metadata": {},
   "outputs": [
    {
     "data": {
      "text/plain": [
       "80.51"
      ]
     },
     "execution_count": 171,
     "metadata": {},
     "output_type": "execute_result"
    }
   ],
   "source": [
    "RFReg = RandomForestRegressor(n_estimators = 40)\n",
    "get_score(RFReg, X_train, X_test, y_train, y_test)"
   ]
  },
  {
   "cell_type": "code",
   "execution_count": null,
   "id": "1d561cd2",
   "metadata": {},
   "outputs": [
    {
     "name": "stdout",
     "output_type": "stream",
     "text": [
      "n_estimators =  10 ,  r2_score =  79.95  %\n",
      "n_estimators =  20 ,  r2_score =  80.37  %\n",
      "n_estimators =  30 ,  r2_score =  80.38  %\n",
      "n_estimators =  40 ,  r2_score =  80.88  %\n",
      "n_estimators =  45 ,  r2_score =  80.69  %\n",
      "n_estimators =  50 ,  r2_score =  80.63  %\n",
      "n_estimators =  55 ,  r2_score =  80.76  %\n",
      "n_estimators =  60 ,  r2_score =  80.77  %\n",
      "n_estimators =  70 ,  r2_score =  80.6  %\n",
      "n_estimators =  80 ,  r2_score =  80.65  %\n",
      "n_estimators =  90 ,  r2_score =  80.86  %\n",
      "n_estimators =  100 ,  r2_score =  80.68  %\n",
      "n_estimators =  200 ,  r2_score =  80.85  %\n"
     ]
    }
   ],
   "source": [
    "n_estimators = [10,20,30,40,45,50,55,60,70,80,90,100,200,300,400,500]\n",
    "Acc = np.zeros(16)\n",
    "\n",
    "index=0\n",
    "for n in n_estimators:\n",
    "    RFReg = RandomForestRegressor(n_estimators = n) \n",
    "    Acc[index] = get_score(RFReg, X_train, X_test, y_train, y_test)\n",
    "    print('n_estimators = ', n, ',  r2_score = ', Acc[index], ' %')\n",
    "    index += 1\n",
    "\n",
    "plt.plot(n_neighbors, Acc, 'bv--')\n",
    "plt.legend(['r2_score'])\n",
    "plt.xlabel('n_estimators')\n",
    "plt.ylabel('r2_score')"
   ]
  },
  {
   "cell_type": "markdown",
   "id": "eff7974d",
   "metadata": {},
   "source": [
    "### K-Neighbors Regressor"
   ]
  },
  {
   "cell_type": "code",
   "execution_count": 114,
   "id": "684999ac",
   "metadata": {},
   "outputs": [
    {
     "data": {
      "text/plain": [
       "80.88"
      ]
     },
     "execution_count": 114,
     "metadata": {},
     "output_type": "execute_result"
    }
   ],
   "source": [
    "KNReg = KNeighborsRegressor(n_neighbors=5) \n",
    "get_score(KNReg, X_train, X_test, y_train, y_test)"
   ]
  },
  {
   "cell_type": "code",
   "execution_count": 37,
   "id": "ddc9a665",
   "metadata": {
    "scrolled": true
   },
   "outputs": [
    {
     "name": "stdout",
     "output_type": "stream",
     "text": [
      "n_neighbors =  2 , Training r2_score =  88.07 , Testing r2_score =  68.83 , Diff =  1923.9999999999995  %\n",
      "n_neighbors =  3 , Training r2_score =  86.14 , Testing r2_score =  71.94 , Diff =  1420.0000000000002  %\n",
      "n_neighbors =  4 , Training r2_score =  83.98 , Testing r2_score =  67.61 , Diff =  1637.0000000000005  %\n",
      "n_neighbors =  5 , Training r2_score =  79.98 , Testing r2_score =  60.8 , Diff =  1918.0000000000007  %\n",
      "n_neighbors =  6 , Training r2_score =  73.31 , Testing r2_score =  54.18 , Diff =  1913.0000000000002  %\n",
      "n_neighbors =  7 , Training r2_score =  66.67 , Testing r2_score =  48.78 , Diff =  1789.0  %\n",
      "n_neighbors =  8 , Training r2_score =  61.06 , Testing r2_score =  44.22 , Diff =  1684.0000000000005  %\n",
      "n_neighbors =  9 , Training r2_score =  56.08 , Testing r2_score =  40.59 , Diff =  1548.9999999999995  %\n",
      "n_neighbors =  10 , Training r2_score =  51.96 , Testing r2_score =  37.07 , Diff =  1489.0  %\n"
     ]
    },
    {
     "data": {
      "text/plain": [
       "Text(0, 0.5, 'r2_score')"
      ]
     },
     "execution_count": 37,
     "metadata": {},
     "output_type": "execute_result"
    },
    {
     "data": {
      "image/png": "[encoded data removed]",
      "text/plain": [
       "<Figure size 432x288 with 1 Axes>"
      ]
     },
     "metadata": {
      "needs_background": "light"
     },
     "output_type": "display_data"
    }
   ],
   "source": [
    "n_neighbors = [2,3,4,5,6,7,8,9,10]\n",
    "trainAcc = np.zeros(9)\n",
    "testAcc = np.zeros(9)\n",
    "\n",
    "index=0\n",
    "for n in n_neighbors:\n",
    "    KNReg = KNeighborsRegressor(n_neighbors=n) \n",
    "    KNReg = KNReg.fit(X_train, y_train)\n",
    "    score_train = KNReg.score(X_train, y_train)\n",
    "    trainAcc[index] = round(score_train*100,2) # get_score(KNReg, X_train, X_test, y_train, y_test)\n",
    "    score_test = KNReg.score(X_test, y_test)\n",
    "    testAcc[index] = round(score_test*100,2)\n",
    "    print('n_neighbors = ', n, ', Training r2_score = ', trainAcc[index], ', Testing r2_score = ', testAcc[index],\n",
    "         ', Diff = ', np.abs((trainAcc[index]-testAcc[index])*100), ' %')\n",
    "    index += 1\n",
    "\n",
    "plt.plot(n_neighbors, trainAcc, 'ro-', n_neighbors, testAcc, 'bv--')\n",
    "plt.legend(['Training r2_score', 'Test r2_score'])\n",
    "plt.xlabel('n_neighbors')\n",
    "plt.ylabel('r2_score')"
   ]
  },
  {
   "cell_type": "markdown",
   "id": "39330f33",
   "metadata": {},
   "source": [
    "### Support Vector Regression"
   ]
  },
  {
   "cell_type": "code",
   "execution_count": 99,
   "id": "aeed7bde",
   "metadata": {},
   "outputs": [
    {
     "data": {
      "text/plain": [
       "-3.49"
      ]
     },
     "execution_count": 99,
     "metadata": {},
     "output_type": "execute_result"
    }
   ],
   "source": [
    "svr = SVR()\n",
    "get_score(svr, X_train, X_test, y_train, y_test)"
   ]
  },
  {
   "cell_type": "code",
   "execution_count": 120,
   "id": "61bf898f",
   "metadata": {},
   "outputs": [
    {
     "name": "stdout",
     "output_type": "stream",
     "text": [
      "kernel =  linear , Training accuracy =  -3.4 , Testing accuracy =  -3.7 , Diff =  30.00000000000003  %\n",
      "kernel =  poly , Training accuracy =  -3.4 , Testing accuracy =  -3.7 , Diff =  30.00000000000003  %\n",
      "kernel =  rbf , Training accuracy =  -3.4 , Testing accuracy =  -3.7 , Diff =  30.00000000000003  %\n",
      "kernel =  sigmoid , Training accuracy =  -3.4 , Testing accuracy =  -3.7 , Diff =  30.00000000000003  %\n",
      "kernel =  precomputed , Training accuracy =  -3.4 , Testing accuracy =  -3.7 , Diff =  30.00000000000003  %\n"
     ]
    },
    {
     "data": {
      "text/plain": [
       "Text(0, 0.5, 'Accuracy')"
      ]
     },
     "execution_count": 120,
     "metadata": {},
     "output_type": "execute_result"
    },
    {
     "data": {
      "image/png": "[encoded data removed]",
      "text/plain": [
       "<Figure size 432x288 with 1 Axes>"
      ]
     },
     "metadata": {
      "needs_background": "light"
     },
     "output_type": "display_data"
    }
   ],
   "source": [
    "# maxdepths = [2,3,4,5,6,7,8,9,10,15,20,30,35,40,45,50]\n",
    "kernel = ['linear', 'poly', 'rbf', 'sigmoid', 'precomputed']\n",
    "trainAcc = np.zeros(5)\n",
    "testAcc = np.zeros(5)\n",
    "\n",
    "index=0\n",
    "for k in kernel:\n",
    "    svr = SVR()\n",
    "    svr = svr.fit(X_train, y_train)\n",
    "    score_train = svr.score(X_train, y_train)\n",
    "    trainAcc[index] = round(score_train*100,2)\n",
    "    score_test = svr.score(X_test, y_test)\n",
    "    testAcc[index] = round(score_test*100,2)\n",
    "    print('kernel = ', k, ', Training accuracy = ', trainAcc[index], ', Testing accuracy = ', testAcc[index],\n",
    "         ', Diff = ', np.abs((trainAcc[index]-testAcc[index])*100), ' %')\n",
    "    index += 1\n",
    "\n",
    "kernel = ['linear' , 'poly', 'rbf', 'sigmoid', 'precomputed']\n",
    "kernel_df = pd.DataFrame(list(kernel), columns=['kernel'])\n",
    "kn = kernel_df['kernel']\n",
    "kn = kn.map({'linear': 0, 'poly' :1, 'rbf' :2, 'sigmoid' :3, 'precomputed' :4})\n",
    "\n",
    "plt.plot(kn, trainAcc, 'ro-', kn, testAcc, 'bv--')\n",
    "plt.legend(['Training Accuracy', 'Test Accuracy'])\n",
    "plt.xlabel('kernel')\n",
    "plt.ylabel('Accuracy')"
   ]
  },
  {
   "cell_type": "markdown",
   "id": "fc33fda2",
   "metadata": {},
   "source": [
    "### XGB Regressor"
   ]
  },
  {
   "cell_type": "code",
   "execution_count": 100,
   "id": "411e0ffb",
   "metadata": {},
   "outputs": [
    {
     "data": {
      "text/plain": [
       "82.78"
      ]
     },
     "execution_count": 100,
     "metadata": {},
     "output_type": "execute_result"
    }
   ],
   "source": [
    "xgb = XGBRegressor()\n",
    "get_score(xgb, X_train, X_test, y_train, y_test)"
   ]
  },
  {
   "cell_type": "markdown",
   "id": "8c6ac93d",
   "metadata": {},
   "source": [
    "### Gradient Boosting Regressor"
   ]
  },
  {
   "cell_type": "code",
   "execution_count": 101,
   "id": "0f37bd90",
   "metadata": {},
   "outputs": [
    {
     "data": {
      "text/plain": [
       "59.92"
      ]
     },
     "execution_count": 101,
     "metadata": {},
     "output_type": "execute_result"
    }
   ],
   "source": [
    "gbr = GradientBoostingRegressor()\n",
    "get_score(gbr, X_train, X_test, y_train, y_test)"
   ]
  },
  {
   "cell_type": "markdown",
   "id": "37399baa",
   "metadata": {},
   "source": [
    "### Robust Regression — RANSAC"
   ]
  },
  {
   "cell_type": "code",
   "execution_count": 102,
   "id": "5c9d769c",
   "metadata": {},
   "outputs": [
    {
     "data": {
      "text/plain": [
       "45.16"
      ]
     },
     "execution_count": 102,
     "metadata": {},
     "output_type": "execute_result"
    }
   ],
   "source": [
    "ransac = RANSACRegressor()\n",
    "get_score(ransac, X_train, X_test, y_train, y_test)"
   ]
  },
  {
   "cell_type": "markdown",
   "id": "1ee0c95b",
   "metadata": {},
   "source": [
    "### Neural Network Regression"
   ]
  },
  {
   "cell_type": "code",
   "execution_count": 103,
   "id": "518d2e43",
   "metadata": {},
   "outputs": [],
   "source": [
    "from keras.models import Sequential\n",
    "from keras.layers import Dense\n",
    "from keras.wrappers.scikit_learn import KerasRegressor\n",
    "\n",
    "import tensorflow as tf"
   ]
  },
  {
   "cell_type": "code",
   "execution_count": 105,
   "id": "8de91ace",
   "metadata": {},
   "outputs": [],
   "source": [
    "# define the model\n",
    "#Experiment with deeper and wider networks\n",
    "model = Sequential()\n",
    "model.add(Dense(200, input_dim=265, activation='relu'))\n",
    "model.add(Dense(100, activation='relu'))\n",
    "#Output layer\n",
    "model.add(Dense(1, activation='linear'))"
   ]
  },
  {
   "cell_type": "code",
   "execution_count": 106,
   "id": "dbeca1de",
   "metadata": {},
   "outputs": [
    {
     "name": "stdout",
     "output_type": "stream",
     "text": [
      "Model: \"sequential\"\n",
      "_________________________________________________________________\n",
      "Layer (type)                 Output Shape              Param #   \n",
      "=================================================================\n",
      "dense (Dense)                (None, 200)               53200     \n",
      "_________________________________________________________________\n",
      "dense_1 (Dense)              (None, 100)               20100     \n",
      "_________________________________________________________________\n",
      "dense_2 (Dense)              (None, 1)                 101       \n",
      "=================================================================\n",
      "Total params: 73,401\n",
      "Trainable params: 73,401\n",
      "Non-trainable params: 0\n",
      "_________________________________________________________________\n"
     ]
    }
   ],
   "source": [
    "model.compile(loss='mean_squared_error', optimizer='adam', metrics=['mae'])\n",
    "model.summary()"
   ]
  },
  {
   "cell_type": "code",
   "execution_count": 107,
   "id": "38c54798",
   "metadata": {},
   "outputs": [
    {
     "data": {
      "text/plain": [
       "<tf.Tensor: shape=(17952,), dtype=float64, numpy=array([ 5151.  ,  8845.  ,  4336.  , ..., 12040.  ,  1640.25,  2457.  ])>"
      ]
     },
     "execution_count": 107,
     "metadata": {},
     "output_type": "execute_result"
    }
   ],
   "source": [
    "X_train_tensor = tf.convert_to_tensor(X_train)\n",
    "X_train_tensor\n",
    "y = y_train.astype('float64')\n",
    "y_train_tensor = tf.convert_to_tensor(y)\n",
    "y_train_tensor"
   ]
  },
  {
   "cell_type": "code",
   "execution_count": 108,
   "id": "2c97f123",
   "metadata": {
    "scrolled": true
   },
   "outputs": [
    {
     "name": "stdout",
     "output_type": "stream",
     "text": [
      "Epoch 1/10\n",
      "449/449 [==============================] - 3s 2ms/step - loss: 15158861.0000 - mae: 2975.6704 - val_loss: 8372359.0000 - val_mae: 2086.1619\n",
      "Epoch 2/10\n",
      "449/449 [==============================] - 1s 2ms/step - loss: 7110586.0000 - mae: 1867.5312 - val_loss: 5803086.0000 - val_mae: 1626.6560\n",
      "Epoch 3/10\n",
      "449/449 [==============================] - 1s 2ms/step - loss: 4448821.0000 - mae: 1390.3098 - val_loss: 3393653.7500 - val_mae: 1179.4673\n",
      "Epoch 4/10\n",
      "449/449 [==============================] - ETA: 0s - loss: 2578004.0000 - mae: 1018.96 - 1s 2ms/step - loss: 2563598.5000 - mae: 1016.1181 - val_loss: 1958889.1250 - val_mae: 885.7416\n",
      "Epoch 5/10\n",
      "449/449 [==============================] - 1s 2ms/step - loss: 1575214.1250 - mae: 803.1557 - val_loss: 1346254.7500 - val_mae: 769.0193\n",
      "Epoch 6/10\n",
      "449/449 [==============================] - 1s 2ms/step - loss: 1201513.6250 - mae: 737.3986 - val_loss: 1118459.0000 - val_mae: 730.8217\n",
      "Epoch 7/10\n",
      "449/449 [==============================] - 1s 2ms/step - loss: 1066971.2500 - mae: 715.3523 - val_loss: 1024376.5000 - val_mae: 712.0198\n",
      "Epoch 8/10\n",
      "449/449 [==============================] - 1s 2ms/step - loss: 1014046.0625 - mae: 705.3796 - val_loss: 1011332.8750 - val_mae: 715.9451\n",
      "Epoch 9/10\n",
      "449/449 [==============================] - 1s 2ms/step - loss: 993011.3125 - mae: 701.6124 - val_loss: 975259.9375 - val_mae: 704.7393\n",
      "Epoch 10/10\n",
      "449/449 [==============================] - 1s 2ms/step - loss: 986664.8750 - mae: 700.7471 - val_loss: 988984.3125 - val_mae: 710.5003\n"
     ]
    }
   ],
   "source": [
    "history = model.fit(X_train_tensor, y_train_tensor, validation_split=0.2, epochs =10)"
   ]
  },
  {
   "cell_type": "code",
   "execution_count": 110,
   "id": "54c496da",
   "metadata": {},
   "outputs": [
    {
     "data": {
      "image/png": "[encoded data removed]",
      "text/plain": [
       "<Figure size 432x288 with 1 Axes>"
      ]
     },
     "metadata": {
      "needs_background": "light"
     },
     "output_type": "display_data"
    }
   ],
   "source": [
    "loss = history.history['loss']\n",
    "val_loss = history.history['val_loss']\n",
    "epochs = range(1, len(loss) + 1)\n",
    "plt.plot(epochs, loss, 'y', label='Training loss')\n",
    "plt.plot(epochs, val_loss, 'r', label='Testing loss')\n",
    "plt.title('Training and Testing loss')\n",
    "plt.xlabel('Epochs')\n",
    "plt.ylabel('Loss')\n",
    "plt.legend()\n",
    "plt.show()"
   ]
  },
  {
   "cell_type": "code",
   "execution_count": 111,
   "id": "31f805ca",
   "metadata": {},
   "outputs": [
    {
     "data": {
      "image/png": "[encoded data removed]",
      "text/plain": [
       "<Figure size 432x288 with 1 Axes>"
      ]
     },
     "metadata": {
      "needs_background": "light"
     },
     "output_type": "display_data"
    }
   ],
   "source": [
    "acc = history.history['loss'] # mean_absolute_error\n",
    "val_acc = history.history['loss'] # val_mean_absolute_error\n",
    "plt.plot(epochs, acc, 'y', label='Training MAE')\n",
    "plt.plot(epochs, val_acc, 'r', label='Testing MAE')\n",
    "plt.title('Training and Testing MAE')\n",
    "plt.xlabel('Epochs')\n",
    "plt.ylabel('Accuracy')\n",
    "plt.legend()\n",
    "plt.show()"
   ]
  },
  {
   "cell_type": "code",
   "execution_count": null,
   "id": "7fbb9922",
   "metadata": {},
   "outputs": [],
   "source": []
  }
 ],
 "metadata": {
  "kernelspec": {
   "display_name": "Python 3 (ipykernel)",
   "language": "python",
   "name": "python3"
  },
  "language_info": {
   "codemirror_mode": {
    "name": "ipython",
    "version": 3
   },
   "file_extension": ".py",
   "mimetype": "text/x-python",
   "name": "python",
   "nbconvert_exporter": "python",
   "pygments_lexer": "ipython3",
   "version": "3.7.8"
  }
 },
 "nbformat": 4,
 "nbformat_minor": 5
}
