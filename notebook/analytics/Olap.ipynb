{
 "cells": [
  {
   "cell_type": "markdown",
   "id": "37891794",
   "metadata": {},
   "source": [
    "### Import Required libraries"
   ]
  },
  {
   "cell_type": "code",
   "execution_count": 1,
   "id": "11018a07",
   "metadata": {},
   "outputs": [],
   "source": [
    "import psycopg2\n",
    "import pandas as pd\n",
    "import psycopg2.extras\n",
    "import pandas.io.sql as sqlio\n",
    "\n",
    "import warnings\n",
    "warnings.filterwarnings('ignore')"
   ]
  },
  {
   "cell_type": "code",
   "execution_count": 2,
   "id": "e333fd92",
   "metadata": {},
   "outputs": [],
   "source": [
    "import matplotlib.pyplot as plt"
   ]
  },
  {
   "cell_type": "markdown",
   "id": "3ee87ca9",
   "metadata": {},
   "source": [
    "## DataBase Connection"
   ]
  },
  {
   "cell_type": "code",
   "execution_count": 3,
   "id": "6848582a",
   "metadata": {},
   "outputs": [],
   "source": [
    "class PostgresConnection(object):\n",
    "    def __init__(self):\n",
    "        self.connection = psycopg2.connect(database=\"ecomdb\",\n",
    "                                           user = \"postgres\",\n",
    "                                           password = \"afra1234\",\n",
    "                                           host = \"127.0.0.1\",\n",
    "                                           port = \"5432\")\n",
    "\n",
    "    def getConnection(self):\n",
    "        print(\"successfully connected to database\")\n",
    "        return self.connection"
   ]
  },
  {
   "cell_type": "code",
   "execution_count": 4,
   "id": "8d7dba16",
   "metadata": {},
   "outputs": [
    {
     "name": "stdout",
     "output_type": "stream",
     "text": [
      "successfully connected to database\n"
     ]
    }
   ],
   "source": [
    "con = PostgresConnection().getConnection()"
   ]
  },
  {
   "cell_type": "code",
   "execution_count": 5,
   "id": "1f73b55f",
   "metadata": {},
   "outputs": [
    {
     "name": "stdout",
     "output_type": "stream",
     "text": [
      "successfully connected to database\n"
     ]
    }
   ],
   "source": [
    "conn = psycopg2.connect(database=\"ecomdb\",\n",
    "                                           user = \"postgres\",\n",
    "                                           password = \"afra1234\",\n",
    "                                           host = \"127.0.0.1\",\n",
    "                                           port = \"5432\")\n",
    "print(\"successfully connected to database\")"
   ]
  },
  {
   "cell_type": "markdown",
   "id": "e9decf9f",
   "metadata": {},
   "source": [
    "## Simple CUBE query"
   ]
  },
  {
   "cell_type": "markdown",
   "id": "e978fe6c",
   "metadata": {},
   "source": [
    "### Q1: Find the division/district/year/month wise total_sale_price joining fact table and respective dimension table"
   ]
  },
  {
   "cell_type": "markdown",
   "id": "f7eaed42",
   "metadata": {},
   "source": [
    "***Total_sale_price By Division Wise***"
   ]
  },
  {
   "cell_type": "code",
   "execution_count": 6,
   "id": "bf65a65a",
   "metadata": {},
   "outputs": [
    {
     "data": {
      "text/html": [
       "<div>\n",
       "<style scoped>\n",
       "    .dataframe tbody tr th:only-of-type {\n",
       "        vertical-align: middle;\n",
       "    }\n",
       "\n",
       "    .dataframe tbody tr th {\n",
       "        vertical-align: top;\n",
       "    }\n",
       "\n",
       "    .dataframe thead th {\n",
       "        text-align: right;\n",
       "    }\n",
       "</style>\n",
       "<table border=\"1\" class=\"dataframe\">\n",
       "  <thead>\n",
       "    <tr style=\"text-align: right;\">\n",
       "      <th></th>\n",
       "      <th>division</th>\n",
       "      <th>item_key</th>\n",
       "      <th>total_sales_price</th>\n",
       "    </tr>\n",
       "  </thead>\n",
       "  <tbody>\n",
       "    <tr>\n",
       "      <th>0</th>\n",
       "      <td>BARISAL</td>\n",
       "      <td>I00095</td>\n",
       "      <td>24880.0</td>\n",
       "    </tr>\n",
       "    <tr>\n",
       "      <th>1</th>\n",
       "      <td>BARISAL</td>\n",
       "      <td>I00173</td>\n",
       "      <td>30096.0</td>\n",
       "    </tr>\n",
       "    <tr>\n",
       "      <th>2</th>\n",
       "      <td>BARISAL</td>\n",
       "      <td>I00006</td>\n",
       "      <td>25480.00</td>\n",
       "    </tr>\n",
       "    <tr>\n",
       "      <th>3</th>\n",
       "      <td>BARISAL</td>\n",
       "      <td>I00223</td>\n",
       "      <td>22396.5</td>\n",
       "    </tr>\n",
       "    <tr>\n",
       "      <th>4</th>\n",
       "      <td>BARISAL</td>\n",
       "      <td>I00043</td>\n",
       "      <td>41472.0</td>\n",
       "    </tr>\n",
       "    <tr>\n",
       "      <th>5</th>\n",
       "      <td>BARISAL</td>\n",
       "      <td>I00088</td>\n",
       "      <td>28611.0</td>\n",
       "    </tr>\n",
       "    <tr>\n",
       "      <th>6</th>\n",
       "      <td>BARISAL</td>\n",
       "      <td>I00250</td>\n",
       "      <td>29425.5</td>\n",
       "    </tr>\n",
       "    <tr>\n",
       "      <th>7</th>\n",
       "      <td>BARISAL</td>\n",
       "      <td>I00110</td>\n",
       "      <td>37462.5</td>\n",
       "    </tr>\n",
       "    <tr>\n",
       "      <th>8</th>\n",
       "      <td>BARISAL</td>\n",
       "      <td>I00199</td>\n",
       "      <td>26670.0</td>\n",
       "    </tr>\n",
       "    <tr>\n",
       "      <th>9</th>\n",
       "      <td>BARISAL</td>\n",
       "      <td>I00139</td>\n",
       "      <td>35328.0</td>\n",
       "    </tr>\n",
       "  </tbody>\n",
       "</table>\n",
       "</div>"
      ],
      "text/plain": [
       "  division item_key total_sales_price\n",
       "0  BARISAL   I00095           24880.0\n",
       "1  BARISAL   I00173           30096.0\n",
       "2  BARISAL   I00006          25480.00\n",
       "3  BARISAL   I00223           22396.5\n",
       "4  BARISAL   I00043           41472.0\n",
       "5  BARISAL   I00088           28611.0\n",
       "6  BARISAL   I00250           29425.5\n",
       "7  BARISAL   I00110           37462.5\n",
       "8  BARISAL   I00199           26670.0\n",
       "9  BARISAL   I00139           35328.0"
      ]
     },
     "execution_count": 6,
     "metadata": {},
     "output_type": "execute_result"
    }
   ],
   "source": [
    "cur = con.cursor()\n",
    "select_stmt = \"SELECT  s.division, t.item_key, SUM(t.total_price) FROM ecom_schema.fact_table t JOIN ecom_schema.store_dim s on s.store_key = t.store_key GROUP BY CUBE(s.division, t.item_key) ORDER BY s.division ASC\"\n",
    "cur.execute(select_stmt)\n",
    "records = cur.fetchall()\n",
    "df = pd.DataFrame(list(records), columns=['division', 'item_key', 'total_sales_price'])\n",
    "df.head(10)"
   ]
  },
  {
   "cell_type": "code",
   "execution_count": 7,
   "id": "0787b60a",
   "metadata": {},
   "outputs": [
    {
     "name": "stdout",
     "output_type": "stream",
     "text": [
      "successfully connected to database\n"
     ]
    },
    {
     "data": {
      "text/plain": [
       "[('BARISAL', Decimal('7520343.75')),\n",
       " ('CHITTAGONG', Decimal('19763595.00')),\n",
       " ('DHAKA', Decimal('40764619.75')),\n",
       " ('KHULNA', Decimal('11311610.50')),\n",
       " ('RAJSHAHI', Decimal('12099196.00')),\n",
       " ('RANGPUR', Decimal('8429836.50')),\n",
       " ('SYLHET', Decimal('5512234.25')),\n",
       " (None, Decimal('105401435.75'))]"
      ]
     },
     "execution_count": 7,
     "metadata": {},
     "output_type": "execute_result"
    }
   ],
   "source": [
    "con = PostgresConnection().getConnection()\n",
    "\n",
    "cur = con.cursor()\n",
    "select_stmt = \"SELECT  s.division, SUM(t.total_price) \" \\\n",
    "        \"FROM ecom_schema.fact_table t \" \\\n",
    "        \"JOIN ecom_schema.store_dim s on s.store_key = t.store_key \" \\\n",
    "        \"GROUP BY CUBE(s.division)\" \\\n",
    "        \"ORDER BY s.division ASC\"\n",
    "cur.execute(select_stmt)\n",
    "records = cur.fetchall()\n",
    "records\n"
   ]
  },
  {
   "cell_type": "code",
   "execution_count": 8,
   "id": "e319c0b5",
   "metadata": {},
   "outputs": [
    {
     "data": {
      "text/html": [
       "<div>\n",
       "<style scoped>\n",
       "    .dataframe tbody tr th:only-of-type {\n",
       "        vertical-align: middle;\n",
       "    }\n",
       "\n",
       "    .dataframe tbody tr th {\n",
       "        vertical-align: top;\n",
       "    }\n",
       "\n",
       "    .dataframe thead th {\n",
       "        text-align: right;\n",
       "    }\n",
       "</style>\n",
       "<table border=\"1\" class=\"dataframe\">\n",
       "  <thead>\n",
       "    <tr style=\"text-align: right;\">\n",
       "      <th></th>\n",
       "      <th>Division</th>\n",
       "      <th>Total_sales</th>\n",
       "    </tr>\n",
       "  </thead>\n",
       "  <tbody>\n",
       "    <tr>\n",
       "      <th>0</th>\n",
       "      <td>BARISAL</td>\n",
       "      <td>7520343.75</td>\n",
       "    </tr>\n",
       "    <tr>\n",
       "      <th>1</th>\n",
       "      <td>CHITTAGONG</td>\n",
       "      <td>19763595.00</td>\n",
       "    </tr>\n",
       "    <tr>\n",
       "      <th>2</th>\n",
       "      <td>DHAKA</td>\n",
       "      <td>40764619.75</td>\n",
       "    </tr>\n",
       "    <tr>\n",
       "      <th>3</th>\n",
       "      <td>KHULNA</td>\n",
       "      <td>11311610.50</td>\n",
       "    </tr>\n",
       "    <tr>\n",
       "      <th>4</th>\n",
       "      <td>RAJSHAHI</td>\n",
       "      <td>12099196.00</td>\n",
       "    </tr>\n",
       "    <tr>\n",
       "      <th>5</th>\n",
       "      <td>RANGPUR</td>\n",
       "      <td>8429836.50</td>\n",
       "    </tr>\n",
       "    <tr>\n",
       "      <th>6</th>\n",
       "      <td>SYLHET</td>\n",
       "      <td>5512234.25</td>\n",
       "    </tr>\n",
       "    <tr>\n",
       "      <th>7</th>\n",
       "      <td>None</td>\n",
       "      <td>105401435.75</td>\n",
       "    </tr>\n",
       "  </tbody>\n",
       "</table>\n",
       "</div>"
      ],
      "text/plain": [
       "     Division   Total_sales\n",
       "0     BARISAL    7520343.75\n",
       "1  CHITTAGONG   19763595.00\n",
       "2       DHAKA   40764619.75\n",
       "3      KHULNA   11311610.50\n",
       "4    RAJSHAHI   12099196.00\n",
       "5     RANGPUR    8429836.50\n",
       "6      SYLHET    5512234.25\n",
       "7        None  105401435.75"
      ]
     },
     "execution_count": 8,
     "metadata": {},
     "output_type": "execute_result"
    }
   ],
   "source": [
    "df = pd.DataFrame(list(records), columns=['Division', 'Total_sales'])\n",
    "df.head(10)"
   ]
  },
  {
   "cell_type": "code",
   "execution_count": 9,
   "id": "a173eebf",
   "metadata": {},
   "outputs": [
    {
     "data": {
      "text/plain": [
       "Division       object\n",
       "Total_sales    object\n",
       "dtype: object"
      ]
     },
     "execution_count": 9,
     "metadata": {},
     "output_type": "execute_result"
    }
   ],
   "source": [
    "df.dtypes"
   ]
  },
  {
   "cell_type": "code",
   "execution_count": 10,
   "id": "495c3a14",
   "metadata": {},
   "outputs": [],
   "source": [
    "df['Total_sales'] = df['Total_sales'].astype('float64')"
   ]
  },
  {
   "cell_type": "code",
   "execution_count": 11,
   "id": "f4fc4878",
   "metadata": {},
   "outputs": [
    {
     "data": {
      "text/plain": [
       "Division        object\n",
       "Total_sales    float64\n",
       "dtype: object"
      ]
     },
     "execution_count": 11,
     "metadata": {},
     "output_type": "execute_result"
    }
   ],
   "source": [
    "df.dtypes"
   ]
  },
  {
   "cell_type": "code",
   "execution_count": null,
   "id": "82189847",
   "metadata": {},
   "outputs": [],
   "source": []
  },
  {
   "cell_type": "code",
   "execution_count": 13,
   "id": "a6ac094f",
   "metadata": {},
   "outputs": [],
   "source": [
    "df = df.set_index(['Division'])"
   ]
  },
  {
   "cell_type": "code",
   "execution_count": 14,
   "id": "2e727383",
   "metadata": {},
   "outputs": [
    {
     "data": {
      "image/png": "[encoded data removed]",
      "text/plain": [
       "<Figure size 360x360 with 1 Axes>"
      ]
     },
     "metadata": {},
     "output_type": "display_data"
    }
   ],
   "source": [
    "plot = df.plot.pie(y='Total_sales', figsize=(5, 5))"
   ]
  },
  {
   "cell_type": "markdown",
   "id": "461147d8",
   "metadata": {},
   "source": [
    "***Total_sale_price By District Wise***"
   ]
  },
  {
   "cell_type": "code",
   "execution_count": 17,
   "id": "047e85a6",
   "metadata": {},
   "outputs": [
    {
     "name": "stdout",
     "output_type": "stream",
     "text": [
      "successfully connected to database\n"
     ]
    },
    {
     "data": {
      "text/html": [
       "<div>\n",
       "<style scoped>\n",
       "    .dataframe tbody tr th:only-of-type {\n",
       "        vertical-align: middle;\n",
       "    }\n",
       "\n",
       "    .dataframe tbody tr th {\n",
       "        vertical-align: top;\n",
       "    }\n",
       "\n",
       "    .dataframe thead th {\n",
       "        text-align: right;\n",
       "    }\n",
       "</style>\n",
       "<table border=\"1\" class=\"dataframe\">\n",
       "  <thead>\n",
       "    <tr style=\"text-align: right;\">\n",
       "      <th></th>\n",
       "      <th>District</th>\n",
       "      <th>item_key</th>\n",
       "      <th>total_sales_price</th>\n",
       "    </tr>\n",
       "  </thead>\n",
       "  <tbody>\n",
       "    <tr>\n",
       "      <th>0</th>\n",
       "      <td>BAGERHAT</td>\n",
       "      <td>I00001</td>\n",
       "      <td>2863.5</td>\n",
       "    </tr>\n",
       "    <tr>\n",
       "      <th>1</th>\n",
       "      <td>BAGERHAT</td>\n",
       "      <td>I00002</td>\n",
       "      <td>1559.25</td>\n",
       "    </tr>\n",
       "    <tr>\n",
       "      <th>2</th>\n",
       "      <td>BAGERHAT</td>\n",
       "      <td>I00003</td>\n",
       "      <td>2362.50</td>\n",
       "    </tr>\n",
       "    <tr>\n",
       "      <th>3</th>\n",
       "      <td>BAGERHAT</td>\n",
       "      <td>I00004</td>\n",
       "      <td>2038.50</td>\n",
       "    </tr>\n",
       "    <tr>\n",
       "      <th>4</th>\n",
       "      <td>BAGERHAT</td>\n",
       "      <td>I00005</td>\n",
       "      <td>2058.75</td>\n",
       "    </tr>\n",
       "    <tr>\n",
       "      <th>5</th>\n",
       "      <td>BAGERHAT</td>\n",
       "      <td>I00006</td>\n",
       "      <td>4371.25</td>\n",
       "    </tr>\n",
       "    <tr>\n",
       "      <th>6</th>\n",
       "      <td>BAGERHAT</td>\n",
       "      <td>I00007</td>\n",
       "      <td>1707.75</td>\n",
       "    </tr>\n",
       "    <tr>\n",
       "      <th>7</th>\n",
       "      <td>BAGERHAT</td>\n",
       "      <td>I00008</td>\n",
       "      <td>5248.75</td>\n",
       "    </tr>\n",
       "    <tr>\n",
       "      <th>8</th>\n",
       "      <td>BAGERHAT</td>\n",
       "      <td>I00009</td>\n",
       "      <td>4598.75</td>\n",
       "    </tr>\n",
       "    <tr>\n",
       "      <th>9</th>\n",
       "      <td>BAGERHAT</td>\n",
       "      <td>I00010</td>\n",
       "      <td>2396.25</td>\n",
       "    </tr>\n",
       "  </tbody>\n",
       "</table>\n",
       "</div>"
      ],
      "text/plain": [
       "   District item_key total_sales_price\n",
       "0  BAGERHAT   I00001            2863.5\n",
       "1  BAGERHAT   I00002           1559.25\n",
       "2  BAGERHAT   I00003           2362.50\n",
       "3  BAGERHAT   I00004           2038.50\n",
       "4  BAGERHAT   I00005           2058.75\n",
       "5  BAGERHAT   I00006           4371.25\n",
       "6  BAGERHAT   I00007           1707.75\n",
       "7  BAGERHAT   I00008           5248.75\n",
       "8  BAGERHAT   I00009           4598.75\n",
       "9  BAGERHAT   I00010           2396.25"
      ]
     },
     "execution_count": 17,
     "metadata": {},
     "output_type": "execute_result"
    }
   ],
   "source": [
    "con = PostgresConnection().getConnection()\n",
    "\n",
    "cur = con.cursor()\n",
    "select_stmt = \"SELECT  s.district, t.item_key, SUM(t.total_price) \" \\\n",
    "        \"FROM ecom_schema.fact_table t \" \\\n",
    "        \"JOIN ecom_schema.store_dim s on s.store_key = t.store_key \" \\\n",
    "        \"GROUP BY CUBE(s.district, t.item_key)\" \\\n",
    "        \"ORDER BY s.district ASC\"  # Ascending order\n",
    "cur.execute(select_stmt)\n",
    "records = cur.fetchall()\n",
    "df = pd.DataFrame(list(records), columns=['District', 'item_key', 'total_sales_price'])\n",
    "df.head(10)"
   ]
  },
  {
   "cell_type": "markdown",
   "id": "0a488c90",
   "metadata": {},
   "source": [
    "***Total_sale_price By year Wise***"
   ]
  },
  {
   "cell_type": "code",
   "execution_count": 23,
   "id": "6a85a341",
   "metadata": {},
   "outputs": [
    {
     "name": "stdout",
     "output_type": "stream",
     "text": [
      "successfully connected to database\n"
     ]
    },
    {
     "data": {
      "text/html": [
       "<div>\n",
       "<style scoped>\n",
       "    .dataframe tbody tr th:only-of-type {\n",
       "        vertical-align: middle;\n",
       "    }\n",
       "\n",
       "    .dataframe tbody tr th {\n",
       "        vertical-align: top;\n",
       "    }\n",
       "\n",
       "    .dataframe thead th {\n",
       "        text-align: right;\n",
       "    }\n",
       "</style>\n",
       "<table border=\"1\" class=\"dataframe\">\n",
       "  <thead>\n",
       "    <tr style=\"text-align: right;\">\n",
       "      <th></th>\n",
       "      <th>month</th>\n",
       "      <th>total_sales_price</th>\n",
       "    </tr>\n",
       "  </thead>\n",
       "  <tbody>\n",
       "    <tr>\n",
       "      <th>0</th>\n",
       "      <td>None</td>\n",
       "      <td>105401435.75</td>\n",
       "    </tr>\n",
       "    <tr>\n",
       "      <th>1</th>\n",
       "      <td>2021</td>\n",
       "      <td>883772.25</td>\n",
       "    </tr>\n",
       "    <tr>\n",
       "      <th>2</th>\n",
       "      <td>2019</td>\n",
       "      <td>14949510.25</td>\n",
       "    </tr>\n",
       "    <tr>\n",
       "      <th>3</th>\n",
       "      <td>2018</td>\n",
       "      <td>15108197.25</td>\n",
       "    </tr>\n",
       "    <tr>\n",
       "      <th>4</th>\n",
       "      <td>2016</td>\n",
       "      <td>14976508.25</td>\n",
       "    </tr>\n",
       "    <tr>\n",
       "      <th>5</th>\n",
       "      <td>2014</td>\n",
       "      <td>14334731.25</td>\n",
       "    </tr>\n",
       "    <tr>\n",
       "      <th>6</th>\n",
       "      <td>2015</td>\n",
       "      <td>15095720.25</td>\n",
       "    </tr>\n",
       "    <tr>\n",
       "      <th>7</th>\n",
       "      <td>2017</td>\n",
       "      <td>15015806.00</td>\n",
       "    </tr>\n",
       "    <tr>\n",
       "      <th>8</th>\n",
       "      <td>2020</td>\n",
       "      <td>15037190.25</td>\n",
       "    </tr>\n",
       "  </tbody>\n",
       "</table>\n",
       "</div>"
      ],
      "text/plain": [
       "  month total_sales_price\n",
       "0  None      105401435.75\n",
       "1  2021         883772.25\n",
       "2  2019       14949510.25\n",
       "3  2018       15108197.25\n",
       "4  2016       14976508.25\n",
       "5  2014       14334731.25\n",
       "6  2015       15095720.25\n",
       "7  2017       15015806.00\n",
       "8  2020       15037190.25"
      ]
     },
     "execution_count": 23,
     "metadata": {},
     "output_type": "execute_result"
    }
   ],
   "source": [
    "con = PostgresConnection().getConnection()\n",
    "\n",
    "cur = con.cursor()\n",
    "select_stmt = \"SELECT  year, SUM(total_price) total_sales_price \" \\\n",
    "        \"FROM ecom_schema.time_dim \" \\\n",
    "        \"INNER JOIN ecom_schema.fact_table ON fact_table.time_key = time_dim.time_key \" \\\n",
    "        \"GROUP BY CUBE(time_dim.year)\"\n",
    "cur.execute(select_stmt)\n",
    "records = cur.fetchall()\n",
    "df = pd.DataFrame(list(records), columns=['month', 'total_sales_price'])\n",
    "df.head(10)\n"
   ]
  },
  {
   "cell_type": "markdown",
   "id": "39613e5e",
   "metadata": {},
   "source": [
    "### Total_sale_price By month Wise"
   ]
  },
  {
   "cell_type": "code",
   "execution_count": 22,
   "id": "c846d156",
   "metadata": {},
   "outputs": [
    {
     "name": "stdout",
     "output_type": "stream",
     "text": [
      "successfully connected to database\n"
     ]
    },
    {
     "data": {
      "text/html": [
       "<div>\n",
       "<style scoped>\n",
       "    .dataframe tbody tr th:only-of-type {\n",
       "        vertical-align: middle;\n",
       "    }\n",
       "\n",
       "    .dataframe tbody tr th {\n",
       "        vertical-align: top;\n",
       "    }\n",
       "\n",
       "    .dataframe thead th {\n",
       "        text-align: right;\n",
       "    }\n",
       "</style>\n",
       "<table border=\"1\" class=\"dataframe\">\n",
       "  <thead>\n",
       "    <tr style=\"text-align: right;\">\n",
       "      <th></th>\n",
       "      <th>month</th>\n",
       "      <th>total_sales_price</th>\n",
       "    </tr>\n",
       "  </thead>\n",
       "  <tbody>\n",
       "    <tr>\n",
       "      <th>0</th>\n",
       "      <td>1</td>\n",
       "      <td>9042244.00</td>\n",
       "    </tr>\n",
       "    <tr>\n",
       "      <th>1</th>\n",
       "      <td>2</td>\n",
       "      <td>8073877.50</td>\n",
       "    </tr>\n",
       "    <tr>\n",
       "      <th>2</th>\n",
       "      <td>3</td>\n",
       "      <td>8939152.00</td>\n",
       "    </tr>\n",
       "    <tr>\n",
       "      <th>3</th>\n",
       "      <td>4</td>\n",
       "      <td>8504634.75</td>\n",
       "    </tr>\n",
       "    <tr>\n",
       "      <th>4</th>\n",
       "      <td>5</td>\n",
       "      <td>9078002.50</td>\n",
       "    </tr>\n",
       "    <tr>\n",
       "      <th>5</th>\n",
       "      <td>6</td>\n",
       "      <td>8556853.00</td>\n",
       "    </tr>\n",
       "    <tr>\n",
       "      <th>6</th>\n",
       "      <td>7</td>\n",
       "      <td>9046580.00</td>\n",
       "    </tr>\n",
       "    <tr>\n",
       "      <th>7</th>\n",
       "      <td>8</td>\n",
       "      <td>8929475.25</td>\n",
       "    </tr>\n",
       "    <tr>\n",
       "      <th>8</th>\n",
       "      <td>9</td>\n",
       "      <td>8724326.50</td>\n",
       "    </tr>\n",
       "    <tr>\n",
       "      <th>9</th>\n",
       "      <td>10</td>\n",
       "      <td>8902783.75</td>\n",
       "    </tr>\n",
       "  </tbody>\n",
       "</table>\n",
       "</div>"
      ],
      "text/plain": [
       "  month total_sales_price\n",
       "0     1        9042244.00\n",
       "1     2        8073877.50\n",
       "2     3        8939152.00\n",
       "3     4        8504634.75\n",
       "4     5        9078002.50\n",
       "5     6        8556853.00\n",
       "6     7        9046580.00\n",
       "7     8        8929475.25\n",
       "8     9        8724326.50\n",
       "9    10        8902783.75"
      ]
     },
     "execution_count": 22,
     "metadata": {},
     "output_type": "execute_result"
    }
   ],
   "source": [
    "con = PostgresConnection().getConnection()\n",
    "\n",
    "cur = con.cursor()\n",
    "select_stmt = \"SELECT  tim.month, SUM(t.total_price) total_sales_price \" \\\n",
    "        \"FROM ecom_schema.fact_table t \" \\\n",
    "        \"JOIN ecom_schema.store_dim s on s.store_key = t.store_key \" \\\n",
    "        \"JOIN ecom_schema.time_dim tim on tim.time_key = t.time_key \" \\\n",
    "        \"GROUP BY CUBE(tim.month)\" \\\n",
    "        \"ORDER BY tim.month;\"  # Ascending order\n",
    "cur.execute(select_stmt)\n",
    "records = cur.fetchall()\n",
    "df = pd.DataFrame(list(records), columns=['month', 'total_sales_price'])\n",
    "df.head(10)"
   ]
  },
  {
   "cell_type": "markdown",
   "id": "f865b10c",
   "metadata": {},
   "source": [
    "### Q2: Find the customer/bank/transaction(cash/online) wise total_sale_price joining fact table and respective dimension table "
   ]
  },
  {
   "cell_type": "markdown",
   "id": "83959917",
   "metadata": {},
   "source": [
    "### Q3: Total sales in Barisal"
   ]
  },
  {
   "cell_type": "code",
   "execution_count": 25,
   "id": "a350a97f",
   "metadata": {},
   "outputs": [
    {
     "name": "stdout",
     "output_type": "stream",
     "text": [
      "successfully connected to database\n"
     ]
    },
    {
     "data": {
      "text/html": [
       "<div>\n",
       "<style scoped>\n",
       "    .dataframe tbody tr th:only-of-type {\n",
       "        vertical-align: middle;\n",
       "    }\n",
       "\n",
       "    .dataframe tbody tr th {\n",
       "        vertical-align: top;\n",
       "    }\n",
       "\n",
       "    .dataframe thead th {\n",
       "        text-align: right;\n",
       "    }\n",
       "</style>\n",
       "<table border=\"1\" class=\"dataframe\">\n",
       "  <thead>\n",
       "    <tr style=\"text-align: right;\">\n",
       "      <th></th>\n",
       "      <th>month</th>\n",
       "      <th>total_sales_price</th>\n",
       "    </tr>\n",
       "  </thead>\n",
       "  <tbody>\n",
       "    <tr>\n",
       "      <th>0</th>\n",
       "      <td>BARISAL</td>\n",
       "      <td>2897237.75</td>\n",
       "    </tr>\n",
       "    <tr>\n",
       "      <th>1</th>\n",
       "      <td>None</td>\n",
       "      <td>2897237.75</td>\n",
       "    </tr>\n",
       "  </tbody>\n",
       "</table>\n",
       "</div>"
      ],
      "text/plain": [
       "     month total_sales_price\n",
       "0  BARISAL        2897237.75\n",
       "1     None        2897237.75"
      ]
     },
     "execution_count": 25,
     "metadata": {},
     "output_type": "execute_result"
    }
   ],
   "source": [
    "con = PostgresConnection().getConnection()\n",
    "cur = con.cursor()\n",
    "select_stmt = \"SELECT s.district, SUM(t.total_price) Total_Sales \" \\\n",
    "        \"FROM ecom_schema.fact_table t \" \\\n",
    "        \"JOIN ecom_schema.store_dim s on s.store_key = t.store_key \" \\\n",
    "        \"WHERE s.district = 'BARISAL' \" \\\n",
    "        \"GROUP BY CUBE (s.district)\"\n",
    "cur.execute(select_stmt)\n",
    "records = cur.fetchall()\n",
    "df = pd.DataFrame(list(records), columns=['month', 'total_sales_price'])\n",
    "df.head(10)"
   ]
  },
  {
   "cell_type": "markdown",
   "id": "cf3b5254",
   "metadata": {},
   "source": [
    "### Q4: Total sales in 2015"
   ]
  },
  {
   "cell_type": "code",
   "execution_count": 42,
   "id": "901e1801",
   "metadata": {},
   "outputs": [
    {
     "name": "stdout",
     "output_type": "stream",
     "text": [
      "successfully connected to database\n"
     ]
    },
    {
     "data": {
      "text/html": [
       "<div>\n",
       "<style scoped>\n",
       "    .dataframe tbody tr th:only-of-type {\n",
       "        vertical-align: middle;\n",
       "    }\n",
       "\n",
       "    .dataframe tbody tr th {\n",
       "        vertical-align: top;\n",
       "    }\n",
       "\n",
       "    .dataframe thead th {\n",
       "        text-align: right;\n",
       "    }\n",
       "</style>\n",
       "<table border=\"1\" class=\"dataframe\">\n",
       "  <thead>\n",
       "    <tr style=\"text-align: right;\">\n",
       "      <th></th>\n",
       "      <th>month</th>\n",
       "      <th>total_sales_price</th>\n",
       "    </tr>\n",
       "  </thead>\n",
       "  <tbody>\n",
       "    <tr>\n",
       "      <th>0</th>\n",
       "      <td>2015</td>\n",
       "      <td>15095720.25</td>\n",
       "    </tr>\n",
       "    <tr>\n",
       "      <th>1</th>\n",
       "      <td>None</td>\n",
       "      <td>15095720.25</td>\n",
       "    </tr>\n",
       "  </tbody>\n",
       "</table>\n",
       "</div>"
      ],
      "text/plain": [
       "  month total_sales_price\n",
       "0  2015       15095720.25\n",
       "1  None       15095720.25"
      ]
     },
     "execution_count": 42,
     "metadata": {},
     "output_type": "execute_result"
    }
   ],
   "source": [
    "con = PostgresConnection().getConnection()\n",
    "cur = con.cursor()\n",
    "select_stmt = \"SELECT tim.year, SUM(t.total_price) Total_Sales \" \\\n",
    "        \"FROM ecom_schema.fact_table t \" \\\n",
    "        \"JOIN ecom_schema.time_dim tim ON t.time_key = tim.time_key \" \\\n",
    "        \"WHERE tim.year = 2015 \" \\\n",
    "        \"GROUP BY CUBE (tim.year)\"\n",
    "cur.execute(select_stmt)\n",
    "records = cur.fetchall()\n",
    "df = pd.DataFrame(list(records), columns=['month', 'total_sales_price'])\n",
    "df.head(10)"
   ]
  },
  {
   "cell_type": "markdown",
   "id": "de35ec2b",
   "metadata": {},
   "source": [
    "### Q5: Total sales of Barisal in 2015 using ROLLUP"
   ]
  },
  {
   "cell_type": "code",
   "execution_count": 40,
   "id": "b85a4779",
   "metadata": {},
   "outputs": [
    {
     "name": "stdout",
     "output_type": "stream",
     "text": [
      "successfully connected to database\n"
     ]
    },
    {
     "data": {
      "text/html": [
       "<div>\n",
       "<style scoped>\n",
       "    .dataframe tbody tr th:only-of-type {\n",
       "        vertical-align: middle;\n",
       "    }\n",
       "\n",
       "    .dataframe tbody tr th {\n",
       "        vertical-align: top;\n",
       "    }\n",
       "\n",
       "    .dataframe thead th {\n",
       "        text-align: right;\n",
       "    }\n",
       "</style>\n",
       "<table border=\"1\" class=\"dataframe\">\n",
       "  <thead>\n",
       "    <tr style=\"text-align: right;\">\n",
       "      <th></th>\n",
       "      <th>year</th>\n",
       "      <th>district</th>\n",
       "      <th>total_sales_price</th>\n",
       "    </tr>\n",
       "  </thead>\n",
       "  <tbody>\n",
       "    <tr>\n",
       "      <th>0</th>\n",
       "      <td>2015</td>\n",
       "      <td>BARISAL</td>\n",
       "      <td>415748.75</td>\n",
       "    </tr>\n",
       "    <tr>\n",
       "      <th>1</th>\n",
       "      <td>None</td>\n",
       "      <td>BARISAL</td>\n",
       "      <td>415748.75</td>\n",
       "    </tr>\n",
       "    <tr>\n",
       "      <th>2</th>\n",
       "      <td>None</td>\n",
       "      <td>None</td>\n",
       "      <td>415748.75</td>\n",
       "    </tr>\n",
       "  </tbody>\n",
       "</table>\n",
       "</div>"
      ],
      "text/plain": [
       "   year district total_sales_price\n",
       "0  2015  BARISAL         415748.75\n",
       "1  None  BARISAL         415748.75\n",
       "2  None     None         415748.75"
      ]
     },
     "execution_count": 40,
     "metadata": {},
     "output_type": "execute_result"
    }
   ],
   "source": [
    "con = PostgresConnection().getConnection()\n",
    "cur = con.cursor()\n",
    "select_stmt = \"SELECT tim.year, s.district, SUM(t.total_price) Total_Sales \" \\\n",
    "        \"FROM ecom_schema.fact_table t \" \\\n",
    "        \"JOIN ecom_schema.store_dim s on s.store_key = t.store_key \" \\\n",
    "        \"JOIN ecom_schema.time_dim tim ON t.time_key = tim.time_key \" \\\n",
    "        \"WHERE s.district = 'BARISAL' and tim.year = 2015 \" \\\n",
    "        \"GROUP BY ROLLUP (s.district, tim.year)\"\n",
    "cur.execute(select_stmt)\n",
    "records = cur.fetchall()\n",
    "df = pd.DataFrame(list(records), columns=['year','district', 'total_sales_price'])\n",
    "df"
   ]
  },
  {
   "cell_type": "code",
   "execution_count": null,
   "id": "965096db",
   "metadata": {},
   "outputs": [],
   "source": []
  }
 ],
 "metadata": {
  "kernelspec": {
   "display_name": "Python 3 (ipykernel)",
   "language": "python",
   "name": "python3"
  },
  "language_info": {
   "codemirror_mode": {
    "name": "ipython",
    "version": 3
   },
   "file_extension": ".py",
   "mimetype": "text/x-python",
   "name": "python",
   "nbconvert_exporter": "python",
   "pygments_lexer": "ipython3",
   "version": "3.9.0"
  }
 },
 "nbformat": 4,
 "nbformat_minor": 5
}
