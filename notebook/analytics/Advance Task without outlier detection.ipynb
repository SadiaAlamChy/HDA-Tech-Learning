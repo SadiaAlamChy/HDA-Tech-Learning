{
 "cells": [
  {
   "cell_type": "code",
   "execution_count": null,
   "id": "beb6d425",
   "metadata": {},
   "outputs": [],
   "source": [
    "pip install sklearn"
   ]
  },
  {
   "cell_type": "code",
   "execution_count": 1,
   "id": "845950fc",
   "metadata": {},
   "outputs": [],
   "source": [
    "import pandas as pd\n",
    "import numpy as np\n",
    "import psycopg2\n",
    "import psycopg2.extras\n",
    "import matplotlib.pyplot as plt\n",
    "import seaborn as sns\n",
    "from sklearn.preprocessing import LabelEncoder\n",
    "from sklearn.preprocessing import OneHotEncoder\n",
    "from sklearn.model_selection import train_test_split\n",
    "from sklearn.linear_model import LinearRegression\n",
    "from sklearn.preprocessing import LabelEncoder\n",
    "from sklearn.preprocessing import OneHotEncoder,OrdinalEncoder\n",
    "from sklearn.metrics import accuracy_score"
   ]
  },
  {
   "cell_type": "code",
   "execution_count": 2,
   "id": "ebd4b628",
   "metadata": {},
   "outputs": [],
   "source": [
    "class PostgresConnection(object):\n",
    "    def __init__(self):\n",
    "        self.connection = psycopg2.connect(database=\"ecomdb\",\n",
    "                                           user = \"postgres\",\n",
    "                                           password = \"postgres\",\n",
    "                                           host = \"127.0.0.1\",\n",
    "                                           port = \"5432\")\n",
    "\n",
    "    def getConnection(self):\n",
    "        print(\"successfully connected to database\")\n",
    "        return self.connection"
   ]
  },
  {
   "cell_type": "code",
   "execution_count": 3,
   "id": "41c65d36",
   "metadata": {},
   "outputs": [
    {
     "name": "stdout",
     "output_type": "stream",
     "text": [
      "successfully connected to database\n"
     ]
    }
   ],
   "source": [
    "con = PostgresConnection().getConnection()"
   ]
  },
  {
   "cell_type": "code",
   "execution_count": 4,
   "id": "28a899ec",
   "metadata": {},
   "outputs": [
    {
     "data": {
      "text/html": [
       "<div>\n",
       "<style scoped>\n",
       "    .dataframe tbody tr th:only-of-type {\n",
       "        vertical-align: middle;\n",
       "    }\n",
       "\n",
       "    .dataframe tbody tr th {\n",
       "        vertical-align: top;\n",
       "    }\n",
       "\n",
       "    .dataframe thead th {\n",
       "        text-align: right;\n",
       "    }\n",
       "</style>\n",
       "<table border=\"1\" class=\"dataframe\">\n",
       "  <thead>\n",
       "    <tr style=\"text-align: right;\">\n",
       "      <th></th>\n",
       "      <th>year</th>\n",
       "      <th>month</th>\n",
       "      <th>item_id</th>\n",
       "      <th>total_sales</th>\n",
       "    </tr>\n",
       "  </thead>\n",
       "  <tbody>\n",
       "    <tr>\n",
       "      <th>0</th>\n",
       "      <td>2014</td>\n",
       "      <td>1</td>\n",
       "      <td>I00001</td>\n",
       "      <td>1518.0</td>\n",
       "    </tr>\n",
       "    <tr>\n",
       "      <th>1</th>\n",
       "      <td>2014</td>\n",
       "      <td>2</td>\n",
       "      <td>I00001</td>\n",
       "      <td>2794.5</td>\n",
       "    </tr>\n",
       "    <tr>\n",
       "      <th>2</th>\n",
       "      <td>2014</td>\n",
       "      <td>3</td>\n",
       "      <td>I00001</td>\n",
       "      <td>2921.0</td>\n",
       "    </tr>\n",
       "    <tr>\n",
       "      <th>3</th>\n",
       "      <td>2014</td>\n",
       "      <td>4</td>\n",
       "      <td>I00001</td>\n",
       "      <td>3737.5</td>\n",
       "    </tr>\n",
       "    <tr>\n",
       "      <th>4</th>\n",
       "      <td>2014</td>\n",
       "      <td>5</td>\n",
       "      <td>I00001</td>\n",
       "      <td>2679.5</td>\n",
       "    </tr>\n",
       "    <tr>\n",
       "      <th>...</th>\n",
       "      <td>...</td>\n",
       "      <td>...</td>\n",
       "      <td>...</td>\n",
       "      <td>...</td>\n",
       "    </tr>\n",
       "    <tr>\n",
       "      <th>22435</th>\n",
       "      <td>2020</td>\n",
       "      <td>9</td>\n",
       "      <td>I00264</td>\n",
       "      <td>4155.0</td>\n",
       "    </tr>\n",
       "    <tr>\n",
       "      <th>22436</th>\n",
       "      <td>2020</td>\n",
       "      <td>10</td>\n",
       "      <td>I00264</td>\n",
       "      <td>6315.0</td>\n",
       "    </tr>\n",
       "    <tr>\n",
       "      <th>22437</th>\n",
       "      <td>2020</td>\n",
       "      <td>11</td>\n",
       "      <td>I00264</td>\n",
       "      <td>2910.0</td>\n",
       "    </tr>\n",
       "    <tr>\n",
       "      <th>22438</th>\n",
       "      <td>2020</td>\n",
       "      <td>12</td>\n",
       "      <td>I00264</td>\n",
       "      <td>6390.0</td>\n",
       "    </tr>\n",
       "    <tr>\n",
       "      <th>22439</th>\n",
       "      <td>2021</td>\n",
       "      <td>1</td>\n",
       "      <td>I00264</td>\n",
       "      <td>2910.0</td>\n",
       "    </tr>\n",
       "  </tbody>\n",
       "</table>\n",
       "<p>22440 rows × 4 columns</p>\n",
       "</div>"
      ],
      "text/plain": [
       "       year  month item_id total_sales\n",
       "0      2014      1  I00001      1518.0\n",
       "1      2014      2  I00001      2794.5\n",
       "2      2014      3  I00001      2921.0\n",
       "3      2014      4  I00001      3737.5\n",
       "4      2014      5  I00001      2679.5\n",
       "...     ...    ...     ...         ...\n",
       "22435  2020      9  I00264      4155.0\n",
       "22436  2020     10  I00264      6315.0\n",
       "22437  2020     11  I00264      2910.0\n",
       "22438  2020     12  I00264      6390.0\n",
       "22439  2021      1  I00264      2910.0\n",
       "\n",
       "[22440 rows x 4 columns]"
      ]
     },
     "execution_count": 4,
     "metadata": {},
     "output_type": "execute_result"
    }
   ],
   "source": [
    "cur = con.cursor()\n",
    "st = '''select  t.year,t.month ,i.item_key, sum(ft.total_price) \n",
    "               from ecomdb_star_schema.fact_table ft \n",
    "               join ecomdb_star_schema.time_dim t on t.time_key = ft.time_key\n",
    "               join ecomdb_star_schema.item_dim i on i.item_key = ft.item_key\n",
    "               group by (i.item_key,t.year,t.month)\n",
    "               order by (i.item_key,t.year,t.month) '''\n",
    "cur.execute(st)\n",
    "records = cur.fetchall()\n",
    "df = pd.DataFrame(list(records), columns=['year', 'month' ,'item_id','total_sales'])\n",
    "#df.head()\n",
    "df.dropna()"
   ]
  },
  {
   "cell_type": "code",
   "execution_count": 5,
   "id": "b77fdb3e",
   "metadata": {},
   "outputs": [],
   "source": [
    "df2=df\n",
    "b=df.copy()\n",
    "c=df.copy()\n",
    "d=df.copy()\n",
    "e=df.copy()\n",
    "#df=df.values"
   ]
  },
  {
   "cell_type": "code",
   "execution_count": 6,
   "id": "7b64a9a3",
   "metadata": {},
   "outputs": [],
   "source": [
    "b['month'] = b['month'].replace(1, 'January')\n",
    "b['month'] = b['month'].replace(2, 'February')\n",
    "b['month'] = b['month'].replace(3, 'March')\n",
    "b['month'] = b['month'].replace(4, 'April')\n",
    "b['month'] = b['month'].replace(5, 'May')\n",
    "b['month'] = b['month'].replace(6, 'June')\n",
    "b['month'] = b['month'].replace(7, 'July')\n",
    "b['month'] = b['month'].replace(8, 'August')\n",
    "b['month'] = b['month'].replace(9, 'September')\n",
    "b['month'] = b['month'].replace(10, 'October')\n",
    "b['month'] = b['month'].replace(11, 'November')\n",
    "b['month'] = b['month'].replace(12, 'December')"
   ]
  },
  {
   "cell_type": "code",
   "execution_count": 7,
   "id": "5db3794e",
   "metadata": {},
   "outputs": [
    {
     "data": {
      "image/png": "[encoded data removed]",
      "text/plain": [
       "<Figure size 1152x360 with 2 Axes>"
      ]
     },
     "metadata": {
      "needs_background": "light"
     },
     "output_type": "display_data"
    }
   ],
   "source": [
    "import warnings\n",
    "warnings.filterwarnings('ignore')\n",
    "plt.figure(figsize=(16,5))\n",
    "plt.subplot(1,2,1)\n",
    "sns.distplot(c['month'])\n",
    "plt.subplot(1,2,2)\n",
    "sns.distplot(b['year'])\n",
    "plt.show()"
   ]
  },
  {
   "cell_type": "code",
   "execution_count": 8,
   "id": "58511aef",
   "metadata": {},
   "outputs": [
    {
     "data": {
      "text/plain": [
       "<AxesSubplot:xlabel='month', ylabel='count'>"
      ]
     },
     "execution_count": 8,
     "metadata": {},
     "output_type": "execute_result"
    },
    {
     "data": {
      "image/png": "[encoded data removed]",
      "text/plain": [
       "<Figure size 1728x576 with 2 Axes>"
      ]
     },
     "metadata": {
      "needs_background": "light"
     },
     "output_type": "display_data"
    }
   ],
   "source": [
    "plt.figure(figsize = (24,8))\n",
    "plt.subplot(1,2,1)\n",
    "sns.countplot(x=b['year'])\n",
    "plt.subplot(1,2,2)\n",
    "sns.countplot(x=b['month'])"
   ]
  },
  {
   "cell_type": "markdown",
   "id": "d2080853",
   "metadata": {},
   "source": [
    "# Data Pre Processing"
   ]
  },
  {
   "cell_type": "markdown",
   "id": "8cc294a6",
   "metadata": {},
   "source": [
    "# Checking for null value"
   ]
  },
  {
   "cell_type": "code",
   "execution_count": 9,
   "id": "fb08ecda",
   "metadata": {},
   "outputs": [
    {
     "data": {
      "text/plain": [
       "year           0\n",
       "month          0\n",
       "item_id        0\n",
       "total_sales    0\n",
       "dtype: int64"
      ]
     },
     "execution_count": 9,
     "metadata": {},
     "output_type": "execute_result"
    }
   ],
   "source": [
    "df.isnull().sum()"
   ]
  },
  {
   "cell_type": "code",
   "execution_count": 10,
   "id": "99833017",
   "metadata": {},
   "outputs": [
    {
     "data": {
      "image/png": "[encoded data removed]",
      "text/plain": [
       "<Figure size 1080x576 with 1 Axes>"
      ]
     },
     "metadata": {
      "needs_background": "light"
     },
     "output_type": "display_data"
    }
   ],
   "source": [
    "import seaborn as sns\n",
    "from matplotlib import pyplot as plt\n",
    "\n",
    "null_value = df.isnull()\n",
    "plt.figure(figsize = (15,8))\n",
    "sns.barplot(data=null_value)\n",
    "plt.xlabel('Features',fontsize=18)\n",
    "plt.ylabel('Number of Null values',fontsize=18)\n",
    "plt.title(\"Null values in the dataset\")\n",
    "plt.savefig('Checking for null values')\n",
    "\n",
    "plt.show()"
   ]
  },
  {
   "cell_type": "markdown",
   "id": "45b1a4e0",
   "metadata": {},
   "source": [
    "# ORDINAL ENCODING"
   ]
  },
  {
   "cell_type": "code",
   "execution_count": 11,
   "id": "945e8ace",
   "metadata": {},
   "outputs": [],
   "source": [
    "oencoder = OrdinalEncoder()\n",
    "df['year']=oencoder.fit_transform(df[\"year\"].to_numpy().reshape(-1, 1))\n",
    "df['month']=oencoder.fit_transform(df[\"month\"].to_numpy().reshape(-1, 1))"
   ]
  },
  {
   "cell_type": "code",
   "execution_count": 12,
   "id": "d978e7d9",
   "metadata": {},
   "outputs": [
    {
     "data": {
      "text/html": [
       "<div>\n",
       "<style scoped>\n",
       "    .dataframe tbody tr th:only-of-type {\n",
       "        vertical-align: middle;\n",
       "    }\n",
       "\n",
       "    .dataframe tbody tr th {\n",
       "        vertical-align: top;\n",
       "    }\n",
       "\n",
       "    .dataframe thead th {\n",
       "        text-align: right;\n",
       "    }\n",
       "</style>\n",
       "<table border=\"1\" class=\"dataframe\">\n",
       "  <thead>\n",
       "    <tr style=\"text-align: right;\">\n",
       "      <th></th>\n",
       "      <th>year</th>\n",
       "      <th>month</th>\n",
       "      <th>item_id</th>\n",
       "      <th>total_sales</th>\n",
       "    </tr>\n",
       "  </thead>\n",
       "  <tbody>\n",
       "    <tr>\n",
       "      <th>0</th>\n",
       "      <td>0.0</td>\n",
       "      <td>0.0</td>\n",
       "      <td>I00001</td>\n",
       "      <td>1518.0</td>\n",
       "    </tr>\n",
       "    <tr>\n",
       "      <th>1</th>\n",
       "      <td>0.0</td>\n",
       "      <td>1.0</td>\n",
       "      <td>I00001</td>\n",
       "      <td>2794.5</td>\n",
       "    </tr>\n",
       "    <tr>\n",
       "      <th>2</th>\n",
       "      <td>0.0</td>\n",
       "      <td>2.0</td>\n",
       "      <td>I00001</td>\n",
       "      <td>2921.0</td>\n",
       "    </tr>\n",
       "    <tr>\n",
       "      <th>3</th>\n",
       "      <td>0.0</td>\n",
       "      <td>3.0</td>\n",
       "      <td>I00001</td>\n",
       "      <td>3737.5</td>\n",
       "    </tr>\n",
       "    <tr>\n",
       "      <th>4</th>\n",
       "      <td>0.0</td>\n",
       "      <td>4.0</td>\n",
       "      <td>I00001</td>\n",
       "      <td>2679.5</td>\n",
       "    </tr>\n",
       "    <tr>\n",
       "      <th>...</th>\n",
       "      <td>...</td>\n",
       "      <td>...</td>\n",
       "      <td>...</td>\n",
       "      <td>...</td>\n",
       "    </tr>\n",
       "    <tr>\n",
       "      <th>22435</th>\n",
       "      <td>6.0</td>\n",
       "      <td>8.0</td>\n",
       "      <td>I00264</td>\n",
       "      <td>4155.0</td>\n",
       "    </tr>\n",
       "    <tr>\n",
       "      <th>22436</th>\n",
       "      <td>6.0</td>\n",
       "      <td>9.0</td>\n",
       "      <td>I00264</td>\n",
       "      <td>6315.0</td>\n",
       "    </tr>\n",
       "    <tr>\n",
       "      <th>22437</th>\n",
       "      <td>6.0</td>\n",
       "      <td>10.0</td>\n",
       "      <td>I00264</td>\n",
       "      <td>2910.0</td>\n",
       "    </tr>\n",
       "    <tr>\n",
       "      <th>22438</th>\n",
       "      <td>6.0</td>\n",
       "      <td>11.0</td>\n",
       "      <td>I00264</td>\n",
       "      <td>6390.0</td>\n",
       "    </tr>\n",
       "    <tr>\n",
       "      <th>22439</th>\n",
       "      <td>7.0</td>\n",
       "      <td>0.0</td>\n",
       "      <td>I00264</td>\n",
       "      <td>2910.0</td>\n",
       "    </tr>\n",
       "  </tbody>\n",
       "</table>\n",
       "<p>22440 rows × 4 columns</p>\n",
       "</div>"
      ],
      "text/plain": [
       "       year  month item_id total_sales\n",
       "0       0.0    0.0  I00001      1518.0\n",
       "1       0.0    1.0  I00001      2794.5\n",
       "2       0.0    2.0  I00001      2921.0\n",
       "3       0.0    3.0  I00001      3737.5\n",
       "4       0.0    4.0  I00001      2679.5\n",
       "...     ...    ...     ...         ...\n",
       "22435   6.0    8.0  I00264      4155.0\n",
       "22436   6.0    9.0  I00264      6315.0\n",
       "22437   6.0   10.0  I00264      2910.0\n",
       "22438   6.0   11.0  I00264      6390.0\n",
       "22439   7.0    0.0  I00264      2910.0\n",
       "\n",
       "[22440 rows x 4 columns]"
      ]
     },
     "execution_count": 12,
     "metadata": {},
     "output_type": "execute_result"
    }
   ],
   "source": [
    "df"
   ]
  },
  {
   "cell_type": "markdown",
   "id": "e945f8d5",
   "metadata": {},
   "source": [
    "# ONE HOT ENCODING"
   ]
  },
  {
   "cell_type": "code",
   "execution_count": 13,
   "id": "d933359b",
   "metadata": {},
   "outputs": [],
   "source": [
    "newdf = df\n",
    "newdf=newdf.iloc[:,:-1]\n",
    "newdf\n",
    "newdf=pd.get_dummies(newdf,columns = ['item_id'])"
   ]
  },
  {
   "cell_type": "code",
   "execution_count": 14,
   "id": "316b840a",
   "metadata": {},
   "outputs": [
    {
     "data": {
      "text/html": [
       "<div>\n",
       "<style scoped>\n",
       "    .dataframe tbody tr th:only-of-type {\n",
       "        vertical-align: middle;\n",
       "    }\n",
       "\n",
       "    .dataframe tbody tr th {\n",
       "        vertical-align: top;\n",
       "    }\n",
       "\n",
       "    .dataframe thead th {\n",
       "        text-align: right;\n",
       "    }\n",
       "</style>\n",
       "<table border=\"1\" class=\"dataframe\">\n",
       "  <thead>\n",
       "    <tr style=\"text-align: right;\">\n",
       "      <th></th>\n",
       "      <th>year</th>\n",
       "      <th>month</th>\n",
       "      <th>item_id_I00001</th>\n",
       "      <th>item_id_I00002</th>\n",
       "      <th>item_id_I00003</th>\n",
       "      <th>item_id_I00004</th>\n",
       "      <th>item_id_I00005</th>\n",
       "      <th>item_id_I00006</th>\n",
       "      <th>item_id_I00007</th>\n",
       "      <th>item_id_I00008</th>\n",
       "      <th>...</th>\n",
       "      <th>item_id_I00255</th>\n",
       "      <th>item_id_I00256</th>\n",
       "      <th>item_id_I00257</th>\n",
       "      <th>item_id_I00258</th>\n",
       "      <th>item_id_I00259</th>\n",
       "      <th>item_id_I00260</th>\n",
       "      <th>item_id_I00261</th>\n",
       "      <th>item_id_I00262</th>\n",
       "      <th>item_id_I00263</th>\n",
       "      <th>item_id_I00264</th>\n",
       "    </tr>\n",
       "  </thead>\n",
       "  <tbody>\n",
       "    <tr>\n",
       "      <th>0</th>\n",
       "      <td>0.0</td>\n",
       "      <td>0.0</td>\n",
       "      <td>1</td>\n",
       "      <td>0</td>\n",
       "      <td>0</td>\n",
       "      <td>0</td>\n",
       "      <td>0</td>\n",
       "      <td>0</td>\n",
       "      <td>0</td>\n",
       "      <td>0</td>\n",
       "      <td>...</td>\n",
       "      <td>0</td>\n",
       "      <td>0</td>\n",
       "      <td>0</td>\n",
       "      <td>0</td>\n",
       "      <td>0</td>\n",
       "      <td>0</td>\n",
       "      <td>0</td>\n",
       "      <td>0</td>\n",
       "      <td>0</td>\n",
       "      <td>0</td>\n",
       "    </tr>\n",
       "    <tr>\n",
       "      <th>1</th>\n",
       "      <td>0.0</td>\n",
       "      <td>1.0</td>\n",
       "      <td>1</td>\n",
       "      <td>0</td>\n",
       "      <td>0</td>\n",
       "      <td>0</td>\n",
       "      <td>0</td>\n",
       "      <td>0</td>\n",
       "      <td>0</td>\n",
       "      <td>0</td>\n",
       "      <td>...</td>\n",
       "      <td>0</td>\n",
       "      <td>0</td>\n",
       "      <td>0</td>\n",
       "      <td>0</td>\n",
       "      <td>0</td>\n",
       "      <td>0</td>\n",
       "      <td>0</td>\n",
       "      <td>0</td>\n",
       "      <td>0</td>\n",
       "      <td>0</td>\n",
       "    </tr>\n",
       "    <tr>\n",
       "      <th>2</th>\n",
       "      <td>0.0</td>\n",
       "      <td>2.0</td>\n",
       "      <td>1</td>\n",
       "      <td>0</td>\n",
       "      <td>0</td>\n",
       "      <td>0</td>\n",
       "      <td>0</td>\n",
       "      <td>0</td>\n",
       "      <td>0</td>\n",
       "      <td>0</td>\n",
       "      <td>...</td>\n",
       "      <td>0</td>\n",
       "      <td>0</td>\n",
       "      <td>0</td>\n",
       "      <td>0</td>\n",
       "      <td>0</td>\n",
       "      <td>0</td>\n",
       "      <td>0</td>\n",
       "      <td>0</td>\n",
       "      <td>0</td>\n",
       "      <td>0</td>\n",
       "    </tr>\n",
       "    <tr>\n",
       "      <th>3</th>\n",
       "      <td>0.0</td>\n",
       "      <td>3.0</td>\n",
       "      <td>1</td>\n",
       "      <td>0</td>\n",
       "      <td>0</td>\n",
       "      <td>0</td>\n",
       "      <td>0</td>\n",
       "      <td>0</td>\n",
       "      <td>0</td>\n",
       "      <td>0</td>\n",
       "      <td>...</td>\n",
       "      <td>0</td>\n",
       "      <td>0</td>\n",
       "      <td>0</td>\n",
       "      <td>0</td>\n",
       "      <td>0</td>\n",
       "      <td>0</td>\n",
       "      <td>0</td>\n",
       "      <td>0</td>\n",
       "      <td>0</td>\n",
       "      <td>0</td>\n",
       "    </tr>\n",
       "    <tr>\n",
       "      <th>4</th>\n",
       "      <td>0.0</td>\n",
       "      <td>4.0</td>\n",
       "      <td>1</td>\n",
       "      <td>0</td>\n",
       "      <td>0</td>\n",
       "      <td>0</td>\n",
       "      <td>0</td>\n",
       "      <td>0</td>\n",
       "      <td>0</td>\n",
       "      <td>0</td>\n",
       "      <td>...</td>\n",
       "      <td>0</td>\n",
       "      <td>0</td>\n",
       "      <td>0</td>\n",
       "      <td>0</td>\n",
       "      <td>0</td>\n",
       "      <td>0</td>\n",
       "      <td>0</td>\n",
       "      <td>0</td>\n",
       "      <td>0</td>\n",
       "      <td>0</td>\n",
       "    </tr>\n",
       "    <tr>\n",
       "      <th>...</th>\n",
       "      <td>...</td>\n",
       "      <td>...</td>\n",
       "      <td>...</td>\n",
       "      <td>...</td>\n",
       "      <td>...</td>\n",
       "      <td>...</td>\n",
       "      <td>...</td>\n",
       "      <td>...</td>\n",
       "      <td>...</td>\n",
       "      <td>...</td>\n",
       "      <td>...</td>\n",
       "      <td>...</td>\n",
       "      <td>...</td>\n",
       "      <td>...</td>\n",
       "      <td>...</td>\n",
       "      <td>...</td>\n",
       "      <td>...</td>\n",
       "      <td>...</td>\n",
       "      <td>...</td>\n",
       "      <td>...</td>\n",
       "      <td>...</td>\n",
       "    </tr>\n",
       "    <tr>\n",
       "      <th>22435</th>\n",
       "      <td>6.0</td>\n",
       "      <td>8.0</td>\n",
       "      <td>0</td>\n",
       "      <td>0</td>\n",
       "      <td>0</td>\n",
       "      <td>0</td>\n",
       "      <td>0</td>\n",
       "      <td>0</td>\n",
       "      <td>0</td>\n",
       "      <td>0</td>\n",
       "      <td>...</td>\n",
       "      <td>0</td>\n",
       "      <td>0</td>\n",
       "      <td>0</td>\n",
       "      <td>0</td>\n",
       "      <td>0</td>\n",
       "      <td>0</td>\n",
       "      <td>0</td>\n",
       "      <td>0</td>\n",
       "      <td>0</td>\n",
       "      <td>1</td>\n",
       "    </tr>\n",
       "    <tr>\n",
       "      <th>22436</th>\n",
       "      <td>6.0</td>\n",
       "      <td>9.0</td>\n",
       "      <td>0</td>\n",
       "      <td>0</td>\n",
       "      <td>0</td>\n",
       "      <td>0</td>\n",
       "      <td>0</td>\n",
       "      <td>0</td>\n",
       "      <td>0</td>\n",
       "      <td>0</td>\n",
       "      <td>...</td>\n",
       "      <td>0</td>\n",
       "      <td>0</td>\n",
       "      <td>0</td>\n",
       "      <td>0</td>\n",
       "      <td>0</td>\n",
       "      <td>0</td>\n",
       "      <td>0</td>\n",
       "      <td>0</td>\n",
       "      <td>0</td>\n",
       "      <td>1</td>\n",
       "    </tr>\n",
       "    <tr>\n",
       "      <th>22437</th>\n",
       "      <td>6.0</td>\n",
       "      <td>10.0</td>\n",
       "      <td>0</td>\n",
       "      <td>0</td>\n",
       "      <td>0</td>\n",
       "      <td>0</td>\n",
       "      <td>0</td>\n",
       "      <td>0</td>\n",
       "      <td>0</td>\n",
       "      <td>0</td>\n",
       "      <td>...</td>\n",
       "      <td>0</td>\n",
       "      <td>0</td>\n",
       "      <td>0</td>\n",
       "      <td>0</td>\n",
       "      <td>0</td>\n",
       "      <td>0</td>\n",
       "      <td>0</td>\n",
       "      <td>0</td>\n",
       "      <td>0</td>\n",
       "      <td>1</td>\n",
       "    </tr>\n",
       "    <tr>\n",
       "      <th>22438</th>\n",
       "      <td>6.0</td>\n",
       "      <td>11.0</td>\n",
       "      <td>0</td>\n",
       "      <td>0</td>\n",
       "      <td>0</td>\n",
       "      <td>0</td>\n",
       "      <td>0</td>\n",
       "      <td>0</td>\n",
       "      <td>0</td>\n",
       "      <td>0</td>\n",
       "      <td>...</td>\n",
       "      <td>0</td>\n",
       "      <td>0</td>\n",
       "      <td>0</td>\n",
       "      <td>0</td>\n",
       "      <td>0</td>\n",
       "      <td>0</td>\n",
       "      <td>0</td>\n",
       "      <td>0</td>\n",
       "      <td>0</td>\n",
       "      <td>1</td>\n",
       "    </tr>\n",
       "    <tr>\n",
       "      <th>22439</th>\n",
       "      <td>7.0</td>\n",
       "      <td>0.0</td>\n",
       "      <td>0</td>\n",
       "      <td>0</td>\n",
       "      <td>0</td>\n",
       "      <td>0</td>\n",
       "      <td>0</td>\n",
       "      <td>0</td>\n",
       "      <td>0</td>\n",
       "      <td>0</td>\n",
       "      <td>...</td>\n",
       "      <td>0</td>\n",
       "      <td>0</td>\n",
       "      <td>0</td>\n",
       "      <td>0</td>\n",
       "      <td>0</td>\n",
       "      <td>0</td>\n",
       "      <td>0</td>\n",
       "      <td>0</td>\n",
       "      <td>0</td>\n",
       "      <td>1</td>\n",
       "    </tr>\n",
       "  </tbody>\n",
       "</table>\n",
       "<p>22440 rows × 266 columns</p>\n",
       "</div>"
      ],
      "text/plain": [
       "       year  month  item_id_I00001  item_id_I00002  item_id_I00003  \\\n",
       "0       0.0    0.0               1               0               0   \n",
       "1       0.0    1.0               1               0               0   \n",
       "2       0.0    2.0               1               0               0   \n",
       "3       0.0    3.0               1               0               0   \n",
       "4       0.0    4.0               1               0               0   \n",
       "...     ...    ...             ...             ...             ...   \n",
       "22435   6.0    8.0               0               0               0   \n",
       "22436   6.0    9.0               0               0               0   \n",
       "22437   6.0   10.0               0               0               0   \n",
       "22438   6.0   11.0               0               0               0   \n",
       "22439   7.0    0.0               0               0               0   \n",
       "\n",
       "       item_id_I00004  item_id_I00005  item_id_I00006  item_id_I00007  \\\n",
       "0                   0               0               0               0   \n",
       "1                   0               0               0               0   \n",
       "2                   0               0               0               0   \n",
       "3                   0               0               0               0   \n",
       "4                   0               0               0               0   \n",
       "...               ...             ...             ...             ...   \n",
       "22435               0               0               0               0   \n",
       "22436               0               0               0               0   \n",
       "22437               0               0               0               0   \n",
       "22438               0               0               0               0   \n",
       "22439               0               0               0               0   \n",
       "\n",
       "       item_id_I00008  ...  item_id_I00255  item_id_I00256  item_id_I00257  \\\n",
       "0                   0  ...               0               0               0   \n",
       "1                   0  ...               0               0               0   \n",
       "2                   0  ...               0               0               0   \n",
       "3                   0  ...               0               0               0   \n",
       "4                   0  ...               0               0               0   \n",
       "...               ...  ...             ...             ...             ...   \n",
       "22435               0  ...               0               0               0   \n",
       "22436               0  ...               0               0               0   \n",
       "22437               0  ...               0               0               0   \n",
       "22438               0  ...               0               0               0   \n",
       "22439               0  ...               0               0               0   \n",
       "\n",
       "       item_id_I00258  item_id_I00259  item_id_I00260  item_id_I00261  \\\n",
       "0                   0               0               0               0   \n",
       "1                   0               0               0               0   \n",
       "2                   0               0               0               0   \n",
       "3                   0               0               0               0   \n",
       "4                   0               0               0               0   \n",
       "...               ...             ...             ...             ...   \n",
       "22435               0               0               0               0   \n",
       "22436               0               0               0               0   \n",
       "22437               0               0               0               0   \n",
       "22438               0               0               0               0   \n",
       "22439               0               0               0               0   \n",
       "\n",
       "       item_id_I00262  item_id_I00263  item_id_I00264  \n",
       "0                   0               0               0  \n",
       "1                   0               0               0  \n",
       "2                   0               0               0  \n",
       "3                   0               0               0  \n",
       "4                   0               0               0  \n",
       "...               ...             ...             ...  \n",
       "22435               0               0               1  \n",
       "22436               0               0               1  \n",
       "22437               0               0               1  \n",
       "22438               0               0               1  \n",
       "22439               0               0               1  \n",
       "\n",
       "[22440 rows x 266 columns]"
      ]
     },
     "execution_count": 14,
     "metadata": {},
     "output_type": "execute_result"
    }
   ],
   "source": [
    "newdf"
   ]
  },
  {
   "cell_type": "code",
   "execution_count": 15,
   "id": "ca1965bd",
   "metadata": {},
   "outputs": [
    {
     "data": {
      "text/plain": [
       "year              float64\n",
       "month             float64\n",
       "item_id_I00001      uint8\n",
       "item_id_I00002      uint8\n",
       "item_id_I00003      uint8\n",
       "                   ...   \n",
       "item_id_I00260      uint8\n",
       "item_id_I00261      uint8\n",
       "item_id_I00262      uint8\n",
       "item_id_I00263      uint8\n",
       "item_id_I00264      uint8\n",
       "Length: 266, dtype: object"
      ]
     },
     "execution_count": 15,
     "metadata": {},
     "output_type": "execute_result"
    }
   ],
   "source": [
    "newdf.dtypes"
   ]
  },
  {
   "cell_type": "code",
   "execution_count": 16,
   "id": "b69abee0",
   "metadata": {},
   "outputs": [
    {
     "data": {
      "text/plain": [
       "Index([], dtype='object')"
      ]
     },
     "execution_count": 16,
     "metadata": {},
     "output_type": "execute_result"
    }
   ],
   "source": [
    "df3=df2\n",
    "# checking features\n",
    "cat = newdf.select_dtypes(include='O').keys()\n",
    "# display variabels\n",
    "cat"
   ]
  },
  {
   "cell_type": "code",
   "execution_count": 18,
   "id": "aeda1fc5",
   "metadata": {},
   "outputs": [
    {
     "name": "stdout",
     "output_type": "stream",
     "text": [
      "year : 8\n",
      "month : 12\n",
      "item_id_I00001 : 2\n",
      "item_id_I00002 : 2\n",
      "item_id_I00003 : 2\n",
      "item_id_I00004 : 2\n",
      "item_id_I00005 : 2\n",
      "item_id_I00006 : 2\n",
      "item_id_I00007 : 2\n",
      "item_id_I00008 : 2\n",
      "item_id_I00009 : 2\n",
      "item_id_I00010 : 2\n",
      "item_id_I00011 : 2\n",
      "item_id_I00012 : 2\n",
      "item_id_I00013 : 2\n",
      "item_id_I00014 : 2\n",
      "item_id_I00015 : 2\n",
      "item_id_I00016 : 2\n",
      "item_id_I00017 : 2\n",
      "item_id_I00018 : 2\n",
      "item_id_I00019 : 2\n",
      "item_id_I00020 : 2\n",
      "item_id_I00021 : 2\n",
      "item_id_I00022 : 2\n",
      "item_id_I00023 : 2\n",
      "item_id_I00024 : 2\n",
      "item_id_I00025 : 2\n",
      "item_id_I00026 : 2\n",
      "item_id_I00027 : 2\n",
      "item_id_I00028 : 2\n",
      "item_id_I00029 : 2\n",
      "item_id_I00030 : 2\n",
      "item_id_I00031 : 2\n",
      "item_id_I00032 : 2\n",
      "item_id_I00033 : 2\n",
      "item_id_I00034 : 2\n",
      "item_id_I00035 : 2\n",
      "item_id_I00036 : 2\n",
      "item_id_I00037 : 2\n",
      "item_id_I00038 : 2\n",
      "item_id_I00039 : 2\n",
      "item_id_I00040 : 2\n",
      "item_id_I00041 : 2\n",
      "item_id_I00042 : 2\n",
      "item_id_I00043 : 2\n",
      "item_id_I00044 : 2\n",
      "item_id_I00045 : 2\n",
      "item_id_I00046 : 2\n",
      "item_id_I00047 : 2\n",
      "item_id_I00048 : 2\n",
      "item_id_I00049 : 2\n",
      "item_id_I00050 : 2\n",
      "item_id_I00051 : 2\n",
      "item_id_I00052 : 2\n",
      "item_id_I00053 : 2\n",
      "item_id_I00054 : 2\n",
      "item_id_I00055 : 2\n",
      "item_id_I00056 : 2\n",
      "item_id_I00057 : 2\n",
      "item_id_I00058 : 2\n",
      "item_id_I00059 : 2\n",
      "item_id_I00060 : 2\n",
      "item_id_I00061 : 2\n",
      "item_id_I00062 : 2\n",
      "item_id_I00063 : 2\n",
      "item_id_I00064 : 2\n",
      "item_id_I00065 : 2\n",
      "item_id_I00066 : 2\n",
      "item_id_I00067 : 2\n",
      "item_id_I00068 : 2\n",
      "item_id_I00069 : 2\n",
      "item_id_I00070 : 2\n",
      "item_id_I00071 : 2\n",
      "item_id_I00072 : 2\n",
      "item_id_I00073 : 2\n",
      "item_id_I00074 : 2\n",
      "item_id_I00075 : 2\n",
      "item_id_I00076 : 2\n",
      "item_id_I00077 : 2\n",
      "item_id_I00078 : 2\n",
      "item_id_I00079 : 2\n",
      "item_id_I00080 : 2\n",
      "item_id_I00081 : 2\n",
      "item_id_I00082 : 2\n",
      "item_id_I00083 : 2\n",
      "item_id_I00084 : 2\n",
      "item_id_I00085 : 2\n",
      "item_id_I00086 : 2\n",
      "item_id_I00087 : 2\n",
      "item_id_I00088 : 2\n",
      "item_id_I00089 : 2\n",
      "item_id_I00090 : 2\n",
      "item_id_I00091 : 2\n",
      "item_id_I00092 : 2\n",
      "item_id_I00093 : 2\n",
      "item_id_I00094 : 2\n",
      "item_id_I00095 : 2\n",
      "item_id_I00096 : 2\n",
      "item_id_I00097 : 2\n",
      "item_id_I00098 : 2\n",
      "item_id_I00099 : 2\n",
      "item_id_I00100 : 2\n",
      "item_id_I00101 : 2\n",
      "item_id_I00102 : 2\n",
      "item_id_I00103 : 2\n",
      "item_id_I00104 : 2\n",
      "item_id_I00105 : 2\n",
      "item_id_I00106 : 2\n",
      "item_id_I00107 : 2\n",
      "item_id_I00108 : 2\n",
      "item_id_I00109 : 2\n",
      "item_id_I00110 : 2\n",
      "item_id_I00111 : 2\n",
      "item_id_I00112 : 2\n",
      "item_id_I00113 : 2\n",
      "item_id_I00114 : 2\n",
      "item_id_I00115 : 2\n",
      "item_id_I00116 : 2\n",
      "item_id_I00117 : 2\n",
      "item_id_I00118 : 2\n",
      "item_id_I00119 : 2\n",
      "item_id_I00120 : 2\n",
      "item_id_I00121 : 2\n",
      "item_id_I00122 : 2\n",
      "item_id_I00123 : 2\n",
      "item_id_I00124 : 2\n",
      "item_id_I00125 : 2\n",
      "item_id_I00126 : 2\n",
      "item_id_I00127 : 2\n",
      "item_id_I00128 : 2\n",
      "item_id_I00129 : 2\n",
      "item_id_I00130 : 2\n",
      "item_id_I00131 : 2\n",
      "item_id_I00132 : 2\n",
      "item_id_I00133 : 2\n",
      "item_id_I00134 : 2\n",
      "item_id_I00135 : 2\n",
      "item_id_I00136 : 2\n",
      "item_id_I00137 : 2\n",
      "item_id_I00138 : 2\n",
      "item_id_I00139 : 2\n",
      "item_id_I00140 : 2\n",
      "item_id_I00141 : 2\n",
      "item_id_I00142 : 2\n",
      "item_id_I00143 : 2\n",
      "item_id_I00144 : 2\n",
      "item_id_I00145 : 2\n",
      "item_id_I00146 : 2\n",
      "item_id_I00147 : 2\n",
      "item_id_I00148 : 2\n",
      "item_id_I00149 : 2\n",
      "item_id_I00150 : 2\n",
      "item_id_I00151 : 2\n",
      "item_id_I00152 : 2\n",
      "item_id_I00153 : 2\n",
      "item_id_I00154 : 2\n",
      "item_id_I00155 : 2\n",
      "item_id_I00156 : 2\n",
      "item_id_I00157 : 2\n",
      "item_id_I00158 : 2\n",
      "item_id_I00159 : 2\n",
      "item_id_I00160 : 2\n",
      "item_id_I00161 : 2\n",
      "item_id_I00162 : 2\n",
      "item_id_I00163 : 2\n",
      "item_id_I00164 : 2\n",
      "item_id_I00165 : 2\n",
      "item_id_I00166 : 2\n",
      "item_id_I00167 : 2\n",
      "item_id_I00168 : 2\n",
      "item_id_I00169 : 2\n",
      "item_id_I00170 : 2\n",
      "item_id_I00171 : 2\n",
      "item_id_I00172 : 2\n",
      "item_id_I00173 : 2\n",
      "item_id_I00174 : 2\n",
      "item_id_I00175 : 2\n",
      "item_id_I00176 : 2\n",
      "item_id_I00177 : 2\n",
      "item_id_I00178 : 2\n",
      "item_id_I00179 : 2\n",
      "item_id_I00180 : 2\n",
      "item_id_I00181 : 2\n",
      "item_id_I00182 : 2\n",
      "item_id_I00183 : 2\n",
      "item_id_I00184 : 2\n",
      "item_id_I00185 : 2\n",
      "item_id_I00186 : 2\n",
      "item_id_I00187 : 2\n",
      "item_id_I00188 : 2\n",
      "item_id_I00189 : 2\n",
      "item_id_I00190 : 2\n",
      "item_id_I00191 : 2\n",
      "item_id_I00192 : 2\n",
      "item_id_I00193 : 2\n",
      "item_id_I00194 : 2\n",
      "item_id_I00195 : 2\n",
      "item_id_I00196 : 2\n",
      "item_id_I00197 : 2\n",
      "item_id_I00198 : 2\n",
      "item_id_I00199 : 2\n",
      "item_id_I00200 : 2\n",
      "item_id_I00201 : 2\n",
      "item_id_I00202 : 2\n",
      "item_id_I00203 : 2\n",
      "item_id_I00204 : 2\n",
      "item_id_I00205 : 2\n",
      "item_id_I00206 : 2\n",
      "item_id_I00207 : 2\n",
      "item_id_I00208 : 2\n",
      "item_id_I00209 : 2\n",
      "item_id_I00210 : 2\n",
      "item_id_I00211 : 2\n",
      "item_id_I00212 : 2\n",
      "item_id_I00213 : 2\n",
      "item_id_I00214 : 2\n",
      "item_id_I00215 : 2\n",
      "item_id_I00216 : 2\n",
      "item_id_I00217 : 2\n",
      "item_id_I00218 : 2\n",
      "item_id_I00219 : 2\n",
      "item_id_I00220 : 2\n",
      "item_id_I00221 : 2\n",
      "item_id_I00222 : 2\n",
      "item_id_I00223 : 2\n",
      "item_id_I00224 : 2\n",
      "item_id_I00225 : 2\n",
      "item_id_I00226 : 2\n",
      "item_id_I00227 : 2\n",
      "item_id_I00228 : 2\n",
      "item_id_I00229 : 2\n",
      "item_id_I00230 : 2\n",
      "item_id_I00231 : 2\n",
      "item_id_I00232 : 2\n",
      "item_id_I00233 : 2\n",
      "item_id_I00234 : 2\n",
      "item_id_I00235 : 2\n",
      "item_id_I00236 : 2\n",
      "item_id_I00237 : 2\n",
      "item_id_I00238 : 2\n",
      "item_id_I00239 : 2\n",
      "item_id_I00240 : 2\n",
      "item_id_I00241 : 2\n",
      "item_id_I00242 : 2\n",
      "item_id_I00243 : 2\n",
      "item_id_I00244 : 2\n",
      "item_id_I00245 : 2\n",
      "item_id_I00246 : 2\n",
      "item_id_I00247 : 2\n",
      "item_id_I00248 : 2\n",
      "item_id_I00249 : 2\n",
      "item_id_I00250 : 2\n",
      "item_id_I00251 : 2\n",
      "item_id_I00252 : 2\n",
      "item_id_I00253 : 2\n",
      "item_id_I00254 : 2\n",
      "item_id_I00255 : 2\n",
      "item_id_I00256 : 2\n",
      "item_id_I00257 : 2\n",
      "item_id_I00258 : 2\n",
      "item_id_I00259 : 2\n",
      "item_id_I00260 : 2\n",
      "item_id_I00261 : 2\n",
      "item_id_I00262 : 2\n",
      "item_id_I00263 : 2\n",
      "item_id_I00264 : 2\n"
     ]
    }
   ],
   "source": [
    "# unique values in each columns\n",
    "for x in newdf.columns:\n",
    "    #prinfting unique values\n",
    "    print(x ,':', len(newdf[x].unique()))"
   ]
  },
  {
   "cell_type": "code",
   "execution_count": 19,
   "id": "02a572ad",
   "metadata": {},
   "outputs": [],
   "source": [
    "X=newdf\n",
    "y = df.iloc[:,-1]"
   ]
  },
  {
   "cell_type": "code",
   "execution_count": 20,
   "id": "78520ca8",
   "metadata": {},
   "outputs": [],
   "source": [
    "from sklearn.model_selection import train_test_split \n",
    "X_train,X_test,y_train,y_test = train_test_split(X,y, test_size = 0.2,random_state = 10)"
   ]
  },
  {
   "cell_type": "markdown",
   "id": "946d9e43",
   "metadata": {},
   "source": [
    "# Linear Regression"
   ]
  },
  {
   "cell_type": "code",
   "execution_count": 21,
   "id": "543d1b73",
   "metadata": {},
   "outputs": [],
   "source": [
    "# Model initialization\n",
    "regression_model = LinearRegression()\n",
    "# Fit the data(train the model)\n",
    "regression_model.fit(X_train, y_train)\n",
    "# Predict\n",
    "y_predicted = regression_model.predict(X_test)"
   ]
  },
  {
   "cell_type": "code",
   "execution_count": 22,
   "id": "2a66b38a",
   "metadata": {},
   "outputs": [],
   "source": [
    "from sklearn.metrics import mean_squared_error, r2_score"
   ]
  },
  {
   "cell_type": "code",
   "execution_count": 23,
   "id": "8f662294",
   "metadata": {},
   "outputs": [
    {
     "name": "stdout",
     "output_type": "stream",
     "text": [
      "Intercept: 4472.857972232503\n",
      "Root mean squared error:  1042750.4675026748\n",
      "R2:  0.8476532159593491\n"
     ]
    }
   ],
   "source": [
    "# model evaluation\n",
    "rmse = mean_squared_error(y_test, y_predicted)\n",
    "r2 = r2_score(y_test, y_predicted)\n",
    "\n",
    "# printing values\n",
    "print('Intercept:', regression_model.intercept_)\n",
    "print('Root mean squared error: ', rmse)\n",
    "print('R2: ', r2)"
   ]
  },
  {
   "cell_type": "code",
   "execution_count": 28,
   "id": "0b767ad2",
   "metadata": {},
   "outputs": [
    {
     "data": {
      "text/plain": [
       "0.8476532159593491"
      ]
     },
     "execution_count": 28,
     "metadata": {},
     "output_type": "execute_result"
    }
   ],
   "source": [
    "regression_model.score(X_test,y_test)"
   ]
  },
  {
   "cell_type": "code",
   "execution_count": null,
   "id": "fcad2261",
   "metadata": {},
   "outputs": [],
   "source": [
    "SVR"
   ]
  },
  {
   "cell_type": "code",
   "execution_count": 25,
   "id": "fcdf0e89",
   "metadata": {},
   "outputs": [],
   "source": [
    "from sklearn import svm\n",
    "regr = svm.SVR(kernel=\"linear\", C=100, gamma=\"auto\")\n",
    "regr.fit(X_train, y_train)\n",
    "# Predict\n",
    "y_predicted = regr.predict(X_test)"
   ]
  },
  {
   "cell_type": "code",
   "execution_count": 26,
   "id": "a0f8926e",
   "metadata": {},
   "outputs": [
    {
     "name": "stdout",
     "output_type": "stream",
     "text": [
      "Intercept: [4423.19579319]\n",
      "Root mean squared error:  1603183.5664914402\n",
      "R2:  0.7657734345909889\n"
     ]
    }
   ],
   "source": [
    "# model evaluation\n",
    "rmse = mean_squared_error(y_test, y_predicted)\n",
    "r2 = r2_score(y_test, y_predicted)\n",
    "\n",
    "# printing values\n",
    "print('Intercept:', regr.intercept_)\n",
    "print('Root mean squared error: ', rmse)\n",
    "print('R2: ', r2)"
   ]
  },
  {
   "cell_type": "code",
   "execution_count": 27,
   "id": "c827064a",
   "metadata": {},
   "outputs": [
    {
     "data": {
      "text/plain": [
       "0.7657734345909889"
      ]
     },
     "execution_count": 27,
     "metadata": {},
     "output_type": "execute_result"
    }
   ],
   "source": [
    "regr.score(X_test,y_test)"
   ]
  },
  {
   "cell_type": "code",
   "execution_count": null,
   "id": "c6d27821",
   "metadata": {},
   "outputs": [],
   "source": [
    "newdf=df.iloc[:,:-1]\n",
    "newdf=pd.get_dummies(newdf,columns = ['item_id','month','year'])"
   ]
  },
  {
   "cell_type": "code",
   "execution_count": null,
   "id": "cd1bed5c",
   "metadata": {},
   "outputs": [],
   "source": [
    "newdf"
   ]
  },
  {
   "cell_type": "code",
   "execution_count": null,
   "id": "3898d90b",
   "metadata": {},
   "outputs": [],
   "source": [
    "from sklearn.model_selection import train_test_split \n",
    "X_train,X_test,y_train,y_test = train_test_split(X,y, test_size = 0.2,random_state = 10)"
   ]
  },
  {
   "cell_type": "code",
   "execution_count": null,
   "id": "1e7f091c",
   "metadata": {},
   "outputs": [],
   "source": [
    "# Model initialization\n",
    "regression_model = LinearRegression()\n",
    "# Fit the data(train the model)\n",
    "regression_model.fit(X_train, y_train)\n",
    "# Predict\n",
    "y_predicted = regression_model.predict(X_test)"
   ]
  },
  {
   "cell_type": "code",
   "execution_count": null,
   "id": "2786dea0",
   "metadata": {},
   "outputs": [],
   "source": [
    "from sklearn.metrics import mean_squared_error, r2_score"
   ]
  },
  {
   "cell_type": "code",
   "execution_count": null,
   "id": "993290bf",
   "metadata": {},
   "outputs": [],
   "source": [
    "# model evaluation\n",
    "rmse = mean_squared_error(y_test, y_predicted)\n",
    "r2 = r2_score(y_test, y_predicted)\n",
    "\n",
    "# printing values\n",
    "print('Intercept:', regression_model.intercept_)\n",
    "print('Root mean squared error: ', rmse)\n",
    "print('R2: ', r2)"
   ]
  },
  {
   "cell_type": "code",
   "execution_count": null,
   "id": "320bcbb4",
   "metadata": {},
   "outputs": [],
   "source": [
    "regression_model.score(X_test,y_test)"
   ]
  },
  {
   "cell_type": "code",
   "execution_count": null,
   "id": "91d7207f",
   "metadata": {},
   "outputs": [],
   "source": [
    "y_predicted = regr.predict(X_test)"
   ]
  },
  {
   "cell_type": "code",
   "execution_count": null,
   "id": "dd8cbb70",
   "metadata": {},
   "outputs": [],
   "source": [
    "regr.score(X_test,y_test)"
   ]
  },
  {
   "cell_type": "code",
   "execution_count": null,
   "id": "475df8ba",
   "metadata": {},
   "outputs": [],
   "source": [
    "from sklearn.pipeline import make_pipeline\n",
    "from sklearn.preprocessing import StandardScaler\n",
    "\n",
    "regr = make_pipeline(StandardScaler(), svm.SVR(C=1.0, epsilon=0.2))\n",
    "regr.fit(X_train, y_train)"
   ]
  },
  {
   "cell_type": "code",
   "execution_count": null,
   "id": "229c8bf1",
   "metadata": {},
   "outputs": [],
   "source": [
    "y_predicted = regr.predict(X_test)"
   ]
  },
  {
   "cell_type": "code",
   "execution_count": null,
   "id": "0c6ba222",
   "metadata": {},
   "outputs": [],
   "source": [
    "# model evaluation\n",
    "rmse = mean_squared_error(y_test, y_predicted)\n",
    "r2 = r2_score(y_test, y_predicted)\n",
    "\n",
    "# printing values\n",
    "#print('Intercept:', regr.intercept_)\n",
    "print('Root mean squared error: ', rmse)\n",
    "print('R2: ', r2)"
   ]
  },
  {
   "cell_type": "code",
   "execution_count": null,
   "id": "9f621118",
   "metadata": {},
   "outputs": [],
   "source": [
    "regr.score(X_test,y_test)"
   ]
  },
  {
   "cell_type": "code",
   "execution_count": null,
   "id": "9df2e3f9",
   "metadata": {},
   "outputs": [],
   "source": [
    "df=data"
   ]
  },
  {
   "cell_type": "code",
   "execution_count": null,
   "id": "da70493f",
   "metadata": {},
   "outputs": [],
   "source": [
    "# split the dataset into train and test sets\n",
    "X_train, X_test, y_train, y_test = train_test_split(X, y, test_size=0.33, random_state=1)"
   ]
  },
  {
   "cell_type": "code",
   "execution_count": null,
   "id": "b6e1ebad",
   "metadata": {},
   "outputs": [],
   "source": [
    "# one hot encode input variables\n",
    "onehot_encoder = OneHotEncoder(sparse=False)\n",
    "X = onehot_encoder.fit_transform(X)\n",
    "# summarize the transformed data\n",
    "print('Input', X.shape)\n",
    "print(X)"
   ]
  },
  {
   "cell_type": "code",
   "execution_count": null,
   "id": "f4ffddbe",
   "metadata": {},
   "outputs": [],
   "source": [
    "# split the dataset into train and test sets\n",
    "X_train, X_test, y_train, y_test = train_test_split(X, y, test_size=0.33, random_state=1)"
   ]
  },
  {
   "cell_type": "code",
   "execution_count": null,
   "id": "7d10265a",
   "metadata": {},
   "outputs": [],
   "source": [
    "print(y_train.shape)"
   ]
  },
  {
   "cell_type": "code",
   "execution_count": null,
   "id": "7c70966d",
   "metadata": {},
   "outputs": [],
   "source": [
    "# Model initialization\n",
    "regression_model = LinearRegression()\n",
    "# Fit the data(train the model)\n",
    "regression_model.fit(X_train, y_train)\n",
    "# Predict\n",
    "y_predicted = regression_model.predict(X_test)"
   ]
  },
  {
   "cell_type": "code",
   "execution_count": null,
   "id": "ce33956a",
   "metadata": {},
   "outputs": [],
   "source": [
    "# model evaluation\n",
    "rmse = mean_squared_error(y_test, y_predicted)\n",
    "r2 = r2_score(y_test, y_predicted)\n",
    "\n",
    "# printing values\n",
    "print('Intercept:', regression_model.intercept_)\n",
    "print('Root mean squared error: ', rmse)"
   ]
  },
  {
   "cell_type": "code",
   "execution_count": null,
   "id": "d1c788aa",
   "metadata": {},
   "outputs": [],
   "source": [
    "plt.scatter(X_train, y_train)"
   ]
  },
  {
   "cell_type": "code",
   "execution_count": null,
   "id": "140400c9",
   "metadata": {},
   "outputs": [],
   "source": [
    "print(X_train.size)"
   ]
  },
  {
   "cell_type": "code",
   "execution_count": null,
   "id": "0e027a77",
   "metadata": {},
   "outputs": [],
   "source": []
  }
 ],
 "metadata": {
  "kernelspec": {
   "display_name": "Python 3 (ipykernel)",
   "language": "python",
   "name": "python3"
  },
  "language_info": {
   "codemirror_mode": {
    "name": "ipython",
    "version": 3
   },
   "file_extension": ".py",
   "mimetype": "text/x-python",
   "name": "python",
   "nbconvert_exporter": "python",
   "pygments_lexer": "ipython3",
   "version": "3.9.7"
  }
 },
 "nbformat": 4,
 "nbformat_minor": 5
}
