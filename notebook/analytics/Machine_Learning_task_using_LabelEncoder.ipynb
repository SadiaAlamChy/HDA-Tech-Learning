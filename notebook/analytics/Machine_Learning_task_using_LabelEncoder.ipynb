{
 "cells": [
  {
   "cell_type": "markdown",
   "id": "e9a468a7",
   "metadata": {},
   "source": [
    "### Package installation"
   ]
  },
  {
   "cell_type": "code",
   "execution_count": 1,
   "id": "c1e39e8b",
   "metadata": {},
   "outputs": [],
   "source": [
    "# !pip install psycopg2"
   ]
  },
  {
   "cell_type": "code",
   "execution_count": 2,
   "id": "898c2ccd",
   "metadata": {},
   "outputs": [],
   "source": [
    "#pip install openpyxl"
   ]
  },
  {
   "cell_type": "markdown",
   "id": "5aabcafc",
   "metadata": {},
   "source": [
    "### Package call"
   ]
  },
  {
   "cell_type": "code",
   "execution_count": 28,
   "id": "6ece9436",
   "metadata": {},
   "outputs": [],
   "source": [
    "import psycopg2\n",
    "import pandas as pd\n",
    "import psycopg2.extras\n",
    "\n",
    "import numpy as np\n",
    "import matplotlib.pyplot as plt\n",
    "from matplotlib import colors\n",
    "from matplotlib.ticker import PercentFormatter\n",
    "\n",
    "from sklearn.preprocessing import MinMaxScaler\n",
    "\n",
    "import pickle"
   ]
  },
  {
   "cell_type": "markdown",
   "id": "110fa63e",
   "metadata": {},
   "source": [
    "### Load"
   ]
  },
  {
   "cell_type": "markdown",
   "id": "dbd8ec63",
   "metadata": {},
   "source": [
    "***Connect to the database***"
   ]
  },
  {
   "cell_type": "code",
   "execution_count": 29,
   "id": "5d3f72cb",
   "metadata": {},
   "outputs": [],
   "source": [
    "\n",
    "class PostgresConnection(object):\n",
    "    def __init__(self):\n",
    "        self.connection = psycopg2.connect(database=\"ecomdb\",\n",
    "                                           user = \"postgres\",\n",
    "                                           password = \"Rsjintu8\",\n",
    "                                           host = \"localhost\", #\"127.0.0.1\",\n",
    "                                           port = \"5432\")\n",
    "\n",
    "    def getConnection(self):\n",
    "        print(\"successfully connected to database\")\n",
    "        return self.connection"
   ]
  },
  {
   "cell_type": "code",
   "execution_count": 30,
   "id": "add24549",
   "metadata": {
    "scrolled": false
   },
   "outputs": [
    {
     "name": "stdout",
     "output_type": "stream",
     "text": [
      "successfully connected to database\n"
     ]
    }
   ],
   "source": [
    "con = PostgresConnection().getConnection()"
   ]
  },
  {
   "cell_type": "markdown",
   "id": "87abf15e",
   "metadata": {},
   "source": [
    "## Load dataset"
   ]
  },
  {
   "cell_type": "code",
   "execution_count": 31,
   "id": "43d8effa",
   "metadata": {
    "scrolled": true
   },
   "outputs": [],
   "source": [
    "cur = con.cursor()\n",
    "select_stmt = \"SELECT i.item_key as item, t.month, t.year, SUM(f.total_price) as total_sale_price \"\\\n",
    "\"FROM ecomdb.fact_table as f \"\\\n",
    "\"JOIN ecomdb.store_dim as s ON s.store_key = f.store_key \"\\\n",
    "\"JOIN ecomdb.time_dim as t ON t.time_key = f.time_key \"\\\n",
    "\"JOIN ecomdb.item_dim as i ON i.item_key = f.item_key \"\\\n",
    "\"GROUP BY (i.item_key,t.year,t.month)\"\n",
    "cur.execute(select_stmt)\n",
    "records = cur.fetchall()\n",
    "# records"
   ]
  },
  {
   "cell_type": "code",
   "execution_count": 32,
   "id": "08d4f359",
   "metadata": {},
   "outputs": [
    {
     "data": {
      "text/html": [
       "<div>\n",
       "<style scoped>\n",
       "    .dataframe tbody tr th:only-of-type {\n",
       "        vertical-align: middle;\n",
       "    }\n",
       "\n",
       "    .dataframe tbody tr th {\n",
       "        vertical-align: top;\n",
       "    }\n",
       "\n",
       "    .dataframe thead th {\n",
       "        text-align: right;\n",
       "    }\n",
       "</style>\n",
       "<table border=\"1\" class=\"dataframe\">\n",
       "  <thead>\n",
       "    <tr style=\"text-align: right;\">\n",
       "      <th></th>\n",
       "      <th>Item</th>\n",
       "      <th>Month</th>\n",
       "      <th>Year</th>\n",
       "      <th>Total_sale_price</th>\n",
       "    </tr>\n",
       "  </thead>\n",
       "  <tbody>\n",
       "    <tr>\n",
       "      <th>0</th>\n",
       "      <td>I00001</td>\n",
       "      <td>1</td>\n",
       "      <td>2014</td>\n",
       "      <td>1518.00</td>\n",
       "    </tr>\n",
       "    <tr>\n",
       "      <th>1</th>\n",
       "      <td>I00001</td>\n",
       "      <td>2</td>\n",
       "      <td>2014</td>\n",
       "      <td>2794.50</td>\n",
       "    </tr>\n",
       "    <tr>\n",
       "      <th>2</th>\n",
       "      <td>I00001</td>\n",
       "      <td>3</td>\n",
       "      <td>2014</td>\n",
       "      <td>2921.00</td>\n",
       "    </tr>\n",
       "    <tr>\n",
       "      <th>3</th>\n",
       "      <td>I00001</td>\n",
       "      <td>4</td>\n",
       "      <td>2014</td>\n",
       "      <td>3737.50</td>\n",
       "    </tr>\n",
       "    <tr>\n",
       "      <th>4</th>\n",
       "      <td>I00001</td>\n",
       "      <td>5</td>\n",
       "      <td>2014</td>\n",
       "      <td>2679.50</td>\n",
       "    </tr>\n",
       "    <tr>\n",
       "      <th>...</th>\n",
       "      <td>...</td>\n",
       "      <td>...</td>\n",
       "      <td>...</td>\n",
       "      <td>...</td>\n",
       "    </tr>\n",
       "    <tr>\n",
       "      <th>22435</th>\n",
       "      <td>I00264</td>\n",
       "      <td>9</td>\n",
       "      <td>2020</td>\n",
       "      <td>4155.00</td>\n",
       "    </tr>\n",
       "    <tr>\n",
       "      <th>22436</th>\n",
       "      <td>I00264</td>\n",
       "      <td>10</td>\n",
       "      <td>2020</td>\n",
       "      <td>6315.00</td>\n",
       "    </tr>\n",
       "    <tr>\n",
       "      <th>22437</th>\n",
       "      <td>I00264</td>\n",
       "      <td>11</td>\n",
       "      <td>2020</td>\n",
       "      <td>2910.00</td>\n",
       "    </tr>\n",
       "    <tr>\n",
       "      <th>22438</th>\n",
       "      <td>I00264</td>\n",
       "      <td>12</td>\n",
       "      <td>2020</td>\n",
       "      <td>6390.00</td>\n",
       "    </tr>\n",
       "    <tr>\n",
       "      <th>22439</th>\n",
       "      <td>I00264</td>\n",
       "      <td>1</td>\n",
       "      <td>2021</td>\n",
       "      <td>2910.00</td>\n",
       "    </tr>\n",
       "  </tbody>\n",
       "</table>\n",
       "<p>22440 rows × 4 columns</p>\n",
       "</div>"
      ],
      "text/plain": [
       "         Item  Month  Year Total_sale_price\n",
       "0      I00001      1  2014          1518.00\n",
       "1      I00001      2  2014          2794.50\n",
       "2      I00001      3  2014          2921.00\n",
       "3      I00001      4  2014          3737.50\n",
       "4      I00001      5  2014          2679.50\n",
       "...       ...    ...   ...              ...\n",
       "22435  I00264      9  2020          4155.00\n",
       "22436  I00264     10  2020          6315.00\n",
       "22437  I00264     11  2020          2910.00\n",
       "22438  I00264     12  2020          6390.00\n",
       "22439  I00264      1  2021          2910.00\n",
       "\n",
       "[22440 rows x 4 columns]"
      ]
     },
     "execution_count": 32,
     "metadata": {},
     "output_type": "execute_result"
    }
   ],
   "source": [
    "df = pd.DataFrame(list(records), columns=['Item', 'Month', 'Year', 'Total_sale_price'])\n",
    "df = df.dropna()\n",
    "df"
   ]
  },
  {
   "cell_type": "code",
   "execution_count": 33,
   "id": "d927dc73",
   "metadata": {},
   "outputs": [],
   "source": [
    "# save the dataset\n",
    "\n",
    "# df.to_csv(\"D:\\\\4th Year\\\\Python Projects\\\\Virtual Internship\\\\advance_task_dataset.csv\", index=False) "
   ]
  },
  {
   "cell_type": "markdown",
   "id": "f6601a95",
   "metadata": {},
   "source": [
    "# Data Preprocessing"
   ]
  },
  {
   "cell_type": "markdown",
   "id": "c23bd5eb",
   "metadata": {},
   "source": [
    "### LabelEncoding"
   ]
  },
  {
   "cell_type": "code",
   "execution_count": 34,
   "id": "760bd2e1",
   "metadata": {},
   "outputs": [
    {
     "data": {
      "text/html": [
       "<div>\n",
       "<style scoped>\n",
       "    .dataframe tbody tr th:only-of-type {\n",
       "        vertical-align: middle;\n",
       "    }\n",
       "\n",
       "    .dataframe tbody tr th {\n",
       "        vertical-align: top;\n",
       "    }\n",
       "\n",
       "    .dataframe thead th {\n",
       "        text-align: right;\n",
       "    }\n",
       "</style>\n",
       "<table border=\"1\" class=\"dataframe\">\n",
       "  <thead>\n",
       "    <tr style=\"text-align: right;\">\n",
       "      <th></th>\n",
       "      <th>Item</th>\n",
       "      <th>Month</th>\n",
       "      <th>Year</th>\n",
       "      <th>Total_sale_price</th>\n",
       "    </tr>\n",
       "  </thead>\n",
       "  <tbody>\n",
       "    <tr>\n",
       "      <th>0</th>\n",
       "      <td>0</td>\n",
       "      <td>1</td>\n",
       "      <td>2014</td>\n",
       "      <td>1518.00</td>\n",
       "    </tr>\n",
       "    <tr>\n",
       "      <th>1</th>\n",
       "      <td>0</td>\n",
       "      <td>2</td>\n",
       "      <td>2014</td>\n",
       "      <td>2794.50</td>\n",
       "    </tr>\n",
       "    <tr>\n",
       "      <th>2</th>\n",
       "      <td>0</td>\n",
       "      <td>3</td>\n",
       "      <td>2014</td>\n",
       "      <td>2921.00</td>\n",
       "    </tr>\n",
       "    <tr>\n",
       "      <th>3</th>\n",
       "      <td>0</td>\n",
       "      <td>4</td>\n",
       "      <td>2014</td>\n",
       "      <td>3737.50</td>\n",
       "    </tr>\n",
       "    <tr>\n",
       "      <th>4</th>\n",
       "      <td>0</td>\n",
       "      <td>5</td>\n",
       "      <td>2014</td>\n",
       "      <td>2679.50</td>\n",
       "    </tr>\n",
       "    <tr>\n",
       "      <th>...</th>\n",
       "      <td>...</td>\n",
       "      <td>...</td>\n",
       "      <td>...</td>\n",
       "      <td>...</td>\n",
       "    </tr>\n",
       "    <tr>\n",
       "      <th>22435</th>\n",
       "      <td>263</td>\n",
       "      <td>9</td>\n",
       "      <td>2020</td>\n",
       "      <td>4155.00</td>\n",
       "    </tr>\n",
       "    <tr>\n",
       "      <th>22436</th>\n",
       "      <td>263</td>\n",
       "      <td>10</td>\n",
       "      <td>2020</td>\n",
       "      <td>6315.00</td>\n",
       "    </tr>\n",
       "    <tr>\n",
       "      <th>22437</th>\n",
       "      <td>263</td>\n",
       "      <td>11</td>\n",
       "      <td>2020</td>\n",
       "      <td>2910.00</td>\n",
       "    </tr>\n",
       "    <tr>\n",
       "      <th>22438</th>\n",
       "      <td>263</td>\n",
       "      <td>12</td>\n",
       "      <td>2020</td>\n",
       "      <td>6390.00</td>\n",
       "    </tr>\n",
       "    <tr>\n",
       "      <th>22439</th>\n",
       "      <td>263</td>\n",
       "      <td>1</td>\n",
       "      <td>2021</td>\n",
       "      <td>2910.00</td>\n",
       "    </tr>\n",
       "  </tbody>\n",
       "</table>\n",
       "<p>22440 rows × 4 columns</p>\n",
       "</div>"
      ],
      "text/plain": [
       "       Item  Month  Year Total_sale_price\n",
       "0         0      1  2014          1518.00\n",
       "1         0      2  2014          2794.50\n",
       "2         0      3  2014          2921.00\n",
       "3         0      4  2014          3737.50\n",
       "4         0      5  2014          2679.50\n",
       "...     ...    ...   ...              ...\n",
       "22435   263      9  2020          4155.00\n",
       "22436   263     10  2020          6315.00\n",
       "22437   263     11  2020          2910.00\n",
       "22438   263     12  2020          6390.00\n",
       "22439   263      1  2021          2910.00\n",
       "\n",
       "[22440 rows x 4 columns]"
      ]
     },
     "execution_count": 34,
     "metadata": {},
     "output_type": "execute_result"
    }
   ],
   "source": [
    "from sklearn.preprocessing import LabelEncoder, OneHotEncoder\n",
    "\n",
    "le=LabelEncoder()\n",
    "\n",
    "df.Item=le.fit_transform(df['Item'])\n",
    "df"
   ]
  },
  {
   "cell_type": "markdown",
   "id": "8cb5730d",
   "metadata": {},
   "source": [
    "### scaling Year"
   ]
  },
  {
   "cell_type": "code",
   "execution_count": 35,
   "id": "4b20f490",
   "metadata": {},
   "outputs": [],
   "source": [
    "# scaler = MinMaxScaler()\n",
    "# scaler.fit(df[['Year']])\n",
    "# df['Year'] = scaler.transform(df[['Year']])\n",
    "# df['Year'].values"
   ]
  },
  {
   "cell_type": "code",
   "execution_count": 36,
   "id": "4a2cf094",
   "metadata": {},
   "outputs": [
    {
     "data": {
      "text/plain": [
       "0        2014\n",
       "1        2014\n",
       "2        2014\n",
       "3        2014\n",
       "4        2014\n",
       "         ... \n",
       "22435    2020\n",
       "22436    2020\n",
       "22437    2020\n",
       "22438    2020\n",
       "22439    2021\n",
       "Name: Year, Length: 22440, dtype: int64"
      ]
     },
     "execution_count": 36,
     "metadata": {},
     "output_type": "execute_result"
    }
   ],
   "source": [
    "df['Year']"
   ]
  },
  {
   "cell_type": "code",
   "execution_count": 37,
   "id": "e167915f",
   "metadata": {},
   "outputs": [
    {
     "data": {
      "text/html": [
       "<div>\n",
       "<style scoped>\n",
       "    .dataframe tbody tr th:only-of-type {\n",
       "        vertical-align: middle;\n",
       "    }\n",
       "\n",
       "    .dataframe tbody tr th {\n",
       "        vertical-align: top;\n",
       "    }\n",
       "\n",
       "    .dataframe thead th {\n",
       "        text-align: right;\n",
       "    }\n",
       "</style>\n",
       "<table border=\"1\" class=\"dataframe\">\n",
       "  <thead>\n",
       "    <tr style=\"text-align: right;\">\n",
       "      <th></th>\n",
       "      <th>Item</th>\n",
       "      <th>Month</th>\n",
       "      <th>Year</th>\n",
       "      <th>Total_sale_price</th>\n",
       "    </tr>\n",
       "  </thead>\n",
       "  <tbody>\n",
       "    <tr>\n",
       "      <th>0</th>\n",
       "      <td>0</td>\n",
       "      <td>1</td>\n",
       "      <td>2014</td>\n",
       "      <td>1518.00</td>\n",
       "    </tr>\n",
       "    <tr>\n",
       "      <th>1</th>\n",
       "      <td>0</td>\n",
       "      <td>2</td>\n",
       "      <td>2014</td>\n",
       "      <td>2794.50</td>\n",
       "    </tr>\n",
       "    <tr>\n",
       "      <th>2</th>\n",
       "      <td>0</td>\n",
       "      <td>3</td>\n",
       "      <td>2014</td>\n",
       "      <td>2921.00</td>\n",
       "    </tr>\n",
       "    <tr>\n",
       "      <th>3</th>\n",
       "      <td>0</td>\n",
       "      <td>4</td>\n",
       "      <td>2014</td>\n",
       "      <td>3737.50</td>\n",
       "    </tr>\n",
       "    <tr>\n",
       "      <th>4</th>\n",
       "      <td>0</td>\n",
       "      <td>5</td>\n",
       "      <td>2014</td>\n",
       "      <td>2679.50</td>\n",
       "    </tr>\n",
       "    <tr>\n",
       "      <th>...</th>\n",
       "      <td>...</td>\n",
       "      <td>...</td>\n",
       "      <td>...</td>\n",
       "      <td>...</td>\n",
       "    </tr>\n",
       "    <tr>\n",
       "      <th>22435</th>\n",
       "      <td>263</td>\n",
       "      <td>9</td>\n",
       "      <td>2020</td>\n",
       "      <td>4155.00</td>\n",
       "    </tr>\n",
       "    <tr>\n",
       "      <th>22436</th>\n",
       "      <td>263</td>\n",
       "      <td>10</td>\n",
       "      <td>2020</td>\n",
       "      <td>6315.00</td>\n",
       "    </tr>\n",
       "    <tr>\n",
       "      <th>22437</th>\n",
       "      <td>263</td>\n",
       "      <td>11</td>\n",
       "      <td>2020</td>\n",
       "      <td>2910.00</td>\n",
       "    </tr>\n",
       "    <tr>\n",
       "      <th>22438</th>\n",
       "      <td>263</td>\n",
       "      <td>12</td>\n",
       "      <td>2020</td>\n",
       "      <td>6390.00</td>\n",
       "    </tr>\n",
       "    <tr>\n",
       "      <th>22439</th>\n",
       "      <td>263</td>\n",
       "      <td>1</td>\n",
       "      <td>2021</td>\n",
       "      <td>2910.00</td>\n",
       "    </tr>\n",
       "  </tbody>\n",
       "</table>\n",
       "<p>22440 rows × 4 columns</p>\n",
       "</div>"
      ],
      "text/plain": [
       "       Item  Month  Year Total_sale_price\n",
       "0         0      1  2014          1518.00\n",
       "1         0      2  2014          2794.50\n",
       "2         0      3  2014          2921.00\n",
       "3         0      4  2014          3737.50\n",
       "4         0      5  2014          2679.50\n",
       "...     ...    ...   ...              ...\n",
       "22435   263      9  2020          4155.00\n",
       "22436   263     10  2020          6315.00\n",
       "22437   263     11  2020          2910.00\n",
       "22438   263     12  2020          6390.00\n",
       "22439   263      1  2021          2910.00\n",
       "\n",
       "[22440 rows x 4 columns]"
      ]
     },
     "execution_count": 37,
     "metadata": {},
     "output_type": "execute_result"
    }
   ],
   "source": [
    "df"
   ]
  },
  {
   "cell_type": "code",
   "execution_count": 11,
   "id": "5608a8b5",
   "metadata": {},
   "outputs": [
    {
     "name": "stdout",
     "output_type": "stream",
     "text": [
      "Checking data quality....\n",
      "<class 'pandas.core.frame.DataFrame'>\n",
      "Int64Index: 22440 entries, 0 to 22439\n",
      "Data columns (total 4 columns):\n",
      " #   Column            Non-Null Count  Dtype \n",
      "---  ------            --------------  ----- \n",
      " 0   Item              22440 non-null  int32 \n",
      " 1   Month             22440 non-null  int64 \n",
      " 2   Year              22440 non-null  int64 \n",
      " 3   Total_sale_price  22440 non-null  object\n",
      "dtypes: int32(1), int64(2), object(1)\n",
      "memory usage: 788.9+ KB\n",
      "check finished.\n"
     ]
    }
   ],
   "source": [
    "def data_qualityCheck():\n",
    "    print(\"Checking data quality....\")\n",
    "    df.isnull().sum()\n",
    "    df.info()\n",
    "    print(\"check finished.\")\n",
    "\n",
    "data_qualityCheck()"
   ]
  },
  {
   "cell_type": "code",
   "execution_count": 107,
   "id": "91529937",
   "metadata": {
    "scrolled": true
   },
   "outputs": [
    {
     "data": {
      "image/png": "[encoded data removed]",
      "text/plain": [
       "<Figure size 432x288 with 1 Axes>"
      ]
     },
     "metadata": {
      "needs_background": "light"
     },
     "output_type": "display_data"
    },
    {
     "data": {
      "image/png": "[encoded data removed]",
      "text/plain": [
       "<Figure size 432x288 with 1 Axes>"
      ]
     },
     "metadata": {
      "needs_background": "light"
     },
     "output_type": "display_data"
    },
    {
     "data": {
      "image/png": "[encoded data removed]",
      "text/plain": [
       "<Figure size 432x288 with 1 Axes>"
      ]
     },
     "metadata": {
      "needs_background": "light"
     },
     "output_type": "display_data"
    },
    {
     "data": {
      "image/png": "[encoded data removed]",
      "text/plain": [
       "<Figure size 432x288 with 1 Axes>"
      ]
     },
     "metadata": {
      "needs_background": "light"
     },
     "output_type": "display_data"
    }
   ],
   "source": [
    "import seaborn as sb\n",
    "for f in df:\n",
    "    sb.countplot(x=f, data=df, palette='Set3')\n",
    "    plt.xticks(rotation=45)\n",
    "    plt.show()"
   ]
  },
  {
   "cell_type": "markdown",
   "id": "24cc863d",
   "metadata": {},
   "source": [
    "##### X and Y declaration"
   ]
  },
  {
   "cell_type": "code",
   "execution_count": 38,
   "id": "3bd87d0b",
   "metadata": {},
   "outputs": [
    {
     "data": {
      "text/plain": [
       "(22440, 3)"
      ]
     },
     "execution_count": 38,
     "metadata": {},
     "output_type": "execute_result"
    }
   ],
   "source": [
    "X = df[['Item', 'Month', 'Year']]\n",
    "X.shape"
   ]
  },
  {
   "cell_type": "code",
   "execution_count": 39,
   "id": "60ec42de",
   "metadata": {},
   "outputs": [
    {
     "data": {
      "text/plain": [
       "(22440,)"
      ]
     },
     "execution_count": 39,
     "metadata": {},
     "output_type": "execute_result"
    }
   ],
   "source": [
    "y = df['Total_sale_price']\n",
    "y.shape"
   ]
  },
  {
   "cell_type": "code",
   "execution_count": 40,
   "id": "ea5fda65",
   "metadata": {},
   "outputs": [],
   "source": [
    "# train test split\n",
    "# 80% for training the models\n",
    "# 20% for testing the models\n",
    "\n",
    "from sklearn.model_selection import train_test_split\n",
    "X_train, X_test, y_train, y_test = train_test_split(X, y, test_size=0.2, random_state=42)"
   ]
  },
  {
   "cell_type": "code",
   "execution_count": 41,
   "id": "59f1c5c4",
   "metadata": {},
   "outputs": [
    {
     "data": {
      "text/plain": [
       "(17952, 3)"
      ]
     },
     "execution_count": 41,
     "metadata": {},
     "output_type": "execute_result"
    }
   ],
   "source": [
    "X_train.shape"
   ]
  },
  {
   "cell_type": "code",
   "execution_count": 42,
   "id": "d463e5b0",
   "metadata": {},
   "outputs": [
    {
     "data": {
      "text/plain": [
       "(4488, 3)"
      ]
     },
     "execution_count": 42,
     "metadata": {},
     "output_type": "execute_result"
    }
   ],
   "source": [
    "X_test.shape"
   ]
  },
  {
   "cell_type": "markdown",
   "id": "2228c4d7",
   "metadata": {},
   "source": [
    "## Supervised Learning"
   ]
  },
  {
   "cell_type": "code",
   "execution_count": 43,
   "id": "43de1a86",
   "metadata": {},
   "outputs": [],
   "source": [
    "from sklearn.linear_model import LinearRegression, Ridge, Lasso, RANSACRegressor\n",
    "from sklearn.svm import SVR\n",
    "from sklearn.ensemble import GradientBoostingRegressor, RandomForestRegressor   \n",
    "from sklearn.tree import DecisionTreeRegressor \n",
    "from sklearn.neighbors import KNeighborsRegressor\n",
    "from sklearn.gaussian_process import GaussianProcessRegressor\n",
    "from xgboost import XGBRegressor\n",
    "\n",
    "from sklearn import metrics\n",
    "from sklearn.metrics import mean_squared_error, r2_score\n",
    "\n",
    "from sklearn.preprocessing import PolynomialFeatures "
   ]
  },
  {
   "cell_type": "code",
   "execution_count": 44,
   "id": "5e4fa526",
   "metadata": {},
   "outputs": [],
   "source": [
    "def get_score(model, X_train, X_test, y_train, y_test):\n",
    "    model.fit(X_train, y_train)\n",
    "    y_predict = model.predict((X_test))\n",
    "    score1 = metrics.r2_score(y_test, y_predict) # score1 = model.score(X_test, y_test)\n",
    "    score2 = round(score1*100,2)\n",
    "    return score2"
   ]
  },
  {
   "cell_type": "markdown",
   "id": "d32626ca",
   "metadata": {},
   "source": [
    "### r2_score"
   ]
  },
  {
   "cell_type": "code",
   "execution_count": 279,
   "id": "e2edfe5f",
   "metadata": {},
   "outputs": [
    {
     "name": "stdout",
     "output_type": "stream",
     "text": [
      "Linear Regression:  0.13\n",
      "Ridge Regression:  0.13\n",
      "Lasso Regression:  0.13\n",
      "Polynomial Regression:  20.05\n",
      "Decision Tree Regression:  69.67\n",
      "Random Forest Regression:  81.57\n",
      "Gradient Boosting Regressor:  73.93\n",
      "Extreme Gradient Boosting(XGB) Regressor 85.29\n"
     ]
    },
    {
     "name": "stderr",
     "output_type": "stream",
     "text": [
      "c:\\python\\lib\\site-packages\\ipykernel_launcher.py:52: SettingWithCopyWarning: \n",
      "A value is trying to be set on a copy of a slice from a DataFrame.\n",
      "Try using .loc[row_indexer,col_indexer] = value instead\n",
      "\n",
      "See the caveats in the documentation: https://pandas.pydata.org/pandas-docs/stable/user_guide/indexing.html#returning-a-view-versus-a-copy\n",
      "c:\\python\\lib\\site-packages\\ipykernel_launcher.py:55: SettingWithCopyWarning: \n",
      "A value is trying to be set on a copy of a slice from a DataFrame.\n",
      "Try using .loc[row_indexer,col_indexer] = value instead\n",
      "\n",
      "See the caveats in the documentation: https://pandas.pydata.org/pandas-docs/stable/user_guide/indexing.html#returning-a-view-versus-a-copy\n"
     ]
    },
    {
     "name": "stdout",
     "output_type": "stream",
     "text": [
      "K-Neighbors Regressor:  81.1\n",
      "Support Vector Regression:  -1.8\n",
      "Robust Regression — RANSAC:  -41.21\n"
     ]
    }
   ],
   "source": [
    "# LinearRegression\n",
    "lr = LinearRegression()\n",
    "print('Linear Regression: ', get_score(lr, X_train, X_test, y_train, y_test))\n",
    "      \n",
    "      \n",
    "# GaussianProcessRegressor\n",
    "# GRReg = GaussianProcessRegressor()\n",
    "# print('Gaussian Process Regressor: ', get_score(GRReg, X_train, X_test, y_train, y_test))\n",
    "\n",
    "      \n",
    "# RidgeRegression\n",
    "rr = Ridge(alpha=0)\n",
    "print('Ridge Regression: ', get_score(rr, X_train, X_test, y_train, y_test))   \n",
    "\n",
    "\n",
    "# LassoRegression\n",
    "lasso=Lasso()\n",
    "print('Lasso Regression: ', get_score(lasso, X_train, X_test, y_train, y_test))\n",
    "\n",
    "\n",
    "# PolynomialRegression\n",
    "polynom = PolynomialFeatures(degree = 20) \n",
    "X_polynom = polynom.fit_transform(X_train) \n",
    "X_test_polynom = polynom.fit_transform(X_test)\n",
    "PolyReg = LinearRegression() \n",
    "print('Polynomial Regression: ', get_score(PolyReg, X_polynom, X_test_polynom, y_train, y_test))\n",
    "\n",
    "\n",
    "# DecisionTreeRegression\n",
    "DtReg = DecisionTreeRegressor(random_state = 0) \n",
    "print('Decision Tree Regression: ', get_score(DtReg, X_train, X_test, y_train, y_test))\n",
    "\n",
    "\n",
    "# RandomForestRegression\n",
    "RFReg = RandomForestRegressor(n_estimators = 500, random_state = 0)\n",
    "print('Random Forest Regression: ', get_score(RFReg, X_train, X_test, y_train, y_test))   \n",
    "\n",
    "\n",
    "# Gradient Boosting Regressor\n",
    "gbr = GradientBoostingRegressor()\n",
    "print('Gradient Boosting Regressor: ', get_score(gbr, X_train, X_test, y_train, y_test))\n",
    "\n",
    "\n",
    "# Extreme Gradient Boosting(XGB) Regressor\n",
    "xgb = XGBRegressor()\n",
    "print('Extreme Gradient Boosting(XGB) Regressor', get_score(xgb, X_train, X_test, y_train, y_test))\n",
    "\n",
    "\n",
    "# KNeighborsRegressor\n",
    "scaler = MinMaxScaler()\n",
    "scaler.fit(X_train[['Year']])\n",
    "X_train['Year'] = scaler.transform(X_train[['Year']])\n",
    "scaler1 = MinMaxScaler()\n",
    "scaler1.fit(X_test[['Year']])\n",
    "X_test['Year'] = scaler1.transform(X_test[['Year']])\n",
    "KNReg = KNeighborsRegressor(n_neighbors=5) \n",
    "print('K-Neighbors Regressor: ', get_score(KNReg, X_train, X_test, y_train, y_test))\n",
    "\n",
    "\n",
    "# SupportVectorRegression\n",
    "svr = SVR()\n",
    "print('Support Vector Regression: ', get_score(svr, X_train, X_test, y_train, y_test))\n",
    "\n",
    "\n",
    "# Robust Regression — RANSAC\n",
    "ransac = RANSACRegressor()\n",
    "print('Robust Regression — RANSAC: ', get_score(ransac, X_train, X_test, y_train, y_test))"
   ]
  },
  {
   "cell_type": "code",
   "execution_count": null,
   "id": "c10188b6",
   "metadata": {},
   "outputs": [],
   "source": []
  },
  {
   "cell_type": "code",
   "execution_count": 17,
   "id": "c1b62382",
   "metadata": {},
   "outputs": [],
   "source": [
    "# save the best model to disk\n",
    "filename = 'xgb_model.sav'\n",
    "pickle.dump(xgb, open(filename, 'wb'))"
   ]
  },
  {
   "cell_type": "code",
   "execution_count": 18,
   "id": "e7aee122",
   "metadata": {},
   "outputs": [],
   "source": [
    "# load the model from disk\n",
    "xgb_model = pickle.load(open(filename, 'rb'))"
   ]
  },
  {
   "cell_type": "markdown",
   "id": "6cf8ecc2",
   "metadata": {},
   "source": [
    "## Manual Testing"
   ]
  },
  {
   "cell_type": "code",
   "execution_count": 27,
   "id": "d628aec5",
   "metadata": {
    "scrolled": true
   },
   "outputs": [
    {
     "name": "stdout",
     "output_type": "stream",
     "text": [
      "Enter Item key: \n",
      "263\n",
      "Enter Month: \n",
      "4\n",
      "Enter Year: \n",
      "2040\n",
      "\n",
      "\n",
      "\n",
      "Using Extreme Gradient Boosting(XGB) Regressor Model Total Sale price:  [3447.1455] \n"
     ]
    }
   ],
   "source": [
    "print(\"Enter Item key: \")\n",
    "Item = int(input())\n",
    "print(\"Enter Month: \")\n",
    "Month = int(input())\n",
    "print(\"Enter Year: \")\n",
    "Year = int(input())\n",
    "\n",
    "record = [Item]\n",
    "new_dataFile_test = pd.DataFrame(record, columns = [\"Item\"]) # record\n",
    "new_dataFile_test['Month'] = Month\n",
    "new_dataFile_test['Year'] = Year\n",
    "new_dataFile_test\n",
    "new_x_test = new_dataFile_test\n",
    "y_predict = xgb_model.predict((new_x_test))\n",
    "print(\"\\n\\n\\nUsing Extreme Gradient Boosting(XGB) Regressor Model Total Sale price:  {} \".format(y_predict))"
   ]
  },
  {
   "cell_type": "markdown",
   "id": "1b09dfcb",
   "metadata": {},
   "source": [
    "### Total Sale Price for 3 items"
   ]
  },
  {
   "cell_type": "code",
   "execution_count": 106,
   "id": "ed20ad6d",
   "metadata": {},
   "outputs": [],
   "source": [
    "def total_sale_price(Item, Year):\n",
    "    ndf = pd.DataFrame([[Item, 1, Year]])\n",
    "    price = []\n",
    "    for m in Month:\n",
    "        # predict the new record\n",
    "        y_predict = xgb_model.predict((ndf))\n",
    "        price.append(y_predict)\n",
    "        # Drop first row\n",
    "        ndf = ndf.iloc[1: , :]\n",
    "        # initialize the new row\n",
    "        ndf = pd.DataFrame([[Item, m, Year]])\n",
    "        \n",
    "    price = np.array(price)\n",
    "    price = price.flatten()\n",
    "    return price"
   ]
  },
  {
   "cell_type": "code",
   "execution_count": 107,
   "id": "6d98eff3",
   "metadata": {},
   "outputs": [],
   "source": [
    "# load the model\n",
    "filename = \"D:\\\\4th Year\\\\Python Projects\\\\Virtual Internship\\\\xgb_model.sav\"\n",
    "xgb_model = pickle.load(open(filename, 'rb'))\n",
    "\n",
    "# Year = [2021, 2022, 2023, 2025, 2030, 2035, 2040]\n",
    "Month = [2,3,4,5,6,7,8,9,10,11,12]\n",
    "Year = 2030\n",
    "\n",
    "price1 = total_sale_price(263, Year)\n",
    "price2 = total_sale_price(167, Year)\n",
    "price3 = total_sale_price(2, Year)"
   ]
  },
  {
   "cell_type": "code",
   "execution_count": 112,
   "id": "dd7ea3e3",
   "metadata": {},
   "outputs": [
    {
     "data": {
      "image/png": "[encoded data removed]",
      "text/plain": [
       "<Figure size 1152x360 with 1 Axes>"
      ]
     },
     "metadata": {
      "needs_background": "light"
     },
     "output_type": "display_data"
    }
   ],
   "source": [
    "x1 = x2 = x3 = Month\n",
    "y1 = price1\n",
    "y2 = price2\n",
    "y3 = price3\n",
    "\n",
    "fig, ax = plt.subplots(figsize =(16, 5))\n",
    "plt.plot(x1, y1, label='I00263')\n",
    "plt.plot(x2, y2, label='I00267')\n",
    "plt.plot(x3, y3, label='I00002')\n",
    "leg = plt.legend(loc='upper left', frameon=False);\n",
    "plt.title(\"Month wise total sale price in 2030\")\n",
    "plt.xlabel(\"Month\")\n",
    "plt.ylabel(\"Total sale price\")\n",
    "plt.show()"
   ]
  },
  {
   "cell_type": "code",
   "execution_count": 137,
   "id": "052adf74",
   "metadata": {},
   "outputs": [],
   "source": [
    "filename = \"D:\\\\4th Year\\\\Python Projects\\\\Virtual Internship\\\\xgb_model.sav\"\n",
    "xgb_model = pickle.load(open(filename, 'rb'))\n",
    "Year = [2022,2025,2030,2035,2040]\n",
    "\n",
    "\n",
    "def total_sale_price_year(Item, Month):\n",
    "    ndf = pd.DataFrame([[Item, Month, 2020]])\n",
    "    price = []\n",
    "    for y in Year:\n",
    "        # predict the new record\n",
    "        y_predict = xgb_model.predict((ndf))\n",
    "        price.append(y_predict)\n",
    "        # Drop first row\n",
    "        ndf = ndf.iloc[1: , :]\n",
    "        # initialize the new row\n",
    "        ndf = pd.DataFrame([[263, 11, y]])\n",
    "        \n",
    "    price = np.array(price)\n",
    "    price = price.flatten()\n",
    "    return price"
   ]
  },
  {
   "cell_type": "code",
   "execution_count": 138,
   "id": "ecb4698b",
   "metadata": {},
   "outputs": [],
   "source": [
    "price1 = total_sale_price_year(263, 11)\n",
    "price2 = total_sale_price_year(167, 11)\n",
    "price3 = total_sale_price_year(2, 11)"
   ]
  },
  {
   "cell_type": "code",
   "execution_count": 139,
   "id": "9bb792f9",
   "metadata": {},
   "outputs": [
    {
     "data": {
      "image/png": "[encoded data removed]",
      "text/plain": [
       "<Figure size 1152x360 with 1 Axes>"
      ]
     },
     "metadata": {
      "needs_background": "light"
     },
     "output_type": "display_data"
    }
   ],
   "source": [
    "x1 = x2 = x3 = Year\n",
    "y1 = price1\n",
    "y2 = price2\n",
    "y3 = price3\n",
    "\n",
    "fig, ax = plt.subplots(figsize =(16, 5))\n",
    "plt.plot(x1, y1, label='I00263')\n",
    "plt.plot(x2, y2, label='I00267')\n",
    "plt.plot(x3, y3, label='I00002')\n",
    "leg = plt.legend(loc='upper right', frameon=False);\n",
    "plt.title(\"Year wise total sale price in 2030\")\n",
    "plt.xlabel(\"Year\")\n",
    "plt.ylabel(\"Total sale price\")\n",
    "plt.show()"
   ]
  },
  {
   "cell_type": "code",
   "execution_count": null,
   "id": "eda3cdb0",
   "metadata": {},
   "outputs": [],
   "source": []
  },
  {
   "cell_type": "markdown",
   "id": "29e4a519",
   "metadata": {},
   "source": [
    "### LinearRegression"
   ]
  },
  {
   "cell_type": "code",
   "execution_count": 292,
   "id": "4ce6eef7",
   "metadata": {},
   "outputs": [
    {
     "data": {
      "text/plain": [
       "0.13"
      ]
     },
     "execution_count": 292,
     "metadata": {},
     "output_type": "execute_result"
    }
   ],
   "source": [
    "lr = LinearRegression()\n",
    "get_score(lr, X_train, X_test, y_train, y_test)\n",
    "# y_pred = lr.predict(X_test)"
   ]
  },
  {
   "cell_type": "code",
   "execution_count": 293,
   "id": "2a90ec0f",
   "metadata": {},
   "outputs": [
    {
     "data": {
      "text/plain": [
       "Text(0.5, 0, 'Month')"
      ]
     },
     "execution_count": 293,
     "metadata": {},
     "output_type": "execute_result"
    },
    {
     "data": {
      "image/png": "[encoded data removed]",
      "text/plain": [
       "<Figure size 432x288 with 1 Axes>"
      ]
     },
     "metadata": {
      "needs_background": "light"
     },
     "output_type": "display_data"
    }
   ],
   "source": [
    "# Visualise the Linear Regression Result\n",
    "plt.scatter(X_train['Month'], y_train, color = 'green') \n",
    "  \n",
    "plt.plot(X_train['Month'], lr.predict(X_train), color = 'blue') \n",
    "plt.title('Linear Regression') \n",
    "plt.xlabel('Month') \n",
    "# plt.ylabel('Month') "
   ]
  },
  {
   "cell_type": "markdown",
   "id": "3d05cdcd",
   "metadata": {},
   "source": [
    "### Polynomial Regression"
   ]
  },
  {
   "cell_type": "code",
   "execution_count": 28,
   "id": "ea8d07b0",
   "metadata": {},
   "outputs": [],
   "source": [
    "from sklearn.preprocessing import PolynomialFeatures \n",
    "  \n",
    "polynom = PolynomialFeatures(degree = 20) \n",
    "X_polynom = polynom.fit_transform(X_train) \n",
    "X_test_polynom = polynom.fit_transform(X_test)\n",
    "  \n",
    "# X_polynom"
   ]
  },
  {
   "cell_type": "code",
   "execution_count": 295,
   "id": "581aff76",
   "metadata": {},
   "outputs": [
    {
     "data": {
      "text/plain": [
       "20.05"
      ]
     },
     "execution_count": 295,
     "metadata": {},
     "output_type": "execute_result"
    }
   ],
   "source": [
    "PolyReg = LinearRegression() \n",
    "get_score(PolyReg, X_polynom, X_test_polynom, y_train, y_test)"
   ]
  },
  {
   "cell_type": "code",
   "execution_count": 296,
   "id": "f993348c",
   "metadata": {
    "scrolled": true
   },
   "outputs": [
    {
     "name": "stdout",
     "output_type": "stream",
     "text": [
      "degree:  2 r2_score:  4.56 %\n",
      "degree:  3 r2_score:  10.55 %\n",
      "degree:  4 r2_score:  10.55 %\n",
      "degree:  5 r2_score:  11.09 %\n",
      "degree:  6 r2_score:  11.08 %\n",
      "degree:  7 r2_score:  12.36 %\n",
      "degree:  8 r2_score:  13.37 %\n",
      "degree:  9 r2_score:  14.21 %\n",
      "degree:  10 r2_score:  17.74 %\n",
      "degree:  15 r2_score:  19.86 %\n",
      "degree:  18 r2_score:  20.02 %\n",
      "degree:  20 r2_score:  20.05 %\n",
      "degree:  22 r2_score:  20.03 %\n",
      "degree:  24 r2_score:  20.03 %\n",
      "degree:  26 r2_score:  19.91 %\n",
      "degree:  28 r2_score:  19.95 %\n",
      "degree:  30 r2_score:  0.56 %\n",
      "degree:  35 r2_score:  16.23 %\n"
     ]
    },
    {
     "data": {
      "text/plain": [
       "Text(0, 0.5, 'r2_score')"
      ]
     },
     "execution_count": 296,
     "metadata": {},
     "output_type": "execute_result"
    },
    {
     "data": {
      "image/png": "[encoded data removed]",
      "text/plain": [
       "<Figure size 432x288 with 1 Axes>"
      ]
     },
     "metadata": {
      "needs_background": "light"
     },
     "output_type": "display_data"
    }
   ],
   "source": [
    "degree = [2,3,4,5,6,7,8,9,10,15,18,20,22,24,26,28,30,35]\n",
    "Acc = np.zeros(18)\n",
    "\n",
    "\n",
    "index=0\n",
    "for d in degree:\n",
    "    polynom = PolynomialFeatures(degree = d) \n",
    "    X_train_polynom = polynom.fit_transform(X_train)\n",
    "    X_test_polynom = polynom.fit_transform(X_test)\n",
    "    PolyReg = LinearRegression()\n",
    "    Acc[index] = get_score(PolyReg, X_train_polynom, X_test_polynom, y_train, y_test)\n",
    "    print('degree: ',d,'r2_score: ', Acc[index], '%')\n",
    "    index += 1\n",
    "\n",
    "plt.plot(degree, Acc, 'ro-')\n",
    "plt.legend(['r2_score'])\n",
    "plt.xlabel('degree')\n",
    "plt.ylabel('r2_score')"
   ]
  },
  {
   "cell_type": "code",
   "execution_count": 298,
   "id": "d6241c27",
   "metadata": {},
   "outputs": [
    {
     "data": {
      "image/png": "[encoded data removed]",
      "text/plain": [
       "<Figure size 432x288 with 1 Axes>"
      ]
     },
     "metadata": {
      "needs_background": "light"
     },
     "output_type": "display_data"
    }
   ],
   "source": [
    "# Visualise the Polynomial Regression Results \n",
    "plt.scatter(X_train['Month'], y_train, color = 'green') \n",
    "  \n",
    "plt.plot(X_train['Month'], PolyReg.predict(polynom.fit_transform(X_train)), color = 'blue') \n",
    "plt.title('Polynomial Regression') \n",
    "plt.xlabel('Month') \n",
    "# plt.ylabel('Height') \n",
    "  \n",
    "plt.show() "
   ]
  },
  {
   "cell_type": "markdown",
   "id": "30c3adb1",
   "metadata": {},
   "source": [
    "### Gausian Regression"
   ]
  },
  {
   "cell_type": "code",
   "execution_count": 265,
   "id": "a6b56167",
   "metadata": {
    "scrolled": true
   },
   "outputs": [
    {
     "ename": "MemoryError",
     "evalue": "Unable to allocate 1.20 GiB for an array with shape (161128176,) and data type float64",
     "output_type": "error",
     "traceback": [
      "\u001b[1;31m---------------------------------------------------------------------------\u001b[0m",
      "\u001b[1;31mMemoryError\u001b[0m                               Traceback (most recent call last)",
      "\u001b[1;32m~\\AppData\\Local\\Temp/ipykernel_2040/3242321753.py\u001b[0m in \u001b[0;36m<module>\u001b[1;34m\u001b[0m\n\u001b[0;32m      1\u001b[0m \u001b[0mGRReg\u001b[0m \u001b[1;33m=\u001b[0m \u001b[0mGaussianProcessRegressor\u001b[0m\u001b[1;33m(\u001b[0m\u001b[1;33m)\u001b[0m\u001b[1;33m\u001b[0m\u001b[1;33m\u001b[0m\u001b[0m\n\u001b[1;32m----> 2\u001b[1;33m \u001b[0mget_score\u001b[0m\u001b[1;33m(\u001b[0m\u001b[0mGRReg\u001b[0m\u001b[1;33m,\u001b[0m \u001b[0mX_train\u001b[0m\u001b[1;33m,\u001b[0m \u001b[0mX_test\u001b[0m\u001b[1;33m,\u001b[0m \u001b[0my_train\u001b[0m\u001b[1;33m,\u001b[0m \u001b[0my_test\u001b[0m\u001b[1;33m)\u001b[0m\u001b[1;33m\u001b[0m\u001b[1;33m\u001b[0m\u001b[0m\n\u001b[0m",
      "\u001b[1;32m~\\AppData\\Local\\Temp/ipykernel_2040/619444301.py\u001b[0m in \u001b[0;36mget_score\u001b[1;34m(model, X_train, X_test, y_train, y_test)\u001b[0m\n\u001b[0;32m      1\u001b[0m \u001b[1;32mdef\u001b[0m \u001b[0mget_score\u001b[0m\u001b[1;33m(\u001b[0m\u001b[0mmodel\u001b[0m\u001b[1;33m,\u001b[0m \u001b[0mX_train\u001b[0m\u001b[1;33m,\u001b[0m \u001b[0mX_test\u001b[0m\u001b[1;33m,\u001b[0m \u001b[0my_train\u001b[0m\u001b[1;33m,\u001b[0m \u001b[0my_test\u001b[0m\u001b[1;33m)\u001b[0m\u001b[1;33m:\u001b[0m\u001b[1;33m\u001b[0m\u001b[1;33m\u001b[0m\u001b[0m\n\u001b[1;32m----> 2\u001b[1;33m     \u001b[0mmodel\u001b[0m\u001b[1;33m.\u001b[0m\u001b[0mfit\u001b[0m\u001b[1;33m(\u001b[0m\u001b[0mX_train\u001b[0m\u001b[1;33m,\u001b[0m \u001b[0my_train\u001b[0m\u001b[1;33m)\u001b[0m\u001b[1;33m\u001b[0m\u001b[1;33m\u001b[0m\u001b[0m\n\u001b[0m\u001b[0;32m      3\u001b[0m     \u001b[0my_predict\u001b[0m \u001b[1;33m=\u001b[0m \u001b[0mmodel\u001b[0m\u001b[1;33m.\u001b[0m\u001b[0mpredict\u001b[0m\u001b[1;33m(\u001b[0m\u001b[1;33m(\u001b[0m\u001b[0mX_test\u001b[0m\u001b[1;33m)\u001b[0m\u001b[1;33m)\u001b[0m\u001b[1;33m\u001b[0m\u001b[1;33m\u001b[0m\u001b[0m\n\u001b[0;32m      4\u001b[0m     \u001b[0mscore1\u001b[0m \u001b[1;33m=\u001b[0m \u001b[0mmetrics\u001b[0m\u001b[1;33m.\u001b[0m\u001b[0mr2_score\u001b[0m\u001b[1;33m(\u001b[0m\u001b[0my_test\u001b[0m\u001b[1;33m,\u001b[0m \u001b[0my_predict\u001b[0m\u001b[1;33m)\u001b[0m \u001b[1;31m# score1 = model.score(X_test, y_test)\u001b[0m\u001b[1;33m\u001b[0m\u001b[1;33m\u001b[0m\u001b[0m\n\u001b[0;32m      5\u001b[0m     \u001b[0mscore2\u001b[0m \u001b[1;33m=\u001b[0m \u001b[0mround\u001b[0m\u001b[1;33m(\u001b[0m\u001b[0mscore1\u001b[0m\u001b[1;33m*\u001b[0m\u001b[1;36m100\u001b[0m\u001b[1;33m,\u001b[0m\u001b[1;36m2\u001b[0m\u001b[1;33m)\u001b[0m\u001b[1;33m\u001b[0m\u001b[1;33m\u001b[0m\u001b[0m\n",
      "\u001b[1;32mc:\\python\\lib\\site-packages\\sklearn\\gaussian_process\\_gpr.py\u001b[0m in \u001b[0;36mfit\u001b[1;34m(self, X, y)\u001b[0m\n\u001b[0;32m    264\u001b[0m             \u001b[0mself\u001b[0m\u001b[1;33m.\u001b[0m\u001b[0mlog_marginal_likelihood_value_\u001b[0m \u001b[1;33m=\u001b[0m\u001b[0;31m \u001b[0m\u001b[0;31m\\\u001b[0m\u001b[1;33m\u001b[0m\u001b[1;33m\u001b[0m\u001b[0m\n\u001b[0;32m    265\u001b[0m                 self.log_marginal_likelihood(self.kernel_.theta,\n\u001b[1;32m--> 266\u001b[1;33m                                              clone_kernel=False)\n\u001b[0m\u001b[0;32m    267\u001b[0m \u001b[1;33m\u001b[0m\u001b[0m\n\u001b[0;32m    268\u001b[0m         \u001b[1;31m# Precompute quantities required for predictions which are independent\u001b[0m\u001b[1;33m\u001b[0m\u001b[1;33m\u001b[0m\u001b[1;33m\u001b[0m\u001b[0m\n",
      "\u001b[1;32mc:\\python\\lib\\site-packages\\sklearn\\gaussian_process\\_gpr.py\u001b[0m in \u001b[0;36mlog_marginal_likelihood\u001b[1;34m(self, theta, eval_gradient, clone_kernel)\u001b[0m\n\u001b[0;32m    462\u001b[0m             \u001b[0mK\u001b[0m\u001b[1;33m,\u001b[0m \u001b[0mK_gradient\u001b[0m \u001b[1;33m=\u001b[0m \u001b[0mkernel\u001b[0m\u001b[1;33m(\u001b[0m\u001b[0mself\u001b[0m\u001b[1;33m.\u001b[0m\u001b[0mX_train_\u001b[0m\u001b[1;33m,\u001b[0m \u001b[0meval_gradient\u001b[0m\u001b[1;33m=\u001b[0m\u001b[1;32mTrue\u001b[0m\u001b[1;33m)\u001b[0m\u001b[1;33m\u001b[0m\u001b[1;33m\u001b[0m\u001b[0m\n\u001b[0;32m    463\u001b[0m         \u001b[1;32melse\u001b[0m\u001b[1;33m:\u001b[0m\u001b[1;33m\u001b[0m\u001b[1;33m\u001b[0m\u001b[0m\n\u001b[1;32m--> 464\u001b[1;33m             \u001b[0mK\u001b[0m \u001b[1;33m=\u001b[0m \u001b[0mkernel\u001b[0m\u001b[1;33m(\u001b[0m\u001b[0mself\u001b[0m\u001b[1;33m.\u001b[0m\u001b[0mX_train_\u001b[0m\u001b[1;33m)\u001b[0m\u001b[1;33m\u001b[0m\u001b[1;33m\u001b[0m\u001b[0m\n\u001b[0m\u001b[0;32m    465\u001b[0m \u001b[1;33m\u001b[0m\u001b[0m\n\u001b[0;32m    466\u001b[0m         \u001b[0mK\u001b[0m\u001b[1;33m[\u001b[0m\u001b[0mnp\u001b[0m\u001b[1;33m.\u001b[0m\u001b[0mdiag_indices_from\u001b[0m\u001b[1;33m(\u001b[0m\u001b[0mK\u001b[0m\u001b[1;33m)\u001b[0m\u001b[1;33m]\u001b[0m \u001b[1;33m+=\u001b[0m \u001b[0mself\u001b[0m\u001b[1;33m.\u001b[0m\u001b[0malpha\u001b[0m\u001b[1;33m\u001b[0m\u001b[1;33m\u001b[0m\u001b[0m\n",
      "\u001b[1;32mc:\\python\\lib\\site-packages\\sklearn\\gaussian_process\\kernels.py\u001b[0m in \u001b[0;36m__call__\u001b[1;34m(self, X, Y, eval_gradient)\u001b[0m\n\u001b[0;32m    915\u001b[0m                                        K2_gradient * K1[:, :, np.newaxis]))\n\u001b[0;32m    916\u001b[0m         \u001b[1;32melse\u001b[0m\u001b[1;33m:\u001b[0m\u001b[1;33m\u001b[0m\u001b[1;33m\u001b[0m\u001b[0m\n\u001b[1;32m--> 917\u001b[1;33m             \u001b[1;32mreturn\u001b[0m \u001b[0mself\u001b[0m\u001b[1;33m.\u001b[0m\u001b[0mk1\u001b[0m\u001b[1;33m(\u001b[0m\u001b[0mX\u001b[0m\u001b[1;33m,\u001b[0m \u001b[0mY\u001b[0m\u001b[1;33m)\u001b[0m \u001b[1;33m*\u001b[0m \u001b[0mself\u001b[0m\u001b[1;33m.\u001b[0m\u001b[0mk2\u001b[0m\u001b[1;33m(\u001b[0m\u001b[0mX\u001b[0m\u001b[1;33m,\u001b[0m \u001b[0mY\u001b[0m\u001b[1;33m)\u001b[0m\u001b[1;33m\u001b[0m\u001b[1;33m\u001b[0m\u001b[0m\n\u001b[0m\u001b[0;32m    918\u001b[0m \u001b[1;33m\u001b[0m\u001b[0m\n\u001b[0;32m    919\u001b[0m     \u001b[1;32mdef\u001b[0m \u001b[0mdiag\u001b[0m\u001b[1;33m(\u001b[0m\u001b[0mself\u001b[0m\u001b[1;33m,\u001b[0m \u001b[0mX\u001b[0m\u001b[1;33m)\u001b[0m\u001b[1;33m:\u001b[0m\u001b[1;33m\u001b[0m\u001b[1;33m\u001b[0m\u001b[0m\n",
      "\u001b[1;32mc:\\python\\lib\\site-packages\\sklearn\\gaussian_process\\kernels.py\u001b[0m in \u001b[0;36m__call__\u001b[1;34m(self, X, Y, eval_gradient)\u001b[0m\n\u001b[0;32m   1488\u001b[0m         \u001b[1;32mif\u001b[0m \u001b[0mY\u001b[0m \u001b[1;32mis\u001b[0m \u001b[1;32mNone\u001b[0m\u001b[1;33m:\u001b[0m\u001b[1;33m\u001b[0m\u001b[1;33m\u001b[0m\u001b[0m\n\u001b[0;32m   1489\u001b[0m             \u001b[0mdists\u001b[0m \u001b[1;33m=\u001b[0m \u001b[0mpdist\u001b[0m\u001b[1;33m(\u001b[0m\u001b[0mX\u001b[0m \u001b[1;33m/\u001b[0m \u001b[0mlength_scale\u001b[0m\u001b[1;33m,\u001b[0m \u001b[0mmetric\u001b[0m\u001b[1;33m=\u001b[0m\u001b[1;34m'sqeuclidean'\u001b[0m\u001b[1;33m)\u001b[0m\u001b[1;33m\u001b[0m\u001b[1;33m\u001b[0m\u001b[0m\n\u001b[1;32m-> 1490\u001b[1;33m             \u001b[0mK\u001b[0m \u001b[1;33m=\u001b[0m \u001b[0mnp\u001b[0m\u001b[1;33m.\u001b[0m\u001b[0mexp\u001b[0m\u001b[1;33m(\u001b[0m\u001b[1;33m-\u001b[0m\u001b[1;36m.5\u001b[0m \u001b[1;33m*\u001b[0m \u001b[0mdists\u001b[0m\u001b[1;33m)\u001b[0m\u001b[1;33m\u001b[0m\u001b[1;33m\u001b[0m\u001b[0m\n\u001b[0m\u001b[0;32m   1491\u001b[0m             \u001b[1;31m# convert from upper-triangular matrix to square matrix\u001b[0m\u001b[1;33m\u001b[0m\u001b[1;33m\u001b[0m\u001b[1;33m\u001b[0m\u001b[0m\n\u001b[0;32m   1492\u001b[0m             \u001b[0mK\u001b[0m \u001b[1;33m=\u001b[0m \u001b[0msquareform\u001b[0m\u001b[1;33m(\u001b[0m\u001b[0mK\u001b[0m\u001b[1;33m)\u001b[0m\u001b[1;33m\u001b[0m\u001b[1;33m\u001b[0m\u001b[0m\n",
      "\u001b[1;31mMemoryError\u001b[0m: Unable to allocate 1.20 GiB for an array with shape (161128176,) and data type float64"
     ]
    }
   ],
   "source": [
    "GRReg = GaussianProcessRegressor()\n",
    "get_score(GRReg, X_train, X_test, y_train, y_test)"
   ]
  },
  {
   "cell_type": "markdown",
   "id": "9af4cee0",
   "metadata": {},
   "source": [
    "### Ridge Regression"
   ]
  },
  {
   "cell_type": "code",
   "execution_count": 53,
   "id": "a5418369",
   "metadata": {},
   "outputs": [
    {
     "data": {
      "text/plain": [
       "0.13"
      ]
     },
     "execution_count": 53,
     "metadata": {},
     "output_type": "execute_result"
    }
   ],
   "source": [
    "rr = Ridge(alpha=0)\n",
    "get_score(rr, X_train, X_test, y_train, y_test)"
   ]
  },
  {
   "cell_type": "code",
   "execution_count": 34,
   "id": "e71d3997",
   "metadata": {},
   "outputs": [
    {
     "data": {
      "image/png": "[encoded data removed]",
      "text/plain": [
       "<Figure size 432x288 with 1 Axes>"
      ]
     },
     "metadata": {
      "needs_background": "light"
     },
     "output_type": "display_data"
    },
    {
     "data": {
      "image/png": "[encoded data removed]",
      "text/plain": [
       "<Figure size 720x432 with 1 Axes>"
      ]
     },
     "metadata": {
      "needs_background": "light"
     },
     "output_type": "display_data"
    }
   ],
   "source": [
    "from sklearn.pipeline import Pipeline\n",
    "from sklearn.preprocessing import PolynomialFeatures\n",
    "\n",
    "m = 100\n",
    "x1 = 5 * np.random.rand(m, 1) - 2\n",
    "x2 = 0.7 * x1 ** 2 - 2 * x1 + 3 + np.random.randn(m, 1)\n",
    "\n",
    "plt.scatter(x1, x2)\n",
    "plt.show()\n",
    "\n",
    "def get_preds_ridge(x1, x2, alpha):\n",
    "    model = Pipeline([\n",
    "        ('poly_feats', PolynomialFeatures(degree=16)),\n",
    "        ('ridge', Ridge(alpha=alpha))\n",
    "    ])\n",
    "    model.fit(x1, x2)\n",
    "    return model.predict(x1)\n",
    "\n",
    "alphas = [0, 20, 200]\n",
    "cs = ['r', 'g', 'b']\n",
    "\n",
    "plt.figure(figsize=(10, 6))\n",
    "plt.plot(x1, x2, 'b+', label='Datapoints')\n",
    "\n",
    "for alpha, c in zip(alphas, cs):\n",
    "    preds = get_preds_ridge(x1, x2, alpha)\n",
    "    # Plot\n",
    "    plt.plot(sorted(x1[:, 0]), preds[np.argsort(x1[:, 0])], c, label='Alpha: {}'.format(alpha))\n",
    "\n",
    "plt.legend()\n",
    "plt.show()"
   ]
  },
  {
   "cell_type": "markdown",
   "id": "edba9ece",
   "metadata": {},
   "source": [
    "### Lasso Regression "
   ]
  },
  {
   "cell_type": "code",
   "execution_count": 54,
   "id": "1acf1bdd",
   "metadata": {},
   "outputs": [
    {
     "data": {
      "text/plain": [
       "0.13"
      ]
     },
     "execution_count": 54,
     "metadata": {},
     "output_type": "execute_result"
    }
   ],
   "source": [
    "lasso=Lasso()\n",
    "get_score(lasso, X_train, X_test, y_train, y_test)"
   ]
  },
  {
   "cell_type": "markdown",
   "id": "b35d759f",
   "metadata": {},
   "source": [
    "### Decision Tree Regression"
   ]
  },
  {
   "cell_type": "code",
   "execution_count": 299,
   "id": "9fe711b3",
   "metadata": {},
   "outputs": [
    {
     "data": {
      "text/plain": [
       "69.67"
      ]
     },
     "execution_count": 299,
     "metadata": {},
     "output_type": "execute_result"
    }
   ],
   "source": [
    "DtReg = DecisionTreeRegressor(random_state = 0) \n",
    "get_score(DtReg, X_train, X_test, y_train, y_test)"
   ]
  },
  {
   "cell_type": "code",
   "execution_count": 244,
   "id": "8f547aac",
   "metadata": {},
   "outputs": [],
   "source": [
    "# Visualise the Decision Tree Regression by creating range of values from min value of X_train to max value of X_train  \n",
    "# having a difference of 0.01 between two consecutive values\n",
    "# X_val = np.arange(min(X_train), max(X_train), 0.01) \n",
    "  \n",
    "# #Reshape the data into a len(X_val)*1 array in order to make a column out of the X_val values \n",
    "# X_val = X_val.reshape((len(X_val), 1))  \n",
    "\n",
    "# plt.scatter(X_train, y_train, color = 'blue') \n",
    "# plt.plot(X_val, DtReg.predict(X_val), color = 'red') \n",
    "# plt.title('Height prediction using Decision Tree Regression') \n",
    "# plt.xlabel('Age')  \n",
    "# plt.ylabel('Height')\n",
    "# plt.figure(figsize=(1,1))\n",
    "# plt.show() "
   ]
  },
  {
   "cell_type": "code",
   "execution_count": 301,
   "id": "ccb4e44e",
   "metadata": {},
   "outputs": [],
   "source": [
    "from sklearn.tree import export_graphviz \n",
    "from sklearn import tree\n",
    "  \n",
    "tree.export_graphviz(DtReg, out_file ='dtregression.dot', \n",
    "               feature_names =['Item','Month', 'Year']\n",
    "#                class_names = sorted(y_train.unique()), \n",
    "#                 label = 'all', \n",
    "#                 rounded = True,\n",
    "#                 filled = True\n",
    "               ) "
   ]
  },
  {
   "cell_type": "markdown",
   "id": "29ceafe4",
   "metadata": {},
   "source": [
    "### Random Forest Regression"
   ]
  },
  {
   "cell_type": "code",
   "execution_count": 264,
   "id": "43b4a76b",
   "metadata": {},
   "outputs": [
    {
     "data": {
      "text/plain": [
       "81.58"
      ]
     },
     "execution_count": 264,
     "metadata": {},
     "output_type": "execute_result"
    }
   ],
   "source": [
    "RFReg = RandomForestRegressor(n_estimators = 300)\n",
    "get_score(RFReg, X_train, X_test, y_train, y_test)"
   ]
  },
  {
   "cell_type": "code",
   "execution_count": 250,
   "id": "1ff87378",
   "metadata": {},
   "outputs": [
    {
     "name": "stdout",
     "output_type": "stream",
     "text": [
      "n_estimators =  10 ,  r2_score =  80.24  %\n",
      "n_estimators =  20 ,  r2_score =  80.95  %\n",
      "n_estimators =  30 ,  r2_score =  81.32  %\n",
      "n_estimators =  40 ,  r2_score =  81.29  %\n",
      "n_estimators =  45 ,  r2_score =  81.65  %\n",
      "n_estimators =  50 ,  r2_score =  81.24  %\n",
      "n_estimators =  55 ,  r2_score =  81.33  %\n",
      "n_estimators =  60 ,  r2_score =  81.29  %\n",
      "n_estimators =  70 ,  r2_score =  81.08  %\n",
      "n_estimators =  80 ,  r2_score =  81.41  %\n",
      "n_estimators =  90 ,  r2_score =  81.37  %\n",
      "n_estimators =  100 ,  r2_score =  81.54  %\n",
      "n_estimators =  200 ,  r2_score =  81.55  %\n",
      "n_estimators =  300 ,  r2_score =  81.65  %\n",
      "n_estimators =  400 ,  r2_score =  81.56  %\n",
      "n_estimators =  500 ,  r2_score =  81.54  %\n"
     ]
    },
    {
     "data": {
      "text/plain": [
       "Text(0, 0.5, 'r2_score')"
      ]
     },
     "execution_count": 250,
     "metadata": {},
     "output_type": "execute_result"
    },
    {
     "data": {
      "image/png": "[encoded data removed]",
      "text/plain": [
       "<Figure size 432x288 with 1 Axes>"
      ]
     },
     "metadata": {
      "needs_background": "light"
     },
     "output_type": "display_data"
    }
   ],
   "source": [
    "n_estimators = [10,20,30,40,45,50,55,60,70,80,90,100,200,300,400,500]\n",
    "Acc = np.zeros(16)\n",
    "\n",
    "index=0\n",
    "for n in n_estimators:\n",
    "    RFReg = RandomForestRegressor(n_estimators = n) \n",
    "    Acc[index] = get_score(RFReg, X_train, X_test, y_train, y_test)\n",
    "    print('n_estimators = ', n, ',  r2_score = ', Acc[index], ' %')\n",
    "    index += 1\n",
    "\n",
    "plt.plot(n_neighbors, Acc, 'bv--')\n",
    "plt.legend(['r2_score'])\n",
    "plt.xlabel('n_estimators')\n",
    "plt.ylabel('r2_score')"
   ]
  },
  {
   "cell_type": "markdown",
   "id": "a8007598",
   "metadata": {},
   "source": [
    "### K-Neighbors Regressor"
   ]
  },
  {
   "cell_type": "code",
   "execution_count": 103,
   "id": "c8869e33",
   "metadata": {},
   "outputs": [
    {
     "data": {
      "text/plain": [
       "73.52"
      ]
     },
     "execution_count": 103,
     "metadata": {},
     "output_type": "execute_result"
    }
   ],
   "source": [
    "KNReg = KNeighborsRegressor(n_neighbors=5) \n",
    "get_score(KNReg, X_train, X_test, y_train, y_test)"
   ]
  },
  {
   "cell_type": "code",
   "execution_count": 104,
   "id": "197d106e",
   "metadata": {
    "scrolled": true
   },
   "outputs": [
    {
     "name": "stdout",
     "output_type": "stream",
     "text": [
      "n_neighbors =  2 , Training accuracy =  88.1 , Testing accuracy =  66.89 , Diff =  2120.9999999999995  %\n",
      "n_neighbors =  3 , Training accuracy =  85.33 , Testing accuracy =  71.99 , Diff =  1334.0000000000005  %\n",
      "n_neighbors =  4 , Training accuracy =  84.43 , Testing accuracy =  73.6 , Diff =  1083.0000000000014  %\n",
      "n_neighbors =  5 , Training accuracy =  83.56 , Testing accuracy =  73.52 , Diff =  1004.0000000000007  %\n",
      "n_neighbors =  6 , Training accuracy =  81.99 , Testing accuracy =  72.77 , Diff =  921.9999999999999  %\n",
      "n_neighbors =  7 , Training accuracy =  80.0 , Testing accuracy =  71.41 , Diff =  859.0000000000003  %\n",
      "n_neighbors =  8 , Training accuracy =  78.3 , Testing accuracy =  70.18 , Diff =  811.9999999999991  %\n",
      "n_neighbors =  9 , Training accuracy =  76.9 , Testing accuracy =  69.83 , Diff =  707.0000000000007  %\n",
      "n_neighbors =  10 , Training accuracy =  75.85 , Testing accuracy =  69.51 , Diff =  633.9999999999989  %\n",
      "n_neighbors =  15 , Training accuracy =  71.79 , Testing accuracy =  67.08 , Diff =  471.0000000000008  %\n",
      "n_neighbors =  20 , Training accuracy =  69.12 , Testing accuracy =  65.04 , Diff =  407.99999999999983  %\n",
      "n_neighbors =  30 , Training accuracy =  69.05 , Testing accuracy =  66.51 , Diff =  253.9999999999992  %\n",
      "n_neighbors =  35 , Training accuracy =  68.25 , Testing accuracy =  65.77 , Diff =  248.0000000000004  %\n",
      "n_neighbors =  40 , Training accuracy =  67.44 , Testing accuracy =  65.19 , Diff =  225.0  %\n",
      "n_neighbors =  45 , Training accuracy =  66.65 , Testing accuracy =  64.46 , Diff =  219.0000000000012  %\n",
      "n_neighbors =  50 , Training accuracy =  65.52 , Testing accuracy =  63.5 , Diff =  201.9999999999996  %\n"
     ]
    },
    {
     "data": {
      "text/plain": [
       "Text(0, 0.5, 'Accuracy')"
      ]
     },
     "execution_count": 104,
     "metadata": {},
     "output_type": "execute_result"
    },
    {
     "data": {
      "image/png": "[encoded data removed]",
      "text/plain": [
       "<Figure size 432x288 with 1 Axes>"
      ]
     },
     "metadata": {
      "needs_background": "light"
     },
     "output_type": "display_data"
    }
   ],
   "source": [
    "n_neighbors = [2,3,4,5,6,7,8,9,10,15,20,30,35,40,45,50]\n",
    "trainAcc = np.zeros(16)\n",
    "testAcc = np.zeros(16)\n",
    "\n",
    "index=0\n",
    "for n in n_neighbors:\n",
    "    KNReg = KNeighborsRegressor(n_neighbors=n) \n",
    "    KNReg = KNReg.fit(X_train, y_train)\n",
    "    score_train = KNReg.score(X_train, y_train)\n",
    "    trainAcc[index] = round(score_train*100,2) # get_score(KNReg, X_train, X_test, y_train, y_test)\n",
    "    score_test = KNReg.score(X_test, y_test)\n",
    "    testAcc[index] = round(score_test*100,2)\n",
    "    print('n_neighbors = ', n, ', Training accuracy = ', trainAcc[index], ', Testing accuracy = ', testAcc[index],\n",
    "         ', Diff = ', np.abs((trainAcc[index]-testAcc[index])*100), ' %')\n",
    "    index += 1\n",
    "\n",
    "plt.plot(n_neighbors, trainAcc, 'ro-', n_neighbors, testAcc, 'bv--')\n",
    "plt.legend(['Training Accuracy', 'Test Accuracy'])\n",
    "plt.xlabel('n_neighbors')\n",
    "plt.ylabel('Accuracy')"
   ]
  },
  {
   "cell_type": "markdown",
   "id": "39330f33",
   "metadata": {},
   "source": [
    "### Support Vector Regression"
   ]
  },
  {
   "cell_type": "code",
   "execution_count": 26,
   "id": "aeed7bde",
   "metadata": {},
   "outputs": [
    {
     "data": {
      "text/plain": [
       "-3.7"
      ]
     },
     "execution_count": 26,
     "metadata": {},
     "output_type": "execute_result"
    }
   ],
   "source": [
    "svr = SVR()\n",
    "get_score(svr, X_train, X_test, y_train, y_test)"
   ]
  },
  {
   "cell_type": "code",
   "execution_count": 120,
   "id": "61bf898f",
   "metadata": {},
   "outputs": [
    {
     "name": "stdout",
     "output_type": "stream",
     "text": [
      "kernel =  linear , Training accuracy =  -3.4 , Testing accuracy =  -3.7 , Diff =  30.00000000000003  %\n",
      "kernel =  poly , Training accuracy =  -3.4 , Testing accuracy =  -3.7 , Diff =  30.00000000000003  %\n",
      "kernel =  rbf , Training accuracy =  -3.4 , Testing accuracy =  -3.7 , Diff =  30.00000000000003  %\n",
      "kernel =  sigmoid , Training accuracy =  -3.4 , Testing accuracy =  -3.7 , Diff =  30.00000000000003  %\n",
      "kernel =  precomputed , Training accuracy =  -3.4 , Testing accuracy =  -3.7 , Diff =  30.00000000000003  %\n"
     ]
    },
    {
     "data": {
      "text/plain": [
       "Text(0, 0.5, 'Accuracy')"
      ]
     },
     "execution_count": 120,
     "metadata": {},
     "output_type": "execute_result"
    },
    {
     "data": {
      "image/png": "[encoded data removed]",
      "text/plain": [
       "<Figure size 432x288 with 1 Axes>"
      ]
     },
     "metadata": {
      "needs_background": "light"
     },
     "output_type": "display_data"
    }
   ],
   "source": [
    "# maxdepths = [2,3,4,5,6,7,8,9,10,15,20,30,35,40,45,50]\n",
    "kernel = ['linear', 'poly', 'rbf', 'sigmoid', 'precomputed']\n",
    "trainAcc = np.zeros(5)\n",
    "testAcc = np.zeros(5)\n",
    "\n",
    "index=0\n",
    "for k in kernel:\n",
    "    svr = SVR()\n",
    "    svr = svr.fit(X_train, y_train)\n",
    "    score_train = svr.score(X_train, y_train)\n",
    "    trainAcc[index] = round(score_train*100,2)\n",
    "    score_test = svr.score(X_test, y_test)\n",
    "    testAcc[index] = round(score_test*100,2)\n",
    "    print('kernel = ', k, ', Training accuracy = ', trainAcc[index], ', Testing accuracy = ', testAcc[index],\n",
    "         ', Diff = ', np.abs((trainAcc[index]-testAcc[index])*100), ' %')\n",
    "    index += 1\n",
    "\n",
    "kernel = ['linear' , 'poly', 'rbf', 'sigmoid', 'precomputed']\n",
    "kernel_df = pd.DataFrame(list(kernel), columns=['kernel'])\n",
    "kn = kernel_df['kernel']\n",
    "kn = kn.map({'linear': 0, 'poly' :1, 'rbf' :2, 'sigmoid' :3, 'precomputed' :4})\n",
    "\n",
    "plt.plot(kn, trainAcc, 'ro-', kn, testAcc, 'bv--')\n",
    "plt.legend(['Training Accuracy', 'Test Accuracy'])\n",
    "plt.xlabel('kernel')\n",
    "plt.ylabel('Accuracy')"
   ]
  },
  {
   "cell_type": "markdown",
   "id": "0f23a2ac",
   "metadata": {},
   "source": [
    "### XGB Regressor"
   ]
  },
  {
   "cell_type": "code",
   "execution_count": 16,
   "id": "ff318487",
   "metadata": {},
   "outputs": [
    {
     "data": {
      "text/plain": [
       "85.29"
      ]
     },
     "execution_count": 16,
     "metadata": {},
     "output_type": "execute_result"
    }
   ],
   "source": [
    "xgb = XGBRegressor()\n",
    "get_score(xgb, X_train, X_test, y_train, y_test)"
   ]
  },
  {
   "cell_type": "markdown",
   "id": "4a7fa8a0",
   "metadata": {},
   "source": [
    "### Gradient Boosting Regressor"
   ]
  },
  {
   "cell_type": "code",
   "execution_count": 136,
   "id": "3a415f81",
   "metadata": {},
   "outputs": [
    {
     "data": {
      "text/plain": [
       "73.93"
      ]
     },
     "execution_count": 136,
     "metadata": {},
     "output_type": "execute_result"
    }
   ],
   "source": [
    "gbr = GradientBoostingRegressor()\n",
    "get_score(gbr, X_train, X_test, y_train, y_test)"
   ]
  },
  {
   "cell_type": "markdown",
   "id": "c2cff4af",
   "metadata": {},
   "source": [
    "### Robust Regression — RANSAC"
   ]
  },
  {
   "cell_type": "code",
   "execution_count": 139,
   "id": "50b6a3e2",
   "metadata": {},
   "outputs": [
    {
     "data": {
      "text/plain": [
       "-10.29"
      ]
     },
     "execution_count": 139,
     "metadata": {},
     "output_type": "execute_result"
    }
   ],
   "source": [
    "ransac = RANSACRegressor()\n",
    "get_score(ransac, X_train, X_test, y_train, y_test)"
   ]
  },
  {
   "cell_type": "markdown",
   "id": "d95f8071",
   "metadata": {},
   "source": [
    "### Neural Network Regression"
   ]
  },
  {
   "cell_type": "code",
   "execution_count": 109,
   "id": "74f56b2c",
   "metadata": {},
   "outputs": [],
   "source": [
    "from keras.models import Sequential\n",
    "from keras.layers import Dense\n",
    "from keras.wrappers.scikit_learn import KerasRegressor\n",
    "\n",
    "import tensorflow as tf"
   ]
  },
  {
   "cell_type": "code",
   "execution_count": 120,
   "id": "b04f86c3",
   "metadata": {},
   "outputs": [],
   "source": [
    "# define the model\n",
    "#Experiment with deeper and wider networks\n",
    "model = Sequential()\n",
    "model.add(Dense(3, input_dim=3, activation='relu'))\n",
    "model.add(Dense(2, activation='relu'))\n",
    "#Output layer\n",
    "model.add(Dense(1, activation='linear'))"
   ]
  },
  {
   "cell_type": "code",
   "execution_count": 121,
   "id": "1adb4ca4",
   "metadata": {},
   "outputs": [
    {
     "name": "stdout",
     "output_type": "stream",
     "text": [
      "Model: \"sequential_2\"\n",
      "_________________________________________________________________\n",
      "Layer (type)                 Output Shape              Param #   \n",
      "=================================================================\n",
      "dense_6 (Dense)              (None, 3)                 12        \n",
      "_________________________________________________________________\n",
      "dense_7 (Dense)              (None, 2)                 8         \n",
      "_________________________________________________________________\n",
      "dense_8 (Dense)              (None, 1)                 3         \n",
      "=================================================================\n",
      "Total params: 23\n",
      "Trainable params: 23\n",
      "Non-trainable params: 0\n",
      "_________________________________________________________________\n"
     ]
    }
   ],
   "source": [
    "model.compile(loss='mean_squared_error', optimizer='adam', metrics=['mae'])\n",
    "model.summary()"
   ]
  },
  {
   "cell_type": "code",
   "execution_count": 122,
   "id": "80a18937",
   "metadata": {},
   "outputs": [
    {
     "data": {
      "text/plain": [
       "<tf.Tensor: shape=(17952,), dtype=float64, numpy=array([ 5151.  ,  8845.  ,  4336.  , ..., 12040.  ,  1640.25,  2457.  ])>"
      ]
     },
     "execution_count": 122,
     "metadata": {},
     "output_type": "execute_result"
    }
   ],
   "source": [
    "X_train_tensor = tf.convert_to_tensor(X_train)\n",
    "X_train_tensor\n",
    "y = y_train.astype('float64')\n",
    "y_train_tensor = tf.convert_to_tensor(y)\n",
    "y_train_tensor"
   ]
  },
  {
   "cell_type": "code",
   "execution_count": 124,
   "id": "0bd24376",
   "metadata": {
    "scrolled": true
   },
   "outputs": [
    {
     "name": "stdout",
     "output_type": "stream",
     "text": [
      "Epoch 1/10\n",
      "449/449 [==============================] - 0s 1ms/step - loss: 27870100.0000 - mae: 4638.4272 - val_loss: 28320832.0000 - val_mae: 4683.0601\n",
      "Epoch 2/10\n",
      "449/449 [==============================] - 1s 1ms/step - loss: 27865970.0000 - mae: 4637.9849 - val_loss: 28316652.0000 - val_mae: 4682.6152\n",
      "Epoch 3/10\n",
      "449/449 [==============================] - 0s 989us/step - loss: 27861820.0000 - mae: 4637.5356 - val_loss: 28312456.0000 - val_mae: 4682.1675\n",
      "Epoch 4/10\n",
      "449/449 [==============================] - 1s 1ms/step - loss: 27857678.0000 - mae: 4637.0845 - val_loss: 28308286.0000 - val_mae: 4681.7227\n",
      "Epoch 5/10\n",
      "449/449 [==============================] - 1s 1ms/step - loss: 27853526.0000 - mae: 4636.6436 - val_loss: 28304090.0000 - val_mae: 4681.2759\n",
      "Epoch 6/10\n",
      "449/449 [==============================] - 1s 1ms/step - loss: 27849394.0000 - mae: 4636.1953 - val_loss: 28299910.0000 - val_mae: 4680.8247\n",
      "Epoch 7/10\n",
      "449/449 [==============================] - 0s 1ms/step - loss: 27845238.0000 - mae: 4635.7495 - val_loss: 28295732.0000 - val_mae: 4680.3804\n",
      "Epoch 8/10\n",
      "449/449 [==============================] - 0s 1ms/step - loss: 27841102.0000 - mae: 4635.3018 - val_loss: 28291552.0000 - val_mae: 4679.9331\n",
      "Epoch 9/10\n",
      "449/449 [==============================] - ETA: 0s - loss: 27846982.0000 - mae: 4635.625 - 1s 2ms/step - loss: 27836956.0000 - mae: 4634.8535 - val_loss: 28287362.0000 - val_mae: 4679.4893\n",
      "Epoch 10/10\n",
      "449/449 [==============================] - 1s 1ms/step - loss: 27832822.0000 - mae: 4634.4077 - val_loss: 28283194.0000 - val_mae: 4679.0415\n"
     ]
    }
   ],
   "source": [
    "history = model.fit(X_train_tensor, y_train_tensor, validation_split=0.2, epochs =10)"
   ]
  },
  {
   "cell_type": "code",
   "execution_count": 125,
   "id": "8ba20599",
   "metadata": {},
   "outputs": [
    {
     "data": {
      "image/png": "[encoded data removed]",
      "text/plain": [
       "<Figure size 432x288 with 1 Axes>"
      ]
     },
     "metadata": {
      "needs_background": "light"
     },
     "output_type": "display_data"
    }
   ],
   "source": [
    "loss = history.history['loss']\n",
    "val_loss = history.history['val_loss']\n",
    "epochs = range(1, len(loss) + 1)\n",
    "plt.plot(epochs, loss, 'y', label='Training loss')\n",
    "plt.plot(epochs, val_loss, 'r', label='Validation loss')\n",
    "plt.title('Training and validation loss')\n",
    "plt.xlabel('Epochs')\n",
    "plt.ylabel('Loss')\n",
    "plt.legend()\n",
    "plt.show()"
   ]
  },
  {
   "cell_type": "code",
   "execution_count": 132,
   "id": "f54ea813",
   "metadata": {},
   "outputs": [
    {
     "data": {
      "image/png": "[encoded data removed]",
      "text/plain": [
       "<Figure size 432x288 with 1 Axes>"
      ]
     },
     "metadata": {
      "needs_background": "light"
     },
     "output_type": "display_data"
    }
   ],
   "source": [
    "acc = history.history['loss'] # mean_absolute_error\n",
    "val_acc = history.history['loss'] # val_mean_absolute_error\n",
    "plt.plot(epochs, acc, 'y', label='Training MAE')\n",
    "plt.plot(epochs, val_acc, 'r', label='Validation MAE')\n",
    "plt.title('Training and validation MAE')\n",
    "plt.xlabel('Epochs')\n",
    "plt.ylabel('Accuracy')\n",
    "plt.legend()\n",
    "plt.show()"
   ]
  },
  {
   "cell_type": "code",
   "execution_count": null,
   "id": "c4b2bac1",
   "metadata": {},
   "outputs": [],
   "source": []
  }
 ],
 "metadata": {
  "kernelspec": {
   "display_name": "Python 3 (ipykernel)",
   "language": "python",
   "name": "python3"
  },
  "language_info": {
   "codemirror_mode": {
    "name": "ipython",
    "version": 3
   },
   "file_extension": ".py",
   "mimetype": "text/x-python",
   "name": "python",
   "nbconvert_exporter": "python",
   "pygments_lexer": "ipython3",
   "version": "3.7.8"
  }
 },
 "nbformat": 4,
 "nbformat_minor": 5
}
