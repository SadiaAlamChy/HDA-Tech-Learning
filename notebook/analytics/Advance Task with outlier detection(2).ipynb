{
 "cells": [
  {
   "cell_type": "code",
   "execution_count": null,
   "id": "beb6d425",
   "metadata": {},
   "outputs": [],
   "source": [
    "pip install sklearn"
   ]
  },
  {
   "cell_type": "code",
   "execution_count": 1,
   "id": "845950fc",
   "metadata": {},
   "outputs": [],
   "source": [
    "import pandas as pd\n",
    "import numpy as np\n",
    "import psycopg2\n",
    "import psycopg2.extras\n",
    "import matplotlib.pyplot as plt\n",
    "import seaborn as sns\n",
    "from sklearn.preprocessing import LabelEncoder\n",
    "from sklearn.preprocessing import OneHotEncoder\n",
    "from sklearn.model_selection import train_test_split\n",
    "from sklearn.linear_model import LinearRegression\n",
    "from sklearn.preprocessing import LabelEncoder\n",
    "from sklearn.preprocessing import OneHotEncoder,OrdinalEncoder\n",
    "from sklearn.metrics import accuracy_score"
   ]
  },
  {
   "cell_type": "code",
   "execution_count": 2,
   "id": "ebd4b628",
   "metadata": {},
   "outputs": [],
   "source": [
    "class PostgresConnection(object):\n",
    "    def __init__(self):\n",
    "        self.connection = psycopg2.connect(database=\"ecomdb\",\n",
    "                                           user = \"postgres\",\n",
    "                                           password = \"postgres\",\n",
    "                                           host = \"127.0.0.1\",\n",
    "                                           port = \"5432\")\n",
    "\n",
    "    def getConnection(self):\n",
    "        print(\"successfully connected to database\")\n",
    "        return self.connection"
   ]
  },
  {
   "cell_type": "code",
   "execution_count": 3,
   "id": "41c65d36",
   "metadata": {},
   "outputs": [
    {
     "name": "stdout",
     "output_type": "stream",
     "text": [
      "successfully connected to database\n"
     ]
    }
   ],
   "source": [
    "con = PostgresConnection().getConnection()"
   ]
  },
  {
   "cell_type": "code",
   "execution_count": 4,
   "id": "28a899ec",
   "metadata": {},
   "outputs": [
    {
     "data": {
      "text/html": [
       "<div>\n",
       "<style scoped>\n",
       "    .dataframe tbody tr th:only-of-type {\n",
       "        vertical-align: middle;\n",
       "    }\n",
       "\n",
       "    .dataframe tbody tr th {\n",
       "        vertical-align: top;\n",
       "    }\n",
       "\n",
       "    .dataframe thead th {\n",
       "        text-align: right;\n",
       "    }\n",
       "</style>\n",
       "<table border=\"1\" class=\"dataframe\">\n",
       "  <thead>\n",
       "    <tr style=\"text-align: right;\">\n",
       "      <th></th>\n",
       "      <th>year</th>\n",
       "      <th>month</th>\n",
       "      <th>item_id</th>\n",
       "      <th>total_sales</th>\n",
       "    </tr>\n",
       "  </thead>\n",
       "  <tbody>\n",
       "    <tr>\n",
       "      <th>0</th>\n",
       "      <td>2014</td>\n",
       "      <td>1</td>\n",
       "      <td>I00001</td>\n",
       "      <td>1518.0</td>\n",
       "    </tr>\n",
       "    <tr>\n",
       "      <th>1</th>\n",
       "      <td>2014</td>\n",
       "      <td>2</td>\n",
       "      <td>I00001</td>\n",
       "      <td>2794.5</td>\n",
       "    </tr>\n",
       "    <tr>\n",
       "      <th>2</th>\n",
       "      <td>2014</td>\n",
       "      <td>3</td>\n",
       "      <td>I00001</td>\n",
       "      <td>2921.0</td>\n",
       "    </tr>\n",
       "    <tr>\n",
       "      <th>3</th>\n",
       "      <td>2014</td>\n",
       "      <td>4</td>\n",
       "      <td>I00001</td>\n",
       "      <td>3737.5</td>\n",
       "    </tr>\n",
       "    <tr>\n",
       "      <th>4</th>\n",
       "      <td>2014</td>\n",
       "      <td>5</td>\n",
       "      <td>I00001</td>\n",
       "      <td>2679.5</td>\n",
       "    </tr>\n",
       "    <tr>\n",
       "      <th>...</th>\n",
       "      <td>...</td>\n",
       "      <td>...</td>\n",
       "      <td>...</td>\n",
       "      <td>...</td>\n",
       "    </tr>\n",
       "    <tr>\n",
       "      <th>22435</th>\n",
       "      <td>2020</td>\n",
       "      <td>9</td>\n",
       "      <td>I00264</td>\n",
       "      <td>4155.0</td>\n",
       "    </tr>\n",
       "    <tr>\n",
       "      <th>22436</th>\n",
       "      <td>2020</td>\n",
       "      <td>10</td>\n",
       "      <td>I00264</td>\n",
       "      <td>6315.0</td>\n",
       "    </tr>\n",
       "    <tr>\n",
       "      <th>22437</th>\n",
       "      <td>2020</td>\n",
       "      <td>11</td>\n",
       "      <td>I00264</td>\n",
       "      <td>2910.0</td>\n",
       "    </tr>\n",
       "    <tr>\n",
       "      <th>22438</th>\n",
       "      <td>2020</td>\n",
       "      <td>12</td>\n",
       "      <td>I00264</td>\n",
       "      <td>6390.0</td>\n",
       "    </tr>\n",
       "    <tr>\n",
       "      <th>22439</th>\n",
       "      <td>2021</td>\n",
       "      <td>1</td>\n",
       "      <td>I00264</td>\n",
       "      <td>2910.0</td>\n",
       "    </tr>\n",
       "  </tbody>\n",
       "</table>\n",
       "<p>22440 rows × 4 columns</p>\n",
       "</div>"
      ],
      "text/plain": [
       "       year  month item_id total_sales\n",
       "0      2014      1  I00001      1518.0\n",
       "1      2014      2  I00001      2794.5\n",
       "2      2014      3  I00001      2921.0\n",
       "3      2014      4  I00001      3737.5\n",
       "4      2014      5  I00001      2679.5\n",
       "...     ...    ...     ...         ...\n",
       "22435  2020      9  I00264      4155.0\n",
       "22436  2020     10  I00264      6315.0\n",
       "22437  2020     11  I00264      2910.0\n",
       "22438  2020     12  I00264      6390.0\n",
       "22439  2021      1  I00264      2910.0\n",
       "\n",
       "[22440 rows x 4 columns]"
      ]
     },
     "execution_count": 4,
     "metadata": {},
     "output_type": "execute_result"
    }
   ],
   "source": [
    "cur = con.cursor()\n",
    "st = '''select  t.year,t.month ,i.item_key, sum(ft.total_price) \n",
    "               from ecomdb_star_schema.fact_table ft \n",
    "               join ecomdb_star_schema.time_dim t on t.time_key = ft.time_key\n",
    "               join ecomdb_star_schema.item_dim i on i.item_key = ft.item_key\n",
    "               group by (i.item_key,t.year,t.month)\n",
    "               order by (i.item_key,t.year,t.month) '''\n",
    "cur.execute(st)\n",
    "records = cur.fetchall()\n",
    "df = pd.DataFrame(list(records), columns=['year', 'month' ,'item_id','total_sales'])\n",
    "#df.head()\n",
    "df.dropna()"
   ]
  },
  {
   "cell_type": "code",
   "execution_count": 5,
   "id": "b77fdb3e",
   "metadata": {},
   "outputs": [],
   "source": [
    "df2=df\n",
    "b=df.copy()\n",
    "c=df.copy()\n",
    "d=df.copy()\n",
    "e=df.copy()\n",
    "#df=df.values"
   ]
  },
  {
   "cell_type": "code",
   "execution_count": 6,
   "id": "aab98062",
   "metadata": {},
   "outputs": [],
   "source": [
    "b['month'] = b['month'].replace(1, 'January')\n",
    "b['month'] = b['month'].replace(2, 'February')\n",
    "b['month'] = b['month'].replace(3, 'March')\n",
    "b['month'] = b['month'].replace(4, 'April')\n",
    "b['month'] = b['month'].replace(5, 'May')\n",
    "b['month'] = b['month'].replace(6, 'June')\n",
    "b['month'] = b['month'].replace(7, 'July')\n",
    "b['month'] = b['month'].replace(8, 'August')\n",
    "b['month'] = b['month'].replace(9, 'September')\n",
    "b['month'] = b['month'].replace(10, 'October')\n",
    "b['month'] = b['month'].replace(11, 'November')\n",
    "b['month'] = b['month'].replace(12, 'December')"
   ]
  },
  {
   "cell_type": "code",
   "execution_count": 7,
   "id": "5dc3316e",
   "metadata": {},
   "outputs": [
    {
     "data": {
      "image/png": "[encoded data removed]",
      "text/plain": [
       "<Figure size 1152x360 with 2 Axes>"
      ]
     },
     "metadata": {
      "needs_background": "light"
     },
     "output_type": "display_data"
    }
   ],
   "source": [
    "import warnings\n",
    "warnings.filterwarnings('ignore')\n",
    "plt.figure(figsize=(16,5))\n",
    "plt.subplot(1,2,1)\n",
    "sns.distplot(c['month'])\n",
    "plt.subplot(1,2,2)\n",
    "sns.distplot(b['year'])\n",
    "plt.show()"
   ]
  },
  {
   "cell_type": "code",
   "execution_count": 8,
   "id": "8e8e5be0",
   "metadata": {},
   "outputs": [
    {
     "data": {
      "text/plain": [
       "<AxesSubplot:xlabel='month', ylabel='count'>"
      ]
     },
     "execution_count": 8,
     "metadata": {},
     "output_type": "execute_result"
    },
    {
     "data": {
      "image/png": "[encoded data removed]",
      "text/plain": [
       "<Figure size 1728x576 with 2 Axes>"
      ]
     },
     "metadata": {
      "needs_background": "light"
     },
     "output_type": "display_data"
    }
   ],
   "source": [
    "plt.figure(figsize = (24,8))\n",
    "plt.subplot(1,2,1)\n",
    "sns.countplot(x=b['year'])\n",
    "plt.subplot(1,2,2)\n",
    "sns.countplot(x=b['month'])"
   ]
  },
  {
   "cell_type": "markdown",
   "id": "10a3623f",
   "metadata": {},
   "source": [
    "# Data Pre Processing"
   ]
  },
  {
   "cell_type": "markdown",
   "id": "7b3f0fce",
   "metadata": {},
   "source": [
    "# Checking for null value"
   ]
  },
  {
   "cell_type": "code",
   "execution_count": 9,
   "id": "fb08ecda",
   "metadata": {},
   "outputs": [
    {
     "data": {
      "text/plain": [
       "year           0\n",
       "month          0\n",
       "item_id        0\n",
       "total_sales    0\n",
       "dtype: int64"
      ]
     },
     "execution_count": 9,
     "metadata": {},
     "output_type": "execute_result"
    }
   ],
   "source": [
    "df.isnull().sum()"
   ]
  },
  {
   "cell_type": "code",
   "execution_count": 10,
   "id": "529affae",
   "metadata": {},
   "outputs": [
    {
     "data": {
      "image/png": "[encoded data removed]",
      "text/plain": [
       "<Figure size 1080x576 with 1 Axes>"
      ]
     },
     "metadata": {
      "needs_background": "light"
     },
     "output_type": "display_data"
    }
   ],
   "source": [
    "import seaborn as sns\n",
    "from matplotlib import pyplot as plt\n",
    "\n",
    "null_value = df.isnull()\n",
    "plt.figure(figsize = (15,8))\n",
    "sns.barplot(data=null_value)\n",
    "plt.xlabel('Features',fontsize=18)\n",
    "plt.ylabel('Number of Null values',fontsize=18)\n",
    "plt.title(\"Null values in the dataset\")\n",
    "plt.savefig('Checking for null values')\n",
    "\n",
    "plt.show()"
   ]
  },
  {
   "cell_type": "markdown",
   "id": "1241af16",
   "metadata": {},
   "source": [
    "# Outlier detection"
   ]
  },
  {
   "cell_type": "code",
   "execution_count": 11,
   "id": "38f95d8a",
   "metadata": {},
   "outputs": [
    {
     "data": {
      "text/plain": [
       "<AxesSubplot:>"
      ]
     },
     "execution_count": 11,
     "metadata": {},
     "output_type": "execute_result"
    },
    {
     "data": {
      "image/png": "[encoded data removed]",
      "text/plain": [
       "<Figure size 1080x576 with 1 Axes>"
      ]
     },
     "metadata": {},
     "output_type": "display_data"
    }
   ],
   "source": [
    "#boxplot for data with outliers\n",
    "sns.set(color_codes=True)\n",
    "sns.set(rc={'figure.figsize':(15,8)})\n",
    "sns.boxplot(data=df2.iloc[0:6999,0:4],palette=\"Set2\")\n",
    "#df.head\n",
    "#print(newdf.iloc[0,0:6])"
   ]
  },
  {
   "cell_type": "code",
   "execution_count": 12,
   "id": "0d39d3ca",
   "metadata": {},
   "outputs": [
    {
     "name": "stdout",
     "output_type": "stream",
     "text": [
      "   year  first   last\n",
      "0  2014      0  22366\n",
      "1  2015     12  22378\n",
      "2  2016     24  22390\n",
      "3  2017     36  22402\n",
      "4  2018     48  22414\n",
      "5  2019     60  22426\n",
      "6  2020     72  22438\n",
      "7  2021     84  22439\n"
     ]
    }
   ],
   "source": [
    "#finding first and last index of every itemid\n",
    "ind=d.index.to_series().groupby(d['year']).agg(['first','last']).reset_index()\n",
    "print(ind)"
   ]
  },
  {
   "cell_type": "code",
   "execution_count": null,
   "id": "0e632213",
   "metadata": {},
   "outputs": [],
   "source": [
    "#detecting and replacing outliers by mean\n",
    "for m in range(2014,2022):\n",
    "    A = e.loc[e['year'] == m]\n",
    "    print(A.shape)\n",
    "    first=ind.iloc[p,1]\n",
    "    print(first)\n",
    "    last=ind.iloc[p,2]\n",
    "    print(last)\n",
    "    for i in range(0,3):\n",
    "        #print(\"For i=i.value\")\n",
    "        Avg= np.mean(A.iloc[:,i])\n",
    "        #print(Avg)\n",
    "        Q1 = A.iloc[:,i].quantile(0.25)\n",
    "        #print(Q1)\n",
    "        Q3 = A.iloc[:,i].quantile(0.75)\n",
    "        #print(Q3)\n",
    "        IQR = Q3 - Q1\n",
    "        lim1=(Q1 - 1.5 * IQR)\n",
    "        #print(lim1)\n",
    "        lim2=(Q3 + 1.5 * IQR)\n",
    "        #print(lim2)\n",
    "        #print(IQR)\n",
    "        for ami in range(first,last+1):\n",
    "            com=df.iloc[ami,i]\n",
    "            if ((com < lim1) |(com > lim2)):\n",
    "                #print(newdf.iloc[ami,i])\n",
    "                df.iloc[ami,i] = Avg\n",
    "                #print(Avg)\n",
    "                #print(newdf.iloc[ami,i])\n",
    "                f=f+1\n",
    "      #C= A.replace(((A.iloc[ami,i] < (Q1 - 1.5 * IQR)) |(A.iloc[:,i] > (Q3 + 1.5 * IQR))), Avg)\n",
    "        print(f)\n",
    "    if(p<13):\n",
    "        p=p+1"
   ]
  },
  {
   "cell_type": "code",
   "execution_count": 19,
   "id": "e557c26b",
   "metadata": {},
   "outputs": [],
   "source": [
    "c=e"
   ]
  },
  {
   "cell_type": "code",
   "execution_count": 20,
   "id": "00c912ae",
   "metadata": {},
   "outputs": [],
   "source": [
    "c.total_sales=c['total_sales'].astype('float64')"
   ]
  },
  {
   "cell_type": "code",
   "execution_count": 21,
   "id": "597f8dae",
   "metadata": {},
   "outputs": [
    {
     "data": {
      "text/plain": [
       "year             int64\n",
       "month            int64\n",
       "item_id         object\n",
       "total_sales    float64\n",
       "dtype: object"
      ]
     },
     "execution_count": 21,
     "metadata": {},
     "output_type": "execute_result"
    }
   ],
   "source": [
    "c.dtypes"
   ]
  },
  {
   "cell_type": "code",
   "execution_count": 22,
   "id": "f2f5bf0d",
   "metadata": {},
   "outputs": [
    {
     "name": "stdout",
     "output_type": "stream",
     "text": [
      "Highest allowed 12278.770473391647\n",
      "Lowest allowed -2884.7031159941434\n"
     ]
    }
   ],
   "source": [
    "print(\"Highest allowed\",c['total_sales'].mean() + 3*c['total_sales'].std())\n",
    "print(\"Lowest allowed\",c['total_sales'].mean() - 3*c['total_sales'].std())"
   ]
  },
  {
   "cell_type": "code",
   "execution_count": 23,
   "id": "c75e6d7d",
   "metadata": {},
   "outputs": [
    {
     "data": {
      "text/plain": [
       "count    22440.000000\n",
       "mean      4697.033679\n",
       "std       2527.245598\n",
       "min        420.000000\n",
       "25%       3234.000000\n",
       "50%       4230.000000\n",
       "75%       5400.000000\n",
       "max      21200.000000\n",
       "Name: total_sales, dtype: float64"
      ]
     },
     "execution_count": 23,
     "metadata": {},
     "output_type": "execute_result"
    }
   ],
   "source": [
    "c['total_sales'].describe()"
   ]
  },
  {
   "cell_type": "code",
   "execution_count": 24,
   "id": "d1580fa5",
   "metadata": {},
   "outputs": [
    {
     "data": {
      "text/plain": [
       "<AxesSubplot:xlabel='total_sales'>"
      ]
     },
     "execution_count": 24,
     "metadata": {},
     "output_type": "execute_result"
    },
    {
     "data": {
      "image/png": "[encoded data removed]",
      "text/plain": [
       "<Figure size 1080x576 with 1 Axes>"
      ]
     },
     "metadata": {},
     "output_type": "display_data"
    }
   ],
   "source": [
    "sns.boxplot(c['total_sales'])"
   ]
  },
  {
   "cell_type": "code",
   "execution_count": 25,
   "id": "e05f288e",
   "metadata": {},
   "outputs": [
    {
     "name": "stdout",
     "output_type": "stream",
     "text": [
      "12278.770473391647\n",
      "-2884.7031159941434\n"
     ]
    }
   ],
   "source": [
    "# Capping on Outliers\n",
    "upper_limit = c['total_sales'].mean() + 3*c['total_sales'].std()\n",
    "lower_limit = c['total_sales'].mean() - 3*c['total_sales'].std()\n",
    "\n",
    "print(upper_limit)\n",
    "print(lower_limit)"
   ]
  },
  {
   "cell_type": "code",
   "execution_count": 26,
   "id": "0fdd0a8e",
   "metadata": {},
   "outputs": [
    {
     "data": {
      "text/plain": [
       "(21889, 4)"
      ]
     },
     "execution_count": 26,
     "metadata": {},
     "output_type": "execute_result"
    }
   ],
   "source": [
    "new_df2 = c[c['total_sales'] < upper_limit]\n",
    "new_df2.shape"
   ]
  },
  {
   "cell_type": "code",
   "execution_count": 27,
   "id": "e902c340",
   "metadata": {},
   "outputs": [
    {
     "data": {
      "image/png": "[encoded data removed]",
      "text/plain": [
       "<Figure size 1152x576 with 4 Axes>"
      ]
     },
     "metadata": {},
     "output_type": "display_data"
    }
   ],
   "source": [
    "plt.figure(figsize=(16,8))\n",
    "plt.subplot(2,2,1)\n",
    "sns.distplot(c['total_sales'])\n",
    "plt.subplot(2,2,2)\n",
    "sns.boxplot(c['total_sales'])\n",
    "plt.subplot(2,2,3)\n",
    "sns.distplot(new_df2['total_sales'])\n",
    "plt.subplot(2,2,4)\n",
    "sns.boxplot(new_df2['total_sales'])\n",
    "plt.show()"
   ]
  },
  {
   "cell_type": "code",
   "execution_count": 28,
   "id": "315bfc71",
   "metadata": {},
   "outputs": [],
   "source": [
    "new_df_cap =c.copy()\n",
    "new_df_cap['total_sales'] = np.where(\n",
    "    new_df_cap['total_sales'] > upper_limit,\n",
    "    upper_limit,\n",
    "    np.where(\n",
    "        new_df_cap['total_sales'] < lower_limit,\n",
    "        lower_limit,\n",
    "        new_df_cap['total_sales']\n",
    "    )\n",
    ")"
   ]
  },
  {
   "cell_type": "code",
   "execution_count": 29,
   "id": "7253b1f4",
   "metadata": {},
   "outputs": [
    {
     "data": {
      "image/png": "[encoded data removed]",
      "text/plain": [
       "<Figure size 1152x576 with 4 Axes>"
      ]
     },
     "metadata": {},
     "output_type": "display_data"
    }
   ],
   "source": [
    "plt.figure(figsize=(16,8))\n",
    "plt.subplot(2,2,1)\n",
    "sns.distplot(c['total_sales'])\n",
    "plt.subplot(2,2,2)\n",
    "sns.boxplot(c['total_sales'])\n",
    "plt.subplot(2,2,3)\n",
    "sns.distplot(new_df_cap['total_sales'])\n",
    "plt.subplot(2,2,4)\n",
    "sns.boxplot(new_df_cap['total_sales'])\n",
    "plt.show()"
   ]
  },
  {
   "cell_type": "code",
   "execution_count": 30,
   "id": "605a1f79",
   "metadata": {},
   "outputs": [
    {
     "data": {
      "text/plain": [
       "count    22440.000000\n",
       "mean      4697.033679\n",
       "std       2527.245598\n",
       "min        420.000000\n",
       "25%       3234.000000\n",
       "50%       4230.000000\n",
       "75%       5400.000000\n",
       "max      21200.000000\n",
       "Name: total_sales, dtype: float64"
      ]
     },
     "execution_count": 30,
     "metadata": {},
     "output_type": "execute_result"
    }
   ],
   "source": [
    "c['total_sales'].describe()"
   ]
  },
  {
   "cell_type": "code",
   "execution_count": 31,
   "id": "85101782",
   "metadata": {},
   "outputs": [
    {
     "data": {
      "text/plain": [
       "count    22440.000000\n",
       "mean      4643.005360\n",
       "std       2315.570551\n",
       "min        420.000000\n",
       "25%       3234.000000\n",
       "50%       4230.000000\n",
       "75%       5400.000000\n",
       "max      12278.770473\n",
       "Name: total_sales, dtype: float64"
      ]
     },
     "execution_count": 31,
     "metadata": {},
     "output_type": "execute_result"
    }
   ],
   "source": [
    "new_df_cap['total_sales'].describe()"
   ]
  },
  {
   "cell_type": "code",
   "execution_count": 32,
   "id": "63981db7",
   "metadata": {},
   "outputs": [],
   "source": [
    "df = c"
   ]
  },
  {
   "cell_type": "markdown",
   "id": "997b3692",
   "metadata": {},
   "source": [
    "# Normalizing Data"
   ]
  },
  {
   "cell_type": "code",
   "execution_count": 13,
   "id": "fa4d40c0",
   "metadata": {},
   "outputs": [
    {
     "data": {
      "image/png": "[encoded data removed]",
      "text/plain": [
       "<Figure size 1080x576 with 1 Axes>"
      ]
     },
     "metadata": {},
     "output_type": "display_data"
    }
   ],
   "source": [
    "plt.figure(figsize = (15,8))\n",
    "ax = sns.barplot(data=df,palette='Paired')\n",
    "ax.set_xticklabels(ax.get_xticklabels(), rotation = 90, fontsize = 9)\n",
    "plt.tight_layout()\n",
    "plt.xlabel('Features',fontsize=18)\n",
    "plt.ylabel('Data Range',fontsize=18)\n",
    "plt.title(\"Before Min-Max Normalization\",fontsize=18)\n",
    "#plt.savefig('Checking for null values')\n",
    "\n",
    "plt.show()"
   ]
  },
  {
   "cell_type": "code",
   "execution_count": 14,
   "id": "e90cee85",
   "metadata": {},
   "outputs": [
    {
     "data": {
      "text/html": [
       "<div>\n",
       "<style scoped>\n",
       "    .dataframe tbody tr th:only-of-type {\n",
       "        vertical-align: middle;\n",
       "    }\n",
       "\n",
       "    .dataframe tbody tr th {\n",
       "        vertical-align: top;\n",
       "    }\n",
       "\n",
       "    .dataframe thead th {\n",
       "        text-align: right;\n",
       "    }\n",
       "</style>\n",
       "<table border=\"1\" class=\"dataframe\">\n",
       "  <thead>\n",
       "    <tr style=\"text-align: right;\">\n",
       "      <th></th>\n",
       "      <th>year</th>\n",
       "      <th>month</th>\n",
       "      <th>item_id</th>\n",
       "      <th>total_sales</th>\n",
       "    </tr>\n",
       "  </thead>\n",
       "  <tbody>\n",
       "    <tr>\n",
       "      <th>0</th>\n",
       "      <td>2014</td>\n",
       "      <td>1</td>\n",
       "      <td>I00001</td>\n",
       "      <td>1518.0</td>\n",
       "    </tr>\n",
       "    <tr>\n",
       "      <th>1</th>\n",
       "      <td>2014</td>\n",
       "      <td>2</td>\n",
       "      <td>I00001</td>\n",
       "      <td>2794.5</td>\n",
       "    </tr>\n",
       "    <tr>\n",
       "      <th>2</th>\n",
       "      <td>2014</td>\n",
       "      <td>3</td>\n",
       "      <td>I00001</td>\n",
       "      <td>2921.0</td>\n",
       "    </tr>\n",
       "    <tr>\n",
       "      <th>3</th>\n",
       "      <td>2014</td>\n",
       "      <td>4</td>\n",
       "      <td>I00001</td>\n",
       "      <td>3737.5</td>\n",
       "    </tr>\n",
       "    <tr>\n",
       "      <th>4</th>\n",
       "      <td>2014</td>\n",
       "      <td>5</td>\n",
       "      <td>I00001</td>\n",
       "      <td>2679.5</td>\n",
       "    </tr>\n",
       "    <tr>\n",
       "      <th>...</th>\n",
       "      <td>...</td>\n",
       "      <td>...</td>\n",
       "      <td>...</td>\n",
       "      <td>...</td>\n",
       "    </tr>\n",
       "    <tr>\n",
       "      <th>22435</th>\n",
       "      <td>2020</td>\n",
       "      <td>9</td>\n",
       "      <td>I00264</td>\n",
       "      <td>4155.0</td>\n",
       "    </tr>\n",
       "    <tr>\n",
       "      <th>22436</th>\n",
       "      <td>2020</td>\n",
       "      <td>10</td>\n",
       "      <td>I00264</td>\n",
       "      <td>6315.0</td>\n",
       "    </tr>\n",
       "    <tr>\n",
       "      <th>22437</th>\n",
       "      <td>2020</td>\n",
       "      <td>11</td>\n",
       "      <td>I00264</td>\n",
       "      <td>2910.0</td>\n",
       "    </tr>\n",
       "    <tr>\n",
       "      <th>22438</th>\n",
       "      <td>2020</td>\n",
       "      <td>12</td>\n",
       "      <td>I00264</td>\n",
       "      <td>6390.0</td>\n",
       "    </tr>\n",
       "    <tr>\n",
       "      <th>22439</th>\n",
       "      <td>2021</td>\n",
       "      <td>1</td>\n",
       "      <td>I00264</td>\n",
       "      <td>2910.0</td>\n",
       "    </tr>\n",
       "  </tbody>\n",
       "</table>\n",
       "<p>22440 rows × 4 columns</p>\n",
       "</div>"
      ],
      "text/plain": [
       "       year  month item_id total_sales\n",
       "0      2014      1  I00001      1518.0\n",
       "1      2014      2  I00001      2794.5\n",
       "2      2014      3  I00001      2921.0\n",
       "3      2014      4  I00001      3737.5\n",
       "4      2014      5  I00001      2679.5\n",
       "...     ...    ...     ...         ...\n",
       "22435  2020      9  I00264      4155.0\n",
       "22436  2020     10  I00264      6315.0\n",
       "22437  2020     11  I00264      2910.0\n",
       "22438  2020     12  I00264      6390.0\n",
       "22439  2021      1  I00264      2910.0\n",
       "\n",
       "[22440 rows x 4 columns]"
      ]
     },
     "execution_count": 14,
     "metadata": {},
     "output_type": "execute_result"
    }
   ],
   "source": [
    "dff=d\n",
    "dff"
   ]
  },
  {
   "cell_type": "code",
   "execution_count": 15,
   "id": "8f7224eb",
   "metadata": {},
   "outputs": [
    {
     "data": {
      "text/plain": [
       "year            int64\n",
       "month           int64\n",
       "item_id        object\n",
       "total_sales    object\n",
       "dtype: object"
      ]
     },
     "execution_count": 15,
     "metadata": {},
     "output_type": "execute_result"
    }
   ],
   "source": [
    "df.dtypes"
   ]
  },
  {
   "cell_type": "code",
   "execution_count": 28,
   "id": "ccd9a257",
   "metadata": {},
   "outputs": [
    {
     "data": {
      "text/html": [
       "<div>\n",
       "<style scoped>\n",
       "    .dataframe tbody tr th:only-of-type {\n",
       "        vertical-align: middle;\n",
       "    }\n",
       "\n",
       "    .dataframe tbody tr th {\n",
       "        vertical-align: top;\n",
       "    }\n",
       "\n",
       "    .dataframe thead th {\n",
       "        text-align: right;\n",
       "    }\n",
       "</style>\n",
       "<table border=\"1\" class=\"dataframe\">\n",
       "  <thead>\n",
       "    <tr style=\"text-align: right;\">\n",
       "      <th></th>\n",
       "      <th>year</th>\n",
       "      <th>month</th>\n",
       "      <th>total_sales</th>\n",
       "    </tr>\n",
       "  </thead>\n",
       "  <tbody>\n",
       "    <tr>\n",
       "      <th>0</th>\n",
       "      <td>2014</td>\n",
       "      <td>1</td>\n",
       "      <td>1518.0</td>\n",
       "    </tr>\n",
       "    <tr>\n",
       "      <th>1</th>\n",
       "      <td>2014</td>\n",
       "      <td>2</td>\n",
       "      <td>2794.5</td>\n",
       "    </tr>\n",
       "    <tr>\n",
       "      <th>2</th>\n",
       "      <td>2014</td>\n",
       "      <td>3</td>\n",
       "      <td>2921.0</td>\n",
       "    </tr>\n",
       "    <tr>\n",
       "      <th>3</th>\n",
       "      <td>2014</td>\n",
       "      <td>4</td>\n",
       "      <td>3737.5</td>\n",
       "    </tr>\n",
       "    <tr>\n",
       "      <th>4</th>\n",
       "      <td>2014</td>\n",
       "      <td>5</td>\n",
       "      <td>2679.5</td>\n",
       "    </tr>\n",
       "    <tr>\n",
       "      <th>...</th>\n",
       "      <td>...</td>\n",
       "      <td>...</td>\n",
       "      <td>...</td>\n",
       "    </tr>\n",
       "    <tr>\n",
       "      <th>22435</th>\n",
       "      <td>2020</td>\n",
       "      <td>9</td>\n",
       "      <td>4155.0</td>\n",
       "    </tr>\n",
       "    <tr>\n",
       "      <th>22436</th>\n",
       "      <td>2020</td>\n",
       "      <td>10</td>\n",
       "      <td>6315.0</td>\n",
       "    </tr>\n",
       "    <tr>\n",
       "      <th>22437</th>\n",
       "      <td>2020</td>\n",
       "      <td>11</td>\n",
       "      <td>2910.0</td>\n",
       "    </tr>\n",
       "    <tr>\n",
       "      <th>22438</th>\n",
       "      <td>2020</td>\n",
       "      <td>12</td>\n",
       "      <td>6390.0</td>\n",
       "    </tr>\n",
       "    <tr>\n",
       "      <th>22439</th>\n",
       "      <td>2021</td>\n",
       "      <td>1</td>\n",
       "      <td>2910.0</td>\n",
       "    </tr>\n",
       "  </tbody>\n",
       "</table>\n",
       "<p>22440 rows × 3 columns</p>\n",
       "</div>"
      ],
      "text/plain": [
       "       year  month total_sales\n",
       "0      2014      1      1518.0\n",
       "1      2014      2      2794.5\n",
       "2      2014      3      2921.0\n",
       "3      2014      4      3737.5\n",
       "4      2014      5      2679.5\n",
       "...     ...    ...         ...\n",
       "22435  2020      9      4155.0\n",
       "22436  2020     10      6315.0\n",
       "22437  2020     11      2910.0\n",
       "22438  2020     12      6390.0\n",
       "22439  2021      1      2910.0\n",
       "\n",
       "[22440 rows x 3 columns]"
      ]
     },
     "execution_count": 28,
     "metadata": {},
     "output_type": "execute_result"
    }
   ],
   "source": [
    "extradf= df.drop('item_id',axis=1)\n",
    "extradf"
   ]
  },
  {
   "cell_type": "code",
   "execution_count": 29,
   "id": "58f16ed4",
   "metadata": {},
   "outputs": [
    {
     "name": "stdout",
     "output_type": "stream",
     "text": [
      "           year     month                      total_sales\n",
      "0      0.000000  0.000000  0.05283926852743022136669874880\n",
      "1      0.000000  0.090909   0.1142685274302213666987487969\n",
      "2      0.000000  0.181818   0.1203561116458132820019249278\n",
      "3      0.000000  0.272727   0.1596487006737247353224254090\n",
      "4      0.000000  0.363636   0.1087343599615014436958614052\n",
      "...         ...       ...                              ...\n",
      "22435  0.857143  0.727273   0.1797401347449470644850818094\n",
      "22436  0.857143  0.818182   0.2836862367661212704523580366\n",
      "22437  0.857143  0.909091   0.1198267564966313763233878730\n",
      "22438  0.857143  1.000000   0.2872954764196342637151106833\n",
      "22439  1.000000  0.000000   0.1198267564966313763233878730\n",
      "\n",
      "[22440 rows x 3 columns]\n"
     ]
    }
   ],
   "source": [
    "# copy the data\n",
    "df_min_max_scaled = extradf.copy()\n",
    "  \n",
    "# apply normalization techniques\n",
    "for yy in df_min_max_scaled:\n",
    "    df_min_max_scaled[yy] = (df_min_max_scaled[yy] - df_min_max_scaled[yy].min()) / (df_min_max_scaled[yy].max() - df_min_max_scaled[yy].min())    \n",
    "  \n",
    "# view normalized data\n",
    "print(df_min_max_scaled)"
   ]
  },
  {
   "cell_type": "code",
   "execution_count": 30,
   "id": "56c460e4",
   "metadata": {},
   "outputs": [
    {
     "data": {
      "image/png": "[encoded data removed]",
      "text/plain": [
       "<Figure size 1080x576 with 1 Axes>"
      ]
     },
     "metadata": {},
     "output_type": "display_data"
    }
   ],
   "source": [
    "plt.figure(figsize = (15,8))\n",
    "ax = sns.barplot(data=df_min_max_scaled,palette='Paired')\n",
    "ax.set_xticklabels(ax.get_xticklabels(), rotation = 90, fontsize = 9)\n",
    "plt.tight_layout()\n",
    "plt.xlabel('Features',fontsize=18)\n",
    "plt.ylabel('Data Range',fontsize=18)\n",
    "plt.title(\"After Min-Max Normalization\",fontsize=18)\n",
    "#plt.savefig('Checking for null values')\n",
    "\n",
    "plt.show()"
   ]
  },
  {
   "cell_type": "code",
   "execution_count": 31,
   "id": "aae395cd",
   "metadata": {},
   "outputs": [],
   "source": [
    "df4=df['item_id']"
   ]
  },
  {
   "cell_type": "code",
   "execution_count": 32,
   "id": "7084ed22",
   "metadata": {},
   "outputs": [],
   "source": [
    "df_min_max_scaled[\"item_id\"]=df4"
   ]
  },
  {
   "cell_type": "code",
   "execution_count": 33,
   "id": "c691ded9",
   "metadata": {},
   "outputs": [],
   "source": [
    "df=df_min_max_scaled"
   ]
  },
  {
   "cell_type": "code",
   "execution_count": 34,
   "id": "029e1ee2",
   "metadata": {},
   "outputs": [
    {
     "data": {
      "text/html": [
       "<div>\n",
       "<style scoped>\n",
       "    .dataframe tbody tr th:only-of-type {\n",
       "        vertical-align: middle;\n",
       "    }\n",
       "\n",
       "    .dataframe tbody tr th {\n",
       "        vertical-align: top;\n",
       "    }\n",
       "\n",
       "    .dataframe thead th {\n",
       "        text-align: right;\n",
       "    }\n",
       "</style>\n",
       "<table border=\"1\" class=\"dataframe\">\n",
       "  <thead>\n",
       "    <tr style=\"text-align: right;\">\n",
       "      <th></th>\n",
       "      <th>year</th>\n",
       "      <th>month</th>\n",
       "      <th>total_sales</th>\n",
       "      <th>item_id</th>\n",
       "    </tr>\n",
       "  </thead>\n",
       "  <tbody>\n",
       "    <tr>\n",
       "      <th>0</th>\n",
       "      <td>0.000000</td>\n",
       "      <td>0.000000</td>\n",
       "      <td>0.05283926852743022136669874880</td>\n",
       "      <td>I00001</td>\n",
       "    </tr>\n",
       "    <tr>\n",
       "      <th>1</th>\n",
       "      <td>0.000000</td>\n",
       "      <td>0.090909</td>\n",
       "      <td>0.1142685274302213666987487969</td>\n",
       "      <td>I00001</td>\n",
       "    </tr>\n",
       "    <tr>\n",
       "      <th>2</th>\n",
       "      <td>0.000000</td>\n",
       "      <td>0.181818</td>\n",
       "      <td>0.1203561116458132820019249278</td>\n",
       "      <td>I00001</td>\n",
       "    </tr>\n",
       "    <tr>\n",
       "      <th>3</th>\n",
       "      <td>0.000000</td>\n",
       "      <td>0.272727</td>\n",
       "      <td>0.1596487006737247353224254090</td>\n",
       "      <td>I00001</td>\n",
       "    </tr>\n",
       "    <tr>\n",
       "      <th>4</th>\n",
       "      <td>0.000000</td>\n",
       "      <td>0.363636</td>\n",
       "      <td>0.1087343599615014436958614052</td>\n",
       "      <td>I00001</td>\n",
       "    </tr>\n",
       "    <tr>\n",
       "      <th>...</th>\n",
       "      <td>...</td>\n",
       "      <td>...</td>\n",
       "      <td>...</td>\n",
       "      <td>...</td>\n",
       "    </tr>\n",
       "    <tr>\n",
       "      <th>22435</th>\n",
       "      <td>0.857143</td>\n",
       "      <td>0.727273</td>\n",
       "      <td>0.1797401347449470644850818094</td>\n",
       "      <td>I00264</td>\n",
       "    </tr>\n",
       "    <tr>\n",
       "      <th>22436</th>\n",
       "      <td>0.857143</td>\n",
       "      <td>0.818182</td>\n",
       "      <td>0.2836862367661212704523580366</td>\n",
       "      <td>I00264</td>\n",
       "    </tr>\n",
       "    <tr>\n",
       "      <th>22437</th>\n",
       "      <td>0.857143</td>\n",
       "      <td>0.909091</td>\n",
       "      <td>0.1198267564966313763233878730</td>\n",
       "      <td>I00264</td>\n",
       "    </tr>\n",
       "    <tr>\n",
       "      <th>22438</th>\n",
       "      <td>0.857143</td>\n",
       "      <td>1.000000</td>\n",
       "      <td>0.2872954764196342637151106833</td>\n",
       "      <td>I00264</td>\n",
       "    </tr>\n",
       "    <tr>\n",
       "      <th>22439</th>\n",
       "      <td>1.000000</td>\n",
       "      <td>0.000000</td>\n",
       "      <td>0.1198267564966313763233878730</td>\n",
       "      <td>I00264</td>\n",
       "    </tr>\n",
       "  </tbody>\n",
       "</table>\n",
       "<p>22440 rows × 4 columns</p>\n",
       "</div>"
      ],
      "text/plain": [
       "           year     month                      total_sales item_id\n",
       "0      0.000000  0.000000  0.05283926852743022136669874880  I00001\n",
       "1      0.000000  0.090909   0.1142685274302213666987487969  I00001\n",
       "2      0.000000  0.181818   0.1203561116458132820019249278  I00001\n",
       "3      0.000000  0.272727   0.1596487006737247353224254090  I00001\n",
       "4      0.000000  0.363636   0.1087343599615014436958614052  I00001\n",
       "...         ...       ...                              ...     ...\n",
       "22435  0.857143  0.727273   0.1797401347449470644850818094  I00264\n",
       "22436  0.857143  0.818182   0.2836862367661212704523580366  I00264\n",
       "22437  0.857143  0.909091   0.1198267564966313763233878730  I00264\n",
       "22438  0.857143  1.000000   0.2872954764196342637151106833  I00264\n",
       "22439  1.000000  0.000000   0.1198267564966313763233878730  I00264\n",
       "\n",
       "[22440 rows x 4 columns]"
      ]
     },
     "execution_count": 34,
     "metadata": {},
     "output_type": "execute_result"
    }
   ],
   "source": [
    "df_min_max_scaled"
   ]
  },
  {
   "cell_type": "markdown",
   "id": "4a4eef86",
   "metadata": {},
   "source": [
    "# ORDINAL ENCODING"
   ]
  },
  {
   "cell_type": "code",
   "execution_count": 35,
   "id": "21f4d219",
   "metadata": {},
   "outputs": [],
   "source": [
    "oencoder = OrdinalEncoder()\n",
    "df['year']=oencoder.fit_transform(df[\"year\"].to_numpy().reshape(-1, 1))\n",
    "df['month']=oencoder.fit_transform(df[\"month\"].to_numpy().reshape(-1, 1))"
   ]
  },
  {
   "cell_type": "code",
   "execution_count": 36,
   "id": "6ca27076",
   "metadata": {},
   "outputs": [
    {
     "data": {
      "text/html": [
       "<div>\n",
       "<style scoped>\n",
       "    .dataframe tbody tr th:only-of-type {\n",
       "        vertical-align: middle;\n",
       "    }\n",
       "\n",
       "    .dataframe tbody tr th {\n",
       "        vertical-align: top;\n",
       "    }\n",
       "\n",
       "    .dataframe thead th {\n",
       "        text-align: right;\n",
       "    }\n",
       "</style>\n",
       "<table border=\"1\" class=\"dataframe\">\n",
       "  <thead>\n",
       "    <tr style=\"text-align: right;\">\n",
       "      <th></th>\n",
       "      <th>year</th>\n",
       "      <th>month</th>\n",
       "      <th>total_sales</th>\n",
       "      <th>item_id</th>\n",
       "    </tr>\n",
       "  </thead>\n",
       "  <tbody>\n",
       "    <tr>\n",
       "      <th>0</th>\n",
       "      <td>0.0</td>\n",
       "      <td>0.0</td>\n",
       "      <td>0.05283926852743022136669874880</td>\n",
       "      <td>I00001</td>\n",
       "    </tr>\n",
       "    <tr>\n",
       "      <th>1</th>\n",
       "      <td>0.0</td>\n",
       "      <td>1.0</td>\n",
       "      <td>0.1142685274302213666987487969</td>\n",
       "      <td>I00001</td>\n",
       "    </tr>\n",
       "    <tr>\n",
       "      <th>2</th>\n",
       "      <td>0.0</td>\n",
       "      <td>2.0</td>\n",
       "      <td>0.1203561116458132820019249278</td>\n",
       "      <td>I00001</td>\n",
       "    </tr>\n",
       "    <tr>\n",
       "      <th>3</th>\n",
       "      <td>0.0</td>\n",
       "      <td>3.0</td>\n",
       "      <td>0.1596487006737247353224254090</td>\n",
       "      <td>I00001</td>\n",
       "    </tr>\n",
       "    <tr>\n",
       "      <th>4</th>\n",
       "      <td>0.0</td>\n",
       "      <td>4.0</td>\n",
       "      <td>0.1087343599615014436958614052</td>\n",
       "      <td>I00001</td>\n",
       "    </tr>\n",
       "    <tr>\n",
       "      <th>...</th>\n",
       "      <td>...</td>\n",
       "      <td>...</td>\n",
       "      <td>...</td>\n",
       "      <td>...</td>\n",
       "    </tr>\n",
       "    <tr>\n",
       "      <th>22435</th>\n",
       "      <td>6.0</td>\n",
       "      <td>8.0</td>\n",
       "      <td>0.1797401347449470644850818094</td>\n",
       "      <td>I00264</td>\n",
       "    </tr>\n",
       "    <tr>\n",
       "      <th>22436</th>\n",
       "      <td>6.0</td>\n",
       "      <td>9.0</td>\n",
       "      <td>0.2836862367661212704523580366</td>\n",
       "      <td>I00264</td>\n",
       "    </tr>\n",
       "    <tr>\n",
       "      <th>22437</th>\n",
       "      <td>6.0</td>\n",
       "      <td>10.0</td>\n",
       "      <td>0.1198267564966313763233878730</td>\n",
       "      <td>I00264</td>\n",
       "    </tr>\n",
       "    <tr>\n",
       "      <th>22438</th>\n",
       "      <td>6.0</td>\n",
       "      <td>11.0</td>\n",
       "      <td>0.2872954764196342637151106833</td>\n",
       "      <td>I00264</td>\n",
       "    </tr>\n",
       "    <tr>\n",
       "      <th>22439</th>\n",
       "      <td>7.0</td>\n",
       "      <td>0.0</td>\n",
       "      <td>0.1198267564966313763233878730</td>\n",
       "      <td>I00264</td>\n",
       "    </tr>\n",
       "  </tbody>\n",
       "</table>\n",
       "<p>22440 rows × 4 columns</p>\n",
       "</div>"
      ],
      "text/plain": [
       "       year  month                      total_sales item_id\n",
       "0       0.0    0.0  0.05283926852743022136669874880  I00001\n",
       "1       0.0    1.0   0.1142685274302213666987487969  I00001\n",
       "2       0.0    2.0   0.1203561116458132820019249278  I00001\n",
       "3       0.0    3.0   0.1596487006737247353224254090  I00001\n",
       "4       0.0    4.0   0.1087343599615014436958614052  I00001\n",
       "...     ...    ...                              ...     ...\n",
       "22435   6.0    8.0   0.1797401347449470644850818094  I00264\n",
       "22436   6.0    9.0   0.2836862367661212704523580366  I00264\n",
       "22437   6.0   10.0   0.1198267564966313763233878730  I00264\n",
       "22438   6.0   11.0   0.2872954764196342637151106833  I00264\n",
       "22439   7.0    0.0   0.1198267564966313763233878730  I00264\n",
       "\n",
       "[22440 rows x 4 columns]"
      ]
     },
     "execution_count": 36,
     "metadata": {},
     "output_type": "execute_result"
    }
   ],
   "source": [
    "df"
   ]
  },
  {
   "cell_type": "code",
   "execution_count": 39,
   "id": "afc13b46",
   "metadata": {},
   "outputs": [
    {
     "data": {
      "text/plain": [
       "year           float64\n",
       "month          float64\n",
       "total_sales     object\n",
       "item_id         object\n",
       "dtype: object"
      ]
     },
     "execution_count": 39,
     "metadata": {},
     "output_type": "execute_result"
    }
   ],
   "source": [
    "df.dtypes"
   ]
  },
  {
   "cell_type": "code",
   "execution_count": 40,
   "id": "a1df7e37",
   "metadata": {},
   "outputs": [],
   "source": [
    "df['total_sales']=df['total_sales'].astype('float64')"
   ]
  },
  {
   "cell_type": "code",
   "execution_count": 44,
   "id": "258781e5",
   "metadata": {},
   "outputs": [
    {
     "data": {
      "image/png": "[encoded data removed]",
      "text/plain": [
       "<Figure size 864x576 with 3 Axes>"
      ]
     },
     "metadata": {},
     "output_type": "display_data"
    }
   ],
   "source": [
    "plt.figure(figsize=(12,8))\n",
    "plt.subplot(3,1,1)\n",
    "sns.boxplot(df['year'])\n",
    "plt.subplot(3,1,2)\n",
    "sns.boxplot(df['month'])\n",
    "plt.subplot(3,1,3)\n",
    "sns.boxplot(df['total_sales'])\n",
    "plt.show()"
   ]
  },
  {
   "cell_type": "code",
   "execution_count": 68,
   "id": "c446db22",
   "metadata": {},
   "outputs": [
    {
     "data": {
      "text/plain": [
       "Int64Index([ 4373,  4463,  4515,  4564,  4616,  5105,  5106,  5109,  5110,\n",
       "             5111,\n",
       "            ...\n",
       "            10109, 10113, 10373, 10376, 10385, 10396, 10422, 10425, 10440,\n",
       "            10451],\n",
       "           dtype='int64', length=146)"
      ]
     },
     "execution_count": 68,
     "metadata": {},
     "output_type": "execute_result"
    }
   ],
   "source": [
    "Q1 = df['total_sales'].quantile(0.10)\n",
    "Q3 = df['total_sales'].quantile(0.90)\n",
    "IQR = Q3 - Q1\n",
    "width = 1.5\n",
    "lower_bound = Q1 - (width*IQR)\n",
    "upper_bound = Q3 + (width*IQR)\n",
    "index=df['total_sales'][(df['total_sales']>upper_bound)|(df['total_sales']<lower_bound)].index\n",
    "index"
   ]
  },
  {
   "cell_type": "code",
   "execution_count": 69,
   "id": "36c241bc",
   "metadata": {},
   "outputs": [],
   "source": [
    "df.drop(index,inplace=True)"
   ]
  },
  {
   "cell_type": "code",
   "execution_count": 62,
   "id": "0be583d1",
   "metadata": {},
   "outputs": [],
   "source": [
    "median = df.loc[(df['total_sales']>upper_bound)|(df['total_sales']<lower_bound),'total_sales'].median()"
   ]
  },
  {
   "cell_type": "code",
   "execution_count": 64,
   "id": "fab1c347",
   "metadata": {},
   "outputs": [
    {
     "data": {
      "text/plain": [
       "0.800516829933946"
      ]
     },
     "execution_count": 64,
     "metadata": {},
     "output_type": "execute_result"
    }
   ],
   "source": [
    "median"
   ]
  },
  {
   "cell_type": "code",
   "execution_count": 65,
   "id": "6bbd3056",
   "metadata": {},
   "outputs": [],
   "source": [
    "df.loc[(df['total_sales']>upper_bound)|(df['total_sales']<lower_bound),'total_sales'] = np.nan"
   ]
  },
  {
   "cell_type": "code",
   "execution_count": 66,
   "id": "604e310d",
   "metadata": {},
   "outputs": [],
   "source": [
    "df.fillna(median,inplace=True)"
   ]
  },
  {
   "cell_type": "code",
   "execution_count": 70,
   "id": "f1041570",
   "metadata": {},
   "outputs": [
    {
     "data": {
      "image/png": "[encoded data removed]",
      "text/plain": [
       "<Figure size 864x576 with 3 Axes>"
      ]
     },
     "metadata": {},
     "output_type": "display_data"
    }
   ],
   "source": [
    "plt.figure(figsize=(12,8))\n",
    "plt.subplot(3,1,1)\n",
    "sns.boxplot(df['year'])\n",
    "plt.subplot(3,1,2)\n",
    "sns.boxplot(df['month'])\n",
    "plt.subplot(3,1,3)\n",
    "sns.boxplot(df['total_sales'])\n",
    "plt.show()"
   ]
  },
  {
   "cell_type": "markdown",
   "id": "8edd2d13",
   "metadata": {},
   "source": [
    "# ONE HOT ENCODING"
   ]
  },
  {
   "cell_type": "code",
   "execution_count": 71,
   "id": "803c2280",
   "metadata": {},
   "outputs": [],
   "source": [
    "df = df[['year','month','item_id','total_sales']] \n",
    "newdf = df\n",
    "newdf=newdf.iloc[:,:-1]\n",
    "newdf\n",
    "newdf=pd.get_dummies(newdf,columns = ['item_id'])"
   ]
  },
  {
   "cell_type": "code",
   "execution_count": 72,
   "id": "138221bd",
   "metadata": {},
   "outputs": [
    {
     "data": {
      "text/html": [
       "<div>\n",
       "<style scoped>\n",
       "    .dataframe tbody tr th:only-of-type {\n",
       "        vertical-align: middle;\n",
       "    }\n",
       "\n",
       "    .dataframe tbody tr th {\n",
       "        vertical-align: top;\n",
       "    }\n",
       "\n",
       "    .dataframe thead th {\n",
       "        text-align: right;\n",
       "    }\n",
       "</style>\n",
       "<table border=\"1\" class=\"dataframe\">\n",
       "  <thead>\n",
       "    <tr style=\"text-align: right;\">\n",
       "      <th></th>\n",
       "      <th>year</th>\n",
       "      <th>month</th>\n",
       "      <th>item_id_I00001</th>\n",
       "      <th>item_id_I00002</th>\n",
       "      <th>item_id_I00003</th>\n",
       "      <th>item_id_I00004</th>\n",
       "      <th>item_id_I00005</th>\n",
       "      <th>item_id_I00006</th>\n",
       "      <th>item_id_I00007</th>\n",
       "      <th>item_id_I00008</th>\n",
       "      <th>...</th>\n",
       "      <th>item_id_I00255</th>\n",
       "      <th>item_id_I00256</th>\n",
       "      <th>item_id_I00257</th>\n",
       "      <th>item_id_I00258</th>\n",
       "      <th>item_id_I00259</th>\n",
       "      <th>item_id_I00260</th>\n",
       "      <th>item_id_I00261</th>\n",
       "      <th>item_id_I00262</th>\n",
       "      <th>item_id_I00263</th>\n",
       "      <th>item_id_I00264</th>\n",
       "    </tr>\n",
       "  </thead>\n",
       "  <tbody>\n",
       "    <tr>\n",
       "      <th>0</th>\n",
       "      <td>0.0</td>\n",
       "      <td>0.0</td>\n",
       "      <td>1</td>\n",
       "      <td>0</td>\n",
       "      <td>0</td>\n",
       "      <td>0</td>\n",
       "      <td>0</td>\n",
       "      <td>0</td>\n",
       "      <td>0</td>\n",
       "      <td>0</td>\n",
       "      <td>...</td>\n",
       "      <td>0</td>\n",
       "      <td>0</td>\n",
       "      <td>0</td>\n",
       "      <td>0</td>\n",
       "      <td>0</td>\n",
       "      <td>0</td>\n",
       "      <td>0</td>\n",
       "      <td>0</td>\n",
       "      <td>0</td>\n",
       "      <td>0</td>\n",
       "    </tr>\n",
       "    <tr>\n",
       "      <th>1</th>\n",
       "      <td>0.0</td>\n",
       "      <td>1.0</td>\n",
       "      <td>1</td>\n",
       "      <td>0</td>\n",
       "      <td>0</td>\n",
       "      <td>0</td>\n",
       "      <td>0</td>\n",
       "      <td>0</td>\n",
       "      <td>0</td>\n",
       "      <td>0</td>\n",
       "      <td>...</td>\n",
       "      <td>0</td>\n",
       "      <td>0</td>\n",
       "      <td>0</td>\n",
       "      <td>0</td>\n",
       "      <td>0</td>\n",
       "      <td>0</td>\n",
       "      <td>0</td>\n",
       "      <td>0</td>\n",
       "      <td>0</td>\n",
       "      <td>0</td>\n",
       "    </tr>\n",
       "    <tr>\n",
       "      <th>2</th>\n",
       "      <td>0.0</td>\n",
       "      <td>2.0</td>\n",
       "      <td>1</td>\n",
       "      <td>0</td>\n",
       "      <td>0</td>\n",
       "      <td>0</td>\n",
       "      <td>0</td>\n",
       "      <td>0</td>\n",
       "      <td>0</td>\n",
       "      <td>0</td>\n",
       "      <td>...</td>\n",
       "      <td>0</td>\n",
       "      <td>0</td>\n",
       "      <td>0</td>\n",
       "      <td>0</td>\n",
       "      <td>0</td>\n",
       "      <td>0</td>\n",
       "      <td>0</td>\n",
       "      <td>0</td>\n",
       "      <td>0</td>\n",
       "      <td>0</td>\n",
       "    </tr>\n",
       "    <tr>\n",
       "      <th>3</th>\n",
       "      <td>0.0</td>\n",
       "      <td>3.0</td>\n",
       "      <td>1</td>\n",
       "      <td>0</td>\n",
       "      <td>0</td>\n",
       "      <td>0</td>\n",
       "      <td>0</td>\n",
       "      <td>0</td>\n",
       "      <td>0</td>\n",
       "      <td>0</td>\n",
       "      <td>...</td>\n",
       "      <td>0</td>\n",
       "      <td>0</td>\n",
       "      <td>0</td>\n",
       "      <td>0</td>\n",
       "      <td>0</td>\n",
       "      <td>0</td>\n",
       "      <td>0</td>\n",
       "      <td>0</td>\n",
       "      <td>0</td>\n",
       "      <td>0</td>\n",
       "    </tr>\n",
       "    <tr>\n",
       "      <th>4</th>\n",
       "      <td>0.0</td>\n",
       "      <td>4.0</td>\n",
       "      <td>1</td>\n",
       "      <td>0</td>\n",
       "      <td>0</td>\n",
       "      <td>0</td>\n",
       "      <td>0</td>\n",
       "      <td>0</td>\n",
       "      <td>0</td>\n",
       "      <td>0</td>\n",
       "      <td>...</td>\n",
       "      <td>0</td>\n",
       "      <td>0</td>\n",
       "      <td>0</td>\n",
       "      <td>0</td>\n",
       "      <td>0</td>\n",
       "      <td>0</td>\n",
       "      <td>0</td>\n",
       "      <td>0</td>\n",
       "      <td>0</td>\n",
       "      <td>0</td>\n",
       "    </tr>\n",
       "    <tr>\n",
       "      <th>...</th>\n",
       "      <td>...</td>\n",
       "      <td>...</td>\n",
       "      <td>...</td>\n",
       "      <td>...</td>\n",
       "      <td>...</td>\n",
       "      <td>...</td>\n",
       "      <td>...</td>\n",
       "      <td>...</td>\n",
       "      <td>...</td>\n",
       "      <td>...</td>\n",
       "      <td>...</td>\n",
       "      <td>...</td>\n",
       "      <td>...</td>\n",
       "      <td>...</td>\n",
       "      <td>...</td>\n",
       "      <td>...</td>\n",
       "      <td>...</td>\n",
       "      <td>...</td>\n",
       "      <td>...</td>\n",
       "      <td>...</td>\n",
       "      <td>...</td>\n",
       "    </tr>\n",
       "    <tr>\n",
       "      <th>22435</th>\n",
       "      <td>6.0</td>\n",
       "      <td>8.0</td>\n",
       "      <td>0</td>\n",
       "      <td>0</td>\n",
       "      <td>0</td>\n",
       "      <td>0</td>\n",
       "      <td>0</td>\n",
       "      <td>0</td>\n",
       "      <td>0</td>\n",
       "      <td>0</td>\n",
       "      <td>...</td>\n",
       "      <td>0</td>\n",
       "      <td>0</td>\n",
       "      <td>0</td>\n",
       "      <td>0</td>\n",
       "      <td>0</td>\n",
       "      <td>0</td>\n",
       "      <td>0</td>\n",
       "      <td>0</td>\n",
       "      <td>0</td>\n",
       "      <td>1</td>\n",
       "    </tr>\n",
       "    <tr>\n",
       "      <th>22436</th>\n",
       "      <td>6.0</td>\n",
       "      <td>9.0</td>\n",
       "      <td>0</td>\n",
       "      <td>0</td>\n",
       "      <td>0</td>\n",
       "      <td>0</td>\n",
       "      <td>0</td>\n",
       "      <td>0</td>\n",
       "      <td>0</td>\n",
       "      <td>0</td>\n",
       "      <td>...</td>\n",
       "      <td>0</td>\n",
       "      <td>0</td>\n",
       "      <td>0</td>\n",
       "      <td>0</td>\n",
       "      <td>0</td>\n",
       "      <td>0</td>\n",
       "      <td>0</td>\n",
       "      <td>0</td>\n",
       "      <td>0</td>\n",
       "      <td>1</td>\n",
       "    </tr>\n",
       "    <tr>\n",
       "      <th>22437</th>\n",
       "      <td>6.0</td>\n",
       "      <td>10.0</td>\n",
       "      <td>0</td>\n",
       "      <td>0</td>\n",
       "      <td>0</td>\n",
       "      <td>0</td>\n",
       "      <td>0</td>\n",
       "      <td>0</td>\n",
       "      <td>0</td>\n",
       "      <td>0</td>\n",
       "      <td>...</td>\n",
       "      <td>0</td>\n",
       "      <td>0</td>\n",
       "      <td>0</td>\n",
       "      <td>0</td>\n",
       "      <td>0</td>\n",
       "      <td>0</td>\n",
       "      <td>0</td>\n",
       "      <td>0</td>\n",
       "      <td>0</td>\n",
       "      <td>1</td>\n",
       "    </tr>\n",
       "    <tr>\n",
       "      <th>22438</th>\n",
       "      <td>6.0</td>\n",
       "      <td>11.0</td>\n",
       "      <td>0</td>\n",
       "      <td>0</td>\n",
       "      <td>0</td>\n",
       "      <td>0</td>\n",
       "      <td>0</td>\n",
       "      <td>0</td>\n",
       "      <td>0</td>\n",
       "      <td>0</td>\n",
       "      <td>...</td>\n",
       "      <td>0</td>\n",
       "      <td>0</td>\n",
       "      <td>0</td>\n",
       "      <td>0</td>\n",
       "      <td>0</td>\n",
       "      <td>0</td>\n",
       "      <td>0</td>\n",
       "      <td>0</td>\n",
       "      <td>0</td>\n",
       "      <td>1</td>\n",
       "    </tr>\n",
       "    <tr>\n",
       "      <th>22439</th>\n",
       "      <td>7.0</td>\n",
       "      <td>0.0</td>\n",
       "      <td>0</td>\n",
       "      <td>0</td>\n",
       "      <td>0</td>\n",
       "      <td>0</td>\n",
       "      <td>0</td>\n",
       "      <td>0</td>\n",
       "      <td>0</td>\n",
       "      <td>0</td>\n",
       "      <td>...</td>\n",
       "      <td>0</td>\n",
       "      <td>0</td>\n",
       "      <td>0</td>\n",
       "      <td>0</td>\n",
       "      <td>0</td>\n",
       "      <td>0</td>\n",
       "      <td>0</td>\n",
       "      <td>0</td>\n",
       "      <td>0</td>\n",
       "      <td>1</td>\n",
       "    </tr>\n",
       "  </tbody>\n",
       "</table>\n",
       "<p>22294 rows × 266 columns</p>\n",
       "</div>"
      ],
      "text/plain": [
       "       year  month  item_id_I00001  item_id_I00002  item_id_I00003  \\\n",
       "0       0.0    0.0               1               0               0   \n",
       "1       0.0    1.0               1               0               0   \n",
       "2       0.0    2.0               1               0               0   \n",
       "3       0.0    3.0               1               0               0   \n",
       "4       0.0    4.0               1               0               0   \n",
       "...     ...    ...             ...             ...             ...   \n",
       "22435   6.0    8.0               0               0               0   \n",
       "22436   6.0    9.0               0               0               0   \n",
       "22437   6.0   10.0               0               0               0   \n",
       "22438   6.0   11.0               0               0               0   \n",
       "22439   7.0    0.0               0               0               0   \n",
       "\n",
       "       item_id_I00004  item_id_I00005  item_id_I00006  item_id_I00007  \\\n",
       "0                   0               0               0               0   \n",
       "1                   0               0               0               0   \n",
       "2                   0               0               0               0   \n",
       "3                   0               0               0               0   \n",
       "4                   0               0               0               0   \n",
       "...               ...             ...             ...             ...   \n",
       "22435               0               0               0               0   \n",
       "22436               0               0               0               0   \n",
       "22437               0               0               0               0   \n",
       "22438               0               0               0               0   \n",
       "22439               0               0               0               0   \n",
       "\n",
       "       item_id_I00008  ...  item_id_I00255  item_id_I00256  item_id_I00257  \\\n",
       "0                   0  ...               0               0               0   \n",
       "1                   0  ...               0               0               0   \n",
       "2                   0  ...               0               0               0   \n",
       "3                   0  ...               0               0               0   \n",
       "4                   0  ...               0               0               0   \n",
       "...               ...  ...             ...             ...             ...   \n",
       "22435               0  ...               0               0               0   \n",
       "22436               0  ...               0               0               0   \n",
       "22437               0  ...               0               0               0   \n",
       "22438               0  ...               0               0               0   \n",
       "22439               0  ...               0               0               0   \n",
       "\n",
       "       item_id_I00258  item_id_I00259  item_id_I00260  item_id_I00261  \\\n",
       "0                   0               0               0               0   \n",
       "1                   0               0               0               0   \n",
       "2                   0               0               0               0   \n",
       "3                   0               0               0               0   \n",
       "4                   0               0               0               0   \n",
       "...               ...             ...             ...             ...   \n",
       "22435               0               0               0               0   \n",
       "22436               0               0               0               0   \n",
       "22437               0               0               0               0   \n",
       "22438               0               0               0               0   \n",
       "22439               0               0               0               0   \n",
       "\n",
       "       item_id_I00262  item_id_I00263  item_id_I00264  \n",
       "0                   0               0               0  \n",
       "1                   0               0               0  \n",
       "2                   0               0               0  \n",
       "3                   0               0               0  \n",
       "4                   0               0               0  \n",
       "...               ...             ...             ...  \n",
       "22435               0               0               1  \n",
       "22436               0               0               1  \n",
       "22437               0               0               1  \n",
       "22438               0               0               1  \n",
       "22439               0               0               1  \n",
       "\n",
       "[22294 rows x 266 columns]"
      ]
     },
     "execution_count": 72,
     "metadata": {},
     "output_type": "execute_result"
    }
   ],
   "source": [
    "newdf"
   ]
  },
  {
   "cell_type": "code",
   "execution_count": 73,
   "id": "ca1965bd",
   "metadata": {},
   "outputs": [
    {
     "data": {
      "text/plain": [
       "year              float64\n",
       "month             float64\n",
       "item_id_I00001      uint8\n",
       "item_id_I00002      uint8\n",
       "item_id_I00003      uint8\n",
       "                   ...   \n",
       "item_id_I00260      uint8\n",
       "item_id_I00261      uint8\n",
       "item_id_I00262      uint8\n",
       "item_id_I00263      uint8\n",
       "item_id_I00264      uint8\n",
       "Length: 266, dtype: object"
      ]
     },
     "execution_count": 73,
     "metadata": {},
     "output_type": "execute_result"
    }
   ],
   "source": [
    "newdf.dtypes"
   ]
  },
  {
   "cell_type": "code",
   "execution_count": 74,
   "id": "b69abee0",
   "metadata": {},
   "outputs": [
    {
     "data": {
      "text/plain": [
       "Index([], dtype='object')"
      ]
     },
     "execution_count": 74,
     "metadata": {},
     "output_type": "execute_result"
    }
   ],
   "source": [
    "df3=df2\n",
    "# checking features\n",
    "cat = newdf.select_dtypes(include='O').keys()\n",
    "# display variabels\n",
    "cat"
   ]
  },
  {
   "cell_type": "code",
   "execution_count": 75,
   "id": "aeda1fc5",
   "metadata": {},
   "outputs": [
    {
     "name": "stdout",
     "output_type": "stream",
     "text": [
      "year : 8\n",
      "month : 12\n",
      "item_id : 264\n",
      "total_sales : 4451\n"
     ]
    }
   ],
   "source": [
    "# unique values in each columns\n",
    "for x in df.columns:\n",
    "    #prinfting unique values\n",
    "    print(x ,':', len(df[x].unique()))"
   ]
  },
  {
   "cell_type": "code",
   "execution_count": 76,
   "id": "02a572ad",
   "metadata": {},
   "outputs": [],
   "source": [
    "X=newdf\n",
    "y = df.iloc[:,-1]"
   ]
  },
  {
   "cell_type": "code",
   "execution_count": 77,
   "id": "63321bd4",
   "metadata": {},
   "outputs": [
    {
     "data": {
      "text/plain": [
       "0        0.052839\n",
       "1        0.114269\n",
       "2        0.120356\n",
       "3        0.159649\n",
       "4        0.108734\n",
       "           ...   \n",
       "22435    0.179740\n",
       "22436    0.283686\n",
       "22437    0.119827\n",
       "22438    0.287295\n",
       "22439    0.119827\n",
       "Name: total_sales, Length: 22294, dtype: float64"
      ]
     },
     "execution_count": 77,
     "metadata": {},
     "output_type": "execute_result"
    }
   ],
   "source": [
    "y"
   ]
  },
  {
   "cell_type": "markdown",
   "id": "dd99db56",
   "metadata": {},
   "source": [
    "# Train-Test Split"
   ]
  },
  {
   "cell_type": "code",
   "execution_count": 78,
   "id": "8287a09d",
   "metadata": {},
   "outputs": [],
   "source": [
    "from sklearn.model_selection import train_test_split \n",
    "X_train,X_test,y_train,y_test = train_test_split(X,y, test_size = 0.2,random_state = 10)"
   ]
  },
  {
   "cell_type": "markdown",
   "id": "ad785220",
   "metadata": {},
   "source": [
    "# Linear Regression Model"
   ]
  },
  {
   "cell_type": "code",
   "execution_count": 79,
   "id": "2c5c6402",
   "metadata": {},
   "outputs": [],
   "source": [
    "# Model initialization\n",
    "regression_model = LinearRegression()\n",
    "# Fit the data(train the model)\n",
    "regression_model.fit(X_train, y_train)\n",
    "# Predict\n",
    "y_predicted = regression_model.predict(X_test)"
   ]
  },
  {
   "cell_type": "code",
   "execution_count": 80,
   "id": "0cadd3c6",
   "metadata": {},
   "outputs": [],
   "source": [
    "from sklearn.metrics import mean_squared_error, r2_score"
   ]
  },
  {
   "cell_type": "code",
   "execution_count": 81,
   "id": "0b8d96ac",
   "metadata": {},
   "outputs": [
    {
     "name": "stdout",
     "output_type": "stream",
     "text": [
      "Intercept: 0.19505999394295026\n",
      "Root mean squared error:  0.0019006471343810416\n",
      "R2:  0.8461486402413241\n"
     ]
    }
   ],
   "source": [
    "# model evaluation\n",
    "rmse = mean_squared_error(y_test, y_predicted)\n",
    "r2 = r2_score(y_test, y_predicted)\n",
    "\n",
    "# printing values\n",
    "print('Intercept:', regression_model.intercept_)\n",
    "print('Root mean squared error: ', rmse)\n",
    "print('R2: ', r2)"
   ]
  },
  {
   "cell_type": "code",
   "execution_count": 82,
   "id": "747bc756",
   "metadata": {},
   "outputs": [
    {
     "data": {
      "text/plain": [
       "0.8461486402413241"
      ]
     },
     "execution_count": 82,
     "metadata": {},
     "output_type": "execute_result"
    }
   ],
   "source": [
    "regression_model.score(X_test,y_test)"
   ]
  },
  {
   "cell_type": "markdown",
   "id": "38c0a853",
   "metadata": {},
   "source": [
    "# SVR MODEL"
   ]
  },
  {
   "cell_type": "code",
   "execution_count": 83,
   "id": "fcdf0e89",
   "metadata": {},
   "outputs": [],
   "source": [
    "from sklearn import svm\n",
    "regr = svm.SVR(kernel=\"linear\", C=100, gamma=\"auto\")\n",
    "regr.fit(X_train, y_train)\n",
    "# Predict\n",
    "y_predicted = regr.predict(X_test)"
   ]
  },
  {
   "cell_type": "code",
   "execution_count": 84,
   "id": "a0f8926e",
   "metadata": {},
   "outputs": [
    {
     "name": "stdout",
     "output_type": "stream",
     "text": [
      "Intercept: [0.1912483]\n",
      "Root mean squared error:  0.0026797385048695508\n",
      "R2:  0.7830836638142599\n"
     ]
    }
   ],
   "source": [
    "# model evaluation\n",
    "rmse = mean_squared_error(y_test, y_predicted)\n",
    "r2 = r2_score(y_test, y_predicted)\n",
    "\n",
    "# printing values\n",
    "print('Intercept:', regr.intercept_)\n",
    "print('Root mean squared error: ', rmse)\n",
    "print('R2: ', r2)"
   ]
  },
  {
   "cell_type": "code",
   "execution_count": 85,
   "id": "4093e1d8",
   "metadata": {},
   "outputs": [
    {
     "data": {
      "text/plain": [
       "0.7830836638142599"
      ]
     },
     "execution_count": 85,
     "metadata": {},
     "output_type": "execute_result"
    }
   ],
   "source": [
    "regr.score(X_test,y_test)"
   ]
  },
  {
   "cell_type": "code",
   "execution_count": 97,
   "id": "4a69aff7",
   "metadata": {},
   "outputs": [
    {
     "data": {
      "text/plain": [
       "[<matplotlib.lines.Line2D at 0x1fd82235dc0>]"
      ]
     },
     "execution_count": 97,
     "metadata": {},
     "output_type": "execute_result"
    },
    {
     "data": {
      "image/png": "[encoded data removed]",
      "text/plain": [
       "<Figure size 1080x576 with 1 Axes>"
      ]
     },
     "metadata": {},
     "output_type": "display_data"
    }
   ],
   "source": [
    "plt.scatter(y_test,y_predicted)\n",
    "p1 = max(max(y_test),max(y_predicted))\n",
    "p2 = min(min(y_test),min(y_predicted))\n",
    "plt.plot([p1, p2], [p1, p2], 'b-',color='r')"
   ]
  },
  {
   "cell_type": "code",
   "execution_count": 127,
   "id": "5bb5746e",
   "metadata": {},
   "outputs": [
    {
     "data": {
      "text/html": [
       "<div>\n",
       "<style scoped>\n",
       "    .dataframe tbody tr th:only-of-type {\n",
       "        vertical-align: middle;\n",
       "    }\n",
       "\n",
       "    .dataframe tbody tr th {\n",
       "        vertical-align: top;\n",
       "    }\n",
       "\n",
       "    .dataframe thead th {\n",
       "        text-align: right;\n",
       "    }\n",
       "</style>\n",
       "<table border=\"1\" class=\"dataframe\">\n",
       "  <thead>\n",
       "    <tr style=\"text-align: right;\">\n",
       "      <th></th>\n",
       "      <th>year</th>\n",
       "      <th>month</th>\n",
       "      <th>item_id_I00001</th>\n",
       "      <th>item_id_I00002</th>\n",
       "      <th>item_id_I00003</th>\n",
       "      <th>item_id_I00004</th>\n",
       "      <th>item_id_I00005</th>\n",
       "      <th>item_id_I00006</th>\n",
       "      <th>item_id_I00007</th>\n",
       "      <th>item_id_I00008</th>\n",
       "      <th>...</th>\n",
       "      <th>item_id_I00255</th>\n",
       "      <th>item_id_I00256</th>\n",
       "      <th>item_id_I00257</th>\n",
       "      <th>item_id_I00258</th>\n",
       "      <th>item_id_I00259</th>\n",
       "      <th>item_id_I00260</th>\n",
       "      <th>item_id_I00261</th>\n",
       "      <th>item_id_I00262</th>\n",
       "      <th>item_id_I00263</th>\n",
       "      <th>item_id_I00264</th>\n",
       "    </tr>\n",
       "  </thead>\n",
       "  <tbody>\n",
       "    <tr>\n",
       "      <th>12380</th>\n",
       "      <td>4.0</td>\n",
       "      <td>7.0</td>\n",
       "      <td>0</td>\n",
       "      <td>0</td>\n",
       "      <td>0</td>\n",
       "      <td>0</td>\n",
       "      <td>0</td>\n",
       "      <td>0</td>\n",
       "      <td>0</td>\n",
       "      <td>0</td>\n",
       "      <td>...</td>\n",
       "      <td>0</td>\n",
       "      <td>0</td>\n",
       "      <td>0</td>\n",
       "      <td>0</td>\n",
       "      <td>0</td>\n",
       "      <td>0</td>\n",
       "      <td>0</td>\n",
       "      <td>0</td>\n",
       "      <td>0</td>\n",
       "      <td>0</td>\n",
       "    </tr>\n",
       "    <tr>\n",
       "      <th>8564</th>\n",
       "      <td>5.0</td>\n",
       "      <td>4.0</td>\n",
       "      <td>0</td>\n",
       "      <td>0</td>\n",
       "      <td>0</td>\n",
       "      <td>0</td>\n",
       "      <td>0</td>\n",
       "      <td>0</td>\n",
       "      <td>0</td>\n",
       "      <td>0</td>\n",
       "      <td>...</td>\n",
       "      <td>0</td>\n",
       "      <td>0</td>\n",
       "      <td>0</td>\n",
       "      <td>0</td>\n",
       "      <td>0</td>\n",
       "      <td>0</td>\n",
       "      <td>0</td>\n",
       "      <td>0</td>\n",
       "      <td>0</td>\n",
       "      <td>0</td>\n",
       "    </tr>\n",
       "    <tr>\n",
       "      <th>16296</th>\n",
       "      <td>5.0</td>\n",
       "      <td>1.0</td>\n",
       "      <td>0</td>\n",
       "      <td>0</td>\n",
       "      <td>0</td>\n",
       "      <td>0</td>\n",
       "      <td>0</td>\n",
       "      <td>0</td>\n",
       "      <td>0</td>\n",
       "      <td>0</td>\n",
       "      <td>...</td>\n",
       "      <td>0</td>\n",
       "      <td>0</td>\n",
       "      <td>0</td>\n",
       "      <td>0</td>\n",
       "      <td>0</td>\n",
       "      <td>0</td>\n",
       "      <td>0</td>\n",
       "      <td>0</td>\n",
       "      <td>0</td>\n",
       "      <td>0</td>\n",
       "    </tr>\n",
       "    <tr>\n",
       "      <th>6201</th>\n",
       "      <td>6.0</td>\n",
       "      <td>9.0</td>\n",
       "      <td>0</td>\n",
       "      <td>0</td>\n",
       "      <td>0</td>\n",
       "      <td>0</td>\n",
       "      <td>0</td>\n",
       "      <td>0</td>\n",
       "      <td>0</td>\n",
       "      <td>0</td>\n",
       "      <td>...</td>\n",
       "      <td>0</td>\n",
       "      <td>0</td>\n",
       "      <td>0</td>\n",
       "      <td>0</td>\n",
       "      <td>0</td>\n",
       "      <td>0</td>\n",
       "      <td>0</td>\n",
       "      <td>0</td>\n",
       "      <td>0</td>\n",
       "      <td>0</td>\n",
       "    </tr>\n",
       "    <tr>\n",
       "      <th>11403</th>\n",
       "      <td>1.0</td>\n",
       "      <td>1.0</td>\n",
       "      <td>0</td>\n",
       "      <td>0</td>\n",
       "      <td>0</td>\n",
       "      <td>0</td>\n",
       "      <td>0</td>\n",
       "      <td>0</td>\n",
       "      <td>0</td>\n",
       "      <td>0</td>\n",
       "      <td>...</td>\n",
       "      <td>0</td>\n",
       "      <td>0</td>\n",
       "      <td>0</td>\n",
       "      <td>0</td>\n",
       "      <td>0</td>\n",
       "      <td>0</td>\n",
       "      <td>0</td>\n",
       "      <td>0</td>\n",
       "      <td>0</td>\n",
       "      <td>0</td>\n",
       "    </tr>\n",
       "    <tr>\n",
       "      <th>...</th>\n",
       "      <td>...</td>\n",
       "      <td>...</td>\n",
       "      <td>...</td>\n",
       "      <td>...</td>\n",
       "      <td>...</td>\n",
       "      <td>...</td>\n",
       "      <td>...</td>\n",
       "      <td>...</td>\n",
       "      <td>...</td>\n",
       "      <td>...</td>\n",
       "      <td>...</td>\n",
       "      <td>...</td>\n",
       "      <td>...</td>\n",
       "      <td>...</td>\n",
       "      <td>...</td>\n",
       "      <td>...</td>\n",
       "      <td>...</td>\n",
       "      <td>...</td>\n",
       "      <td>...</td>\n",
       "      <td>...</td>\n",
       "      <td>...</td>\n",
       "    </tr>\n",
       "    <tr>\n",
       "      <th>14089</th>\n",
       "      <td>5.0</td>\n",
       "      <td>4.0</td>\n",
       "      <td>0</td>\n",
       "      <td>0</td>\n",
       "      <td>0</td>\n",
       "      <td>0</td>\n",
       "      <td>0</td>\n",
       "      <td>0</td>\n",
       "      <td>0</td>\n",
       "      <td>0</td>\n",
       "      <td>...</td>\n",
       "      <td>0</td>\n",
       "      <td>0</td>\n",
       "      <td>0</td>\n",
       "      <td>0</td>\n",
       "      <td>0</td>\n",
       "      <td>0</td>\n",
       "      <td>0</td>\n",
       "      <td>0</td>\n",
       "      <td>0</td>\n",
       "      <td>0</td>\n",
       "    </tr>\n",
       "    <tr>\n",
       "      <th>5900</th>\n",
       "      <td>2.0</td>\n",
       "      <td>11.0</td>\n",
       "      <td>0</td>\n",
       "      <td>0</td>\n",
       "      <td>0</td>\n",
       "      <td>0</td>\n",
       "      <td>0</td>\n",
       "      <td>0</td>\n",
       "      <td>0</td>\n",
       "      <td>0</td>\n",
       "      <td>...</td>\n",
       "      <td>0</td>\n",
       "      <td>0</td>\n",
       "      <td>0</td>\n",
       "      <td>0</td>\n",
       "      <td>0</td>\n",
       "      <td>0</td>\n",
       "      <td>0</td>\n",
       "      <td>0</td>\n",
       "      <td>0</td>\n",
       "      <td>0</td>\n",
       "    </tr>\n",
       "    <tr>\n",
       "      <th>21347</th>\n",
       "      <td>1.0</td>\n",
       "      <td>0.0</td>\n",
       "      <td>0</td>\n",
       "      <td>0</td>\n",
       "      <td>0</td>\n",
       "      <td>0</td>\n",
       "      <td>0</td>\n",
       "      <td>0</td>\n",
       "      <td>0</td>\n",
       "      <td>0</td>\n",
       "      <td>...</td>\n",
       "      <td>0</td>\n",
       "      <td>0</td>\n",
       "      <td>0</td>\n",
       "      <td>0</td>\n",
       "      <td>0</td>\n",
       "      <td>0</td>\n",
       "      <td>0</td>\n",
       "      <td>0</td>\n",
       "      <td>0</td>\n",
       "      <td>0</td>\n",
       "    </tr>\n",
       "    <tr>\n",
       "      <th>14280</th>\n",
       "      <td>0.0</td>\n",
       "      <td>0.0</td>\n",
       "      <td>0</td>\n",
       "      <td>0</td>\n",
       "      <td>0</td>\n",
       "      <td>0</td>\n",
       "      <td>0</td>\n",
       "      <td>0</td>\n",
       "      <td>0</td>\n",
       "      <td>0</td>\n",
       "      <td>...</td>\n",
       "      <td>0</td>\n",
       "      <td>0</td>\n",
       "      <td>0</td>\n",
       "      <td>0</td>\n",
       "      <td>0</td>\n",
       "      <td>0</td>\n",
       "      <td>0</td>\n",
       "      <td>0</td>\n",
       "      <td>0</td>\n",
       "      <td>0</td>\n",
       "    </tr>\n",
       "    <tr>\n",
       "      <th>16099</th>\n",
       "      <td>2.0</td>\n",
       "      <td>10.0</td>\n",
       "      <td>0</td>\n",
       "      <td>0</td>\n",
       "      <td>0</td>\n",
       "      <td>0</td>\n",
       "      <td>0</td>\n",
       "      <td>0</td>\n",
       "      <td>0</td>\n",
       "      <td>0</td>\n",
       "      <td>...</td>\n",
       "      <td>0</td>\n",
       "      <td>0</td>\n",
       "      <td>0</td>\n",
       "      <td>0</td>\n",
       "      <td>0</td>\n",
       "      <td>0</td>\n",
       "      <td>0</td>\n",
       "      <td>0</td>\n",
       "      <td>0</td>\n",
       "      <td>0</td>\n",
       "    </tr>\n",
       "  </tbody>\n",
       "</table>\n",
       "<p>4459 rows × 266 columns</p>\n",
       "</div>"
      ],
      "text/plain": [
       "       year  month  item_id_I00001  item_id_I00002  item_id_I00003  \\\n",
       "12380   4.0    7.0               0               0               0   \n",
       "8564    5.0    4.0               0               0               0   \n",
       "16296   5.0    1.0               0               0               0   \n",
       "6201    6.0    9.0               0               0               0   \n",
       "11403   1.0    1.0               0               0               0   \n",
       "...     ...    ...             ...             ...             ...   \n",
       "14089   5.0    4.0               0               0               0   \n",
       "5900    2.0   11.0               0               0               0   \n",
       "21347   1.0    0.0               0               0               0   \n",
       "14280   0.0    0.0               0               0               0   \n",
       "16099   2.0   10.0               0               0               0   \n",
       "\n",
       "       item_id_I00004  item_id_I00005  item_id_I00006  item_id_I00007  \\\n",
       "12380               0               0               0               0   \n",
       "8564                0               0               0               0   \n",
       "16296               0               0               0               0   \n",
       "6201                0               0               0               0   \n",
       "11403               0               0               0               0   \n",
       "...               ...             ...             ...             ...   \n",
       "14089               0               0               0               0   \n",
       "5900                0               0               0               0   \n",
       "21347               0               0               0               0   \n",
       "14280               0               0               0               0   \n",
       "16099               0               0               0               0   \n",
       "\n",
       "       item_id_I00008  ...  item_id_I00255  item_id_I00256  item_id_I00257  \\\n",
       "12380               0  ...               0               0               0   \n",
       "8564                0  ...               0               0               0   \n",
       "16296               0  ...               0               0               0   \n",
       "6201                0  ...               0               0               0   \n",
       "11403               0  ...               0               0               0   \n",
       "...               ...  ...             ...             ...             ...   \n",
       "14089               0  ...               0               0               0   \n",
       "5900                0  ...               0               0               0   \n",
       "21347               0  ...               0               0               0   \n",
       "14280               0  ...               0               0               0   \n",
       "16099               0  ...               0               0               0   \n",
       "\n",
       "       item_id_I00258  item_id_I00259  item_id_I00260  item_id_I00261  \\\n",
       "12380               0               0               0               0   \n",
       "8564                0               0               0               0   \n",
       "16296               0               0               0               0   \n",
       "6201                0               0               0               0   \n",
       "11403               0               0               0               0   \n",
       "...               ...             ...             ...             ...   \n",
       "14089               0               0               0               0   \n",
       "5900                0               0               0               0   \n",
       "21347               0               0               0               0   \n",
       "14280               0               0               0               0   \n",
       "16099               0               0               0               0   \n",
       "\n",
       "       item_id_I00262  item_id_I00263  item_id_I00264  \n",
       "12380               0               0               0  \n",
       "8564                0               0               0  \n",
       "16296               0               0               0  \n",
       "6201                0               0               0  \n",
       "11403               0               0               0  \n",
       "...               ...             ...             ...  \n",
       "14089               0               0               0  \n",
       "5900                0               0               0  \n",
       "21347               0               0               0  \n",
       "14280               0               0               0  \n",
       "16099               0               0               0  \n",
       "\n",
       "[4459 rows x 266 columns]"
      ]
     },
     "execution_count": 127,
     "metadata": {},
     "output_type": "execute_result"
    }
   ],
   "source": [
    "X_test"
   ]
  },
  {
   "cell_type": "code",
   "execution_count": 124,
   "id": "0c563309",
   "metadata": {},
   "outputs": [
    {
     "data": {
      "text/plain": [
       "<AxesSubplot:xlabel='month', ylabel='total_sales'>"
      ]
     },
     "execution_count": 124,
     "metadata": {},
     "output_type": "execute_result"
    },
    {
     "data": {
      "image/png": "[encoded data removed]",
      "text/plain": [
       "<Figure size 864x576 with 1 Axes>"
      ]
     },
     "metadata": {},
     "output_type": "display_data"
    }
   ],
   "source": [
    "plt.figure(figsize=(12,8))\n",
    "sns.lineplot(x=X_test['month'], y=y_predicted,color='r',label='predicted')\n",
    "sns.lineplot(x=X_train['month'], y=y_train,label='train')"
   ]
  },
  {
   "cell_type": "code",
   "execution_count": 86,
   "id": "b26e8bc5",
   "metadata": {},
   "outputs": [
    {
     "data": {
      "text/plain": [
       "<AxesSubplot:xlabel='total_sales'>"
      ]
     },
     "execution_count": 86,
     "metadata": {},
     "output_type": "execute_result"
    },
    {
     "data": {
      "image/png": "[encoded data removed]",
      "text/plain": [
       "<Figure size 1080x576 with 1 Axes>"
      ]
     },
     "metadata": {},
     "output_type": "display_data"
    }
   ],
   "source": [
    "sns.boxplot(y_train)"
   ]
  },
  {
   "cell_type": "code",
   "execution_count": null,
   "id": "1a141bce",
   "metadata": {},
   "outputs": [],
   "source": [
    "Q1 =y_train.quantile(0.25)\n",
    "Q3 = y_train.quantile(0.75)\n",
    "IQR = Q3 - Q1\n",
    "lim1=(Q1 - 1.5 * IQR)\n",
    "lim2=(Q3 + 1.5 * IQR)"
   ]
  },
  {
   "cell_type": "code",
   "execution_count": 171,
   "id": "e6d2aeed",
   "metadata": {},
   "outputs": [
    {
     "data": {
      "text/plain": [
       "(17952,)"
      ]
     },
     "execution_count": 171,
     "metadata": {},
     "output_type": "execute_result"
    }
   ],
   "source": [
    "Avg=np.mean(y_train)\n",
    "for a in len(y_train):\n",
    "    com=y_train.iloc[a,i]\n",
    "    if ((com < lim1) |(com > lim2)):\n",
    "        y_train.iloc[ami,i] = Avg"
   ]
  },
  {
   "cell_type": "code",
   "execution_count": 152,
   "id": "a5e65a78",
   "metadata": {},
   "outputs": [],
   "source": [
    "from sklearn.neighbors import LocalOutlierFactor\n",
    "from sklearn.covariance import EllipticEnvelope\n",
    "from sklearn.ensemble import IsolationForest"
   ]
  },
  {
   "cell_type": "code",
   "execution_count": null,
   "id": "c6d27821",
   "metadata": {},
   "outputs": [],
   "source": [
    "newdf=df.iloc[:,:-1]\n",
    "newdf=pd.get_dummies(newdf,columns = ['item_id','month','year'])"
   ]
  },
  {
   "cell_type": "code",
   "execution_count": null,
   "id": "cd1bed5c",
   "metadata": {},
   "outputs": [],
   "source": [
    "newdf"
   ]
  },
  {
   "cell_type": "code",
   "execution_count": null,
   "id": "3898d90b",
   "metadata": {},
   "outputs": [],
   "source": [
    "from sklearn.model_selection import train_test_split \n",
    "X_train,X_test,y_train,y_test = train_test_split(X,y, test_size = 0.2,random_state = 10)"
   ]
  },
  {
   "cell_type": "code",
   "execution_count": null,
   "id": "1e7f091c",
   "metadata": {},
   "outputs": [],
   "source": [
    "# Model initialization\n",
    "regression_model = LinearRegression()\n",
    "# Fit the data(train the model)\n",
    "regression_model.fit(X_train, y_train)\n",
    "# Predict\n",
    "y_predicted = regression_model.predict(X_test)"
   ]
  },
  {
   "cell_type": "code",
   "execution_count": null,
   "id": "2786dea0",
   "metadata": {},
   "outputs": [],
   "source": [
    "from sklearn.metrics import mean_squared_error, r2_score"
   ]
  },
  {
   "cell_type": "code",
   "execution_count": null,
   "id": "993290bf",
   "metadata": {},
   "outputs": [],
   "source": [
    "# model evaluation\n",
    "rmse = mean_squared_error(y_test, y_predicted)\n",
    "r2 = r2_score(y_test, y_predicted)\n",
    "\n",
    "# printing values\n",
    "print('Intercept:', regression_model.intercept_)\n",
    "print('Root mean squared error: ', rmse)\n",
    "print('R2: ', r2)"
   ]
  },
  {
   "cell_type": "code",
   "execution_count": null,
   "id": "320bcbb4",
   "metadata": {},
   "outputs": [],
   "source": [
    "regression_model.score(X_test,y_test)"
   ]
  },
  {
   "cell_type": "code",
   "execution_count": null,
   "id": "91d7207f",
   "metadata": {},
   "outputs": [],
   "source": [
    "y_predicted = regr.predict(X_test)"
   ]
  },
  {
   "cell_type": "code",
   "execution_count": null,
   "id": "dd8cbb70",
   "metadata": {},
   "outputs": [],
   "source": [
    "regr.score(X_test,y_test)"
   ]
  },
  {
   "cell_type": "code",
   "execution_count": null,
   "id": "475df8ba",
   "metadata": {},
   "outputs": [],
   "source": [
    "from sklearn.pipeline import make_pipeline\n",
    "from sklearn.preprocessing import StandardScaler\n",
    "\n",
    "regr = make_pipeline(StandardScaler(), svm.SVR(C=1.0, epsilon=0.2))\n",
    "regr.fit(X_train, y_train)"
   ]
  },
  {
   "cell_type": "code",
   "execution_count": null,
   "id": "229c8bf1",
   "metadata": {},
   "outputs": [],
   "source": [
    "y_predicted = regr.predict(X_test)"
   ]
  },
  {
   "cell_type": "code",
   "execution_count": null,
   "id": "0c6ba222",
   "metadata": {},
   "outputs": [],
   "source": [
    "# model evaluation\n",
    "rmse = mean_squared_error(y_test, y_predicted)\n",
    "r2 = r2_score(y_test, y_predicted)\n",
    "\n",
    "# printing values\n",
    "#print('Intercept:', regr.intercept_)\n",
    "print('Root mean squared error: ', rmse)\n",
    "print('R2: ', r2)"
   ]
  },
  {
   "cell_type": "code",
   "execution_count": null,
   "id": "9f621118",
   "metadata": {},
   "outputs": [],
   "source": [
    "regr.score(X_test,y_test)"
   ]
  },
  {
   "cell_type": "code",
   "execution_count": null,
   "id": "9df2e3f9",
   "metadata": {},
   "outputs": [],
   "source": [
    "df=data"
   ]
  },
  {
   "cell_type": "code",
   "execution_count": null,
   "id": "da70493f",
   "metadata": {},
   "outputs": [],
   "source": [
    "# split the dataset into train and test sets\n",
    "X_train, X_test, y_train, y_test = train_test_split(X, y, test_size=0.33, random_state=1)"
   ]
  },
  {
   "cell_type": "code",
   "execution_count": null,
   "id": "b6e1ebad",
   "metadata": {},
   "outputs": [],
   "source": [
    "# one hot encode input variables\n",
    "onehot_encoder = OneHotEncoder(sparse=False)\n",
    "X = onehot_encoder.fit_transform(X)\n",
    "# summarize the transformed data\n",
    "print('Input', X.shape)\n",
    "print(X)"
   ]
  },
  {
   "cell_type": "code",
   "execution_count": null,
   "id": "f4ffddbe",
   "metadata": {},
   "outputs": [],
   "source": [
    "# split the dataset into train and test sets\n",
    "X_train, X_test, y_train, y_test = train_test_split(X, y, test_size=0.33, random_state=1)"
   ]
  },
  {
   "cell_type": "code",
   "execution_count": null,
   "id": "7d10265a",
   "metadata": {},
   "outputs": [],
   "source": [
    "print(y_train.shape)"
   ]
  },
  {
   "cell_type": "code",
   "execution_count": null,
   "id": "7c70966d",
   "metadata": {},
   "outputs": [],
   "source": [
    "# Model initialization\n",
    "regression_model = LinearRegression()\n",
    "# Fit the data(train the model)\n",
    "regression_model.fit(X_train, y_train)\n",
    "# Predict\n",
    "y_predicted = regression_model.predict(X_test)"
   ]
  },
  {
   "cell_type": "code",
   "execution_count": null,
   "id": "ce33956a",
   "metadata": {},
   "outputs": [],
   "source": [
    "# model evaluation\n",
    "rmse = mean_squared_error(y_test, y_predicted)\n",
    "r2 = r2_score(y_test, y_predicted)\n",
    "\n",
    "# printing values\n",
    "print('Intercept:', regression_model.intercept_)\n",
    "print('Root mean squared error: ', rmse)"
   ]
  },
  {
   "cell_type": "code",
   "execution_count": null,
   "id": "d1c788aa",
   "metadata": {},
   "outputs": [],
   "source": [
    "plt.scatter(X_train, y_train)"
   ]
  },
  {
   "cell_type": "code",
   "execution_count": null,
   "id": "140400c9",
   "metadata": {},
   "outputs": [],
   "source": [
    "print(X_train.size)"
   ]
  },
  {
   "cell_type": "code",
   "execution_count": null,
   "id": "0e027a77",
   "metadata": {},
   "outputs": [],
   "source": []
  }
 ],
 "metadata": {
  "kernelspec": {
   "display_name": "Python 3 (ipykernel)",
   "language": "python",
   "name": "python3"
  },
  "language_info": {
   "codemirror_mode": {
    "name": "ipython",
    "version": 3
   },
   "file_extension": ".py",
   "mimetype": "text/x-python",
   "name": "python",
   "nbconvert_exporter": "python",
   "pygments_lexer": "ipython3",
   "version": "3.9.7"
  }
 },
 "nbformat": 4,
 "nbformat_minor": 5
}
