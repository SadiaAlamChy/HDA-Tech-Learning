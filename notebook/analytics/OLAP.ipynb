{
 "cells": [
  {
   "cell_type": "code",
   "execution_count": 2,
   "id": "ed6ac2c8",
   "metadata": {},
   "outputs": [],
   "source": [
    "import psycopg2\n",
    "import pandas as pd\n",
    "import psycopg2.extras\n",
    "import matplotlib.pyplot as plt"
   ]
  },
  {
   "cell_type": "code",
   "execution_count": 3,
   "id": "9bec3a21",
   "metadata": {},
   "outputs": [],
   "source": [
    "class PostgresConnection(object):\n",
    "    def __init__(self):\n",
    "        self.connection = psycopg2.connect(database=\"ecomdb\",\n",
    "                                           user = \"postgres\",\n",
    "                                           password = \"123456\",\n",
    "                                           host = \"127.0.0.1\",\n",
    "                                           port = \"5432\")\n",
    "\n",
    "    def getConnection(self):\n",
    "        print(\"successfully connected to database\")\n",
    "        return self.connection\n",
    "    \n",
    "    \n",
    "# con = PostgresConnection().getConnection()    "
   ]
  },
  {
   "cell_type": "markdown",
   "id": "90416edf",
   "metadata": {},
   "source": [
    "### Common Function to fetch Data from all tables "
   ]
  },
  {
   "cell_type": "code",
   "execution_count": 4,
   "id": "41aaec55",
   "metadata": {},
   "outputs": [],
   "source": [
    "#  select_stmt= is the SQL select query along with  table and column name    \n",
    "def retrive_data_from_table(select_stmt): \n",
    "    con = PostgresConnection().getConnection()\n",
    "    cur = con.cursor()\n",
    "#     select_stmt = \"SELECT t.payment_key , t.trans_type, t.bank_name \" \\\n",
    "#                   \"FROM ecomdb_star_schema.trans_dim t\"\n",
    "    cur.execute(select_stmt)\n",
    "    records = cur.fetchall()\n",
    "    return records"
   ]
  },
  {
   "cell_type": "markdown",
   "id": "9e210bd6",
   "metadata": {},
   "source": [
    "# Do some simple CUBE query including ROLL UP, DRILL DOWN, SLICE, DICE to answer the following questions from the ecomdb warehouse"
   ]
  },
  {
   "cell_type": "markdown",
   "id": "c33a8858",
   "metadata": {},
   "source": [
    "### Q1: Find the division/district/year/month wise total_sale_price joining fact table and respective dimension table "
   ]
  },
  {
   "cell_type": "markdown",
   "id": "34c0307d",
   "metadata": {},
   "source": [
    "##### ROLLUP"
   ]
  },
  {
   "cell_type": "code",
   "execution_count": 26,
   "id": "1d311de7",
   "metadata": {},
   "outputs": [
    {
     "name": "stdout",
     "output_type": "stream",
     "text": [
      "successfully connected to database\n"
     ]
    },
    {
     "data": {
      "text/html": [
       "<div>\n",
       "<style scoped>\n",
       "    .dataframe tbody tr th:only-of-type {\n",
       "        vertical-align: middle;\n",
       "    }\n",
       "\n",
       "    .dataframe tbody tr th {\n",
       "        vertical-align: top;\n",
       "    }\n",
       "\n",
       "    .dataframe thead th {\n",
       "        text-align: right;\n",
       "    }\n",
       "</style>\n",
       "<table border=\"1\" class=\"dataframe\">\n",
       "  <thead>\n",
       "    <tr style=\"text-align: right;\">\n",
       "      <th></th>\n",
       "      <th>division</th>\n",
       "      <th>district</th>\n",
       "      <th>month</th>\n",
       "      <th>year</th>\n",
       "      <th>total_sales</th>\n",
       "    </tr>\n",
       "  </thead>\n",
       "  <tbody>\n",
       "    <tr>\n",
       "      <th>0</th>\n",
       "      <td>BARISAL</td>\n",
       "      <td>JHALOKATI</td>\n",
       "      <td>3.0</td>\n",
       "      <td>2018.0</td>\n",
       "      <td>13597.50</td>\n",
       "    </tr>\n",
       "    <tr>\n",
       "      <th>1</th>\n",
       "      <td>BARISAL</td>\n",
       "      <td>BARISAL</td>\n",
       "      <td>1.0</td>\n",
       "      <td>2021.0</td>\n",
       "      <td>51799.00</td>\n",
       "    </tr>\n",
       "    <tr>\n",
       "      <th>2</th>\n",
       "      <td>BARISAL</td>\n",
       "      <td>BARGUNA</td>\n",
       "      <td>12.0</td>\n",
       "      <td>2018.0</td>\n",
       "      <td>23065.50</td>\n",
       "    </tr>\n",
       "    <tr>\n",
       "      <th>3</th>\n",
       "      <td>BARISAL</td>\n",
       "      <td>PATUAKHALI</td>\n",
       "      <td>5.0</td>\n",
       "      <td>2015.0</td>\n",
       "      <td>25013.50</td>\n",
       "    </tr>\n",
       "    <tr>\n",
       "      <th>4</th>\n",
       "      <td>BARISAL</td>\n",
       "      <td>PATUAKHALI</td>\n",
       "      <td>11.0</td>\n",
       "      <td>2017.0</td>\n",
       "      <td>23102.50</td>\n",
       "    </tr>\n",
       "    <tr>\n",
       "      <th>...</th>\n",
       "      <td>...</td>\n",
       "      <td>...</td>\n",
       "      <td>...</td>\n",
       "      <td>...</td>\n",
       "      <td>...</td>\n",
       "    </tr>\n",
       "    <tr>\n",
       "      <th>6275</th>\n",
       "      <td>SYLHET</td>\n",
       "      <td>MAULVIBAZAR</td>\n",
       "      <td>12.0</td>\n",
       "      <td>2020.0</td>\n",
       "      <td>27745.00</td>\n",
       "    </tr>\n",
       "    <tr>\n",
       "      <th>6276</th>\n",
       "      <td>SYLHET</td>\n",
       "      <td>MAULVIBAZAR</td>\n",
       "      <td>8.0</td>\n",
       "      <td>2017.0</td>\n",
       "      <td>31631.50</td>\n",
       "    </tr>\n",
       "    <tr>\n",
       "      <th>6277</th>\n",
       "      <td>SYLHET</td>\n",
       "      <td>MAULVIBAZAR</td>\n",
       "      <td>10.0</td>\n",
       "      <td>2015.0</td>\n",
       "      <td>24893.50</td>\n",
       "    </tr>\n",
       "    <tr>\n",
       "      <th>6278</th>\n",
       "      <td>SYLHET</td>\n",
       "      <td>HABIGANJ</td>\n",
       "      <td>10.0</td>\n",
       "      <td>2020.0</td>\n",
       "      <td>29836.00</td>\n",
       "    </tr>\n",
       "    <tr>\n",
       "      <th>6279</th>\n",
       "      <td>None</td>\n",
       "      <td>None</td>\n",
       "      <td>NaN</td>\n",
       "      <td>NaN</td>\n",
       "      <td>210802871.50</td>\n",
       "    </tr>\n",
       "  </tbody>\n",
       "</table>\n",
       "<p>6280 rows × 5 columns</p>\n",
       "</div>"
      ],
      "text/plain": [
       "     division     district  month    year   total_sales\n",
       "0     BARISAL    JHALOKATI    3.0  2018.0      13597.50\n",
       "1     BARISAL      BARISAL    1.0  2021.0      51799.00\n",
       "2     BARISAL      BARGUNA   12.0  2018.0      23065.50\n",
       "3     BARISAL   PATUAKHALI    5.0  2015.0      25013.50\n",
       "4     BARISAL   PATUAKHALI   11.0  2017.0      23102.50\n",
       "...       ...          ...    ...     ...           ...\n",
       "6275   SYLHET  MAULVIBAZAR   12.0  2020.0      27745.00\n",
       "6276   SYLHET  MAULVIBAZAR    8.0  2017.0      31631.50\n",
       "6277   SYLHET  MAULVIBAZAR   10.0  2015.0      24893.50\n",
       "6278   SYLHET     HABIGANJ   10.0  2020.0      29836.00\n",
       "6279     None         None    NaN     NaN  210802871.50\n",
       "\n",
       "[6280 rows x 5 columns]"
      ]
     },
     "execution_count": 26,
     "metadata": {},
     "output_type": "execute_result"
    }
   ],
   "source": [
    "select_stmt = \" SELECT sr.division ,sr.district,tim.month, tim.year, SUM(fact.total_price) \" \\\n",
    "              \" From ecomdb_star_schema.fact_table fact \" \\\n",
    "              \" JOIN ecomdb_star_schema.store_dim sr on sr.store_key=fact.store_key \" \\\n",
    "              \" JOIN ecomdb_star_schema.time_dim tim on tim.time_key=fact.time_key \"\\\n",
    "              \" GROUP BY ROLLUP (sr.division,sr.district,tim.month, tim.year) \"\\\n",
    "              \" ORDER BY sr.division\"\n",
    "\n",
    "ROLLUP_records = retrive_data_from_table(select_stmt)\n",
    "df = pd.DataFrame(list(ROLLUP_records), columns=['division', 'district', 'month', 'year', 'total_sales'])\n",
    "df"
   ]
  },
  {
   "cell_type": "code",
   "execution_count": 27,
   "id": "6b8aacea",
   "metadata": {},
   "outputs": [
    {
     "name": "stdout",
     "output_type": "stream",
     "text": [
      "division        object\n",
      "district        object\n",
      "month          float64\n",
      "year           float64\n",
      "total_sales     object\n",
      "dtype: object\n"
     ]
    }
   ],
   "source": [
    "print(df.dtypes)"
   ]
  },
  {
   "cell_type": "code",
   "execution_count": 28,
   "id": "7cf04783",
   "metadata": {
    "scrolled": true
   },
   "outputs": [
    {
     "name": "stdout",
     "output_type": "stream",
     "text": [
      "division        object\n",
      "district        object\n",
      "month          float64\n",
      "year           float64\n",
      "total_sales    float64\n",
      "dtype: object\n"
     ]
    }
   ],
   "source": [
    "df['total_sales'] = df['total_sales'].astype('float64')\n",
    "print(df.dtypes)"
   ]
  },
  {
   "cell_type": "markdown",
   "id": "8147f549",
   "metadata": {},
   "source": [
    "##### DRILL DOWN-Q-1"
   ]
  },
  {
   "cell_type": "code",
   "execution_count": 133,
   "id": "816398be",
   "metadata": {},
   "outputs": [
    {
     "name": "stdout",
     "output_type": "stream",
     "text": [
      "successfully connected to database\n",
      "      division     district      upazila    year total_sales\n",
      "0      BARISAL    JHALOKATI         None  2015.0   157612.00\n",
      "1      BARISAL      BARISAL  BANARI PARA  2014.0    82468.00\n",
      "2      BARISAL      BARISAL  MEHENDIGANJ  2020.0    81596.00\n",
      "3      BARISAL   PATUAKHALI    RANGABALI  2021.0     3318.50\n",
      "4      BARISAL      BARISAL   AGAILJHARA  2015.0    83466.00\n",
      "...        ...          ...          ...     ...         ...\n",
      "21055     None   PANCHAGARH         None  2021.0    10391.00\n",
      "21056     None  LALMONIRHAT         None  2020.0   206774.50\n",
      "21057     None    GAIBANDHA         None  2021.0    18908.00\n",
      "21058     None  LALMONIRHAT         None  2019.0   212435.50\n",
      "21059     None     RAJSHAHI         None  2017.0  1078581.50\n",
      "\n",
      "[21060 rows x 5 columns]\n",
      "successfully connected to database\n",
      "     division    year  month quarter total_sales\n",
      "0     BARISAL  2019.0   10.0      Q4   179156.50\n",
      "1     BARISAL  2017.0    1.0      Q1   184557.00\n",
      "2     BARISAL  2016.0    NaN    None  2144993.50\n",
      "3     BARISAL  2019.0    3.0    None   174127.50\n",
      "4     BARISAL  2020.0    5.0      Q2   171195.50\n",
      "...       ...     ...    ...     ...         ...\n",
      "1883     None  2020.0    2.0      Q1  2257928.00\n",
      "1884     None  2020.0    NaN      Q4  7733578.50\n",
      "1885     None  2017.0   12.0      Q4  2431545.50\n",
      "1886     None  2015.0    NaN      Q2  7512449.00\n",
      "1887     None  2018.0    8.0      Q3  2615855.50\n",
      "\n",
      "[1888 rows x 5 columns]\n"
     ]
    }
   ],
   "source": [
    "## DRILL_DOWN == Make Specific or expand to all category\n",
    "\n",
    "## Here I tried to expand TIME_DIM table\n",
    "## DRILL_DOWN(division->> upazila)\n",
    "select_stmt1 = \" SELECT sr.division, sr.district, sr.upazila,tim.year, SUM(fact.total_price) \" \\\n",
    "              \" From ecomdb_star_schema.fact_table fact \" \\\n",
    "              \" JOIN ecomdb_star_schema.store_dim sr on sr.store_key=fact.store_key \" \\\n",
    "              \" JOIN ecomdb_star_schema.time_dim tim on tim.time_key=fact.time_key \"\\\n",
    "              \" GROUP BY CUBE(sr.division,sr.district,sr.upazila, tim.year) \"\\\n",
    "              \" ORDER BY sr.division\"\n",
    "CUBE_records = retrive_data_from_table(select_stmt1)\n",
    "df1 = pd.DataFrame(list(CUBE_records), columns=['division', 'district','upazila', 'year', 'total_sales'])\n",
    "print(df1)\n",
    "\n",
    "\n",
    "## Here I tried to expand TIME_DIM table\n",
    "## DRILL_DOWN(division->> upazila)\n",
    "select_stmt2 = \" SELECT sr.division,tim.year,tim.month,tim.quarter, SUM(fact.total_price) \" \\\n",
    "              \" From ecomdb_star_schema.fact_table fact \" \\\n",
    "              \" JOIN ecomdb_star_schema.store_dim sr on sr.store_key=fact.store_key \" \\\n",
    "              \" JOIN ecomdb_star_schema.time_dim tim on tim.time_key=fact.time_key \"\\\n",
    "              \" GROUP BY CUBE(sr.division,tim.year,tim.month,tim.quarter) \"\\\n",
    "              \" ORDER BY sr.division\"\n",
    "\n",
    "\n",
    "CUBE_records2 = retrive_data_from_table(select_stmt2)\n",
    "df2 = pd.DataFrame(list(CUBE_records2), columns=['division','year','month','quarter', 'total_sales'])\n",
    "print(df2)"
   ]
  },
  {
   "cell_type": "markdown",
   "id": "6770dde8",
   "metadata": {},
   "source": [
    "##### CUBE_Q-1"
   ]
  },
  {
   "cell_type": "code",
   "execution_count": 30,
   "id": "2909d5d0",
   "metadata": {
    "scrolled": false
   },
   "outputs": [
    {
     "name": "stdout",
     "output_type": "stream",
     "text": [
      "successfully connected to database\n"
     ]
    },
    {
     "data": {
      "text/html": [
       "<div>\n",
       "<style scoped>\n",
       "    .dataframe tbody tr th:only-of-type {\n",
       "        vertical-align: middle;\n",
       "    }\n",
       "\n",
       "    .dataframe tbody tr th {\n",
       "        vertical-align: top;\n",
       "    }\n",
       "\n",
       "    .dataframe thead th {\n",
       "        text-align: right;\n",
       "    }\n",
       "</style>\n",
       "<table border=\"1\" class=\"dataframe\">\n",
       "  <thead>\n",
       "    <tr style=\"text-align: right;\">\n",
       "      <th></th>\n",
       "      <th>division</th>\n",
       "      <th>district</th>\n",
       "      <th>month</th>\n",
       "      <th>year</th>\n",
       "      <th>total_sales</th>\n",
       "    </tr>\n",
       "  </thead>\n",
       "  <tbody>\n",
       "    <tr>\n",
       "      <th>0</th>\n",
       "      <td>BARISAL</td>\n",
       "      <td>PIROJPUR</td>\n",
       "      <td>9.0</td>\n",
       "      <td>2015.0</td>\n",
       "      <td>24391.00</td>\n",
       "    </tr>\n",
       "    <tr>\n",
       "      <th>1</th>\n",
       "      <td>BARISAL</td>\n",
       "      <td>None</td>\n",
       "      <td>8.0</td>\n",
       "      <td>NaN</td>\n",
       "      <td>1263763.00</td>\n",
       "    </tr>\n",
       "    <tr>\n",
       "      <th>2</th>\n",
       "      <td>BARISAL</td>\n",
       "      <td>PIROJPUR</td>\n",
       "      <td>10.0</td>\n",
       "      <td>2014.0</td>\n",
       "      <td>22612.00</td>\n",
       "    </tr>\n",
       "    <tr>\n",
       "      <th>3</th>\n",
       "      <td>BARISAL</td>\n",
       "      <td>PIROJPUR</td>\n",
       "      <td>11.0</td>\n",
       "      <td>2015.0</td>\n",
       "      <td>22048.00</td>\n",
       "    </tr>\n",
       "    <tr>\n",
       "      <th>4</th>\n",
       "      <td>BARISAL</td>\n",
       "      <td>PIROJPUR</td>\n",
       "      <td>8.0</td>\n",
       "      <td>NaN</td>\n",
       "      <td>175170.00</td>\n",
       "    </tr>\n",
       "    <tr>\n",
       "      <th>...</th>\n",
       "      <td>...</td>\n",
       "      <td>...</td>\n",
       "      <td>...</td>\n",
       "      <td>...</td>\n",
       "      <td>...</td>\n",
       "    </tr>\n",
       "    <tr>\n",
       "      <th>14411</th>\n",
       "      <td>None</td>\n",
       "      <td>PANCHAGARH</td>\n",
       "      <td>NaN</td>\n",
       "      <td>2021.0</td>\n",
       "      <td>10391.00</td>\n",
       "    </tr>\n",
       "    <tr>\n",
       "      <th>14412</th>\n",
       "      <td>None</td>\n",
       "      <td>LALMONIRHAT</td>\n",
       "      <td>NaN</td>\n",
       "      <td>2020.0</td>\n",
       "      <td>206774.50</td>\n",
       "    </tr>\n",
       "    <tr>\n",
       "      <th>14413</th>\n",
       "      <td>None</td>\n",
       "      <td>GAIBANDHA</td>\n",
       "      <td>NaN</td>\n",
       "      <td>2021.0</td>\n",
       "      <td>18908.00</td>\n",
       "    </tr>\n",
       "    <tr>\n",
       "      <th>14414</th>\n",
       "      <td>None</td>\n",
       "      <td>LALMONIRHAT</td>\n",
       "      <td>NaN</td>\n",
       "      <td>2019.0</td>\n",
       "      <td>212435.50</td>\n",
       "    </tr>\n",
       "    <tr>\n",
       "      <th>14415</th>\n",
       "      <td>None</td>\n",
       "      <td>RAJSHAHI</td>\n",
       "      <td>NaN</td>\n",
       "      <td>2017.0</td>\n",
       "      <td>1078581.50</td>\n",
       "    </tr>\n",
       "  </tbody>\n",
       "</table>\n",
       "<p>14416 rows × 5 columns</p>\n",
       "</div>"
      ],
      "text/plain": [
       "      division     district  month    year total_sales\n",
       "0      BARISAL     PIROJPUR    9.0  2015.0    24391.00\n",
       "1      BARISAL         None    8.0     NaN  1263763.00\n",
       "2      BARISAL     PIROJPUR   10.0  2014.0    22612.00\n",
       "3      BARISAL     PIROJPUR   11.0  2015.0    22048.00\n",
       "4      BARISAL     PIROJPUR    8.0     NaN   175170.00\n",
       "...        ...          ...    ...     ...         ...\n",
       "14411     None   PANCHAGARH    NaN  2021.0    10391.00\n",
       "14412     None  LALMONIRHAT    NaN  2020.0   206774.50\n",
       "14413     None    GAIBANDHA    NaN  2021.0    18908.00\n",
       "14414     None  LALMONIRHAT    NaN  2019.0   212435.50\n",
       "14415     None     RAJSHAHI    NaN  2017.0  1078581.50\n",
       "\n",
       "[14416 rows x 5 columns]"
      ]
     },
     "execution_count": 30,
     "metadata": {},
     "output_type": "execute_result"
    }
   ],
   "source": [
    "select_stmt = \" SELECT sr.division ,sr.district,tim.month, tim.year, SUM(fact.total_price) \" \\\n",
    "              \" From ecomdb_star_schema.fact_table fact \" \\\n",
    "              \" JOIN ecomdb_star_schema.store_dim sr on sr.store_key=fact.store_key \" \\\n",
    "              \" JOIN ecomdb_star_schema.time_dim tim on tim.time_key=fact.time_key \"\\\n",
    "              \" GROUP BY CUBE(sr.division,sr.district,tim.month, tim.year) \"\\\n",
    "              \" ORDER BY sr.division\"\n",
    "  \n",
    "CUBE_records = retrive_data_from_table(select_stmt)\n",
    "df = pd.DataFrame(list(CUBE_records), columns=['division', 'district', 'month', 'year', 'total_sales'])\n",
    "df"
   ]
  },
  {
   "cell_type": "code",
   "execution_count": 33,
   "id": "27518f78",
   "metadata": {},
   "outputs": [
    {
     "data": {
      "text/plain": [
       "array(['BARISAL', 'CHITTAGONG', 'DHAKA', 'KHULNA', 'RAJSHAHI', 'RANGPUR',\n",
       "       'SYLHET', None], dtype=object)"
      ]
     },
     "execution_count": 33,
     "metadata": {},
     "output_type": "execute_result"
    }
   ],
   "source": [
    "df['division'].unique()"
   ]
  },
  {
   "cell_type": "code",
   "execution_count": 32,
   "id": "5aa9176f",
   "metadata": {},
   "outputs": [
    {
     "data": {
      "text/plain": [
       "division        object\n",
       "district        object\n",
       "month          float64\n",
       "year           float64\n",
       "total_sales    float64\n",
       "dtype: object"
      ]
     },
     "execution_count": 32,
     "metadata": {},
     "output_type": "execute_result"
    }
   ],
   "source": [
    "df.dtypes\n",
    "df['total_sales'] = df['total_sales'].astype('float64')\n",
    "df.dtypes"
   ]
  },
  {
   "cell_type": "markdown",
   "id": "4e2af81c",
   "metadata": {},
   "source": [
    "##### SLICE_Q-1"
   ]
  },
  {
   "cell_type": "code",
   "execution_count": 98,
   "id": "b64abb1b",
   "metadata": {
    "scrolled": true
   },
   "outputs": [
    {
     "name": "stdout",
     "output_type": "stream",
     "text": [
      "successfully connected to database\n"
     ]
    },
    {
     "data": {
      "text/html": [
       "<div>\n",
       "<style scoped>\n",
       "    .dataframe tbody tr th:only-of-type {\n",
       "        vertical-align: middle;\n",
       "    }\n",
       "\n",
       "    .dataframe tbody tr th {\n",
       "        vertical-align: top;\n",
       "    }\n",
       "\n",
       "    .dataframe thead th {\n",
       "        text-align: right;\n",
       "    }\n",
       "</style>\n",
       "<table border=\"1\" class=\"dataframe\">\n",
       "  <thead>\n",
       "    <tr style=\"text-align: right;\">\n",
       "      <th></th>\n",
       "      <th>division</th>\n",
       "      <th>district</th>\n",
       "      <th>total_sales</th>\n",
       "    </tr>\n",
       "  </thead>\n",
       "  <tbody>\n",
       "    <tr>\n",
       "      <th>0</th>\n",
       "      <td>CHITTAGONG</td>\n",
       "      <td>BANDARBAN</td>\n",
       "      <td>1990721.50</td>\n",
       "    </tr>\n",
       "    <tr>\n",
       "      <th>1</th>\n",
       "      <td>CHITTAGONG</td>\n",
       "      <td>BRAHMANBARIA</td>\n",
       "      <td>2656468.50</td>\n",
       "    </tr>\n",
       "    <tr>\n",
       "      <th>2</th>\n",
       "      <td>CHITTAGONG</td>\n",
       "      <td>CHANDPUR</td>\n",
       "      <td>2306553.50</td>\n",
       "    </tr>\n",
       "    <tr>\n",
       "      <th>3</th>\n",
       "      <td>CHITTAGONG</td>\n",
       "      <td>CHITTAGONG</td>\n",
       "      <td>14585971.00</td>\n",
       "    </tr>\n",
       "    <tr>\n",
       "      <th>4</th>\n",
       "      <td>CHITTAGONG</td>\n",
       "      <td>COMILLA</td>\n",
       "      <td>4573796.50</td>\n",
       "    </tr>\n",
       "    <tr>\n",
       "      <th>5</th>\n",
       "      <td>CHITTAGONG</td>\n",
       "      <td>COX'S BAZAR</td>\n",
       "      <td>2376257.50</td>\n",
       "    </tr>\n",
       "    <tr>\n",
       "      <th>6</th>\n",
       "      <td>CHITTAGONG</td>\n",
       "      <td>FENI</td>\n",
       "      <td>1695747.00</td>\n",
       "    </tr>\n",
       "    <tr>\n",
       "      <th>7</th>\n",
       "      <td>CHITTAGONG</td>\n",
       "      <td>KHAGRACHHARI</td>\n",
       "      <td>2323443.00</td>\n",
       "    </tr>\n",
       "    <tr>\n",
       "      <th>8</th>\n",
       "      <td>CHITTAGONG</td>\n",
       "      <td>LAKSHMIPUR</td>\n",
       "      <td>1459818.50</td>\n",
       "    </tr>\n",
       "    <tr>\n",
       "      <th>9</th>\n",
       "      <td>CHITTAGONG</td>\n",
       "      <td>NOAKHALI</td>\n",
       "      <td>2642373.50</td>\n",
       "    </tr>\n",
       "    <tr>\n",
       "      <th>10</th>\n",
       "      <td>CHITTAGONG</td>\n",
       "      <td>RANGAMATI</td>\n",
       "      <td>2916039.50</td>\n",
       "    </tr>\n",
       "  </tbody>\n",
       "</table>\n",
       "</div>"
      ],
      "text/plain": [
       "      division      district  total_sales\n",
       "0   CHITTAGONG     BANDARBAN   1990721.50\n",
       "1   CHITTAGONG  BRAHMANBARIA   2656468.50\n",
       "2   CHITTAGONG      CHANDPUR   2306553.50\n",
       "3   CHITTAGONG    CHITTAGONG  14585971.00\n",
       "4   CHITTAGONG       COMILLA   4573796.50\n",
       "5   CHITTAGONG   COX'S BAZAR   2376257.50\n",
       "6   CHITTAGONG          FENI   1695747.00\n",
       "7   CHITTAGONG  KHAGRACHHARI   2323443.00\n",
       "8   CHITTAGONG    LAKSHMIPUR   1459818.50\n",
       "9   CHITTAGONG      NOAKHALI   2642373.50\n",
       "10  CHITTAGONG     RANGAMATI   2916039.50"
      ]
     },
     "execution_count": 98,
     "metadata": {},
     "output_type": "execute_result"
    }
   ],
   "source": [
    "# SLICE for divsion\n",
    "select_stmt = \" SELECT sr.division, sr.district, SUM(fact.total_price)\" \\\n",
    "              \" From ecomdb_star_schema.fact_table fact \" \\\n",
    "              \" JOIN ecomdb_star_schema.store_dim sr on sr.store_key=fact.store_key \" \\\n",
    "              \" Where sr.division ='CHITTAGONG' \" \\\n",
    "              \" GROUP BY sr.division,sr.district\"\n",
    " \n",
    "SLICE_records = retrive_data_from_table(select_stmt)\n",
    "df = pd.DataFrame(list(SLICE_records), columns=['division','district', 'total_sales'])\n",
    "df"
   ]
  },
  {
   "cell_type": "code",
   "execution_count": 129,
   "id": "00332185",
   "metadata": {},
   "outputs": [
    {
     "data": {
      "image/png": "[encoded data removed]",
      "text/plain": [
       "<Figure size 1080x576 with 1 Axes>"
      ]
     },
     "metadata": {},
     "output_type": "display_data"
    }
   ],
   "source": [
    "labels=df['district']\n",
    "data = df['total_sales']\n",
    "textprops = {\"fontsize\":10}\n",
    "colors = ( \"orange\", \"cyan\", \"brown\", \"grey\", \"indigo\", \"beige\",'salmon','palegreen','skyblue','plum','pink')\n",
    "plt.title('District wise total sell of CHITTAGONG Division',loc='center',color='r')\n",
    "\n",
    "plt.pie(data, labels=labels, shadow = True, textprops = textprops, colors=colors, autopct='%.2f%%',explode=(0.1, 0.1,0.1, 0.1, 0.1, 0.1,0.1, 0.1, 0.1, 0.1, 0.1))\n",
    "# plt.figure(figsize=(20,12)) \n",
    "plt.rcParams[\"figure.figsize\"] = (12,7)\n",
    "plt.show()\n"
   ]
  },
  {
   "cell_type": "markdown",
   "id": "9b48f308",
   "metadata": {},
   "source": [
    "##### DICE_Q1"
   ]
  },
  {
   "cell_type": "code",
   "execution_count": 78,
   "id": "32953c0a",
   "metadata": {
    "scrolled": true
   },
   "outputs": [
    {
     "name": "stdout",
     "output_type": "stream",
     "text": [
      "successfully connected to database\n"
     ]
    },
    {
     "data": {
      "text/html": [
       "<div>\n",
       "<style scoped>\n",
       "    .dataframe tbody tr th:only-of-type {\n",
       "        vertical-align: middle;\n",
       "    }\n",
       "\n",
       "    .dataframe tbody tr th {\n",
       "        vertical-align: top;\n",
       "    }\n",
       "\n",
       "    .dataframe thead th {\n",
       "        text-align: right;\n",
       "    }\n",
       "</style>\n",
       "<table border=\"1\" class=\"dataframe\">\n",
       "  <thead>\n",
       "    <tr style=\"text-align: right;\">\n",
       "      <th></th>\n",
       "      <th>division</th>\n",
       "      <th>month</th>\n",
       "      <th>total_sales</th>\n",
       "    </tr>\n",
       "  </thead>\n",
       "  <tbody>\n",
       "    <tr>\n",
       "      <th>0</th>\n",
       "      <td>CHITTAGONG</td>\n",
       "      <td>1</td>\n",
       "      <td>3429666.50</td>\n",
       "    </tr>\n",
       "    <tr>\n",
       "      <th>1</th>\n",
       "      <td>CHITTAGONG</td>\n",
       "      <td>2</td>\n",
       "      <td>3010753.00</td>\n",
       "    </tr>\n",
       "    <tr>\n",
       "      <th>2</th>\n",
       "      <td>CHITTAGONG</td>\n",
       "      <td>3</td>\n",
       "      <td>3368062.00</td>\n",
       "    </tr>\n",
       "    <tr>\n",
       "      <th>3</th>\n",
       "      <td>CHITTAGONG</td>\n",
       "      <td>4</td>\n",
       "      <td>3168166.00</td>\n",
       "    </tr>\n",
       "    <tr>\n",
       "      <th>4</th>\n",
       "      <td>CHITTAGONG</td>\n",
       "      <td>5</td>\n",
       "      <td>3443851.00</td>\n",
       "    </tr>\n",
       "    <tr>\n",
       "      <th>5</th>\n",
       "      <td>CHITTAGONG</td>\n",
       "      <td>6</td>\n",
       "      <td>3179065.00</td>\n",
       "    </tr>\n",
       "    <tr>\n",
       "      <th>6</th>\n",
       "      <td>CHITTAGONG</td>\n",
       "      <td>7</td>\n",
       "      <td>3425908.50</td>\n",
       "    </tr>\n",
       "    <tr>\n",
       "      <th>7</th>\n",
       "      <td>CHITTAGONG</td>\n",
       "      <td>8</td>\n",
       "      <td>3335373.50</td>\n",
       "    </tr>\n",
       "    <tr>\n",
       "      <th>8</th>\n",
       "      <td>CHITTAGONG</td>\n",
       "      <td>9</td>\n",
       "      <td>3255130.50</td>\n",
       "    </tr>\n",
       "    <tr>\n",
       "      <th>9</th>\n",
       "      <td>CHITTAGONG</td>\n",
       "      <td>10</td>\n",
       "      <td>3300710.50</td>\n",
       "    </tr>\n",
       "    <tr>\n",
       "      <th>10</th>\n",
       "      <td>CHITTAGONG</td>\n",
       "      <td>11</td>\n",
       "      <td>3280227.50</td>\n",
       "    </tr>\n",
       "    <tr>\n",
       "      <th>11</th>\n",
       "      <td>CHITTAGONG</td>\n",
       "      <td>12</td>\n",
       "      <td>3330276.00</td>\n",
       "    </tr>\n",
       "  </tbody>\n",
       "</table>\n",
       "</div>"
      ],
      "text/plain": [
       "      division  month total_sales\n",
       "0   CHITTAGONG      1  3429666.50\n",
       "1   CHITTAGONG      2  3010753.00\n",
       "2   CHITTAGONG      3  3368062.00\n",
       "3   CHITTAGONG      4  3168166.00\n",
       "4   CHITTAGONG      5  3443851.00\n",
       "5   CHITTAGONG      6  3179065.00\n",
       "6   CHITTAGONG      7  3425908.50\n",
       "7   CHITTAGONG      8  3335373.50\n",
       "8   CHITTAGONG      9  3255130.50\n",
       "9   CHITTAGONG     10  3300710.50\n",
       "10  CHITTAGONG     11  3280227.50\n",
       "11  CHITTAGONG     12  3330276.00"
      ]
     },
     "execution_count": 78,
     "metadata": {},
     "output_type": "execute_result"
    }
   ],
   "source": [
    "# select_stmt1 = \" SELECT i.item_name,SUM(f.total_price)\" \\\n",
    "#               \" From ecomdb_star_schema.fact_table f \" \\\n",
    "#               \" JOIN ecomdb_star_schema.store_dim s on s.store_key=f.store_key \" \\\n",
    "#               \"JOIN ecomdb_star_schema.item_dim i on i.item_key=f.item_key\" \\\n",
    "#               \" Where i.item_name ='Cherry Coke 12oz' \" \\\n",
    "#               \" GROUP BY i.item_name \"\n",
    "\n",
    "select_stmt = \" SELECT sr.division, tim.month, SUM(fact.total_price)\" \\\n",
    "              \" From ecomdb_star_schema.fact_table fact \" \\\n",
    "              \" JOIN ecomdb_star_schema.store_dim sr on sr.store_key=fact.store_key \" \\\n",
    "              \" JOIN ecomdb_star_schema.time_dim tim on tim.time_key=fact.time_key \"\\\n",
    "              \" Where sr.division ='CHITTAGONG' \" \\\n",
    "              \" GROUP BY sr.division, tim.month\"\n",
    " \n",
    "SLICE_records = retrive_data_from_table(select_stmt)\n",
    "df_slice = pd.DataFrame(list(SLICE_records), columns=['division','month', 'total_sales'])\n",
    "df_slice"
   ]
  },
  {
   "cell_type": "code",
   "execution_count": 146,
   "id": "b85b3899",
   "metadata": {},
   "outputs": [
    {
     "name": "stdout",
     "output_type": "stream",
     "text": [
      "    month total_sales\n",
      "0       1  3429666.50\n",
      "1       2  3010753.00\n",
      "2       3  3368062.00\n",
      "3       4  3168166.00\n",
      "4       5  3443851.00\n",
      "5       6  3179065.00\n",
      "6       7  3425908.50\n",
      "7       8  3335373.50\n",
      "8       9  3255130.50\n",
      "9      10  3300710.50\n",
      "10     11  3280227.50\n",
      "11     12  3330276.00\n"
     ]
    },
    {
     "data": {
      "image/png": "[encoded data removed]",
      "text/plain": [
       "<Figure size 864x504 with 1 Axes>"
      ]
     },
     "metadata": {
      "needs_background": "light"
     },
     "output_type": "display_data"
    }
   ],
   "source": [
    "print(df_slice)\n",
    "total_sales= df_slice['total_sales']\n",
    "month =df_slice['month']\n",
    "\n",
    "def millions(x, pos):\n",
    "    \"\"\"The two arguments are the value and tick position.\"\"\"\n",
    "    return '{:1.2f}K'.format(x*1e-6)   \n",
    "\n",
    "fig, ax = plt.subplots()\n",
    "# Use automatic FuncFormatter creation\n",
    "ax.yaxis.set_major_formatter(millions)\n",
    "ax.bar(month, total_sales)\n",
    "plt.show()"
   ]
  },
  {
   "cell_type": "markdown",
   "id": "55f7ae36",
   "metadata": {},
   "source": [
    "### Q2: Find the customer/bank/transaction(cash/online) wise total_sale_price joining fact table and respective dimension table "
   ]
  },
  {
   "cell_type": "markdown",
   "id": "a174ad3f",
   "metadata": {},
   "source": [
    "##### ROLLUP-Q2"
   ]
  },
  {
   "cell_type": "code",
   "execution_count": 179,
   "id": "3b1ed335",
   "metadata": {
    "scrolled": true
   },
   "outputs": [
    {
     "name": "stdout",
     "output_type": "stream",
     "text": [
      "successfully connected to database\n"
     ]
    },
    {
     "data": {
      "text/html": [
       "<div>\n",
       "<style scoped>\n",
       "    .dataframe tbody tr th:only-of-type {\n",
       "        vertical-align: middle;\n",
       "    }\n",
       "\n",
       "    .dataframe tbody tr th {\n",
       "        vertical-align: top;\n",
       "    }\n",
       "\n",
       "    .dataframe thead th {\n",
       "        text-align: right;\n",
       "    }\n",
       "</style>\n",
       "<table border=\"1\" class=\"dataframe\">\n",
       "  <thead>\n",
       "    <tr style=\"text-align: right;\">\n",
       "      <th></th>\n",
       "      <th>customer_key</th>\n",
       "      <th>Customer_name</th>\n",
       "      <th>trans_type</th>\n",
       "      <th>bank_name</th>\n",
       "      <th>total_sales</th>\n",
       "    </tr>\n",
       "  </thead>\n",
       "  <tbody>\n",
       "    <tr>\n",
       "      <th>0</th>\n",
       "      <td>C000001</td>\n",
       "      <td>sumit</td>\n",
       "      <td>card</td>\n",
       "      <td>AB Bank Limited</td>\n",
       "      <td>1011.50</td>\n",
       "    </tr>\n",
       "    <tr>\n",
       "      <th>1</th>\n",
       "      <td>C000001</td>\n",
       "      <td>None</td>\n",
       "      <td>card</td>\n",
       "      <td>AB Bank Limited</td>\n",
       "      <td>1011.50</td>\n",
       "    </tr>\n",
       "    <tr>\n",
       "      <th>2</th>\n",
       "      <td>C000003</td>\n",
       "      <td>kailash kumar</td>\n",
       "      <td>card</td>\n",
       "      <td>AB Bank Limited</td>\n",
       "      <td>56.0</td>\n",
       "    </tr>\n",
       "    <tr>\n",
       "      <th>3</th>\n",
       "      <td>C000003</td>\n",
       "      <td>None</td>\n",
       "      <td>card</td>\n",
       "      <td>AB Bank Limited</td>\n",
       "      <td>56.0</td>\n",
       "    </tr>\n",
       "    <tr>\n",
       "      <th>4</th>\n",
       "      <td>C000004</td>\n",
       "      <td>bhagwati prasad</td>\n",
       "      <td>card</td>\n",
       "      <td>AB Bank Limited</td>\n",
       "      <td>1530.0</td>\n",
       "    </tr>\n",
       "    <tr>\n",
       "      <th>...</th>\n",
       "      <td>...</td>\n",
       "      <td>...</td>\n",
       "      <td>...</td>\n",
       "      <td>...</td>\n",
       "      <td>...</td>\n",
       "    </tr>\n",
       "    <tr>\n",
       "      <th>673232</th>\n",
       "      <td>C009191</td>\n",
       "      <td>roopa</td>\n",
       "      <td>mobile</td>\n",
       "      <td>Rocket</td>\n",
       "      <td>24.0</td>\n",
       "    </tr>\n",
       "    <tr>\n",
       "      <th>673233</th>\n",
       "      <td>C009191</td>\n",
       "      <td>None</td>\n",
       "      <td>mobile</td>\n",
       "      <td>Rocket</td>\n",
       "      <td>24.0</td>\n",
       "    </tr>\n",
       "    <tr>\n",
       "      <th>673234</th>\n",
       "      <td>None</td>\n",
       "      <td>None</td>\n",
       "      <td>mobile</td>\n",
       "      <td>Rocket</td>\n",
       "      <td>5441949.00</td>\n",
       "    </tr>\n",
       "    <tr>\n",
       "      <th>673235</th>\n",
       "      <td>None</td>\n",
       "      <td>None</td>\n",
       "      <td>mobile</td>\n",
       "      <td>None</td>\n",
       "      <td>16219763.00</td>\n",
       "    </tr>\n",
       "    <tr>\n",
       "      <th>673236</th>\n",
       "      <td>None</td>\n",
       "      <td>None</td>\n",
       "      <td>None</td>\n",
       "      <td>None</td>\n",
       "      <td>210802871.50</td>\n",
       "    </tr>\n",
       "  </tbody>\n",
       "</table>\n",
       "<p>673237 rows × 5 columns</p>\n",
       "</div>"
      ],
      "text/plain": [
       "       customer_key    Customer_name trans_type        bank_name   total_sales\n",
       "0           C000001            sumit       card  AB Bank Limited       1011.50\n",
       "1           C000001             None       card  AB Bank Limited       1011.50\n",
       "2           C000003    kailash kumar       card  AB Bank Limited          56.0\n",
       "3           C000003             None       card  AB Bank Limited          56.0\n",
       "4           C000004  bhagwati prasad       card  AB Bank Limited        1530.0\n",
       "...             ...              ...        ...              ...           ...\n",
       "673232      C009191            roopa     mobile           Rocket          24.0\n",
       "673233      C009191             None     mobile           Rocket          24.0\n",
       "673234         None             None     mobile           Rocket    5441949.00\n",
       "673235         None             None     mobile             None   16219763.00\n",
       "673236         None             None       None             None  210802871.50\n",
       "\n",
       "[673237 rows x 5 columns]"
      ]
     },
     "execution_count": 179,
     "metadata": {},
     "output_type": "execute_result"
    }
   ],
   "source": [
    "select_stmt = \" SELECT c.coustomer_key, c.name, trs.trans_type, trs.bank_name, SUM(fact.total_price) \"\\\n",
    "              \" From ecomdb_star_schema.fact_table fact \"\\\n",
    "              \" JOIN ecomdb_star_schema.trans_dim trs on trs.payment_key = fact.payment_key \"\\\n",
    "              \" JOIN ecomdb_star_schema.coustomer_dim c on c.coustomer_key = fact.coustomer_key \"\\\n",
    "              \" GROUP BY ROLLUP (trs.trans_type, trs.bank_name, c.coustomer_key,c.name) \"\n",
    " \n",
    "\n",
    "ROLLUP_records = retrive_data_from_table(select_stmt)\n",
    "df = pd.DataFrame(list(ROLLUP_records), columns=['customer_key', 'Customer_name', 'trans_type', 'bank_name', 'total_sales'])\n",
    "df"
   ]
  },
  {
   "cell_type": "code",
   "execution_count": 180,
   "id": "4a0a9e92",
   "metadata": {
    "scrolled": true
   },
   "outputs": [
    {
     "data": {
      "text/plain": [
       "array(['card', 'cash', 'mobile', None], dtype=object)"
      ]
     },
     "execution_count": 180,
     "metadata": {},
     "output_type": "execute_result"
    }
   ],
   "source": [
    "df['trans_type'].unique()"
   ]
  },
  {
   "cell_type": "code",
   "execution_count": 149,
   "id": "6dd6bb65",
   "metadata": {
    "scrolled": true
   },
   "outputs": [
    {
     "data": {
      "text/plain": [
       "array(['AB Bank Limited', 'Bangladesh Commerce Bank Limited',\n",
       "       'Bank Asia Limited', 'Bengal Commercial Bank Ltd',\n",
       "       'BRAC Bank Limited', 'Citizens Bank Limited', 'City Bank Limited',\n",
       "       'Community Bank Bangladesh Limited', 'Dhaka Bank Limited',\n",
       "       'Dutch-Bangla Bank Limited', 'Eastern Bank Limited',\n",
       "       'IFIC Bank Limited', 'Jamuna Bank Limited', 'Meghna Bank Limited',\n",
       "       'Mercantile Bank Limited', 'Midland Bank Limited',\n",
       "       'Modhumoti Bank Limited', 'Mutual Trust Bank Limited',\n",
       "       'National Bank Limited', 'National Credit & Commerce Bank Limited',\n",
       "       'NRB Bank Limited', 'NRB Commercial Bank Ltd',\n",
       "       'NRB Global Bank Ltd', 'One Bank Limited', 'Padma Bank Limited',\n",
       "       'Premier Bank Limited', 'Prime Bank Limited',\n",
       "       'Pubali Bank Limited', 'Shimanto Bank Ltd',\n",
       "       'South Bangla Agriculture and Commerce Bank Limited',\n",
       "       'Southeast Bank Limited', 'Standard Bank Limited',\n",
       "       'Trust Bank Limited', 'United Commercial Bank Ltd',\n",
       "       'Uttara Bank Limited', None, 'None', 'Bkash', 'Nagad', 'Rocket'],\n",
       "      dtype=object)"
      ]
     },
     "execution_count": 149,
     "metadata": {},
     "output_type": "execute_result"
    }
   ],
   "source": [
    "df['bank_name'].unique()"
   ]
  },
  {
   "cell_type": "code",
   "execution_count": null,
   "id": "67fe72af",
   "metadata": {},
   "outputs": [],
   "source": [
    "dfTT =df.groupby(['trans_type']).sum()\n",
    "# dfBN =df2.groupby(['bank_name']).sum()\n",
    "# dfTB =df2.groupby(['trans_type','bank_name']).sum()\n",
    " \n",
    "dfTT \n"
   ]
  },
  {
   "cell_type": "code",
   "execution_count": null,
   "id": "f20ad4c0",
   "metadata": {},
   "outputs": [],
   "source": [
    "# labels=df['trans_type']\n",
    "# data = df['total_sales']\n",
    "# textprops = {\"fontsize\":10}\n",
    "# colors = ( \"orange\", \"cyan\", \"brown\", \"grey\", \"indigo\", \"beige\",'salmon','palegreen','skyblue','plum','pink')\n",
    "# plt.title('District wise total sell of CHITTAGONG Division',loc='center',color='r')\n",
    "\n",
    "# plt.pie(data, labels=labels, shadow = True, textprops = textprops, colors=colors, autopct='%.2f%%',explode=(0.1, 0.1,0.1, 0.1, 0.1, 0.1,0.1, 0.1, 0.1, 0.1, 0.1))\n",
    "# # plt.figure(figsize=(20,12)) \n",
    "# plt.rcParams[\"figure.figsize\"] = (12,7)\n",
    "# plt.show()"
   ]
  },
  {
   "cell_type": "markdown",
   "id": "ab94166a",
   "metadata": {},
   "source": [
    "##### DRILL DOWN_Q2"
   ]
  },
  {
   "cell_type": "code",
   "execution_count": 155,
   "id": "cd62b107",
   "metadata": {},
   "outputs": [
    {
     "name": "stdout",
     "output_type": "stream",
     "text": [
      "successfully connected to database\n",
      "       division district                  upazila trans_type  \\\n",
      "0       BARISAL  BARISAL              MEHENDIGANJ       card   \n",
      "1       BARISAL     None  BARISAL SADAR (KOTWALI)       card   \n",
      "2       BARISAL  BARISAL                   MULADI       card   \n",
      "3       BARISAL     None  BARISAL SADAR (KOTWALI)       card   \n",
      "4       BARISAL  BARISAL                 WAZIRPUR       card   \n",
      "...         ...      ...                      ...        ...   \n",
      "191875     None     None                KANTHALIA       None   \n",
      "191876     None     None                  KAPASIA       card   \n",
      "191877     None     None                 PAKUNDIA     mobile   \n",
      "191878     None     None                  KAPASIA       card   \n",
      "191879     None     None                 PAKUNDIA     mobile   \n",
      "\n",
      "                               bank_name total_sales  \n",
      "0                                   None   522580.00  \n",
      "1                     Trust Bank Limited    10720.50  \n",
      "2                                   None   535092.00  \n",
      "3                  Standard Bank Limited    10725.00  \n",
      "4                                   None   535974.00  \n",
      "...                                  ...         ...  \n",
      "191875                              None   294363.50  \n",
      "191876                   AB Bank Limited     6633.00  \n",
      "191877                            Rocket     8193.50  \n",
      "191878  Bangladesh Commerce Bank Limited     8218.00  \n",
      "191879                              None    24263.50  \n",
      "\n",
      "[191880 rows x 6 columns]\n"
     ]
    }
   ],
   "source": [
    "## DRILL_DOWN == Make Specific or expand to all category\n",
    "\n",
    "## Here I tried to expand TIME_DIM table\n",
    "## DRILL_DOWN(division->> upazila)\n",
    "select_stmt1 = \" SELECT sr.division, sr.district, sr.upazila, trs.trans_type, trs.bank_name, SUM(fact.total_price) \" \\\n",
    "              \" From ecomdb_star_schema.fact_table fact \" \\\n",
    "              \" JOIN ecomdb_star_schema.store_dim sr on sr.store_key=fact.store_key \" \\\n",
    "              \" JOIN ecomdb_star_schema.trans_dim trs on trs.payment_key = fact.payment_key \"\\\n",
    "              \" GROUP BY CUBE(sr.division,sr.district,sr.upazila,trs.trans_type, trs.bank_name) \"\\\n",
    "              \" ORDER BY sr.division\"\n",
    "CUBE_records = retrive_data_from_table(select_stmt1)\n",
    "df1 = pd.DataFrame(list(CUBE_records), columns=['division', 'district','upazila', 'trans_type','bank_name','total_sales'])\n",
    "print(df1)"
   ]
  },
  {
   "cell_type": "code",
   "execution_count": 154,
   "id": "e8ef4f3f",
   "metadata": {
    "scrolled": false
   },
   "outputs": [
    {
     "name": "stdout",
     "output_type": "stream",
     "text": [
      "successfully connected to database\n",
      "         year  month quarter trans_type bank_name total_sales\n",
      "0      2014.0    1.0      Q1       card      None   889170.00\n",
      "1      2014.0    1.0    None       card      None   889170.00\n",
      "2      2014.0    2.0      Q1       card      None  2013367.50\n",
      "3      2014.0    2.0    None       card      None  2013367.50\n",
      "4      2014.0    3.0      Q1       card      None  2272527.00\n",
      "...       ...    ...     ...        ...       ...         ...\n",
      "19347  2019.0    1.0      Q1       None      None  2683734.00\n",
      "19348  2019.0    7.0      Q3       None      None  2583219.50\n",
      "19349  2019.0    2.0      Q1       None      None  2299017.00\n",
      "19350  2015.0    6.0      Q2       None      None  2433905.50\n",
      "19351  2018.0   11.0      Q4       None      None  2470402.50\n",
      "\n",
      "[19352 rows x 6 columns]\n"
     ]
    }
   ],
   "source": [
    "## Here I tried to expand TIME_DIM table\n",
    "## DRILL_DOWN(year->> quarter)\n",
    "select_stmt2 = \" SELECT tim.year,tim.month,tim.quarter, trs.trans_type, trs.bank_name, SUM(fact.total_price) \" \\\n",
    "              \" From ecomdb_star_schema.fact_table fact \" \\\n",
    "              \" JOIN ecomdb_star_schema.trans_dim trs on trs.payment_key = fact.payment_key \"\\\n",
    "              \" JOIN ecomdb_star_schema.time_dim tim on tim.time_key = fact.time_key \"\\\n",
    "              \" GROUP BY CUBE(tim.year,tim.month,tim.quarter, trs.trans_type, trs.bank_name) \"\n",
    "               \n",
    "CUBE_records2 = retrive_data_from_table(select_stmt2)\n",
    "df2 = pd.DataFrame(list(CUBE_records2), columns=['year', 'month', 'quarter','trans_type', 'bank_name', 'total_sales'])\n",
    "print(df2)"
   ]
  },
  {
   "cell_type": "code",
   "execution_count": 173,
   "id": "d797fff0",
   "metadata": {},
   "outputs": [
    {
     "data": {
      "text/plain": [
       "array([2014., 2015., 2016., 2017., 2018., 2019., 2020., 2021.,   nan])"
      ]
     },
     "execution_count": 173,
     "metadata": {},
     "output_type": "execute_result"
    }
   ],
   "source": [
    "df2['year'].unique()"
   ]
  },
  {
   "cell_type": "code",
   "execution_count": 178,
   "id": "11689152",
   "metadata": {},
   "outputs": [
    {
     "data": {
      "text/plain": [
       "array([None, 'AB Bank Limited', 'Bangladesh Commerce Bank Limited',\n",
       "       'Bank Asia Limited', 'Bengal Commercial Bank Ltd',\n",
       "       'BRAC Bank Limited', 'Citizens Bank Limited', 'City Bank Limited',\n",
       "       'Community Bank Bangladesh Limited', 'Dhaka Bank Limited',\n",
       "       'Dutch-Bangla Bank Limited', 'Eastern Bank Limited',\n",
       "       'IFIC Bank Limited', 'Jamuna Bank Limited', 'Meghna Bank Limited',\n",
       "       'Mercantile Bank Limited', 'Midland Bank Limited',\n",
       "       'Modhumoti Bank Limited', 'Mutual Trust Bank Limited',\n",
       "       'National Bank Limited', 'National Credit & Commerce Bank Limited',\n",
       "       'NRB Bank Limited', 'NRB Commercial Bank Ltd',\n",
       "       'NRB Global Bank Ltd', 'One Bank Limited', 'Padma Bank Limited',\n",
       "       'Premier Bank Limited', 'Prime Bank Limited',\n",
       "       'Pubali Bank Limited', 'Shimanto Bank Ltd',\n",
       "       'South Bangla Agriculture and Commerce Bank Limited',\n",
       "       'Southeast Bank Limited', 'Standard Bank Limited',\n",
       "       'Trust Bank Limited', 'United Commercial Bank Ltd',\n",
       "       'Uttara Bank Limited', 'None', 'Bkash', 'Nagad', 'Rocket'],\n",
       "      dtype=object)"
      ]
     },
     "execution_count": 178,
     "metadata": {},
     "output_type": "execute_result"
    }
   ],
   "source": [
    "df2['bank_name'].unique()"
   ]
  },
  {
   "cell_type": "code",
   "execution_count": 177,
   "id": "31f158a6",
   "metadata": {},
   "outputs": [
    {
     "data": {
      "text/html": [
       "<div>\n",
       "<style scoped>\n",
       "    .dataframe tbody tr th:only-of-type {\n",
       "        vertical-align: middle;\n",
       "    }\n",
       "\n",
       "    .dataframe tbody tr th {\n",
       "        vertical-align: top;\n",
       "    }\n",
       "\n",
       "    .dataframe thead th {\n",
       "        text-align: right;\n",
       "    }\n",
       "</style>\n",
       "<table border=\"1\" class=\"dataframe\">\n",
       "  <thead>\n",
       "    <tr style=\"text-align: right;\">\n",
       "      <th></th>\n",
       "      <th></th>\n",
       "      <th>month</th>\n",
       "    </tr>\n",
       "    <tr>\n",
       "      <th>year</th>\n",
       "      <th>bank_name</th>\n",
       "      <th></th>\n",
       "    </tr>\n",
       "  </thead>\n",
       "  <tbody>\n",
       "    <tr>\n",
       "      <th rowspan=\"39\" valign=\"top\">2015.0</th>\n",
       "      <th>AB Bank Limited</th>\n",
       "      <td>312.0</td>\n",
       "    </tr>\n",
       "    <tr>\n",
       "      <th>BRAC Bank Limited</th>\n",
       "      <td>312.0</td>\n",
       "    </tr>\n",
       "    <tr>\n",
       "      <th>Bangladesh Commerce Bank Limited</th>\n",
       "      <td>312.0</td>\n",
       "    </tr>\n",
       "    <tr>\n",
       "      <th>Bank Asia Limited</th>\n",
       "      <td>312.0</td>\n",
       "    </tr>\n",
       "    <tr>\n",
       "      <th>Bengal Commercial Bank Ltd</th>\n",
       "      <td>312.0</td>\n",
       "    </tr>\n",
       "    <tr>\n",
       "      <th>Bkash</th>\n",
       "      <td>312.0</td>\n",
       "    </tr>\n",
       "    <tr>\n",
       "      <th>Citizens Bank Limited</th>\n",
       "      <td>312.0</td>\n",
       "    </tr>\n",
       "    <tr>\n",
       "      <th>City Bank Limited</th>\n",
       "      <td>312.0</td>\n",
       "    </tr>\n",
       "    <tr>\n",
       "      <th>Community Bank Bangladesh Limited</th>\n",
       "      <td>312.0</td>\n",
       "    </tr>\n",
       "    <tr>\n",
       "      <th>Dhaka Bank Limited</th>\n",
       "      <td>312.0</td>\n",
       "    </tr>\n",
       "    <tr>\n",
       "      <th>Dutch-Bangla Bank Limited</th>\n",
       "      <td>312.0</td>\n",
       "    </tr>\n",
       "    <tr>\n",
       "      <th>Eastern Bank Limited</th>\n",
       "      <td>312.0</td>\n",
       "    </tr>\n",
       "    <tr>\n",
       "      <th>IFIC Bank Limited</th>\n",
       "      <td>312.0</td>\n",
       "    </tr>\n",
       "    <tr>\n",
       "      <th>Jamuna Bank Limited</th>\n",
       "      <td>312.0</td>\n",
       "    </tr>\n",
       "    <tr>\n",
       "      <th>Meghna Bank Limited</th>\n",
       "      <td>312.0</td>\n",
       "    </tr>\n",
       "    <tr>\n",
       "      <th>Mercantile Bank Limited</th>\n",
       "      <td>312.0</td>\n",
       "    </tr>\n",
       "    <tr>\n",
       "      <th>Midland Bank Limited</th>\n",
       "      <td>312.0</td>\n",
       "    </tr>\n",
       "    <tr>\n",
       "      <th>Modhumoti Bank Limited</th>\n",
       "      <td>312.0</td>\n",
       "    </tr>\n",
       "    <tr>\n",
       "      <th>Mutual Trust Bank Limited</th>\n",
       "      <td>312.0</td>\n",
       "    </tr>\n",
       "    <tr>\n",
       "      <th>NRB Bank Limited</th>\n",
       "      <td>312.0</td>\n",
       "    </tr>\n",
       "    <tr>\n",
       "      <th>NRB Commercial Bank Ltd</th>\n",
       "      <td>312.0</td>\n",
       "    </tr>\n",
       "    <tr>\n",
       "      <th>NRB Global Bank Ltd</th>\n",
       "      <td>312.0</td>\n",
       "    </tr>\n",
       "    <tr>\n",
       "      <th>Nagad</th>\n",
       "      <td>312.0</td>\n",
       "    </tr>\n",
       "    <tr>\n",
       "      <th>National Bank Limited</th>\n",
       "      <td>312.0</td>\n",
       "    </tr>\n",
       "    <tr>\n",
       "      <th>National Credit &amp; Commerce Bank Limited</th>\n",
       "      <td>312.0</td>\n",
       "    </tr>\n",
       "    <tr>\n",
       "      <th>None</th>\n",
       "      <td>312.0</td>\n",
       "    </tr>\n",
       "    <tr>\n",
       "      <th>One Bank Limited</th>\n",
       "      <td>312.0</td>\n",
       "    </tr>\n",
       "    <tr>\n",
       "      <th>Padma Bank Limited</th>\n",
       "      <td>312.0</td>\n",
       "    </tr>\n",
       "    <tr>\n",
       "      <th>Premier Bank Limited</th>\n",
       "      <td>312.0</td>\n",
       "    </tr>\n",
       "    <tr>\n",
       "      <th>Prime Bank Limited</th>\n",
       "      <td>312.0</td>\n",
       "    </tr>\n",
       "    <tr>\n",
       "      <th>Pubali Bank Limited</th>\n",
       "      <td>312.0</td>\n",
       "    </tr>\n",
       "    <tr>\n",
       "      <th>Rocket</th>\n",
       "      <td>312.0</td>\n",
       "    </tr>\n",
       "    <tr>\n",
       "      <th>Shimanto Bank Ltd</th>\n",
       "      <td>312.0</td>\n",
       "    </tr>\n",
       "    <tr>\n",
       "      <th>South Bangla Agriculture and Commerce Bank Limited</th>\n",
       "      <td>312.0</td>\n",
       "    </tr>\n",
       "    <tr>\n",
       "      <th>Southeast Bank Limited</th>\n",
       "      <td>312.0</td>\n",
       "    </tr>\n",
       "    <tr>\n",
       "      <th>Standard Bank Limited</th>\n",
       "      <td>312.0</td>\n",
       "    </tr>\n",
       "    <tr>\n",
       "      <th>Trust Bank Limited</th>\n",
       "      <td>312.0</td>\n",
       "    </tr>\n",
       "    <tr>\n",
       "      <th>United Commercial Bank Ltd</th>\n",
       "      <td>312.0</td>\n",
       "    </tr>\n",
       "    <tr>\n",
       "      <th>Uttara Bank Limited</th>\n",
       "      <td>312.0</td>\n",
       "    </tr>\n",
       "  </tbody>\n",
       "</table>\n",
       "</div>"
      ],
      "text/plain": [
       "                                                           month\n",
       "year   bank_name                                                \n",
       "2015.0 AB Bank Limited                                     312.0\n",
       "       BRAC Bank Limited                                   312.0\n",
       "       Bangladesh Commerce Bank Limited                    312.0\n",
       "       Bank Asia Limited                                   312.0\n",
       "       Bengal Commercial Bank Ltd                          312.0\n",
       "       Bkash                                               312.0\n",
       "       Citizens Bank Limited                               312.0\n",
       "       City Bank Limited                                   312.0\n",
       "       Community Bank Bangladesh Limited                   312.0\n",
       "       Dhaka Bank Limited                                  312.0\n",
       "       Dutch-Bangla Bank Limited                           312.0\n",
       "       Eastern Bank Limited                                312.0\n",
       "       IFIC Bank Limited                                   312.0\n",
       "       Jamuna Bank Limited                                 312.0\n",
       "       Meghna Bank Limited                                 312.0\n",
       "       Mercantile Bank Limited                             312.0\n",
       "       Midland Bank Limited                                312.0\n",
       "       Modhumoti Bank Limited                              312.0\n",
       "       Mutual Trust Bank Limited                           312.0\n",
       "       NRB Bank Limited                                    312.0\n",
       "       NRB Commercial Bank Ltd                             312.0\n",
       "       NRB Global Bank Ltd                                 312.0\n",
       "       Nagad                                               312.0\n",
       "       National Bank Limited                               312.0\n",
       "       National Credit & Commerce Bank Limited             312.0\n",
       "       None                                                312.0\n",
       "       One Bank Limited                                    312.0\n",
       "       Padma Bank Limited                                  312.0\n",
       "       Premier Bank Limited                                312.0\n",
       "       Prime Bank Limited                                  312.0\n",
       "       Pubali Bank Limited                                 312.0\n",
       "       Rocket                                              312.0\n",
       "       Shimanto Bank Ltd                                   312.0\n",
       "       South Bangla Agriculture and Commerce Bank Limited  312.0\n",
       "       Southeast Bank Limited                              312.0\n",
       "       Standard Bank Limited                               312.0\n",
       "       Trust Bank Limited                                  312.0\n",
       "       United Commercial Bank Ltd                          312.0\n",
       "       Uttara Bank Limited                                 312.0"
      ]
     },
     "execution_count": 177,
     "metadata": {},
     "output_type": "execute_result"
    }
   ],
   "source": [
    "# dfTT =df2.groupby(['trans_type ']).sum()\n",
    "# dfBN =df2.groupby(['bank_name']).sum()\n",
    "# dfTB =df2.groupby(['trans_type','bank_name']).sum()\n",
    "\n",
    "dfYB =df2.groupby(['year','bank_name']).sum()\n",
    "dfYB1=dfYB.query(\"year == 2015.0\")\n",
    "dfYB1 \n"
   ]
  },
  {
   "cell_type": "markdown",
   "id": "7aa0b72d",
   "metadata": {},
   "source": [
    "##### CUBE-Q2"
   ]
  },
  {
   "cell_type": "code",
   "execution_count": 12,
   "id": "c478afbd",
   "metadata": {
    "scrolled": false
   },
   "outputs": [
    {
     "name": "stdout",
     "output_type": "stream",
     "text": [
      "successfully connected to database\n"
     ]
    },
    {
     "data": {
      "text/html": [
       "<div>\n",
       "<style scoped>\n",
       "    .dataframe tbody tr th:only-of-type {\n",
       "        vertical-align: middle;\n",
       "    }\n",
       "\n",
       "    .dataframe tbody tr th {\n",
       "        vertical-align: top;\n",
       "    }\n",
       "\n",
       "    .dataframe thead th {\n",
       "        text-align: right;\n",
       "    }\n",
       "</style>\n",
       "<table border=\"1\" class=\"dataframe\">\n",
       "  <thead>\n",
       "    <tr style=\"text-align: right;\">\n",
       "      <th></th>\n",
       "      <th>coustomer_key</th>\n",
       "      <th>trans_type</th>\n",
       "      <th>bank_name</th>\n",
       "      <th>total_sales</th>\n",
       "    </tr>\n",
       "  </thead>\n",
       "  <tbody>\n",
       "    <tr>\n",
       "      <th>0</th>\n",
       "      <td>C000001</td>\n",
       "      <td>None</td>\n",
       "      <td>None</td>\n",
       "      <td>516.0</td>\n",
       "    </tr>\n",
       "    <tr>\n",
       "      <th>1</th>\n",
       "      <td>C000001</td>\n",
       "      <td>None</td>\n",
       "      <td>NRB Bank Limited</td>\n",
       "      <td>325.00</td>\n",
       "    </tr>\n",
       "    <tr>\n",
       "      <th>2</th>\n",
       "      <td>C000001</td>\n",
       "      <td>None</td>\n",
       "      <td>NRB Global Bank Ltd</td>\n",
       "      <td>192.0</td>\n",
       "    </tr>\n",
       "    <tr>\n",
       "      <th>3</th>\n",
       "      <td>C000001</td>\n",
       "      <td>None</td>\n",
       "      <td>NRB Commercial Bank Ltd</td>\n",
       "      <td>592.0</td>\n",
       "    </tr>\n",
       "    <tr>\n",
       "      <th>4</th>\n",
       "      <td>C000001</td>\n",
       "      <td>None</td>\n",
       "      <td>Padma Bank Limited</td>\n",
       "      <td>244.0</td>\n",
       "    </tr>\n",
       "    <tr>\n",
       "      <th>...</th>\n",
       "      <td>...</td>\n",
       "      <td>...</td>\n",
       "      <td>...</td>\n",
       "      <td>...</td>\n",
       "    </tr>\n",
       "    <tr>\n",
       "      <th>709478</th>\n",
       "      <td>None</td>\n",
       "      <td>None</td>\n",
       "      <td>Southeast Bank Limited</td>\n",
       "      <td>5382551.50</td>\n",
       "    </tr>\n",
       "    <tr>\n",
       "      <th>709479</th>\n",
       "      <td>None</td>\n",
       "      <td>None</td>\n",
       "      <td>Trust Bank Limited</td>\n",
       "      <td>5441614.00</td>\n",
       "    </tr>\n",
       "    <tr>\n",
       "      <th>709480</th>\n",
       "      <td>None</td>\n",
       "      <td>None</td>\n",
       "      <td>United Commercial Bank Ltd</td>\n",
       "      <td>5393709.50</td>\n",
       "    </tr>\n",
       "    <tr>\n",
       "      <th>709481</th>\n",
       "      <td>None</td>\n",
       "      <td>None</td>\n",
       "      <td>South Bangla Agriculture and Commerce Bank Lim...</td>\n",
       "      <td>5456230.50</td>\n",
       "    </tr>\n",
       "    <tr>\n",
       "      <th>709482</th>\n",
       "      <td>None</td>\n",
       "      <td>None</td>\n",
       "      <td>Standard Bank Limited</td>\n",
       "      <td>5455322.00</td>\n",
       "    </tr>\n",
       "  </tbody>\n",
       "</table>\n",
       "<p>709483 rows × 4 columns</p>\n",
       "</div>"
      ],
      "text/plain": [
       "       coustomer_key trans_type  \\\n",
       "0            C000001       None   \n",
       "1            C000001       None   \n",
       "2            C000001       None   \n",
       "3            C000001       None   \n",
       "4            C000001       None   \n",
       "...              ...        ...   \n",
       "709478          None       None   \n",
       "709479          None       None   \n",
       "709480          None       None   \n",
       "709481          None       None   \n",
       "709482          None       None   \n",
       "\n",
       "                                                bank_name total_sales  \n",
       "0                                                    None       516.0  \n",
       "1                                        NRB Bank Limited      325.00  \n",
       "2                                     NRB Global Bank Ltd       192.0  \n",
       "3                                 NRB Commercial Bank Ltd       592.0  \n",
       "4                                      Padma Bank Limited       244.0  \n",
       "...                                                   ...         ...  \n",
       "709478                             Southeast Bank Limited  5382551.50  \n",
       "709479                                 Trust Bank Limited  5441614.00  \n",
       "709480                         United Commercial Bank Ltd  5393709.50  \n",
       "709481  South Bangla Agriculture and Commerce Bank Lim...  5456230.50  \n",
       "709482                              Standard Bank Limited  5455322.00  \n",
       "\n",
       "[709483 rows x 4 columns]"
      ]
     },
     "execution_count": 12,
     "metadata": {},
     "output_type": "execute_result"
    }
   ],
   "source": [
    "select_stmt = \" SELECT cs.coustomer_key, trs.trans_type, trs.bank_name, SUM(fact.total_price) \"\\\n",
    "              \" From ecomdb_star_schema.fact_table fact \"\\\n",
    "              \" JOIN ecomdb_star_schema.coustomer_dim cs on cs.coustomer_key = fact.coustomer_key \"\\\n",
    "              \" JOIN ecomdb_star_schema.trans_dim trs on trs.payment_key = fact.payment_key \"\\\n",
    "              \" GROUP BY CUBE(cs.coustomer_key, trs.trans_type, trs.bank_name) \"\\\n",
    "              \" ORDER BY cs.coustomer_key \"\n",
    "\n",
    "CUBE_records = retrive_data_from_table(select_stmt)\n",
    "df = pd.DataFrame(list(CUBE_records), columns=['coustomer_key', 'trans_type', 'bank_name', 'total_sales'])\n",
    "df"
   ]
  },
  {
   "cell_type": "code",
   "execution_count": 39,
   "id": "c298bf02",
   "metadata": {},
   "outputs": [
    {
     "data": {
      "text/plain": [
       "coustomer_key        82\n",
       "trans_type       345828\n",
       "bank_name         36211\n",
       "total_sales           0\n",
       "dtype: int64"
      ]
     },
     "execution_count": 39,
     "metadata": {},
     "output_type": "execute_result"
    }
   ],
   "source": [
    "df.isna().sum()"
   ]
  },
  {
   "cell_type": "code",
   "execution_count": 15,
   "id": "355e6f5d",
   "metadata": {
    "scrolled": false
   },
   "outputs": [
    {
     "data": {
      "text/html": [
       "<div>\n",
       "<style scoped>\n",
       "    .dataframe tbody tr th:only-of-type {\n",
       "        vertical-align: middle;\n",
       "    }\n",
       "\n",
       "    .dataframe tbody tr th {\n",
       "        vertical-align: top;\n",
       "    }\n",
       "\n",
       "    .dataframe thead th {\n",
       "        text-align: right;\n",
       "    }\n",
       "</style>\n",
       "<table border=\"1\" class=\"dataframe\">\n",
       "  <thead>\n",
       "    <tr style=\"text-align: right;\">\n",
       "      <th></th>\n",
       "      <th>total_sales</th>\n",
       "    </tr>\n",
       "    <tr>\n",
       "      <th>bank_name</th>\n",
       "      <th></th>\n",
       "    </tr>\n",
       "  </thead>\n",
       "  <tbody>\n",
       "    <tr>\n",
       "      <th>AB Bank Limited</th>\n",
       "      <td>21828124.00</td>\n",
       "    </tr>\n",
       "    <tr>\n",
       "      <th>BRAC Bank Limited</th>\n",
       "      <td>21646366.00</td>\n",
       "    </tr>\n",
       "    <tr>\n",
       "      <th>Bangladesh Commerce Bank Limited</th>\n",
       "      <td>21847994.00</td>\n",
       "    </tr>\n",
       "    <tr>\n",
       "      <th>Bank Asia Limited</th>\n",
       "      <td>21497142.00</td>\n",
       "    </tr>\n",
       "    <tr>\n",
       "      <th>Bengal Commercial Bank Ltd</th>\n",
       "      <td>21636434.00</td>\n",
       "    </tr>\n",
       "    <tr>\n",
       "      <th>Bkash</th>\n",
       "      <td>21514820.00</td>\n",
       "    </tr>\n",
       "    <tr>\n",
       "      <th>Citizens Bank Limited</th>\n",
       "      <td>21785722.00</td>\n",
       "    </tr>\n",
       "    <tr>\n",
       "      <th>City Bank Limited</th>\n",
       "      <td>21711620.00</td>\n",
       "    </tr>\n",
       "    <tr>\n",
       "      <th>Community Bank Bangladesh Limited</th>\n",
       "      <td>21486012.00</td>\n",
       "    </tr>\n",
       "    <tr>\n",
       "      <th>Dhaka Bank Limited</th>\n",
       "      <td>21826928.00</td>\n",
       "    </tr>\n",
       "    <tr>\n",
       "      <th>Dutch-Bangla Bank Limited</th>\n",
       "      <td>21539482.00</td>\n",
       "    </tr>\n",
       "    <tr>\n",
       "      <th>Eastern Bank Limited</th>\n",
       "      <td>21497458.00</td>\n",
       "    </tr>\n",
       "    <tr>\n",
       "      <th>IFIC Bank Limited</th>\n",
       "      <td>21598078.00</td>\n",
       "    </tr>\n",
       "    <tr>\n",
       "      <th>Jamuna Bank Limited</th>\n",
       "      <td>21519092.00</td>\n",
       "    </tr>\n",
       "    <tr>\n",
       "      <th>Meghna Bank Limited</th>\n",
       "      <td>21604228.00</td>\n",
       "    </tr>\n",
       "    <tr>\n",
       "      <th>Mercantile Bank Limited</th>\n",
       "      <td>21412628.00</td>\n",
       "    </tr>\n",
       "    <tr>\n",
       "      <th>Midland Bank Limited</th>\n",
       "      <td>21507442.00</td>\n",
       "    </tr>\n",
       "    <tr>\n",
       "      <th>Modhumoti Bank Limited</th>\n",
       "      <td>21722232.00</td>\n",
       "    </tr>\n",
       "    <tr>\n",
       "      <th>Mutual Trust Bank Limited</th>\n",
       "      <td>21360244.00</td>\n",
       "    </tr>\n",
       "    <tr>\n",
       "      <th>NRB Bank Limited</th>\n",
       "      <td>21692762.00</td>\n",
       "    </tr>\n",
       "    <tr>\n",
       "      <th>NRB Commercial Bank Ltd</th>\n",
       "      <td>21536130.00</td>\n",
       "    </tr>\n",
       "    <tr>\n",
       "      <th>NRB Global Bank Ltd</th>\n",
       "      <td>21600704.00</td>\n",
       "    </tr>\n",
       "    <tr>\n",
       "      <th>Nagad</th>\n",
       "      <td>21596436.00</td>\n",
       "    </tr>\n",
       "    <tr>\n",
       "      <th>National Bank Limited</th>\n",
       "      <td>21578354.00</td>\n",
       "    </tr>\n",
       "    <tr>\n",
       "      <th>National Credit &amp; Commerce Bank Limited</th>\n",
       "      <td>21786904.00</td>\n",
       "    </tr>\n",
       "    <tr>\n",
       "      <th>None</th>\n",
       "      <td>21668126.00</td>\n",
       "    </tr>\n",
       "    <tr>\n",
       "      <th>One Bank Limited</th>\n",
       "      <td>21536346.00</td>\n",
       "    </tr>\n",
       "    <tr>\n",
       "      <th>Padma Bank Limited</th>\n",
       "      <td>21664674.00</td>\n",
       "    </tr>\n",
       "    <tr>\n",
       "      <th>Premier Bank Limited</th>\n",
       "      <td>21526624.00</td>\n",
       "    </tr>\n",
       "    <tr>\n",
       "      <th>Prime Bank Limited</th>\n",
       "      <td>21591172.00</td>\n",
       "    </tr>\n",
       "    <tr>\n",
       "      <th>Pubali Bank Limited</th>\n",
       "      <td>21462300.00</td>\n",
       "    </tr>\n",
       "    <tr>\n",
       "      <th>Rocket</th>\n",
       "      <td>21767796.00</td>\n",
       "    </tr>\n",
       "    <tr>\n",
       "      <th>Shimanto Bank Ltd</th>\n",
       "      <td>21486442.00</td>\n",
       "    </tr>\n",
       "    <tr>\n",
       "      <th>South Bangla Agriculture and Commerce Bank Limited</th>\n",
       "      <td>21824922.00</td>\n",
       "    </tr>\n",
       "    <tr>\n",
       "      <th>Southeast Bank Limited</th>\n",
       "      <td>21530206.00</td>\n",
       "    </tr>\n",
       "    <tr>\n",
       "      <th>Standard Bank Limited</th>\n",
       "      <td>21821288.00</td>\n",
       "    </tr>\n",
       "    <tr>\n",
       "      <th>Trust Bank Limited</th>\n",
       "      <td>21766456.00</td>\n",
       "    </tr>\n",
       "    <tr>\n",
       "      <th>United Commercial Bank Ltd</th>\n",
       "      <td>21574838.00</td>\n",
       "    </tr>\n",
       "    <tr>\n",
       "      <th>Uttara Bank Limited</th>\n",
       "      <td>21656960.00</td>\n",
       "    </tr>\n",
       "  </tbody>\n",
       "</table>\n",
       "</div>"
      ],
      "text/plain": [
       "                                                    total_sales\n",
       "bank_name                                                      \n",
       "AB Bank Limited                                     21828124.00\n",
       "BRAC Bank Limited                                   21646366.00\n",
       "Bangladesh Commerce Bank Limited                    21847994.00\n",
       "Bank Asia Limited                                   21497142.00\n",
       "Bengal Commercial Bank Ltd                          21636434.00\n",
       "Bkash                                               21514820.00\n",
       "Citizens Bank Limited                               21785722.00\n",
       "City Bank Limited                                   21711620.00\n",
       "Community Bank Bangladesh Limited                   21486012.00\n",
       "Dhaka Bank Limited                                  21826928.00\n",
       "Dutch-Bangla Bank Limited                           21539482.00\n",
       "Eastern Bank Limited                                21497458.00\n",
       "IFIC Bank Limited                                   21598078.00\n",
       "Jamuna Bank Limited                                 21519092.00\n",
       "Meghna Bank Limited                                 21604228.00\n",
       "Mercantile Bank Limited                             21412628.00\n",
       "Midland Bank Limited                                21507442.00\n",
       "Modhumoti Bank Limited                              21722232.00\n",
       "Mutual Trust Bank Limited                           21360244.00\n",
       "NRB Bank Limited                                    21692762.00\n",
       "NRB Commercial Bank Ltd                             21536130.00\n",
       "NRB Global Bank Ltd                                 21600704.00\n",
       "Nagad                                               21596436.00\n",
       "National Bank Limited                               21578354.00\n",
       "National Credit & Commerce Bank Limited             21786904.00\n",
       "None                                                21668126.00\n",
       "One Bank Limited                                    21536346.00\n",
       "Padma Bank Limited                                  21664674.00\n",
       "Premier Bank Limited                                21526624.00\n",
       "Prime Bank Limited                                  21591172.00\n",
       "Pubali Bank Limited                                 21462300.00\n",
       "Rocket                                              21767796.00\n",
       "Shimanto Bank Ltd                                   21486442.00\n",
       "South Bangla Agriculture and Commerce Bank Limited  21824922.00\n",
       "Southeast Bank Limited                              21530206.00\n",
       "Standard Bank Limited                               21821288.00\n",
       "Trust Bank Limited                                  21766456.00\n",
       "United Commercial Bank Ltd                          21574838.00\n",
       "Uttara Bank Limited                                 21656960.00"
      ]
     },
     "execution_count": 15,
     "metadata": {},
     "output_type": "execute_result"
    }
   ],
   "source": [
    "# dfTB =df.groupby(['trans_type','bank_name']).sum()\n",
    "# dfTT =df.groupby(['trans_type ']).sum()\n",
    "\n",
    "dfBN =df.groupby(['bank_name']).sum()\n",
    "# sum_df = df.groupby(['bank_name']).agg({'total_sales': 'sum'})\n",
    "dfBN"
   ]
  },
  {
   "cell_type": "code",
   "execution_count": 22,
   "id": "8a45a0da",
   "metadata": {
    "scrolled": true
   },
   "outputs": [
    {
     "data": {
      "text/html": [
       "<div>\n",
       "<style scoped>\n",
       "    .dataframe tbody tr th:only-of-type {\n",
       "        vertical-align: middle;\n",
       "    }\n",
       "\n",
       "    .dataframe tbody tr th {\n",
       "        vertical-align: top;\n",
       "    }\n",
       "\n",
       "    .dataframe thead th {\n",
       "        text-align: right;\n",
       "    }\n",
       "</style>\n",
       "<table border=\"1\" class=\"dataframe\">\n",
       "  <thead>\n",
       "    <tr style=\"text-align: right;\">\n",
       "      <th></th>\n",
       "      <th>sum</th>\n",
       "      <th>count</th>\n",
       "    </tr>\n",
       "    <tr>\n",
       "      <th>bank_name</th>\n",
       "      <th></th>\n",
       "      <th></th>\n",
       "    </tr>\n",
       "  </thead>\n",
       "  <tbody>\n",
       "    <tr>\n",
       "      <th>AB Bank Limited</th>\n",
       "      <td>21828124.00</td>\n",
       "      <td>17326</td>\n",
       "    </tr>\n",
       "    <tr>\n",
       "      <th>BRAC Bank Limited</th>\n",
       "      <td>21646366.00</td>\n",
       "      <td>17200</td>\n",
       "    </tr>\n",
       "    <tr>\n",
       "      <th>Bangladesh Commerce Bank Limited</th>\n",
       "      <td>21847994.00</td>\n",
       "      <td>17302</td>\n",
       "    </tr>\n",
       "    <tr>\n",
       "      <th>Bank Asia Limited</th>\n",
       "      <td>21497142.00</td>\n",
       "      <td>17302</td>\n",
       "    </tr>\n",
       "    <tr>\n",
       "      <th>Bengal Commercial Bank Ltd</th>\n",
       "      <td>21636434.00</td>\n",
       "      <td>17300</td>\n",
       "    </tr>\n",
       "    <tr>\n",
       "      <th>Bkash</th>\n",
       "      <td>21514820.00</td>\n",
       "      <td>17346</td>\n",
       "    </tr>\n",
       "    <tr>\n",
       "      <th>Citizens Bank Limited</th>\n",
       "      <td>21785722.00</td>\n",
       "      <td>17232</td>\n",
       "    </tr>\n",
       "    <tr>\n",
       "      <th>City Bank Limited</th>\n",
       "      <td>21711620.00</td>\n",
       "      <td>17250</td>\n",
       "    </tr>\n",
       "    <tr>\n",
       "      <th>Community Bank Bangladesh Limited</th>\n",
       "      <td>21486012.00</td>\n",
       "      <td>17218</td>\n",
       "    </tr>\n",
       "    <tr>\n",
       "      <th>Dhaka Bank Limited</th>\n",
       "      <td>21826928.00</td>\n",
       "      <td>17264</td>\n",
       "    </tr>\n",
       "    <tr>\n",
       "      <th>Dutch-Bangla Bank Limited</th>\n",
       "      <td>21539482.00</td>\n",
       "      <td>17210</td>\n",
       "    </tr>\n",
       "    <tr>\n",
       "      <th>Eastern Bank Limited</th>\n",
       "      <td>21497458.00</td>\n",
       "      <td>17332</td>\n",
       "    </tr>\n",
       "    <tr>\n",
       "      <th>IFIC Bank Limited</th>\n",
       "      <td>21598078.00</td>\n",
       "      <td>17284</td>\n",
       "    </tr>\n",
       "    <tr>\n",
       "      <th>Jamuna Bank Limited</th>\n",
       "      <td>21519092.00</td>\n",
       "      <td>17262</td>\n",
       "    </tr>\n",
       "    <tr>\n",
       "      <th>Meghna Bank Limited</th>\n",
       "      <td>21604228.00</td>\n",
       "      <td>17226</td>\n",
       "    </tr>\n",
       "    <tr>\n",
       "      <th>Mercantile Bank Limited</th>\n",
       "      <td>21412628.00</td>\n",
       "      <td>17232</td>\n",
       "    </tr>\n",
       "    <tr>\n",
       "      <th>Midland Bank Limited</th>\n",
       "      <td>21507442.00</td>\n",
       "      <td>17246</td>\n",
       "    </tr>\n",
       "    <tr>\n",
       "      <th>Modhumoti Bank Limited</th>\n",
       "      <td>21722232.00</td>\n",
       "      <td>17212</td>\n",
       "    </tr>\n",
       "    <tr>\n",
       "      <th>Mutual Trust Bank Limited</th>\n",
       "      <td>21360244.00</td>\n",
       "      <td>17194</td>\n",
       "    </tr>\n",
       "    <tr>\n",
       "      <th>NRB Bank Limited</th>\n",
       "      <td>21692762.00</td>\n",
       "      <td>17302</td>\n",
       "    </tr>\n",
       "    <tr>\n",
       "      <th>NRB Commercial Bank Ltd</th>\n",
       "      <td>21536130.00</td>\n",
       "      <td>17206</td>\n",
       "    </tr>\n",
       "    <tr>\n",
       "      <th>NRB Global Bank Ltd</th>\n",
       "      <td>21600704.00</td>\n",
       "      <td>17274</td>\n",
       "    </tr>\n",
       "    <tr>\n",
       "      <th>Nagad</th>\n",
       "      <td>21596436.00</td>\n",
       "      <td>17216</td>\n",
       "    </tr>\n",
       "    <tr>\n",
       "      <th>National Bank Limited</th>\n",
       "      <td>21578354.00</td>\n",
       "      <td>17220</td>\n",
       "    </tr>\n",
       "    <tr>\n",
       "      <th>National Credit &amp; Commerce Bank Limited</th>\n",
       "      <td>21786904.00</td>\n",
       "      <td>17354</td>\n",
       "    </tr>\n",
       "    <tr>\n",
       "      <th>None</th>\n",
       "      <td>21668126.00</td>\n",
       "      <td>17276</td>\n",
       "    </tr>\n",
       "    <tr>\n",
       "      <th>One Bank Limited</th>\n",
       "      <td>21536346.00</td>\n",
       "      <td>17330</td>\n",
       "    </tr>\n",
       "    <tr>\n",
       "      <th>Padma Bank Limited</th>\n",
       "      <td>21664674.00</td>\n",
       "      <td>17230</td>\n",
       "    </tr>\n",
       "    <tr>\n",
       "      <th>Premier Bank Limited</th>\n",
       "      <td>21526624.00</td>\n",
       "      <td>17266</td>\n",
       "    </tr>\n",
       "    <tr>\n",
       "      <th>Prime Bank Limited</th>\n",
       "      <td>21591172.00</td>\n",
       "      <td>17216</td>\n",
       "    </tr>\n",
       "    <tr>\n",
       "      <th>Pubali Bank Limited</th>\n",
       "      <td>21462300.00</td>\n",
       "      <td>17264</td>\n",
       "    </tr>\n",
       "    <tr>\n",
       "      <th>Rocket</th>\n",
       "      <td>21767796.00</td>\n",
       "      <td>17248</td>\n",
       "    </tr>\n",
       "    <tr>\n",
       "      <th>Shimanto Bank Ltd</th>\n",
       "      <td>21486442.00</td>\n",
       "      <td>17290</td>\n",
       "    </tr>\n",
       "    <tr>\n",
       "      <th>South Bangla Agriculture and Commerce Bank Limited</th>\n",
       "      <td>21824922.00</td>\n",
       "      <td>17286</td>\n",
       "    </tr>\n",
       "    <tr>\n",
       "      <th>Southeast Bank Limited</th>\n",
       "      <td>21530206.00</td>\n",
       "      <td>17286</td>\n",
       "    </tr>\n",
       "    <tr>\n",
       "      <th>Standard Bank Limited</th>\n",
       "      <td>21821288.00</td>\n",
       "      <td>17302</td>\n",
       "    </tr>\n",
       "    <tr>\n",
       "      <th>Trust Bank Limited</th>\n",
       "      <td>21766456.00</td>\n",
       "      <td>17182</td>\n",
       "    </tr>\n",
       "    <tr>\n",
       "      <th>United Commercial Bank Ltd</th>\n",
       "      <td>21574838.00</td>\n",
       "      <td>17302</td>\n",
       "    </tr>\n",
       "    <tr>\n",
       "      <th>Uttara Bank Limited</th>\n",
       "      <td>21656960.00</td>\n",
       "      <td>17284</td>\n",
       "    </tr>\n",
       "  </tbody>\n",
       "</table>\n",
       "</div>"
      ],
      "text/plain": [
       "                                                            sum  count\n",
       "bank_name                                                             \n",
       "AB Bank Limited                                     21828124.00  17326\n",
       "BRAC Bank Limited                                   21646366.00  17200\n",
       "Bangladesh Commerce Bank Limited                    21847994.00  17302\n",
       "Bank Asia Limited                                   21497142.00  17302\n",
       "Bengal Commercial Bank Ltd                          21636434.00  17300\n",
       "Bkash                                               21514820.00  17346\n",
       "Citizens Bank Limited                               21785722.00  17232\n",
       "City Bank Limited                                   21711620.00  17250\n",
       "Community Bank Bangladesh Limited                   21486012.00  17218\n",
       "Dhaka Bank Limited                                  21826928.00  17264\n",
       "Dutch-Bangla Bank Limited                           21539482.00  17210\n",
       "Eastern Bank Limited                                21497458.00  17332\n",
       "IFIC Bank Limited                                   21598078.00  17284\n",
       "Jamuna Bank Limited                                 21519092.00  17262\n",
       "Meghna Bank Limited                                 21604228.00  17226\n",
       "Mercantile Bank Limited                             21412628.00  17232\n",
       "Midland Bank Limited                                21507442.00  17246\n",
       "Modhumoti Bank Limited                              21722232.00  17212\n",
       "Mutual Trust Bank Limited                           21360244.00  17194\n",
       "NRB Bank Limited                                    21692762.00  17302\n",
       "NRB Commercial Bank Ltd                             21536130.00  17206\n",
       "NRB Global Bank Ltd                                 21600704.00  17274\n",
       "Nagad                                               21596436.00  17216\n",
       "National Bank Limited                               21578354.00  17220\n",
       "National Credit & Commerce Bank Limited             21786904.00  17354\n",
       "None                                                21668126.00  17276\n",
       "One Bank Limited                                    21536346.00  17330\n",
       "Padma Bank Limited                                  21664674.00  17230\n",
       "Premier Bank Limited                                21526624.00  17266\n",
       "Prime Bank Limited                                  21591172.00  17216\n",
       "Pubali Bank Limited                                 21462300.00  17264\n",
       "Rocket                                              21767796.00  17248\n",
       "Shimanto Bank Ltd                                   21486442.00  17290\n",
       "South Bangla Agriculture and Commerce Bank Limited  21824922.00  17286\n",
       "Southeast Bank Limited                              21530206.00  17286\n",
       "Standard Bank Limited                               21821288.00  17302\n",
       "Trust Bank Limited                                  21766456.00  17182\n",
       "United Commercial Bank Ltd                          21574838.00  17302\n",
       "Uttara Bank Limited                                 21656960.00  17284"
      ]
     },
     "execution_count": 22,
     "metadata": {},
     "output_type": "execute_result"
    }
   ],
   "source": [
    "dfBN1 = df.groupby('bank_name')['total_sales'].agg(['sum','count'])\n",
    "dfBN1"
   ]
  },
  {
   "cell_type": "code",
   "execution_count": 27,
   "id": "dbe493d1",
   "metadata": {},
   "outputs": [
    {
     "data": {
      "text/plain": [
       "Index(['sum', 'count'], dtype='object')"
      ]
     },
     "execution_count": 27,
     "metadata": {},
     "output_type": "execute_result"
    }
   ],
   "source": [
    "dfBN1.columns"
   ]
  },
  {
   "cell_type": "code",
   "execution_count": 36,
   "id": "5c316b93",
   "metadata": {},
   "outputs": [
    {
     "name": "stdout",
     "output_type": "stream",
     "text": [
      "['None', 'NRB Bank Limited', 'NRB Global Bank Ltd', 'NRB Commercial Bank Ltd', 'Padma Bank Limited', 'Pubali Bank Limited', 'Premier Bank Limited', 'One Bank Limited', 'Prime Bank Limited', 'Standard Bank Limited', 'United Commercial Bank Ltd', 'Trust Bank Limited', 'Bank Asia Limited', 'Bengal Commercial Bank Ltd', 'Bangladesh Commerce Bank Limited', 'AB Bank Limited', 'Shimanto Bank Ltd', 'Rocket', 'BRAC Bank Limited', 'City Bank Limited', 'Bkash', 'Citizens Bank Limited', 'Community Bank Bangladesh Limited', 'Dhaka Bank Limited', 'Dutch-Bangla Bank Limited', 'IFIC Bank Limited', 'Eastern Bank Limited', 'Midland Bank Limited', 'Modhumoti Bank Limited', 'Jamuna Bank Limited', 'Meghna Bank Limited', 'Mercantile Bank Limited', 'Mutual Trust Bank Limited', 'National Bank Limited', None, 'Nagad', 'National Credit & Commerce Bank Limited', 'South Bangla Agriculture and Commerce Bank Limited', 'Southeast Bank Limited', 'Uttara Bank Limited']\n"
     ]
    },
    {
     "ename": "TypeError",
     "evalue": "descriptor 'lower' for 'str' objects doesn't apply to a 'NoneType' object",
     "output_type": "error",
     "traceback": [
      "\u001b[1;31m---------------------------------------------------------------------------\u001b[0m",
      "\u001b[1;31mTypeError\u001b[0m                                 Traceback (most recent call last)",
      "\u001b[1;32m<ipython-input-36-745ddf6e7c51>\u001b[0m in \u001b[0;36m<module>\u001b[1;34m\u001b[0m\n\u001b[0;32m      3\u001b[0m     \u001b[0mlabels\u001b[0m\u001b[1;33m.\u001b[0m\u001b[0mappend\u001b[0m\u001b[1;33m(\u001b[0m\u001b[0mname\u001b[0m\u001b[1;33m)\u001b[0m\u001b[1;33m\u001b[0m\u001b[1;33m\u001b[0m\u001b[0m\n\u001b[0;32m      4\u001b[0m \u001b[0mprint\u001b[0m\u001b[1;33m(\u001b[0m\u001b[0mlabels\u001b[0m\u001b[1;33m)\u001b[0m\u001b[1;33m\u001b[0m\u001b[1;33m\u001b[0m\u001b[0m\n\u001b[1;32m----> 5\u001b[1;33m \u001b[0mlabels1\u001b[0m \u001b[1;33m=\u001b[0m \u001b[0msorted\u001b[0m\u001b[1;33m(\u001b[0m\u001b[0mlabels\u001b[0m\u001b[1;33m,\u001b[0m \u001b[0mkey\u001b[0m\u001b[1;33m=\u001b[0m\u001b[0mstr\u001b[0m\u001b[1;33m.\u001b[0m\u001b[0mlower\u001b[0m\u001b[1;33m)\u001b[0m\u001b[1;33m\u001b[0m\u001b[1;33m\u001b[0m\u001b[0m\n\u001b[0m\u001b[0;32m      6\u001b[0m \u001b[0mprint\u001b[0m\u001b[1;33m(\u001b[0m\u001b[0mlabels1\u001b[0m\u001b[1;33m)\u001b[0m\u001b[1;33m\u001b[0m\u001b[1;33m\u001b[0m\u001b[0m\n",
      "\u001b[1;31mTypeError\u001b[0m: descriptor 'lower' for 'str' objects doesn't apply to a 'NoneType' object"
     ]
    }
   ],
   "source": [
    "labels = []\n",
    "for name in df['bank_name'].unique():\n",
    "    labels.append(name)\n",
    "print(labels)\n",
    "labels1 = sorted(labels, key=str.lower)\n",
    "print(labels1)"
   ]
  },
  {
   "cell_type": "code",
   "execution_count": 29,
   "id": "05b1cb4c",
   "metadata": {},
   "outputs": [
    {
     "ename": "ValueError",
     "evalue": "'label' must be of length 'x'",
     "output_type": "error",
     "traceback": [
      "\u001b[1;31m---------------------------------------------------------------------------\u001b[0m",
      "\u001b[1;31mValueError\u001b[0m                                Traceback (most recent call last)",
      "\u001b[1;32m<ipython-input-29-4d24111fce91>\u001b[0m in \u001b[0;36m<module>\u001b[1;34m\u001b[0m\n\u001b[0;32m      6\u001b[0m \u001b[0mplt\u001b[0m\u001b[1;33m.\u001b[0m\u001b[0mtitle\u001b[0m\u001b[1;33m(\u001b[0m\u001b[1;34m'Bank wise total sell of all customer '\u001b[0m\u001b[1;33m,\u001b[0m \u001b[0mloc\u001b[0m\u001b[1;33m=\u001b[0m\u001b[1;34m'center'\u001b[0m\u001b[1;33m,\u001b[0m \u001b[0mcolor\u001b[0m\u001b[1;33m=\u001b[0m\u001b[1;34m'r'\u001b[0m\u001b[1;33m)\u001b[0m\u001b[1;33m\u001b[0m\u001b[1;33m\u001b[0m\u001b[0m\n\u001b[0;32m      7\u001b[0m \u001b[1;33m\u001b[0m\u001b[0m\n\u001b[1;32m----> 8\u001b[1;33m \u001b[0mplt\u001b[0m\u001b[1;33m.\u001b[0m\u001b[0mpie\u001b[0m\u001b[1;33m(\u001b[0m\u001b[0mdata\u001b[0m\u001b[1;33m,\u001b[0m \u001b[0mlabels\u001b[0m\u001b[1;33m=\u001b[0m\u001b[0mlabels\u001b[0m\u001b[1;33m,\u001b[0m \u001b[0mshadow\u001b[0m \u001b[1;33m=\u001b[0m \u001b[1;32mTrue\u001b[0m\u001b[1;33m,\u001b[0m \u001b[0mtextprops\u001b[0m \u001b[1;33m=\u001b[0m \u001b[0mtextprops\u001b[0m\u001b[1;33m,\u001b[0m  \u001b[0mautopct\u001b[0m\u001b[1;33m=\u001b[0m\u001b[1;34m'%.2f%%'\u001b[0m\u001b[1;33m)\u001b[0m\u001b[1;33m\u001b[0m\u001b[1;33m\u001b[0m\u001b[0m\n\u001b[0m\u001b[0;32m      9\u001b[0m \u001b[0mplt\u001b[0m\u001b[1;33m.\u001b[0m\u001b[0mrcParams\u001b[0m\u001b[1;33m[\u001b[0m\u001b[1;34m\"figure.figsize\"\u001b[0m\u001b[1;33m]\u001b[0m \u001b[1;33m=\u001b[0m \u001b[1;33m(\u001b[0m\u001b[1;36m12\u001b[0m\u001b[1;33m,\u001b[0m\u001b[1;36m7\u001b[0m\u001b[1;33m)\u001b[0m\u001b[1;33m\u001b[0m\u001b[1;33m\u001b[0m\u001b[0m\n\u001b[0;32m     10\u001b[0m \u001b[0mplt\u001b[0m\u001b[1;33m.\u001b[0m\u001b[0mshow\u001b[0m\u001b[1;33m(\u001b[0m\u001b[1;33m)\u001b[0m\u001b[1;33m\u001b[0m\u001b[1;33m\u001b[0m\u001b[0m\n",
      "\u001b[1;32m~\\anaconda3\\lib\\site-packages\\matplotlib\\pyplot.py\u001b[0m in \u001b[0;36mpie\u001b[1;34m(x, explode, labels, colors, autopct, pctdistance, shadow, labeldistance, startangle, radius, counterclock, wedgeprops, textprops, center, frame, rotatelabels, normalize, data)\u001b[0m\n\u001b[0;32m   2825\u001b[0m         \u001b[0mtextprops\u001b[0m\u001b[1;33m=\u001b[0m\u001b[1;32mNone\u001b[0m\u001b[1;33m,\u001b[0m \u001b[0mcenter\u001b[0m\u001b[1;33m=\u001b[0m\u001b[1;33m(\u001b[0m\u001b[1;36m0\u001b[0m\u001b[1;33m,\u001b[0m \u001b[1;36m0\u001b[0m\u001b[1;33m)\u001b[0m\u001b[1;33m,\u001b[0m \u001b[0mframe\u001b[0m\u001b[1;33m=\u001b[0m\u001b[1;32mFalse\u001b[0m\u001b[1;33m,\u001b[0m\u001b[1;33m\u001b[0m\u001b[1;33m\u001b[0m\u001b[0m\n\u001b[0;32m   2826\u001b[0m         rotatelabels=False, *, normalize=None, data=None):\n\u001b[1;32m-> 2827\u001b[1;33m     return gca().pie(\n\u001b[0m\u001b[0;32m   2828\u001b[0m         \u001b[0mx\u001b[0m\u001b[1;33m,\u001b[0m \u001b[0mexplode\u001b[0m\u001b[1;33m=\u001b[0m\u001b[0mexplode\u001b[0m\u001b[1;33m,\u001b[0m \u001b[0mlabels\u001b[0m\u001b[1;33m=\u001b[0m\u001b[0mlabels\u001b[0m\u001b[1;33m,\u001b[0m \u001b[0mcolors\u001b[0m\u001b[1;33m=\u001b[0m\u001b[0mcolors\u001b[0m\u001b[1;33m,\u001b[0m\u001b[1;33m\u001b[0m\u001b[1;33m\u001b[0m\u001b[0m\n\u001b[0;32m   2829\u001b[0m         \u001b[0mautopct\u001b[0m\u001b[1;33m=\u001b[0m\u001b[0mautopct\u001b[0m\u001b[1;33m,\u001b[0m \u001b[0mpctdistance\u001b[0m\u001b[1;33m=\u001b[0m\u001b[0mpctdistance\u001b[0m\u001b[1;33m,\u001b[0m \u001b[0mshadow\u001b[0m\u001b[1;33m=\u001b[0m\u001b[0mshadow\u001b[0m\u001b[1;33m,\u001b[0m\u001b[1;33m\u001b[0m\u001b[1;33m\u001b[0m\u001b[0m\n",
      "\u001b[1;32m~\\anaconda3\\lib\\site-packages\\matplotlib\\__init__.py\u001b[0m in \u001b[0;36minner\u001b[1;34m(ax, data, *args, **kwargs)\u001b[0m\n\u001b[0;32m   1445\u001b[0m     \u001b[1;32mdef\u001b[0m \u001b[0minner\u001b[0m\u001b[1;33m(\u001b[0m\u001b[0max\u001b[0m\u001b[1;33m,\u001b[0m \u001b[1;33m*\u001b[0m\u001b[0margs\u001b[0m\u001b[1;33m,\u001b[0m \u001b[0mdata\u001b[0m\u001b[1;33m=\u001b[0m\u001b[1;32mNone\u001b[0m\u001b[1;33m,\u001b[0m \u001b[1;33m**\u001b[0m\u001b[0mkwargs\u001b[0m\u001b[1;33m)\u001b[0m\u001b[1;33m:\u001b[0m\u001b[1;33m\u001b[0m\u001b[1;33m\u001b[0m\u001b[0m\n\u001b[0;32m   1446\u001b[0m         \u001b[1;32mif\u001b[0m \u001b[0mdata\u001b[0m \u001b[1;32mis\u001b[0m \u001b[1;32mNone\u001b[0m\u001b[1;33m:\u001b[0m\u001b[1;33m\u001b[0m\u001b[1;33m\u001b[0m\u001b[0m\n\u001b[1;32m-> 1447\u001b[1;33m             \u001b[1;32mreturn\u001b[0m \u001b[0mfunc\u001b[0m\u001b[1;33m(\u001b[0m\u001b[0max\u001b[0m\u001b[1;33m,\u001b[0m \u001b[1;33m*\u001b[0m\u001b[0mmap\u001b[0m\u001b[1;33m(\u001b[0m\u001b[0msanitize_sequence\u001b[0m\u001b[1;33m,\u001b[0m \u001b[0margs\u001b[0m\u001b[1;33m)\u001b[0m\u001b[1;33m,\u001b[0m \u001b[1;33m**\u001b[0m\u001b[0mkwargs\u001b[0m\u001b[1;33m)\u001b[0m\u001b[1;33m\u001b[0m\u001b[1;33m\u001b[0m\u001b[0m\n\u001b[0m\u001b[0;32m   1448\u001b[0m \u001b[1;33m\u001b[0m\u001b[0m\n\u001b[0;32m   1449\u001b[0m         \u001b[0mbound\u001b[0m \u001b[1;33m=\u001b[0m \u001b[0mnew_sig\u001b[0m\u001b[1;33m.\u001b[0m\u001b[0mbind\u001b[0m\u001b[1;33m(\u001b[0m\u001b[0max\u001b[0m\u001b[1;33m,\u001b[0m \u001b[1;33m*\u001b[0m\u001b[0margs\u001b[0m\u001b[1;33m,\u001b[0m \u001b[1;33m**\u001b[0m\u001b[0mkwargs\u001b[0m\u001b[1;33m)\u001b[0m\u001b[1;33m\u001b[0m\u001b[1;33m\u001b[0m\u001b[0m\n",
      "\u001b[1;32m~\\anaconda3\\lib\\site-packages\\matplotlib\\axes\\_axes.py\u001b[0m in \u001b[0;36mpie\u001b[1;34m(self, x, explode, labels, colors, autopct, pctdistance, shadow, labeldistance, startangle, radius, counterclock, wedgeprops, textprops, center, frame, rotatelabels, normalize)\u001b[0m\n\u001b[0;32m   3022\u001b[0m             \u001b[0mexplode\u001b[0m \u001b[1;33m=\u001b[0m \u001b[1;33m[\u001b[0m\u001b[1;36m0\u001b[0m\u001b[1;33m]\u001b[0m \u001b[1;33m*\u001b[0m \u001b[0mlen\u001b[0m\u001b[1;33m(\u001b[0m\u001b[0mx\u001b[0m\u001b[1;33m)\u001b[0m\u001b[1;33m\u001b[0m\u001b[1;33m\u001b[0m\u001b[0m\n\u001b[0;32m   3023\u001b[0m         \u001b[1;32mif\u001b[0m \u001b[0mlen\u001b[0m\u001b[1;33m(\u001b[0m\u001b[0mx\u001b[0m\u001b[1;33m)\u001b[0m \u001b[1;33m!=\u001b[0m \u001b[0mlen\u001b[0m\u001b[1;33m(\u001b[0m\u001b[0mlabels\u001b[0m\u001b[1;33m)\u001b[0m\u001b[1;33m:\u001b[0m\u001b[1;33m\u001b[0m\u001b[1;33m\u001b[0m\u001b[0m\n\u001b[1;32m-> 3024\u001b[1;33m             \u001b[1;32mraise\u001b[0m \u001b[0mValueError\u001b[0m\u001b[1;33m(\u001b[0m\u001b[1;34m\"'label' must be of length 'x'\"\u001b[0m\u001b[1;33m)\u001b[0m\u001b[1;33m\u001b[0m\u001b[1;33m\u001b[0m\u001b[0m\n\u001b[0m\u001b[0;32m   3025\u001b[0m         \u001b[1;32mif\u001b[0m \u001b[0mlen\u001b[0m\u001b[1;33m(\u001b[0m\u001b[0mx\u001b[0m\u001b[1;33m)\u001b[0m \u001b[1;33m!=\u001b[0m \u001b[0mlen\u001b[0m\u001b[1;33m(\u001b[0m\u001b[0mexplode\u001b[0m\u001b[1;33m)\u001b[0m\u001b[1;33m:\u001b[0m\u001b[1;33m\u001b[0m\u001b[1;33m\u001b[0m\u001b[0m\n\u001b[0;32m   3026\u001b[0m             \u001b[1;32mraise\u001b[0m \u001b[0mValueError\u001b[0m\u001b[1;33m(\u001b[0m\u001b[1;34m\"'explode' must be of length 'x'\"\u001b[0m\u001b[1;33m)\u001b[0m\u001b[1;33m\u001b[0m\u001b[1;33m\u001b[0m\u001b[0m\n",
      "\u001b[1;31mValueError\u001b[0m: 'label' must be of length 'x'"
     ]
    },
    {
     "data": {
      "image/png": "[encoded data removed]",
      "text/plain": [
       "<Figure size 432x288 with 1 Axes>"
      ]
     },
     "metadata": {
      "needs_background": "light"
     },
     "output_type": "display_data"
    }
   ],
   "source": [
    "labels=dfBN1['bank_name']\n",
    "data = dfBN1['sum']\n",
    "textprops = {\"fontsize\":10}\n",
    "# colors = ( \"orange\", \"cyan\", \"brown\", \"grey\", \"indigo\", \"beige\",'salmon','palegreen','skyblue','plum','pink')\n",
    "# colors=colors, explode=(0.1, 0.1,0.1, 0.1, 0.1, 0.1,0.1, 0.1, 0.1, 0.1, 0.1)\n",
    "plt.title('Bank wise total sell of all customer ', loc='center', color='r')\n",
    "\n",
    "plt.pie(data, labels=labels, shadow = True, textprops = textprops,  autopct='%.2f%%')\n",
    "plt.rcParams[\"figure.figsize\"] = (12,7)\n",
    "plt.show()"
   ]
  },
  {
   "cell_type": "code",
   "execution_count": 14,
   "id": "1eb7636b",
   "metadata": {},
   "outputs": [
    {
     "data": {
      "text/html": [
       "<div>\n",
       "<style scoped>\n",
       "    .dataframe tbody tr th:only-of-type {\n",
       "        vertical-align: middle;\n",
       "    }\n",
       "\n",
       "    .dataframe tbody tr th {\n",
       "        vertical-align: top;\n",
       "    }\n",
       "\n",
       "    .dataframe thead th {\n",
       "        text-align: right;\n",
       "    }\n",
       "</style>\n",
       "<table border=\"1\" class=\"dataframe\">\n",
       "  <thead>\n",
       "    <tr style=\"text-align: right;\">\n",
       "      <th></th>\n",
       "      <th>total_sales</th>\n",
       "    </tr>\n",
       "    <tr>\n",
       "      <th>bank_name</th>\n",
       "      <th></th>\n",
       "    </tr>\n",
       "  </thead>\n",
       "  <tbody>\n",
       "    <tr>\n",
       "      <th>NRB Bank Limited</th>\n",
       "      <td>21692762.00</td>\n",
       "    </tr>\n",
       "  </tbody>\n",
       "</table>\n",
       "</div>"
      ],
      "text/plain": [
       "                  total_sales\n",
       "bank_name                    \n",
       "NRB Bank Limited  21692762.00"
      ]
     },
     "execution_count": 14,
     "metadata": {},
     "output_type": "execute_result"
    }
   ],
   "source": [
    "dfBN_NRB=dfBN.query(\"bank_name == 'NRB Bank Limited'\")\n",
    "dfBN_NRB "
   ]
  },
  {
   "cell_type": "code",
   "execution_count": null,
   "id": "841f5844",
   "metadata": {},
   "outputs": [],
   "source": [
    "df.dtypes\n",
    "df['total_sales'] = df['total_sales'].astype('float64')\n",
    "df.dtypes"
   ]
  },
  {
   "cell_type": "markdown",
   "id": "56a33c6b",
   "metadata": {},
   "source": [
    "##### SLICE_Q2"
   ]
  },
  {
   "cell_type": "code",
   "execution_count": null,
   "id": "cba84653",
   "metadata": {},
   "outputs": [],
   "source": [
    "# SLICE for divsion\n",
    "select_stmt = \" SELECT sr.division, sr.district, SUM(fact.total_price)\" \\\n",
    "              \" From ecomdb_star_schema.fact_table fact \" \\\n",
    "              \" JOIN ecomdb_star_schema.store_dim sr on sr.store_key=fact.store_key \" \\\n",
    "              \" Where sr.division ='CHITTAGONG' \" \\\n",
    "              \" GROUP BY sr.division,sr.district\"\n",
    " \n",
    "SLICE_records = retrive_data_from_table(select_stmt)\n",
    "df = pd.DataFrame(list(SLICE_records), columns=['division','district', 'total_sales'])\n",
    "df"
   ]
  },
  {
   "cell_type": "code",
   "execution_count": null,
   "id": "ebb5190e",
   "metadata": {},
   "outputs": [],
   "source": [
    "labels=df['district']\n",
    "data = df['total_sales']\n",
    "textprops = {\"fontsize\":10}\n",
    "colors = ( \"orange\", \"cyan\", \"brown\", \"grey\", \"indigo\", \"beige\",'salmon','palegreen','skyblue','plum','pink')\n",
    "plt.title('District wise total sell of CHITTAGONG Division',loc='center',color='r')\n",
    "\n",
    "plt.pie(data, labels=labels, shadow = True, textprops = textprops, colors=colors, autopct='%.2f%%',explode=(0.1, 0.1,0.1, 0.1, 0.1, 0.1,0.1, 0.1, 0.1, 0.1, 0.1))\n",
    "# plt.figure(figsize=(20,12)) \n",
    "plt.rcParams[\"figure.figsize\"] = (12,7)\n",
    "plt.show()"
   ]
  },
  {
   "cell_type": "markdown",
   "id": "052097a3",
   "metadata": {},
   "source": [
    "##### DICE_Q2"
   ]
  },
  {
   "cell_type": "code",
   "execution_count": null,
   "id": "38f7e243",
   "metadata": {},
   "outputs": [],
   "source": [
    "# select_stmt1 = \" SELECT i.item_name,SUM(f.total_price)\" \\\n",
    "#               \" From ecomdb_star_schema.fact_table f \" \\\n",
    "#               \" JOIN ecomdb_star_schema.store_dim s on s.store_key=f.store_key \" \\\n",
    "#               \"JOIN ecomdb_star_schema.item_dim i on i.item_key=f.item_key\" \\\n",
    "#               \" Where i.item_name ='Cherry Coke 12oz' \" \\\n",
    "#               \" GROUP BY i.item_name \"\n",
    "\n",
    "select_stmt = \" SELECT sr.division, tim.month, SUM(fact.total_price)\" \\\n",
    "              \" From ecomdb_star_schema.fact_table fact \" \\\n",
    "              \" JOIN ecomdb_star_schema.store_dim sr on sr.store_key=fact.store_key \" \\\n",
    "              \" JOIN ecomdb_star_schema.time_dim tim on tim.time_key=fact.time_key \"\\\n",
    "              \" Where sr.division ='CHITTAGONG' \" \\\n",
    "              \" GROUP BY sr.division, tim.month\"\n",
    " \n",
    "SLICE_records = retrive_data_from_table(select_stmt)\n",
    "df_slice = pd.DataFrame(list(SLICE_records), columns=['division','month', 'total_sales'])\n",
    "df_slice"
   ]
  },
  {
   "cell_type": "code",
   "execution_count": null,
   "id": "b6451716",
   "metadata": {},
   "outputs": [],
   "source": [
    "# \n",
    "# df_slice.drop(['division'],axis=1, inplace=True) \n",
    "print(df_slice)\n",
    "df_slice.plot(kind='bar', figsize=(10,7))"
   ]
  },
  {
   "cell_type": "code",
   "execution_count": null,
   "id": "94750e4b",
   "metadata": {},
   "outputs": [],
   "source": [
    " "
   ]
  },
  {
   "cell_type": "markdown",
   "id": "77bfa580",
   "metadata": {},
   "source": [
    "### Q3: Total sales in Barisal"
   ]
  },
  {
   "cell_type": "code",
   "execution_count": 54,
   "id": "9274e359",
   "metadata": {},
   "outputs": [
    {
     "name": "stdout",
     "output_type": "stream",
     "text": [
      "successfully connected to database\n"
     ]
    },
    {
     "data": {
      "text/html": [
       "<div>\n",
       "<style scoped>\n",
       "    .dataframe tbody tr th:only-of-type {\n",
       "        vertical-align: middle;\n",
       "    }\n",
       "\n",
       "    .dataframe tbody tr th {\n",
       "        vertical-align: top;\n",
       "    }\n",
       "\n",
       "    .dataframe thead th {\n",
       "        text-align: right;\n",
       "    }\n",
       "</style>\n",
       "<table border=\"1\" class=\"dataframe\">\n",
       "  <thead>\n",
       "    <tr style=\"text-align: right;\">\n",
       "      <th></th>\n",
       "      <th>year</th>\n",
       "      <th>total_price</th>\n",
       "    </tr>\n",
       "  </thead>\n",
       "  <tbody>\n",
       "    <tr>\n",
       "      <th>0</th>\n",
       "      <td>BARISAL</td>\n",
       "      <td>15040687.50</td>\n",
       "    </tr>\n",
       "  </tbody>\n",
       "</table>\n",
       "</div>"
      ],
      "text/plain": [
       "      year  total_price\n",
       "0  BARISAL  15040687.50"
      ]
     },
     "execution_count": 54,
     "metadata": {},
     "output_type": "execute_result"
    }
   ],
   "source": [
    "select_query =  \"Select t2.division, sum(t1.total_price) \"\\\n",
    "            \"from ecomdb_star_schema.fact_table t1 \"\\\n",
    "            \"join ecomdb_star_schema.store_dim t2 on t1.store_key = t2.store_key \"\\\n",
    "            \"where t2.division = 'BARISAL' \"\\\n",
    "            \"group by(t2.division)\"\n",
    "\n",
    "record_Q3 = retrive_data_from_table(select_query)\n",
    "df_Q3 = pd.DataFrame(list(record_Q3), columns=['year', 'total_price'])\n",
    "df_Q3\n"
   ]
  },
  {
   "cell_type": "markdown",
   "id": "ccbb21ee",
   "metadata": {},
   "source": [
    "### Q4: Total sales in 2015"
   ]
  },
  {
   "cell_type": "code",
   "execution_count": 52,
   "id": "bd0c8a59",
   "metadata": {},
   "outputs": [
    {
     "name": "stdout",
     "output_type": "stream",
     "text": [
      "successfully connected to database\n"
     ]
    },
    {
     "data": {
      "text/html": [
       "<div>\n",
       "<style scoped>\n",
       "    .dataframe tbody tr th:only-of-type {\n",
       "        vertical-align: middle;\n",
       "    }\n",
       "\n",
       "    .dataframe tbody tr th {\n",
       "        vertical-align: top;\n",
       "    }\n",
       "\n",
       "    .dataframe thead th {\n",
       "        text-align: right;\n",
       "    }\n",
       "</style>\n",
       "<table border=\"1\" class=\"dataframe\">\n",
       "  <thead>\n",
       "    <tr style=\"text-align: right;\">\n",
       "      <th></th>\n",
       "      <th>year</th>\n",
       "      <th>total_price</th>\n",
       "    </tr>\n",
       "  </thead>\n",
       "  <tbody>\n",
       "    <tr>\n",
       "      <th>0</th>\n",
       "      <td>2015</td>\n",
       "      <td>30191440.50</td>\n",
       "    </tr>\n",
       "  </tbody>\n",
       "</table>\n",
       "</div>"
      ],
      "text/plain": [
       "   year  total_price\n",
       "0  2015  30191440.50"
      ]
     },
     "execution_count": 52,
     "metadata": {},
     "output_type": "execute_result"
    }
   ],
   "source": [
    "select_query=  \"select  t2.year, sum(t1.total_price) \"\\\n",
    "                \"from ecomdb_star_schema.fact_table t1 \"\\\n",
    "                \"join ecomdb_star_schema.time_dim t2 on t1.time_key = t2.time_key \"\\\n",
    "                \"where t2.year= 2015 \" \\\n",
    "                \"group by(t2.year)\"\n",
    "\n",
    "record_Q4 = retrive_data_from_table(select_query)\n",
    "df_Q4 = pd.DataFrame(list(record_Q4), columns=['year', 'total_price'])\n",
    "df_Q4"
   ]
  },
  {
   "cell_type": "markdown",
   "id": "6260f321",
   "metadata": {},
   "source": [
    "### Q5: Total sales of Barisal in 2015"
   ]
  },
  {
   "cell_type": "code",
   "execution_count": 49,
   "id": "c01bd9b8",
   "metadata": {
    "scrolled": true
   },
   "outputs": [
    {
     "name": "stdout",
     "output_type": "stream",
     "text": [
      "successfully connected to database\n"
     ]
    },
    {
     "data": {
      "text/html": [
       "<div>\n",
       "<style scoped>\n",
       "    .dataframe tbody tr th:only-of-type {\n",
       "        vertical-align: middle;\n",
       "    }\n",
       "\n",
       "    .dataframe tbody tr th {\n",
       "        vertical-align: top;\n",
       "    }\n",
       "\n",
       "    .dataframe thead th {\n",
       "        text-align: right;\n",
       "    }\n",
       "</style>\n",
       "<table border=\"1\" class=\"dataframe\">\n",
       "  <thead>\n",
       "    <tr style=\"text-align: right;\">\n",
       "      <th></th>\n",
       "      <th>division</th>\n",
       "      <th>year</th>\n",
       "      <th>total_price</th>\n",
       "    </tr>\n",
       "  </thead>\n",
       "  <tbody>\n",
       "    <tr>\n",
       "      <th>0</th>\n",
       "      <td>BARISAL</td>\n",
       "      <td>2015</td>\n",
       "      <td>2153805.50</td>\n",
       "    </tr>\n",
       "  </tbody>\n",
       "</table>\n",
       "</div>"
      ],
      "text/plain": [
       "  division  year total_price\n",
       "0  BARISAL  2015  2153805.50"
      ]
     },
     "execution_count": 49,
     "metadata": {},
     "output_type": "execute_result"
    }
   ],
   "source": [
    "select_query =  \"select t3.division, t2.year, sum(t1.total_price) \" \\\n",
    "                \"from ecomdb_star_schema.fact_table t1 \" \\\n",
    "                \"join ecomdb_star_schema.time_dim t2 on t1.time_key = t2.time_key \" \\\n",
    "                \"join ecomdb_star_schema.store_dim t3 on t1.store_key = t3.store_key \" \\\n",
    "                \"where  t2.year= 2015 and t3.division = 'BARISAL'  \" \\\n",
    "                \"group by (t3.division, t2.year)\"\n",
    "\n",
    "record_Q5 = retrive_data_from_table(select_query)\n",
    "df_Q5 = pd.DataFrame(list(record_Q5), columns=['division','year', 'total_price'])\n",
    "df_Q5\n"
   ]
  },
  {
   "cell_type": "code",
   "execution_count": 45,
   "id": "57e4e076",
   "metadata": {},
   "outputs": [
    {
     "data": {
      "text/plain": [
       "division       object\n",
       "year            int64\n",
       "total_price    object\n",
       "dtype: object"
      ]
     },
     "execution_count": 45,
     "metadata": {},
     "output_type": "execute_result"
    }
   ],
   "source": [
    "df_Q5.dtypes"
   ]
  },
  {
   "cell_type": "markdown",
   "id": "7460a415",
   "metadata": {},
   "source": [
    "# Do some complex CUBE query including ROLL UP, DRILL DOWN, SLICE, DICE to answer the following questions from the ecomdb warehouse"
   ]
  },
  {
   "cell_type": "markdown",
   "id": "84f97f70",
   "metadata": {},
   "source": [
    "### Q6: For each store(item supplier), what are the top three products offered that are most often purchased?\n",
    "\n",
    "#### S1-> item1 -> quantity_sales\n",
    "#### S1-> item2 -> quantity_sales\n",
    "#### S1-> item3 -> quantity_sales"
   ]
  },
  {
   "cell_type": "code",
   "execution_count": 72,
   "id": "c6064752",
   "metadata": {
    "scrolled": true
   },
   "outputs": [
    {
     "name": "stdout",
     "output_type": "stream",
     "text": [
      "successfully connected to database\n"
     ]
    },
    {
     "ename": "UndefinedColumn",
     "evalue": "column \"total_sell_quantity\" does not exist\nLINE 1: ... it.item_key, it.supplier) order by( it.item_key, total_sell...\n                                                             ^\n",
     "output_type": "error",
     "traceback": [
      "\u001b[1;31m---------------------------------------------------------------------------\u001b[0m",
      "\u001b[1;31mUndefinedColumn\u001b[0m                           Traceback (most recent call last)",
      "\u001b[1;32m<ipython-input-72-d395433987df>\u001b[0m in \u001b[0;36m<module>\u001b[1;34m\u001b[0m\n\u001b[0;32m      6\u001b[0m                 \u001b[1;34m\"order by( it.item_key, total_sell_quantity)\"\u001b[0m\u001b[1;33m\u001b[0m\u001b[1;33m\u001b[0m\u001b[0m\n\u001b[0;32m      7\u001b[0m \u001b[1;33m\u001b[0m\u001b[0m\n\u001b[1;32m----> 8\u001b[1;33m \u001b[0mrecord_Q6\u001b[0m \u001b[1;33m=\u001b[0m \u001b[0mretrive_data_from_table\u001b[0m\u001b[1;33m(\u001b[0m\u001b[0mselect_query\u001b[0m\u001b[1;33m)\u001b[0m\u001b[1;33m\u001b[0m\u001b[1;33m\u001b[0m\u001b[0m\n\u001b[0m\u001b[0;32m      9\u001b[0m \u001b[0mdf_Q6\u001b[0m \u001b[1;33m=\u001b[0m \u001b[0mpd\u001b[0m\u001b[1;33m.\u001b[0m\u001b[0mDataFrame\u001b[0m\u001b[1;33m(\u001b[0m\u001b[0mlist\u001b[0m\u001b[1;33m(\u001b[0m\u001b[0mrecord_Q6\u001b[0m\u001b[1;33m)\u001b[0m\u001b[1;33m,\u001b[0m \u001b[0mcolumns\u001b[0m\u001b[1;33m=\u001b[0m\u001b[1;33m[\u001b[0m\u001b[1;34m'store'\u001b[0m\u001b[1;33m,\u001b[0m \u001b[1;34m'supplier'\u001b[0m\u001b[1;33m,\u001b[0m \u001b[1;34m'item'\u001b[0m\u001b[1;33m,\u001b[0m \u001b[1;34m'total_sell_quantity'\u001b[0m\u001b[1;33m]\u001b[0m\u001b[1;33m)\u001b[0m\u001b[1;33m\u001b[0m\u001b[1;33m\u001b[0m\u001b[0m\n\u001b[0;32m     10\u001b[0m \u001b[0mdf_Q6\u001b[0m\u001b[1;33m.\u001b[0m\u001b[0mhead\u001b[0m\u001b[1;33m(\u001b[0m\u001b[1;36m100\u001b[0m\u001b[1;33m)\u001b[0m\u001b[1;33m\u001b[0m\u001b[1;33m\u001b[0m\u001b[0m\n",
      "\u001b[1;32m<ipython-input-22-187171b9cf1c>\u001b[0m in \u001b[0;36mretrive_data_from_table\u001b[1;34m(select_stmt)\u001b[0m\n\u001b[0;32m      5\u001b[0m \u001b[1;31m#     select_stmt = \"SELECT t.payment_key , t.trans_type, t.bank_name \" \\\u001b[0m\u001b[1;33m\u001b[0m\u001b[1;33m\u001b[0m\u001b[1;33m\u001b[0m\u001b[0m\n\u001b[0;32m      6\u001b[0m \u001b[1;31m#                   \"FROM ecomdb_star_schema.trans_dim t\"\u001b[0m\u001b[1;33m\u001b[0m\u001b[1;33m\u001b[0m\u001b[1;33m\u001b[0m\u001b[0m\n\u001b[1;32m----> 7\u001b[1;33m     \u001b[0mcur\u001b[0m\u001b[1;33m.\u001b[0m\u001b[0mexecute\u001b[0m\u001b[1;33m(\u001b[0m\u001b[0mselect_stmt\u001b[0m\u001b[1;33m)\u001b[0m\u001b[1;33m\u001b[0m\u001b[1;33m\u001b[0m\u001b[0m\n\u001b[0m\u001b[0;32m      8\u001b[0m     \u001b[0mrecords\u001b[0m \u001b[1;33m=\u001b[0m \u001b[0mcur\u001b[0m\u001b[1;33m.\u001b[0m\u001b[0mfetchall\u001b[0m\u001b[1;33m(\u001b[0m\u001b[1;33m)\u001b[0m\u001b[1;33m\u001b[0m\u001b[1;33m\u001b[0m\u001b[0m\n\u001b[0;32m      9\u001b[0m     \u001b[1;32mreturn\u001b[0m \u001b[0mrecords\u001b[0m\u001b[1;33m\u001b[0m\u001b[1;33m\u001b[0m\u001b[0m\n",
      "\u001b[1;31mUndefinedColumn\u001b[0m: column \"total_sell_quantity\" does not exist\nLINE 1: ... it.item_key, it.supplier) order by( it.item_key, total_sell...\n                                                             ^\n"
     ]
    }
   ],
   "source": [
    "select_query =  \"select st.store_key, it.supplier, it.item_key, sum(fact.quantity) as total_sell_quantity \"\\\n",
    "                \"from ecomdb_star_schema.fact_table fact \"\\\n",
    "                \"join ecomdb_star_schema.store_dim st on st.store_key = fact.store_key \"\\\n",
    "                \"join ecomdb_star_schema.item_dim it on it.item_key = fact.item_key \"\\\n",
    "                \"group by(st.store_key, it.item_key, it.supplier) \"\\\n",
    "                \"order by( it.item_key,total_sell_quantity)\"\n",
    "\n",
    "record_Q6 = retrive_data_from_table(select_query)\n",
    "df_Q6 = pd.DataFrame(list(record_Q6), columns=['store', 'supplier', 'item', 'total_sell_quantity'])\n",
    "df_Q6.head(100)"
   ]
  },
  {
   "cell_type": "code",
   "execution_count": 60,
   "id": "627568ac",
   "metadata": {},
   "outputs": [
    {
     "data": {
      "text/plain": [
       "array(['S0001', 'S0002', 'S0003', 'S0004', 'S0005', 'S0006', 'S0007',\n",
       "       'S0008', 'S0009', 'S0010', 'S00100', 'S00101', 'S00102', 'S00103',\n",
       "       'S00104', 'S00105', 'S00106', 'S00107', 'S00108', 'S00109',\n",
       "       'S0011', 'S00110', 'S00111', 'S00112', 'S00113', 'S00114',\n",
       "       'S00115', 'S00116', 'S00117', 'S00118', 'S00119', 'S0012',\n",
       "       'S00120', 'S00121', 'S00122', 'S00123', 'S00124', 'S00125',\n",
       "       'S00126', 'S00127', 'S00128', 'S00129', 'S0013', 'S00130',\n",
       "       'S00131', 'S00132', 'S00133', 'S00134', 'S00135', 'S00136',\n",
       "       'S00137', 'S00138', 'S00139', 'S0014', 'S00140', 'S00141',\n",
       "       'S00142', 'S00143', 'S00144', 'S00145', 'S00146', 'S00147',\n",
       "       'S00148', 'S00149', 'S0015', 'S00150', 'S00151', 'S00152',\n",
       "       'S00153', 'S00154', 'S00155', 'S00156', 'S00157', 'S00158',\n",
       "       'S00159', 'S0016', 'S00160', 'S00161', 'S00162', 'S00163',\n",
       "       'S00164', 'S00165', 'S00166', 'S00167', 'S00168', 'S00169',\n",
       "       'S0017', 'S00170', 'S00171', 'S00172', 'S00173', 'S00174',\n",
       "       'S00175', 'S00176', 'S00177', 'S00178', 'S00179', 'S0018',\n",
       "       'S00180', 'S00181', 'S00182', 'S00183', 'S00184', 'S00185',\n",
       "       'S00186', 'S00187', 'S00188', 'S00189', 'S0019', 'S00190',\n",
       "       'S00191', 'S00192', 'S00193', 'S00194', 'S00195', 'S00196',\n",
       "       'S00197', 'S00198', 'S00199', 'S0020', 'S00200', 'S00201',\n",
       "       'S00202', 'S00203', 'S00204', 'S00205', 'S00206', 'S00207',\n",
       "       'S00208', 'S00209', 'S0021', 'S00210', 'S00211', 'S00212',\n",
       "       'S00213', 'S00214', 'S00215', 'S00216', 'S00217', 'S00218',\n",
       "       'S00219', 'S0022', 'S00220', 'S00221', 'S00222', 'S00223',\n",
       "       'S00224', 'S00225', 'S00226', 'S00227', 'S00228', 'S00229',\n",
       "       'S0023', 'S00230', 'S00231', 'S00232', 'S00233', 'S00234',\n",
       "       'S00235', 'S00236', 'S00237', 'S00238', 'S00239', 'S0024',\n",
       "       'S00240', 'S00241', 'S00242', 'S00243', 'S00244', 'S00245',\n",
       "       'S00246', 'S00247', 'S00248', 'S00249', 'S0025', 'S00250',\n",
       "       'S00251', 'S00252', 'S00253', 'S00254', 'S00255', 'S00256',\n",
       "       'S00257', 'S00258', 'S00259', 'S0026', 'S00260', 'S00261',\n",
       "       'S00262', 'S00263', 'S00264', 'S00265', 'S00266', 'S00267',\n",
       "       'S00268', 'S00269', 'S0027', 'S00270', 'S00271', 'S00272',\n",
       "       'S00273', 'S00274', 'S00275', 'S00276', 'S00277', 'S00278',\n",
       "       'S00279', 'S0028', 'S00280', 'S00281', 'S00282', 'S00283',\n",
       "       'S00284', 'S00285', 'S00286', 'S00287', 'S00288', 'S00289',\n",
       "       'S0029', 'S00290', 'S00291', 'S00292', 'S00293', 'S00294',\n",
       "       'S00295', 'S00296', 'S00297', 'S00298', 'S00299', 'S0030',\n",
       "       'S00300', 'S00301', 'S00302', 'S00303', 'S00304', 'S00305',\n",
       "       'S00306', 'S00307', 'S00308', 'S00309', 'S0031', 'S00310',\n",
       "       'S00311', 'S00312', 'S00313', 'S00314', 'S00315', 'S00316',\n",
       "       'S00317', 'S00318', 'S00319', 'S0032', 'S00320', 'S00321',\n",
       "       'S00322', 'S00323', 'S00324', 'S00325', 'S00326', 'S00327',\n",
       "       'S00328', 'S00329', 'S0033', 'S00330', 'S00331', 'S00332',\n",
       "       'S00333', 'S00334', 'S00335', 'S00336', 'S00337', 'S00338',\n",
       "       'S00339', 'S0034', 'S00340', 'S00341', 'S00342', 'S00343',\n",
       "       'S00344', 'S00345', 'S00346', 'S00347', 'S00348', 'S00349',\n",
       "       'S0035', 'S00350', 'S00351', 'S00352', 'S00353', 'S00354',\n",
       "       'S00355', 'S00356', 'S00357', 'S00358', 'S00359', 'S0036',\n",
       "       'S00360', 'S00361', 'S00362', 'S00363', 'S00364', 'S00365',\n",
       "       'S00366', 'S00367', 'S00368', 'S00369', 'S0037', 'S00370',\n",
       "       'S00371', 'S00372', 'S00373', 'S00374', 'S00375', 'S00376',\n",
       "       'S00377', 'S00378', 'S00379', 'S0038', 'S00380', 'S00381',\n",
       "       'S00382', 'S00383', 'S00384', 'S00385', 'S00386', 'S00387',\n",
       "       'S00388', 'S00389', 'S0039', 'S00390', 'S00391', 'S00392',\n",
       "       'S00393', 'S00394', 'S00395', 'S00396', 'S00397', 'S00398',\n",
       "       'S00399', 'S0040', 'S00400', 'S00401', 'S00402', 'S00403',\n",
       "       'S00404', 'S00405', 'S00406', 'S00407', 'S00408', 'S00409',\n",
       "       'S0041', 'S00410', 'S00411', 'S00412', 'S00413', 'S00414',\n",
       "       'S00415', 'S00416', 'S00417', 'S00418', 'S00419', 'S0042',\n",
       "       'S00420', 'S00421', 'S00422', 'S00423', 'S00424', 'S00425',\n",
       "       'S00426', 'S00427', 'S00428', 'S00429', 'S0043', 'S00430',\n",
       "       'S00431', 'S00432', 'S00433', 'S00434', 'S00435', 'S00436',\n",
       "       'S00437', 'S00438', 'S00439', 'S0044', 'S00440', 'S00441',\n",
       "       'S00442', 'S00443', 'S00444', 'S00445', 'S00446', 'S00447',\n",
       "       'S00448', 'S00449', 'S0045', 'S00450', 'S00451', 'S00452',\n",
       "       'S00453', 'S00454', 'S00455', 'S00456', 'S00457', 'S00458',\n",
       "       'S00459', 'S0046', 'S00460', 'S00461', 'S00462', 'S00463',\n",
       "       'S00464', 'S00465', 'S00466', 'S00467', 'S00468', 'S00469',\n",
       "       'S0047', 'S00470', 'S00471', 'S00472', 'S00473', 'S00474',\n",
       "       'S00475', 'S00476', 'S00477', 'S00478', 'S00479', 'S0048',\n",
       "       'S00480', 'S00481', 'S00482', 'S00483', 'S00484', 'S00485',\n",
       "       'S00486', 'S00487', 'S00488', 'S00489', 'S0049', 'S00490',\n",
       "       'S00491', 'S00492', 'S00493', 'S00494', 'S00495', 'S00496',\n",
       "       'S00497', 'S00498', 'S00499', 'S0050', 'S00500', 'S00501',\n",
       "       'S00502', 'S00503', 'S00504', 'S00505', 'S00506', 'S00507',\n",
       "       'S00508', 'S00509', 'S0051', 'S00510', 'S00511', 'S00512',\n",
       "       'S00513', 'S00514', 'S00515', 'S00516', 'S00517', 'S00518',\n",
       "       'S00519', 'S0052', 'S00520', 'S00521', 'S00522', 'S00523',\n",
       "       'S00524', 'S00525', 'S00526', 'S00527', 'S00528', 'S00529',\n",
       "       'S0053', 'S00530', 'S00531', 'S00532', 'S00533', 'S00534',\n",
       "       'S00535', 'S00536', 'S00537', 'S00538', 'S00539', 'S0054',\n",
       "       'S00540', 'S00541', 'S00542', 'S00543', 'S00544', 'S00545',\n",
       "       'S00546', 'S00547', 'S00548', 'S00549', 'S0055', 'S00550',\n",
       "       'S00551', 'S00552', 'S00553', 'S00554', 'S00555', 'S00556',\n",
       "       'S00557', 'S00558', 'S00559', 'S0056', 'S00560', 'S00561',\n",
       "       'S00562', 'S00563', 'S00564', 'S00565', 'S00566', 'S00567',\n",
       "       'S00568', 'S00569', 'S0057', 'S00570', 'S00571', 'S00572',\n",
       "       'S00573', 'S00574', 'S00575', 'S00576', 'S00577', 'S00578',\n",
       "       'S00579', 'S0058', 'S00580', 'S00581', 'S00582', 'S00583',\n",
       "       'S00584', 'S00585', 'S00586', 'S00587', 'S00588', 'S00589',\n",
       "       'S0059', 'S00590', 'S00591', 'S00592', 'S00593', 'S00594',\n",
       "       'S00595', 'S00596', 'S00597', 'S00598', 'S00599', 'S0060',\n",
       "       'S00600', 'S00601', 'S00602', 'S00603', 'S00604', 'S00605',\n",
       "       'S00606', 'S00607', 'S00608', 'S00609', 'S0061', 'S00610',\n",
       "       'S00611', 'S00612', 'S00613', 'S00614', 'S00615', 'S00616',\n",
       "       'S00617', 'S00618', 'S00619', 'S0062', 'S00620', 'S00621',\n",
       "       'S00622', 'S00623', 'S00624', 'S00625', 'S00626', 'S00627',\n",
       "       'S00628', 'S00629', 'S0063', 'S00630', 'S00631', 'S00632',\n",
       "       'S00633', 'S00634', 'S00635', 'S00636', 'S00637', 'S00638',\n",
       "       'S00639', 'S0064', 'S00640', 'S00641', 'S00642', 'S00643',\n",
       "       'S00644', 'S00645', 'S00646', 'S00647', 'S00648', 'S00649',\n",
       "       'S0065', 'S00650', 'S00651', 'S00652', 'S00653', 'S00654',\n",
       "       'S00655', 'S00656', 'S00657', 'S00658', 'S00659', 'S0066',\n",
       "       'S00660', 'S00661', 'S00662', 'S00663', 'S00664', 'S00665',\n",
       "       'S00666', 'S00667', 'S00668', 'S00669', 'S0067', 'S00670',\n",
       "       'S00671', 'S00672', 'S00673', 'S00674', 'S00675', 'S00676',\n",
       "       'S00677', 'S00678', 'S00679', 'S0068', 'S00680', 'S00681',\n",
       "       'S00682', 'S00683', 'S00684', 'S00685', 'S00686', 'S00687',\n",
       "       'S00688', 'S00689', 'S0069', 'S00690', 'S00691', 'S00692',\n",
       "       'S00693', 'S00694', 'S00695', 'S00696', 'S00697', 'S00698',\n",
       "       'S00699', 'S0070', 'S00700', 'S00701', 'S00702', 'S00703',\n",
       "       'S00704', 'S00705', 'S00706', 'S00707', 'S00708', 'S00709',\n",
       "       'S0071', 'S00710', 'S00711', 'S00712', 'S00713', 'S00714',\n",
       "       'S00715', 'S00716', 'S00717', 'S00718', 'S00719', 'S0072',\n",
       "       'S00720', 'S00721', 'S00722', 'S00723', 'S00724', 'S00725',\n",
       "       'S00726', 'S0073', 'S0074', 'S0075', 'S0076', 'S0077', 'S0078',\n",
       "       'S0079', 'S0080', 'S0081', 'S0082', 'S0083', 'S0084', 'S0085',\n",
       "       'S0086', 'S0087', 'S0088', 'S0089', 'S0090', 'S0091', 'S0092',\n",
       "       'S0093', 'S0094', 'S0095', 'S0096', 'S0097', 'S0098', 'S0099'],\n",
       "      dtype=object)"
      ]
     },
     "execution_count": 60,
     "metadata": {},
     "output_type": "execute_result"
    }
   ],
   "source": [
    "df_Q6['store'].unique()\n"
   ]
  },
  {
   "cell_type": "code",
   "execution_count": 66,
   "id": "b2c1efff",
   "metadata": {},
   "outputs": [
    {
     "data": {
      "text/plain": [
       "array(['Bolsius Boxmeer', 'CHROMADURLIN S.A.S', 'DENIMACH LTD',\n",
       "       'HARDFORD AB', 'BIGSO AB', 'Indo Count Industries Ltd',\n",
       "       'Friedola 1888 GmbH', 'CHERRY GROUP CO.,LTD', 'MAESA SAS',\n",
       "       'NINGBO SEDUNO IMP & EXP CO.LTD'], dtype=object)"
      ]
     },
     "execution_count": 66,
     "metadata": {},
     "output_type": "execute_result"
    }
   ],
   "source": [
    "df_Q6['supplier'].unique()"
   ]
  },
  {
   "cell_type": "code",
   "execution_count": null,
   "id": "7ff5531a",
   "metadata": {},
   "outputs": [],
   "source": [
    "\n",
    "cur = con.cursor()\n",
    "select_query = \"select  i.supplier,i.item_name,  sum(f.quantity) \\\n",
    "                from ecomdb.fact_table f\\\n",
    "                join ecomdb.item_dim i on f.item_key=i.item_key \\\n",
    "                group by (i.supplier,i.item_name,f.quantity) \\\n",
    "                order by (i.supplier,f.quantity) desc \"\n",
    "cur.execute(select_query)\n",
    "records = cur.fetchall()\n",
    "records\n",
    "\n",
    "query_6 = pd.DataFrame(list(records),columns = ['supplier','item_name','quantity'])\n",
    "query_6.head()\n",
    "\n",
    "query_6 = query_6.set_index('item_name').groupby(\"supplier\")['quantity'].nlargest(3).reset_index()\n",
    "query_6\n",
    "\n",
    "\n"
   ]
  },
  {
   "cell_type": "markdown",
   "id": "45e9a8e6",
   "metadata": {},
   "source": [
    "### Q7: What products have been sold through card or mobile since X days?\n",
    "#### input: X = 5 days\n",
    "#### output: [item1, item2, item3, ...........]"
   ]
  },
  {
   "cell_type": "code",
   "execution_count": null,
   "id": "7fb9292e",
   "metadata": {},
   "outputs": [],
   "source": [
    "# --- ============== Question 7 ==============\n",
    "# select distinct t3.item_name \n",
    "# from ecomdb_star_schema.fact_table t1 \n",
    "# join ecomdb_star_schema.trans_dim t2 on t1.payment_key = t2.payment_key\n",
    "# join ecomdb_star_schema.item_dim t3 on t1.item_key = t3.item_key\n",
    "# where t2.trans_type= 'card'or t2.trans_type= 'mobile'\n",
    " \n",
    "#  select t1.item_name from ecomdb_star_schema.item_dim t1 where item_key IN(\n",
    "# \t\tselect t2.item_key from ecomdb_star_schema.fact_table t2  where t2.payment_key IN(\n",
    "# \t\t\tselect payment_key from ecomdb_star_schema.item_dim  where trans_type = 'card' or trans_type= 'mobile'"
   ]
  },
  {
   "cell_type": "code",
   "execution_count": null,
   "id": "6b8bf80f",
   "metadata": {},
   "outputs": [],
   "source": [
    "\n",
    "x = input('enter a number : ')\n",
    "\n",
    "cur = con.cursor()\n",
    "# select_query = \n",
    "m_1 = \"select  i.item_name,\\\n",
    "                tr.trans_type,\\\n",
    "                t.date\\\n",
    "                from ecomdb.fact_table f\\\n",
    "                join ecomdb.item_dim i on f.item_key=i.item_key\\\n",
    "                join ecomdb.trans_dim tr on tr.payment_key = f.payment_key\\\n",
    "                join ecomdb.time_dim t on t.time_key = f.time_key\\\n",
    "                where tr.trans_type = 'card' and t.date > now() - interval ' \"\n",
    "       m_2 = x+\"  day'  \"\n",
    "# group by cube(i.item_name,tr.trans_type,t.date) \"\n",
    "# -- order by (i.item_name) desc \"\n",
    "cur.execute(m_1+m_2)\n",
    "records = cur.fetchall()\n",
    "records"
   ]
  },
  {
   "cell_type": "markdown",
   "id": "fc8cec37",
   "metadata": {},
   "source": [
    "###  Q8: What season(quarter) is the worst for each product item? As example,\n",
    "#### item1-> q1\n",
    "#### item2-> q2"
   ]
  },
  {
   "cell_type": "code",
   "execution_count": null,
   "id": "9ae16f06",
   "metadata": {},
   "outputs": [],
   "source": []
  },
  {
   "cell_type": "markdown",
   "id": "0026369b",
   "metadata": {},
   "source": [
    "### Q9: Break down the total sales of items geographically (division-wise).\n",
    "#### item1-> division1->total_sales\n",
    "#### item1-> division2->total_sales"
   ]
  },
  {
   "cell_type": "code",
   "execution_count": null,
   "id": "55780bfc",
   "metadata": {},
   "outputs": [],
   "source": []
  },
  {
   "cell_type": "markdown",
   "id": "59476afb",
   "metadata": {},
   "source": [
    "### Q10: What are the average sales of products sales per store monthly?\n",
    "#### S1->M1-> avg_sales\n",
    "#### s1-> M2 -> avg_sales"
   ]
  },
  {
   "cell_type": "code",
   "execution_count": null,
   "id": "036b42c6",
   "metadata": {},
   "outputs": [],
   "source": []
  },
  {
   "cell_type": "markdown",
   "id": "5e42d9e8",
   "metadata": {},
   "source": [
    "## Visualization"
   ]
  },
  {
   "cell_type": "code",
   "execution_count": null,
   "id": "0d5ebdd4",
   "metadata": {},
   "outputs": [],
   "source": []
  },
  {
   "cell_type": "code",
   "execution_count": null,
   "id": "92130656",
   "metadata": {},
   "outputs": [],
   "source": [
    "cur = con.cursor()\n",
    "select_stmt = \"SELECT s.division, SUM(t.total_price) \" \\\n",
    "              \"FROM star_schema.fact_table t \" \\\n",
    "              \"JOIN star_schema.store_dim s on s.store_key=t.store_key \" \\\n",
    "                \"JOIN star_schema.time_dim tim on tim.time_key=t.time_key \" \\\n",
    "                \"WHERE tim.month=12 \" \\\n",
    "                \"GROUP BY s.division \" \\\n",
    "                \"ORDER BY s.division\"\n",
    "cur.execute(select_stmt)\n",
    "records = cur.fetchall()\n",
    "records"
   ]
  },
  {
   "cell_type": "code",
   "execution_count": null,
   "id": "e64d9102",
   "metadata": {},
   "outputs": [],
   "source": [
    "df"
   ]
  },
  {
   "cell_type": "code",
   "execution_count": null,
   "id": "243c208c",
   "metadata": {},
   "outputs": [],
   "source": [
    "pip install matplotlib"
   ]
  },
  {
   "cell_type": "code",
   "execution_count": null,
   "id": "a86f8d40",
   "metadata": {},
   "outputs": [],
   "source": [
    "df = df.set_index(['division'])"
   ]
  },
  {
   "cell_type": "code",
   "execution_count": null,
   "id": "cf9726df",
   "metadata": {},
   "outputs": [],
   "source": [
    "df.plot.pie(y='sales', x='division', figsize=(5, 5))"
   ]
  },
  {
   "cell_type": "markdown",
   "id": "62d83a0f",
   "metadata": {},
   "source": [
    "### PANDAS Techiques:\n",
    "1. Filter\n",
    "2. Drop\n",
    "3. iloc, loc\n",
    "4. Aggregate\n",
    "5. Index\n",
    "6. Column selection, copy, crop\n",
    "7. Merge, Concate"
   ]
  },
  {
   "cell_type": "code",
   "execution_count": null,
   "id": "11488843",
   "metadata": {},
   "outputs": [],
   "source": []
  }
 ],
 "metadata": {
  "kernelspec": {
   "display_name": "Python 3",
   "language": "python",
   "name": "python3"
  },
  "language_info": {
   "codemirror_mode": {
    "name": "ipython",
    "version": 3
   },
   "file_extension": ".py",
   "mimetype": "text/x-python",
   "name": "python",
   "nbconvert_exporter": "python",
   "pygments_lexer": "ipython3",
   "version": "3.8.8"
  }
 },
 "nbformat": 4,
 "nbformat_minor": 5
}
