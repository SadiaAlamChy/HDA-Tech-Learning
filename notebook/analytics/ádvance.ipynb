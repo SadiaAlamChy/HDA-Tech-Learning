{
 "cells": [
  {
   "cell_type": "code",
   "execution_count": 132,
   "id": "b5dc09e7",
   "metadata": {},
   "outputs": [],
   "source": [
    "import psycopg2\n",
    "import pandas as pd\n",
    "import numpy as np\n",
    "import psycopg2.extras\n",
    "import matplotlib.pyplot as plt\n",
    "import matplotlib as mpl"
   ]
  },
  {
   "cell_type": "code",
   "execution_count": 163,
   "id": "7e249b50",
   "metadata": {},
   "outputs": [],
   "source": [
    "class PostgresConnection(object):\n",
    "    def __init__(self):\n",
    "        self.connection = psycopg2.connect(database=\"ecomdb\",\n",
    "                                           user = \"postgres\",\n",
    "                                           password = \"15556010\",\n",
    "                                           host = \"127.0.0.1\",\n",
    "                                           port = \"5432\")\n",
    "\n",
    "    def getConnection(self):\n",
    "        print(\"successfully connected to database\")\n",
    "        return self.connection"
   ]
  },
  {
   "cell_type": "code",
   "execution_count": 164,
   "id": "40086d22",
   "metadata": {},
   "outputs": [
    {
     "name": "stdout",
     "output_type": "stream",
     "text": [
      "successfully connected to database\n"
     ]
    }
   ],
   "source": [
    "con = PostgresConnection().getConnection()"
   ]
  },
  {
   "cell_type": "code",
   "execution_count": 174,
   "id": "91cda0c9",
   "metadata": {},
   "outputs": [
    {
     "data": {
      "text/html": [
       "<div>\n",
       "<style scoped>\n",
       "    .dataframe tbody tr th:only-of-type {\n",
       "        vertical-align: middle;\n",
       "    }\n",
       "\n",
       "    .dataframe tbody tr th {\n",
       "        vertical-align: top;\n",
       "    }\n",
       "\n",
       "    .dataframe thead th {\n",
       "        text-align: right;\n",
       "    }\n",
       "</style>\n",
       "<table border=\"1\" class=\"dataframe\">\n",
       "  <thead>\n",
       "    <tr style=\"text-align: right;\">\n",
       "      <th></th>\n",
       "      <th>year</th>\n",
       "      <th>month</th>\n",
       "      <th>item_name</th>\n",
       "      <th>SUM</th>\n",
       "    </tr>\n",
       "  </thead>\n",
       "  <tbody>\n",
       "    <tr>\n",
       "      <th>0</th>\n",
       "      <td>2020.0</td>\n",
       "      <td>NaN</td>\n",
       "      <td>100% Juice Box Variety 6.75 oz</td>\n",
       "      <td>51660.00</td>\n",
       "    </tr>\n",
       "    <tr>\n",
       "      <th>1</th>\n",
       "      <td>2021.0</td>\n",
       "      <td>NaN</td>\n",
       "      <td>100% Juice Box Variety 6.75 oz</td>\n",
       "      <td>1875.00</td>\n",
       "    </tr>\n",
       "    <tr>\n",
       "      <th>2</th>\n",
       "      <td>2020.0</td>\n",
       "      <td>1.0</td>\n",
       "      <td>100% Juice Box Variety 6.75 oz</td>\n",
       "      <td>4020.00</td>\n",
       "    </tr>\n",
       "    <tr>\n",
       "      <th>3</th>\n",
       "      <td>2017.0</td>\n",
       "      <td>10.0</td>\n",
       "      <td>100% Juice Box Variety 6.75 oz</td>\n",
       "      <td>4515.00</td>\n",
       "    </tr>\n",
       "    <tr>\n",
       "      <th>4</th>\n",
       "      <td>2016.0</td>\n",
       "      <td>9.0</td>\n",
       "      <td>100% Juice Box Variety 6.75 oz</td>\n",
       "      <td>3525.00</td>\n",
       "    </tr>\n",
       "    <tr>\n",
       "      <th>...</th>\n",
       "      <td>...</td>\n",
       "      <td>...</td>\n",
       "      <td>...</td>\n",
       "      <td>...</td>\n",
       "    </tr>\n",
       "    <tr>\n",
       "      <th>27555</th>\n",
       "      <td>2018.0</td>\n",
       "      <td>3.0</td>\n",
       "      <td>None</td>\n",
       "      <td>1252282.50</td>\n",
       "    </tr>\n",
       "    <tr>\n",
       "      <th>27556</th>\n",
       "      <td>2015.0</td>\n",
       "      <td>12.0</td>\n",
       "      <td>None</td>\n",
       "      <td>1279379.50</td>\n",
       "    </tr>\n",
       "    <tr>\n",
       "      <th>27557</th>\n",
       "      <td>2016.0</td>\n",
       "      <td>6.0</td>\n",
       "      <td>None</td>\n",
       "      <td>1193281.75</td>\n",
       "    </tr>\n",
       "    <tr>\n",
       "      <th>27558</th>\n",
       "      <td>2020.0</td>\n",
       "      <td>8.0</td>\n",
       "      <td>None</td>\n",
       "      <td>1282673.25</td>\n",
       "    </tr>\n",
       "    <tr>\n",
       "      <th>27559</th>\n",
       "      <td>2018.0</td>\n",
       "      <td>1.0</td>\n",
       "      <td>None</td>\n",
       "      <td>1292509.50</td>\n",
       "    </tr>\n",
       "  </tbody>\n",
       "</table>\n",
       "<p>27560 rows × 4 columns</p>\n",
       "</div>"
      ],
      "text/plain": [
       "         year  month                        item_name         SUM\n",
       "0      2020.0    NaN  100% Juice Box Variety 6.75 oz     51660.00\n",
       "1      2021.0    NaN  100% Juice Box Variety 6.75 oz      1875.00\n",
       "2      2020.0    1.0  100% Juice Box Variety 6.75 oz      4020.00\n",
       "3      2017.0   10.0  100% Juice Box Variety 6.75 oz      4515.00\n",
       "4      2016.0    9.0  100% Juice Box Variety 6.75 oz      3525.00\n",
       "...       ...    ...                              ...         ...\n",
       "27555  2018.0    3.0                             None  1252282.50\n",
       "27556  2015.0   12.0                             None  1279379.50\n",
       "27557  2016.0    6.0                             None  1193281.75\n",
       "27558  2020.0    8.0                             None  1282673.25\n",
       "27559  2018.0    1.0                             None  1292509.50\n",
       "\n",
       "[27560 rows x 4 columns]"
      ]
     },
     "execution_count": 174,
     "metadata": {},
     "output_type": "execute_result"
    }
   ],
   "source": [
    "cur5 = con.cursor()\n",
    "select_query5 = '''SELECT  s.year,s.month, p.item_name , SUM(t.total_price) \n",
    "                     FROM ecomdb_star_schema.fact_table t \n",
    "                  \t JOIN ecomdb_star_schema.time_dim s on s.time_key = t.time_key \n",
    "\t\t\t\t\t JOIN ecomdb_star_schema.item_dim p  on p.item_key = t.item_key \n",
    "\t\t        \t GROUP BY CUBE(s.month, s.year, p.item_name) \n",
    "                     ORDER BY p.item_name ASC;'''\n",
    "cur5.execute(select_query5)\n",
    "records5 = cur5.fetchall()\n",
    "records5\n",
    "\n",
    "query5 = pd.DataFrame(list(records5), columns=['year','month','item_name','SUM'])\n",
    "query5"
   ]
  },
  {
   "cell_type": "code",
   "execution_count": 175,
   "id": "823a1ecd",
   "metadata": {},
   "outputs": [
    {
     "data": {
      "text/html": [
       "<div>\n",
       "<style scoped>\n",
       "    .dataframe tbody tr th:only-of-type {\n",
       "        vertical-align: middle;\n",
       "    }\n",
       "\n",
       "    .dataframe tbody tr th {\n",
       "        vertical-align: top;\n",
       "    }\n",
       "\n",
       "    .dataframe thead th {\n",
       "        text-align: right;\n",
       "    }\n",
       "</style>\n",
       "<table border=\"1\" class=\"dataframe\">\n",
       "  <thead>\n",
       "    <tr style=\"text-align: right;\">\n",
       "      <th></th>\n",
       "      <th>year</th>\n",
       "      <th>month</th>\n",
       "      <th>item_name</th>\n",
       "      <th>SUM</th>\n",
       "    </tr>\n",
       "  </thead>\n",
       "  <tbody>\n",
       "    <tr>\n",
       "      <th>0</th>\n",
       "      <td>2020.0</td>\n",
       "      <td>NaN</td>\n",
       "      <td>100% Juice Box Variety 6.75 oz</td>\n",
       "      <td>51660.0</td>\n",
       "    </tr>\n",
       "    <tr>\n",
       "      <th>1</th>\n",
       "      <td>2021.0</td>\n",
       "      <td>NaN</td>\n",
       "      <td>100% Juice Box Variety 6.75 oz</td>\n",
       "      <td>1875.0</td>\n",
       "    </tr>\n",
       "    <tr>\n",
       "      <th>10</th>\n",
       "      <td>2018.0</td>\n",
       "      <td>NaN</td>\n",
       "      <td>100% Juice Box Variety 6.75 oz</td>\n",
       "      <td>51045.0</td>\n",
       "    </tr>\n",
       "    <tr>\n",
       "      <th>15</th>\n",
       "      <td>2016.0</td>\n",
       "      <td>NaN</td>\n",
       "      <td>100% Juice Box Variety 6.75 oz</td>\n",
       "      <td>51135.0</td>\n",
       "    </tr>\n",
       "    <tr>\n",
       "      <th>31</th>\n",
       "      <td>2014.0</td>\n",
       "      <td>NaN</td>\n",
       "      <td>100% Juice Box Variety 6.75 oz</td>\n",
       "      <td>49365.0</td>\n",
       "    </tr>\n",
       "    <tr>\n",
       "      <th>...</th>\n",
       "      <td>...</td>\n",
       "      <td>...</td>\n",
       "      <td>...</td>\n",
       "      <td>...</td>\n",
       "    </tr>\n",
       "    <tr>\n",
       "      <th>27385</th>\n",
       "      <td>2019.0</td>\n",
       "      <td>NaN</td>\n",
       "      <td>Zoo Animal Cookies/Crackers</td>\n",
       "      <td>44912.0</td>\n",
       "    </tr>\n",
       "    <tr>\n",
       "      <th>27410</th>\n",
       "      <td>2018.0</td>\n",
       "      <td>NaN</td>\n",
       "      <td>Zoo Animal Cookies/Crackers</td>\n",
       "      <td>43638.0</td>\n",
       "    </tr>\n",
       "    <tr>\n",
       "      <th>27425</th>\n",
       "      <td>2014.0</td>\n",
       "      <td>NaN</td>\n",
       "      <td>Zoo Animal Cookies/Crackers</td>\n",
       "      <td>43358.0</td>\n",
       "    </tr>\n",
       "    <tr>\n",
       "      <th>27426</th>\n",
       "      <td>2016.0</td>\n",
       "      <td>NaN</td>\n",
       "      <td>Zoo Animal Cookies/Crackers</td>\n",
       "      <td>46914.0</td>\n",
       "    </tr>\n",
       "    <tr>\n",
       "      <th>27430</th>\n",
       "      <td>2020.0</td>\n",
       "      <td>NaN</td>\n",
       "      <td>Zoo Animal Cookies/Crackers</td>\n",
       "      <td>43498.0</td>\n",
       "    </tr>\n",
       "  </tbody>\n",
       "</table>\n",
       "<p>2072 rows × 4 columns</p>\n",
       "</div>"
      ],
      "text/plain": [
       "         year  month                        item_name      SUM\n",
       "0      2020.0    NaN  100% Juice Box Variety 6.75 oz   51660.0\n",
       "1      2021.0    NaN  100% Juice Box Variety 6.75 oz    1875.0\n",
       "10     2018.0    NaN  100% Juice Box Variety 6.75 oz   51045.0\n",
       "15     2016.0    NaN  100% Juice Box Variety 6.75 oz   51135.0\n",
       "31     2014.0    NaN  100% Juice Box Variety 6.75 oz   49365.0\n",
       "...       ...    ...                              ...      ...\n",
       "27385  2019.0    NaN      Zoo Animal Cookies/Crackers  44912.0\n",
       "27410  2018.0    NaN      Zoo Animal Cookies/Crackers  43638.0\n",
       "27425  2014.0    NaN      Zoo Animal Cookies/Crackers  43358.0\n",
       "27426  2016.0    NaN      Zoo Animal Cookies/Crackers  46914.0\n",
       "27430  2020.0    NaN      Zoo Animal Cookies/Crackers  43498.0\n",
       "\n",
       "[2072 rows x 4 columns]"
      ]
     },
     "execution_count": 175,
     "metadata": {},
     "output_type": "execute_result"
    }
   ],
   "source": [
    "df =  query5[ (query5['month'].isna() == True) & (query5['item_name'].isna() == False) & (query5['year'].isna() == False)  ]\n",
    "df "
   ]
  },
  {
   "cell_type": "code",
   "execution_count": 176,
   "id": "056c27e6",
   "metadata": {},
   "outputs": [
    {
     "data": {
      "text/html": [
       "<div>\n",
       "<style scoped>\n",
       "    .dataframe tbody tr th:only-of-type {\n",
       "        vertical-align: middle;\n",
       "    }\n",
       "\n",
       "    .dataframe tbody tr th {\n",
       "        vertical-align: top;\n",
       "    }\n",
       "\n",
       "    .dataframe thead th {\n",
       "        text-align: right;\n",
       "    }\n",
       "</style>\n",
       "<table border=\"1\" class=\"dataframe\">\n",
       "  <thead>\n",
       "    <tr style=\"text-align: right;\">\n",
       "      <th></th>\n",
       "      <th>year</th>\n",
       "      <th>month</th>\n",
       "      <th>item_name</th>\n",
       "      <th>SUM</th>\n",
       "    </tr>\n",
       "  </thead>\n",
       "  <tbody>\n",
       "    <tr>\n",
       "      <th>27359</th>\n",
       "      <td>2021.0</td>\n",
       "      <td>NaN</td>\n",
       "      <td>Zoo Animal Cookies/Crackers</td>\n",
       "      <td>2898.0</td>\n",
       "    </tr>\n",
       "    <tr>\n",
       "      <th>27369</th>\n",
       "      <td>2015.0</td>\n",
       "      <td>NaN</td>\n",
       "      <td>Zoo Animal Cookies/Crackers</td>\n",
       "      <td>42000.0</td>\n",
       "    </tr>\n",
       "    <tr>\n",
       "      <th>27373</th>\n",
       "      <td>2017.0</td>\n",
       "      <td>NaN</td>\n",
       "      <td>Zoo Animal Cookies/Crackers</td>\n",
       "      <td>43456.0</td>\n",
       "    </tr>\n",
       "    <tr>\n",
       "      <th>27385</th>\n",
       "      <td>2019.0</td>\n",
       "      <td>NaN</td>\n",
       "      <td>Zoo Animal Cookies/Crackers</td>\n",
       "      <td>44912.0</td>\n",
       "    </tr>\n",
       "    <tr>\n",
       "      <th>27410</th>\n",
       "      <td>2018.0</td>\n",
       "      <td>NaN</td>\n",
       "      <td>Zoo Animal Cookies/Crackers</td>\n",
       "      <td>43638.0</td>\n",
       "    </tr>\n",
       "    <tr>\n",
       "      <th>27425</th>\n",
       "      <td>2014.0</td>\n",
       "      <td>NaN</td>\n",
       "      <td>Zoo Animal Cookies/Crackers</td>\n",
       "      <td>43358.0</td>\n",
       "    </tr>\n",
       "    <tr>\n",
       "      <th>27426</th>\n",
       "      <td>2016.0</td>\n",
       "      <td>NaN</td>\n",
       "      <td>Zoo Animal Cookies/Crackers</td>\n",
       "      <td>46914.0</td>\n",
       "    </tr>\n",
       "    <tr>\n",
       "      <th>27430</th>\n",
       "      <td>2020.0</td>\n",
       "      <td>NaN</td>\n",
       "      <td>Zoo Animal Cookies/Crackers</td>\n",
       "      <td>43498.0</td>\n",
       "    </tr>\n",
       "  </tbody>\n",
       "</table>\n",
       "</div>"
      ],
      "text/plain": [
       "         year  month                    item_name      SUM\n",
       "27359  2021.0    NaN  Zoo Animal Cookies/Crackers   2898.0\n",
       "27369  2015.0    NaN  Zoo Animal Cookies/Crackers  42000.0\n",
       "27373  2017.0    NaN  Zoo Animal Cookies/Crackers  43456.0\n",
       "27385  2019.0    NaN  Zoo Animal Cookies/Crackers  44912.0\n",
       "27410  2018.0    NaN  Zoo Animal Cookies/Crackers  43638.0\n",
       "27425  2014.0    NaN  Zoo Animal Cookies/Crackers  43358.0\n",
       "27426  2016.0    NaN  Zoo Animal Cookies/Crackers  46914.0\n",
       "27430  2020.0    NaN  Zoo Animal Cookies/Crackers  43498.0"
      ]
     },
     "execution_count": 176,
     "metadata": {},
     "output_type": "execute_result"
    }
   ],
   "source": [
    "df = df [ ( df['item_name'] == 'Zoo Animal Cookies/Crackers' )]\n",
    "df"
   ]
  },
  {
   "cell_type": "code",
   "execution_count": 178,
   "id": "7da50f01",
   "metadata": {},
   "outputs": [
    {
     "data": {
      "text/html": [
       "<div>\n",
       "<style scoped>\n",
       "    .dataframe tbody tr th:only-of-type {\n",
       "        vertical-align: middle;\n",
       "    }\n",
       "\n",
       "    .dataframe tbody tr th {\n",
       "        vertical-align: top;\n",
       "    }\n",
       "\n",
       "    .dataframe thead th {\n",
       "        text-align: right;\n",
       "    }\n",
       "</style>\n",
       "<table border=\"1\" class=\"dataframe\">\n",
       "  <thead>\n",
       "    <tr style=\"text-align: right;\">\n",
       "      <th></th>\n",
       "      <th>year</th>\n",
       "      <th>item_name</th>\n",
       "      <th>SUM</th>\n",
       "    </tr>\n",
       "  </thead>\n",
       "  <tbody>\n",
       "    <tr>\n",
       "      <th>27425</th>\n",
       "      <td>2014.0</td>\n",
       "      <td>Zoo Animal Cookies/Crackers</td>\n",
       "      <td>43358.0</td>\n",
       "    </tr>\n",
       "    <tr>\n",
       "      <th>27369</th>\n",
       "      <td>2015.0</td>\n",
       "      <td>Zoo Animal Cookies/Crackers</td>\n",
       "      <td>42000.0</td>\n",
       "    </tr>\n",
       "    <tr>\n",
       "      <th>27426</th>\n",
       "      <td>2016.0</td>\n",
       "      <td>Zoo Animal Cookies/Crackers</td>\n",
       "      <td>46914.0</td>\n",
       "    </tr>\n",
       "    <tr>\n",
       "      <th>27373</th>\n",
       "      <td>2017.0</td>\n",
       "      <td>Zoo Animal Cookies/Crackers</td>\n",
       "      <td>43456.0</td>\n",
       "    </tr>\n",
       "    <tr>\n",
       "      <th>27410</th>\n",
       "      <td>2018.0</td>\n",
       "      <td>Zoo Animal Cookies/Crackers</td>\n",
       "      <td>43638.0</td>\n",
       "    </tr>\n",
       "    <tr>\n",
       "      <th>27385</th>\n",
       "      <td>2019.0</td>\n",
       "      <td>Zoo Animal Cookies/Crackers</td>\n",
       "      <td>44912.0</td>\n",
       "    </tr>\n",
       "    <tr>\n",
       "      <th>27430</th>\n",
       "      <td>2020.0</td>\n",
       "      <td>Zoo Animal Cookies/Crackers</td>\n",
       "      <td>43498.0</td>\n",
       "    </tr>\n",
       "    <tr>\n",
       "      <th>27359</th>\n",
       "      <td>2021.0</td>\n",
       "      <td>Zoo Animal Cookies/Crackers</td>\n",
       "      <td>2898.0</td>\n",
       "    </tr>\n",
       "  </tbody>\n",
       "</table>\n",
       "</div>"
      ],
      "text/plain": [
       "         year                    item_name      SUM\n",
       "27425  2014.0  Zoo Animal Cookies/Crackers  43358.0\n",
       "27369  2015.0  Zoo Animal Cookies/Crackers  42000.0\n",
       "27426  2016.0  Zoo Animal Cookies/Crackers  46914.0\n",
       "27373  2017.0  Zoo Animal Cookies/Crackers  43456.0\n",
       "27410  2018.0  Zoo Animal Cookies/Crackers  43638.0\n",
       "27385  2019.0  Zoo Animal Cookies/Crackers  44912.0\n",
       "27430  2020.0  Zoo Animal Cookies/Crackers  43498.0\n",
       "27359  2021.0  Zoo Animal Cookies/Crackers   2898.0"
      ]
     },
     "execution_count": 178,
     "metadata": {},
     "output_type": "execute_result"
    }
   ],
   "source": [
    "df = df.sort_values(by=['year'])\n",
    "df = df.drop(columns=['month'])\n",
    "df"
   ]
  },
  {
   "cell_type": "code",
   "execution_count": 88,
   "id": "d234e9b8",
   "metadata": {},
   "outputs": [
    {
     "name": "stdout",
     "output_type": "stream",
     "text": [
      "         year      SUM\n",
      "27425  2014.0  43358.0\n",
      "27369  2015.0  42000.0\n",
      "27426  2016.0  46914.0\n",
      "27373  2017.0  43456.0\n",
      "27410  2018.0  43638.0\n",
      "----------INFO-----------------\n",
      "<class 'pandas.core.frame.DataFrame'>\n",
      "Int64Index: 8 entries, 27425 to 27359\n",
      "Data columns (total 2 columns):\n",
      " #   Column  Non-Null Count  Dtype  \n",
      "---  ------  --------------  -----  \n",
      " 0   year    8 non-null      float64\n",
      " 1   SUM     8 non-null      float64\n",
      "dtypes: float64(2)\n",
      "memory usage: 192.0 bytes\n",
      "None\n",
      "----------Describe-------------\n",
      "             year           SUM\n",
      "count     8.00000      8.000000\n",
      "mean   2017.50000  38834.250000\n",
      "std       2.44949  14591.136779\n",
      "min    2014.00000   2898.000000\n",
      "25%    2015.75000  43018.500000\n",
      "50%    2017.50000  43477.000000\n",
      "75%    2019.25000  43956.500000\n",
      "max    2021.00000  46914.000000\n",
      "----------Columns--------------\n",
      "Index(['year', 'SUM'], dtype='object')\n",
      "----------Data Types-----------\n",
      "year    float64\n",
      "SUM     float64\n",
      "dtype: object\n",
      "-------Missing Values----------\n",
      "year    0\n",
      "SUM     0\n",
      "dtype: int64\n",
      "-------NULL values-------------\n",
      "year    0\n",
      "SUM     0\n",
      "dtype: int64\n",
      "-----Shape Of Data-------------\n",
      "(8, 2)\n"
     ]
    }
   ],
   "source": [
    "    print(df.head(5))\n",
    "    print(\"----------INFO-----------------\")\n",
    "    print(df.info())\n",
    "    print(\"----------Describe-------------\")\n",
    "    print(df.describe())\n",
    "    print(\"----------Columns--------------\")\n",
    "    print(df.columns)\n",
    "    print(\"----------Data Types-----------\")\n",
    "    print(df.dtypes)\n",
    "    print(\"-------Missing Values----------\")\n",
    "    print(df.isnull().sum())\n",
    "    print(\"-------NULL values-------------\")\n",
    "    print(df.isna().sum())\n",
    "    print(\"-----Shape Of Data-------------\")\n",
    "    print(df.shape)"
   ]
  },
  {
   "cell_type": "code",
   "execution_count": 68,
   "id": "9a1e4475",
   "metadata": {},
   "outputs": [
    {
     "name": "stdout",
     "output_type": "stream",
     "text": [
      "Requirement already satisfied: sklearn in c:\\users\\user\\vintern\\hda-tech-learning\\notebook\\env\\lib\\site-packages (0.0)\n",
      "Requirement already satisfied: scikit-learn in c:\\users\\user\\vintern\\hda-tech-learning\\notebook\\env\\lib\\site-packages (from sklearn) (1.0.2)\n",
      "Requirement already satisfied: threadpoolctl>=2.0.0 in c:\\users\\user\\vintern\\hda-tech-learning\\notebook\\env\\lib\\site-packages (from scikit-learn->sklearn) (3.1.0)\n",
      "Requirement already satisfied: scipy>=1.1.0 in c:\\users\\user\\vintern\\hda-tech-learning\\notebook\\env\\lib\\site-packages (from scikit-learn->sklearn) (1.8.0)\n",
      "Requirement already satisfied: numpy>=1.14.6 in c:\\users\\user\\vintern\\hda-tech-learning\\notebook\\env\\lib\\site-packages (from scikit-learn->sklearn) (1.22.2)\n",
      "Requirement already satisfied: joblib>=0.11 in c:\\users\\user\\vintern\\hda-tech-learning\\notebook\\env\\lib\\site-packages (from scikit-learn->sklearn) (1.1.0)\n",
      "Note: you may need to restart the kernel to use updated packages.\n"
     ]
    },
    {
     "name": "stderr",
     "output_type": "stream",
     "text": [
      "WARNING: You are using pip version 21.1.3; however, version 22.0.3 is available.\n",
      "You should consider upgrading via the 'c:\\users\\user\\vintern\\hda-tech-learning\\notebook\\env\\scripts\\python.exe -m pip install --upgrade pip' command.\n"
     ]
    }
   ],
   "source": [
    "pip install sklearn"
   ]
  },
  {
   "cell_type": "code",
   "execution_count": 110,
   "id": "5c884aa7",
   "metadata": {},
   "outputs": [],
   "source": [
    "from sklearn.linear_model import LinearRegression\n",
    "from sklearn.model_selection import train_test_split"
   ]
  },
  {
   "cell_type": "code",
   "execution_count": 179,
   "id": "6daf3540",
   "metadata": {},
   "outputs": [
    {
     "data": {
      "text/html": [
       "<div>\n",
       "<style scoped>\n",
       "    .dataframe tbody tr th:only-of-type {\n",
       "        vertical-align: middle;\n",
       "    }\n",
       "\n",
       "    .dataframe tbody tr th {\n",
       "        vertical-align: top;\n",
       "    }\n",
       "\n",
       "    .dataframe thead th {\n",
       "        text-align: right;\n",
       "    }\n",
       "</style>\n",
       "<table border=\"1\" class=\"dataframe\">\n",
       "  <thead>\n",
       "    <tr style=\"text-align: right;\">\n",
       "      <th></th>\n",
       "      <th>year</th>\n",
       "      <th>SUM</th>\n",
       "    </tr>\n",
       "  </thead>\n",
       "  <tbody>\n",
       "    <tr>\n",
       "      <th>27425</th>\n",
       "      <td>2014.0</td>\n",
       "      <td>43358.0</td>\n",
       "    </tr>\n",
       "    <tr>\n",
       "      <th>27369</th>\n",
       "      <td>2015.0</td>\n",
       "      <td>42000.0</td>\n",
       "    </tr>\n",
       "    <tr>\n",
       "      <th>27426</th>\n",
       "      <td>2016.0</td>\n",
       "      <td>46914.0</td>\n",
       "    </tr>\n",
       "    <tr>\n",
       "      <th>27373</th>\n",
       "      <td>2017.0</td>\n",
       "      <td>43456.0</td>\n",
       "    </tr>\n",
       "    <tr>\n",
       "      <th>27410</th>\n",
       "      <td>2018.0</td>\n",
       "      <td>43638.0</td>\n",
       "    </tr>\n",
       "    <tr>\n",
       "      <th>27385</th>\n",
       "      <td>2019.0</td>\n",
       "      <td>44912.0</td>\n",
       "    </tr>\n",
       "    <tr>\n",
       "      <th>27430</th>\n",
       "      <td>2020.0</td>\n",
       "      <td>43498.0</td>\n",
       "    </tr>\n",
       "    <tr>\n",
       "      <th>27359</th>\n",
       "      <td>2021.0</td>\n",
       "      <td>2898.0</td>\n",
       "    </tr>\n",
       "  </tbody>\n",
       "</table>\n",
       "</div>"
      ],
      "text/plain": [
       "         year      SUM\n",
       "27425  2014.0  43358.0\n",
       "27369  2015.0  42000.0\n",
       "27426  2016.0  46914.0\n",
       "27373  2017.0  43456.0\n",
       "27410  2018.0  43638.0\n",
       "27385  2019.0  44912.0\n",
       "27430  2020.0  43498.0\n",
       "27359  2021.0   2898.0"
      ]
     },
     "execution_count": 179,
     "metadata": {},
     "output_type": "execute_result"
    }
   ],
   "source": [
    "df1 = df[['year', 'SUM']]\n",
    "df1"
   ]
  },
  {
   "cell_type": "code",
   "execution_count": 118,
   "id": "742aecdc",
   "metadata": {},
   "outputs": [],
   "source": [
    "train = df1\n",
    "test = df1"
   ]
  },
  {
   "cell_type": "code",
   "execution_count": 119,
   "id": "348e6d69",
   "metadata": {},
   "outputs": [],
   "source": [
    "x_train,x_test,y_train,y_test = train_test_split(train,test,test_size= .3,random_state = 2)"
   ]
  },
  {
   "cell_type": "code",
   "execution_count": 120,
   "id": "357bb1b8",
   "metadata": {},
   "outputs": [],
   "source": [
    "reg = LinearRegression()"
   ]
  },
  {
   "cell_type": "code",
   "execution_count": 121,
   "id": "b50d6027",
   "metadata": {},
   "outputs": [
    {
     "data": {
      "text/plain": [
       "LinearRegression()"
      ]
     },
     "execution_count": 121,
     "metadata": {},
     "output_type": "execute_result"
    }
   ],
   "source": [
    "reg.fit(x_train,y_train)"
   ]
  },
  {
   "cell_type": "code",
   "execution_count": 141,
   "id": "dc3fc322",
   "metadata": {},
   "outputs": [],
   "source": [
    "predict1 = reg.predict(x_test)"
   ]
  },
  {
   "cell_type": "code",
   "execution_count": 184,
   "id": "76b8a9c2",
   "metadata": {},
   "outputs": [
    {
     "data": {
      "text/html": [
       "<div>\n",
       "<style scoped>\n",
       "    .dataframe tbody tr th:only-of-type {\n",
       "        vertical-align: middle;\n",
       "    }\n",
       "\n",
       "    .dataframe tbody tr th {\n",
       "        vertical-align: top;\n",
       "    }\n",
       "\n",
       "    .dataframe thead th {\n",
       "        text-align: right;\n",
       "    }\n",
       "</style>\n",
       "<table border=\"1\" class=\"dataframe\">\n",
       "  <thead>\n",
       "    <tr style=\"text-align: right;\">\n",
       "      <th></th>\n",
       "      <th>year</th>\n",
       "      <th>total_sell</th>\n",
       "    </tr>\n",
       "  </thead>\n",
       "  <tbody>\n",
       "    <tr>\n",
       "      <th>1</th>\n",
       "      <td>2015.0</td>\n",
       "      <td>42000.0</td>\n",
       "    </tr>\n",
       "    <tr>\n",
       "      <th>0</th>\n",
       "      <td>2018.0</td>\n",
       "      <td>43638.0</td>\n",
       "    </tr>\n",
       "    <tr>\n",
       "      <th>2</th>\n",
       "      <td>2020.0</td>\n",
       "      <td>43498.0</td>\n",
       "    </tr>\n",
       "  </tbody>\n",
       "</table>\n",
       "</div>"
      ],
      "text/plain": [
       "     year  total_sell\n",
       "1  2015.0     42000.0\n",
       "0  2018.0     43638.0\n",
       "2  2020.0     43498.0"
      ]
     },
     "execution_count": 184,
     "metadata": {},
     "output_type": "execute_result"
    }
   ],
   "source": [
    "df4= pd.DataFrame(predict1, columns=['year','total_sell'])\n",
    "df4 = df4.sort_values(by=['year'])\n",
    "df4"
   ]
  },
  {
   "cell_type": "code",
   "execution_count": 146,
   "id": "5d0b9986",
   "metadata": {},
   "outputs": [
    {
     "data": {
      "text/plain": [
       "1.0"
      ]
     },
     "execution_count": 146,
     "metadata": {},
     "output_type": "execute_result"
    }
   ],
   "source": [
    "reg.score(x_test,y_test)"
   ]
  },
  {
   "cell_type": "code",
   "execution_count": 185,
   "id": "d0ffb68a",
   "metadata": {},
   "outputs": [
    {
     "name": "stderr",
     "output_type": "stream",
     "text": [
      "No artists with labels found to put in legend.  Note that artists whose label start with an underscore are ignored when legend() is called with no argument.\n"
     ]
    },
    {
     "data": {
      "image/png": "[encoded data removed]",
      "text/plain": [
       "<Figure size 432x288 with 1 Axes>"
      ]
     },
     "metadata": {
      "needs_background": "light"
     },
     "output_type": "display_data"
    }
   ],
   "source": [
    "plt.plot(df4['year'],df4['total_sell'],color='red')\n",
    "plt.scatter(df1['year'],df1['SUM'], c = 'green')\n",
    "plt.legend()\n",
    "plt.show()"
   ]
  },
  {
   "cell_type": "code",
   "execution_count": null,
   "id": "ffb858f2",
   "metadata": {},
   "outputs": [],
   "source": []
  },
  {
   "cell_type": "code",
   "execution_count": null,
   "id": "88e451f8",
   "metadata": {},
   "outputs": [],
   "source": []
  }
 ],
 "metadata": {
  "kernelspec": {
   "display_name": "Python 3 (ipykernel)",
   "language": "python",
   "name": "python3"
  },
  "language_info": {
   "codemirror_mode": {
    "name": "ipython",
    "version": 3
   },
   "file_extension": ".py",
   "mimetype": "text/x-python",
   "name": "python",
   "nbconvert_exporter": "python",
   "pygments_lexer": "ipython3",
   "version": "3.9.6"
  }
 },
 "nbformat": 4,
 "nbformat_minor": 5
}
