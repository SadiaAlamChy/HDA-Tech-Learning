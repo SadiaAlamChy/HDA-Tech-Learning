{
 "cells": [
  {
   "cell_type": "code",
   "execution_count": 29,
   "id": "ac663bc7",
   "metadata": {},
   "outputs": [
    {
     "name": "stdout",
     "output_type": "stream",
     "text": [
      "Collecting statsmodelsNote: you may need to restart the kernel to use updated packages.\n",
      "  Downloading statsmodels-0.13.2-cp310-cp310-win_amd64.whl (9.1 MB)\n",
      "     ---------------------------------------- 9.1/9.1 MB 2.6 MB/s eta 0:00:00\n",
      "Installing collected packages: statsmodels\n",
      "Successfully installed statsmodels-0.13.2\n",
      "\n"
     ]
    }
   ],
   "source": [
    "pip install --upgrade --no-deps statsmodels"
   ]
  },
  {
   "cell_type": "code",
   "execution_count": 31,
   "id": "83d4ce5d",
   "metadata": {},
   "outputs": [
    {
     "name": "stdout",
     "output_type": "stream",
     "text": [
      "Collecting patsyNote: you may need to restart the kernel to use updated packages.\n",
      "  Downloading patsy-0.5.2-py2.py3-none-any.whl (233 kB)\n",
      "     -------------------------------------- 233.7/233.7 KB 1.1 MB/s eta 0:00:00\n",
      "Requirement already satisfied: numpy>=1.4 in c:\\users\\nayan\\desktop\\myenv\\lib\\site-packages (from patsy) (1.22.2)\n",
      "Requirement already satisfied: six in c:\\users\\nayan\\desktop\\myenv\\lib\\site-packages (from patsy) (1.16.0)\n",
      "Installing collected packages: patsy\n",
      "Successfully installed patsy-0.5.2\n",
      "\n"
     ]
    }
   ],
   "source": [
    "pip install patsy"
   ]
  },
  {
   "cell_type": "code",
   "execution_count": 1,
   "id": "1c919317",
   "metadata": {},
   "outputs": [],
   "source": [
    "import numpy as np\n",
    "import pandas as pd\n",
    "import matplotlib.pyplot as plt\n",
    "import psycopg2.extras"
   ]
  },
  {
   "cell_type": "code",
   "execution_count": 2,
   "id": "99881c8a",
   "metadata": {},
   "outputs": [
    {
     "name": "stdout",
     "output_type": "stream",
     "text": [
      "Successfully connected to the database\n"
     ]
    }
   ],
   "source": [
    "class PostgresConnection(object):\n",
    "    def __init__(self):\n",
    "        self.connection = psycopg2.connect(database = \"ecomdb\",\n",
    "                                                  user = \"postgres\",\n",
    "                                                  password = \"sultanmahmud22\",\n",
    "                                                  host = \"127.0.0.1\",\n",
    "                                                  port= \"5432\")\n",
    "    def getConnection(self):\n",
    "        print(\"Successfully connected to the database\")\n",
    "        return self.connection\n",
    "con = PostgresConnection().getConnection()"
   ]
  },
  {
   "cell_type": "code",
   "execution_count": 3,
   "id": "f4dc6059",
   "metadata": {},
   "outputs": [
    {
     "data": {
      "text/html": [
       "<div>\n",
       "<style scoped>\n",
       "    .dataframe tbody tr th:only-of-type {\n",
       "        vertical-align: middle;\n",
       "    }\n",
       "\n",
       "    .dataframe tbody tr th {\n",
       "        vertical-align: top;\n",
       "    }\n",
       "\n",
       "    .dataframe thead th {\n",
       "        text-align: right;\n",
       "    }\n",
       "</style>\n",
       "<table border=\"1\" class=\"dataframe\">\n",
       "  <thead>\n",
       "    <tr style=\"text-align: right;\">\n",
       "      <th></th>\n",
       "      <th>Division</th>\n",
       "      <th>Month</th>\n",
       "      <th>Sales</th>\n",
       "    </tr>\n",
       "  </thead>\n",
       "  <tbody>\n",
       "    <tr>\n",
       "      <th>1</th>\n",
       "      <td>DHAKA</td>\n",
       "      <td>11.0</td>\n",
       "      <td>3343397.00</td>\n",
       "    </tr>\n",
       "    <tr>\n",
       "      <th>2</th>\n",
       "      <td>SYLHET</td>\n",
       "      <td>1.0</td>\n",
       "      <td>485369.75</td>\n",
       "    </tr>\n",
       "    <tr>\n",
       "      <th>3</th>\n",
       "      <td>CHITTAGONG</td>\n",
       "      <td>8.0</td>\n",
       "      <td>1667686.75</td>\n",
       "    </tr>\n",
       "    <tr>\n",
       "      <th>4</th>\n",
       "      <td>CHITTAGONG</td>\n",
       "      <td>11.0</td>\n",
       "      <td>1640113.75</td>\n",
       "    </tr>\n",
       "    <tr>\n",
       "      <th>5</th>\n",
       "      <td>RAJSHAHI</td>\n",
       "      <td>3.0</td>\n",
       "      <td>1002924.25</td>\n",
       "    </tr>\n",
       "    <tr>\n",
       "      <th>...</th>\n",
       "      <td>...</td>\n",
       "      <td>...</td>\n",
       "      <td>...</td>\n",
       "    </tr>\n",
       "    <tr>\n",
       "      <th>80</th>\n",
       "      <td>RAJSHAHI</td>\n",
       "      <td>10.0</td>\n",
       "      <td>1034440.50</td>\n",
       "    </tr>\n",
       "    <tr>\n",
       "      <th>81</th>\n",
       "      <td>BARISAL</td>\n",
       "      <td>2.0</td>\n",
       "      <td>582863.00</td>\n",
       "    </tr>\n",
       "    <tr>\n",
       "      <th>82</th>\n",
       "      <td>SYLHET</td>\n",
       "      <td>5.0</td>\n",
       "      <td>479031.75</td>\n",
       "    </tr>\n",
       "    <tr>\n",
       "      <th>83</th>\n",
       "      <td>CHITTAGONG</td>\n",
       "      <td>9.0</td>\n",
       "      <td>1627565.25</td>\n",
       "    </tr>\n",
       "    <tr>\n",
       "      <th>84</th>\n",
       "      <td>CHITTAGONG</td>\n",
       "      <td>7.0</td>\n",
       "      <td>1712954.25</td>\n",
       "    </tr>\n",
       "  </tbody>\n",
       "</table>\n",
       "<p>84 rows × 3 columns</p>\n",
       "</div>"
      ],
      "text/plain": [
       "      Division  Month       Sales\n",
       "1        DHAKA   11.0  3343397.00\n",
       "2       SYLHET    1.0   485369.75\n",
       "3   CHITTAGONG    8.0  1667686.75\n",
       "4   CHITTAGONG   11.0  1640113.75\n",
       "5     RAJSHAHI    3.0  1002924.25\n",
       "..         ...    ...         ...\n",
       "80    RAJSHAHI   10.0  1034440.50\n",
       "81     BARISAL    2.0   582863.00\n",
       "82      SYLHET    5.0   479031.75\n",
       "83  CHITTAGONG    9.0  1627565.25\n",
       "84  CHITTAGONG    7.0  1712954.25\n",
       "\n",
       "[84 rows x 3 columns]"
      ]
     },
     "execution_count": 3,
     "metadata": {},
     "output_type": "execute_result"
    }
   ],
   "source": [
    "cur = con.cursor()\n",
    "select_stmt = \"SELECT s.division, tim.month,  SUM(t.total_price) \" \\\n",
    "\"FROM star_schema.fact_table t  \" \\\n",
    "\"JOIN star_schema.store_dim s on s.store_key = t.store_key \" \\\n",
    "\"JOIN star_schema.time_dim tim on tim.time_key = t.time_key \" \\\n",
    "\"GROUP BY CUBE(s.division, tim.month) \" \n",
    "cur.execute(select_stmt)\n",
    "records = cur.fetchall()\n",
    "records\n",
    "\n",
    "df = pd.DataFrame(list(records), columns = ['Division','Month', 'Sales'])\n",
    "df = df.dropna()\n",
    "df"
   ]
  },
  {
   "cell_type": "code",
   "execution_count": 4,
   "id": "799064c1",
   "metadata": {},
   "outputs": [],
   "source": [
    "df = df.iloc[:, :].values"
   ]
  },
  {
   "cell_type": "code",
   "execution_count": 5,
   "id": "4ae938a0",
   "metadata": {},
   "outputs": [],
   "source": [
    "from sklearn.preprocessing import LabelEncoder\n",
    "division=LabelEncoder()\n",
    "df[:,0]=division.fit_transform(df[:,0])"
   ]
  },
  {
   "cell_type": "code",
   "execution_count": 6,
   "id": "d5f09a4a",
   "metadata": {},
   "outputs": [
    {
     "data": {
      "text/html": [
       "<div>\n",
       "<style scoped>\n",
       "    .dataframe tbody tr th:only-of-type {\n",
       "        vertical-align: middle;\n",
       "    }\n",
       "\n",
       "    .dataframe tbody tr th {\n",
       "        vertical-align: top;\n",
       "    }\n",
       "\n",
       "    .dataframe thead th {\n",
       "        text-align: right;\n",
       "    }\n",
       "</style>\n",
       "<table border=\"1\" class=\"dataframe\">\n",
       "  <thead>\n",
       "    <tr style=\"text-align: right;\">\n",
       "      <th></th>\n",
       "      <th>0</th>\n",
       "      <th>1</th>\n",
       "      <th>2</th>\n",
       "      <th>3</th>\n",
       "      <th>4</th>\n",
       "      <th>5</th>\n",
       "      <th>6</th>\n",
       "      <th>7</th>\n",
       "      <th>8</th>\n",
       "    </tr>\n",
       "  </thead>\n",
       "  <tbody>\n",
       "    <tr>\n",
       "      <th>0</th>\n",
       "      <td>0.0</td>\n",
       "      <td>0.0</td>\n",
       "      <td>1.0</td>\n",
       "      <td>0.0</td>\n",
       "      <td>0.0</td>\n",
       "      <td>0.0</td>\n",
       "      <td>0.0</td>\n",
       "      <td>11.0</td>\n",
       "      <td>3343397.00</td>\n",
       "    </tr>\n",
       "    <tr>\n",
       "      <th>1</th>\n",
       "      <td>0.0</td>\n",
       "      <td>0.0</td>\n",
       "      <td>0.0</td>\n",
       "      <td>0.0</td>\n",
       "      <td>0.0</td>\n",
       "      <td>0.0</td>\n",
       "      <td>1.0</td>\n",
       "      <td>1.0</td>\n",
       "      <td>485369.75</td>\n",
       "    </tr>\n",
       "    <tr>\n",
       "      <th>2</th>\n",
       "      <td>0.0</td>\n",
       "      <td>1.0</td>\n",
       "      <td>0.0</td>\n",
       "      <td>0.0</td>\n",
       "      <td>0.0</td>\n",
       "      <td>0.0</td>\n",
       "      <td>0.0</td>\n",
       "      <td>8.0</td>\n",
       "      <td>1667686.75</td>\n",
       "    </tr>\n",
       "    <tr>\n",
       "      <th>3</th>\n",
       "      <td>0.0</td>\n",
       "      <td>1.0</td>\n",
       "      <td>0.0</td>\n",
       "      <td>0.0</td>\n",
       "      <td>0.0</td>\n",
       "      <td>0.0</td>\n",
       "      <td>0.0</td>\n",
       "      <td>11.0</td>\n",
       "      <td>1640113.75</td>\n",
       "    </tr>\n",
       "    <tr>\n",
       "      <th>4</th>\n",
       "      <td>0.0</td>\n",
       "      <td>0.0</td>\n",
       "      <td>0.0</td>\n",
       "      <td>0.0</td>\n",
       "      <td>1.0</td>\n",
       "      <td>0.0</td>\n",
       "      <td>0.0</td>\n",
       "      <td>3.0</td>\n",
       "      <td>1002924.25</td>\n",
       "    </tr>\n",
       "    <tr>\n",
       "      <th>...</th>\n",
       "      <td>...</td>\n",
       "      <td>...</td>\n",
       "      <td>...</td>\n",
       "      <td>...</td>\n",
       "      <td>...</td>\n",
       "      <td>...</td>\n",
       "      <td>...</td>\n",
       "      <td>...</td>\n",
       "      <td>...</td>\n",
       "    </tr>\n",
       "    <tr>\n",
       "      <th>79</th>\n",
       "      <td>0.0</td>\n",
       "      <td>0.0</td>\n",
       "      <td>0.0</td>\n",
       "      <td>0.0</td>\n",
       "      <td>1.0</td>\n",
       "      <td>0.0</td>\n",
       "      <td>0.0</td>\n",
       "      <td>10.0</td>\n",
       "      <td>1034440.50</td>\n",
       "    </tr>\n",
       "    <tr>\n",
       "      <th>80</th>\n",
       "      <td>1.0</td>\n",
       "      <td>0.0</td>\n",
       "      <td>0.0</td>\n",
       "      <td>0.0</td>\n",
       "      <td>0.0</td>\n",
       "      <td>0.0</td>\n",
       "      <td>0.0</td>\n",
       "      <td>2.0</td>\n",
       "      <td>582863.00</td>\n",
       "    </tr>\n",
       "    <tr>\n",
       "      <th>81</th>\n",
       "      <td>0.0</td>\n",
       "      <td>0.0</td>\n",
       "      <td>0.0</td>\n",
       "      <td>0.0</td>\n",
       "      <td>0.0</td>\n",
       "      <td>0.0</td>\n",
       "      <td>1.0</td>\n",
       "      <td>5.0</td>\n",
       "      <td>479031.75</td>\n",
       "    </tr>\n",
       "    <tr>\n",
       "      <th>82</th>\n",
       "      <td>0.0</td>\n",
       "      <td>1.0</td>\n",
       "      <td>0.0</td>\n",
       "      <td>0.0</td>\n",
       "      <td>0.0</td>\n",
       "      <td>0.0</td>\n",
       "      <td>0.0</td>\n",
       "      <td>9.0</td>\n",
       "      <td>1627565.25</td>\n",
       "    </tr>\n",
       "    <tr>\n",
       "      <th>83</th>\n",
       "      <td>0.0</td>\n",
       "      <td>1.0</td>\n",
       "      <td>0.0</td>\n",
       "      <td>0.0</td>\n",
       "      <td>0.0</td>\n",
       "      <td>0.0</td>\n",
       "      <td>0.0</td>\n",
       "      <td>7.0</td>\n",
       "      <td>1712954.25</td>\n",
       "    </tr>\n",
       "  </tbody>\n",
       "</table>\n",
       "<p>84 rows × 9 columns</p>\n",
       "</div>"
      ],
      "text/plain": [
       "      0    1    2    3    4    5    6     7           8\n",
       "0   0.0  0.0  1.0  0.0  0.0  0.0  0.0  11.0  3343397.00\n",
       "1   0.0  0.0  0.0  0.0  0.0  0.0  1.0   1.0   485369.75\n",
       "2   0.0  1.0  0.0  0.0  0.0  0.0  0.0   8.0  1667686.75\n",
       "3   0.0  1.0  0.0  0.0  0.0  0.0  0.0  11.0  1640113.75\n",
       "4   0.0  0.0  0.0  0.0  1.0  0.0  0.0   3.0  1002924.25\n",
       "..  ...  ...  ...  ...  ...  ...  ...   ...         ...\n",
       "79  0.0  0.0  0.0  0.0  1.0  0.0  0.0  10.0  1034440.50\n",
       "80  1.0  0.0  0.0  0.0  0.0  0.0  0.0   2.0   582863.00\n",
       "81  0.0  0.0  0.0  0.0  0.0  0.0  1.0   5.0   479031.75\n",
       "82  0.0  1.0  0.0  0.0  0.0  0.0  0.0   9.0  1627565.25\n",
       "83  0.0  1.0  0.0  0.0  0.0  0.0  0.0   7.0  1712954.25\n",
       "\n",
       "[84 rows x 9 columns]"
      ]
     },
     "execution_count": 6,
     "metadata": {},
     "output_type": "execute_result"
    }
   ],
   "source": [
    "from sklearn.compose import ColumnTransformer\n",
    "from sklearn.preprocessing import OneHotEncoder\n",
    "ct=ColumnTransformer(transformers=[('encode',OneHotEncoder(),[0])],remainder='passthrough')\n",
    "y=ct.fit_transform(df)\n",
    "y=pd.DataFrame(y)\n",
    "y"
   ]
  },
  {
   "cell_type": "code",
   "execution_count": 19,
   "id": "ecb5e764",
   "metadata": {},
   "outputs": [],
   "source": [
    "X = y.iloc[:, :8].values;\n",
    "X = X[:, 1:]"
   ]
  },
  {
   "cell_type": "code",
   "execution_count": 20,
   "id": "372f14c1",
   "metadata": {},
   "outputs": [],
   "source": [
    "Y = y.iloc[:, -1].values;"
   ]
  },
  {
   "cell_type": "code",
   "execution_count": 21,
   "id": "34dc619b",
   "metadata": {},
   "outputs": [],
   "source": [
    "# Splittting the dataset into the Training set and Test set\n",
    "\n",
    "from sklearn.model_selection import train_test_split\n",
    "X_train,X_test,Y_train,Y_test = train_test_split(X, Y, test_size = 0.2, random_state = 0);\n"
   ]
  },
  {
   "cell_type": "code",
   "execution_count": 22,
   "id": "9a9341da",
   "metadata": {},
   "outputs": [],
   "source": [
    "from sklearn.preprocessing import StandardScaler\n",
    "sc_X = StandardScaler()\n",
    "X_train = sc_X.fit_transform(X_train)\n",
    "X_test = sc_X.transform(X_test)\n"
   ]
  },
  {
   "cell_type": "code",
   "execution_count": 23,
   "id": "e2172bfd",
   "metadata": {},
   "outputs": [
    {
     "data": {
      "text/plain": [
       "LinearRegression()"
      ]
     },
     "execution_count": 23,
     "metadata": {},
     "output_type": "execute_result"
    }
   ],
   "source": [
    "from sklearn.linear_model import LinearRegression\n",
    "regressor = LinearRegression()\n",
    "regressor.fit(X_train, Y_train)"
   ]
  },
  {
   "cell_type": "code",
   "execution_count": 24,
   "id": "3948bc09",
   "metadata": {},
   "outputs": [
    {
     "data": {
      "text/plain": [
       "array([ 939038.37351546,  705036.88467937, 3404554.76935874,\n",
       "        707329.00819483,  934454.12648454,  458421.44046908,\n",
       "       1648119.69673401,  463005.6875    , 1016299.40504216,\n",
       "       3395386.27529691,  474466.30507729, 1657288.19079584,\n",
       "        622933.91502372,  950498.99109275,  625226.03853918,\n",
       "        936746.25      ,  469882.05804637])"
      ]
     },
     "execution_count": 24,
     "metadata": {},
     "output_type": "execute_result"
    }
   ],
   "source": [
    "y_pred = regressor.predict(X_test)\n",
    "y_pred"
   ]
  },
  {
   "cell_type": "code",
   "execution_count": 25,
   "id": "88cde53e",
   "metadata": {},
   "outputs": [
    {
     "data": {
      "text/plain": [
       "array([Decimal('977201.75'), Decimal('719549.00'), Decimal('3483408.25'),\n",
       "       Decimal('703469.00'), Decimal('966610.25'), Decimal('450152.25'),\n",
       "       Decimal('1667686.75'), Decimal('437286.00'), Decimal('988666.25'),\n",
       "       Decimal('3322764.50'), Decimal('451435.50'), Decimal('1665138.00'),\n",
       "       Decimal('640123.00'), Decimal('952049.75'), Decimal('611915.50'),\n",
       "       Decimal('921778.75'), Decimal('469315.00')], dtype=object)"
      ]
     },
     "execution_count": 25,
     "metadata": {},
     "output_type": "execute_result"
    }
   ],
   "source": [
    "Y_test"
   ]
  },
  {
   "cell_type": "code",
   "execution_count": 40,
   "id": "3172595f",
   "metadata": {
    "scrolled": true
   },
   "outputs": [],
   "source": [
    "# import statsmodels.api as sm\n",
    "# X=np.append(arr=np.ones((84,1)).astype(int), values = X, axis = 1)\n",
    "# X_opt = X[:, [0,1,2,3,4,5,6,7]]\n",
    "# regressor_OLS =  sm.OLS(endog = Y, exog = X_opt).fit()\n",
    "# regressor_OLS.summary()"
   ]
  },
  {
   "cell_type": "code",
   "execution_count": null,
   "id": "19d4d5bd",
   "metadata": {},
   "outputs": [],
   "source": []
  },
  {
   "cell_type": "code",
   "execution_count": 18,
   "id": "7ae980e1",
   "metadata": {},
   "outputs": [],
   "source": [
    "# # Visualising the Training set results\n",
    "# plt.scatter(X_train,Y_train, color = 'red')\n",
    "# plt.plot(X_train,regressor.predict(X_train), color='blue')\n",
    "# # plt.title('Salary vs Experience (Training set)')\n",
    "# # plt.xlabel('Years of Experience')\n",
    "# # plt.ylabel('Salary')\n",
    "# plt.show()"
   ]
  },
  {
   "cell_type": "markdown",
   "id": "7b63e67b",
   "metadata": {},
   "source": [
    "### SVR"
   ]
  },
  {
   "cell_type": "code",
   "execution_count": 26,
   "id": "5b24716c",
   "metadata": {},
   "outputs": [],
   "source": [
    "# sc_X = StandardScaler()\n",
    "# sc_Y = StandardScaler()\n",
    "\n",
    "# X = sc_X.fit_transform(X)\n",
    "# Y = sc_Y.fit_transform(Y)"
   ]
  },
  {
   "cell_type": "code",
   "execution_count": 23,
   "id": "3220aab0",
   "metadata": {},
   "outputs": [
    {
     "data": {
      "text/plain": [
       "SVR()"
      ]
     },
     "execution_count": 23,
     "metadata": {},
     "output_type": "execute_result"
    }
   ],
   "source": [
    "from sklearn.svm import SVR\n",
    "regressor = SVR(kernel = 'rbf') # kernel = linear, poly, rbf, sigmoid, precomputed\n",
    "regressor.fit(X_train, Y_train)"
   ]
  },
  {
   "cell_type": "code",
   "execution_count": 24,
   "id": "cd91232d",
   "metadata": {},
   "outputs": [
    {
     "data": {
      "text/plain": [
       "array([943267.56264668, 943261.18311315, 943275.33955722, 943261.43858596,\n",
       "       943267.72309068, 943262.26146438, 943276.05164443, 943262.10301451,\n",
       "       943275.27270987, 943276.20780988, 943263.14720316, 943274.1938841 ,\n",
       "       943261.19612866, 943267.42008569, 943261.05922857, 943267.63817923,\n",
       "       943262.5112933 ])"
      ]
     },
     "execution_count": 24,
     "metadata": {},
     "output_type": "execute_result"
    }
   ],
   "source": [
    "y_pred = regressor.predict(X_test)\n",
    "y_pred"
   ]
  },
  {
   "cell_type": "code",
   "execution_count": 14,
   "id": "3a87427c",
   "metadata": {},
   "outputs": [],
   "source": [
    "# from sklearn.preprocessing import OneHotEncoder\n",
    "# oe_style = OneHotEncoder()\n",
    "# oe_results = oe_style.fit_transform(df[[\"Division\"]])\n",
    "# pd.DataFrame(oe_results.toarray(), columns=oe_style.categories_).head()"
   ]
  },
  {
   "cell_type": "code",
   "execution_count": 15,
   "id": "c09fd8a1",
   "metadata": {},
   "outputs": [],
   "source": [
    "# #df_a.join(df_b, on='mukey', how='left', lsuffix='_left', rsuffix='_right')\n",
    "# a = pd.DataFrame(oe_results.toarray(), columns=oe_style.categories_)\n",
    "# df = pd.concat(a)\n",
    "# df\n"
   ]
  },
  {
   "cell_type": "code",
   "execution_count": 16,
   "id": "5182d6ab",
   "metadata": {},
   "outputs": [],
   "source": [
    "# df['Division'] = df['Division'].astype('category')\n",
    "# df[\"Division\"] = df[\"Division\"].cat.codes\n",
    "# # df.head()\n",
    "# df = pd.get_dummies(df, columns=[\"Division\"], prefix=['Division']).head()"
   ]
  },
  {
   "cell_type": "code",
   "execution_count": 17,
   "id": "a30278bf",
   "metadata": {},
   "outputs": [],
   "source": [
    "# df['Division'] = df['Division'].astype('category')\n",
    "# df[\"Division\"] = df[\"Division\"].cat.codes\n",
    "# df.head()\n",
    "# pd.get_dummies(df, columns=[\"Division\"]).head()"
   ]
  },
  {
   "cell_type": "code",
   "execution_count": 18,
   "id": "88fe2e03",
   "metadata": {},
   "outputs": [],
   "source": [
    "# # Splittting the dataset into the Training set and Test set\n",
    "\n",
    "# from sklearn.model_selection import train_test_split\n",
    "# X_train,X_test,Y_train,Y_test = train_test_split(X, Y, test_size = 0.3, random_state = 0);\n",
    "# print(X_train)\n",
    "# print(Y_train)\n",
    "# print(X_test)\n",
    "# print(Y_test)"
   ]
  },
  {
   "cell_type": "code",
   "execution_count": 19,
   "id": "265018a6",
   "metadata": {},
   "outputs": [],
   "source": [
    "# from sklearn.preprocessing import LabelEncoder, OneHotEncoder \n",
    "# from sklearn import preprocessing\n",
    "# # LabelEncoder_X = LabelEncoder()\n",
    "# # X[:, 0] = LabelEncoder_X.fit_transform(X[:, 0])\n",
    "# # # # OneHotEncoder = OneHotEncoder(categories_[0])\n",
    "# # # # X = OneHotEncoder.fit_transform(X).toarray()\n",
    "# # # OneHotEncoder = preprocessing.OneHotEncoder()\n",
    "\n",
    "# # # 2. FIT\n",
    "# # OneHotEncoder.fit(X)\n",
    "\n",
    "# # # 3. Transform\n",
    "# # X = OneHotEncoder.transform(X).toarray()\n",
    "# # X.shape\n",
    "# ohe = OneHotEncoder()\n",
    "# ohe.fit_transform(df[['Division']])\n",
    "# # df['Division'].head()\n",
    "# # ohe.categories_"
   ]
  },
  {
   "cell_type": "code",
   "execution_count": 20,
   "id": "a48fed66",
   "metadata": {},
   "outputs": [],
   "source": [
    "# df['Division']\n",
    "# ohe.categories_"
   ]
  },
  {
   "cell_type": "code",
   "execution_count": 21,
   "id": "ce07ecf8",
   "metadata": {},
   "outputs": [],
   "source": [
    "# pd.get_dummies(df['Division'])"
   ]
  },
  {
   "cell_type": "code",
   "execution_count": 22,
   "id": "bc9c8488",
   "metadata": {},
   "outputs": [],
   "source": [
    "# column_trans_form = make_column_transformer(\n",
    "# (ohe, ['Division']), 'mMonth', 'Quantity'\n",
    "# )"
   ]
  },
  {
   "cell_type": "code",
   "execution_count": 23,
   "id": "5d060e64",
   "metadata": {},
   "outputs": [],
   "source": [
    "# # Feature Scaling\n",
    "\n",
    "# from sklearn.preprocessing import StandardScaler\n",
    "# sc_X = StandardScaler()\n",
    "# X_train = sc_X.fit_transform(X_train)\n",
    "# X_test = sc_X.transform(X_test)\n",
    "# print(X_train)"
   ]
  },
  {
   "cell_type": "code",
   "execution_count": 24,
   "id": "8b208a03",
   "metadata": {},
   "outputs": [],
   "source": [
    "# from sklearn.linear_model import LinearRegression\n",
    "# regressor = LinearRegression()\n",
    "# regressor.fit(X_train, Y_train)"
   ]
  },
  {
   "cell_type": "code",
   "execution_count": 25,
   "id": "b5223dfc",
   "metadata": {},
   "outputs": [],
   "source": [
    "# y_pred = regressor.predict(X_test)\n",
    "# y_pred"
   ]
  },
  {
   "cell_type": "code",
   "execution_count": null,
   "id": "a5f3673e",
   "metadata": {},
   "outputs": [],
   "source": []
  }
 ],
 "metadata": {
  "kernelspec": {
   "display_name": "Python 3 (ipykernel)",
   "language": "python",
   "name": "python3"
  },
  "language_info": {
   "codemirror_mode": {
    "name": "ipython",
    "version": 3
   },
   "file_extension": ".py",
   "mimetype": "text/x-python",
   "name": "python",
   "nbconvert_exporter": "python",
   "pygments_lexer": "ipython3",
   "version": "3.10.1"
  }
 },
 "nbformat": 4,
 "nbformat_minor": 5
}
