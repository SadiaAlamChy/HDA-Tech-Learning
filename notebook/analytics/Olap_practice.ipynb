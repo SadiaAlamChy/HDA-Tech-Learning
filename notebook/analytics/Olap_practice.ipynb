{
 "cells": [
  {
   "cell_type": "markdown",
   "id": "3d412b57",
   "metadata": {},
   "source": [
    "***Concept Of OLAP***\n",
    "* Online analytical processing (OLAP) is a technology that organizes large business databases and supports complex analysis. \n",
    "* It can be used to perform complex analytical queries without negatively affecting transactional systems.\n",
    "* These databases usually have records that are entered one at a time."
   ]
  },
  {
   "cell_type": "markdown",
   "id": "37891794",
   "metadata": {},
   "source": [
    "### Import Required libraries"
   ]
  },
  {
   "cell_type": "code",
   "execution_count": 3,
   "id": "11018a07",
   "metadata": {},
   "outputs": [],
   "source": [
    "import psycopg2\n",
    "import pandas as pd\n",
    "import psycopg2.extras\n",
    "import pandas.io.sql as sqlio\n",
    "\n",
    "import warnings\n",
    "warnings.filterwarnings('ignore')"
   ]
  },
  {
   "cell_type": "code",
   "execution_count": 1,
   "id": "be108911",
   "metadata": {},
   "outputs": [
    {
     "name": "stdout",
     "output_type": "stream",
     "text": [
      "Note: you may need to restart the kernel to use updated packages.\n"
     ]
    },
    {
     "name": "stderr",
     "output_type": "stream",
     "text": [
      "WARNING: You are using pip version 20.2.3; however, version 22.0.3 is available.\n",
      "You should consider upgrading via the 'c:\\users\\hp\\appdata\\local\\programs\\python\\python39\\python.exe -m pip install --upgrade pip' command."
     ]
    },
    {
     "name": "stdout",
     "output_type": "stream",
     "text": [
      "Collecting matplotlib\n",
      "  Downloading matplotlib-3.5.1-cp39-cp39-win_amd64.whl (7.2 MB)\n",
      "Collecting kiwisolver>=1.0.1\n",
      "  Downloading kiwisolver-1.3.2-cp39-cp39-win_amd64.whl (52 kB)\n",
      "Requirement already satisfied: python-dateutil>=2.7 in c:\\users\\hp\\appdata\\local\\programs\\python\\python39\\lib\\site-packages (from matplotlib) (2.8.2)\n",
      "Collecting pillow>=6.2.0\n",
      "  Downloading Pillow-9.0.1-cp39-cp39-win_amd64.whl (3.2 MB)\n",
      "Requirement already satisfied: numpy>=1.17 in c:\\users\\hp\\appdata\\local\\programs\\python\\python39\\lib\\site-packages (from matplotlib) (1.22.2)\n",
      "Collecting fonttools>=4.22.0\n",
      "  Downloading fonttools-4.29.1-py3-none-any.whl (895 kB)\n",
      "Requirement already satisfied: pyparsing>=2.2.1 in c:\\users\\hp\\appdata\\local\\programs\\python\\python39\\lib\\site-packages (from matplotlib) (3.0.7)\n",
      "Requirement already satisfied: packaging>=20.0 in c:\\users\\hp\\appdata\\local\\programs\\python\\python39\\lib\\site-packages (from matplotlib) (21.3)\n",
      "Collecting cycler>=0.10\n",
      "  Downloading cycler-0.11.0-py3-none-any.whl (6.4 kB)\n",
      "Requirement already satisfied: six>=1.5 in c:\\users\\hp\\appdata\\roaming\\python\\python39\\site-packages (from python-dateutil>=2.7->matplotlib) (1.15.0)\n",
      "Installing collected packages: kiwisolver, pillow, fonttools, cycler, matplotlib\n",
      "Successfully installed cycler-0.11.0 fonttools-4.29.1 kiwisolver-1.3.2 matplotlib-3.5.1 pillow-9.0.1\n"
     ]
    },
    {
     "name": "stderr",
     "output_type": "stream",
     "text": [
      "\n"
     ]
    }
   ],
   "source": [
    "pip install matplotlib"
   ]
  },
  {
   "cell_type": "markdown",
   "id": "3ee87ca9",
   "metadata": {},
   "source": [
    "## DataBase Connection"
   ]
  },
  {
   "cell_type": "code",
   "execution_count": 4,
   "id": "6848582a",
   "metadata": {},
   "outputs": [],
   "source": [
    "class PostgresConnection(object):\n",
    "    def __init__(self):\n",
    "        self.connection = psycopg2.connect(database=\"ecomdb\",\n",
    "                                           user = \"postgres\",\n",
    "                                           password = \"afra1234\",\n",
    "                                           host = \"127.0.0.1\",\n",
    "                                           port = \"5432\")\n",
    "\n",
    "    def getConnection(self):\n",
    "        print(\"successfully connected to database\")\n",
    "        return self.connection"
   ]
  },
  {
   "cell_type": "code",
   "execution_count": 5,
   "id": "8d7dba16",
   "metadata": {},
   "outputs": [
    {
     "name": "stdout",
     "output_type": "stream",
     "text": [
      "successfully connected to database\n"
     ]
    }
   ],
   "source": [
    "con = PostgresConnection().getConnection()"
   ]
  },
  {
   "cell_type": "code",
   "execution_count": 6,
   "id": "1f73b55f",
   "metadata": {},
   "outputs": [
    {
     "name": "stdout",
     "output_type": "stream",
     "text": [
      "successfully connected to database\n"
     ]
    }
   ],
   "source": [
    "conn = psycopg2.connect(database=\"ecomdb\",\n",
    "                                           user = \"postgres\",\n",
    "                                           password = \"afra1234\",\n",
    "                                           host = \"127.0.0.1\",\n",
    "                                           port = \"5432\")\n",
    "print(\"successfully connected to database\")"
   ]
  },
  {
   "cell_type": "markdown",
   "id": "e9decf9f",
   "metadata": {},
   "source": [
    "## Simple CUBE query"
   ]
  },
  {
   "cell_type": "markdown",
   "id": "e978fe6c",
   "metadata": {},
   "source": [
    "### Q1: Find the division/district/year/month wise total_sale_price joining fact table and respective dimension table"
   ]
  },
  {
   "cell_type": "markdown",
   "id": "f7eaed42",
   "metadata": {},
   "source": [
    "***Total_sale_price By Division Wise***"
   ]
  },
  {
   "cell_type": "code",
   "execution_count": 5,
   "id": "ef690f37",
   "metadata": {},
   "outputs": [
    {
     "data": {
      "text/html": [
       "<div>\n",
       "<style scoped>\n",
       "    .dataframe tbody tr th:only-of-type {\n",
       "        vertical-align: middle;\n",
       "    }\n",
       "\n",
       "    .dataframe tbody tr th {\n",
       "        vertical-align: top;\n",
       "    }\n",
       "\n",
       "    .dataframe thead th {\n",
       "        text-align: right;\n",
       "    }\n",
       "</style>\n",
       "<table border=\"1\" class=\"dataframe\">\n",
       "  <thead>\n",
       "    <tr style=\"text-align: right;\">\n",
       "      <th></th>\n",
       "      <th>division</th>\n",
       "      <th>total_sales_price</th>\n",
       "    </tr>\n",
       "  </thead>\n",
       "  <tbody>\n",
       "    <tr>\n",
       "      <th>0</th>\n",
       "      <td>BARISAL</td>\n",
       "      <td>7520343.75</td>\n",
       "    </tr>\n",
       "    <tr>\n",
       "      <th>1</th>\n",
       "      <td>CHITTAGONG</td>\n",
       "      <td>19763595.00</td>\n",
       "    </tr>\n",
       "    <tr>\n",
       "      <th>2</th>\n",
       "      <td>DHAKA</td>\n",
       "      <td>40764619.75</td>\n",
       "    </tr>\n",
       "    <tr>\n",
       "      <th>3</th>\n",
       "      <td>KHULNA</td>\n",
       "      <td>11311610.50</td>\n",
       "    </tr>\n",
       "    <tr>\n",
       "      <th>4</th>\n",
       "      <td>RAJSHAHI</td>\n",
       "      <td>12099196.00</td>\n",
       "    </tr>\n",
       "    <tr>\n",
       "      <th>5</th>\n",
       "      <td>RANGPUR</td>\n",
       "      <td>8429836.50</td>\n",
       "    </tr>\n",
       "    <tr>\n",
       "      <th>6</th>\n",
       "      <td>SYLHET</td>\n",
       "      <td>5512234.25</td>\n",
       "    </tr>\n",
       "  </tbody>\n",
       "</table>\n",
       "</div>"
      ],
      "text/plain": [
       "     division  total_sales_price\n",
       "0     BARISAL         7520343.75\n",
       "1  CHITTAGONG        19763595.00\n",
       "2       DHAKA        40764619.75\n",
       "3      KHULNA        11311610.50\n",
       "4    RAJSHAHI        12099196.00\n",
       "5     RANGPUR         8429836.50\n",
       "6      SYLHET         5512234.25"
      ]
     },
     "execution_count": 5,
     "metadata": {},
     "output_type": "execute_result"
    }
   ],
   "source": [
    "conn = psycopg2.connect(database=\"ecomdb\",\n",
    "                                           user = \"postgres\",\n",
    "                                           password = \"afra1234\",\n",
    "                                           host = \"127.0.0.1\",\n",
    "                                           port = \"5432\")\n",
    "\n",
    "query =\"SELECT  division, SUM(total_price) total_sales_price FROM ecom_schema.store_dim INNER JOIN ecom_schema.fact_table ON fact_table.store_key = store_dim.store_key GROUP BY store_dim.division;\"\n",
    "\n",
    "data = sqlio.read_sql_query(query,conn)\n",
    "\n",
    "data"
   ]
  },
  {
   "cell_type": "markdown",
   "id": "461147d8",
   "metadata": {},
   "source": [
    "***Total_sale_price By District Wise***"
   ]
  },
  {
   "cell_type": "code",
   "execution_count": 6,
   "id": "e729e6e5",
   "metadata": {},
   "outputs": [
    {
     "data": {
      "text/html": [
       "<div>\n",
       "<style scoped>\n",
       "    .dataframe tbody tr th:only-of-type {\n",
       "        vertical-align: middle;\n",
       "    }\n",
       "\n",
       "    .dataframe tbody tr th {\n",
       "        vertical-align: top;\n",
       "    }\n",
       "\n",
       "    .dataframe thead th {\n",
       "        text-align: right;\n",
       "    }\n",
       "</style>\n",
       "<table border=\"1\" class=\"dataframe\">\n",
       "  <thead>\n",
       "    <tr style=\"text-align: right;\">\n",
       "      <th></th>\n",
       "      <th>district</th>\n",
       "      <th>total_sales_price</th>\n",
       "    </tr>\n",
       "  </thead>\n",
       "  <tbody>\n",
       "    <tr>\n",
       "      <th>0</th>\n",
       "      <td>BAGERHAT</td>\n",
       "      <td>1307651.00</td>\n",
       "    </tr>\n",
       "    <tr>\n",
       "      <th>1</th>\n",
       "      <td>BANDARBAN</td>\n",
       "      <td>995360.75</td>\n",
       "    </tr>\n",
       "    <tr>\n",
       "      <th>2</th>\n",
       "      <td>BARGUNA</td>\n",
       "      <td>869041.00</td>\n",
       "    </tr>\n",
       "    <tr>\n",
       "      <th>3</th>\n",
       "      <td>BARISAL</td>\n",
       "      <td>2897237.75</td>\n",
       "    </tr>\n",
       "    <tr>\n",
       "      <th>4</th>\n",
       "      <td>BHOLA</td>\n",
       "      <td>1012205.75</td>\n",
       "    </tr>\n",
       "    <tr>\n",
       "      <th>...</th>\n",
       "      <td>...</td>\n",
       "      <td>...</td>\n",
       "    </tr>\n",
       "    <tr>\n",
       "      <th>59</th>\n",
       "      <td>SIRAJGANJ</td>\n",
       "      <td>1295100.75</td>\n",
       "    </tr>\n",
       "    <tr>\n",
       "      <th>60</th>\n",
       "      <td>SUNAMGANJ</td>\n",
       "      <td>1593774.00</td>\n",
       "    </tr>\n",
       "    <tr>\n",
       "      <th>61</th>\n",
       "      <td>SYLHET</td>\n",
       "      <td>1727717.25</td>\n",
       "    </tr>\n",
       "    <tr>\n",
       "      <th>62</th>\n",
       "      <td>TANGAIL</td>\n",
       "      <td>1774650.25</td>\n",
       "    </tr>\n",
       "    <tr>\n",
       "      <th>63</th>\n",
       "      <td>THAKURGAON</td>\n",
       "      <td>729934.25</td>\n",
       "    </tr>\n",
       "  </tbody>\n",
       "</table>\n",
       "<p>64 rows × 2 columns</p>\n",
       "</div>"
      ],
      "text/plain": [
       "      district  total_sales_price\n",
       "0     BAGERHAT         1307651.00\n",
       "1    BANDARBAN          995360.75\n",
       "2      BARGUNA          869041.00\n",
       "3      BARISAL         2897237.75\n",
       "4        BHOLA         1012205.75\n",
       "..         ...                ...\n",
       "59   SIRAJGANJ         1295100.75\n",
       "60   SUNAMGANJ         1593774.00\n",
       "61      SYLHET         1727717.25\n",
       "62     TANGAIL         1774650.25\n",
       "63  THAKURGAON          729934.25\n",
       "\n",
       "[64 rows x 2 columns]"
      ]
     },
     "execution_count": 6,
     "metadata": {},
     "output_type": "execute_result"
    }
   ],
   "source": [
    "query =\"SELECT  district, SUM(total_price) total_sales_price FROM ecom_schema.store_dim INNER JOIN ecom_schema.fact_table ON fact_table.store_key = store_dim.store_key GROUP BY store_dim.district;\"\n",
    "\n",
    "data = sqlio.read_sql_query(query,conn)\n",
    "\n",
    "data"
   ]
  },
  {
   "cell_type": "markdown",
   "id": "0a488c90",
   "metadata": {},
   "source": [
    "***Total_sale_price By year Wise***"
   ]
  },
  {
   "cell_type": "code",
   "execution_count": 7,
   "id": "00fa9167",
   "metadata": {},
   "outputs": [
    {
     "data": {
      "text/html": [
       "<div>\n",
       "<style scoped>\n",
       "    .dataframe tbody tr th:only-of-type {\n",
       "        vertical-align: middle;\n",
       "    }\n",
       "\n",
       "    .dataframe tbody tr th {\n",
       "        vertical-align: top;\n",
       "    }\n",
       "\n",
       "    .dataframe thead th {\n",
       "        text-align: right;\n",
       "    }\n",
       "</style>\n",
       "<table border=\"1\" class=\"dataframe\">\n",
       "  <thead>\n",
       "    <tr style=\"text-align: right;\">\n",
       "      <th></th>\n",
       "      <th>year</th>\n",
       "      <th>total_sales_price</th>\n",
       "    </tr>\n",
       "  </thead>\n",
       "  <tbody>\n",
       "    <tr>\n",
       "      <th>0</th>\n",
       "      <td>2014.0</td>\n",
       "      <td>14334731.25</td>\n",
       "    </tr>\n",
       "    <tr>\n",
       "      <th>1</th>\n",
       "      <td>2015.0</td>\n",
       "      <td>15095720.25</td>\n",
       "    </tr>\n",
       "    <tr>\n",
       "      <th>2</th>\n",
       "      <td>2016.0</td>\n",
       "      <td>14976508.25</td>\n",
       "    </tr>\n",
       "    <tr>\n",
       "      <th>3</th>\n",
       "      <td>2017.0</td>\n",
       "      <td>15015806.00</td>\n",
       "    </tr>\n",
       "    <tr>\n",
       "      <th>4</th>\n",
       "      <td>2018.0</td>\n",
       "      <td>15108197.25</td>\n",
       "    </tr>\n",
       "    <tr>\n",
       "      <th>5</th>\n",
       "      <td>2019.0</td>\n",
       "      <td>14949510.25</td>\n",
       "    </tr>\n",
       "    <tr>\n",
       "      <th>6</th>\n",
       "      <td>2020.0</td>\n",
       "      <td>15037190.25</td>\n",
       "    </tr>\n",
       "    <tr>\n",
       "      <th>7</th>\n",
       "      <td>2021.0</td>\n",
       "      <td>883772.25</td>\n",
       "    </tr>\n",
       "  </tbody>\n",
       "</table>\n",
       "</div>"
      ],
      "text/plain": [
       "     year  total_sales_price\n",
       "0  2014.0        14334731.25\n",
       "1  2015.0        15095720.25\n",
       "2  2016.0        14976508.25\n",
       "3  2017.0        15015806.00\n",
       "4  2018.0        15108197.25\n",
       "5  2019.0        14949510.25\n",
       "6  2020.0        15037190.25\n",
       "7  2021.0          883772.25"
      ]
     },
     "execution_count": 7,
     "metadata": {},
     "output_type": "execute_result"
    }
   ],
   "source": [
    "query =\"SELECT  year, SUM(total_price) total_sales_price FROM ecom_schema.time_dim \n",
    "INNER JOIN ecom_schema.fact_table ON fact_table.time_key = time_dim.time_key GROUP BY time_dim.year;\"\n",
    "\n",
    "data = sqlio.read_sql_query(query,conn)\n",
    "data"
   ]
  },
  {
   "cell_type": "markdown",
   "id": "39613e5e",
   "metadata": {},
   "source": [
    "***Total_sale_price By month Wise***"
   ]
  },
  {
   "cell_type": "code",
   "execution_count": 8,
   "id": "d925a31f",
   "metadata": {},
   "outputs": [
    {
     "data": {
      "text/html": [
       "<div>\n",
       "<style scoped>\n",
       "    .dataframe tbody tr th:only-of-type {\n",
       "        vertical-align: middle;\n",
       "    }\n",
       "\n",
       "    .dataframe tbody tr th {\n",
       "        vertical-align: top;\n",
       "    }\n",
       "\n",
       "    .dataframe thead th {\n",
       "        text-align: right;\n",
       "    }\n",
       "</style>\n",
       "<table border=\"1\" class=\"dataframe\">\n",
       "  <thead>\n",
       "    <tr style=\"text-align: right;\">\n",
       "      <th></th>\n",
       "      <th>month</th>\n",
       "      <th>total_sales_price</th>\n",
       "    </tr>\n",
       "  </thead>\n",
       "  <tbody>\n",
       "    <tr>\n",
       "      <th>0</th>\n",
       "      <td>1.0</td>\n",
       "      <td>9042244.00</td>\n",
       "    </tr>\n",
       "    <tr>\n",
       "      <th>1</th>\n",
       "      <td>2.0</td>\n",
       "      <td>8073877.50</td>\n",
       "    </tr>\n",
       "    <tr>\n",
       "      <th>2</th>\n",
       "      <td>3.0</td>\n",
       "      <td>8939152.00</td>\n",
       "    </tr>\n",
       "    <tr>\n",
       "      <th>3</th>\n",
       "      <td>4.0</td>\n",
       "      <td>8504634.75</td>\n",
       "    </tr>\n",
       "    <tr>\n",
       "      <th>4</th>\n",
       "      <td>5.0</td>\n",
       "      <td>9078002.50</td>\n",
       "    </tr>\n",
       "    <tr>\n",
       "      <th>5</th>\n",
       "      <td>6.0</td>\n",
       "      <td>8556853.00</td>\n",
       "    </tr>\n",
       "    <tr>\n",
       "      <th>6</th>\n",
       "      <td>7.0</td>\n",
       "      <td>9046580.00</td>\n",
       "    </tr>\n",
       "    <tr>\n",
       "      <th>7</th>\n",
       "      <td>8.0</td>\n",
       "      <td>8929475.25</td>\n",
       "    </tr>\n",
       "    <tr>\n",
       "      <th>8</th>\n",
       "      <td>9.0</td>\n",
       "      <td>8724326.50</td>\n",
       "    </tr>\n",
       "    <tr>\n",
       "      <th>9</th>\n",
       "      <td>10.0</td>\n",
       "      <td>8902783.75</td>\n",
       "    </tr>\n",
       "    <tr>\n",
       "      <th>10</th>\n",
       "      <td>11.0</td>\n",
       "      <td>8680026.00</td>\n",
       "    </tr>\n",
       "    <tr>\n",
       "      <th>11</th>\n",
       "      <td>12.0</td>\n",
       "      <td>8923480.50</td>\n",
       "    </tr>\n",
       "  </tbody>\n",
       "</table>\n",
       "</div>"
      ],
      "text/plain": [
       "    month  total_sales_price\n",
       "0     1.0         9042244.00\n",
       "1     2.0         8073877.50\n",
       "2     3.0         8939152.00\n",
       "3     4.0         8504634.75\n",
       "4     5.0         9078002.50\n",
       "5     6.0         8556853.00\n",
       "6     7.0         9046580.00\n",
       "7     8.0         8929475.25\n",
       "8     9.0         8724326.50\n",
       "9    10.0         8902783.75\n",
       "10   11.0         8680026.00\n",
       "11   12.0         8923480.50"
      ]
     },
     "execution_count": 8,
     "metadata": {},
     "output_type": "execute_result"
    }
   ],
   "source": [
    "query =\"SELECT  month, SUM(total_price) total_sales_price FROM ecom_schema.time_dim INNER JOIN ecom_schema.fact_table ON fact_table.time_key = time_dim.time_key GROUP BY time_dim.month;\"\n",
    "\n",
    "data = sqlio.read_sql_query(query,conn)\n",
    "data"
   ]
  },
  {
   "cell_type": "markdown",
   "id": "f865b10c",
   "metadata": {},
   "source": [
    "### Q2: Find the customer/bank/transaction(cash/online) wise total_sale_price joining fact table and respective dimension table "
   ]
  },
  {
   "cell_type": "code",
   "execution_count": 7,
   "id": "3e0076e8",
   "metadata": {},
   "outputs": [
    {
     "data": {
      "text/html": [
       "<div>\n",
       "<style scoped>\n",
       "    .dataframe tbody tr th:only-of-type {\n",
       "        vertical-align: middle;\n",
       "    }\n",
       "\n",
       "    .dataframe tbody tr th {\n",
       "        vertical-align: top;\n",
       "    }\n",
       "\n",
       "    .dataframe thead th {\n",
       "        text-align: right;\n",
       "    }\n",
       "</style>\n",
       "<table border=\"1\" class=\"dataframe\">\n",
       "  <thead>\n",
       "    <tr style=\"text-align: right;\">\n",
       "      <th></th>\n",
       "      <th>name</th>\n",
       "      <th>contact_no</th>\n",
       "      <th>total_sales_price</th>\n",
       "    </tr>\n",
       "  </thead>\n",
       "  <tbody>\n",
       "    <tr>\n",
       "      <th>0</th>\n",
       "      <td>ratmo devi</td>\n",
       "      <td>8.801642e+12</td>\n",
       "      <td>17104.50</td>\n",
       "    </tr>\n",
       "    <tr>\n",
       "      <th>1</th>\n",
       "      <td>pooja devi</td>\n",
       "      <td>8.801771e+12</td>\n",
       "      <td>9084.25</td>\n",
       "    </tr>\n",
       "    <tr>\n",
       "      <th>2</th>\n",
       "      <td>indra megwal</td>\n",
       "      <td>8.801947e+12</td>\n",
       "      <td>11298.50</td>\n",
       "    </tr>\n",
       "    <tr>\n",
       "      <th>3</th>\n",
       "      <td>rashika</td>\n",
       "      <td>8.801667e+12</td>\n",
       "      <td>13431.50</td>\n",
       "    </tr>\n",
       "    <tr>\n",
       "      <th>4</th>\n",
       "      <td>afsana</td>\n",
       "      <td>8.801647e+12</td>\n",
       "      <td>14034.25</td>\n",
       "    </tr>\n",
       "    <tr>\n",
       "      <th>...</th>\n",
       "      <td>...</td>\n",
       "      <td>...</td>\n",
       "      <td>...</td>\n",
       "    </tr>\n",
       "    <tr>\n",
       "      <th>9186</th>\n",
       "      <td>baljeet kaur</td>\n",
       "      <td>8.801640e+12</td>\n",
       "      <td>13610.75</td>\n",
       "    </tr>\n",
       "    <tr>\n",
       "      <th>9187</th>\n",
       "      <td>ankita bagh</td>\n",
       "      <td>8.801979e+12</td>\n",
       "      <td>12332.25</td>\n",
       "    </tr>\n",
       "    <tr>\n",
       "      <th>9188</th>\n",
       "      <td>ku- shashi pal</td>\n",
       "      <td>8.801634e+12</td>\n",
       "      <td>15057.00</td>\n",
       "    </tr>\n",
       "    <tr>\n",
       "      <th>9189</th>\n",
       "      <td>prinka bhanshali</td>\n",
       "      <td>8.801648e+12</td>\n",
       "      <td>10340.25</td>\n",
       "    </tr>\n",
       "    <tr>\n",
       "      <th>9190</th>\n",
       "      <td>rubeena</td>\n",
       "      <td>8.801542e+12</td>\n",
       "      <td>12206.75</td>\n",
       "    </tr>\n",
       "  </tbody>\n",
       "</table>\n",
       "<p>9191 rows × 3 columns</p>\n",
       "</div>"
      ],
      "text/plain": [
       "                  name    contact_no  total_sales_price\n",
       "0           ratmo devi  8.801642e+12           17104.50\n",
       "1           pooja devi  8.801771e+12            9084.25\n",
       "2         indra megwal  8.801947e+12           11298.50\n",
       "3              rashika  8.801667e+12           13431.50\n",
       "4               afsana  8.801647e+12           14034.25\n",
       "...                ...           ...                ...\n",
       "9186      baljeet kaur  8.801640e+12           13610.75\n",
       "9187       ankita bagh  8.801979e+12           12332.25\n",
       "9188    ku- shashi pal  8.801634e+12           15057.00\n",
       "9189  prinka bhanshali  8.801648e+12           10340.25\n",
       "9190           rubeena  8.801542e+12           12206.75\n",
       "\n",
       "[9191 rows x 3 columns]"
      ]
     },
     "execution_count": 7,
     "metadata": {},
     "output_type": "execute_result"
    }
   ],
   "source": [
    "query =\"SELECT  name, contact_no , SUM(total_price) Total_sales_price FROM ecom_schema.coustomer_dim INNER JOIN ecom_schema.fact_table ON fact_table.coustomer_key = coustomer_dim.coustomer_key GROUP BY coustomer_dim.coustomer_key;\"\n",
    "\n",
    "data = sqlio.read_sql_query(query,conn)\n",
    "data"
   ]
  },
  {
   "cell_type": "code",
   "execution_count": 9,
   "id": "b8104e0b",
   "metadata": {},
   "outputs": [
    {
     "data": {
      "text/html": [
       "<div>\n",
       "<style scoped>\n",
       "    .dataframe tbody tr th:only-of-type {\n",
       "        vertical-align: middle;\n",
       "    }\n",
       "\n",
       "    .dataframe tbody tr th {\n",
       "        vertical-align: top;\n",
       "    }\n",
       "\n",
       "    .dataframe thead th {\n",
       "        text-align: right;\n",
       "    }\n",
       "</style>\n",
       "<table border=\"1\" class=\"dataframe\">\n",
       "  <thead>\n",
       "    <tr style=\"text-align: right;\">\n",
       "      <th></th>\n",
       "      <th>division</th>\n",
       "      <th>total_price</th>\n",
       "    </tr>\n",
       "  </thead>\n",
       "  <tbody>\n",
       "    <tr>\n",
       "      <th>0</th>\n",
       "      <td>BARISAL</td>\n",
       "      <td>120.00</td>\n",
       "    </tr>\n",
       "    <tr>\n",
       "      <th>1</th>\n",
       "      <td>BARISAL</td>\n",
       "      <td>84.00</td>\n",
       "    </tr>\n",
       "    <tr>\n",
       "      <th>2</th>\n",
       "      <td>BARISAL</td>\n",
       "      <td>102.00</td>\n",
       "    </tr>\n",
       "    <tr>\n",
       "      <th>3</th>\n",
       "      <td>BARISAL</td>\n",
       "      <td>85.00</td>\n",
       "    </tr>\n",
       "    <tr>\n",
       "      <th>4</th>\n",
       "      <td>BARISAL</td>\n",
       "      <td>33.75</td>\n",
       "    </tr>\n",
       "    <tr>\n",
       "      <th>...</th>\n",
       "      <td>...</td>\n",
       "      <td>...</td>\n",
       "    </tr>\n",
       "    <tr>\n",
       "      <th>999995</th>\n",
       "      <td>SYLHET</td>\n",
       "      <td>220.00</td>\n",
       "    </tr>\n",
       "    <tr>\n",
       "      <th>999996</th>\n",
       "      <td>SYLHET</td>\n",
       "      <td>72.00</td>\n",
       "    </tr>\n",
       "    <tr>\n",
       "      <th>999997</th>\n",
       "      <td>SYLHET</td>\n",
       "      <td>60.00</td>\n",
       "    </tr>\n",
       "    <tr>\n",
       "      <th>999998</th>\n",
       "      <td>SYLHET</td>\n",
       "      <td>16.00</td>\n",
       "    </tr>\n",
       "    <tr>\n",
       "      <th>999999</th>\n",
       "      <td>SYLHET</td>\n",
       "      <td>70.00</td>\n",
       "    </tr>\n",
       "  </tbody>\n",
       "</table>\n",
       "<p>1000000 rows × 2 columns</p>\n",
       "</div>"
      ],
      "text/plain": [
       "       division  total_price\n",
       "0       BARISAL       120.00\n",
       "1       BARISAL        84.00\n",
       "2       BARISAL       102.00\n",
       "3       BARISAL        85.00\n",
       "4       BARISAL        33.75\n",
       "...         ...          ...\n",
       "999995   SYLHET       220.00\n",
       "999996   SYLHET        72.00\n",
       "999997   SYLHET        60.00\n",
       "999998   SYLHET        16.00\n",
       "999999   SYLHET        70.00\n",
       "\n",
       "[1000000 rows x 2 columns]"
      ]
     },
     "execution_count": 9,
     "metadata": {},
     "output_type": "execute_result"
    }
   ],
   "source": [
    "query =\"SELECT  division, total_price FROM ecom_schema.store_dim INNER JOIN ecom_schema.fact_table ON fact_table.store_key = store_dim.store_key ORDER BY store_dim.division;\"\n",
    "\n",
    "data = sqlio.read_sql_query(query,conn)\n",
    "data"
   ]
  },
  {
   "cell_type": "code",
   "execution_count": null,
   "id": "2d7b9d15",
   "metadata": {},
   "outputs": [],
   "source": []
  },
  {
   "cell_type": "code",
   "execution_count": null,
   "id": "a350a97f",
   "metadata": {},
   "outputs": [],
   "source": []
  }
 ],
 "metadata": {
  "kernelspec": {
   "display_name": "Python 3 (ipykernel)",
   "language": "python",
   "name": "python3"
  },
  "language_info": {
   "codemirror_mode": {
    "name": "ipython",
    "version": 3
   },
   "file_extension": ".py",
   "mimetype": "text/x-python",
   "name": "python",
   "nbconvert_exporter": "python",
   "pygments_lexer": "ipython3",
   "version": "3.9.0"
  }
 },
 "nbformat": 4,
 "nbformat_minor": 5
}
