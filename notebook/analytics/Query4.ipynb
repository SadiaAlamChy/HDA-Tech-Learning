{
 "cells": [
  {
   "cell_type": "markdown",
   "id": "36f95013",
   "metadata": {},
   "source": [
    "### Q4: Total sales in 2015"
   ]
  },
  {
   "cell_type": "code",
   "execution_count": 1,
   "id": "2e8adf02",
   "metadata": {},
   "outputs": [],
   "source": [
    "import psycopg2\n",
    "import pandas as pd\n",
    "import numpy as np\n",
    "import psycopg2.extras\n",
    "import matplotlib.pyplot as plt"
   ]
  },
  {
   "cell_type": "code",
   "execution_count": 2,
   "id": "ae5331ea",
   "metadata": {},
   "outputs": [
    {
     "name": "stdout",
     "output_type": "stream",
     "text": [
      "Successfully connected to the database\n"
     ]
    }
   ],
   "source": [
    "class PostgresConnection(object):\n",
    "    def __init__(self):\n",
    "        self.connection = psycopg2.connect(database = \"ecomdb\",\n",
    "                                                  user = \"postgres\",\n",
    "                                                  password = \"sultanmahmud22\",\n",
    "                                                  host = \"127.0.0.1\",\n",
    "                                                  port= \"5432\")\n",
    "    def getConnection(self):\n",
    "        print(\"Successfully connected to the database\")\n",
    "        return self.connection\n",
    "\n",
    "con = PostgresConnection().getConnection()"
   ]
  },
  {
   "cell_type": "code",
   "execution_count": 5,
   "id": "59f0ed12",
   "metadata": {},
   "outputs": [
    {
     "name": "stdout",
     "output_type": "stream",
     "text": [
      "Successfully connected to the database\n"
     ]
    },
    {
     "data": {
      "text/html": [
       "<div>\n",
       "<style scoped>\n",
       "    .dataframe tbody tr th:only-of-type {\n",
       "        vertical-align: middle;\n",
       "    }\n",
       "\n",
       "    .dataframe tbody tr th {\n",
       "        vertical-align: top;\n",
       "    }\n",
       "\n",
       "    .dataframe thead th {\n",
       "        text-align: right;\n",
       "    }\n",
       "</style>\n",
       "<table border=\"1\" class=\"dataframe\">\n",
       "  <thead>\n",
       "    <tr style=\"text-align: right;\">\n",
       "      <th></th>\n",
       "      <th>Year</th>\n",
       "      <th>Month</th>\n",
       "      <th>Sales</th>\n",
       "    </tr>\n",
       "  </thead>\n",
       "  <tbody>\n",
       "    <tr>\n",
       "      <th>0</th>\n",
       "      <td>BARISAL</td>\n",
       "      <td>1.0</td>\n",
       "      <td>86244.75</td>\n",
       "    </tr>\n",
       "    <tr>\n",
       "      <th>1</th>\n",
       "      <td>BARISAL</td>\n",
       "      <td>3.0</td>\n",
       "      <td>99066.00</td>\n",
       "    </tr>\n",
       "    <tr>\n",
       "      <th>2</th>\n",
       "      <td>BARISAL</td>\n",
       "      <td>12.0</td>\n",
       "      <td>92243.75</td>\n",
       "    </tr>\n",
       "    <tr>\n",
       "      <th>3</th>\n",
       "      <td>BARISAL</td>\n",
       "      <td>7.0</td>\n",
       "      <td>92942.25</td>\n",
       "    </tr>\n",
       "    <tr>\n",
       "      <th>4</th>\n",
       "      <td>BARISAL</td>\n",
       "      <td>4.0</td>\n",
       "      <td>89232.75</td>\n",
       "    </tr>\n",
       "    <tr>\n",
       "      <th>...</th>\n",
       "      <td>...</td>\n",
       "      <td>...</td>\n",
       "      <td>...</td>\n",
       "    </tr>\n",
       "    <tr>\n",
       "      <th>99</th>\n",
       "      <td>None</td>\n",
       "      <td>12.0</td>\n",
       "      <td>1279379.50</td>\n",
       "    </tr>\n",
       "    <tr>\n",
       "      <th>100</th>\n",
       "      <td>None</td>\n",
       "      <td>3.0</td>\n",
       "      <td>1296063.75</td>\n",
       "    </tr>\n",
       "    <tr>\n",
       "      <th>101</th>\n",
       "      <td>None</td>\n",
       "      <td>8.0</td>\n",
       "      <td>1256038.75</td>\n",
       "    </tr>\n",
       "    <tr>\n",
       "      <th>102</th>\n",
       "      <td>None</td>\n",
       "      <td>NaN</td>\n",
       "      <td>15095720.25</td>\n",
       "    </tr>\n",
       "    <tr>\n",
       "      <th>103</th>\n",
       "      <td>None</td>\n",
       "      <td>1.0</td>\n",
       "      <td>1239765.00</td>\n",
       "    </tr>\n",
       "  </tbody>\n",
       "</table>\n",
       "<p>104 rows × 3 columns</p>\n",
       "</div>"
      ],
      "text/plain": [
       "        Year Month        Sales\n",
       "0    BARISAL   1.0     86244.75\n",
       "1    BARISAL   3.0     99066.00\n",
       "2    BARISAL  12.0     92243.75\n",
       "3    BARISAL   7.0     92942.25\n",
       "4    BARISAL   4.0     89232.75\n",
       "..       ...   ...          ...\n",
       "99      None  12.0   1279379.50\n",
       "100     None   3.0   1296063.75\n",
       "101     None   8.0   1256038.75\n",
       "102     None   NaN  15095720.25\n",
       "103     None   1.0   1239765.00\n",
       "\n",
       "[104 rows x 3 columns]"
      ]
     },
     "execution_count": 5,
     "metadata": {},
     "output_type": "execute_result"
    }
   ],
   "source": [
    "con = PostgresConnection().getConnection()\n",
    "\n",
    "cur = con.cursor()\n",
    "select_stmt = \"SELECT s.division, tim.month, SUM(t.total_price) \" \\\n",
    "\"FROM star_schema.fact_table t  \" \\\n",
    "\"JOIN star_schema.store_dim s on s.store_key = t.store_key \" \\\n",
    "\"JOIN star_schema.time_dim tim on tim.time_key = t.time_key \" \\\n",
    "\"JOIN star_schema.trans_dim tr on tr.payment_key = t.payment_key \" \\\n",
    "\"WHERE tim.year='2015' \" \\\n",
    "\"GROUP BY CUBE(s.division ,tim.month) \"\\\n",
    "\"ORDER BY s.division \"\n",
    "cur.execute(select_stmt)\n",
    "records = cur.fetchall()\n",
    "records\n",
    "\n",
    "df = pd.DataFrame(list(records), columns = ['Year','Month', 'Sales'])\n",
    "# df = df.dropna()\n",
    "df['Sales'] = df['Sales'].astype('float64')\n",
    "df['Month'] = df['Month'].astype('object')\n",
    "# fig = df.plot.bar(x='Month', y='Sales', figsize=(10,7), rot=0)\n",
    "df\n"
   ]
  },
  {
   "cell_type": "code",
   "execution_count": 6,
   "id": "ec6b848d",
   "metadata": {},
   "outputs": [
    {
     "data": {
      "text/html": [
       "<div>\n",
       "<style scoped>\n",
       "    .dataframe tbody tr th:only-of-type {\n",
       "        vertical-align: middle;\n",
       "    }\n",
       "\n",
       "    .dataframe tbody tr th {\n",
       "        vertical-align: top;\n",
       "    }\n",
       "\n",
       "    .dataframe thead th {\n",
       "        text-align: right;\n",
       "    }\n",
       "</style>\n",
       "<table border=\"1\" class=\"dataframe\">\n",
       "  <thead>\n",
       "    <tr style=\"text-align: right;\">\n",
       "      <th></th>\n",
       "      <th>Year</th>\n",
       "      <th>Month</th>\n",
       "      <th>Sales</th>\n",
       "    </tr>\n",
       "  </thead>\n",
       "  <tbody>\n",
       "    <tr>\n",
       "      <th>0</th>\n",
       "      <td>BARISAL</td>\n",
       "      <td>1.0</td>\n",
       "      <td>86244.75</td>\n",
       "    </tr>\n",
       "    <tr>\n",
       "      <th>1</th>\n",
       "      <td>BARISAL</td>\n",
       "      <td>3.0</td>\n",
       "      <td>99066.00</td>\n",
       "    </tr>\n",
       "    <tr>\n",
       "      <th>2</th>\n",
       "      <td>BARISAL</td>\n",
       "      <td>12.0</td>\n",
       "      <td>92243.75</td>\n",
       "    </tr>\n",
       "    <tr>\n",
       "      <th>3</th>\n",
       "      <td>BARISAL</td>\n",
       "      <td>7.0</td>\n",
       "      <td>92942.25</td>\n",
       "    </tr>\n",
       "    <tr>\n",
       "      <th>4</th>\n",
       "      <td>BARISAL</td>\n",
       "      <td>4.0</td>\n",
       "      <td>89232.75</td>\n",
       "    </tr>\n",
       "    <tr>\n",
       "      <th>...</th>\n",
       "      <td>...</td>\n",
       "      <td>...</td>\n",
       "      <td>...</td>\n",
       "    </tr>\n",
       "    <tr>\n",
       "      <th>85</th>\n",
       "      <td>SYLHET</td>\n",
       "      <td>2.0</td>\n",
       "      <td>62641.00</td>\n",
       "    </tr>\n",
       "    <tr>\n",
       "      <th>86</th>\n",
       "      <td>SYLHET</td>\n",
       "      <td>10.0</td>\n",
       "      <td>66341.50</td>\n",
       "    </tr>\n",
       "    <tr>\n",
       "      <th>88</th>\n",
       "      <td>SYLHET</td>\n",
       "      <td>5.0</td>\n",
       "      <td>69422.25</td>\n",
       "    </tr>\n",
       "    <tr>\n",
       "      <th>89</th>\n",
       "      <td>SYLHET</td>\n",
       "      <td>1.0</td>\n",
       "      <td>65704.00</td>\n",
       "    </tr>\n",
       "    <tr>\n",
       "      <th>90</th>\n",
       "      <td>SYLHET</td>\n",
       "      <td>8.0</td>\n",
       "      <td>63129.75</td>\n",
       "    </tr>\n",
       "  </tbody>\n",
       "</table>\n",
       "<p>84 rows × 3 columns</p>\n",
       "</div>"
      ],
      "text/plain": [
       "       Year Month     Sales\n",
       "0   BARISAL   1.0  86244.75\n",
       "1   BARISAL   3.0  99066.00\n",
       "2   BARISAL  12.0  92243.75\n",
       "3   BARISAL   7.0  92942.25\n",
       "4   BARISAL   4.0  89232.75\n",
       "..      ...   ...       ...\n",
       "85   SYLHET   2.0  62641.00\n",
       "86   SYLHET  10.0  66341.50\n",
       "88   SYLHET   5.0  69422.25\n",
       "89   SYLHET   1.0  65704.00\n",
       "90   SYLHET   8.0  63129.75\n",
       "\n",
       "[84 rows x 3 columns]"
      ]
     },
     "execution_count": 6,
     "metadata": {},
     "output_type": "execute_result"
    }
   ],
   "source": [
    "df = df.dropna()\n",
    "df"
   ]
  },
  {
   "cell_type": "code",
   "execution_count": 7,
   "id": "f48e35c3",
   "metadata": {},
   "outputs": [
    {
     "data": {
      "text/plain": [
       "Text(0, 0.5, 'Total Sales in each month')"
      ]
     },
     "execution_count": 7,
     "metadata": {},
     "output_type": "execute_result"
    },
    {
     "data": {
      "image/png": "[encoded data removed]",
      "text/plain": [
       "<Figure size 1440x360 with 1 Axes>"
      ]
     },
     "metadata": {
      "needs_background": "light"
     },
     "output_type": "display_data"
    }
   ],
   "source": [
    "df_pivot = pd.pivot_table(df, values=\"Sales\", index=\"Year\", columns=\"Month\")\n",
    "\n",
    "ax = df_pivot.plot(kind=\"bar\")\n",
    "\n",
    "fig = ax.get_figure()\n",
    "\n",
    "fig.set_size_inches(20, 5)\n",
    "\n",
    "ax.set_xlabel(\"Year\")\n",
    "ax.set_ylabel(\"Total Sales in each month\")\n"
   ]
  },
  {
   "cell_type": "code",
   "execution_count": null,
   "id": "66d257ba",
   "metadata": {},
   "outputs": [],
   "source": []
  }
 ],
 "metadata": {
  "kernelspec": {
   "display_name": "Python 3 (ipykernel)",
   "language": "python",
   "name": "python3"
  },
  "language_info": {
   "codemirror_mode": {
    "name": "ipython",
    "version": 3
   },
   "file_extension": ".py",
   "mimetype": "text/x-python",
   "name": "python",
   "nbconvert_exporter": "python",
   "pygments_lexer": "ipython3",
   "version": "3.10.1"
  }
 },
 "nbformat": 4,
 "nbformat_minor": 5
}
