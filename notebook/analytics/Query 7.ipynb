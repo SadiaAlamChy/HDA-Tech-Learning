{
 "cells": [
  {
   "cell_type": "markdown",
   "id": "5435d663",
   "metadata": {},
   "source": [
    "### Q7: What products have been sold through card or mobile since X days?\n",
    "\n",
    "####    input: X = 5 days\n",
    "\n",
    "####    output: [item1, item2, item3, ...........]"
   ]
  },
  {
   "cell_type": "code",
   "execution_count": 1,
   "id": "31d05816",
   "metadata": {},
   "outputs": [],
   "source": [
    "import psycopg2\n",
    "import pandas as pd\n",
    "import numpy as np\n",
    "import psycopg2.extras\n",
    "import matplotlib.pyplot as plt"
   ]
  },
  {
   "cell_type": "code",
   "execution_count": 2,
   "id": "23aff44e",
   "metadata": {},
   "outputs": [
    {
     "name": "stdout",
     "output_type": "stream",
     "text": [
      "Successfully connected to the database\n"
     ]
    }
   ],
   "source": [
    "class PostgresConnection(object):\n",
    "    def __init__(self):\n",
    "        self.connection = psycopg2.connect(database = \"ecomdb\",\n",
    "                                                  user = \"postgres\",\n",
    "                                                  password = \"sultanmahmud22\",\n",
    "                                                  host = \"127.0.0.1\",\n",
    "                                                  port= \"5432\")\n",
    "    def getConnection(self):\n",
    "        print(\"Successfully connected to the database\")\n",
    "        return self.connection\n",
    "\n",
    "con = PostgresConnection().getConnection()"
   ]
  },
  {
   "cell_type": "code",
   "execution_count": 18,
   "id": "175e8e3a",
   "metadata": {},
   "outputs": [
    {
     "name": "stdout",
     "output_type": "stream",
     "text": [
      "Enter no. of days for the query: 398\n",
      "Successfully connected to the database\n"
     ]
    },
    {
     "data": {
      "text/html": [
       "<div>\n",
       "<style scoped>\n",
       "    .dataframe tbody tr th:only-of-type {\n",
       "        vertical-align: middle;\n",
       "    }\n",
       "\n",
       "    .dataframe tbody tr th {\n",
       "        vertical-align: top;\n",
       "    }\n",
       "\n",
       "    .dataframe thead th {\n",
       "        text-align: right;\n",
       "    }\n",
       "</style>\n",
       "<table border=\"1\" class=\"dataframe\">\n",
       "  <thead>\n",
       "    <tr style=\"text-align: right;\">\n",
       "      <th></th>\n",
       "      <th>ItemName</th>\n",
       "    </tr>\n",
       "  </thead>\n",
       "  <tbody>\n",
       "    <tr>\n",
       "      <th>0</th>\n",
       "      <td>A&amp;W Root Beer - 12 oz cans</td>\n",
       "    </tr>\n",
       "    <tr>\n",
       "      <th>1</th>\n",
       "      <td>A&amp;W Root Beer - 12 oz cans</td>\n",
       "    </tr>\n",
       "    <tr>\n",
       "      <th>2</th>\n",
       "      <td>A&amp;W Root Beer Diet - 12 oz cans</td>\n",
       "    </tr>\n",
       "    <tr>\n",
       "      <th>3</th>\n",
       "      <td>A&amp;W Root Beer Diet - 12 oz cans</td>\n",
       "    </tr>\n",
       "    <tr>\n",
       "      <th>4</th>\n",
       "      <td>Barq's Root Beer - 12 oz cans</td>\n",
       "    </tr>\n",
       "    <tr>\n",
       "      <th>...</th>\n",
       "      <td>...</td>\n",
       "    </tr>\n",
       "    <tr>\n",
       "      <th>422</th>\n",
       "      <td>POM 2 ply paper towels</td>\n",
       "    </tr>\n",
       "    <tr>\n",
       "      <th>423</th>\n",
       "      <td>POM 2 ply paper towels</td>\n",
       "    </tr>\n",
       "    <tr>\n",
       "      <th>424</th>\n",
       "      <td>POM 2 ply paper towels</td>\n",
       "    </tr>\n",
       "    <tr>\n",
       "      <th>425</th>\n",
       "      <td>POM 2 ply paper towels</td>\n",
       "    </tr>\n",
       "    <tr>\n",
       "      <th>426</th>\n",
       "      <td>Advil 2 pill packets</td>\n",
       "    </tr>\n",
       "  </tbody>\n",
       "</table>\n",
       "<p>427 rows × 1 columns</p>\n",
       "</div>"
      ],
      "text/plain": [
       "                            ItemName\n",
       "0         A&W Root Beer - 12 oz cans\n",
       "1         A&W Root Beer - 12 oz cans\n",
       "2    A&W Root Beer Diet - 12 oz cans\n",
       "3    A&W Root Beer Diet - 12 oz cans\n",
       "4      Barq's Root Beer - 12 oz cans\n",
       "..                               ...\n",
       "422           POM 2 ply paper towels\n",
       "423           POM 2 ply paper towels\n",
       "424           POM 2 ply paper towels\n",
       "425           POM 2 ply paper towels\n",
       "426             Advil 2 pill packets\n",
       "\n",
       "[427 rows x 1 columns]"
      ]
     },
     "execution_count": 18,
     "metadata": {},
     "output_type": "execute_result"
    }
   ],
   "source": [
    "day = int(input('Enter no. of days for the query: '))\n",
    "con = PostgresConnection().getConnection()\n",
    "cur = con.cursor()\n",
    "select_stmt = \"SELECT  it.item_name \" \\\n",
    "\"FROM star_schema.fact_table t  \" \\\n",
    "\"JOIN star_schema.store_dim s on s.store_key = t.store_key \" \\\n",
    "\"JOIN star_schema.time_dim tim on tim.time_key = t.time_key \" \\\n",
    "\"JOIN star_schema.trans_dim tr on tr.payment_key = t.payment_key \" \\\n",
    "\"JOIN star_schema.item_dim it on it.item_key = t.item_key  \" \\\n",
    "\"WHERE (tr.trans_type='card' or tr.trans_type='mobile') and tim.date > (CURRENT_DATE - integer '{}')\" .format(day)\n",
    "\n",
    "cur.execute(select_stmt)\n",
    "records = cur.fetchall()\n",
    "records\n",
    "df = pd.DataFrame(list(records), columns = ['ItemName'])\n",
    "df"
   ]
  },
  {
   "cell_type": "code",
   "execution_count": null,
   "id": "3c339573",
   "metadata": {},
   "outputs": [],
   "source": []
  },
  {
   "cell_type": "markdown",
   "id": "9cb7bb64",
   "metadata": {},
   "source": [
    "##### "
   ]
  }
 ],
 "metadata": {
  "kernelspec": {
   "display_name": "Python 3 (ipykernel)",
   "language": "python",
   "name": "python3"
  },
  "language_info": {
   "codemirror_mode": {
    "name": "ipython",
    "version": 3
   },
   "file_extension": ".py",
   "mimetype": "text/x-python",
   "name": "python",
   "nbconvert_exporter": "python",
   "pygments_lexer": "ipython3",
   "version": "3.10.1"
  }
 },
 "nbformat": 4,
 "nbformat_minor": 5
}
