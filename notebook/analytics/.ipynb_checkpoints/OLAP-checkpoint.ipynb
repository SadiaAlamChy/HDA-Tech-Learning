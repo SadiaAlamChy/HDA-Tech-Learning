{
 "cells": [
  {
   "cell_type": "code",
   "execution_count": 18,
   "id": "ed6ac2c8",
   "metadata": {},
   "outputs": [],
   "source": [
    "import psycopg2\n",
    "import pandas as pd\n",
    "import psycopg2.extras\n",
    "import matplotlib.pyplot as plt"
   ]
  },
  {
   "cell_type": "code",
   "execution_count": 9,
   "id": "9bec3a21",
   "metadata": {},
   "outputs": [],
   "source": [
    "class PostgresConnection(object):\n",
    "    def __init__(self):\n",
    "        self.connection = psycopg2.connect(database=\"ecomdb\",\n",
    "                                           user = \"postgres\",\n",
    "                                           password = \"123456\",\n",
    "                                           host = \"127.0.0.1\",\n",
    "                                           port = \"5432\")\n",
    "\n",
    "    def getConnection(self):\n",
    "        print(\"successfully connected to database\")\n",
    "        return self.connection\n",
    "    \n",
    "    \n",
    "# con = PostgresConnection().getConnection()    "
   ]
  },
  {
   "cell_type": "markdown",
   "id": "09016a01",
   "metadata": {},
   "source": [
    "### Common Function to fetch Data from all tables "
   ]
  },
  {
   "cell_type": "code",
   "execution_count": 22,
   "id": "f9bad462",
   "metadata": {},
   "outputs": [],
   "source": [
    "#  select_stmt= is the SQL select query along with  table and column name    \n",
    "def retrive_data_from_table(select_stmt): \n",
    "    con = PostgresConnection().getConnection()\n",
    "    cur = con.cursor()\n",
    "#     select_stmt = \"SELECT t.payment_key , t.trans_type, t.bank_name \" \\\n",
    "#                   \"FROM ecomdb_star_schema.trans_dim t\"\n",
    "    cur.execute(select_stmt)\n",
    "    records = cur.fetchall()\n",
    "    return records"
   ]
  },
  {
   "cell_type": "markdown",
   "id": "9e210bd6",
   "metadata": {},
   "source": [
    "# Do some simple CUBE query including ROLL UP, DRILL DOWN, SLICE, DICE to answer the following questions from the ecomdb warehouse"
   ]
  },
  {
   "cell_type": "markdown",
   "id": "c33a8858",
   "metadata": {},
   "source": [
    "### Q1: Find the division/district/year/month wise total_sale_price joining fact table and respective dimension table "
   ]
  },
  {
   "cell_type": "markdown",
   "id": "0c065d68",
   "metadata": {},
   "source": [
    "##### ROLLUP"
   ]
  },
  {
   "cell_type": "code",
   "execution_count": 26,
   "id": "1d311de7",
   "metadata": {},
   "outputs": [
    {
     "name": "stdout",
     "output_type": "stream",
     "text": [
      "successfully connected to database\n"
     ]
    },
    {
     "data": {
      "text/html": [
       "<div>\n",
       "<style scoped>\n",
       "    .dataframe tbody tr th:only-of-type {\n",
       "        vertical-align: middle;\n",
       "    }\n",
       "\n",
       "    .dataframe tbody tr th {\n",
       "        vertical-align: top;\n",
       "    }\n",
       "\n",
       "    .dataframe thead th {\n",
       "        text-align: right;\n",
       "    }\n",
       "</style>\n",
       "<table border=\"1\" class=\"dataframe\">\n",
       "  <thead>\n",
       "    <tr style=\"text-align: right;\">\n",
       "      <th></th>\n",
       "      <th>division</th>\n",
       "      <th>district</th>\n",
       "      <th>month</th>\n",
       "      <th>year</th>\n",
       "      <th>total_sales</th>\n",
       "    </tr>\n",
       "  </thead>\n",
       "  <tbody>\n",
       "    <tr>\n",
       "      <th>0</th>\n",
       "      <td>BARISAL</td>\n",
       "      <td>JHALOKATI</td>\n",
       "      <td>3.0</td>\n",
       "      <td>2018.0</td>\n",
       "      <td>13597.50</td>\n",
       "    </tr>\n",
       "    <tr>\n",
       "      <th>1</th>\n",
       "      <td>BARISAL</td>\n",
       "      <td>BARISAL</td>\n",
       "      <td>1.0</td>\n",
       "      <td>2021.0</td>\n",
       "      <td>51799.00</td>\n",
       "    </tr>\n",
       "    <tr>\n",
       "      <th>2</th>\n",
       "      <td>BARISAL</td>\n",
       "      <td>BARGUNA</td>\n",
       "      <td>12.0</td>\n",
       "      <td>2018.0</td>\n",
       "      <td>23065.50</td>\n",
       "    </tr>\n",
       "    <tr>\n",
       "      <th>3</th>\n",
       "      <td>BARISAL</td>\n",
       "      <td>PATUAKHALI</td>\n",
       "      <td>5.0</td>\n",
       "      <td>2015.0</td>\n",
       "      <td>25013.50</td>\n",
       "    </tr>\n",
       "    <tr>\n",
       "      <th>4</th>\n",
       "      <td>BARISAL</td>\n",
       "      <td>PATUAKHALI</td>\n",
       "      <td>11.0</td>\n",
       "      <td>2017.0</td>\n",
       "      <td>23102.50</td>\n",
       "    </tr>\n",
       "    <tr>\n",
       "      <th>...</th>\n",
       "      <td>...</td>\n",
       "      <td>...</td>\n",
       "      <td>...</td>\n",
       "      <td>...</td>\n",
       "      <td>...</td>\n",
       "    </tr>\n",
       "    <tr>\n",
       "      <th>6275</th>\n",
       "      <td>SYLHET</td>\n",
       "      <td>MAULVIBAZAR</td>\n",
       "      <td>12.0</td>\n",
       "      <td>2020.0</td>\n",
       "      <td>27745.00</td>\n",
       "    </tr>\n",
       "    <tr>\n",
       "      <th>6276</th>\n",
       "      <td>SYLHET</td>\n",
       "      <td>MAULVIBAZAR</td>\n",
       "      <td>8.0</td>\n",
       "      <td>2017.0</td>\n",
       "      <td>31631.50</td>\n",
       "    </tr>\n",
       "    <tr>\n",
       "      <th>6277</th>\n",
       "      <td>SYLHET</td>\n",
       "      <td>MAULVIBAZAR</td>\n",
       "      <td>10.0</td>\n",
       "      <td>2015.0</td>\n",
       "      <td>24893.50</td>\n",
       "    </tr>\n",
       "    <tr>\n",
       "      <th>6278</th>\n",
       "      <td>SYLHET</td>\n",
       "      <td>HABIGANJ</td>\n",
       "      <td>10.0</td>\n",
       "      <td>2020.0</td>\n",
       "      <td>29836.00</td>\n",
       "    </tr>\n",
       "    <tr>\n",
       "      <th>6279</th>\n",
       "      <td>None</td>\n",
       "      <td>None</td>\n",
       "      <td>NaN</td>\n",
       "      <td>NaN</td>\n",
       "      <td>210802871.50</td>\n",
       "    </tr>\n",
       "  </tbody>\n",
       "</table>\n",
       "<p>6280 rows × 5 columns</p>\n",
       "</div>"
      ],
      "text/plain": [
       "     division     district  month    year   total_sales\n",
       "0     BARISAL    JHALOKATI    3.0  2018.0      13597.50\n",
       "1     BARISAL      BARISAL    1.0  2021.0      51799.00\n",
       "2     BARISAL      BARGUNA   12.0  2018.0      23065.50\n",
       "3     BARISAL   PATUAKHALI    5.0  2015.0      25013.50\n",
       "4     BARISAL   PATUAKHALI   11.0  2017.0      23102.50\n",
       "...       ...          ...    ...     ...           ...\n",
       "6275   SYLHET  MAULVIBAZAR   12.0  2020.0      27745.00\n",
       "6276   SYLHET  MAULVIBAZAR    8.0  2017.0      31631.50\n",
       "6277   SYLHET  MAULVIBAZAR   10.0  2015.0      24893.50\n",
       "6278   SYLHET     HABIGANJ   10.0  2020.0      29836.00\n",
       "6279     None         None    NaN     NaN  210802871.50\n",
       "\n",
       "[6280 rows x 5 columns]"
      ]
     },
     "execution_count": 26,
     "metadata": {},
     "output_type": "execute_result"
    }
   ],
   "source": [
    "select_stmt = \" SELECT sr.division ,sr.district,tim.month, tim.year, SUM(fact.total_price) \" \\\n",
    "              \" From ecomdb_star_schema.fact_table fact \" \\\n",
    "              \" JOIN ecomdb_star_schema.store_dim sr on sr.store_key=fact.store_key \" \\\n",
    "              \" JOIN ecomdb_star_schema.time_dim tim on tim.time_key=fact.time_key \"\\\n",
    "              \" GROUP BY ROLLUP (sr.division,sr.district,tim.month, tim.year) \"\\\n",
    "              \" ORDER BY sr.division\"\n",
    "\n",
    "ROLLUP_records = retrive_data_from_table(select_stmt)\n",
    "df = pd.DataFrame(list(ROLLUP_records), columns=['division', 'district', 'month', 'year', 'total_sales'])\n",
    "df"
   ]
  },
  {
   "cell_type": "code",
   "execution_count": 27,
   "id": "924ec628",
   "metadata": {},
   "outputs": [
    {
     "name": "stdout",
     "output_type": "stream",
     "text": [
      "division        object\n",
      "district        object\n",
      "month          float64\n",
      "year           float64\n",
      "total_sales     object\n",
      "dtype: object\n"
     ]
    }
   ],
   "source": [
    "print(df.dtypes)"
   ]
  },
  {
   "cell_type": "code",
   "execution_count": 28,
   "id": "d8d38e5d",
   "metadata": {
    "scrolled": true
   },
   "outputs": [
    {
     "name": "stdout",
     "output_type": "stream",
     "text": [
      "division        object\n",
      "district        object\n",
      "month          float64\n",
      "year           float64\n",
      "total_sales    float64\n",
      "dtype: object\n"
     ]
    }
   ],
   "source": [
    "df['total_sales'] = df['total_sales'].astype('float64')\n",
    "print(df.dtypes)"
   ]
  },
  {
   "cell_type": "markdown",
   "id": "1994d076",
   "metadata": {},
   "source": [
    "##### ROLLUP"
   ]
  },
  {
   "cell_type": "code",
   "execution_count": null,
   "id": "8930d74f",
   "metadata": {},
   "outputs": [],
   "source": [
    "## Make Gneralize/ \n",
    "select_stmt = \" SELECT sr.division ,sr.district,tim.month, tim.year, SUM(fact.total_price) \" \\\n",
    "              \" From ecomdb_star_schema.fact_table fact \" \\\n",
    "              \" JOIN ecomdb_star_schema.store_dim sr on sr.store_key=fact.store_key \" \\\n",
    "              \" JOIN ecomdb_star_schema.time_dim tim on tim.time_key=fact.time_key \"\\\n",
    "              \" GROUP BY ROLLUP(sr.division,sr.district,tim.month, tim.year) \"\\\n",
    "              \" ORDER BY sr.division\"\n",
    "  \n",
    "ROLLUP_records = retrive_data_from_table(select_stmt)\n",
    "df = pd.DataFrame(list(ROLLUP_records), columns=['division', 'district', 'month', 'year', 'total_sales'])\n",
    "df"
   ]
  },
  {
   "cell_type": "markdown",
   "id": "3387dc04",
   "metadata": {},
   "source": [
    "##### DRILL DOWN"
   ]
  },
  {
   "cell_type": "code",
   "execution_count": null,
   "id": "862a649c",
   "metadata": {},
   "outputs": [],
   "source": [
    "## DRILL_DOWN == Make Specific or expand to all category\n",
    "\n",
    "## Here I tried to expand TIME_DIM table\n",
    "## DRILL_DOWN(division->> upazila)\n",
    "select_stmt1 = \" SELECT sr.division, sr.district, sr.upazila,tim.year, SUM(fact.total_price) \" \\\n",
    "              \" From ecomdb_star_schema.fact_table fact \" \\\n",
    "              \" JOIN ecomdb_star_schema.store_dim sr on sr.store_key=fact.store_key \" \\\n",
    "              \" JOIN ecomdb_star_schema.time_dim tim on tim.time_key=fact.time_key \"\\\n",
    "              \" GROUP BY CUBE(sr.division,sr.district,sr.upazila, tim.year) \"\\\n",
    "              \" ORDER BY sr.division\"\n",
    "CUBE_records = retrive_data_from_table(select_stmt)\n",
    "df1 = pd.DataFrame(list(CUBE_records), columns=['division', 'district','upazila', 'year', 'total_sales'])\n",
    "print(df1)\n",
    "\n",
    "## Here I tried to expand TIME_DIM table\n",
    "## DRILL_DOWN(division->> upazila)\n",
    "select_stmt = \" SELECT sr.division,tim.year,tim.month,tim.quarter, SUM(fact.total_price) \" \\\n",
    "              \" From ecomdb_star_schema.fact_table fact \" \\\n",
    "              \" JOIN ecomdb_star_schema.store_dim sr on sr.store_key=fact.store_key \" \\\n",
    "              \" JOIN ecomdb_star_schema.time_dim tim on tim.time_key=fact.time_key \"\\\n",
    "              \" GROUP BY CUBE(sr.division,tim.year,tim.month,tim.quarter) \"\\\n",
    "              \" ORDER BY sr.division\"\n",
    "\n",
    "\n",
    "CUBE_records = retrive_data_from_table(select_stmt)\n",
    "df2 = pd.DataFrame(list(CUBE_records), columns=['division','year','month','quarter', 'total_sales'])\n",
    "print(df2)"
   ]
  },
  {
   "cell_type": "markdown",
   "id": "a3d2f14a",
   "metadata": {},
   "source": [
    "##### CUBE"
   ]
  },
  {
   "cell_type": "code",
   "execution_count": 30,
   "id": "05cea02a",
   "metadata": {
    "scrolled": false
   },
   "outputs": [
    {
     "name": "stdout",
     "output_type": "stream",
     "text": [
      "successfully connected to database\n"
     ]
    },
    {
     "data": {
      "text/html": [
       "<div>\n",
       "<style scoped>\n",
       "    .dataframe tbody tr th:only-of-type {\n",
       "        vertical-align: middle;\n",
       "    }\n",
       "\n",
       "    .dataframe tbody tr th {\n",
       "        vertical-align: top;\n",
       "    }\n",
       "\n",
       "    .dataframe thead th {\n",
       "        text-align: right;\n",
       "    }\n",
       "</style>\n",
       "<table border=\"1\" class=\"dataframe\">\n",
       "  <thead>\n",
       "    <tr style=\"text-align: right;\">\n",
       "      <th></th>\n",
       "      <th>division</th>\n",
       "      <th>district</th>\n",
       "      <th>month</th>\n",
       "      <th>year</th>\n",
       "      <th>total_sales</th>\n",
       "    </tr>\n",
       "  </thead>\n",
       "  <tbody>\n",
       "    <tr>\n",
       "      <th>0</th>\n",
       "      <td>BARISAL</td>\n",
       "      <td>PIROJPUR</td>\n",
       "      <td>9.0</td>\n",
       "      <td>2015.0</td>\n",
       "      <td>24391.00</td>\n",
       "    </tr>\n",
       "    <tr>\n",
       "      <th>1</th>\n",
       "      <td>BARISAL</td>\n",
       "      <td>None</td>\n",
       "      <td>8.0</td>\n",
       "      <td>NaN</td>\n",
       "      <td>1263763.00</td>\n",
       "    </tr>\n",
       "    <tr>\n",
       "      <th>2</th>\n",
       "      <td>BARISAL</td>\n",
       "      <td>PIROJPUR</td>\n",
       "      <td>10.0</td>\n",
       "      <td>2014.0</td>\n",
       "      <td>22612.00</td>\n",
       "    </tr>\n",
       "    <tr>\n",
       "      <th>3</th>\n",
       "      <td>BARISAL</td>\n",
       "      <td>PIROJPUR</td>\n",
       "      <td>11.0</td>\n",
       "      <td>2015.0</td>\n",
       "      <td>22048.00</td>\n",
       "    </tr>\n",
       "    <tr>\n",
       "      <th>4</th>\n",
       "      <td>BARISAL</td>\n",
       "      <td>PIROJPUR</td>\n",
       "      <td>8.0</td>\n",
       "      <td>NaN</td>\n",
       "      <td>175170.00</td>\n",
       "    </tr>\n",
       "    <tr>\n",
       "      <th>...</th>\n",
       "      <td>...</td>\n",
       "      <td>...</td>\n",
       "      <td>...</td>\n",
       "      <td>...</td>\n",
       "      <td>...</td>\n",
       "    </tr>\n",
       "    <tr>\n",
       "      <th>14411</th>\n",
       "      <td>None</td>\n",
       "      <td>PANCHAGARH</td>\n",
       "      <td>NaN</td>\n",
       "      <td>2021.0</td>\n",
       "      <td>10391.00</td>\n",
       "    </tr>\n",
       "    <tr>\n",
       "      <th>14412</th>\n",
       "      <td>None</td>\n",
       "      <td>LALMONIRHAT</td>\n",
       "      <td>NaN</td>\n",
       "      <td>2020.0</td>\n",
       "      <td>206774.50</td>\n",
       "    </tr>\n",
       "    <tr>\n",
       "      <th>14413</th>\n",
       "      <td>None</td>\n",
       "      <td>GAIBANDHA</td>\n",
       "      <td>NaN</td>\n",
       "      <td>2021.0</td>\n",
       "      <td>18908.00</td>\n",
       "    </tr>\n",
       "    <tr>\n",
       "      <th>14414</th>\n",
       "      <td>None</td>\n",
       "      <td>LALMONIRHAT</td>\n",
       "      <td>NaN</td>\n",
       "      <td>2019.0</td>\n",
       "      <td>212435.50</td>\n",
       "    </tr>\n",
       "    <tr>\n",
       "      <th>14415</th>\n",
       "      <td>None</td>\n",
       "      <td>RAJSHAHI</td>\n",
       "      <td>NaN</td>\n",
       "      <td>2017.0</td>\n",
       "      <td>1078581.50</td>\n",
       "    </tr>\n",
       "  </tbody>\n",
       "</table>\n",
       "<p>14416 rows × 5 columns</p>\n",
       "</div>"
      ],
      "text/plain": [
       "      division     district  month    year total_sales\n",
       "0      BARISAL     PIROJPUR    9.0  2015.0    24391.00\n",
       "1      BARISAL         None    8.0     NaN  1263763.00\n",
       "2      BARISAL     PIROJPUR   10.0  2014.0    22612.00\n",
       "3      BARISAL     PIROJPUR   11.0  2015.0    22048.00\n",
       "4      BARISAL     PIROJPUR    8.0     NaN   175170.00\n",
       "...        ...          ...    ...     ...         ...\n",
       "14411     None   PANCHAGARH    NaN  2021.0    10391.00\n",
       "14412     None  LALMONIRHAT    NaN  2020.0   206774.50\n",
       "14413     None    GAIBANDHA    NaN  2021.0    18908.00\n",
       "14414     None  LALMONIRHAT    NaN  2019.0   212435.50\n",
       "14415     None     RAJSHAHI    NaN  2017.0  1078581.50\n",
       "\n",
       "[14416 rows x 5 columns]"
      ]
     },
     "execution_count": 30,
     "metadata": {},
     "output_type": "execute_result"
    }
   ],
   "source": [
    "select_stmt = \" SELECT sr.division ,sr.district,tim.month, tim.year, SUM(fact.total_price) \" \\\n",
    "              \" From ecomdb_star_schema.fact_table fact \" \\\n",
    "              \" JOIN ecomdb_star_schema.store_dim sr on sr.store_key=fact.store_key \" \\\n",
    "              \" JOIN ecomdb_star_schema.time_dim tim on tim.time_key=fact.time_key \"\\\n",
    "              \" GROUP BY CUBE(sr.division,sr.district,tim.month, tim.year) \"\\\n",
    "              \" ORDER BY sr.division\"\n",
    "  \n",
    "CUBE_records = retrive_data_from_table(select_stmt)\n",
    "df = pd.DataFrame(list(CUBE_records), columns=['division', 'district', 'month', 'year', 'total_sales'])\n",
    "df"
   ]
  },
  {
   "cell_type": "code",
   "execution_count": 33,
   "id": "d7fd8ef7",
   "metadata": {},
   "outputs": [
    {
     "data": {
      "text/plain": [
       "array(['BARISAL', 'CHITTAGONG', 'DHAKA', 'KHULNA', 'RAJSHAHI', 'RANGPUR',\n",
       "       'SYLHET', None], dtype=object)"
      ]
     },
     "execution_count": 33,
     "metadata": {},
     "output_type": "execute_result"
    }
   ],
   "source": [
    "df['division'].unique()"
   ]
  },
  {
   "cell_type": "code",
   "execution_count": 32,
   "id": "9450980b",
   "metadata": {},
   "outputs": [
    {
     "data": {
      "text/plain": [
       "division        object\n",
       "district        object\n",
       "month          float64\n",
       "year           float64\n",
       "total_sales    float64\n",
       "dtype: object"
      ]
     },
     "execution_count": 32,
     "metadata": {},
     "output_type": "execute_result"
    }
   ],
   "source": [
    "df.dtypes\n",
    "df['total_sales'] = df['total_sales'].astype('float64')\n",
    "df.dtypes"
   ]
  },
  {
   "cell_type": "markdown",
   "id": "8d2c833c",
   "metadata": {},
   "source": [
    "##### SLICE"
   ]
  },
  {
   "cell_type": "code",
   "execution_count": 98,
   "id": "c0d84a24",
   "metadata": {
    "scrolled": true
   },
   "outputs": [
    {
     "name": "stdout",
     "output_type": "stream",
     "text": [
      "successfully connected to database\n"
     ]
    },
    {
     "data": {
      "text/html": [
       "<div>\n",
       "<style scoped>\n",
       "    .dataframe tbody tr th:only-of-type {\n",
       "        vertical-align: middle;\n",
       "    }\n",
       "\n",
       "    .dataframe tbody tr th {\n",
       "        vertical-align: top;\n",
       "    }\n",
       "\n",
       "    .dataframe thead th {\n",
       "        text-align: right;\n",
       "    }\n",
       "</style>\n",
       "<table border=\"1\" class=\"dataframe\">\n",
       "  <thead>\n",
       "    <tr style=\"text-align: right;\">\n",
       "      <th></th>\n",
       "      <th>division</th>\n",
       "      <th>district</th>\n",
       "      <th>total_sales</th>\n",
       "    </tr>\n",
       "  </thead>\n",
       "  <tbody>\n",
       "    <tr>\n",
       "      <th>0</th>\n",
       "      <td>CHITTAGONG</td>\n",
       "      <td>BANDARBAN</td>\n",
       "      <td>1990721.50</td>\n",
       "    </tr>\n",
       "    <tr>\n",
       "      <th>1</th>\n",
       "      <td>CHITTAGONG</td>\n",
       "      <td>BRAHMANBARIA</td>\n",
       "      <td>2656468.50</td>\n",
       "    </tr>\n",
       "    <tr>\n",
       "      <th>2</th>\n",
       "      <td>CHITTAGONG</td>\n",
       "      <td>CHANDPUR</td>\n",
       "      <td>2306553.50</td>\n",
       "    </tr>\n",
       "    <tr>\n",
       "      <th>3</th>\n",
       "      <td>CHITTAGONG</td>\n",
       "      <td>CHITTAGONG</td>\n",
       "      <td>14585971.00</td>\n",
       "    </tr>\n",
       "    <tr>\n",
       "      <th>4</th>\n",
       "      <td>CHITTAGONG</td>\n",
       "      <td>COMILLA</td>\n",
       "      <td>4573796.50</td>\n",
       "    </tr>\n",
       "    <tr>\n",
       "      <th>5</th>\n",
       "      <td>CHITTAGONG</td>\n",
       "      <td>COX'S BAZAR</td>\n",
       "      <td>2376257.50</td>\n",
       "    </tr>\n",
       "    <tr>\n",
       "      <th>6</th>\n",
       "      <td>CHITTAGONG</td>\n",
       "      <td>FENI</td>\n",
       "      <td>1695747.00</td>\n",
       "    </tr>\n",
       "    <tr>\n",
       "      <th>7</th>\n",
       "      <td>CHITTAGONG</td>\n",
       "      <td>KHAGRACHHARI</td>\n",
       "      <td>2323443.00</td>\n",
       "    </tr>\n",
       "    <tr>\n",
       "      <th>8</th>\n",
       "      <td>CHITTAGONG</td>\n",
       "      <td>LAKSHMIPUR</td>\n",
       "      <td>1459818.50</td>\n",
       "    </tr>\n",
       "    <tr>\n",
       "      <th>9</th>\n",
       "      <td>CHITTAGONG</td>\n",
       "      <td>NOAKHALI</td>\n",
       "      <td>2642373.50</td>\n",
       "    </tr>\n",
       "    <tr>\n",
       "      <th>10</th>\n",
       "      <td>CHITTAGONG</td>\n",
       "      <td>RANGAMATI</td>\n",
       "      <td>2916039.50</td>\n",
       "    </tr>\n",
       "  </tbody>\n",
       "</table>\n",
       "</div>"
      ],
      "text/plain": [
       "      division      district  total_sales\n",
       "0   CHITTAGONG     BANDARBAN   1990721.50\n",
       "1   CHITTAGONG  BRAHMANBARIA   2656468.50\n",
       "2   CHITTAGONG      CHANDPUR   2306553.50\n",
       "3   CHITTAGONG    CHITTAGONG  14585971.00\n",
       "4   CHITTAGONG       COMILLA   4573796.50\n",
       "5   CHITTAGONG   COX'S BAZAR   2376257.50\n",
       "6   CHITTAGONG          FENI   1695747.00\n",
       "7   CHITTAGONG  KHAGRACHHARI   2323443.00\n",
       "8   CHITTAGONG    LAKSHMIPUR   1459818.50\n",
       "9   CHITTAGONG      NOAKHALI   2642373.50\n",
       "10  CHITTAGONG     RANGAMATI   2916039.50"
      ]
     },
     "execution_count": 98,
     "metadata": {},
     "output_type": "execute_result"
    }
   ],
   "source": [
    "# SLICE for divsion\n",
    "select_stmt = \" SELECT sr.division, sr.district, SUM(fact.total_price)\" \\\n",
    "              \" From ecomdb_star_schema.fact_table fact \" \\\n",
    "              \" JOIN ecomdb_star_schema.store_dim sr on sr.store_key=fact.store_key \" \\\n",
    "              \" Where sr.division ='CHITTAGONG' \" \\\n",
    "              \" GROUP BY sr.division,sr.district\"\n",
    " \n",
    "SLICE_records = retrive_data_from_table(select_stmt)\n",
    "df = pd.DataFrame(list(SLICE_records), columns=['division','district', 'total_sales'])\n",
    "df"
   ]
  },
  {
   "cell_type": "code",
   "execution_count": 129,
   "id": "4ab7bda6",
   "metadata": {},
   "outputs": [
    {
     "data": {
      "image/png": "[encoded data removed]",
      "text/plain": [
       "<Figure size 1080x576 with 1 Axes>"
      ]
     },
     "metadata": {},
     "output_type": "display_data"
    }
   ],
   "source": [
    "labels=df['district']\n",
    "data = df['total_sales']\n",
    "textprops = {\"fontsize\":10}\n",
    "colors = ( \"orange\", \"cyan\", \"brown\", \"grey\", \"indigo\", \"beige\",'salmon','palegreen','skyblue','plum','pink')\n",
    "plt.title('District wise total sell of CHITTAGONG Division',loc='center',color='r')\n",
    "\n",
    "plt.pie(data, labels=labels, shadow = True, textprops = textprops, colors=colors, autopct='%.2f%%',explode=(0.1, 0.1,0.1, 0.1, 0.1, 0.1,0.1, 0.1, 0.1, 0.1, 0.1))\n",
    "# plt.figure(figsize=(20,12)) \n",
    "# plt.figure(figsize=(8,10))\n",
    "plt.rcParams[\"figure.figsize\"] = (12,7)\n",
    "#  subplots=True, \n",
    "plt.show()\n"
   ]
  },
  {
   "cell_type": "markdown",
   "id": "71eb01a7",
   "metadata": {},
   "source": [
    "##### DICE"
   ]
  },
  {
   "cell_type": "code",
   "execution_count": 78,
   "id": "ecc0e31a",
   "metadata": {
    "scrolled": true
   },
   "outputs": [
    {
     "name": "stdout",
     "output_type": "stream",
     "text": [
      "successfully connected to database\n"
     ]
    },
    {
     "data": {
      "text/html": [
       "<div>\n",
       "<style scoped>\n",
       "    .dataframe tbody tr th:only-of-type {\n",
       "        vertical-align: middle;\n",
       "    }\n",
       "\n",
       "    .dataframe tbody tr th {\n",
       "        vertical-align: top;\n",
       "    }\n",
       "\n",
       "    .dataframe thead th {\n",
       "        text-align: right;\n",
       "    }\n",
       "</style>\n",
       "<table border=\"1\" class=\"dataframe\">\n",
       "  <thead>\n",
       "    <tr style=\"text-align: right;\">\n",
       "      <th></th>\n",
       "      <th>division</th>\n",
       "      <th>month</th>\n",
       "      <th>total_sales</th>\n",
       "    </tr>\n",
       "  </thead>\n",
       "  <tbody>\n",
       "    <tr>\n",
       "      <th>0</th>\n",
       "      <td>CHITTAGONG</td>\n",
       "      <td>1</td>\n",
       "      <td>3429666.50</td>\n",
       "    </tr>\n",
       "    <tr>\n",
       "      <th>1</th>\n",
       "      <td>CHITTAGONG</td>\n",
       "      <td>2</td>\n",
       "      <td>3010753.00</td>\n",
       "    </tr>\n",
       "    <tr>\n",
       "      <th>2</th>\n",
       "      <td>CHITTAGONG</td>\n",
       "      <td>3</td>\n",
       "      <td>3368062.00</td>\n",
       "    </tr>\n",
       "    <tr>\n",
       "      <th>3</th>\n",
       "      <td>CHITTAGONG</td>\n",
       "      <td>4</td>\n",
       "      <td>3168166.00</td>\n",
       "    </tr>\n",
       "    <tr>\n",
       "      <th>4</th>\n",
       "      <td>CHITTAGONG</td>\n",
       "      <td>5</td>\n",
       "      <td>3443851.00</td>\n",
       "    </tr>\n",
       "    <tr>\n",
       "      <th>5</th>\n",
       "      <td>CHITTAGONG</td>\n",
       "      <td>6</td>\n",
       "      <td>3179065.00</td>\n",
       "    </tr>\n",
       "    <tr>\n",
       "      <th>6</th>\n",
       "      <td>CHITTAGONG</td>\n",
       "      <td>7</td>\n",
       "      <td>3425908.50</td>\n",
       "    </tr>\n",
       "    <tr>\n",
       "      <th>7</th>\n",
       "      <td>CHITTAGONG</td>\n",
       "      <td>8</td>\n",
       "      <td>3335373.50</td>\n",
       "    </tr>\n",
       "    <tr>\n",
       "      <th>8</th>\n",
       "      <td>CHITTAGONG</td>\n",
       "      <td>9</td>\n",
       "      <td>3255130.50</td>\n",
       "    </tr>\n",
       "    <tr>\n",
       "      <th>9</th>\n",
       "      <td>CHITTAGONG</td>\n",
       "      <td>10</td>\n",
       "      <td>3300710.50</td>\n",
       "    </tr>\n",
       "    <tr>\n",
       "      <th>10</th>\n",
       "      <td>CHITTAGONG</td>\n",
       "      <td>11</td>\n",
       "      <td>3280227.50</td>\n",
       "    </tr>\n",
       "    <tr>\n",
       "      <th>11</th>\n",
       "      <td>CHITTAGONG</td>\n",
       "      <td>12</td>\n",
       "      <td>3330276.00</td>\n",
       "    </tr>\n",
       "  </tbody>\n",
       "</table>\n",
       "</div>"
      ],
      "text/plain": [
       "      division  month total_sales\n",
       "0   CHITTAGONG      1  3429666.50\n",
       "1   CHITTAGONG      2  3010753.00\n",
       "2   CHITTAGONG      3  3368062.00\n",
       "3   CHITTAGONG      4  3168166.00\n",
       "4   CHITTAGONG      5  3443851.00\n",
       "5   CHITTAGONG      6  3179065.00\n",
       "6   CHITTAGONG      7  3425908.50\n",
       "7   CHITTAGONG      8  3335373.50\n",
       "8   CHITTAGONG      9  3255130.50\n",
       "9   CHITTAGONG     10  3300710.50\n",
       "10  CHITTAGONG     11  3280227.50\n",
       "11  CHITTAGONG     12  3330276.00"
      ]
     },
     "execution_count": 78,
     "metadata": {},
     "output_type": "execute_result"
    }
   ],
   "source": [
    "# select_stmt1 = \" SELECT i.item_name,SUM(f.total_price)\" \\\n",
    "#               \" From ecomdb_star_schema.fact_table f \" \\\n",
    "#               \" JOIN ecomdb_star_schema.store_dim s on s.store_key=f.store_key \" \\\n",
    "#               \"JOIN ecomdb_star_schema.item_dim i on i.item_key=f.item_key\" \\\n",
    "#               \" Where i.item_name ='Cherry Coke 12oz' \" \\\n",
    "#               \" GROUP BY i.item_name \"\n",
    "\n",
    "select_stmt = \" SELECT sr.division, tim.month, SUM(fact.total_price)\" \\\n",
    "              \" From ecomdb_star_schema.fact_table fact \" \\\n",
    "              \" JOIN ecomdb_star_schema.store_dim sr on sr.store_key=fact.store_key \" \\\n",
    "              \" JOIN ecomdb_star_schema.time_dim tim on tim.time_key=fact.time_key \"\\\n",
    "              \" Where sr.division ='CHITTAGONG' \" \\\n",
    "              \" GROUP BY sr.division, tim.month\"\n",
    " \n",
    "SLICE_records = retrive_data_from_table(select_stmt)\n",
    "df_slice = pd.DataFrame(list(SLICE_records), columns=['division','month', 'total_sales'])\n",
    "df_slice"
   ]
  },
  {
   "cell_type": "code",
   "execution_count": 96,
   "id": "a748438a",
   "metadata": {},
   "outputs": [
    {
     "name": "stdout",
     "output_type": "stream",
     "text": [
      "    month total_sales\n",
      "0       1  3429666.50\n",
      "1       2  3010753.00\n",
      "2       3  3368062.00\n",
      "3       4  3168166.00\n",
      "4       5  3443851.00\n",
      "5       6  3179065.00\n",
      "6       7  3425908.50\n",
      "7       8  3335373.50\n",
      "8       9  3255130.50\n",
      "9      10  3300710.50\n",
      "10     11  3280227.50\n",
      "11     12  3330276.00\n"
     ]
    },
    {
     "data": {
      "text/plain": [
       "<AxesSubplot:>"
      ]
     },
     "execution_count": 96,
     "metadata": {},
     "output_type": "execute_result"
    },
    {
     "data": {
      "image/png": "[encoded data removed]",
      "text/plain": [
       "<Figure size 720x504 with 1 Axes>"
      ]
     },
     "metadata": {
      "needs_background": "light"
     },
     "output_type": "display_data"
    }
   ],
   "source": [
    "# \n",
    "# df_slice.drop(['division'],axis=1, inplace=True) \n",
    "print(df_slice)\n",
    "df_slice.plot(kind='bar', figsize=(10,7))"
   ]
  },
  {
   "cell_type": "code",
   "execution_count": null,
   "id": "94750e4b",
   "metadata": {},
   "outputs": [],
   "source": [
    "\n",
    "\n",
    "\n",
    "\n",
    "# --- ============== Question 2 ==============\n",
    "# -------------------------- ROLLUP  -----------------------------\n",
    "# select t2.quarter, t2.month, t2.year, sum(t1.total_price) \n",
    "# from ecomdb_star_schema.fact_table t1 \n",
    "# join ecomdb_star_schema.time_dim t2 on t1.time_key = t2.time_key\n",
    "# group by ROLLUP(t2.quarter, t2.month, t2.year)\n",
    "\n",
    "# --------------------------  CUBE  --------------------------------\n",
    "# select t2.quarter, t2.month, t2.year, sum(t1.total_price) \n",
    "# from ecomdb_star_schema.fact_table t1 \n",
    "# join ecomdb_star_schema.time_dim t2 on t1.time_key = t2.time_key\n",
    "# group by CUBE(t2.quarter, t2.month, t2.year)"
   ]
  },
  {
   "cell_type": "markdown",
   "id": "55f7ae36",
   "metadata": {},
   "source": [
    "### Q2: Find the customer/bank/transaction(cash/online) wise total_sale_price joining fact table and respective dimension table "
   ]
  },
  {
   "cell_type": "code",
   "execution_count": null,
   "id": "e5935cde",
   "metadata": {},
   "outputs": [],
   "source": []
  },
  {
   "cell_type": "markdown",
   "id": "77bfa580",
   "metadata": {},
   "source": [
    "### Q3: Total sales in Barisal"
   ]
  },
  {
   "cell_type": "code",
   "execution_count": 54,
   "id": "9274e359",
   "metadata": {},
   "outputs": [
    {
     "name": "stdout",
     "output_type": "stream",
     "text": [
      "successfully connected to database\n"
     ]
    },
    {
     "data": {
      "text/html": [
       "<div>\n",
       "<style scoped>\n",
       "    .dataframe tbody tr th:only-of-type {\n",
       "        vertical-align: middle;\n",
       "    }\n",
       "\n",
       "    .dataframe tbody tr th {\n",
       "        vertical-align: top;\n",
       "    }\n",
       "\n",
       "    .dataframe thead th {\n",
       "        text-align: right;\n",
       "    }\n",
       "</style>\n",
       "<table border=\"1\" class=\"dataframe\">\n",
       "  <thead>\n",
       "    <tr style=\"text-align: right;\">\n",
       "      <th></th>\n",
       "      <th>year</th>\n",
       "      <th>total_price</th>\n",
       "    </tr>\n",
       "  </thead>\n",
       "  <tbody>\n",
       "    <tr>\n",
       "      <th>0</th>\n",
       "      <td>BARISAL</td>\n",
       "      <td>15040687.50</td>\n",
       "    </tr>\n",
       "  </tbody>\n",
       "</table>\n",
       "</div>"
      ],
      "text/plain": [
       "      year  total_price\n",
       "0  BARISAL  15040687.50"
      ]
     },
     "execution_count": 54,
     "metadata": {},
     "output_type": "execute_result"
    }
   ],
   "source": [
    "select_query =  \"Select t2.division, sum(t1.total_price) \"\\\n",
    "            \"from ecomdb_star_schema.fact_table t1 \"\\\n",
    "            \"join ecomdb_star_schema.store_dim t2 on t1.store_key = t2.store_key \"\\\n",
    "            \"where t2.division = 'BARISAL' \"\\\n",
    "            \"group by(t2.division)\"\n",
    "\n",
    "record_Q3 = retrive_data_from_table(select_query)\n",
    "df_Q3 = pd.DataFrame(list(record_Q3), columns=['year', 'total_price'])\n",
    "df_Q3\n"
   ]
  },
  {
   "cell_type": "markdown",
   "id": "ccbb21ee",
   "metadata": {},
   "source": [
    "### Q4: Total sales in 2015"
   ]
  },
  {
   "cell_type": "code",
   "execution_count": 52,
   "id": "bd0c8a59",
   "metadata": {},
   "outputs": [
    {
     "name": "stdout",
     "output_type": "stream",
     "text": [
      "successfully connected to database\n"
     ]
    },
    {
     "data": {
      "text/html": [
       "<div>\n",
       "<style scoped>\n",
       "    .dataframe tbody tr th:only-of-type {\n",
       "        vertical-align: middle;\n",
       "    }\n",
       "\n",
       "    .dataframe tbody tr th {\n",
       "        vertical-align: top;\n",
       "    }\n",
       "\n",
       "    .dataframe thead th {\n",
       "        text-align: right;\n",
       "    }\n",
       "</style>\n",
       "<table border=\"1\" class=\"dataframe\">\n",
       "  <thead>\n",
       "    <tr style=\"text-align: right;\">\n",
       "      <th></th>\n",
       "      <th>year</th>\n",
       "      <th>total_price</th>\n",
       "    </tr>\n",
       "  </thead>\n",
       "  <tbody>\n",
       "    <tr>\n",
       "      <th>0</th>\n",
       "      <td>2015</td>\n",
       "      <td>30191440.50</td>\n",
       "    </tr>\n",
       "  </tbody>\n",
       "</table>\n",
       "</div>"
      ],
      "text/plain": [
       "   year  total_price\n",
       "0  2015  30191440.50"
      ]
     },
     "execution_count": 52,
     "metadata": {},
     "output_type": "execute_result"
    }
   ],
   "source": [
    "select_query=  \"select  t2.year, sum(t1.total_price) \"\\\n",
    "                \"from ecomdb_star_schema.fact_table t1 \"\\\n",
    "                \"join ecomdb_star_schema.time_dim t2 on t1.time_key = t2.time_key \"\\\n",
    "                \"where t2.year= 2015 \" \\\n",
    "                \"group by(t2.year)\"\n",
    "\n",
    "record_Q4 = retrive_data_from_table(select_query)\n",
    "df_Q4 = pd.DataFrame(list(record_Q4), columns=['year', 'total_price'])\n",
    "df_Q4"
   ]
  },
  {
   "cell_type": "markdown",
   "id": "6260f321",
   "metadata": {},
   "source": [
    "### Q5: Total sales of Barisal in 2015"
   ]
  },
  {
   "cell_type": "code",
   "execution_count": 49,
   "id": "c01bd9b8",
   "metadata": {
    "scrolled": true
   },
   "outputs": [
    {
     "name": "stdout",
     "output_type": "stream",
     "text": [
      "successfully connected to database\n"
     ]
    },
    {
     "data": {
      "text/html": [
       "<div>\n",
       "<style scoped>\n",
       "    .dataframe tbody tr th:only-of-type {\n",
       "        vertical-align: middle;\n",
       "    }\n",
       "\n",
       "    .dataframe tbody tr th {\n",
       "        vertical-align: top;\n",
       "    }\n",
       "\n",
       "    .dataframe thead th {\n",
       "        text-align: right;\n",
       "    }\n",
       "</style>\n",
       "<table border=\"1\" class=\"dataframe\">\n",
       "  <thead>\n",
       "    <tr style=\"text-align: right;\">\n",
       "      <th></th>\n",
       "      <th>division</th>\n",
       "      <th>year</th>\n",
       "      <th>total_price</th>\n",
       "    </tr>\n",
       "  </thead>\n",
       "  <tbody>\n",
       "    <tr>\n",
       "      <th>0</th>\n",
       "      <td>BARISAL</td>\n",
       "      <td>2015</td>\n",
       "      <td>2153805.50</td>\n",
       "    </tr>\n",
       "  </tbody>\n",
       "</table>\n",
       "</div>"
      ],
      "text/plain": [
       "  division  year total_price\n",
       "0  BARISAL  2015  2153805.50"
      ]
     },
     "execution_count": 49,
     "metadata": {},
     "output_type": "execute_result"
    }
   ],
   "source": [
    "select_query =  \"select t3.division, t2.year, sum(t1.total_price) \" \\\n",
    "                \"from ecomdb_star_schema.fact_table t1 \" \\\n",
    "                \"join ecomdb_star_schema.time_dim t2 on t1.time_key = t2.time_key \" \\\n",
    "                \"join ecomdb_star_schema.store_dim t3 on t1.store_key = t3.store_key \" \\\n",
    "                \"where  t2.year= 2015 and t3.division = 'BARISAL'  \" \\\n",
    "                \"group by (t3.division, t2.year)\"\n",
    "\n",
    "record_Q5 = retrive_data_from_table(select_query)\n",
    "df_Q5 = pd.DataFrame(list(record_Q5), columns=['division','year', 'total_price'])\n",
    "df_Q5\n"
   ]
  },
  {
   "cell_type": "code",
   "execution_count": 45,
   "id": "b9ec3727",
   "metadata": {},
   "outputs": [
    {
     "data": {
      "text/plain": [
       "division       object\n",
       "year            int64\n",
       "total_price    object\n",
       "dtype: object"
      ]
     },
     "execution_count": 45,
     "metadata": {},
     "output_type": "execute_result"
    }
   ],
   "source": [
    "df_Q5.dtypes"
   ]
  },
  {
   "cell_type": "markdown",
   "id": "7460a415",
   "metadata": {},
   "source": [
    "# Do some complex CUBE query including ROLL UP, DRILL DOWN, SLICE, DICE to answer the following questions from the ecomdb warehouse"
   ]
  },
  {
   "cell_type": "markdown",
   "id": "84f97f70",
   "metadata": {},
   "source": [
    "### Q6: For each store(item supplier), what are the top three products offered that are most often purchased?\n",
    "\n",
    "#### S1-> item1 -> quantity_sales\n",
    "#### S1-> item2 -> quantity_sales\n",
    "#### S1-> item3 -> quantity_sales"
   ]
  },
  {
   "cell_type": "code",
   "execution_count": 72,
   "id": "5d625a63",
   "metadata": {
    "scrolled": true
   },
   "outputs": [
    {
     "name": "stdout",
     "output_type": "stream",
     "text": [
      "successfully connected to database\n"
     ]
    },
    {
     "ename": "UndefinedColumn",
     "evalue": "column \"total_sell_quantity\" does not exist\nLINE 1: ... it.item_key, it.supplier) order by( it.item_key, total_sell...\n                                                             ^\n",
     "output_type": "error",
     "traceback": [
      "\u001b[1;31m---------------------------------------------------------------------------\u001b[0m",
      "\u001b[1;31mUndefinedColumn\u001b[0m                           Traceback (most recent call last)",
      "\u001b[1;32m<ipython-input-72-d395433987df>\u001b[0m in \u001b[0;36m<module>\u001b[1;34m\u001b[0m\n\u001b[0;32m      6\u001b[0m                 \u001b[1;34m\"order by( it.item_key, total_sell_quantity)\"\u001b[0m\u001b[1;33m\u001b[0m\u001b[1;33m\u001b[0m\u001b[0m\n\u001b[0;32m      7\u001b[0m \u001b[1;33m\u001b[0m\u001b[0m\n\u001b[1;32m----> 8\u001b[1;33m \u001b[0mrecord_Q6\u001b[0m \u001b[1;33m=\u001b[0m \u001b[0mretrive_data_from_table\u001b[0m\u001b[1;33m(\u001b[0m\u001b[0mselect_query\u001b[0m\u001b[1;33m)\u001b[0m\u001b[1;33m\u001b[0m\u001b[1;33m\u001b[0m\u001b[0m\n\u001b[0m\u001b[0;32m      9\u001b[0m \u001b[0mdf_Q6\u001b[0m \u001b[1;33m=\u001b[0m \u001b[0mpd\u001b[0m\u001b[1;33m.\u001b[0m\u001b[0mDataFrame\u001b[0m\u001b[1;33m(\u001b[0m\u001b[0mlist\u001b[0m\u001b[1;33m(\u001b[0m\u001b[0mrecord_Q6\u001b[0m\u001b[1;33m)\u001b[0m\u001b[1;33m,\u001b[0m \u001b[0mcolumns\u001b[0m\u001b[1;33m=\u001b[0m\u001b[1;33m[\u001b[0m\u001b[1;34m'store'\u001b[0m\u001b[1;33m,\u001b[0m \u001b[1;34m'supplier'\u001b[0m\u001b[1;33m,\u001b[0m \u001b[1;34m'item'\u001b[0m\u001b[1;33m,\u001b[0m \u001b[1;34m'total_sell_quantity'\u001b[0m\u001b[1;33m]\u001b[0m\u001b[1;33m)\u001b[0m\u001b[1;33m\u001b[0m\u001b[1;33m\u001b[0m\u001b[0m\n\u001b[0;32m     10\u001b[0m \u001b[0mdf_Q6\u001b[0m\u001b[1;33m.\u001b[0m\u001b[0mhead\u001b[0m\u001b[1;33m(\u001b[0m\u001b[1;36m100\u001b[0m\u001b[1;33m)\u001b[0m\u001b[1;33m\u001b[0m\u001b[1;33m\u001b[0m\u001b[0m\n",
      "\u001b[1;32m<ipython-input-22-187171b9cf1c>\u001b[0m in \u001b[0;36mretrive_data_from_table\u001b[1;34m(select_stmt)\u001b[0m\n\u001b[0;32m      5\u001b[0m \u001b[1;31m#     select_stmt = \"SELECT t.payment_key , t.trans_type, t.bank_name \" \\\u001b[0m\u001b[1;33m\u001b[0m\u001b[1;33m\u001b[0m\u001b[1;33m\u001b[0m\u001b[0m\n\u001b[0;32m      6\u001b[0m \u001b[1;31m#                   \"FROM ecomdb_star_schema.trans_dim t\"\u001b[0m\u001b[1;33m\u001b[0m\u001b[1;33m\u001b[0m\u001b[1;33m\u001b[0m\u001b[0m\n\u001b[1;32m----> 7\u001b[1;33m     \u001b[0mcur\u001b[0m\u001b[1;33m.\u001b[0m\u001b[0mexecute\u001b[0m\u001b[1;33m(\u001b[0m\u001b[0mselect_stmt\u001b[0m\u001b[1;33m)\u001b[0m\u001b[1;33m\u001b[0m\u001b[1;33m\u001b[0m\u001b[0m\n\u001b[0m\u001b[0;32m      8\u001b[0m     \u001b[0mrecords\u001b[0m \u001b[1;33m=\u001b[0m \u001b[0mcur\u001b[0m\u001b[1;33m.\u001b[0m\u001b[0mfetchall\u001b[0m\u001b[1;33m(\u001b[0m\u001b[1;33m)\u001b[0m\u001b[1;33m\u001b[0m\u001b[1;33m\u001b[0m\u001b[0m\n\u001b[0;32m      9\u001b[0m     \u001b[1;32mreturn\u001b[0m \u001b[0mrecords\u001b[0m\u001b[1;33m\u001b[0m\u001b[1;33m\u001b[0m\u001b[0m\n",
      "\u001b[1;31mUndefinedColumn\u001b[0m: column \"total_sell_quantity\" does not exist\nLINE 1: ... it.item_key, it.supplier) order by( it.item_key, total_sell...\n                                                             ^\n"
     ]
    }
   ],
   "source": [
    "select_query =  \"select st.store_key, it.supplier, it.item_key, sum(fact.quantity) as total_sell_quantity \"\\\n",
    "                \"from ecomdb_star_schema.fact_table fact \"\\\n",
    "                \"join ecomdb_star_schema.store_dim st on st.store_key = fact.store_key \"\\\n",
    "                \"join ecomdb_star_schema.item_dim it on it.item_key = fact.item_key \"\\\n",
    "                \"group by(st.store_key, it.item_key, it.supplier) \"\\\n",
    "                \"order by( it.item_key,total_sell_quantity)\"\n",
    "\n",
    "record_Q6 = retrive_data_from_table(select_query)\n",
    "df_Q6 = pd.DataFrame(list(record_Q6), columns=['store', 'supplier', 'item', 'total_sell_quantity'])\n",
    "df_Q6.head(100)"
   ]
  },
  {
   "cell_type": "code",
   "execution_count": 60,
   "id": "dd18eefe",
   "metadata": {},
   "outputs": [
    {
     "data": {
      "text/plain": [
       "array(['S0001', 'S0002', 'S0003', 'S0004', 'S0005', 'S0006', 'S0007',\n",
       "       'S0008', 'S0009', 'S0010', 'S00100', 'S00101', 'S00102', 'S00103',\n",
       "       'S00104', 'S00105', 'S00106', 'S00107', 'S00108', 'S00109',\n",
       "       'S0011', 'S00110', 'S00111', 'S00112', 'S00113', 'S00114',\n",
       "       'S00115', 'S00116', 'S00117', 'S00118', 'S00119', 'S0012',\n",
       "       'S00120', 'S00121', 'S00122', 'S00123', 'S00124', 'S00125',\n",
       "       'S00126', 'S00127', 'S00128', 'S00129', 'S0013', 'S00130',\n",
       "       'S00131', 'S00132', 'S00133', 'S00134', 'S00135', 'S00136',\n",
       "       'S00137', 'S00138', 'S00139', 'S0014', 'S00140', 'S00141',\n",
       "       'S00142', 'S00143', 'S00144', 'S00145', 'S00146', 'S00147',\n",
       "       'S00148', 'S00149', 'S0015', 'S00150', 'S00151', 'S00152',\n",
       "       'S00153', 'S00154', 'S00155', 'S00156', 'S00157', 'S00158',\n",
       "       'S00159', 'S0016', 'S00160', 'S00161', 'S00162', 'S00163',\n",
       "       'S00164', 'S00165', 'S00166', 'S00167', 'S00168', 'S00169',\n",
       "       'S0017', 'S00170', 'S00171', 'S00172', 'S00173', 'S00174',\n",
       "       'S00175', 'S00176', 'S00177', 'S00178', 'S00179', 'S0018',\n",
       "       'S00180', 'S00181', 'S00182', 'S00183', 'S00184', 'S00185',\n",
       "       'S00186', 'S00187', 'S00188', 'S00189', 'S0019', 'S00190',\n",
       "       'S00191', 'S00192', 'S00193', 'S00194', 'S00195', 'S00196',\n",
       "       'S00197', 'S00198', 'S00199', 'S0020', 'S00200', 'S00201',\n",
       "       'S00202', 'S00203', 'S00204', 'S00205', 'S00206', 'S00207',\n",
       "       'S00208', 'S00209', 'S0021', 'S00210', 'S00211', 'S00212',\n",
       "       'S00213', 'S00214', 'S00215', 'S00216', 'S00217', 'S00218',\n",
       "       'S00219', 'S0022', 'S00220', 'S00221', 'S00222', 'S00223',\n",
       "       'S00224', 'S00225', 'S00226', 'S00227', 'S00228', 'S00229',\n",
       "       'S0023', 'S00230', 'S00231', 'S00232', 'S00233', 'S00234',\n",
       "       'S00235', 'S00236', 'S00237', 'S00238', 'S00239', 'S0024',\n",
       "       'S00240', 'S00241', 'S00242', 'S00243', 'S00244', 'S00245',\n",
       "       'S00246', 'S00247', 'S00248', 'S00249', 'S0025', 'S00250',\n",
       "       'S00251', 'S00252', 'S00253', 'S00254', 'S00255', 'S00256',\n",
       "       'S00257', 'S00258', 'S00259', 'S0026', 'S00260', 'S00261',\n",
       "       'S00262', 'S00263', 'S00264', 'S00265', 'S00266', 'S00267',\n",
       "       'S00268', 'S00269', 'S0027', 'S00270', 'S00271', 'S00272',\n",
       "       'S00273', 'S00274', 'S00275', 'S00276', 'S00277', 'S00278',\n",
       "       'S00279', 'S0028', 'S00280', 'S00281', 'S00282', 'S00283',\n",
       "       'S00284', 'S00285', 'S00286', 'S00287', 'S00288', 'S00289',\n",
       "       'S0029', 'S00290', 'S00291', 'S00292', 'S00293', 'S00294',\n",
       "       'S00295', 'S00296', 'S00297', 'S00298', 'S00299', 'S0030',\n",
       "       'S00300', 'S00301', 'S00302', 'S00303', 'S00304', 'S00305',\n",
       "       'S00306', 'S00307', 'S00308', 'S00309', 'S0031', 'S00310',\n",
       "       'S00311', 'S00312', 'S00313', 'S00314', 'S00315', 'S00316',\n",
       "       'S00317', 'S00318', 'S00319', 'S0032', 'S00320', 'S00321',\n",
       "       'S00322', 'S00323', 'S00324', 'S00325', 'S00326', 'S00327',\n",
       "       'S00328', 'S00329', 'S0033', 'S00330', 'S00331', 'S00332',\n",
       "       'S00333', 'S00334', 'S00335', 'S00336', 'S00337', 'S00338',\n",
       "       'S00339', 'S0034', 'S00340', 'S00341', 'S00342', 'S00343',\n",
       "       'S00344', 'S00345', 'S00346', 'S00347', 'S00348', 'S00349',\n",
       "       'S0035', 'S00350', 'S00351', 'S00352', 'S00353', 'S00354',\n",
       "       'S00355', 'S00356', 'S00357', 'S00358', 'S00359', 'S0036',\n",
       "       'S00360', 'S00361', 'S00362', 'S00363', 'S00364', 'S00365',\n",
       "       'S00366', 'S00367', 'S00368', 'S00369', 'S0037', 'S00370',\n",
       "       'S00371', 'S00372', 'S00373', 'S00374', 'S00375', 'S00376',\n",
       "       'S00377', 'S00378', 'S00379', 'S0038', 'S00380', 'S00381',\n",
       "       'S00382', 'S00383', 'S00384', 'S00385', 'S00386', 'S00387',\n",
       "       'S00388', 'S00389', 'S0039', 'S00390', 'S00391', 'S00392',\n",
       "       'S00393', 'S00394', 'S00395', 'S00396', 'S00397', 'S00398',\n",
       "       'S00399', 'S0040', 'S00400', 'S00401', 'S00402', 'S00403',\n",
       "       'S00404', 'S00405', 'S00406', 'S00407', 'S00408', 'S00409',\n",
       "       'S0041', 'S00410', 'S00411', 'S00412', 'S00413', 'S00414',\n",
       "       'S00415', 'S00416', 'S00417', 'S00418', 'S00419', 'S0042',\n",
       "       'S00420', 'S00421', 'S00422', 'S00423', 'S00424', 'S00425',\n",
       "       'S00426', 'S00427', 'S00428', 'S00429', 'S0043', 'S00430',\n",
       "       'S00431', 'S00432', 'S00433', 'S00434', 'S00435', 'S00436',\n",
       "       'S00437', 'S00438', 'S00439', 'S0044', 'S00440', 'S00441',\n",
       "       'S00442', 'S00443', 'S00444', 'S00445', 'S00446', 'S00447',\n",
       "       'S00448', 'S00449', 'S0045', 'S00450', 'S00451', 'S00452',\n",
       "       'S00453', 'S00454', 'S00455', 'S00456', 'S00457', 'S00458',\n",
       "       'S00459', 'S0046', 'S00460', 'S00461', 'S00462', 'S00463',\n",
       "       'S00464', 'S00465', 'S00466', 'S00467', 'S00468', 'S00469',\n",
       "       'S0047', 'S00470', 'S00471', 'S00472', 'S00473', 'S00474',\n",
       "       'S00475', 'S00476', 'S00477', 'S00478', 'S00479', 'S0048',\n",
       "       'S00480', 'S00481', 'S00482', 'S00483', 'S00484', 'S00485',\n",
       "       'S00486', 'S00487', 'S00488', 'S00489', 'S0049', 'S00490',\n",
       "       'S00491', 'S00492', 'S00493', 'S00494', 'S00495', 'S00496',\n",
       "       'S00497', 'S00498', 'S00499', 'S0050', 'S00500', 'S00501',\n",
       "       'S00502', 'S00503', 'S00504', 'S00505', 'S00506', 'S00507',\n",
       "       'S00508', 'S00509', 'S0051', 'S00510', 'S00511', 'S00512',\n",
       "       'S00513', 'S00514', 'S00515', 'S00516', 'S00517', 'S00518',\n",
       "       'S00519', 'S0052', 'S00520', 'S00521', 'S00522', 'S00523',\n",
       "       'S00524', 'S00525', 'S00526', 'S00527', 'S00528', 'S00529',\n",
       "       'S0053', 'S00530', 'S00531', 'S00532', 'S00533', 'S00534',\n",
       "       'S00535', 'S00536', 'S00537', 'S00538', 'S00539', 'S0054',\n",
       "       'S00540', 'S00541', 'S00542', 'S00543', 'S00544', 'S00545',\n",
       "       'S00546', 'S00547', 'S00548', 'S00549', 'S0055', 'S00550',\n",
       "       'S00551', 'S00552', 'S00553', 'S00554', 'S00555', 'S00556',\n",
       "       'S00557', 'S00558', 'S00559', 'S0056', 'S00560', 'S00561',\n",
       "       'S00562', 'S00563', 'S00564', 'S00565', 'S00566', 'S00567',\n",
       "       'S00568', 'S00569', 'S0057', 'S00570', 'S00571', 'S00572',\n",
       "       'S00573', 'S00574', 'S00575', 'S00576', 'S00577', 'S00578',\n",
       "       'S00579', 'S0058', 'S00580', 'S00581', 'S00582', 'S00583',\n",
       "       'S00584', 'S00585', 'S00586', 'S00587', 'S00588', 'S00589',\n",
       "       'S0059', 'S00590', 'S00591', 'S00592', 'S00593', 'S00594',\n",
       "       'S00595', 'S00596', 'S00597', 'S00598', 'S00599', 'S0060',\n",
       "       'S00600', 'S00601', 'S00602', 'S00603', 'S00604', 'S00605',\n",
       "       'S00606', 'S00607', 'S00608', 'S00609', 'S0061', 'S00610',\n",
       "       'S00611', 'S00612', 'S00613', 'S00614', 'S00615', 'S00616',\n",
       "       'S00617', 'S00618', 'S00619', 'S0062', 'S00620', 'S00621',\n",
       "       'S00622', 'S00623', 'S00624', 'S00625', 'S00626', 'S00627',\n",
       "       'S00628', 'S00629', 'S0063', 'S00630', 'S00631', 'S00632',\n",
       "       'S00633', 'S00634', 'S00635', 'S00636', 'S00637', 'S00638',\n",
       "       'S00639', 'S0064', 'S00640', 'S00641', 'S00642', 'S00643',\n",
       "       'S00644', 'S00645', 'S00646', 'S00647', 'S00648', 'S00649',\n",
       "       'S0065', 'S00650', 'S00651', 'S00652', 'S00653', 'S00654',\n",
       "       'S00655', 'S00656', 'S00657', 'S00658', 'S00659', 'S0066',\n",
       "       'S00660', 'S00661', 'S00662', 'S00663', 'S00664', 'S00665',\n",
       "       'S00666', 'S00667', 'S00668', 'S00669', 'S0067', 'S00670',\n",
       "       'S00671', 'S00672', 'S00673', 'S00674', 'S00675', 'S00676',\n",
       "       'S00677', 'S00678', 'S00679', 'S0068', 'S00680', 'S00681',\n",
       "       'S00682', 'S00683', 'S00684', 'S00685', 'S00686', 'S00687',\n",
       "       'S00688', 'S00689', 'S0069', 'S00690', 'S00691', 'S00692',\n",
       "       'S00693', 'S00694', 'S00695', 'S00696', 'S00697', 'S00698',\n",
       "       'S00699', 'S0070', 'S00700', 'S00701', 'S00702', 'S00703',\n",
       "       'S00704', 'S00705', 'S00706', 'S00707', 'S00708', 'S00709',\n",
       "       'S0071', 'S00710', 'S00711', 'S00712', 'S00713', 'S00714',\n",
       "       'S00715', 'S00716', 'S00717', 'S00718', 'S00719', 'S0072',\n",
       "       'S00720', 'S00721', 'S00722', 'S00723', 'S00724', 'S00725',\n",
       "       'S00726', 'S0073', 'S0074', 'S0075', 'S0076', 'S0077', 'S0078',\n",
       "       'S0079', 'S0080', 'S0081', 'S0082', 'S0083', 'S0084', 'S0085',\n",
       "       'S0086', 'S0087', 'S0088', 'S0089', 'S0090', 'S0091', 'S0092',\n",
       "       'S0093', 'S0094', 'S0095', 'S0096', 'S0097', 'S0098', 'S0099'],\n",
       "      dtype=object)"
      ]
     },
     "execution_count": 60,
     "metadata": {},
     "output_type": "execute_result"
    }
   ],
   "source": [
    "df_Q6['store'].unique()\n"
   ]
  },
  {
   "cell_type": "code",
   "execution_count": 66,
   "id": "a4f2881f",
   "metadata": {},
   "outputs": [
    {
     "data": {
      "text/plain": [
       "array(['Bolsius Boxmeer', 'CHROMADURLIN S.A.S', 'DENIMACH LTD',\n",
       "       'HARDFORD AB', 'BIGSO AB', 'Indo Count Industries Ltd',\n",
       "       'Friedola 1888 GmbH', 'CHERRY GROUP CO.,LTD', 'MAESA SAS',\n",
       "       'NINGBO SEDUNO IMP & EXP CO.LTD'], dtype=object)"
      ]
     },
     "execution_count": 66,
     "metadata": {},
     "output_type": "execute_result"
    }
   ],
   "source": [
    "df_Q6['supplier'].unique()"
   ]
  },
  {
   "cell_type": "code",
   "execution_count": null,
   "id": "7ff5531a",
   "metadata": {},
   "outputs": [],
   "source": [
    "\n",
    "cur = con.cursor()\n",
    "select_query = \"select  i.supplier,i.item_name,  sum(f.quantity) \\\n",
    "                from ecomdb.fact_table f\\\n",
    "                join ecomdb.item_dim i on f.item_key=i.item_key \\\n",
    "                group by (i.supplier,i.item_name,f.quantity) \\\n",
    "                order by (i.supplier,f.quantity) desc \"\n",
    "cur.execute(select_query)\n",
    "records = cur.fetchall()\n",
    "records\n",
    "\n",
    "query_6 = pd.DataFrame(list(records),columns = ['supplier','item_name','quantity'])\n",
    "query_6.head()\n",
    "\n",
    "query_6 = query_6.set_index('item_name').groupby(\"supplier\")['quantity'].nlargest(3).reset_index()\n",
    "query_6\n",
    "\n",
    "\n"
   ]
  },
  {
   "cell_type": "markdown",
   "id": "45e9a8e6",
   "metadata": {},
   "source": [
    "### Q7: What products have been sold through card or mobile since X days?\n",
    "#### input: X = 5 days\n",
    "#### output: [item1, item2, item3, ...........]"
   ]
  },
  {
   "cell_type": "code",
   "execution_count": null,
   "id": "7fb9292e",
   "metadata": {},
   "outputs": [],
   "source": [
    "# --- ============== Question 7 ==============\n",
    "# select distinct t3.item_name \n",
    "# from ecomdb_star_schema.fact_table t1 \n",
    "# join ecomdb_star_schema.trans_dim t2 on t1.payment_key = t2.payment_key\n",
    "# join ecomdb_star_schema.item_dim t3 on t1.item_key = t3.item_key\n",
    "# where t2.trans_type= 'card'or t2.trans_type= 'mobile'\n",
    " \n",
    "#  select t1.item_name from ecomdb_star_schema.item_dim t1 where item_key IN(\n",
    "# \t\tselect t2.item_key from ecomdb_star_schema.fact_table t2  where t2.payment_key IN(\n",
    "# \t\t\tselect payment_key from ecomdb_star_schema.item_dim  where trans_type = 'card' or trans_type= 'mobile'"
   ]
  },
  {
   "cell_type": "code",
   "execution_count": null,
   "id": "711e7439",
   "metadata": {},
   "outputs": [],
   "source": [
    "\n",
    "x = input('enter a number : ')\n",
    "\n",
    "cur = con.cursor()\n",
    "# select_query = \n",
    "m_1 = \"select  i.item_name,\\\n",
    "                tr.trans_type,\\\n",
    "                t.date\\\n",
    "                from ecomdb.fact_table f\\\n",
    "                join ecomdb.item_dim i on f.item_key=i.item_key\\\n",
    "                join ecomdb.trans_dim tr on tr.payment_key = f.payment_key\\\n",
    "                join ecomdb.time_dim t on t.time_key = f.time_key\\\n",
    "                where tr.trans_type = 'card' and t.date > now() - interval ' \"\n",
    "       m_2 = x+\"  day'  \"\n",
    "# group by cube(i.item_name,tr.trans_type,t.date) \"\n",
    "# -- order by (i.item_name) desc \"\n",
    "cur.execute(m_1+m_2)\n",
    "records = cur.fetchall()\n",
    "records"
   ]
  },
  {
   "cell_type": "markdown",
   "id": "fc8cec37",
   "metadata": {},
   "source": [
    "###  Q8: What season(quarter) is the worst for each product item? As example,\n",
    "#### item1-> q1\n",
    "#### item2-> q2"
   ]
  },
  {
   "cell_type": "code",
   "execution_count": null,
   "id": "9ae16f06",
   "metadata": {},
   "outputs": [],
   "source": []
  },
  {
   "cell_type": "markdown",
   "id": "0026369b",
   "metadata": {},
   "source": [
    "### Q9: Break down the total sales of items geographically (division-wise).\n",
    "#### item1-> division1->total_sales\n",
    "#### item1-> division2->total_sales"
   ]
  },
  {
   "cell_type": "code",
   "execution_count": null,
   "id": "55780bfc",
   "metadata": {},
   "outputs": [],
   "source": []
  },
  {
   "cell_type": "markdown",
   "id": "59476afb",
   "metadata": {},
   "source": [
    "### Q10: What are the average sales of products sales per store monthly?\n",
    "#### S1->M1-> avg_sales\n",
    "#### s1-> M2 -> avg_sales"
   ]
  },
  {
   "cell_type": "code",
   "execution_count": null,
   "id": "036b42c6",
   "metadata": {},
   "outputs": [],
   "source": []
  },
  {
   "cell_type": "markdown",
   "id": "5e42d9e8",
   "metadata": {},
   "source": [
    "## Visualization"
   ]
  },
  {
   "cell_type": "code",
   "execution_count": null,
   "id": "0d5ebdd4",
   "metadata": {},
   "outputs": [],
   "source": []
  },
  {
   "cell_type": "code",
   "execution_count": null,
   "id": "92130656",
   "metadata": {},
   "outputs": [],
   "source": [
    "cur = con.cursor()\n",
    "select_stmt = \"SELECT s.division, SUM(t.total_price) \" \\\n",
    "              \"FROM star_schema.fact_table t \" \\\n",
    "              \"JOIN star_schema.store_dim s on s.store_key=t.store_key \" \\\n",
    "                \"JOIN star_schema.time_dim tim on tim.time_key=t.time_key \" \\\n",
    "                \"WHERE tim.month=12 \" \\\n",
    "                \"GROUP BY s.division \" \\\n",
    "                \"ORDER BY s.division\"\n",
    "cur.execute(select_stmt)\n",
    "records = cur.fetchall()\n",
    "records"
   ]
  },
  {
   "cell_type": "code",
   "execution_count": null,
   "id": "e64d9102",
   "metadata": {},
   "outputs": [],
   "source": [
    "df"
   ]
  },
  {
   "cell_type": "code",
   "execution_count": null,
   "id": "243c208c",
   "metadata": {},
   "outputs": [],
   "source": [
    "pip install matplotlib"
   ]
  },
  {
   "cell_type": "code",
   "execution_count": null,
   "id": "a86f8d40",
   "metadata": {},
   "outputs": [],
   "source": [
    "df = df.set_index(['division'])"
   ]
  },
  {
   "cell_type": "code",
   "execution_count": null,
   "id": "cf9726df",
   "metadata": {},
   "outputs": [],
   "source": [
    "df.plot.pie(y='sales', x='division', figsize=(5, 5))"
   ]
  },
  {
   "cell_type": "markdown",
   "id": "62d83a0f",
   "metadata": {},
   "source": [
    "### PANDAS Techiques:\n",
    "1. Filter\n",
    "2. Drop\n",
    "3. iloc, loc\n",
    "4. Aggregate\n",
    "5. Index\n",
    "6. Column selection, copy, crop\n",
    "7. Merge, Concate"
   ]
  },
  {
   "cell_type": "code",
   "execution_count": null,
   "id": "11488843",
   "metadata": {},
   "outputs": [],
   "source": []
  }
 ],
 "metadata": {
  "kernelspec": {
   "display_name": "Python 3",
   "language": "python",
   "name": "python3"
  },
  "language_info": {
   "codemirror_mode": {
    "name": "ipython",
    "version": 3
   },
   "file_extension": ".py",
   "mimetype": "text/x-python",
   "name": "python",
   "nbconvert_exporter": "python",
   "pygments_lexer": "ipython3",
   "version": "3.8.8"
  }
 },
 "nbformat": 4,
 "nbformat_minor": 5
}
