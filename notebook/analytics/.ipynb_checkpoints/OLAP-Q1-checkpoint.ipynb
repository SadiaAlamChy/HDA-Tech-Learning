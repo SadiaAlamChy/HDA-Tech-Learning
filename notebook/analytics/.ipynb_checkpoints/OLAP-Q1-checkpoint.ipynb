{
 "cells": [
  {
   "cell_type": "code",
   "execution_count": 2,
   "id": "ed6ac2c8",
   "metadata": {},
   "outputs": [],
   "source": [
    "import psycopg2\n",
    "import pandas as pd\n",
    "import psycopg2.extras\n",
    "import matplotlib.pyplot as plt"
   ]
  },
  {
   "cell_type": "code",
   "execution_count": 3,
   "id": "9bec3a21",
   "metadata": {},
   "outputs": [],
   "source": [
    "class PostgresConnection(object):\n",
    "    def __init__(self):\n",
    "        self.connection = psycopg2.connect(database=\"ecomdb\",\n",
    "                                           user = \"postgres\",\n",
    "                                           password = \"123456\",\n",
    "                                           host = \"127.0.0.1\",\n",
    "                                           port = \"5432\")\n",
    "\n",
    "    def getConnection(self):\n",
    "        print(\"successfully connected to database\")\n",
    "        return self.connection\n",
    "    \n",
    "    \n",
    "# con = PostgresConnection().getConnection()    "
   ]
  },
  {
   "cell_type": "markdown",
   "id": "77b5dbd9",
   "metadata": {},
   "source": [
    "### Common Function to fetch Data from all tables "
   ]
  },
  {
   "cell_type": "code",
   "execution_count": 4,
   "id": "05854ec4",
   "metadata": {},
   "outputs": [],
   "source": [
    "#  select_stmt= is the SQL select query along with  table and column name    \n",
    "def retrive_data_from_table(select_stmt): \n",
    "    con = PostgresConnection().getConnection()\n",
    "    cur = con.cursor()\n",
    "#     select_stmt = \"SELECT t.payment_key , t.trans_type, t.bank_name \" \\\n",
    "#                   \"FROM ecomdb_star_schema.trans_dim t\"\n",
    "    cur.execute(select_stmt)\n",
    "    records = cur.fetchall()\n",
    "    return records"
   ]
  },
  {
   "cell_type": "markdown",
   "id": "c33a8858",
   "metadata": {},
   "source": [
    "### Q1: Find the division/district/year/month wise total_sale_price joining fact table and respective dimension table "
   ]
  },
  {
   "cell_type": "markdown",
   "id": "18663679",
   "metadata": {},
   "source": [
    "##### ROLLUP"
   ]
  },
  {
   "cell_type": "code",
   "execution_count": 26,
   "id": "1d311de7",
   "metadata": {},
   "outputs": [
    {
     "name": "stdout",
     "output_type": "stream",
     "text": [
      "successfully connected to database\n"
     ]
    },
    {
     "data": {
      "text/html": [
       "<div>\n",
       "<style scoped>\n",
       "    .dataframe tbody tr th:only-of-type {\n",
       "        vertical-align: middle;\n",
       "    }\n",
       "\n",
       "    .dataframe tbody tr th {\n",
       "        vertical-align: top;\n",
       "    }\n",
       "\n",
       "    .dataframe thead th {\n",
       "        text-align: right;\n",
       "    }\n",
       "</style>\n",
       "<table border=\"1\" class=\"dataframe\">\n",
       "  <thead>\n",
       "    <tr style=\"text-align: right;\">\n",
       "      <th></th>\n",
       "      <th>division</th>\n",
       "      <th>district</th>\n",
       "      <th>month</th>\n",
       "      <th>year</th>\n",
       "      <th>total_sales</th>\n",
       "    </tr>\n",
       "  </thead>\n",
       "  <tbody>\n",
       "    <tr>\n",
       "      <th>0</th>\n",
       "      <td>BARISAL</td>\n",
       "      <td>JHALOKATI</td>\n",
       "      <td>3.0</td>\n",
       "      <td>2018.0</td>\n",
       "      <td>13597.50</td>\n",
       "    </tr>\n",
       "    <tr>\n",
       "      <th>1</th>\n",
       "      <td>BARISAL</td>\n",
       "      <td>BARISAL</td>\n",
       "      <td>1.0</td>\n",
       "      <td>2021.0</td>\n",
       "      <td>51799.00</td>\n",
       "    </tr>\n",
       "    <tr>\n",
       "      <th>2</th>\n",
       "      <td>BARISAL</td>\n",
       "      <td>BARGUNA</td>\n",
       "      <td>12.0</td>\n",
       "      <td>2018.0</td>\n",
       "      <td>23065.50</td>\n",
       "    </tr>\n",
       "    <tr>\n",
       "      <th>3</th>\n",
       "      <td>BARISAL</td>\n",
       "      <td>PATUAKHALI</td>\n",
       "      <td>5.0</td>\n",
       "      <td>2015.0</td>\n",
       "      <td>25013.50</td>\n",
       "    </tr>\n",
       "    <tr>\n",
       "      <th>4</th>\n",
       "      <td>BARISAL</td>\n",
       "      <td>PATUAKHALI</td>\n",
       "      <td>11.0</td>\n",
       "      <td>2017.0</td>\n",
       "      <td>23102.50</td>\n",
       "    </tr>\n",
       "    <tr>\n",
       "      <th>...</th>\n",
       "      <td>...</td>\n",
       "      <td>...</td>\n",
       "      <td>...</td>\n",
       "      <td>...</td>\n",
       "      <td>...</td>\n",
       "    </tr>\n",
       "    <tr>\n",
       "      <th>6275</th>\n",
       "      <td>SYLHET</td>\n",
       "      <td>MAULVIBAZAR</td>\n",
       "      <td>12.0</td>\n",
       "      <td>2020.0</td>\n",
       "      <td>27745.00</td>\n",
       "    </tr>\n",
       "    <tr>\n",
       "      <th>6276</th>\n",
       "      <td>SYLHET</td>\n",
       "      <td>MAULVIBAZAR</td>\n",
       "      <td>8.0</td>\n",
       "      <td>2017.0</td>\n",
       "      <td>31631.50</td>\n",
       "    </tr>\n",
       "    <tr>\n",
       "      <th>6277</th>\n",
       "      <td>SYLHET</td>\n",
       "      <td>MAULVIBAZAR</td>\n",
       "      <td>10.0</td>\n",
       "      <td>2015.0</td>\n",
       "      <td>24893.50</td>\n",
       "    </tr>\n",
       "    <tr>\n",
       "      <th>6278</th>\n",
       "      <td>SYLHET</td>\n",
       "      <td>HABIGANJ</td>\n",
       "      <td>10.0</td>\n",
       "      <td>2020.0</td>\n",
       "      <td>29836.00</td>\n",
       "    </tr>\n",
       "    <tr>\n",
       "      <th>6279</th>\n",
       "      <td>None</td>\n",
       "      <td>None</td>\n",
       "      <td>NaN</td>\n",
       "      <td>NaN</td>\n",
       "      <td>210802871.50</td>\n",
       "    </tr>\n",
       "  </tbody>\n",
       "</table>\n",
       "<p>6280 rows × 5 columns</p>\n",
       "</div>"
      ],
      "text/plain": [
       "     division     district  month    year   total_sales\n",
       "0     BARISAL    JHALOKATI    3.0  2018.0      13597.50\n",
       "1     BARISAL      BARISAL    1.0  2021.0      51799.00\n",
       "2     BARISAL      BARGUNA   12.0  2018.0      23065.50\n",
       "3     BARISAL   PATUAKHALI    5.0  2015.0      25013.50\n",
       "4     BARISAL   PATUAKHALI   11.0  2017.0      23102.50\n",
       "...       ...          ...    ...     ...           ...\n",
       "6275   SYLHET  MAULVIBAZAR   12.0  2020.0      27745.00\n",
       "6276   SYLHET  MAULVIBAZAR    8.0  2017.0      31631.50\n",
       "6277   SYLHET  MAULVIBAZAR   10.0  2015.0      24893.50\n",
       "6278   SYLHET     HABIGANJ   10.0  2020.0      29836.00\n",
       "6279     None         None    NaN     NaN  210802871.50\n",
       "\n",
       "[6280 rows x 5 columns]"
      ]
     },
     "execution_count": 26,
     "metadata": {},
     "output_type": "execute_result"
    }
   ],
   "source": [
    "select_stmt = \" SELECT sr.division ,sr.district,tim.month, tim.year, SUM(fact.total_price) \" \\\n",
    "              \" From ecomdb_star_schema.fact_table fact \" \\\n",
    "              \" JOIN ecomdb_star_schema.store_dim sr on sr.store_key=fact.store_key \" \\\n",
    "              \" JOIN ecomdb_star_schema.time_dim tim on tim.time_key=fact.time_key \"\\\n",
    "              \" GROUP BY ROLLUP (sr.division,sr.district,tim.month, tim.year) \"\\\n",
    "              \" ORDER BY sr.division\"\n",
    "\n",
    "ROLLUP_records = retrive_data_from_table(select_stmt)\n",
    "df = pd.DataFrame(list(ROLLUP_records), columns=['division', 'district', 'month', 'year', 'total_sales'])\n",
    "df"
   ]
  },
  {
   "cell_type": "code",
   "execution_count": 27,
   "id": "68c012c4",
   "metadata": {},
   "outputs": [
    {
     "name": "stdout",
     "output_type": "stream",
     "text": [
      "division        object\n",
      "district        object\n",
      "month          float64\n",
      "year           float64\n",
      "total_sales     object\n",
      "dtype: object\n"
     ]
    }
   ],
   "source": [
    "print(df.dtypes)"
   ]
  },
  {
   "cell_type": "code",
   "execution_count": 28,
   "id": "545d138f",
   "metadata": {
    "scrolled": true
   },
   "outputs": [
    {
     "name": "stdout",
     "output_type": "stream",
     "text": [
      "division        object\n",
      "district        object\n",
      "month          float64\n",
      "year           float64\n",
      "total_sales    float64\n",
      "dtype: object\n"
     ]
    }
   ],
   "source": [
    "df['total_sales'] = df['total_sales'].astype('float64')\n",
    "print(df.dtypes)"
   ]
  },
  {
   "cell_type": "markdown",
   "id": "e1a70dbd",
   "metadata": {},
   "source": [
    "##### DRILL DOWN-Q-1"
   ]
  },
  {
   "cell_type": "code",
   "execution_count": 133,
   "id": "feedc9de",
   "metadata": {},
   "outputs": [
    {
     "name": "stdout",
     "output_type": "stream",
     "text": [
      "successfully connected to database\n",
      "      division     district      upazila    year total_sales\n",
      "0      BARISAL    JHALOKATI         None  2015.0   157612.00\n",
      "1      BARISAL      BARISAL  BANARI PARA  2014.0    82468.00\n",
      "2      BARISAL      BARISAL  MEHENDIGANJ  2020.0    81596.00\n",
      "3      BARISAL   PATUAKHALI    RANGABALI  2021.0     3318.50\n",
      "4      BARISAL      BARISAL   AGAILJHARA  2015.0    83466.00\n",
      "...        ...          ...          ...     ...         ...\n",
      "21055     None   PANCHAGARH         None  2021.0    10391.00\n",
      "21056     None  LALMONIRHAT         None  2020.0   206774.50\n",
      "21057     None    GAIBANDHA         None  2021.0    18908.00\n",
      "21058     None  LALMONIRHAT         None  2019.0   212435.50\n",
      "21059     None     RAJSHAHI         None  2017.0  1078581.50\n",
      "\n",
      "[21060 rows x 5 columns]\n",
      "successfully connected to database\n",
      "     division    year  month quarter total_sales\n",
      "0     BARISAL  2019.0   10.0      Q4   179156.50\n",
      "1     BARISAL  2017.0    1.0      Q1   184557.00\n",
      "2     BARISAL  2016.0    NaN    None  2144993.50\n",
      "3     BARISAL  2019.0    3.0    None   174127.50\n",
      "4     BARISAL  2020.0    5.0      Q2   171195.50\n",
      "...       ...     ...    ...     ...         ...\n",
      "1883     None  2020.0    2.0      Q1  2257928.00\n",
      "1884     None  2020.0    NaN      Q4  7733578.50\n",
      "1885     None  2017.0   12.0      Q4  2431545.50\n",
      "1886     None  2015.0    NaN      Q2  7512449.00\n",
      "1887     None  2018.0    8.0      Q3  2615855.50\n",
      "\n",
      "[1888 rows x 5 columns]\n"
     ]
    }
   ],
   "source": [
    "## DRILL_DOWN == Make Specific or expand to all category\n",
    "\n",
    "## Here I tried to expand TIME_DIM table\n",
    "## DRILL_DOWN(division->> upazila)\n",
    "select_stmt1 = \" SELECT sr.division, sr.district, sr.upazila,tim.year, SUM(fact.total_price) \" \\\n",
    "              \" From ecomdb_star_schema.fact_table fact \" \\\n",
    "              \" JOIN ecomdb_star_schema.store_dim sr on sr.store_key=fact.store_key \" \\\n",
    "              \" JOIN ecomdb_star_schema.time_dim tim on tim.time_key=fact.time_key \"\\\n",
    "              \" GROUP BY CUBE(sr.division,sr.district,sr.upazila, tim.year) \"\\\n",
    "              \" ORDER BY sr.division\"\n",
    "CUBE_records = retrive_data_from_table(select_stmt1)\n",
    "df1 = pd.DataFrame(list(CUBE_records), columns=['division', 'district','upazila', 'year', 'total_sales'])\n",
    "print(df1)\n",
    "\n",
    "\n",
    "## Here I tried to expand TIME_DIM table\n",
    "## DRILL_DOWN(division->> upazila)\n",
    "select_stmt2 = \" SELECT sr.division,tim.year,tim.month,tim.quarter, SUM(fact.total_price) \" \\\n",
    "              \" From ecomdb_star_schema.fact_table fact \" \\\n",
    "              \" JOIN ecomdb_star_schema.store_dim sr on sr.store_key=fact.store_key \" \\\n",
    "              \" JOIN ecomdb_star_schema.time_dim tim on tim.time_key=fact.time_key \"\\\n",
    "              \" GROUP BY CUBE(sr.division,tim.year,tim.month,tim.quarter) \"\\\n",
    "              \" ORDER BY sr.division\"\n",
    "\n",
    "\n",
    "CUBE_records2 = retrive_data_from_table(select_stmt2)\n",
    "df2 = pd.DataFrame(list(CUBE_records2), columns=['division','year','month','quarter', 'total_sales'])\n",
    "print(df2)"
   ]
  },
  {
   "cell_type": "markdown",
   "id": "23058334",
   "metadata": {},
   "source": [
    "##### CUBE_Q-1"
   ]
  },
  {
   "cell_type": "code",
   "execution_count": 30,
   "id": "7132c9a0",
   "metadata": {
    "scrolled": false
   },
   "outputs": [
    {
     "name": "stdout",
     "output_type": "stream",
     "text": [
      "successfully connected to database\n"
     ]
    },
    {
     "data": {
      "text/html": [
       "<div>\n",
       "<style scoped>\n",
       "    .dataframe tbody tr th:only-of-type {\n",
       "        vertical-align: middle;\n",
       "    }\n",
       "\n",
       "    .dataframe tbody tr th {\n",
       "        vertical-align: top;\n",
       "    }\n",
       "\n",
       "    .dataframe thead th {\n",
       "        text-align: right;\n",
       "    }\n",
       "</style>\n",
       "<table border=\"1\" class=\"dataframe\">\n",
       "  <thead>\n",
       "    <tr style=\"text-align: right;\">\n",
       "      <th></th>\n",
       "      <th>division</th>\n",
       "      <th>district</th>\n",
       "      <th>month</th>\n",
       "      <th>year</th>\n",
       "      <th>total_sales</th>\n",
       "    </tr>\n",
       "  </thead>\n",
       "  <tbody>\n",
       "    <tr>\n",
       "      <th>0</th>\n",
       "      <td>BARISAL</td>\n",
       "      <td>PIROJPUR</td>\n",
       "      <td>9.0</td>\n",
       "      <td>2015.0</td>\n",
       "      <td>24391.00</td>\n",
       "    </tr>\n",
       "    <tr>\n",
       "      <th>1</th>\n",
       "      <td>BARISAL</td>\n",
       "      <td>None</td>\n",
       "      <td>8.0</td>\n",
       "      <td>NaN</td>\n",
       "      <td>1263763.00</td>\n",
       "    </tr>\n",
       "    <tr>\n",
       "      <th>2</th>\n",
       "      <td>BARISAL</td>\n",
       "      <td>PIROJPUR</td>\n",
       "      <td>10.0</td>\n",
       "      <td>2014.0</td>\n",
       "      <td>22612.00</td>\n",
       "    </tr>\n",
       "    <tr>\n",
       "      <th>3</th>\n",
       "      <td>BARISAL</td>\n",
       "      <td>PIROJPUR</td>\n",
       "      <td>11.0</td>\n",
       "      <td>2015.0</td>\n",
       "      <td>22048.00</td>\n",
       "    </tr>\n",
       "    <tr>\n",
       "      <th>4</th>\n",
       "      <td>BARISAL</td>\n",
       "      <td>PIROJPUR</td>\n",
       "      <td>8.0</td>\n",
       "      <td>NaN</td>\n",
       "      <td>175170.00</td>\n",
       "    </tr>\n",
       "    <tr>\n",
       "      <th>...</th>\n",
       "      <td>...</td>\n",
       "      <td>...</td>\n",
       "      <td>...</td>\n",
       "      <td>...</td>\n",
       "      <td>...</td>\n",
       "    </tr>\n",
       "    <tr>\n",
       "      <th>14411</th>\n",
       "      <td>None</td>\n",
       "      <td>PANCHAGARH</td>\n",
       "      <td>NaN</td>\n",
       "      <td>2021.0</td>\n",
       "      <td>10391.00</td>\n",
       "    </tr>\n",
       "    <tr>\n",
       "      <th>14412</th>\n",
       "      <td>None</td>\n",
       "      <td>LALMONIRHAT</td>\n",
       "      <td>NaN</td>\n",
       "      <td>2020.0</td>\n",
       "      <td>206774.50</td>\n",
       "    </tr>\n",
       "    <tr>\n",
       "      <th>14413</th>\n",
       "      <td>None</td>\n",
       "      <td>GAIBANDHA</td>\n",
       "      <td>NaN</td>\n",
       "      <td>2021.0</td>\n",
       "      <td>18908.00</td>\n",
       "    </tr>\n",
       "    <tr>\n",
       "      <th>14414</th>\n",
       "      <td>None</td>\n",
       "      <td>LALMONIRHAT</td>\n",
       "      <td>NaN</td>\n",
       "      <td>2019.0</td>\n",
       "      <td>212435.50</td>\n",
       "    </tr>\n",
       "    <tr>\n",
       "      <th>14415</th>\n",
       "      <td>None</td>\n",
       "      <td>RAJSHAHI</td>\n",
       "      <td>NaN</td>\n",
       "      <td>2017.0</td>\n",
       "      <td>1078581.50</td>\n",
       "    </tr>\n",
       "  </tbody>\n",
       "</table>\n",
       "<p>14416 rows × 5 columns</p>\n",
       "</div>"
      ],
      "text/plain": [
       "      division     district  month    year total_sales\n",
       "0      BARISAL     PIROJPUR    9.0  2015.0    24391.00\n",
       "1      BARISAL         None    8.0     NaN  1263763.00\n",
       "2      BARISAL     PIROJPUR   10.0  2014.0    22612.00\n",
       "3      BARISAL     PIROJPUR   11.0  2015.0    22048.00\n",
       "4      BARISAL     PIROJPUR    8.0     NaN   175170.00\n",
       "...        ...          ...    ...     ...         ...\n",
       "14411     None   PANCHAGARH    NaN  2021.0    10391.00\n",
       "14412     None  LALMONIRHAT    NaN  2020.0   206774.50\n",
       "14413     None    GAIBANDHA    NaN  2021.0    18908.00\n",
       "14414     None  LALMONIRHAT    NaN  2019.0   212435.50\n",
       "14415     None     RAJSHAHI    NaN  2017.0  1078581.50\n",
       "\n",
       "[14416 rows x 5 columns]"
      ]
     },
     "execution_count": 30,
     "metadata": {},
     "output_type": "execute_result"
    }
   ],
   "source": [
    "select_stmt = \" SELECT sr.division ,sr.district,tim.month, tim.year, SUM(fact.total_price) \" \\\n",
    "              \" From ecomdb_star_schema.fact_table fact \" \\\n",
    "              \" JOIN ecomdb_star_schema.store_dim sr on sr.store_key=fact.store_key \" \\\n",
    "              \" JOIN ecomdb_star_schema.time_dim tim on tim.time_key=fact.time_key \"\\\n",
    "              \" GROUP BY CUBE(sr.division,sr.district,tim.month, tim.year) \"\\\n",
    "              \" ORDER BY sr.division\"\n",
    "  \n",
    "CUBE_records = retrive_data_from_table(select_stmt)\n",
    "df = pd.DataFrame(list(CUBE_records), columns=['division', 'district', 'month', 'year', 'total_sales'])\n",
    "df"
   ]
  },
  {
   "cell_type": "code",
   "execution_count": 33,
   "id": "7248ed63",
   "metadata": {},
   "outputs": [
    {
     "data": {
      "text/plain": [
       "array(['BARISAL', 'CHITTAGONG', 'DHAKA', 'KHULNA', 'RAJSHAHI', 'RANGPUR',\n",
       "       'SYLHET', None], dtype=object)"
      ]
     },
     "execution_count": 33,
     "metadata": {},
     "output_type": "execute_result"
    }
   ],
   "source": [
    "df['division'].unique()"
   ]
  },
  {
   "cell_type": "code",
   "execution_count": 32,
   "id": "c4352d90",
   "metadata": {},
   "outputs": [
    {
     "data": {
      "text/plain": [
       "division        object\n",
       "district        object\n",
       "month          float64\n",
       "year           float64\n",
       "total_sales    float64\n",
       "dtype: object"
      ]
     },
     "execution_count": 32,
     "metadata": {},
     "output_type": "execute_result"
    }
   ],
   "source": [
    "df.dtypes\n",
    "df['total_sales'] = df['total_sales'].astype('float64')\n",
    "df.dtypes"
   ]
  },
  {
   "cell_type": "markdown",
   "id": "958da1ae",
   "metadata": {},
   "source": [
    "##### SLICE_Q-1"
   ]
  },
  {
   "cell_type": "code",
   "execution_count": 98,
   "id": "5e3d441e",
   "metadata": {
    "scrolled": true
   },
   "outputs": [
    {
     "name": "stdout",
     "output_type": "stream",
     "text": [
      "successfully connected to database\n"
     ]
    },
    {
     "data": {
      "text/html": [
       "<div>\n",
       "<style scoped>\n",
       "    .dataframe tbody tr th:only-of-type {\n",
       "        vertical-align: middle;\n",
       "    }\n",
       "\n",
       "    .dataframe tbody tr th {\n",
       "        vertical-align: top;\n",
       "    }\n",
       "\n",
       "    .dataframe thead th {\n",
       "        text-align: right;\n",
       "    }\n",
       "</style>\n",
       "<table border=\"1\" class=\"dataframe\">\n",
       "  <thead>\n",
       "    <tr style=\"text-align: right;\">\n",
       "      <th></th>\n",
       "      <th>division</th>\n",
       "      <th>district</th>\n",
       "      <th>total_sales</th>\n",
       "    </tr>\n",
       "  </thead>\n",
       "  <tbody>\n",
       "    <tr>\n",
       "      <th>0</th>\n",
       "      <td>CHITTAGONG</td>\n",
       "      <td>BANDARBAN</td>\n",
       "      <td>1990721.50</td>\n",
       "    </tr>\n",
       "    <tr>\n",
       "      <th>1</th>\n",
       "      <td>CHITTAGONG</td>\n",
       "      <td>BRAHMANBARIA</td>\n",
       "      <td>2656468.50</td>\n",
       "    </tr>\n",
       "    <tr>\n",
       "      <th>2</th>\n",
       "      <td>CHITTAGONG</td>\n",
       "      <td>CHANDPUR</td>\n",
       "      <td>2306553.50</td>\n",
       "    </tr>\n",
       "    <tr>\n",
       "      <th>3</th>\n",
       "      <td>CHITTAGONG</td>\n",
       "      <td>CHITTAGONG</td>\n",
       "      <td>14585971.00</td>\n",
       "    </tr>\n",
       "    <tr>\n",
       "      <th>4</th>\n",
       "      <td>CHITTAGONG</td>\n",
       "      <td>COMILLA</td>\n",
       "      <td>4573796.50</td>\n",
       "    </tr>\n",
       "    <tr>\n",
       "      <th>5</th>\n",
       "      <td>CHITTAGONG</td>\n",
       "      <td>COX'S BAZAR</td>\n",
       "      <td>2376257.50</td>\n",
       "    </tr>\n",
       "    <tr>\n",
       "      <th>6</th>\n",
       "      <td>CHITTAGONG</td>\n",
       "      <td>FENI</td>\n",
       "      <td>1695747.00</td>\n",
       "    </tr>\n",
       "    <tr>\n",
       "      <th>7</th>\n",
       "      <td>CHITTAGONG</td>\n",
       "      <td>KHAGRACHHARI</td>\n",
       "      <td>2323443.00</td>\n",
       "    </tr>\n",
       "    <tr>\n",
       "      <th>8</th>\n",
       "      <td>CHITTAGONG</td>\n",
       "      <td>LAKSHMIPUR</td>\n",
       "      <td>1459818.50</td>\n",
       "    </tr>\n",
       "    <tr>\n",
       "      <th>9</th>\n",
       "      <td>CHITTAGONG</td>\n",
       "      <td>NOAKHALI</td>\n",
       "      <td>2642373.50</td>\n",
       "    </tr>\n",
       "    <tr>\n",
       "      <th>10</th>\n",
       "      <td>CHITTAGONG</td>\n",
       "      <td>RANGAMATI</td>\n",
       "      <td>2916039.50</td>\n",
       "    </tr>\n",
       "  </tbody>\n",
       "</table>\n",
       "</div>"
      ],
      "text/plain": [
       "      division      district  total_sales\n",
       "0   CHITTAGONG     BANDARBAN   1990721.50\n",
       "1   CHITTAGONG  BRAHMANBARIA   2656468.50\n",
       "2   CHITTAGONG      CHANDPUR   2306553.50\n",
       "3   CHITTAGONG    CHITTAGONG  14585971.00\n",
       "4   CHITTAGONG       COMILLA   4573796.50\n",
       "5   CHITTAGONG   COX'S BAZAR   2376257.50\n",
       "6   CHITTAGONG          FENI   1695747.00\n",
       "7   CHITTAGONG  KHAGRACHHARI   2323443.00\n",
       "8   CHITTAGONG    LAKSHMIPUR   1459818.50\n",
       "9   CHITTAGONG      NOAKHALI   2642373.50\n",
       "10  CHITTAGONG     RANGAMATI   2916039.50"
      ]
     },
     "execution_count": 98,
     "metadata": {},
     "output_type": "execute_result"
    }
   ],
   "source": [
    "# SLICE for divsion\n",
    "select_stmt = \" SELECT sr.division, sr.district, SUM(fact.total_price)\" \\\n",
    "              \" From ecomdb_star_schema.fact_table fact \" \\\n",
    "              \" JOIN ecomdb_star_schema.store_dim sr on sr.store_key=fact.store_key \" \\\n",
    "              \" Where sr.division ='CHITTAGONG' \" \\\n",
    "              \" GROUP BY sr.division,sr.district\"\n",
    " \n",
    "SLICE_records = retrive_data_from_table(select_stmt)\n",
    "df = pd.DataFrame(list(SLICE_records), columns=['division','district', 'total_sales'])\n",
    "df"
   ]
  },
  {
   "cell_type": "code",
   "execution_count": 129,
   "id": "e3dca3be",
   "metadata": {},
   "outputs": [
    {
     "data": {
      "image/png": "[encoded data removed]",
      "text/plain": [
       "<Figure size 1080x576 with 1 Axes>"
      ]
     },
     "metadata": {},
     "output_type": "display_data"
    }
   ],
   "source": [
    "labels=df['district']\n",
    "data = df['total_sales']\n",
    "textprops = {\"fontsize\":10}\n",
    "colors = ( \"orange\", \"cyan\", \"brown\", \"grey\", \"indigo\", \"beige\",'salmon','palegreen','skyblue','plum','pink')\n",
    "plt.title('District wise total sell of CHITTAGONG Division',loc='center',color='r')\n",
    "\n",
    "plt.pie(data, labels=labels, shadow = True, textprops = textprops, colors=colors, autopct='%.2f%%',explode=(0.1, 0.1,0.1, 0.1, 0.1, 0.1,0.1, 0.1, 0.1, 0.1, 0.1))\n",
    "# plt.figure(figsize=(20,12)) \n",
    "plt.rcParams[\"figure.figsize\"] = (12,7)\n",
    "plt.show()\n"
   ]
  },
  {
   "cell_type": "markdown",
   "id": "b4de563c",
   "metadata": {},
   "source": [
    "##### DICE_Q1"
   ]
  },
  {
   "cell_type": "code",
   "execution_count": 78,
   "id": "5ee4ebb8",
   "metadata": {
    "scrolled": true
   },
   "outputs": [
    {
     "name": "stdout",
     "output_type": "stream",
     "text": [
      "successfully connected to database\n"
     ]
    },
    {
     "data": {
      "text/html": [
       "<div>\n",
       "<style scoped>\n",
       "    .dataframe tbody tr th:only-of-type {\n",
       "        vertical-align: middle;\n",
       "    }\n",
       "\n",
       "    .dataframe tbody tr th {\n",
       "        vertical-align: top;\n",
       "    }\n",
       "\n",
       "    .dataframe thead th {\n",
       "        text-align: right;\n",
       "    }\n",
       "</style>\n",
       "<table border=\"1\" class=\"dataframe\">\n",
       "  <thead>\n",
       "    <tr style=\"text-align: right;\">\n",
       "      <th></th>\n",
       "      <th>division</th>\n",
       "      <th>month</th>\n",
       "      <th>total_sales</th>\n",
       "    </tr>\n",
       "  </thead>\n",
       "  <tbody>\n",
       "    <tr>\n",
       "      <th>0</th>\n",
       "      <td>CHITTAGONG</td>\n",
       "      <td>1</td>\n",
       "      <td>3429666.50</td>\n",
       "    </tr>\n",
       "    <tr>\n",
       "      <th>1</th>\n",
       "      <td>CHITTAGONG</td>\n",
       "      <td>2</td>\n",
       "      <td>3010753.00</td>\n",
       "    </tr>\n",
       "    <tr>\n",
       "      <th>2</th>\n",
       "      <td>CHITTAGONG</td>\n",
       "      <td>3</td>\n",
       "      <td>3368062.00</td>\n",
       "    </tr>\n",
       "    <tr>\n",
       "      <th>3</th>\n",
       "      <td>CHITTAGONG</td>\n",
       "      <td>4</td>\n",
       "      <td>3168166.00</td>\n",
       "    </tr>\n",
       "    <tr>\n",
       "      <th>4</th>\n",
       "      <td>CHITTAGONG</td>\n",
       "      <td>5</td>\n",
       "      <td>3443851.00</td>\n",
       "    </tr>\n",
       "    <tr>\n",
       "      <th>5</th>\n",
       "      <td>CHITTAGONG</td>\n",
       "      <td>6</td>\n",
       "      <td>3179065.00</td>\n",
       "    </tr>\n",
       "    <tr>\n",
       "      <th>6</th>\n",
       "      <td>CHITTAGONG</td>\n",
       "      <td>7</td>\n",
       "      <td>3425908.50</td>\n",
       "    </tr>\n",
       "    <tr>\n",
       "      <th>7</th>\n",
       "      <td>CHITTAGONG</td>\n",
       "      <td>8</td>\n",
       "      <td>3335373.50</td>\n",
       "    </tr>\n",
       "    <tr>\n",
       "      <th>8</th>\n",
       "      <td>CHITTAGONG</td>\n",
       "      <td>9</td>\n",
       "      <td>3255130.50</td>\n",
       "    </tr>\n",
       "    <tr>\n",
       "      <th>9</th>\n",
       "      <td>CHITTAGONG</td>\n",
       "      <td>10</td>\n",
       "      <td>3300710.50</td>\n",
       "    </tr>\n",
       "    <tr>\n",
       "      <th>10</th>\n",
       "      <td>CHITTAGONG</td>\n",
       "      <td>11</td>\n",
       "      <td>3280227.50</td>\n",
       "    </tr>\n",
       "    <tr>\n",
       "      <th>11</th>\n",
       "      <td>CHITTAGONG</td>\n",
       "      <td>12</td>\n",
       "      <td>3330276.00</td>\n",
       "    </tr>\n",
       "  </tbody>\n",
       "</table>\n",
       "</div>"
      ],
      "text/plain": [
       "      division  month total_sales\n",
       "0   CHITTAGONG      1  3429666.50\n",
       "1   CHITTAGONG      2  3010753.00\n",
       "2   CHITTAGONG      3  3368062.00\n",
       "3   CHITTAGONG      4  3168166.00\n",
       "4   CHITTAGONG      5  3443851.00\n",
       "5   CHITTAGONG      6  3179065.00\n",
       "6   CHITTAGONG      7  3425908.50\n",
       "7   CHITTAGONG      8  3335373.50\n",
       "8   CHITTAGONG      9  3255130.50\n",
       "9   CHITTAGONG     10  3300710.50\n",
       "10  CHITTAGONG     11  3280227.50\n",
       "11  CHITTAGONG     12  3330276.00"
      ]
     },
     "execution_count": 78,
     "metadata": {},
     "output_type": "execute_result"
    }
   ],
   "source": [
    "# select_stmt1 = \" SELECT i.item_name,SUM(f.total_price)\" \\\n",
    "#               \" From ecomdb_star_schema.fact_table f \" \\\n",
    "#               \" JOIN ecomdb_star_schema.store_dim s on s.store_key=f.store_key \" \\\n",
    "#               \"JOIN ecomdb_star_schema.item_dim i on i.item_key=f.item_key\" \\\n",
    "#               \" Where i.item_name ='Cherry Coke 12oz' \" \\\n",
    "#               \" GROUP BY i.item_name \"\n",
    "\n",
    "select_stmt = \" SELECT sr.division, tim.month, SUM(fact.total_price)\" \\\n",
    "              \" From ecomdb_star_schema.fact_table fact \" \\\n",
    "              \" JOIN ecomdb_star_schema.store_dim sr on sr.store_key=fact.store_key \" \\\n",
    "              \" JOIN ecomdb_star_schema.time_dim tim on tim.time_key=fact.time_key \"\\\n",
    "              \" Where sr.division ='CHITTAGONG' \" \\\n",
    "              \" GROUP BY sr.division, tim.month\"\n",
    " \n"
   ]
  },
  {
   "cell_type": "code",
   "execution_count": 146,
   "id": "f8a20eb1",
   "metadata": {},
   "outputs": [
    {
     "name": "stdout",
     "output_type": "stream",
     "text": [
      "    month total_sales\n",
      "0       1  3429666.50\n",
      "1       2  3010753.00\n",
      "2       3  3368062.00\n",
      "3       4  3168166.00\n",
      "4       5  3443851.00\n",
      "5       6  3179065.00\n",
      "6       7  3425908.50\n",
      "7       8  3335373.50\n",
      "8       9  3255130.50\n",
      "9      10  3300710.50\n",
      "10     11  3280227.50\n",
      "11     12  3330276.00\n"
     ]
    },
    {
     "data": {
      "image/png": "[encoded data removed]",
      "text/plain": [
       "<Figure size 864x504 with 1 Axes>"
      ]
     },
     "metadata": {
      "needs_background": "light"
     },
     "output_type": "display_data"
    }
   ],
   "source": [
    "print(df_slice)\n",
    "\n",
    "def millions(x, pos):\n",
    "    \"\"\"The two arguments are the value and tick position.\"\"\"\n",
    "    return '{:1.2f}K'.format(x*1e-6)   \n",
    "\n",
    "fig, ax = plt.subplots()\n",
    "# Use automatic FuncFormatter creation\n",
    "ax.yaxis.set_major_formatter(millions)\n",
    "ax.bar(df_slice['month'], df_slice['total_sales'])\n",
    "plt.show()"
   ]
  },
  {
   "cell_type": "markdown",
   "id": "5e42d9e8",
   "metadata": {},
   "source": [
    "## Visualization"
   ]
  },
  {
   "cell_type": "code",
   "execution_count": 77,
   "id": "92130656",
   "metadata": {},
   "outputs": [
    {
     "data": {
      "text/html": [
       "<div>\n",
       "<style scoped>\n",
       "    .dataframe tbody tr th:only-of-type {\n",
       "        vertical-align: middle;\n",
       "    }\n",
       "\n",
       "    .dataframe tbody tr th {\n",
       "        vertical-align: top;\n",
       "    }\n",
       "\n",
       "    .dataframe thead th {\n",
       "        text-align: right;\n",
       "    }\n",
       "</style>\n",
       "<table border=\"1\" class=\"dataframe\">\n",
       "  <thead>\n",
       "    <tr style=\"text-align: right;\">\n",
       "      <th></th>\n",
       "      <th>division</th>\n",
       "      <th>total_sales</th>\n",
       "    </tr>\n",
       "  </thead>\n",
       "  <tbody>\n",
       "    <tr>\n",
       "      <th>0</th>\n",
       "      <td>BARISAL</td>\n",
       "      <td>638101.00</td>\n",
       "    </tr>\n",
       "    <tr>\n",
       "      <th>1</th>\n",
       "      <td>CHITTAGONG</td>\n",
       "      <td>1665138.00</td>\n",
       "    </tr>\n",
       "    <tr>\n",
       "      <th>2</th>\n",
       "      <td>DHAKA</td>\n",
       "      <td>3440676.25</td>\n",
       "    </tr>\n",
       "    <tr>\n",
       "      <th>3</th>\n",
       "      <td>KHULNA</td>\n",
       "      <td>952049.75</td>\n",
       "    </tr>\n",
       "    <tr>\n",
       "      <th>4</th>\n",
       "      <td>RAJSHAHI</td>\n",
       "      <td>1041201.25</td>\n",
       "    </tr>\n",
       "    <tr>\n",
       "      <th>5</th>\n",
       "      <td>RANGPUR</td>\n",
       "      <td>721057.50</td>\n",
       "    </tr>\n",
       "    <tr>\n",
       "      <th>6</th>\n",
       "      <td>SYLHET</td>\n",
       "      <td>465256.75</td>\n",
       "    </tr>\n",
       "  </tbody>\n",
       "</table>\n",
       "</div>"
      ],
      "text/plain": [
       "     division total_sales\n",
       "0     BARISAL   638101.00\n",
       "1  CHITTAGONG  1665138.00\n",
       "2       DHAKA  3440676.25\n",
       "3      KHULNA   952049.75\n",
       "4    RAJSHAHI  1041201.25\n",
       "5     RANGPUR   721057.50\n",
       "6      SYLHET   465256.75"
      ]
     },
     "execution_count": 77,
     "metadata": {},
     "output_type": "execute_result"
    }
   ],
   "source": [
    "select_stmt = \"SELECT s.division, SUM(t.total_price) \" \\\n",
    "              \"FROM ecomdb_star_schema.fact_table t \" \\\n",
    "              \"JOIN ecomdb_star_schema.store_dim s on s.store_key=t.store_key \" \\\n",
    "              \"JOIN ecomdb_star_schema.time_dim tim on tim.time_key=t.time_key \" \\\n",
    "              \"WHERE tim.month=12 \" \\\n",
    "              \"GROUP BY s.division \" \\\n",
    "              \"ORDER BY s.division\"\n",
    "\n",
    "records = retrive_data_from_table(select_stmt)\n",
    "df = pd.DataFrame(list(records), columns=['division','total_price'])\n",
    "df"
   ]
  },
  {
   "cell_type": "code",
   "execution_count": 78,
   "id": "2bc349b3",
   "metadata": {},
   "outputs": [
    {
     "data": {
      "text/plain": [
       "division       object\n",
       "total_sales    object\n",
       "dtype: object"
      ]
     },
     "execution_count": 78,
     "metadata": {},
     "output_type": "execute_result"
    }
   ],
   "source": [
    "# df['division'].unique()\n",
    "# df.isna()\n",
    "df.dtypes"
   ]
  },
  {
   "cell_type": "code",
   "execution_count": 80,
   "id": "e64d9102",
   "metadata": {},
   "outputs": [
    {
     "ename": "KeyError",
     "evalue": "\"None of ['division'] are in the columns\"",
     "output_type": "error",
     "traceback": [
      "\u001b[1;31m---------------------------------------------------------------------------\u001b[0m",
      "\u001b[1;31mKeyError\u001b[0m                                  Traceback (most recent call last)",
      "\u001b[1;32m<ipython-input-80-c667e5219160>\u001b[0m in \u001b[0;36m<module>\u001b[1;34m\u001b[0m\n\u001b[1;32m----> 1\u001b[1;33m \u001b[0mdf\u001b[0m\u001b[1;33m.\u001b[0m\u001b[0mset_index\u001b[0m\u001b[1;33m(\u001b[0m\u001b[1;34m'division'\u001b[0m\u001b[1;33m,\u001b[0m \u001b[0minplace\u001b[0m\u001b[1;33m=\u001b[0m\u001b[1;32mTrue\u001b[0m\u001b[1;33m)\u001b[0m\u001b[1;33m\u001b[0m\u001b[1;33m\u001b[0m\u001b[0m\n\u001b[0m\u001b[0;32m      2\u001b[0m \u001b[0mdf\u001b[0m\u001b[1;33m.\u001b[0m\u001b[0mplot\u001b[0m\u001b[1;33m.\u001b[0m\u001b[0mpie\u001b[0m\u001b[1;33m(\u001b[0m\u001b[0my\u001b[0m\u001b[1;33m=\u001b[0m\u001b[1;34m'total_price'\u001b[0m\u001b[1;33m,\u001b[0m \u001b[0mtitle\u001b[0m\u001b[1;33m=\u001b[0m\u001b[1;34m\"Title\"\u001b[0m\u001b[1;33m,\u001b[0m \u001b[0mlegend\u001b[0m\u001b[1;33m=\u001b[0m\u001b[1;32mFalse\u001b[0m\u001b[1;33m,\u001b[0m \u001b[0mautopct\u001b[0m\u001b[1;33m=\u001b[0m\u001b[1;34m'%1.1f%%'\u001b[0m\u001b[1;33m,\u001b[0m \u001b[0mshadow\u001b[0m\u001b[1;33m=\u001b[0m\u001b[1;32mTrue\u001b[0m\u001b[1;33m,\u001b[0m \u001b[0mstartangle\u001b[0m\u001b[1;33m=\u001b[0m\u001b[1;36m0\u001b[0m\u001b[1;33m)\u001b[0m\u001b[1;33m\u001b[0m\u001b[1;33m\u001b[0m\u001b[0m\n",
      "\u001b[1;32m~\\anaconda3\\lib\\site-packages\\pandas\\core\\frame.py\u001b[0m in \u001b[0;36mset_index\u001b[1;34m(self, keys, drop, append, inplace, verify_integrity)\u001b[0m\n\u001b[0;32m   4725\u001b[0m \u001b[1;33m\u001b[0m\u001b[0m\n\u001b[0;32m   4726\u001b[0m         \u001b[1;32mif\u001b[0m \u001b[0mmissing\u001b[0m\u001b[1;33m:\u001b[0m\u001b[1;33m\u001b[0m\u001b[1;33m\u001b[0m\u001b[0m\n\u001b[1;32m-> 4727\u001b[1;33m             \u001b[1;32mraise\u001b[0m \u001b[0mKeyError\u001b[0m\u001b[1;33m(\u001b[0m\u001b[1;34mf\"None of {missing} are in the columns\"\u001b[0m\u001b[1;33m)\u001b[0m\u001b[1;33m\u001b[0m\u001b[1;33m\u001b[0m\u001b[0m\n\u001b[0m\u001b[0;32m   4728\u001b[0m \u001b[1;33m\u001b[0m\u001b[0m\n\u001b[0;32m   4729\u001b[0m         \u001b[1;32mif\u001b[0m \u001b[0minplace\u001b[0m\u001b[1;33m:\u001b[0m\u001b[1;33m\u001b[0m\u001b[1;33m\u001b[0m\u001b[0m\n",
      "\u001b[1;31mKeyError\u001b[0m: \"None of ['division'] are in the columns\""
     ]
    }
   ],
   "source": [
    "df.set_index('division', inplace=True)\n",
    "df.plot.pie(y='total_price', title=\"Title\", legend=False, autopct='%1.1f%%', shadow=True, startangle=0)"
   ]
  },
  {
   "cell_type": "code",
   "execution_count": 63,
   "id": "9306eaca",
   "metadata": {},
   "outputs": [
    {
     "name": "stdout",
     "output_type": "stream",
     "text": [
      "  activity  hours\n",
      "0     Work      8\n",
      "1    Sleep     10\n",
      "2     Play      6\n"
     ]
    },
    {
     "data": {
      "text/plain": [
       "<AxesSubplot:title={'center':'Title'}, ylabel='hours'>"
      ]
     },
     "execution_count": 63,
     "metadata": {},
     "output_type": "execute_result"
    },
    {
     "data": {
      "image/png": "[encoded data removed]",
      "text/plain": [
       "<Figure size 864x504 with 1 Axes>"
      ]
     },
     "metadata": {},
     "output_type": "display_data"
    }
   ],
   "source": [
    "## test \n",
    "df = pd.DataFrame({'activity': ['Work', 'Sleep', 'Play'],\n",
    "                   'hours': [8, 10, 6]})\n",
    "print(df)\n",
    "df.set_index('activity', inplace=True)\n",
    "df.plot.pie(y='hours', title=\"Title\", legend=False, autopct='%1.1f%%', explode=(0, 0, 0.1), shadow=True, startangle=0)"
   ]
  },
  {
   "cell_type": "code",
   "execution_count": 60,
   "id": "cf9726df",
   "metadata": {},
   "outputs": [
    {
     "ename": "TypeError",
     "evalue": "no numeric data to plot",
     "output_type": "error",
     "traceback": [
      "\u001b[1;31m---------------------------------------------------------------------------\u001b[0m",
      "\u001b[1;31mTypeError\u001b[0m                                 Traceback (most recent call last)",
      "\u001b[1;32m<ipython-input-60-8457f66b7fc8>\u001b[0m in \u001b[0;36m<module>\u001b[1;34m\u001b[0m\n\u001b[1;32m----> 1\u001b[1;33m \u001b[0mdf\u001b[0m\u001b[1;33m.\u001b[0m\u001b[0mplot\u001b[0m\u001b[1;33m.\u001b[0m\u001b[0mpie\u001b[0m\u001b[1;33m(\u001b[0m\u001b[0my\u001b[0m\u001b[1;33m=\u001b[0m\u001b[1;34m'total_sales'\u001b[0m\u001b[1;33m,\u001b[0m \u001b[0mfigsize\u001b[0m\u001b[1;33m=\u001b[0m\u001b[1;33m(\u001b[0m\u001b[1;36m5\u001b[0m\u001b[1;33m,\u001b[0m \u001b[1;36m5\u001b[0m\u001b[1;33m)\u001b[0m\u001b[1;33m)\u001b[0m\u001b[1;33m\u001b[0m\u001b[1;33m\u001b[0m\u001b[0m\n\u001b[0m\u001b[0;32m      2\u001b[0m \u001b[1;31m# plot = df_pie.plot.pie(y='total_price', figsize=(5, 5))\u001b[0m\u001b[1;33m\u001b[0m\u001b[1;33m\u001b[0m\u001b[1;33m\u001b[0m\u001b[0m\n",
      "\u001b[1;32m~\\anaconda3\\lib\\site-packages\\pandas\\plotting\\_core.py\u001b[0m in \u001b[0;36mpie\u001b[1;34m(self, **kwargs)\u001b[0m\n\u001b[0;32m   1532\u001b[0m         ):\n\u001b[0;32m   1533\u001b[0m             \u001b[1;32mraise\u001b[0m \u001b[0mValueError\u001b[0m\u001b[1;33m(\u001b[0m\u001b[1;34m\"pie requires either y column or 'subplots=True'\"\u001b[0m\u001b[1;33m)\u001b[0m\u001b[1;33m\u001b[0m\u001b[1;33m\u001b[0m\u001b[0m\n\u001b[1;32m-> 1534\u001b[1;33m         \u001b[1;32mreturn\u001b[0m \u001b[0mself\u001b[0m\u001b[1;33m(\u001b[0m\u001b[0mkind\u001b[0m\u001b[1;33m=\u001b[0m\u001b[1;34m\"pie\"\u001b[0m\u001b[1;33m,\u001b[0m \u001b[1;33m**\u001b[0m\u001b[0mkwargs\u001b[0m\u001b[1;33m)\u001b[0m\u001b[1;33m\u001b[0m\u001b[1;33m\u001b[0m\u001b[0m\n\u001b[0m\u001b[0;32m   1535\u001b[0m \u001b[1;33m\u001b[0m\u001b[0m\n\u001b[0;32m   1536\u001b[0m     \u001b[1;32mdef\u001b[0m \u001b[0mscatter\u001b[0m\u001b[1;33m(\u001b[0m\u001b[0mself\u001b[0m\u001b[1;33m,\u001b[0m \u001b[0mx\u001b[0m\u001b[1;33m,\u001b[0m \u001b[0my\u001b[0m\u001b[1;33m,\u001b[0m \u001b[0ms\u001b[0m\u001b[1;33m=\u001b[0m\u001b[1;32mNone\u001b[0m\u001b[1;33m,\u001b[0m \u001b[0mc\u001b[0m\u001b[1;33m=\u001b[0m\u001b[1;32mNone\u001b[0m\u001b[1;33m,\u001b[0m \u001b[1;33m**\u001b[0m\u001b[0mkwargs\u001b[0m\u001b[1;33m)\u001b[0m\u001b[1;33m:\u001b[0m\u001b[1;33m\u001b[0m\u001b[1;33m\u001b[0m\u001b[0m\n",
      "\u001b[1;32m~\\anaconda3\\lib\\site-packages\\pandas\\plotting\\_core.py\u001b[0m in \u001b[0;36m__call__\u001b[1;34m(self, *args, **kwargs)\u001b[0m\n\u001b[0;32m    953\u001b[0m                     \u001b[0mdata\u001b[0m\u001b[1;33m.\u001b[0m\u001b[0mcolumns\u001b[0m \u001b[1;33m=\u001b[0m \u001b[0mlabel_name\u001b[0m\u001b[1;33m\u001b[0m\u001b[1;33m\u001b[0m\u001b[0m\n\u001b[0;32m    954\u001b[0m \u001b[1;33m\u001b[0m\u001b[0m\n\u001b[1;32m--> 955\u001b[1;33m         \u001b[1;32mreturn\u001b[0m \u001b[0mplot_backend\u001b[0m\u001b[1;33m.\u001b[0m\u001b[0mplot\u001b[0m\u001b[1;33m(\u001b[0m\u001b[0mdata\u001b[0m\u001b[1;33m,\u001b[0m \u001b[0mkind\u001b[0m\u001b[1;33m=\u001b[0m\u001b[0mkind\u001b[0m\u001b[1;33m,\u001b[0m \u001b[1;33m**\u001b[0m\u001b[0mkwargs\u001b[0m\u001b[1;33m)\u001b[0m\u001b[1;33m\u001b[0m\u001b[1;33m\u001b[0m\u001b[0m\n\u001b[0m\u001b[0;32m    956\u001b[0m \u001b[1;33m\u001b[0m\u001b[0m\n\u001b[0;32m    957\u001b[0m     \u001b[0m__call__\u001b[0m\u001b[1;33m.\u001b[0m\u001b[0m__doc__\u001b[0m \u001b[1;33m=\u001b[0m \u001b[0m__doc__\u001b[0m\u001b[1;33m\u001b[0m\u001b[1;33m\u001b[0m\u001b[0m\n",
      "\u001b[1;32m~\\anaconda3\\lib\\site-packages\\pandas\\plotting\\_matplotlib\\__init__.py\u001b[0m in \u001b[0;36mplot\u001b[1;34m(data, kind, **kwargs)\u001b[0m\n\u001b[0;32m     59\u001b[0m             \u001b[0mkwargs\u001b[0m\u001b[1;33m[\u001b[0m\u001b[1;34m\"ax\"\u001b[0m\u001b[1;33m]\u001b[0m \u001b[1;33m=\u001b[0m \u001b[0mgetattr\u001b[0m\u001b[1;33m(\u001b[0m\u001b[0max\u001b[0m\u001b[1;33m,\u001b[0m \u001b[1;34m\"left_ax\"\u001b[0m\u001b[1;33m,\u001b[0m \u001b[0max\u001b[0m\u001b[1;33m)\u001b[0m\u001b[1;33m\u001b[0m\u001b[1;33m\u001b[0m\u001b[0m\n\u001b[0;32m     60\u001b[0m     \u001b[0mplot_obj\u001b[0m \u001b[1;33m=\u001b[0m \u001b[0mPLOT_CLASSES\u001b[0m\u001b[1;33m[\u001b[0m\u001b[0mkind\u001b[0m\u001b[1;33m]\u001b[0m\u001b[1;33m(\u001b[0m\u001b[0mdata\u001b[0m\u001b[1;33m,\u001b[0m \u001b[1;33m**\u001b[0m\u001b[0mkwargs\u001b[0m\u001b[1;33m)\u001b[0m\u001b[1;33m\u001b[0m\u001b[1;33m\u001b[0m\u001b[0m\n\u001b[1;32m---> 61\u001b[1;33m     \u001b[0mplot_obj\u001b[0m\u001b[1;33m.\u001b[0m\u001b[0mgenerate\u001b[0m\u001b[1;33m(\u001b[0m\u001b[1;33m)\u001b[0m\u001b[1;33m\u001b[0m\u001b[1;33m\u001b[0m\u001b[0m\n\u001b[0m\u001b[0;32m     62\u001b[0m     \u001b[0mplot_obj\u001b[0m\u001b[1;33m.\u001b[0m\u001b[0mdraw\u001b[0m\u001b[1;33m(\u001b[0m\u001b[1;33m)\u001b[0m\u001b[1;33m\u001b[0m\u001b[1;33m\u001b[0m\u001b[0m\n\u001b[0;32m     63\u001b[0m     \u001b[1;32mreturn\u001b[0m \u001b[0mplot_obj\u001b[0m\u001b[1;33m.\u001b[0m\u001b[0mresult\u001b[0m\u001b[1;33m\u001b[0m\u001b[1;33m\u001b[0m\u001b[0m\n",
      "\u001b[1;32m~\\anaconda3\\lib\\site-packages\\pandas\\plotting\\_matplotlib\\core.py\u001b[0m in \u001b[0;36mgenerate\u001b[1;34m(self)\u001b[0m\n\u001b[0;32m    276\u001b[0m     \u001b[1;32mdef\u001b[0m \u001b[0mgenerate\u001b[0m\u001b[1;33m(\u001b[0m\u001b[0mself\u001b[0m\u001b[1;33m)\u001b[0m\u001b[1;33m:\u001b[0m\u001b[1;33m\u001b[0m\u001b[1;33m\u001b[0m\u001b[0m\n\u001b[0;32m    277\u001b[0m         \u001b[0mself\u001b[0m\u001b[1;33m.\u001b[0m\u001b[0m_args_adjust\u001b[0m\u001b[1;33m(\u001b[0m\u001b[1;33m)\u001b[0m\u001b[1;33m\u001b[0m\u001b[1;33m\u001b[0m\u001b[0m\n\u001b[1;32m--> 278\u001b[1;33m         \u001b[0mself\u001b[0m\u001b[1;33m.\u001b[0m\u001b[0m_compute_plot_data\u001b[0m\u001b[1;33m(\u001b[0m\u001b[1;33m)\u001b[0m\u001b[1;33m\u001b[0m\u001b[1;33m\u001b[0m\u001b[0m\n\u001b[0m\u001b[0;32m    279\u001b[0m         \u001b[0mself\u001b[0m\u001b[1;33m.\u001b[0m\u001b[0m_setup_subplots\u001b[0m\u001b[1;33m(\u001b[0m\u001b[1;33m)\u001b[0m\u001b[1;33m\u001b[0m\u001b[1;33m\u001b[0m\u001b[0m\n\u001b[0;32m    280\u001b[0m         \u001b[0mself\u001b[0m\u001b[1;33m.\u001b[0m\u001b[0m_make_plot\u001b[0m\u001b[1;33m(\u001b[0m\u001b[1;33m)\u001b[0m\u001b[1;33m\u001b[0m\u001b[1;33m\u001b[0m\u001b[0m\n",
      "\u001b[1;32m~\\anaconda3\\lib\\site-packages\\pandas\\plotting\\_matplotlib\\core.py\u001b[0m in \u001b[0;36m_compute_plot_data\u001b[1;34m(self)\u001b[0m\n\u001b[0;32m    439\u001b[0m         \u001b[1;31m# no non-numeric frames or series allowed\u001b[0m\u001b[1;33m\u001b[0m\u001b[1;33m\u001b[0m\u001b[1;33m\u001b[0m\u001b[0m\n\u001b[0;32m    440\u001b[0m         \u001b[1;32mif\u001b[0m \u001b[0mis_empty\u001b[0m\u001b[1;33m:\u001b[0m\u001b[1;33m\u001b[0m\u001b[1;33m\u001b[0m\u001b[0m\n\u001b[1;32m--> 441\u001b[1;33m             \u001b[1;32mraise\u001b[0m \u001b[0mTypeError\u001b[0m\u001b[1;33m(\u001b[0m\u001b[1;34m\"no numeric data to plot\"\u001b[0m\u001b[1;33m)\u001b[0m\u001b[1;33m\u001b[0m\u001b[1;33m\u001b[0m\u001b[0m\n\u001b[0m\u001b[0;32m    442\u001b[0m \u001b[1;33m\u001b[0m\u001b[0m\n\u001b[0;32m    443\u001b[0m         \u001b[0mself\u001b[0m\u001b[1;33m.\u001b[0m\u001b[0mdata\u001b[0m \u001b[1;33m=\u001b[0m \u001b[0mnumeric_data\u001b[0m\u001b[1;33m.\u001b[0m\u001b[0mapply\u001b[0m\u001b[1;33m(\u001b[0m\u001b[0mself\u001b[0m\u001b[1;33m.\u001b[0m\u001b[0m_convert_to_ndarray\u001b[0m\u001b[1;33m)\u001b[0m\u001b[1;33m\u001b[0m\u001b[1;33m\u001b[0m\u001b[0m\n",
      "\u001b[1;31mTypeError\u001b[0m: no numeric data to plot"
     ]
    }
   ],
   "source": [
    "df.plot.pie(y='total_sales', figsize=(5, 5))\n",
    "# plot = df_pie.plot.pie(y='total_price', figsize=(5, 5))\n"
   ]
  },
  {
   "cell_type": "markdown",
   "id": "62d83a0f",
   "metadata": {},
   "source": [
    "### PANDAS Techiques:\n",
    "1. Filter\n",
    "2. Drop\n",
    "3. iloc, loc\n",
    "4. Aggregate\n",
    "5. Index\n",
    "6. Column selection, copy, crop\n",
    "7. Merge, Concate"
   ]
  },
  {
   "cell_type": "code",
   "execution_count": null,
   "id": "11488843",
   "metadata": {},
   "outputs": [],
   "source": []
  }
 ],
 "metadata": {
  "kernelspec": {
   "display_name": "Python 3",
   "language": "python",
   "name": "python3"
  },
  "language_info": {
   "codemirror_mode": {
    "name": "ipython",
    "version": 3
   },
   "file_extension": ".py",
   "mimetype": "text/x-python",
   "name": "python",
   "nbconvert_exporter": "python",
   "pygments_lexer": "ipython3",
   "version": "3.8.8"
  }
 },
 "nbformat": 4,
 "nbformat_minor": 5
}
