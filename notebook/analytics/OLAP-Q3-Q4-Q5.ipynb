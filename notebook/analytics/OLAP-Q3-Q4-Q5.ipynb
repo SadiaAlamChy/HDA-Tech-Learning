{
 "cells": [
  {
   "cell_type": "code",
   "execution_count": 2,
   "id": "ed6ac2c8",
   "metadata": {},
   "outputs": [],
   "source": [
    "import psycopg2\n",
    "import pandas as pd\n",
    "import psycopg2.extras\n",
    "import matplotlib.pyplot as plt"
   ]
  },
  {
   "cell_type": "code",
   "execution_count": 3,
   "id": "9bec3a21",
   "metadata": {},
   "outputs": [],
   "source": [
    "class PostgresConnection(object):\n",
    "    def __init__(self):\n",
    "        self.connection = psycopg2.connect(database=\"ecomdb\",\n",
    "                                           user = \"postgres\",\n",
    "                                           password = \"123456\",\n",
    "                                           host = \"127.0.0.1\",\n",
    "                                           port = \"5432\")\n",
    "\n",
    "    def getConnection(self):\n",
    "        print(\"successfully connected to database\")\n",
    "        return self.connection\n",
    "    \n",
    "    \n",
    "# con = PostgresConnection().getConnection()    "
   ]
  },
  {
   "cell_type": "markdown",
   "id": "77b5dbd9",
   "metadata": {},
   "source": [
    "### Common Function to fetch Data from all tables "
   ]
  },
  {
   "cell_type": "code",
   "execution_count": 4,
   "id": "05854ec4",
   "metadata": {},
   "outputs": [],
   "source": [
    "#  select_stmt= is the SQL select query along with  table and column name    \n",
    "def retrive_data_from_table(select_stmt): \n",
    "    con = PostgresConnection().getConnection()\n",
    "    cur = con.cursor()\n",
    "#     select_stmt = \"SELECT t.payment_key , t.trans_type, t.bank_name \" \\\n",
    "#                   \"FROM ecomdb_star_schema.trans_dim t\"\n",
    "    cur.execute(select_stmt)\n",
    "    records = cur.fetchall()\n",
    "    return records"
   ]
  },
  {
   "cell_type": "markdown",
   "id": "77bfa580",
   "metadata": {},
   "source": [
    "### Q3: Total sales in Barisal"
   ]
  },
  {
   "cell_type": "code",
   "execution_count": 54,
   "id": "9274e359",
   "metadata": {},
   "outputs": [
    {
     "name": "stdout",
     "output_type": "stream",
     "text": [
      "successfully connected to database\n"
     ]
    },
    {
     "data": {
      "text/html": [
       "<div>\n",
       "<style scoped>\n",
       "    .dataframe tbody tr th:only-of-type {\n",
       "        vertical-align: middle;\n",
       "    }\n",
       "\n",
       "    .dataframe tbody tr th {\n",
       "        vertical-align: top;\n",
       "    }\n",
       "\n",
       "    .dataframe thead th {\n",
       "        text-align: right;\n",
       "    }\n",
       "</style>\n",
       "<table border=\"1\" class=\"dataframe\">\n",
       "  <thead>\n",
       "    <tr style=\"text-align: right;\">\n",
       "      <th></th>\n",
       "      <th>year</th>\n",
       "      <th>total_price</th>\n",
       "    </tr>\n",
       "  </thead>\n",
       "  <tbody>\n",
       "    <tr>\n",
       "      <th>0</th>\n",
       "      <td>BARISAL</td>\n",
       "      <td>15040687.50</td>\n",
       "    </tr>\n",
       "  </tbody>\n",
       "</table>\n",
       "</div>"
      ],
      "text/plain": [
       "      year  total_price\n",
       "0  BARISAL  15040687.50"
      ]
     },
     "execution_count": 54,
     "metadata": {},
     "output_type": "execute_result"
    }
   ],
   "source": [
    "select_query =  \"Select t2.division, sum(t1.total_price) \"\\\n",
    "            \"from ecomdb_star_schema.fact_table t1 \"\\\n",
    "            \"join ecomdb_star_schema.store_dim t2 on t1.store_key = t2.store_key \"\\\n",
    "            \"where t2.division = 'BARISAL' \"\\\n",
    "            \"group by(t2.division)\"\n",
    "\n",
    "record_Q3 = retrive_data_from_table(select_query)\n",
    "df_Q3 = pd.DataFrame(list(record_Q3), columns=['year', 'total_price'])\n",
    "df_Q3\n"
   ]
  },
  {
   "cell_type": "markdown",
   "id": "ccbb21ee",
   "metadata": {},
   "source": [
    "### Q4: Total sales in 2015"
   ]
  },
  {
   "cell_type": "code",
   "execution_count": 52,
   "id": "bd0c8a59",
   "metadata": {},
   "outputs": [
    {
     "name": "stdout",
     "output_type": "stream",
     "text": [
      "successfully connected to database\n"
     ]
    },
    {
     "data": {
      "text/html": [
       "<div>\n",
       "<style scoped>\n",
       "    .dataframe tbody tr th:only-of-type {\n",
       "        vertical-align: middle;\n",
       "    }\n",
       "\n",
       "    .dataframe tbody tr th {\n",
       "        vertical-align: top;\n",
       "    }\n",
       "\n",
       "    .dataframe thead th {\n",
       "        text-align: right;\n",
       "    }\n",
       "</style>\n",
       "<table border=\"1\" class=\"dataframe\">\n",
       "  <thead>\n",
       "    <tr style=\"text-align: right;\">\n",
       "      <th></th>\n",
       "      <th>year</th>\n",
       "      <th>total_price</th>\n",
       "    </tr>\n",
       "  </thead>\n",
       "  <tbody>\n",
       "    <tr>\n",
       "      <th>0</th>\n",
       "      <td>2015</td>\n",
       "      <td>30191440.50</td>\n",
       "    </tr>\n",
       "  </tbody>\n",
       "</table>\n",
       "</div>"
      ],
      "text/plain": [
       "   year  total_price\n",
       "0  2015  30191440.50"
      ]
     },
     "execution_count": 52,
     "metadata": {},
     "output_type": "execute_result"
    }
   ],
   "source": [
    "select_query=  \"select  t2.year, sum(t1.total_price) \"\\\n",
    "                \"from ecomdb_star_schema.fact_table t1 \"\\\n",
    "                \"join ecomdb_star_schema.time_dim t2 on t1.time_key = t2.time_key \"\\\n",
    "                \"where t2.year= 2015 \" \\\n",
    "                \"group by(t2.year)\"\n",
    "\n",
    "record_Q4 = retrive_data_from_table(select_query)\n",
    "df_Q4 = pd.DataFrame(list(record_Q4), columns=['year', 'total_price'])\n",
    "df_Q4"
   ]
  },
  {
   "cell_type": "markdown",
   "id": "6260f321",
   "metadata": {},
   "source": [
    "### Q5: Total sales of Barisal in 2015"
   ]
  },
  {
   "cell_type": "code",
   "execution_count": 49,
   "id": "c01bd9b8",
   "metadata": {
    "scrolled": true
   },
   "outputs": [
    {
     "name": "stdout",
     "output_type": "stream",
     "text": [
      "successfully connected to database\n"
     ]
    },
    {
     "data": {
      "text/html": [
       "<div>\n",
       "<style scoped>\n",
       "    .dataframe tbody tr th:only-of-type {\n",
       "        vertical-align: middle;\n",
       "    }\n",
       "\n",
       "    .dataframe tbody tr th {\n",
       "        vertical-align: top;\n",
       "    }\n",
       "\n",
       "    .dataframe thead th {\n",
       "        text-align: right;\n",
       "    }\n",
       "</style>\n",
       "<table border=\"1\" class=\"dataframe\">\n",
       "  <thead>\n",
       "    <tr style=\"text-align: right;\">\n",
       "      <th></th>\n",
       "      <th>division</th>\n",
       "      <th>year</th>\n",
       "      <th>total_price</th>\n",
       "    </tr>\n",
       "  </thead>\n",
       "  <tbody>\n",
       "    <tr>\n",
       "      <th>0</th>\n",
       "      <td>BARISAL</td>\n",
       "      <td>2015</td>\n",
       "      <td>2153805.50</td>\n",
       "    </tr>\n",
       "  </tbody>\n",
       "</table>\n",
       "</div>"
      ],
      "text/plain": [
       "  division  year total_price\n",
       "0  BARISAL  2015  2153805.50"
      ]
     },
     "execution_count": 49,
     "metadata": {},
     "output_type": "execute_result"
    }
   ],
   "source": [
    "select_query =  \"select t3.division, t2.year, sum(t1.total_price) \" \\\n",
    "                \"from ecomdb_star_schema.fact_table t1 \" \\\n",
    "                \"join ecomdb_star_schema.time_dim t2 on t1.time_key = t2.time_key \" \\\n",
    "                \"join ecomdb_star_schema.store_dim t3 on t1.store_key = t3.store_key \" \\\n",
    "                \"where  t2.year= 2015 and t3.division = 'BARISAL'  \" \\\n",
    "                \"group by (t3.division, t2.year)\"\n",
    "\n",
    "record_Q5 = retrive_data_from_table(select_query)\n",
    "df_Q5 = pd.DataFrame(list(record_Q5), columns=['division','year', 'total_price'])\n",
    "df_Q5\n"
   ]
  },
  {
   "cell_type": "code",
   "execution_count": null,
   "id": "5fd7e793",
   "metadata": {},
   "outputs": [],
   "source": [
    "df_Q5.dtypes"
   ]
  }
 ],
 "metadata": {
  "kernelspec": {
   "display_name": "Python 3",
   "language": "python",
   "name": "python3"
  },
  "language_info": {
   "codemirror_mode": {
    "name": "ipython",
    "version": 3
   },
   "file_extension": ".py",
   "mimetype": "text/x-python",
   "name": "python",
   "nbconvert_exporter": "python",
   "pygments_lexer": "ipython3",
   "version": "3.8.8"
  }
 },
 "nbformat": 4,
 "nbformat_minor": 5
}
