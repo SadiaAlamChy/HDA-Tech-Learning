{
 "cells": [
  {
   "cell_type": "markdown",
   "id": "004c1c98",
   "metadata": {},
   "source": [
    "### Q1: Find the division/district/year/month wise total_sale_price joining fact table and respective dimension table "
   ]
  },
  {
   "cell_type": "markdown",
   "id": "a6968512",
   "metadata": {},
   "source": [
    "### Import Libraries"
   ]
  },
  {
   "cell_type": "code",
   "execution_count": null,
   "id": "d75ccbdf",
   "metadata": {},
   "outputs": [],
   "source": [
    "import psycopg2\n",
    "import pandas as pd\n",
    "import numpy as np\n",
    "import psycopg2.extras\n",
    "import matplotlib.pyplot as plt"
   ]
  },
  {
   "cell_type": "markdown",
   "id": "812c1bcd",
   "metadata": {},
   "source": [
    "### Database Connection"
   ]
  },
  {
   "cell_type": "code",
   "execution_count": 41,
   "id": "af9c7479",
   "metadata": {},
   "outputs": [
    {
     "name": "stdout",
     "output_type": "stream",
     "text": [
      "Successfully connected to the database\n"
     ]
    }
   ],
   "source": [
    "class PostgresConnection(object):\n",
    "    def __init__(self):\n",
    "        self.connection = psycopg2.connect(database = \"ecomdb\",\n",
    "                                                  user = \"postgres\",\n",
    "                                                  password = \"sultanmahmud22\",\n",
    "                                                  host = \"127.0.0.1\",\n",
    "                                                  port= \"5432\")\n",
    "    def getConnection(self):\n",
    "        print(\"Successfully connected to the database\")\n",
    "        return self.connection\n",
    "\n",
    "con = PostgresConnection().getConnection()"
   ]
  },
  {
   "cell_type": "markdown",
   "id": "04daccef",
   "metadata": {},
   "source": [
    "### Data Extraction by using SQL Queries"
   ]
  },
  {
   "cell_type": "markdown",
   "id": "63eb2b0b",
   "metadata": {},
   "source": [
    "### Basic Queries"
   ]
  },
  {
   "cell_type": "markdown",
   "id": "2262b8f3",
   "metadata": {},
   "source": [
    "#### 1. SELECT s.division,s.district, tim.year, tim.month, SUM(t.total_price)\n",
    "#### FROM star_schema.fact_table t \n",
    "#### JOIN star_schema.store_dim s on s.store_key = t.store_key\n",
    "#### JOIN star_schema.time_dim tim on tim.time_key = t.time_key \n",
    "#### GROUP BY s.division, s.district, tim.year, tim.month\n",
    "#### ORDER BY tim.year"
   ]
  },
  {
   "cell_type": "code",
   "execution_count": 16,
   "id": "7fa8fe45",
   "metadata": {},
   "outputs": [
    {
     "data": {
      "text/plain": [
       "[('DHAKA', 2014, Decimal('3241972.75')),\n",
       " (None, 2014, Decimal('3241972.75')),\n",
       " (None, 2015, Decimal('3399121.50')),\n",
       " ('DHAKA', 2015, Decimal('3399121.50')),\n",
       " (None, 2016, Decimal('3346624.75')),\n",
       " ('DHAKA', 2016, Decimal('3346624.75')),\n",
       " ('DHAKA', 2017, Decimal('3330990.75')),\n",
       " (None, 2017, Decimal('3330990.75')),\n",
       " (None, 2018, Decimal('3409901.00')),\n",
       " ('DHAKA', 2018, Decimal('3409901.00')),\n",
       " ('DHAKA', 2019, Decimal('3317606.00')),\n",
       " (None, 2019, Decimal('3317606.00')),\n",
       " (None, 2020, Decimal('3357468.25')),\n",
       " ('DHAKA', 2020, Decimal('3357468.25')),\n",
       " ('DHAKA', 2021, Decimal('193936.00')),\n",
       " (None, 2021, Decimal('193936.00')),\n",
       " ('DHAKA', None, Decimal('23597621.00')),\n",
       " (None, None, Decimal('23597621.00'))]"
      ]
     },
     "execution_count": 16,
     "metadata": {},
     "output_type": "execute_result"
    }
   ],
   "source": [
    "con = PostgresConnection().getConnection()\n",
    "\n",
    "cur = con.cursor()\n",
    "select_stmt = \"SELECT s.division, tim.year, SUM(t.total_price) \" \\\n",
    "\"FROM star_schema.fact_table t  \" \\\n",
    "\"JOIN star_schema.store_dim s on s.store_key = t.store_key \" \\\n",
    "\"JOIN star_schema.time_dim tim on tim.time_key = t.time_key \" \\\n",
    "\"WHERE s.district = 'DHAKA'\" \\\n",
    "\"GROUP BY CUBE(s.division, tim.year) \"\\\n",
    "\"ORDER BY tim.year \"\n",
    "cur.execute(select_stmt)\n",
    "records = cur.fetchall()\n",
    "records"
   ]
  },
  {
   "cell_type": "code",
   "execution_count": 17,
   "id": "33f78f86",
   "metadata": {},
   "outputs": [
    {
     "data": {
      "text/html": [
       "<div>\n",
       "<style scoped>\n",
       "    .dataframe tbody tr th:only-of-type {\n",
       "        vertical-align: middle;\n",
       "    }\n",
       "\n",
       "    .dataframe tbody tr th {\n",
       "        vertical-align: top;\n",
       "    }\n",
       "\n",
       "    .dataframe thead th {\n",
       "        text-align: right;\n",
       "    }\n",
       "</style>\n",
       "<table border=\"1\" class=\"dataframe\">\n",
       "  <thead>\n",
       "    <tr style=\"text-align: right;\">\n",
       "      <th></th>\n",
       "      <th>Division</th>\n",
       "      <th>Year</th>\n",
       "      <th>Sales</th>\n",
       "    </tr>\n",
       "  </thead>\n",
       "  <tbody>\n",
       "    <tr>\n",
       "      <th>0</th>\n",
       "      <td>DHAKA</td>\n",
       "      <td>2014.0</td>\n",
       "      <td>3241972.75</td>\n",
       "    </tr>\n",
       "    <tr>\n",
       "      <th>3</th>\n",
       "      <td>DHAKA</td>\n",
       "      <td>2015.0</td>\n",
       "      <td>3399121.50</td>\n",
       "    </tr>\n",
       "    <tr>\n",
       "      <th>5</th>\n",
       "      <td>DHAKA</td>\n",
       "      <td>2016.0</td>\n",
       "      <td>3346624.75</td>\n",
       "    </tr>\n",
       "    <tr>\n",
       "      <th>6</th>\n",
       "      <td>DHAKA</td>\n",
       "      <td>2017.0</td>\n",
       "      <td>3330990.75</td>\n",
       "    </tr>\n",
       "    <tr>\n",
       "      <th>9</th>\n",
       "      <td>DHAKA</td>\n",
       "      <td>2018.0</td>\n",
       "      <td>3409901.00</td>\n",
       "    </tr>\n",
       "    <tr>\n",
       "      <th>10</th>\n",
       "      <td>DHAKA</td>\n",
       "      <td>2019.0</td>\n",
       "      <td>3317606.00</td>\n",
       "    </tr>\n",
       "    <tr>\n",
       "      <th>13</th>\n",
       "      <td>DHAKA</td>\n",
       "      <td>2020.0</td>\n",
       "      <td>3357468.25</td>\n",
       "    </tr>\n",
       "    <tr>\n",
       "      <th>14</th>\n",
       "      <td>DHAKA</td>\n",
       "      <td>2021.0</td>\n",
       "      <td>193936.00</td>\n",
       "    </tr>\n",
       "  </tbody>\n",
       "</table>\n",
       "</div>"
      ],
      "text/plain": [
       "   Division    Year       Sales\n",
       "0     DHAKA  2014.0  3241972.75\n",
       "3     DHAKA  2015.0  3399121.50\n",
       "5     DHAKA  2016.0  3346624.75\n",
       "6     DHAKA  2017.0  3330990.75\n",
       "9     DHAKA  2018.0  3409901.00\n",
       "10    DHAKA  2019.0  3317606.00\n",
       "13    DHAKA  2020.0  3357468.25\n",
       "14    DHAKA  2021.0   193936.00"
      ]
     },
     "execution_count": 17,
     "metadata": {},
     "output_type": "execute_result"
    }
   ],
   "source": [
    "df = pd.DataFrame(list(records), columns = ['Division','Year', 'Sales'])\n",
    "df = df.dropna()\n",
    "df"
   ]
  },
  {
   "cell_type": "code",
   "execution_count": 5,
   "id": "cbadc1a2",
   "metadata": {},
   "outputs": [
    {
     "data": {
      "image/png": "[encoded data removed]",
      "text/plain": [
       "<Figure size 432x288 with 1 Axes>"
      ]
     },
     "metadata": {
      "needs_background": "light"
     },
     "output_type": "display_data"
    }
   ],
   "source": [
    "X = df.iloc[:, -2].values\n",
    "Y = df.iloc[:, 2].values\n",
    "fig = plt.figure()\n",
    "ax = fig.add_axes([0,0,1,1])\n",
    "ax.bar(X,Y)\n",
    "plt.show()"
   ]
  },
  {
   "cell_type": "code",
   "execution_count": 32,
   "id": "07cc3658",
   "metadata": {},
   "outputs": [
    {
     "data": {
      "text/plain": [
       "Division     object\n",
       "Year          int64\n",
       "Sales       float64\n",
       "dtype: object"
      ]
     },
     "execution_count": 32,
     "metadata": {},
     "output_type": "execute_result"
    }
   ],
   "source": [
    "df['Year'] = df['Year'].astype('int64')\n",
    "df['Sales'] = df['Sales'].astype('float64')\n",
    "df.dtypes"
   ]
  },
  {
   "cell_type": "code",
   "execution_count": 8,
   "id": "28a3dceb",
   "metadata": {},
   "outputs": [
    {
     "data": {
      "image/png": "[encoded data removed]",
      "text/plain": [
       "<Figure size 720x504 with 1 Axes>"
      ]
     },
     "metadata": {},
     "output_type": "display_data"
    }
   ],
   "source": [
    "x=df.Year\n",
    "y = df.Sales\n",
    "# Creating explode data\n",
    "explode = (0.1, 0.07, 0.2, 0.2, 0.04, 0.08, 0.07, 0.07)\n",
    "\n",
    "# Creating color parameters\n",
    "colors = ( \"orange\", \"cyan\", \"brown\",\"grey\", \"indigo\", \"beige\", \"blue\", \"yellow\")\n",
    "\n",
    "# Wedge properties\n",
    "wp = { 'linewidth' : 1, 'edgecolor' : \"green\" }\n",
    "\n",
    "def func(pct, allvalues):\n",
    "    absolute = int(pct / 100.*np.sum(allvalues))\n",
    "    return \"{:.1f}%\".format(pct, absolute)\n",
    "\n",
    "# Creating plot\n",
    "fig, ax = plt.subplots(figsize =(10, 7))\n",
    "wedges, texts, autotexts = ax.pie(y,\n",
    "                                  autopct = lambda pct: func(pct, y),\n",
    "                                  explode = explode,\n",
    "                                  labels = x,\n",
    "                                  shadow = True,\n",
    "                                  colors = colors,\n",
    "                                  startangle = 90,\n",
    "                                  wedgeprops = wp,\n",
    "                                  textprops = dict(color =\"magenta\"))\n",
    " \n",
    "# Adding legend\n",
    "ax.legend(wedges, x,\n",
    "          title =\"Years\",\n",
    "          loc =\"center left\",\n",
    "          bbox_to_anchor =(1.05, 0, 0.8, 1))\n",
    " \n",
    "plt.setp(autotexts, size = 8, weight =\"bold\")\n",
    "ax.set_title(\"Customizing pie chart\")\n",
    "\n",
    "# show plot\n",
    "plt.show()"
   ]
  },
  {
   "cell_type": "code",
   "execution_count": 9,
   "id": "b9495313",
   "metadata": {},
   "outputs": [
    {
     "data": {
      "text/plain": [
       "<matplotlib.collections.PathCollection at 0x71f73efa00>"
      ]
     },
     "execution_count": 9,
     "metadata": {},
     "output_type": "execute_result"
    },
    {
     "data": {
      "image/png": "[encoded data removed]",
      "text/plain": [
       "<Figure size 432x288 with 1 Axes>"
      ]
     },
     "metadata": {
      "needs_background": "light"
     },
     "output_type": "display_data"
    }
   ],
   "source": [
    "plt.scatter(x, y)"
   ]
  },
  {
   "cell_type": "code",
   "execution_count": 10,
   "id": "9a4b80a3",
   "metadata": {},
   "outputs": [
    {
     "data": {
      "image/png": "[encoded data removed]",
      "text/plain": [
       "<Figure size 432x288 with 1 Axes>"
      ]
     },
     "metadata": {
      "needs_background": "light"
     },
     "output_type": "display_data"
    }
   ],
   "source": [
    "plt.plot(x, y) # Plot the chart\n",
    "plt.show() # display\n"
   ]
  },
  {
   "cell_type": "code",
   "execution_count": 33,
   "id": "174b44bd",
   "metadata": {},
   "outputs": [
    {
     "data": {
      "text/plain": [
       "array([[2014],\n",
       "       [2015],\n",
       "       [2016],\n",
       "       [2017],\n",
       "       [2018],\n",
       "       [2019],\n",
       "       [2020],\n",
       "       [2021]], dtype=int64)"
      ]
     },
     "execution_count": 33,
     "metadata": {},
     "output_type": "execute_result"
    }
   ],
   "source": [
    "x = df.iloc[:, 1].values\n",
    "y=df.iloc[:, -1].values\n",
    "y\n",
    "#x.reshape(1, -1)\n",
    "np.array(x)[:, None]\n",
    "\n"
   ]
  },
  {
   "cell_type": "code",
   "execution_count": 35,
   "id": "2cb6b34d",
   "metadata": {},
   "outputs": [
    {
     "data": {
      "text/plain": [
       "array([3241972.75, 3399121.5 , 3346624.75, 3330990.75, 3409901.  ,\n",
       "       3317606.  , 3357468.25,  193936.  ])"
      ]
     },
     "execution_count": 35,
     "metadata": {},
     "output_type": "execute_result"
    }
   ],
   "source": [
    "y"
   ]
  },
  {
   "cell_type": "code",
   "execution_count": 37,
   "id": "68d4d15a",
   "metadata": {},
   "outputs": [],
   "source": [
    "# from sklearn.model_selection import train_test_split\n",
    "# from sklearn.linear_model import LinearRegression\n",
    "# X_train, X_test, Y_train, Y_test = train_test_split(x, y, test_size=0.3, random_state = 0)\n",
    "\n",
    "\n",
    "# regressor = LinearRegression()\n",
    "# regressor.fit(X_train, Y_train)\n",
    "\n",
    "# y_pred = regressor.predict(X_test)\n",
    "# y_pred"
   ]
  },
  {
   "cell_type": "code",
   "execution_count": 52,
   "id": "de1b78b1",
   "metadata": {},
   "outputs": [
    {
     "data": {
      "image/png": "[encoded data removed]",
      "text/plain": [
       "<Figure size 432x288 with 1 Axes>"
      ]
     },
     "metadata": {
      "needs_background": "light"
     },
     "output_type": "display_data"
    }
   ],
   "source": [
    "con = PostgresConnection().getConnection()\n",
    "\n",
    "cur = con.cursor()\n",
    "select_stmt = \"SELECT s.division, SUM(t.total_price) \" \\\n",
    "\"FROM star_schema.fact_table t  \" \\\n",
    "\"JOIN star_schema.store_dim s on s.store_key = t.store_key \" \\\n",
    "\"JOIN star_schema.time_dim tim on tim.time_key = t.time_key \" \\\n",
    "\"GROUP BY CUBE(s.division) \"\n",
    "cur.execute(select_stmt)\n",
    "records = cur.fetchall()\n",
    "\n",
    "df = pd.DataFrame(list(records), columns = ['Division', 'Sales'])\n",
    "df = df.dropna()\n",
    "X = df.iloc[:, -2].values\n",
    "Y = df.iloc[:, 1].values\n",
    "fig = plt.figure()\n",
    "ax = fig.add_axes([0,0,1,1])\n",
    "ax.bar(X,Y)\n",
    "plt.show()"
   ]
  },
  {
   "cell_type": "code",
   "execution_count": 49,
   "id": "9a3ca7a6",
   "metadata": {},
   "outputs": [
    {
     "data": {
      "text/plain": [
       "array([2021., 2020., 2015., 2014., 2017., 2019., 2016., 2018.])"
      ]
     },
     "execution_count": 49,
     "metadata": {},
     "output_type": "execute_result"
    }
   ],
   "source": [
    "X"
   ]
  },
  {
   "cell_type": "code",
   "execution_count": 50,
   "id": "67cb69f2",
   "metadata": {},
   "outputs": [
    {
     "data": {
      "text/plain": [
       "array([Decimal('883772.25'), Decimal('15037190.25'),\n",
       "       Decimal('15095720.25'), Decimal('14334731.25'),\n",
       "       Decimal('15015806.00'), Decimal('14949510.25'),\n",
       "       Decimal('14976508.25'), Decimal('15108197.25')], dtype=object)"
      ]
     },
     "execution_count": 50,
     "metadata": {},
     "output_type": "execute_result"
    }
   ],
   "source": [
    "Y"
   ]
  },
  {
   "cell_type": "code",
   "execution_count": null,
   "id": "971716c5",
   "metadata": {},
   "outputs": [],
   "source": [
    "# from sklearn.model_selection import train_test_split\n",
    "# from sklearn.linear_model import LinearRegression\n",
    "# X_train, X_test, Y_train, Y_test = train_test_split(X, Y, test_size=0.3, random_state = 0)\n",
    "\n",
    "\n",
    "# regressor = LinearRegression()\n",
    "# regressor.fit(X_train, Y_train)\n",
    "\n",
    "# y_pred = regressor.predict(X_test)\n",
    "# y_pred"
   ]
  },
  {
   "cell_type": "code",
   "execution_count": null,
   "id": "a040062e",
   "metadata": {},
   "outputs": [],
   "source": [
    "con = PostgresConnection().getConnection()\n",
    "\n",
    "cur = con.cursor()\n",
    "select_stmt = \"SELECT tim.month,t.total_price, SUM(t.total_price) \" \\\n",
    "\"FROM star_schema.fact_table t  \" \\\n",
    "\"JOIN star_schema.store_dim s on s.store_key = t.store_key \" \\\n",
    "\"JOIN star_schema.time_dim tim on tim.time_key = t.time_key \" \\\n",
    "\"GROUP BY tim.month, t.total_price \"\\\n",
    "\"ORDER BY tim.month \"\n",
    "cur.execute(select_stmt)\n",
    "records = cur.fetchall()\n",
    "records\n",
    "\n",
    "# df = pd.DataFrame(list(records), columns = ['Division','TotalPrice', 'Sales'])\n",
    "# df = df.dropna()\n",
    "# X = df.iloc[:, -2].values\n",
    "# Y = df.iloc[:, 1].values\n",
    "# fig = plt.figure()\n",
    "# ax = fig.add_axes([0,0,1,1])\n",
    "# ax.bar(X,Y)\n",
    "# plt.show()"
   ]
  },
  {
   "cell_type": "code",
   "execution_count": null,
   "id": "61691fb4",
   "metadata": {},
   "outputs": [],
   "source": []
  }
 ],
 "metadata": {
  "kernelspec": {
   "display_name": "Python 3 (ipykernel)",
   "language": "python",
   "name": "python3"
  },
  "language_info": {
   "codemirror_mode": {
    "name": "ipython",
    "version": 3
   },
   "file_extension": ".py",
   "mimetype": "text/x-python",
   "name": "python",
   "nbconvert_exporter": "python",
   "pygments_lexer": "ipython3",
   "version": "3.10.1"
  }
 },
 "nbformat": 4,
 "nbformat_minor": 5
}
