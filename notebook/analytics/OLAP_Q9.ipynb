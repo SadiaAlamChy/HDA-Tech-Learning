{
 "cells": [
  {
   "cell_type": "code",
   "execution_count": 1,
   "id": "ed6ac2c8",
   "metadata": {},
   "outputs": [],
   "source": [
    "import psycopg2\n",
    "import pandas as pd\n",
    "import psycopg2.extras\n",
    "import matplotlib.pyplot as plt"
   ]
  },
  {
   "cell_type": "code",
   "execution_count": 3,
   "id": "9bec3a21",
   "metadata": {},
   "outputs": [],
   "source": [
    "class PostgresConnection(object):\n",
    "    def __init__(self):\n",
    "        self.connection = psycopg2.connect(database=\"ecomdb\",\n",
    "                                           user = \"postgres\",\n",
    "                                           password = \"123456\",\n",
    "                                           host = \"127.0.0.1\",\n",
    "                                           port = \"5432\")\n",
    "\n",
    "    def getConnection(self):\n",
    "        print(\"successfully connected to database\")\n",
    "        return self.connection\n",
    "    \n",
    "    \n",
    "# con = PostgresConnection().getConnection()    "
   ]
  },
  {
   "cell_type": "markdown",
   "id": "77b5dbd9",
   "metadata": {},
   "source": [
    "### Common Function to fetch Data from all tables "
   ]
  },
  {
   "cell_type": "code",
   "execution_count": 7,
   "id": "05854ec4",
   "metadata": {},
   "outputs": [],
   "source": [
    "#  select_stmt= is the SQL select query along with  table and column name    \n",
    "def retrive_data_from_table(select_stmt): \n",
    "    con = PostgresConnection().getConnection()\n",
    "    cur = con.cursor()\n",
    "#     select_stmt = \"SELECT t.payment_key , t.trans_type, t.bank_name \" \\\n",
    "#                   \"FROM ecomdb_star_schema.trans_dim t\"\n",
    "    cur.execute(select_stmt)\n",
    "    records = cur.fetchall()\n",
    "    return records"
   ]
  },
  {
   "cell_type": "code",
   "execution_count": null,
   "id": "e190675b",
   "metadata": {},
   "outputs": [],
   "source": []
  },
  {
   "cell_type": "markdown",
   "id": "0026369b",
   "metadata": {},
   "source": [
    "### Q9: Break down the total sales of items geographically (division-wise).\n",
    "#### item1-> division1->total_sales\n",
    "#### item1-> division2->total_sales"
   ]
  }
 ],
 "metadata": {
  "kernelspec": {
   "display_name": "Python 3",
   "language": "python",
   "name": "python3"
  },
  "language_info": {
   "codemirror_mode": {
    "name": "ipython",
    "version": 3
   },
   "file_extension": ".py",
   "mimetype": "text/x-python",
   "name": "python",
   "nbconvert_exporter": "python",
   "pygments_lexer": "ipython3",
   "version": "3.8.8"
  }
 },
 "nbformat": 4,
 "nbformat_minor": 5
}
