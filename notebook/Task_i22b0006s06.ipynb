{
 "cells": [
  {
   "cell_type": "markdown",
   "id": "e9a468a7",
   "metadata": {},
   "source": [
    "### Package installation"
   ]
  },
  {
   "cell_type": "code",
   "execution_count": 2,
   "id": "c1e39e8b",
   "metadata": {},
   "outputs": [
    {
     "name": "stdout",
     "output_type": "stream",
     "text": [
      "Collecting psycopg2"
     ]
    },
    {
     "name": "stderr",
     "output_type": "stream",
     "text": [
      "WARNING: You are using pip version 20.1.1; however, version 22.0.3 is available.\n",
      "You should consider upgrading via the 'c:\\python\\python.exe -m pip install --upgrade pip' command.\n"
     ]
    },
    {
     "name": "stdout",
     "output_type": "stream",
     "text": [
      "\n",
      "  Downloading psycopg2-2.9.3-cp37-cp37m-win_amd64.whl (1.1 MB)\n",
      "Installing collected packages: psycopg2\n",
      "Successfully installed psycopg2-2.9.3\n"
     ]
    }
   ],
   "source": [
    "!pip install psycopg2"
   ]
  },
  {
   "cell_type": "code",
   "execution_count": 3,
   "id": "4e53af6a",
   "metadata": {},
   "outputs": [],
   "source": [
    "# pip install pandas"
   ]
  },
  {
   "cell_type": "code",
   "execution_count": 4,
   "id": "898c2ccd",
   "metadata": {},
   "outputs": [],
   "source": [
    "#pip install openpyxl"
   ]
  },
  {
   "cell_type": "markdown",
   "id": "5aabcafc",
   "metadata": {},
   "source": [
    "### Package call"
   ]
  },
  {
   "cell_type": "code",
   "execution_count": 5,
   "id": "6ece9436",
   "metadata": {},
   "outputs": [],
   "source": [
    "import psycopg2\n",
    "import pandas as pd\n",
    "import psycopg2.extras"
   ]
  },
  {
   "cell_type": "markdown",
   "id": "75e1b5c4",
   "metadata": {},
   "source": [
    "### Extract"
   ]
  },
  {
   "cell_type": "markdown",
   "id": "a5937007",
   "metadata": {},
   "source": [
    "***Read from excel file***"
   ]
  },
  {
   "cell_type": "code",
   "execution_count": 11,
   "id": "474454b1",
   "metadata": {},
   "outputs": [],
   "source": [
    "DATA_DIR = \"D://4th Year//Python Projects//Virtual Internship//ecommerce_csv//\""
   ]
  },
  {
   "cell_type": "markdown",
   "id": "40b31a46",
   "metadata": {},
   "source": [
    "#### Trans_dim "
   ]
  },
  {
   "cell_type": "code",
   "execution_count": 14,
   "id": "b772afcf",
   "metadata": {},
   "outputs": [
    {
     "data": {
      "text/html": [
       "<div>\n",
       "<style scoped>\n",
       "    .dataframe tbody tr th:only-of-type {\n",
       "        vertical-align: middle;\n",
       "    }\n",
       "\n",
       "    .dataframe tbody tr th {\n",
       "        vertical-align: top;\n",
       "    }\n",
       "\n",
       "    .dataframe thead th {\n",
       "        text-align: right;\n",
       "    }\n",
       "</style>\n",
       "<table border=\"1\" class=\"dataframe\">\n",
       "  <thead>\n",
       "    <tr style=\"text-align: right;\">\n",
       "      <th></th>\n",
       "      <th>payment_key</th>\n",
       "      <th>trans_type</th>\n",
       "      <th>bank_name</th>\n",
       "    </tr>\n",
       "  </thead>\n",
       "  <tbody>\n",
       "    <tr>\n",
       "      <th>0</th>\n",
       "      <td>P001</td>\n",
       "      <td>cash</td>\n",
       "      <td>None</td>\n",
       "    </tr>\n",
       "    <tr>\n",
       "      <th>1</th>\n",
       "      <td>P002</td>\n",
       "      <td>card</td>\n",
       "      <td>AB Bank Limited</td>\n",
       "    </tr>\n",
       "    <tr>\n",
       "      <th>2</th>\n",
       "      <td>P003</td>\n",
       "      <td>card</td>\n",
       "      <td>Bangladesh Commerce Bank Limited</td>\n",
       "    </tr>\n",
       "    <tr>\n",
       "      <th>3</th>\n",
       "      <td>P004</td>\n",
       "      <td>card</td>\n",
       "      <td>Bank Asia Limited</td>\n",
       "    </tr>\n",
       "    <tr>\n",
       "      <th>4</th>\n",
       "      <td>P005</td>\n",
       "      <td>card</td>\n",
       "      <td>BRAC Bank Limited</td>\n",
       "    </tr>\n",
       "  </tbody>\n",
       "</table>\n",
       "</div>"
      ],
      "text/plain": [
       "  payment_key trans_type                         bank_name\n",
       "0        P001       cash                              None\n",
       "1        P002       card                   AB Bank Limited\n",
       "2        P003       card  Bangladesh Commerce Bank Limited\n",
       "3        P004       card                 Bank Asia Limited\n",
       "4        P005       card                 BRAC Bank Limited"
      ]
     },
     "execution_count": 14,
     "metadata": {},
     "output_type": "execute_result"
    }
   ],
   "source": [
    "trans_dim = pd.read_csv(open(DATA_DIR + 'Trans_dim.csv','rb')) #sheet_name=1, engine='openpyxl'\n",
    "trans_dim.head(5)"
   ]
  },
  {
   "cell_type": "markdown",
   "id": "5a581e54",
   "metadata": {},
   "source": [
    "#### Store_dim"
   ]
  },
  {
   "cell_type": "code",
   "execution_count": 41,
   "id": "9ef58d69",
   "metadata": {},
   "outputs": [
    {
     "data": {
      "text/html": [
       "<div>\n",
       "<style scoped>\n",
       "    .dataframe tbody tr th:only-of-type {\n",
       "        vertical-align: middle;\n",
       "    }\n",
       "\n",
       "    .dataframe tbody tr th {\n",
       "        vertical-align: top;\n",
       "    }\n",
       "\n",
       "    .dataframe thead th {\n",
       "        text-align: right;\n",
       "    }\n",
       "</style>\n",
       "<table border=\"1\" class=\"dataframe\">\n",
       "  <thead>\n",
       "    <tr style=\"text-align: right;\">\n",
       "      <th></th>\n",
       "      <th>store_key</th>\n",
       "      <th>division</th>\n",
       "      <th>district</th>\n",
       "      <th>upazila</th>\n",
       "    </tr>\n",
       "  </thead>\n",
       "  <tbody>\n",
       "    <tr>\n",
       "      <th>0</th>\n",
       "      <td>S0001</td>\n",
       "      <td>SYLHET</td>\n",
       "      <td>HABIGANJ</td>\n",
       "      <td>AJMIRIGANJ</td>\n",
       "    </tr>\n",
       "    <tr>\n",
       "      <th>1</th>\n",
       "      <td>S0002</td>\n",
       "      <td>SYLHET</td>\n",
       "      <td>HABIGANJ</td>\n",
       "      <td>BAHUBAL</td>\n",
       "    </tr>\n",
       "    <tr>\n",
       "      <th>2</th>\n",
       "      <td>S0003</td>\n",
       "      <td>SYLHET</td>\n",
       "      <td>HABIGANJ</td>\n",
       "      <td>BANIACHONG</td>\n",
       "    </tr>\n",
       "    <tr>\n",
       "      <th>3</th>\n",
       "      <td>S0004</td>\n",
       "      <td>SYLHET</td>\n",
       "      <td>HABIGANJ</td>\n",
       "      <td>CHUNARUGHAT</td>\n",
       "    </tr>\n",
       "    <tr>\n",
       "      <th>4</th>\n",
       "      <td>S0005</td>\n",
       "      <td>SYLHET</td>\n",
       "      <td>HABIGANJ</td>\n",
       "      <td>HABIGANJ SADAR</td>\n",
       "    </tr>\n",
       "  </tbody>\n",
       "</table>\n",
       "</div>"
      ],
      "text/plain": [
       "  store_key division  district         upazila\n",
       "0     S0001   SYLHET  HABIGANJ      AJMIRIGANJ\n",
       "1     S0002   SYLHET  HABIGANJ         BAHUBAL\n",
       "2     S0003   SYLHET  HABIGANJ      BANIACHONG\n",
       "3     S0004   SYLHET  HABIGANJ     CHUNARUGHAT\n",
       "4     S0005   SYLHET  HABIGANJ  HABIGANJ SADAR"
      ]
     },
     "execution_count": 41,
     "metadata": {},
     "output_type": "execute_result"
    }
   ],
   "source": [
    "store_dim = pd.read_csv(open(DATA_DIR + 'Store_dim.csv','rb')) #sheet_name=1, engine='openpyxl'\n",
    "store_dim.head(5)"
   ]
  },
  {
   "cell_type": "markdown",
   "id": "11245c0a",
   "metadata": {},
   "source": [
    "#### Coustomer_dim "
   ]
  },
  {
   "cell_type": "code",
   "execution_count": 245,
   "id": "dd4a9670",
   "metadata": {},
   "outputs": [
    {
     "data": {
      "text/html": [
       "<div>\n",
       "<style scoped>\n",
       "    .dataframe tbody tr th:only-of-type {\n",
       "        vertical-align: middle;\n",
       "    }\n",
       "\n",
       "    .dataframe tbody tr th {\n",
       "        vertical-align: top;\n",
       "    }\n",
       "\n",
       "    .dataframe thead th {\n",
       "        text-align: right;\n",
       "    }\n",
       "</style>\n",
       "<table border=\"1\" class=\"dataframe\">\n",
       "  <thead>\n",
       "    <tr style=\"text-align: right;\">\n",
       "      <th></th>\n",
       "      <th>coustomer_key</th>\n",
       "      <th>name</th>\n",
       "      <th>contact_no</th>\n",
       "      <th>nid</th>\n",
       "    </tr>\n",
       "  </thead>\n",
       "  <tbody>\n",
       "    <tr>\n",
       "      <th>0</th>\n",
       "      <td>C000001</td>\n",
       "      <td>sumit</td>\n",
       "      <td>8.801920e+12</td>\n",
       "      <td>7.505080e+12</td>\n",
       "    </tr>\n",
       "    <tr>\n",
       "      <th>1</th>\n",
       "      <td>C000002</td>\n",
       "      <td>tammanne</td>\n",
       "      <td>8.801817e+12</td>\n",
       "      <td>1.977730e+12</td>\n",
       "    </tr>\n",
       "    <tr>\n",
       "      <th>2</th>\n",
       "      <td>C000003</td>\n",
       "      <td>kailash kumar</td>\n",
       "      <td>8.801660e+12</td>\n",
       "      <td>3.769490e+12</td>\n",
       "    </tr>\n",
       "    <tr>\n",
       "      <th>3</th>\n",
       "      <td>C000004</td>\n",
       "      <td>bhagwati prasad</td>\n",
       "      <td>8.801534e+12</td>\n",
       "      <td>9.378830e+12</td>\n",
       "    </tr>\n",
       "    <tr>\n",
       "      <th>4</th>\n",
       "      <td>C000005</td>\n",
       "      <td>ajay</td>\n",
       "      <td>8.801944e+12</td>\n",
       "      <td>3.540820e+12</td>\n",
       "    </tr>\n",
       "  </tbody>\n",
       "</table>\n",
       "</div>"
      ],
      "text/plain": [
       "  coustomer_key             name    contact_no           nid\n",
       "0       C000001            sumit  8.801920e+12  7.505080e+12\n",
       "1       C000002         tammanne  8.801817e+12  1.977730e+12\n",
       "2       C000003    kailash kumar  8.801660e+12  3.769490e+12\n",
       "3       C000004  bhagwati prasad  8.801534e+12  9.378830e+12\n",
       "4       C000005             ajay  8.801944e+12  3.540820e+12"
      ]
     },
     "execution_count": 245,
     "metadata": {},
     "output_type": "execute_result"
    }
   ],
   "source": [
    "customer_dim = pd.read_csv(open(DATA_DIR + 'Coustomer_dim.csv','rb')) #sheet_name=1, engine='openpyxl'\n",
    "customer_dim.head(5)"
   ]
  },
  {
   "cell_type": "markdown",
   "id": "325d6867",
   "metadata": {},
   "source": [
    "#### Item_dim "
   ]
  },
  {
   "cell_type": "code",
   "execution_count": 263,
   "id": "4f3ee5d9",
   "metadata": {},
   "outputs": [
    {
     "data": {
      "text/html": [
       "<div>\n",
       "<style scoped>\n",
       "    .dataframe tbody tr th:only-of-type {\n",
       "        vertical-align: middle;\n",
       "    }\n",
       "\n",
       "    .dataframe tbody tr th {\n",
       "        vertical-align: top;\n",
       "    }\n",
       "\n",
       "    .dataframe thead th {\n",
       "        text-align: right;\n",
       "    }\n",
       "</style>\n",
       "<table border=\"1\" class=\"dataframe\">\n",
       "  <thead>\n",
       "    <tr style=\"text-align: right;\">\n",
       "      <th></th>\n",
       "      <th>item_key</th>\n",
       "      <th>item_name</th>\n",
       "      <th>desc</th>\n",
       "      <th>unit_price</th>\n",
       "      <th>man_country</th>\n",
       "      <th>supplier</th>\n",
       "      <th>unit</th>\n",
       "    </tr>\n",
       "  </thead>\n",
       "  <tbody>\n",
       "    <tr>\n",
       "      <th>0</th>\n",
       "      <td>I00001</td>\n",
       "      <td>A&amp;W Root Beer - 12 oz cans</td>\n",
       "      <td>a. Beverage - Soda</td>\n",
       "      <td>11.50</td>\n",
       "      <td>Netherlands</td>\n",
       "      <td>Bolsius Boxmeer</td>\n",
       "      <td>cans</td>\n",
       "    </tr>\n",
       "    <tr>\n",
       "      <th>1</th>\n",
       "      <td>I00002</td>\n",
       "      <td>A&amp;W Root Beer Diet - 12 oz cans</td>\n",
       "      <td>a. Beverage - Soda</td>\n",
       "      <td>6.75</td>\n",
       "      <td>poland</td>\n",
       "      <td>CHROMADURLIN S.A.S</td>\n",
       "      <td>cans</td>\n",
       "    </tr>\n",
       "    <tr>\n",
       "      <th>2</th>\n",
       "      <td>I00003</td>\n",
       "      <td>Barq's Root Beer - 12 oz cans</td>\n",
       "      <td>a. Beverage - Soda</td>\n",
       "      <td>6.75</td>\n",
       "      <td>Bangladesh</td>\n",
       "      <td>DENIMACH LTD</td>\n",
       "      <td>cans</td>\n",
       "    </tr>\n",
       "    <tr>\n",
       "      <th>3</th>\n",
       "      <td>I00004</td>\n",
       "      <td>Cherry Coke 12oz</td>\n",
       "      <td>a. Beverage - Soda</td>\n",
       "      <td>6.75</td>\n",
       "      <td>Netherlands</td>\n",
       "      <td>Bolsius Boxmeer</td>\n",
       "      <td>cans</td>\n",
       "    </tr>\n",
       "    <tr>\n",
       "      <th>4</th>\n",
       "      <td>I00005</td>\n",
       "      <td>Cherry Coke Zero 12 pack</td>\n",
       "      <td>a. Beverage - Soda</td>\n",
       "      <td>6.75</td>\n",
       "      <td>Finland</td>\n",
       "      <td>HARDFORD AB</td>\n",
       "      <td>cans</td>\n",
       "    </tr>\n",
       "  </tbody>\n",
       "</table>\n",
       "</div>"
      ],
      "text/plain": [
       "  item_key                        item_name                desc  unit_price  \\\n",
       "0   I00001       A&W Root Beer - 12 oz cans  a. Beverage - Soda       11.50   \n",
       "1   I00002  A&W Root Beer Diet - 12 oz cans  a. Beverage - Soda        6.75   \n",
       "2   I00003    Barq's Root Beer - 12 oz cans  a. Beverage - Soda        6.75   \n",
       "3   I00004                 Cherry Coke 12oz  a. Beverage - Soda        6.75   \n",
       "4   I00005         Cherry Coke Zero 12 pack  a. Beverage - Soda        6.75   \n",
       "\n",
       "   man_country            supplier  unit  \n",
       "0  Netherlands     Bolsius Boxmeer  cans  \n",
       "1       poland  CHROMADURLIN S.A.S  cans  \n",
       "2   Bangladesh        DENIMACH LTD  cans  \n",
       "3  Netherlands     Bolsius Boxmeer  cans  \n",
       "4      Finland         HARDFORD AB  cans  "
      ]
     },
     "execution_count": 263,
     "metadata": {},
     "output_type": "execute_result"
    }
   ],
   "source": [
    "item_dim = pd.read_csv(open(DATA_DIR + 'Item_dim.csv','rb')) #sheet_name=1, engine='openpyxl'\n",
    "item_dim.head(5)"
   ]
  },
  {
   "cell_type": "markdown",
   "id": "656c110f",
   "metadata": {},
   "source": [
    "#### Time_dim "
   ]
  },
  {
   "cell_type": "code",
   "execution_count": 168,
   "id": "4e1ce2c0",
   "metadata": {},
   "outputs": [
    {
     "data": {
      "text/html": [
       "<div>\n",
       "<style scoped>\n",
       "    .dataframe tbody tr th:only-of-type {\n",
       "        vertical-align: middle;\n",
       "    }\n",
       "\n",
       "    .dataframe tbody tr th {\n",
       "        vertical-align: top;\n",
       "    }\n",
       "\n",
       "    .dataframe thead th {\n",
       "        text-align: right;\n",
       "    }\n",
       "</style>\n",
       "<table border=\"1\" class=\"dataframe\">\n",
       "  <thead>\n",
       "    <tr style=\"text-align: right;\">\n",
       "      <th></th>\n",
       "      <th>time_key</th>\n",
       "      <th>date</th>\n",
       "      <th>hour</th>\n",
       "      <th>day</th>\n",
       "      <th>week</th>\n",
       "      <th>month</th>\n",
       "      <th>quarter</th>\n",
       "      <th>year</th>\n",
       "    </tr>\n",
       "  </thead>\n",
       "  <tbody>\n",
       "    <tr>\n",
       "      <th>0</th>\n",
       "      <td>T00001</td>\n",
       "      <td>20-05-2017 14:56</td>\n",
       "      <td>14</td>\n",
       "      <td>20</td>\n",
       "      <td>3rd Week</td>\n",
       "      <td>5</td>\n",
       "      <td>Q2</td>\n",
       "      <td>2017</td>\n",
       "    </tr>\n",
       "    <tr>\n",
       "      <th>1</th>\n",
       "      <td>T00002</td>\n",
       "      <td>30-01-2015 22:14</td>\n",
       "      <td>22</td>\n",
       "      <td>30</td>\n",
       "      <td>4th Week</td>\n",
       "      <td>1</td>\n",
       "      <td>Q1</td>\n",
       "      <td>2015</td>\n",
       "    </tr>\n",
       "    <tr>\n",
       "      <th>2</th>\n",
       "      <td>T00003</td>\n",
       "      <td>14-03-2020 02:34</td>\n",
       "      <td>2</td>\n",
       "      <td>14</td>\n",
       "      <td>2nd Week</td>\n",
       "      <td>3</td>\n",
       "      <td>Q1</td>\n",
       "      <td>2020</td>\n",
       "    </tr>\n",
       "    <tr>\n",
       "      <th>3</th>\n",
       "      <td>T00004</td>\n",
       "      <td>27-04-2018 12:19</td>\n",
       "      <td>12</td>\n",
       "      <td>27</td>\n",
       "      <td>4th Week</td>\n",
       "      <td>4</td>\n",
       "      <td>Q2</td>\n",
       "      <td>2018</td>\n",
       "    </tr>\n",
       "    <tr>\n",
       "      <th>4</th>\n",
       "      <td>T00005</td>\n",
       "      <td>14-04-2018 10:43</td>\n",
       "      <td>10</td>\n",
       "      <td>14</td>\n",
       "      <td>2nd Week</td>\n",
       "      <td>4</td>\n",
       "      <td>Q2</td>\n",
       "      <td>2018</td>\n",
       "    </tr>\n",
       "  </tbody>\n",
       "</table>\n",
       "</div>"
      ],
      "text/plain": [
       "  time_key              date  hour  day      week  month quarter  year\n",
       "0   T00001  20-05-2017 14:56    14   20  3rd Week      5      Q2  2017\n",
       "1   T00002  30-01-2015 22:14    22   30  4th Week      1      Q1  2015\n",
       "2   T00003  14-03-2020 02:34     2   14  2nd Week      3      Q1  2020\n",
       "3   T00004  27-04-2018 12:19    12   27  4th Week      4      Q2  2018\n",
       "4   T00005  14-04-2018 10:43    10   14  2nd Week      4      Q2  2018"
      ]
     },
     "execution_count": 168,
     "metadata": {},
     "output_type": "execute_result"
    }
   ],
   "source": [
    "time_dim = pd.read_csv(open(DATA_DIR + 'Time_dim.csv','rb')) #sheet_name=1, engine='openpyxl'\n",
    "time_dim.head(5)"
   ]
  },
  {
   "cell_type": "markdown",
   "id": "de2fb5fa",
   "metadata": {},
   "source": [
    "#### Fact_table"
   ]
  },
  {
   "cell_type": "code",
   "execution_count": 254,
   "id": "262f006e",
   "metadata": {},
   "outputs": [
    {
     "data": {
      "text/html": [
       "<div>\n",
       "<style scoped>\n",
       "    .dataframe tbody tr th:only-of-type {\n",
       "        vertical-align: middle;\n",
       "    }\n",
       "\n",
       "    .dataframe tbody tr th {\n",
       "        vertical-align: top;\n",
       "    }\n",
       "\n",
       "    .dataframe thead th {\n",
       "        text-align: right;\n",
       "    }\n",
       "</style>\n",
       "<table border=\"1\" class=\"dataframe\">\n",
       "  <thead>\n",
       "    <tr style=\"text-align: right;\">\n",
       "      <th></th>\n",
       "      <th>payment_key</th>\n",
       "      <th>coustomer_key</th>\n",
       "      <th>time_key</th>\n",
       "      <th>item_key</th>\n",
       "      <th>store_key</th>\n",
       "      <th>quantity</th>\n",
       "      <th>unit</th>\n",
       "      <th>unit_price</th>\n",
       "      <th>total_price</th>\n",
       "    </tr>\n",
       "  </thead>\n",
       "  <tbody>\n",
       "    <tr>\n",
       "      <th>0</th>\n",
       "      <td>P026</td>\n",
       "      <td>C004510</td>\n",
       "      <td>T049189</td>\n",
       "      <td>I00177</td>\n",
       "      <td>S00307</td>\n",
       "      <td>1</td>\n",
       "      <td>ct</td>\n",
       "      <td>35.0</td>\n",
       "      <td>35.0</td>\n",
       "    </tr>\n",
       "    <tr>\n",
       "      <th>1</th>\n",
       "      <td>P022</td>\n",
       "      <td>C008967</td>\n",
       "      <td>T041209</td>\n",
       "      <td>I00248</td>\n",
       "      <td>S00595</td>\n",
       "      <td>1</td>\n",
       "      <td>rolls</td>\n",
       "      <td>26.0</td>\n",
       "      <td>26.0</td>\n",
       "    </tr>\n",
       "    <tr>\n",
       "      <th>2</th>\n",
       "      <td>P030</td>\n",
       "      <td>C007261</td>\n",
       "      <td>T03633</td>\n",
       "      <td>I00195</td>\n",
       "      <td>S00496</td>\n",
       "      <td>8</td>\n",
       "      <td>ct</td>\n",
       "      <td>12.5</td>\n",
       "      <td>100.0</td>\n",
       "    </tr>\n",
       "    <tr>\n",
       "      <th>3</th>\n",
       "      <td>P032</td>\n",
       "      <td>C007048</td>\n",
       "      <td>T084631</td>\n",
       "      <td>I00131</td>\n",
       "      <td>S0086</td>\n",
       "      <td>8</td>\n",
       "      <td>ct</td>\n",
       "      <td>14.0</td>\n",
       "      <td>112.0</td>\n",
       "    </tr>\n",
       "    <tr>\n",
       "      <th>4</th>\n",
       "      <td>P014</td>\n",
       "      <td>C006430</td>\n",
       "      <td>T071276</td>\n",
       "      <td>I00050</td>\n",
       "      <td>S00488</td>\n",
       "      <td>8</td>\n",
       "      <td>cans</td>\n",
       "      <td>8.0</td>\n",
       "      <td>64.0</td>\n",
       "    </tr>\n",
       "  </tbody>\n",
       "</table>\n",
       "</div>"
      ],
      "text/plain": [
       "  payment_key coustomer_key time_key item_key store_key  quantity   unit  \\\n",
       "0        P026       C004510  T049189   I00177    S00307         1     ct   \n",
       "1        P022       C008967  T041209   I00248    S00595         1  rolls   \n",
       "2        P030       C007261   T03633   I00195    S00496         8     ct   \n",
       "3        P032       C007048  T084631   I00131     S0086         8     ct   \n",
       "4        P014       C006430  T071276   I00050    S00488         8   cans   \n",
       "\n",
       "   unit_price  total_price  \n",
       "0        35.0         35.0  \n",
       "1        26.0         26.0  \n",
       "2        12.5        100.0  \n",
       "3        14.0        112.0  \n",
       "4         8.0         64.0  "
      ]
     },
     "execution_count": 254,
     "metadata": {},
     "output_type": "execute_result"
    }
   ],
   "source": [
    "fact_data = pd.read_csv(open(DATA_DIR + 'Fact_table.csv','rb')) #sheet_name=1, engine='openpyxl'\n",
    "fact_data.head(5)"
   ]
  },
  {
   "cell_type": "markdown",
   "id": "f746a7f9",
   "metadata": {},
   "source": [
    "### Transform"
   ]
  },
  {
   "cell_type": "markdown",
   "id": "f493ca28",
   "metadata": {},
   "source": [
    "#### Customer_dim "
   ]
  },
  {
   "cell_type": "code",
   "execution_count": 99,
   "id": "580986a2",
   "metadata": {},
   "outputs": [],
   "source": [
    "count1 = []\n",
    "count1.append(customer_dim.coustomer_key.isnull().values.sum())\n",
    "count1.append(customer_dim.name.isnull().values.sum())\n",
    "count1.append(customer_dim.contact_no.isnull().values.sum())\n",
    "count1.append(customer_dim.nid.isnull().values.sum())\n"
   ]
  },
  {
   "cell_type": "code",
   "execution_count": 100,
   "id": "2d1859ed",
   "metadata": {},
   "outputs": [
    {
     "data": {
      "text/html": [
       "<div>\n",
       "<style scoped>\n",
       "    .dataframe tbody tr th:only-of-type {\n",
       "        vertical-align: middle;\n",
       "    }\n",
       "\n",
       "    .dataframe tbody tr th {\n",
       "        vertical-align: top;\n",
       "    }\n",
       "\n",
       "    .dataframe thead th {\n",
       "        text-align: right;\n",
       "    }\n",
       "</style>\n",
       "<table border=\"1\" class=\"dataframe\">\n",
       "  <thead>\n",
       "    <tr style=\"text-align: right;\">\n",
       "      <th></th>\n",
       "      <th>Total missing values</th>\n",
       "      <th>columns_name</th>\n",
       "    </tr>\n",
       "  </thead>\n",
       "  <tbody>\n",
       "    <tr>\n",
       "      <th>0</th>\n",
       "      <td>0</td>\n",
       "      <td>coustomer_key</td>\n",
       "    </tr>\n",
       "    <tr>\n",
       "      <th>1</th>\n",
       "      <td>27</td>\n",
       "      <td>name</td>\n",
       "    </tr>\n",
       "    <tr>\n",
       "      <th>2</th>\n",
       "      <td>0</td>\n",
       "      <td>contact_no</td>\n",
       "    </tr>\n",
       "    <tr>\n",
       "      <th>3</th>\n",
       "      <td>0</td>\n",
       "      <td>nid</td>\n",
       "    </tr>\n",
       "  </tbody>\n",
       "</table>\n",
       "</div>"
      ],
      "text/plain": [
       "   Total missing values   columns_name\n",
       "0                     0  coustomer_key\n",
       "1                    27           name\n",
       "2                     0     contact_no\n",
       "3                     0            nid"
      ]
     },
     "execution_count": 100,
     "metadata": {},
     "output_type": "execute_result"
    }
   ],
   "source": [
    "missing_value_count_dataset = pd.DataFrame(count1, columns=['Total missing values'])\n",
    "columns_name = coustomer_dim.columns\n",
    "missing_value_count_dataset['columns_name'] = columns_name\n",
    "missing_value_count_dataset"
   ]
  },
  {
   "cell_type": "code",
   "execution_count": 101,
   "id": "5a40f247",
   "metadata": {},
   "outputs": [
    {
     "data": {
      "text/plain": [
       "(9191, 4)"
      ]
     },
     "execution_count": 101,
     "metadata": {},
     "output_type": "execute_result"
    }
   ],
   "source": [
    "# before droping the null value total row was 9191\n",
    "customer_dim.shape"
   ]
  },
  {
   "cell_type": "code",
   "execution_count": 102,
   "id": "af738741",
   "metadata": {},
   "outputs": [],
   "source": [
    "# drop the missing values\n",
    "customer_dim = customer_dim.dropna()"
   ]
  },
  {
   "cell_type": "code",
   "execution_count": 103,
   "id": "948db943",
   "metadata": {},
   "outputs": [
    {
     "data": {
      "text/plain": [
       "(9164, 4)"
      ]
     },
     "execution_count": 103,
     "metadata": {},
     "output_type": "execute_result"
    }
   ],
   "source": [
    "# after droping the null value total row become 9164\n",
    "customer_dim.shape"
   ]
  },
  {
   "cell_type": "code",
   "execution_count": 246,
   "id": "b3f19a31",
   "metadata": {},
   "outputs": [],
   "source": [
    "# remove the '+' sign from the contact number\n",
    "\n",
    "c = 0\n",
    "for value in customer_dim[\"contact_no\"].values:\n",
    "    if(type(value)==float):\n",
    "        value1 = str(value)\n",
    "        value1  = value1.replace(\"+\", \"\")\n",
    "        # replace the value in the dataset\n",
    "        customer_dim.contact_no.values[c] = value1\n",
    "        c = c + 1\n",
    "    #if(type(value)==float):\n",
    "    #    value1 = str(value)\n",
    "        # if value contains ',' or '+' or '.' or '-' or '/' sign or above or Above then remove that sign\n",
    "        #value1  = value1.replace(\",\", \"\")"
   ]
  },
  {
   "cell_type": "code",
   "execution_count": 247,
   "id": "b26a1602",
   "metadata": {},
   "outputs": [
    {
     "data": {
      "text/plain": [
       "array([8.80192000e+12, 8.80181707e+12, 8.80166000e+12, ...,\n",
       "       8.80189000e+12, 8.80156000e+12, 8.80152000e+12])"
      ]
     },
     "execution_count": 247,
     "metadata": {},
     "output_type": "execute_result"
    }
   ],
   "source": [
    "customer_dim.contact_no.values"
   ]
  },
  {
   "cell_type": "markdown",
   "id": "e138575b",
   "metadata": {},
   "source": [
    "#### Time_dim"
   ]
  },
  {
   "cell_type": "code",
   "execution_count": 150,
   "id": "f7fd4672",
   "metadata": {},
   "outputs": [
    {
     "data": {
      "text/plain": [
       "Index(['time_key', 'date', 'hour', 'day', 'week', 'month', 'quarter', 'year'], dtype='object')"
      ]
     },
     "execution_count": 150,
     "metadata": {},
     "output_type": "execute_result"
    }
   ],
   "source": [
    "time_dim.columns"
   ]
  },
  {
   "cell_type": "code",
   "execution_count": 175,
   "id": "a69c7556",
   "metadata": {},
   "outputs": [
    {
     "data": {
      "text/plain": [
       "0       2017-05-20 14:56:00\n",
       "1       2015-01-30 22:14:00\n",
       "2       2020-03-14 02:34:00\n",
       "3       2018-04-27 12:19:00\n",
       "4       2018-04-14 10:43:00\n",
       "                ...        \n",
       "99994   2015-04-01 17:22:00\n",
       "99995   2015-01-17 21:09:00\n",
       "99996   2020-01-23 14:42:00\n",
       "99997   2015-10-31 13:52:00\n",
       "99998   2017-08-06 08:59:00\n",
       "Name: date, Length: 99999, dtype: datetime64[ns]"
      ]
     },
     "execution_count": 175,
     "metadata": {},
     "output_type": "execute_result"
    }
   ],
   "source": [
    "time_dim.date = pd.to_datetime(time_dim.date) # format=\"%d-%m-%Y %H:%M\" / format='%Y%m%d',  errors='ignore'\n",
    "time_dim.date\n",
    "# s = pd.Timestamp(time_dim.date, '2017-01-01T12') # format=\"%d-%m-%Y %H:%M\" / format='%Y%m%d',  errors='ignore'\n",
    "# s"
   ]
  },
  {
   "cell_type": "markdown",
   "id": "d4d8e8c5",
   "metadata": {},
   "source": [
    "#### Item_dim"
   ]
  },
  {
   "cell_type": "code",
   "execution_count": 262,
   "id": "0a8eb37c",
   "metadata": {},
   "outputs": [
    {
     "data": {
      "text/plain": [
       "Index(['item_key', 'item_name', 'desc', 'unit_price', 'man_country',\n",
       "       'supplier', 'unit'],\n",
       "      dtype='object')"
      ]
     },
     "execution_count": 262,
     "metadata": {},
     "output_type": "execute_result"
    }
   ],
   "source": [
    "item_dim.columns"
   ]
  },
  {
   "cell_type": "code",
   "execution_count": 122,
   "id": "99c4ad36",
   "metadata": {},
   "outputs": [],
   "source": [
    "count1 = []\n",
    "count1.append(item_dim.item_key.isnull().values.sum())\n",
    "count1.append(item_dim.item_name.isnull().values.sum())\n",
    "count1.append(item_dim.desc.isnull().values.sum())\n",
    "count1.append(item_dim.unit_price.isnull().values.sum())\n",
    "count1.append(item_dim.man_country.isnull().values.sum())\n",
    "count1.append(item_dim.supplier.isnull().values.sum())\n",
    "count1.append(item_dim.unit.isnull().values.sum())"
   ]
  },
  {
   "cell_type": "code",
   "execution_count": 123,
   "id": "58d762fa",
   "metadata": {},
   "outputs": [
    {
     "data": {
      "text/html": [
       "<div>\n",
       "<style scoped>\n",
       "    .dataframe tbody tr th:only-of-type {\n",
       "        vertical-align: middle;\n",
       "    }\n",
       "\n",
       "    .dataframe tbody tr th {\n",
       "        vertical-align: top;\n",
       "    }\n",
       "\n",
       "    .dataframe thead th {\n",
       "        text-align: right;\n",
       "    }\n",
       "</style>\n",
       "<table border=\"1\" class=\"dataframe\">\n",
       "  <thead>\n",
       "    <tr style=\"text-align: right;\">\n",
       "      <th></th>\n",
       "      <th>Total missing values</th>\n",
       "      <th>columns_name</th>\n",
       "    </tr>\n",
       "  </thead>\n",
       "  <tbody>\n",
       "    <tr>\n",
       "      <th>0</th>\n",
       "      <td>0</td>\n",
       "      <td>item_key</td>\n",
       "    </tr>\n",
       "    <tr>\n",
       "      <th>1</th>\n",
       "      <td>0</td>\n",
       "      <td>item_name</td>\n",
       "    </tr>\n",
       "    <tr>\n",
       "      <th>2</th>\n",
       "      <td>0</td>\n",
       "      <td>desc</td>\n",
       "    </tr>\n",
       "    <tr>\n",
       "      <th>3</th>\n",
       "      <td>0</td>\n",
       "      <td>unit_price</td>\n",
       "    </tr>\n",
       "    <tr>\n",
       "      <th>4</th>\n",
       "      <td>0</td>\n",
       "      <td>man_country</td>\n",
       "    </tr>\n",
       "    <tr>\n",
       "      <th>5</th>\n",
       "      <td>0</td>\n",
       "      <td>supplier</td>\n",
       "    </tr>\n",
       "    <tr>\n",
       "      <th>6</th>\n",
       "      <td>1</td>\n",
       "      <td>unit</td>\n",
       "    </tr>\n",
       "  </tbody>\n",
       "</table>\n",
       "</div>"
      ],
      "text/plain": [
       "   Total missing values columns_name\n",
       "0                     0     item_key\n",
       "1                     0    item_name\n",
       "2                     0         desc\n",
       "3                     0   unit_price\n",
       "4                     0  man_country\n",
       "5                     0     supplier\n",
       "6                     1         unit"
      ]
     },
     "execution_count": 123,
     "metadata": {},
     "output_type": "execute_result"
    }
   ],
   "source": [
    "missing_value_count_dataset = pd.DataFrame(count1, columns=['Total missing values'])\n",
    "columns_name = item_dim.columns\n",
    "missing_value_count_dataset['columns_name'] = columns_name\n",
    "missing_value_count_dataset"
   ]
  },
  {
   "cell_type": "code",
   "execution_count": 124,
   "id": "9cb3364f",
   "metadata": {},
   "outputs": [
    {
     "data": {
      "text/plain": [
       "(264, 7)"
      ]
     },
     "execution_count": 124,
     "metadata": {},
     "output_type": "execute_result"
    }
   ],
   "source": [
    "item_dim.shape"
   ]
  },
  {
   "cell_type": "code",
   "execution_count": 125,
   "id": "25246181",
   "metadata": {},
   "outputs": [],
   "source": [
    "# drop the missing values\n",
    "item_dim = item_dim.dropna()"
   ]
  },
  {
   "cell_type": "code",
   "execution_count": 126,
   "id": "9062ae77",
   "metadata": {},
   "outputs": [
    {
     "data": {
      "text/plain": [
       "(263, 7)"
      ]
     },
     "execution_count": 126,
     "metadata": {},
     "output_type": "execute_result"
    }
   ],
   "source": [
    "item_dim.shape"
   ]
  },
  {
   "cell_type": "markdown",
   "id": "62761ba0",
   "metadata": {},
   "source": [
    "#### Fact_data"
   ]
  },
  {
   "cell_type": "code",
   "execution_count": 273,
   "id": "839e0dce",
   "metadata": {},
   "outputs": [
    {
     "data": {
      "text/html": [
       "<div>\n",
       "<style scoped>\n",
       "    .dataframe tbody tr th:only-of-type {\n",
       "        vertical-align: middle;\n",
       "    }\n",
       "\n",
       "    .dataframe tbody tr th {\n",
       "        vertical-align: top;\n",
       "    }\n",
       "\n",
       "    .dataframe thead th {\n",
       "        text-align: right;\n",
       "    }\n",
       "</style>\n",
       "<table border=\"1\" class=\"dataframe\">\n",
       "  <thead>\n",
       "    <tr style=\"text-align: right;\">\n",
       "      <th></th>\n",
       "      <th>payment_key</th>\n",
       "      <th>coustomer_key</th>\n",
       "      <th>time_key</th>\n",
       "      <th>item_key</th>\n",
       "      <th>store_key</th>\n",
       "      <th>quantity</th>\n",
       "      <th>unit</th>\n",
       "      <th>unit_price</th>\n",
       "      <th>total_price</th>\n",
       "    </tr>\n",
       "  </thead>\n",
       "  <tbody>\n",
       "    <tr>\n",
       "      <th>0</th>\n",
       "      <td>P026</td>\n",
       "      <td>C004510</td>\n",
       "      <td>T049189</td>\n",
       "      <td>I00177</td>\n",
       "      <td>S00307</td>\n",
       "      <td>1</td>\n",
       "      <td>ct</td>\n",
       "      <td>35.0</td>\n",
       "      <td>35.0</td>\n",
       "    </tr>\n",
       "    <tr>\n",
       "      <th>1</th>\n",
       "      <td>P022</td>\n",
       "      <td>C008967</td>\n",
       "      <td>T041209</td>\n",
       "      <td>I00248</td>\n",
       "      <td>S00595</td>\n",
       "      <td>1</td>\n",
       "      <td>rolls</td>\n",
       "      <td>26.0</td>\n",
       "      <td>26.0</td>\n",
       "    </tr>\n",
       "    <tr>\n",
       "      <th>2</th>\n",
       "      <td>P030</td>\n",
       "      <td>C007261</td>\n",
       "      <td>T03633</td>\n",
       "      <td>I00195</td>\n",
       "      <td>S00496</td>\n",
       "      <td>8</td>\n",
       "      <td>ct</td>\n",
       "      <td>12.5</td>\n",
       "      <td>100.0</td>\n",
       "    </tr>\n",
       "  </tbody>\n",
       "</table>\n",
       "</div>"
      ],
      "text/plain": [
       "  payment_key coustomer_key time_key item_key store_key  quantity   unit  \\\n",
       "0        P026       C004510  T049189   I00177    S00307         1     ct   \n",
       "1        P022       C008967  T041209   I00248    S00595         1  rolls   \n",
       "2        P030       C007261   T03633   I00195    S00496         8     ct   \n",
       "\n",
       "   unit_price  total_price  \n",
       "0        35.0         35.0  \n",
       "1        26.0         26.0  \n",
       "2        12.5        100.0  "
      ]
     },
     "execution_count": 273,
     "metadata": {},
     "output_type": "execute_result"
    }
   ],
   "source": [
    "fact_data = pd.read_csv(open(DATA_DIR + 'Fact_table.csv','rb')) #sheet_name=1, engine='openpyxl'\n",
    "fact_data.head(3)"
   ]
  },
  {
   "cell_type": "code",
   "execution_count": 230,
   "id": "68fcda1a",
   "metadata": {},
   "outputs": [
    {
     "data": {
      "text/plain": [
       "Index(['payment_key', 'coustomer_key', 'time_key', 'item_key', 'store_key',\n",
       "       'quantity', 'unit', 'unit_price', 'total_price'],\n",
       "      dtype='object')"
      ]
     },
     "execution_count": 230,
     "metadata": {},
     "output_type": "execute_result"
    }
   ],
   "source": [
    "fact_data.columns"
   ]
  },
  {
   "cell_type": "code",
   "execution_count": 256,
   "id": "0e73abca",
   "metadata": {},
   "outputs": [
    {
     "data": {
      "text/plain": [
       "(1000000, 9)"
      ]
     },
     "execution_count": 256,
     "metadata": {},
     "output_type": "execute_result"
    }
   ],
   "source": [
    "fact_data.shape"
   ]
  },
  {
   "cell_type": "code",
   "execution_count": 240,
   "id": "8e73d8db",
   "metadata": {},
   "outputs": [
    {
     "data": {
      "text/plain": [
       "Int64Index([    68,    279,   7042,  14035,  24086,  30868,  35676,  53038,\n",
       "             74485,  87128,\n",
       "            ...\n",
       "            923627, 943770, 950913, 956857, 958802, 969525, 970108, 973557,\n",
       "            990482, 996988],\n",
       "           dtype='int64', length=144)"
      ]
     },
     "execution_count": 240,
     "metadata": {},
     "output_type": "execute_result"
    }
   ],
   "source": [
    "# customer_key=C006321 is not present in table \"customer_dim\".\n",
    "# that's why fact_table cann't load this row [customer_key is a foreign key]\n",
    "# Therefore, this row is dropped from the fact table\n",
    "\n",
    "i = fact_data[fact_data['coustomer_key'].values == \"C006321\"].index\n",
    "i"
   ]
  },
  {
   "cell_type": "code",
   "execution_count": 239,
   "id": "d4e21bb0",
   "metadata": {},
   "outputs": [],
   "source": [
    "# customer_key=C006321 is not present in table \"customer_dim\".\n",
    "# that's why fact_table cann't load this row [customer_key is a foreign key]\n",
    "# Therefore, this row is dropped from the fact table\n",
    "\n",
    "# c = 0\n",
    "# for value in fact_data[\"coustomer_key\"].values:\n",
    "#     if(value==\"C006321\"):\n",
    "#         # drop the value from the fact_data dataset\n",
    "#         print(546464)\n",
    "#         c = c + 1\n",
    "#         # fact_data.dropna(how: fact_data.coustomer_key.values = 'C006321')\n",
    "#     print('g')"
   ]
  },
  {
   "cell_type": "code",
   "execution_count": null,
   "id": "09bbaf4d",
   "metadata": {},
   "outputs": [],
   "source": [
    "fact_data = fact_data.drop(i)"
   ]
  },
  {
   "cell_type": "markdown",
   "id": "110fa63e",
   "metadata": {},
   "source": [
    "### Load"
   ]
  },
  {
   "cell_type": "markdown",
   "id": "dbd8ec63",
   "metadata": {},
   "source": [
    "***Connect to the database***"
   ]
  },
  {
   "cell_type": "code",
   "execution_count": 274,
   "id": "5d3f72cb",
   "metadata": {},
   "outputs": [],
   "source": [
    "\n",
    "class PostgresConnection(object):\n",
    "    def __init__(self):\n",
    "        self.connection = psycopg2.connect(database=\"ecomdb\",\n",
    "                                           user = \"postgres\",\n",
    "                                           password = \"Rsjintu8\",\n",
    "                                           host = \"localhost\", #\"127.0.0.1\",\n",
    "                                           port = \"5432\")\n",
    "\n",
    "    def getConnection(self):\n",
    "        print(\"successfully connected to database\")\n",
    "        return self.connection"
   ]
  },
  {
   "cell_type": "code",
   "execution_count": 275,
   "id": "add24549",
   "metadata": {
    "scrolled": false
   },
   "outputs": [
    {
     "name": "stdout",
     "output_type": "stream",
     "text": [
      "successfully connected to database\n"
     ]
    }
   ],
   "source": [
    "con = PostgresConnection().getConnection()"
   ]
  },
  {
   "cell_type": "markdown",
   "id": "87abf15e",
   "metadata": {},
   "source": [
    "### Trans_dim"
   ]
  },
  {
   "cell_type": "code",
   "execution_count": 28,
   "id": "2d8f8a04",
   "metadata": {},
   "outputs": [],
   "source": [
    "# insert values into the trans_dim\n",
    "insert_stmt = \"INSERT INTO ecomdb.trans_dim ( payment_key, trans_type, bank_name)\" \\\n",
    "            \" VALUES (%s, %s, %s)\"\n",
    "cur = con.cursor()\n",
    "psycopg2.extras.execute_batch(cur, insert_stmt, trans_dim.values)\n",
    "con.commit()\n",
    "cur.close()"
   ]
  },
  {
   "cell_type": "code",
   "execution_count": 119,
   "id": "43d8effa",
   "metadata": {
    "scrolled": true
   },
   "outputs": [
    {
     "data": {
      "text/plain": [
       "[('P001', 'cash', 'None'),\n",
       " ('P002', 'card', 'AB Bank Limited'),\n",
       " ('P003', 'card', 'Bangladesh Commerce Bank Limited'),\n",
       " ('P004', 'card', 'Bank Asia Limited'),\n",
       " ('P005', 'card', 'BRAC Bank Limited'),\n",
       " ('P006', 'card', 'Citizens Bank Limited'),\n",
       " ('P007', 'card', 'City Bank Limited'),\n",
       " ('P008', 'card', 'Community Bank Bangladesh Limited'),\n",
       " ('P009', 'card', 'Dhaka Bank Limited'),\n",
       " ('P010', 'card', 'Dutch-Bangla Bank Limited'),\n",
       " ('P011', 'card', 'Eastern Bank Limited'),\n",
       " ('P012', 'card', 'IFIC Bank Limited'),\n",
       " ('P013', 'card', 'Jamuna Bank Limited'),\n",
       " ('P014', 'card', 'Meghna Bank Limited'),\n",
       " ('P015', 'card', 'Mercantile Bank Limited'),\n",
       " ('P016', 'card', 'Midland Bank Limited'),\n",
       " ('P017', 'card', 'Modhumoti Bank Limited'),\n",
       " ('P018', 'card', 'Mutual Trust Bank Limited'),\n",
       " ('P019', 'card', 'National Bank Limited'),\n",
       " ('P020', 'card', 'National Credit & Commerce Bank Limited'),\n",
       " ('P021', 'card', 'NRB Bank Limited'),\n",
       " ('P022', 'card', 'NRB Commercial Bank Ltd'),\n",
       " ('P023', 'card', 'NRB Global Bank Ltd'),\n",
       " ('P024', 'card', 'One Bank Limited'),\n",
       " ('P025', 'card', 'Padma Bank Limited'),\n",
       " ('P026', 'card', 'Premier Bank Limited'),\n",
       " ('P027', 'card', 'Prime Bank Limited'),\n",
       " ('P028', 'card', 'Pubali Bank Limited'),\n",
       " ('P029', 'card', 'Standard Bank Limited'),\n",
       " ('P030', 'card', 'Shimanto Bank Ltd'),\n",
       " ('P031', 'card', 'Southeast Bank Limited'),\n",
       " ('P032', 'card', 'South Bangla Agriculture and Commerce Bank Limited'),\n",
       " ('P033', 'card', 'Trust Bank Limited'),\n",
       " ('P034', 'card', 'United Commercial Bank Ltd'),\n",
       " ('P035', 'card', 'Uttara Bank Limited'),\n",
       " ('P036', 'card', 'Bengal Commercial Bank Ltd'),\n",
       " ('P037', 'mobile', 'Bkash'),\n",
       " ('P038', 'mobile', 'Rocket'),\n",
       " ('P039', 'mobile', 'Nagad')]"
      ]
     },
     "execution_count": 119,
     "metadata": {},
     "output_type": "execute_result"
    }
   ],
   "source": [
    "cur = con.cursor()\n",
    "select_stmt = \"SELECT payment_key , trans_type, bank_name \" \\\n",
    "              \"FROM ecomdb.trans_dim\"\n",
    "cur.execute(select_stmt)\n",
    "records = cur.fetchall()\n",
    "records"
   ]
  },
  {
   "cell_type": "code",
   "execution_count": 120,
   "id": "08d4f359",
   "metadata": {},
   "outputs": [
    {
     "data": {
      "text/html": [
       "<div>\n",
       "<style scoped>\n",
       "    .dataframe tbody tr th:only-of-type {\n",
       "        vertical-align: middle;\n",
       "    }\n",
       "\n",
       "    .dataframe tbody tr th {\n",
       "        vertical-align: top;\n",
       "    }\n",
       "\n",
       "    .dataframe thead th {\n",
       "        text-align: right;\n",
       "    }\n",
       "</style>\n",
       "<table border=\"1\" class=\"dataframe\">\n",
       "  <thead>\n",
       "    <tr style=\"text-align: right;\">\n",
       "      <th></th>\n",
       "      <th>payment_key</th>\n",
       "      <th>trans_type</th>\n",
       "      <th>bank_name</th>\n",
       "    </tr>\n",
       "  </thead>\n",
       "  <tbody>\n",
       "    <tr>\n",
       "      <th>0</th>\n",
       "      <td>P001</td>\n",
       "      <td>cash</td>\n",
       "      <td>None</td>\n",
       "    </tr>\n",
       "    <tr>\n",
       "      <th>1</th>\n",
       "      <td>P002</td>\n",
       "      <td>card</td>\n",
       "      <td>AB Bank Limited</td>\n",
       "    </tr>\n",
       "    <tr>\n",
       "      <th>2</th>\n",
       "      <td>P003</td>\n",
       "      <td>card</td>\n",
       "      <td>Bangladesh Commerce Bank Limited</td>\n",
       "    </tr>\n",
       "    <tr>\n",
       "      <th>3</th>\n",
       "      <td>P004</td>\n",
       "      <td>card</td>\n",
       "      <td>Bank Asia Limited</td>\n",
       "    </tr>\n",
       "    <tr>\n",
       "      <th>4</th>\n",
       "      <td>P005</td>\n",
       "      <td>card</td>\n",
       "      <td>BRAC Bank Limited</td>\n",
       "    </tr>\n",
       "  </tbody>\n",
       "</table>\n",
       "</div>"
      ],
      "text/plain": [
       "  payment_key trans_type                         bank_name\n",
       "0        P001       cash                              None\n",
       "1        P002       card                   AB Bank Limited\n",
       "2        P003       card  Bangladesh Commerce Bank Limited\n",
       "3        P004       card                 Bank Asia Limited\n",
       "4        P005       card                 BRAC Bank Limited"
      ]
     },
     "execution_count": 120,
     "metadata": {},
     "output_type": "execute_result"
    }
   ],
   "source": [
    "trans_df = pd.DataFrame(list(records), columns=['payment_key', 'trans_type', 'bank_name'])\n",
    "trans_df.head(5)"
   ]
  },
  {
   "cell_type": "markdown",
   "id": "c35d206b",
   "metadata": {},
   "source": [
    "### Store_dim"
   ]
  },
  {
   "cell_type": "code",
   "execution_count": 142,
   "id": "fba39e14",
   "metadata": {},
   "outputs": [
    {
     "data": {
      "text/plain": [
       "Index(['store_key', 'division', 'district', 'upazila'], dtype='object')"
      ]
     },
     "execution_count": 142,
     "metadata": {},
     "output_type": "execute_result"
    }
   ],
   "source": [
    "store_dim.columns"
   ]
  },
  {
   "cell_type": "code",
   "execution_count": 143,
   "id": "616f5af4",
   "metadata": {},
   "outputs": [],
   "source": [
    "# insert values into the store_dim\n",
    "insert_stmt = \"INSERT INTO ecomdb.store_dim ( store_key, division, district, upazila)\" \\\n",
    "            \" VALUES (%s, %s, %s, %s)\"\n",
    "cur = con.cursor()\n",
    "psycopg2.extras.execute_batch(cur, insert_stmt, store_dim.values)\n",
    "con.commit()\n",
    "cur.close()"
   ]
  },
  {
   "cell_type": "code",
   "execution_count": 144,
   "id": "274564e7",
   "metadata": {},
   "outputs": [],
   "source": [
    "cur = con.cursor()\n",
    "select_stmt = \"SELECT store_key, division, district, upazila \" \\\n",
    "              \"FROM ecomdb.store_dim\"\n",
    "cur.execute(select_stmt)\n",
    "records = cur.fetchall()\n",
    "#records"
   ]
  },
  {
   "cell_type": "code",
   "execution_count": 145,
   "id": "1886b1d5",
   "metadata": {},
   "outputs": [
    {
     "data": {
      "text/html": [
       "<div>\n",
       "<style scoped>\n",
       "    .dataframe tbody tr th:only-of-type {\n",
       "        vertical-align: middle;\n",
       "    }\n",
       "\n",
       "    .dataframe tbody tr th {\n",
       "        vertical-align: top;\n",
       "    }\n",
       "\n",
       "    .dataframe thead th {\n",
       "        text-align: right;\n",
       "    }\n",
       "</style>\n",
       "<table border=\"1\" class=\"dataframe\">\n",
       "  <thead>\n",
       "    <tr style=\"text-align: right;\">\n",
       "      <th></th>\n",
       "      <th>store_key</th>\n",
       "      <th>division</th>\n",
       "      <th>district</th>\n",
       "      <th>upazila</th>\n",
       "    </tr>\n",
       "  </thead>\n",
       "  <tbody>\n",
       "    <tr>\n",
       "      <th>0</th>\n",
       "      <td>S0001</td>\n",
       "      <td>SYLHET</td>\n",
       "      <td>HABIGANJ</td>\n",
       "      <td>AJMIRIGANJ</td>\n",
       "    </tr>\n",
       "    <tr>\n",
       "      <th>1</th>\n",
       "      <td>S0002</td>\n",
       "      <td>SYLHET</td>\n",
       "      <td>HABIGANJ</td>\n",
       "      <td>BAHUBAL</td>\n",
       "    </tr>\n",
       "    <tr>\n",
       "      <th>2</th>\n",
       "      <td>S0003</td>\n",
       "      <td>SYLHET</td>\n",
       "      <td>HABIGANJ</td>\n",
       "      <td>BANIACHONG</td>\n",
       "    </tr>\n",
       "    <tr>\n",
       "      <th>3</th>\n",
       "      <td>S0004</td>\n",
       "      <td>SYLHET</td>\n",
       "      <td>HABIGANJ</td>\n",
       "      <td>CHUNARUGHAT</td>\n",
       "    </tr>\n",
       "    <tr>\n",
       "      <th>4</th>\n",
       "      <td>S0005</td>\n",
       "      <td>SYLHET</td>\n",
       "      <td>HABIGANJ</td>\n",
       "      <td>HABIGANJ SADAR</td>\n",
       "    </tr>\n",
       "  </tbody>\n",
       "</table>\n",
       "</div>"
      ],
      "text/plain": [
       "  store_key division  district         upazila\n",
       "0     S0001   SYLHET  HABIGANJ      AJMIRIGANJ\n",
       "1     S0002   SYLHET  HABIGANJ         BAHUBAL\n",
       "2     S0003   SYLHET  HABIGANJ      BANIACHONG\n",
       "3     S0004   SYLHET  HABIGANJ     CHUNARUGHAT\n",
       "4     S0005   SYLHET  HABIGANJ  HABIGANJ SADAR"
      ]
     },
     "execution_count": 145,
     "metadata": {},
     "output_type": "execute_result"
    }
   ],
   "source": [
    "store_df = pd.DataFrame(list(records), columns=['store_key', 'division', 'district', 'upazila'])\n",
    "store_df.head(5)"
   ]
  },
  {
   "cell_type": "markdown",
   "id": "94f8cf40",
   "metadata": {},
   "source": [
    "### Customer_dim "
   ]
  },
  {
   "cell_type": "code",
   "execution_count": 250,
   "id": "35399509",
   "metadata": {},
   "outputs": [
    {
     "data": {
      "text/plain": [
       "Index(['coustomer_key', 'name', 'contact_no', 'nid'], dtype='object')"
      ]
     },
     "execution_count": 250,
     "metadata": {},
     "output_type": "execute_result"
    }
   ],
   "source": [
    "customer_dim.columns"
   ]
  },
  {
   "cell_type": "code",
   "execution_count": 251,
   "id": "9aefa494",
   "metadata": {},
   "outputs": [],
   "source": [
    "# insert values into the coustomer_dim\n",
    "insert_stmt1 = \"INSERT INTO ecomdb.customer_dim ( customer_key, name, contact_no, nid)\" \\\n",
    "            \" VALUES (%s, %s, %s, %s)\"\n",
    "cur = con.cursor()\n",
    "psycopg2.extras.execute_batch(cur, insert_stmt1, customer_dim.values)\n",
    "con.commit()\n",
    "cur.close()"
   ]
  },
  {
   "cell_type": "code",
   "execution_count": 252,
   "id": "a97a56ff",
   "metadata": {},
   "outputs": [],
   "source": [
    "cur = con.cursor()\n",
    "select_stmt = \"SELECT customer_key, name, contact_no, nid \" \\\n",
    "              \"FROM ecomdb.customer_dim\"\n",
    "cur.execute(select_stmt)\n",
    "records = cur.fetchall()\n",
    "#records"
   ]
  },
  {
   "cell_type": "code",
   "execution_count": 253,
   "id": "569745c1",
   "metadata": {},
   "outputs": [
    {
     "data": {
      "text/html": [
       "<div>\n",
       "<style scoped>\n",
       "    .dataframe tbody tr th:only-of-type {\n",
       "        vertical-align: middle;\n",
       "    }\n",
       "\n",
       "    .dataframe tbody tr th {\n",
       "        vertical-align: top;\n",
       "    }\n",
       "\n",
       "    .dataframe thead th {\n",
       "        text-align: right;\n",
       "    }\n",
       "</style>\n",
       "<table border=\"1\" class=\"dataframe\">\n",
       "  <thead>\n",
       "    <tr style=\"text-align: right;\">\n",
       "      <th></th>\n",
       "      <th>coustomer_key</th>\n",
       "      <th>name</th>\n",
       "      <th>contact_no</th>\n",
       "      <th>nid</th>\n",
       "    </tr>\n",
       "  </thead>\n",
       "  <tbody>\n",
       "    <tr>\n",
       "      <th>0</th>\n",
       "      <td>C000001</td>\n",
       "      <td>sumit</td>\n",
       "      <td>8801920000000</td>\n",
       "      <td>7505080000000</td>\n",
       "    </tr>\n",
       "    <tr>\n",
       "      <th>1</th>\n",
       "      <td>C000002</td>\n",
       "      <td>tammanne</td>\n",
       "      <td>8801817069329</td>\n",
       "      <td>1977730000000</td>\n",
       "    </tr>\n",
       "    <tr>\n",
       "      <th>2</th>\n",
       "      <td>C000003</td>\n",
       "      <td>kailash kumar</td>\n",
       "      <td>8801660000000</td>\n",
       "      <td>3769490000000</td>\n",
       "    </tr>\n",
       "    <tr>\n",
       "      <th>3</th>\n",
       "      <td>C000004</td>\n",
       "      <td>bhagwati prasad</td>\n",
       "      <td>8801533627961</td>\n",
       "      <td>9378830000000</td>\n",
       "    </tr>\n",
       "    <tr>\n",
       "      <th>4</th>\n",
       "      <td>C000005</td>\n",
       "      <td>ajay</td>\n",
       "      <td>8801943715786</td>\n",
       "      <td>3540820000000</td>\n",
       "    </tr>\n",
       "  </tbody>\n",
       "</table>\n",
       "</div>"
      ],
      "text/plain": [
       "  coustomer_key             name     contact_no            nid\n",
       "0       C000001            sumit  8801920000000  7505080000000\n",
       "1       C000002         tammanne  8801817069329  1977730000000\n",
       "2       C000003    kailash kumar  8801660000000  3769490000000\n",
       "3       C000004  bhagwati prasad  8801533627961  9378830000000\n",
       "4       C000005             ajay  8801943715786  3540820000000"
      ]
     },
     "execution_count": 253,
     "metadata": {},
     "output_type": "execute_result"
    }
   ],
   "source": [
    "customer_df = pd.DataFrame(list(records), columns=['coustomer_key', 'name', 'contact_no', 'nid'])\n",
    "customer_df.head(5)"
   ]
  },
  {
   "cell_type": "markdown",
   "id": "f2260164",
   "metadata": {},
   "source": [
    "### Item_dim"
   ]
  },
  {
   "cell_type": "code",
   "execution_count": 266,
   "id": "fd644c25",
   "metadata": {},
   "outputs": [
    {
     "data": {
      "text/plain": [
       "Index(['item_key', 'item_name', 'desc', 'unit_price', 'man_country',\n",
       "       'supplier', 'unit'],\n",
       "      dtype='object')"
      ]
     },
     "execution_count": 266,
     "metadata": {},
     "output_type": "execute_result"
    }
   ],
   "source": [
    "item_dim.columns"
   ]
  },
  {
   "cell_type": "code",
   "execution_count": 270,
   "id": "b832fb03",
   "metadata": {
    "scrolled": true
   },
   "outputs": [],
   "source": [
    "# insert values into the item_dim\n",
    "insert_stmt = \"INSERT INTO ecomdb.item_dim ( item_key, item_name, descs, unit_price, man_country, supplier, unit)\" \\\n",
    "            \" VALUES (%s, %s, %s, %s, %s, %s, %s)\"\n",
    "cur = con.cursor()\n",
    "psycopg2.extras.execute_batch(cur, insert_stmt, item_dim.values)\n",
    "con.commit()\n",
    "cur.close()"
   ]
  },
  {
   "cell_type": "code",
   "execution_count": 271,
   "id": "82c519cb",
   "metadata": {},
   "outputs": [],
   "source": [
    "cur = con.cursor()\n",
    "select_stmt = \"SELECT item_key, item_name, descs, unit_price, man_country, supplier, unit \" \\\n",
    "              \"FROM ecomdb.item_dim\"\n",
    "cur.execute(select_stmt)\n",
    "records = cur.fetchall()\n",
    "#records"
   ]
  },
  {
   "cell_type": "code",
   "execution_count": 272,
   "id": "aaa89ab7",
   "metadata": {},
   "outputs": [
    {
     "data": {
      "text/html": [
       "<div>\n",
       "<style scoped>\n",
       "    .dataframe tbody tr th:only-of-type {\n",
       "        vertical-align: middle;\n",
       "    }\n",
       "\n",
       "    .dataframe tbody tr th {\n",
       "        vertical-align: top;\n",
       "    }\n",
       "\n",
       "    .dataframe thead th {\n",
       "        text-align: right;\n",
       "    }\n",
       "</style>\n",
       "<table border=\"1\" class=\"dataframe\">\n",
       "  <thead>\n",
       "    <tr style=\"text-align: right;\">\n",
       "      <th></th>\n",
       "      <th>item_key</th>\n",
       "      <th>item_name</th>\n",
       "      <th>desc</th>\n",
       "      <th>unit_price</th>\n",
       "      <th>man_country</th>\n",
       "      <th>supplier</th>\n",
       "      <th>unit</th>\n",
       "    </tr>\n",
       "  </thead>\n",
       "  <tbody>\n",
       "    <tr>\n",
       "      <th>0</th>\n",
       "      <td>I00001</td>\n",
       "      <td>A&amp;W Root Beer - 12 oz cans</td>\n",
       "      <td>a. Beverage - Soda</td>\n",
       "      <td>11.50</td>\n",
       "      <td>Netherlands</td>\n",
       "      <td>Bolsius Boxmeer</td>\n",
       "      <td>cans</td>\n",
       "    </tr>\n",
       "    <tr>\n",
       "      <th>1</th>\n",
       "      <td>I00002</td>\n",
       "      <td>A&amp;W Root Beer Diet - 12 oz cans</td>\n",
       "      <td>a. Beverage - Soda</td>\n",
       "      <td>6.75</td>\n",
       "      <td>poland</td>\n",
       "      <td>CHROMADURLIN S.A.S</td>\n",
       "      <td>cans</td>\n",
       "    </tr>\n",
       "    <tr>\n",
       "      <th>2</th>\n",
       "      <td>I00003</td>\n",
       "      <td>Barq's Root Beer - 12 oz cans</td>\n",
       "      <td>a. Beverage - Soda</td>\n",
       "      <td>6.75</td>\n",
       "      <td>Bangladesh</td>\n",
       "      <td>DENIMACH LTD</td>\n",
       "      <td>cans</td>\n",
       "    </tr>\n",
       "    <tr>\n",
       "      <th>3</th>\n",
       "      <td>I00004</td>\n",
       "      <td>Cherry Coke 12oz</td>\n",
       "      <td>a. Beverage - Soda</td>\n",
       "      <td>6.75</td>\n",
       "      <td>Netherlands</td>\n",
       "      <td>Bolsius Boxmeer</td>\n",
       "      <td>cans</td>\n",
       "    </tr>\n",
       "    <tr>\n",
       "      <th>4</th>\n",
       "      <td>I00005</td>\n",
       "      <td>Cherry Coke Zero 12 pack</td>\n",
       "      <td>a. Beverage - Soda</td>\n",
       "      <td>6.75</td>\n",
       "      <td>Finland</td>\n",
       "      <td>HARDFORD AB</td>\n",
       "      <td>cans</td>\n",
       "    </tr>\n",
       "  </tbody>\n",
       "</table>\n",
       "</div>"
      ],
      "text/plain": [
       "  item_key                        item_name                desc unit_price  \\\n",
       "0   I00001       A&W Root Beer - 12 oz cans  a. Beverage - Soda      11.50   \n",
       "1   I00002  A&W Root Beer Diet - 12 oz cans  a. Beverage - Soda       6.75   \n",
       "2   I00003    Barq's Root Beer - 12 oz cans  a. Beverage - Soda       6.75   \n",
       "3   I00004                 Cherry Coke 12oz  a. Beverage - Soda       6.75   \n",
       "4   I00005         Cherry Coke Zero 12 pack  a. Beverage - Soda       6.75   \n",
       "\n",
       "   man_country            supplier  unit  \n",
       "0  Netherlands     Bolsius Boxmeer  cans  \n",
       "1       poland  CHROMADURLIN S.A.S  cans  \n",
       "2   Bangladesh        DENIMACH LTD  cans  \n",
       "3  Netherlands     Bolsius Boxmeer  cans  \n",
       "4      Finland         HARDFORD AB  cans  "
      ]
     },
     "execution_count": 272,
     "metadata": {},
     "output_type": "execute_result"
    }
   ],
   "source": [
    "item_df = pd.DataFrame(list(records), columns=['item_key', 'item_name', 'desc', 'unit_price', 'man_country',\n",
    "       'supplier', 'unit'])\n",
    "item_df.head(5)"
   ]
  },
  {
   "cell_type": "markdown",
   "id": "7c780b26",
   "metadata": {},
   "source": [
    "### Time_dim"
   ]
  },
  {
   "cell_type": "code",
   "execution_count": 176,
   "id": "7077ce67",
   "metadata": {},
   "outputs": [
    {
     "data": {
      "text/plain": [
       "Index(['time_key', 'date', 'hour', 'day', 'week', 'month', 'quarter', 'year'], dtype='object')"
      ]
     },
     "execution_count": 176,
     "metadata": {},
     "output_type": "execute_result"
    }
   ],
   "source": [
    "time_dim.columns"
   ]
  },
  {
   "cell_type": "code",
   "execution_count": 180,
   "id": "6517629b",
   "metadata": {},
   "outputs": [],
   "source": [
    "# insert values into the time_dim\n",
    "insert_stmt = \"INSERT INTO ecomdb.time_dim (time_key, datee, hour, day, week, month, quarter, year)\" \\\n",
    "            \" VALUES (%s, %s, %s, %s, %s, %s, %s, %s)\"\n",
    "cur = con.cursor()\n",
    "psycopg2.extras.execute_batch(cur, insert_stmt, time_dim.values)\n",
    "con.commit()\n",
    "cur.close()"
   ]
  },
  {
   "cell_type": "code",
   "execution_count": 183,
   "id": "f88fdf57",
   "metadata": {},
   "outputs": [
    {
     "name": "stdout",
     "output_type": "stream",
     "text": [
      "successfully connected to database\n"
     ]
    }
   ],
   "source": [
    "con = PostgresConnection().getConnection()\n",
    "cur = con.cursor()\n",
    "select_stmt = \"SELECT time_key, datee, hour, day, week, month, quarter, year \" \\\n",
    "              \"FROM ecomdb.time_dim\"\n",
    "cur.execute(select_stmt)\n",
    "records = cur.fetchall()\n",
    "#records"
   ]
  },
  {
   "cell_type": "code",
   "execution_count": 184,
   "id": "53222706",
   "metadata": {},
   "outputs": [
    {
     "data": {
      "text/html": [
       "<div>\n",
       "<style scoped>\n",
       "    .dataframe tbody tr th:only-of-type {\n",
       "        vertical-align: middle;\n",
       "    }\n",
       "\n",
       "    .dataframe tbody tr th {\n",
       "        vertical-align: top;\n",
       "    }\n",
       "\n",
       "    .dataframe thead th {\n",
       "        text-align: right;\n",
       "    }\n",
       "</style>\n",
       "<table border=\"1\" class=\"dataframe\">\n",
       "  <thead>\n",
       "    <tr style=\"text-align: right;\">\n",
       "      <th></th>\n",
       "      <th>time_key</th>\n",
       "      <th>date</th>\n",
       "      <th>hour</th>\n",
       "      <th>day</th>\n",
       "      <th>week</th>\n",
       "      <th>month</th>\n",
       "      <th>quarter</th>\n",
       "      <th>year</th>\n",
       "    </tr>\n",
       "  </thead>\n",
       "  <tbody>\n",
       "    <tr>\n",
       "      <th>0</th>\n",
       "      <td>T00001</td>\n",
       "      <td>2017-05-20 14:56:00</td>\n",
       "      <td>14</td>\n",
       "      <td>20</td>\n",
       "      <td>3rd Week</td>\n",
       "      <td>5</td>\n",
       "      <td>Q2</td>\n",
       "      <td>2017</td>\n",
       "    </tr>\n",
       "    <tr>\n",
       "      <th>1</th>\n",
       "      <td>T00002</td>\n",
       "      <td>2015-01-30 22:14:00</td>\n",
       "      <td>22</td>\n",
       "      <td>30</td>\n",
       "      <td>4th Week</td>\n",
       "      <td>1</td>\n",
       "      <td>Q1</td>\n",
       "      <td>2015</td>\n",
       "    </tr>\n",
       "    <tr>\n",
       "      <th>2</th>\n",
       "      <td>T00003</td>\n",
       "      <td>2020-03-14 02:34:00</td>\n",
       "      <td>2</td>\n",
       "      <td>14</td>\n",
       "      <td>2nd Week</td>\n",
       "      <td>3</td>\n",
       "      <td>Q1</td>\n",
       "      <td>2020</td>\n",
       "    </tr>\n",
       "    <tr>\n",
       "      <th>3</th>\n",
       "      <td>T00004</td>\n",
       "      <td>2018-04-27 12:19:00</td>\n",
       "      <td>12</td>\n",
       "      <td>27</td>\n",
       "      <td>4th Week</td>\n",
       "      <td>4</td>\n",
       "      <td>Q2</td>\n",
       "      <td>2018</td>\n",
       "    </tr>\n",
       "    <tr>\n",
       "      <th>4</th>\n",
       "      <td>T00005</td>\n",
       "      <td>2018-04-14 10:43:00</td>\n",
       "      <td>10</td>\n",
       "      <td>14</td>\n",
       "      <td>2nd Week</td>\n",
       "      <td>4</td>\n",
       "      <td>Q2</td>\n",
       "      <td>2018</td>\n",
       "    </tr>\n",
       "  </tbody>\n",
       "</table>\n",
       "</div>"
      ],
      "text/plain": [
       "  time_key                date  hour  day      week  month quarter  year\n",
       "0   T00001 2017-05-20 14:56:00    14   20  3rd Week      5      Q2  2017\n",
       "1   T00002 2015-01-30 22:14:00    22   30  4th Week      1      Q1  2015\n",
       "2   T00003 2020-03-14 02:34:00     2   14  2nd Week      3      Q1  2020\n",
       "3   T00004 2018-04-27 12:19:00    12   27  4th Week      4      Q2  2018\n",
       "4   T00005 2018-04-14 10:43:00    10   14  2nd Week      4      Q2  2018"
      ]
     },
     "execution_count": 184,
     "metadata": {},
     "output_type": "execute_result"
    }
   ],
   "source": [
    "time_df = pd.DataFrame(list(records), columns=['time_key', 'date', 'hour', 'day', 'week', 'month', 'quarter', 'year'])\n",
    "time_df.head(5)"
   ]
  },
  {
   "cell_type": "markdown",
   "id": "1bd72bf3",
   "metadata": {},
   "source": [
    "### Fact_data"
   ]
  },
  {
   "cell_type": "code",
   "execution_count": 259,
   "id": "a72e6dc5",
   "metadata": {},
   "outputs": [
    {
     "data": {
      "text/plain": [
       "Index(['payment_key', 'coustomer_key', 'time_key', 'item_key', 'store_key',\n",
       "       'quantity', 'unit', 'unit_price', 'total_price'],\n",
       "      dtype='object')"
      ]
     },
     "execution_count": 259,
     "metadata": {},
     "output_type": "execute_result"
    }
   ],
   "source": [
    "fact_data.columns"
   ]
  },
  {
   "cell_type": "code",
   "execution_count": 276,
   "id": "caa2c710",
   "metadata": {},
   "outputs": [],
   "source": [
    "# insert values into the fact_table\n",
    "insert_stmt = \"INSERT INTO ecomdb.fact_table (payment_key, customer_key, time_key, item_key, store_key, quantity, unit, unit_price, total_price)\" \\\n",
    "            \" VALUES (%s, %s, %s, %s, %s, %s, %s, %s, %s)\"\n",
    "cur = con.cursor()\n",
    "psycopg2.extras.execute_batch(cur, insert_stmt, fact_data.values)\n",
    "con.commit()\n",
    "cur.close()"
   ]
  },
  {
   "cell_type": "code",
   "execution_count": 278,
   "id": "38493d44",
   "metadata": {},
   "outputs": [
    {
     "name": "stdout",
     "output_type": "stream",
     "text": [
      "successfully connected to database\n"
     ]
    }
   ],
   "source": [
    "con = PostgresConnection().getConnection()\n",
    "cur = con.cursor()\n",
    "select_stmt = \"SELECT payment_key, customer_key, time_key, item_key, store_key, quantity, unit, unit_price, total_price \" \\\n",
    "              \"FROM ecomdb.fact_table\"\n",
    "cur.execute(select_stmt)\n",
    "records = cur.fetchall()\n",
    "#records"
   ]
  },
  {
   "cell_type": "code",
   "execution_count": 279,
   "id": "3b9334c4",
   "metadata": {},
   "outputs": [
    {
     "data": {
      "text/html": [
       "<div>\n",
       "<style scoped>\n",
       "    .dataframe tbody tr th:only-of-type {\n",
       "        vertical-align: middle;\n",
       "    }\n",
       "\n",
       "    .dataframe tbody tr th {\n",
       "        vertical-align: top;\n",
       "    }\n",
       "\n",
       "    .dataframe thead th {\n",
       "        text-align: right;\n",
       "    }\n",
       "</style>\n",
       "<table border=\"1\" class=\"dataframe\">\n",
       "  <thead>\n",
       "    <tr style=\"text-align: right;\">\n",
       "      <th></th>\n",
       "      <th>payment_key</th>\n",
       "      <th>coustomer_key</th>\n",
       "      <th>time_key</th>\n",
       "      <th>item_key</th>\n",
       "      <th>store_key</th>\n",
       "      <th>quantity</th>\n",
       "      <th>unit</th>\n",
       "      <th>unit_price</th>\n",
       "      <th>total_price</th>\n",
       "    </tr>\n",
       "  </thead>\n",
       "  <tbody>\n",
       "    <tr>\n",
       "      <th>0</th>\n",
       "      <td>P026</td>\n",
       "      <td>C004510</td>\n",
       "      <td>T049189</td>\n",
       "      <td>I00177</td>\n",
       "      <td>S00307</td>\n",
       "      <td>1</td>\n",
       "      <td>ct</td>\n",
       "      <td>35.00</td>\n",
       "      <td>35.00</td>\n",
       "    </tr>\n",
       "    <tr>\n",
       "      <th>1</th>\n",
       "      <td>P022</td>\n",
       "      <td>C008967</td>\n",
       "      <td>T041209</td>\n",
       "      <td>I00248</td>\n",
       "      <td>S00595</td>\n",
       "      <td>1</td>\n",
       "      <td>rolls</td>\n",
       "      <td>26.00</td>\n",
       "      <td>26.00</td>\n",
       "    </tr>\n",
       "    <tr>\n",
       "      <th>2</th>\n",
       "      <td>P030</td>\n",
       "      <td>C007261</td>\n",
       "      <td>T03633</td>\n",
       "      <td>I00195</td>\n",
       "      <td>S00496</td>\n",
       "      <td>8</td>\n",
       "      <td>ct</td>\n",
       "      <td>12.50</td>\n",
       "      <td>100.00</td>\n",
       "    </tr>\n",
       "    <tr>\n",
       "      <th>3</th>\n",
       "      <td>P032</td>\n",
       "      <td>C007048</td>\n",
       "      <td>T084631</td>\n",
       "      <td>I00131</td>\n",
       "      <td>S0086</td>\n",
       "      <td>8</td>\n",
       "      <td>ct</td>\n",
       "      <td>14.00</td>\n",
       "      <td>112.00</td>\n",
       "    </tr>\n",
       "    <tr>\n",
       "      <th>4</th>\n",
       "      <td>P014</td>\n",
       "      <td>C006430</td>\n",
       "      <td>T071276</td>\n",
       "      <td>I00050</td>\n",
       "      <td>S00488</td>\n",
       "      <td>8</td>\n",
       "      <td>cans</td>\n",
       "      <td>8.00</td>\n",
       "      <td>64.00</td>\n",
       "    </tr>\n",
       "  </tbody>\n",
       "</table>\n",
       "</div>"
      ],
      "text/plain": [
       "  payment_key coustomer_key time_key item_key store_key  quantity   unit  \\\n",
       "0        P026       C004510  T049189   I00177    S00307         1     ct   \n",
       "1        P022       C008967  T041209   I00248    S00595         1  rolls   \n",
       "2        P030       C007261   T03633   I00195    S00496         8     ct   \n",
       "3        P032       C007048  T084631   I00131     S0086         8     ct   \n",
       "4        P014       C006430  T071276   I00050    S00488         8   cans   \n",
       "\n",
       "  unit_price total_price  \n",
       "0      35.00       35.00  \n",
       "1      26.00       26.00  \n",
       "2      12.50      100.00  \n",
       "3      14.00      112.00  \n",
       "4       8.00       64.00  "
      ]
     },
     "execution_count": 279,
     "metadata": {},
     "output_type": "execute_result"
    }
   ],
   "source": [
    "fact_df = pd.DataFrame(list(records), columns=['payment_key', 'coustomer_key', 'time_key', 'item_key', 'store_key',\n",
    "       'quantity', 'unit', 'unit_price', 'total_price'])\n",
    "fact_df.head(5)"
   ]
  },
  {
   "cell_type": "code",
   "execution_count": null,
   "id": "44dce683",
   "metadata": {},
   "outputs": [],
   "source": []
  }
 ],
 "metadata": {
  "kernelspec": {
   "display_name": "Python 3 (ipykernel)",
   "language": "python",
   "name": "python3"
  },
  "language_info": {
   "codemirror_mode": {
    "name": "ipython",
    "version": 3
   },
   "file_extension": ".py",
   "mimetype": "text/x-python",
   "name": "python",
   "nbconvert_exporter": "python",
   "pygments_lexer": "ipython3",
   "version": "3.7.8"
  }
 },
 "nbformat": 4,
 "nbformat_minor": 5
}
