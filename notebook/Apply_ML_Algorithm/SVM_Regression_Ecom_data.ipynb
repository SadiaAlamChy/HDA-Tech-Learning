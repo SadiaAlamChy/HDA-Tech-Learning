{
 "cells": [
  {
   "cell_type": "code",
   "execution_count": 104,
   "id": "d383c996",
   "metadata": {},
   "outputs": [],
   "source": [
    "import psycopg2\n",
    "import pandas as pd\n",
    "import psycopg2.extras\n",
    " \n",
    "import pandas as pd\n",
    "import numpy as np\n",
    "import matplotlib.pyplot as plt\n",
    "\n",
    "from sklearn.svm import SVC\n",
    "from sklearn.model_selection import train_test_split\n",
    "from sklearn.metrics import classification_report\n",
    "from sklearn.preprocessing import StandardScaler, normalize\n",
    "\n",
    "from sklearn.linear_model import  LinearRegression"
   ]
  },
  {
   "cell_type": "code",
   "execution_count": 2,
   "id": "9bec3a21",
   "metadata": {},
   "outputs": [],
   "source": [
    "class PostgresConnection(object):\n",
    "    def __init__(self):\n",
    "        self.connection = psycopg2.connect(database=\"ecomdb\",\n",
    "                                           user = \"postgres\",\n",
    "                                           password = \"123456\",\n",
    "                                           host = \"127.0.0.1\",\n",
    "                                           port = \"5432\")\n",
    "\n",
    "    def getConnection(self):\n",
    "        print(\"successfully connected to database\")\n",
    "        return self.connection\n",
    "    \n",
    "    \n",
    "# con = PostgresConnection().getConnection()    "
   ]
  },
  {
   "cell_type": "markdown",
   "id": "77b5dbd9",
   "metadata": {},
   "source": [
    "### Common Function to fetch Data from all tables "
   ]
  },
  {
   "cell_type": "code",
   "execution_count": 3,
   "id": "05854ec4",
   "metadata": {},
   "outputs": [],
   "source": [
    "\n",
    "#  select_stmt= is the SQL select query along with  table and column name    \n",
    "def retrive_data_from_table(select_stmt): \n",
    "    con = PostgresConnection().getConnection()\n",
    "    cur = con.cursor()\n",
    "    #select_stmt = select_stmt = \"SELECT * FROM :{} \".formate(tablename)\n",
    "    cur.execute(select_stmt)\n",
    "    records = cur.fetchall()\n",
    "    return records\n"
   ]
  },
  {
   "cell_type": "code",
   "execution_count": 4,
   "id": "02c43850",
   "metadata": {
    "scrolled": true
   },
   "outputs": [
    {
     "name": "stdout",
     "output_type": "stream",
     "text": [
      "successfully connected to database\n"
     ]
    },
    {
     "data": {
      "text/html": [
       "<div>\n",
       "<style scoped>\n",
       "    .dataframe tbody tr th:only-of-type {\n",
       "        vertical-align: middle;\n",
       "    }\n",
       "\n",
       "    .dataframe tbody tr th {\n",
       "        vertical-align: top;\n",
       "    }\n",
       "\n",
       "    .dataframe thead th {\n",
       "        text-align: right;\n",
       "    }\n",
       "</style>\n",
       "<table border=\"1\" class=\"dataframe\">\n",
       "  <thead>\n",
       "    <tr style=\"text-align: right;\">\n",
       "      <th></th>\n",
       "      <th>Item</th>\n",
       "      <th>Month</th>\n",
       "      <th>year</th>\n",
       "      <th>Total Sales</th>\n",
       "    </tr>\n",
       "  </thead>\n",
       "  <tbody>\n",
       "    <tr>\n",
       "      <th>0</th>\n",
       "      <td>I00001</td>\n",
       "      <td>1</td>\n",
       "      <td>2014</td>\n",
       "      <td>1518.0</td>\n",
       "    </tr>\n",
       "    <tr>\n",
       "      <th>1</th>\n",
       "      <td>I00001</td>\n",
       "      <td>1</td>\n",
       "      <td>2015</td>\n",
       "      <td>3473.0</td>\n",
       "    </tr>\n",
       "    <tr>\n",
       "      <th>2</th>\n",
       "      <td>I00001</td>\n",
       "      <td>1</td>\n",
       "      <td>2016</td>\n",
       "      <td>3036.0</td>\n",
       "    </tr>\n",
       "    <tr>\n",
       "      <th>3</th>\n",
       "      <td>I00001</td>\n",
       "      <td>1</td>\n",
       "      <td>2017</td>\n",
       "      <td>3438.5</td>\n",
       "    </tr>\n",
       "    <tr>\n",
       "      <th>4</th>\n",
       "      <td>I00001</td>\n",
       "      <td>1</td>\n",
       "      <td>2018</td>\n",
       "      <td>3990.5</td>\n",
       "    </tr>\n",
       "    <tr>\n",
       "      <th>...</th>\n",
       "      <td>...</td>\n",
       "      <td>...</td>\n",
       "      <td>...</td>\n",
       "      <td>...</td>\n",
       "    </tr>\n",
       "    <tr>\n",
       "      <th>22435</th>\n",
       "      <td>I00264</td>\n",
       "      <td>12</td>\n",
       "      <td>2016</td>\n",
       "      <td>3555.0</td>\n",
       "    </tr>\n",
       "    <tr>\n",
       "      <th>22436</th>\n",
       "      <td>I00264</td>\n",
       "      <td>12</td>\n",
       "      <td>2017</td>\n",
       "      <td>3465.0</td>\n",
       "    </tr>\n",
       "    <tr>\n",
       "      <th>22437</th>\n",
       "      <td>I00264</td>\n",
       "      <td>12</td>\n",
       "      <td>2018</td>\n",
       "      <td>4680.0</td>\n",
       "    </tr>\n",
       "    <tr>\n",
       "      <th>22438</th>\n",
       "      <td>I00264</td>\n",
       "      <td>12</td>\n",
       "      <td>2019</td>\n",
       "      <td>3600.0</td>\n",
       "    </tr>\n",
       "    <tr>\n",
       "      <th>22439</th>\n",
       "      <td>I00264</td>\n",
       "      <td>12</td>\n",
       "      <td>2020</td>\n",
       "      <td>6390.0</td>\n",
       "    </tr>\n",
       "  </tbody>\n",
       "</table>\n",
       "<p>22440 rows × 4 columns</p>\n",
       "</div>"
      ],
      "text/plain": [
       "         Item  Month  year Total Sales\n",
       "0      I00001      1  2014      1518.0\n",
       "1      I00001      1  2015      3473.0\n",
       "2      I00001      1  2016      3036.0\n",
       "3      I00001      1  2017      3438.5\n",
       "4      I00001      1  2018      3990.5\n",
       "...       ...    ...   ...         ...\n",
       "22435  I00264     12  2016      3555.0\n",
       "22436  I00264     12  2017      3465.0\n",
       "22437  I00264     12  2018      4680.0\n",
       "22438  I00264     12  2019      3600.0\n",
       "22439  I00264     12  2020      6390.0\n",
       "\n",
       "[22440 rows x 4 columns]"
      ]
     },
     "execution_count": 4,
     "metadata": {},
     "output_type": "execute_result"
    }
   ],
   "source": [
    "select_stmt = \"select t4.item_key, t2.month, t2.year, sum(t1.total_price) \"\\\n",
    "              \"from ecomdb_star_schema.fact_table t1 \"\\\n",
    "              \"join ecomdb_star_schema.time_dim t2 on t1.time_key = t2.time_key \"\\\n",
    "              \"join ecomdb_star_schema.item_dim t4 on t4.item_key = t1.item_key \"\\\n",
    "              \"group by(t4.item_key, t2.month, t2.year) \"\\\n",
    "\n",
    "records = retrive_data_from_table(select_stmt)\n",
    "df = pd.DataFrame(list(records), columns=['Item', 'Month', 'year', 'Total Sales'])\n",
    "\n",
    "df"
   ]
  },
  {
   "cell_type": "code",
   "execution_count": 5,
   "id": "1a3e7020",
   "metadata": {
    "scrolled": true
   },
   "outputs": [
    {
     "data": {
      "text/html": [
       "<div>\n",
       "<style scoped>\n",
       "    .dataframe tbody tr th:only-of-type {\n",
       "        vertical-align: middle;\n",
       "    }\n",
       "\n",
       "    .dataframe tbody tr th {\n",
       "        vertical-align: top;\n",
       "    }\n",
       "\n",
       "    .dataframe thead th {\n",
       "        text-align: right;\n",
       "    }\n",
       "</style>\n",
       "<table border=\"1\" class=\"dataframe\">\n",
       "  <thead>\n",
       "    <tr style=\"text-align: right;\">\n",
       "      <th></th>\n",
       "      <th>Item</th>\n",
       "      <th>Month</th>\n",
       "      <th>year</th>\n",
       "      <th>Total Sales</th>\n",
       "    </tr>\n",
       "  </thead>\n",
       "  <tbody>\n",
       "    <tr>\n",
       "      <th>0</th>\n",
       "      <td>1</td>\n",
       "      <td>1</td>\n",
       "      <td>2014</td>\n",
       "      <td>1518</td>\n",
       "    </tr>\n",
       "    <tr>\n",
       "      <th>1</th>\n",
       "      <td>1</td>\n",
       "      <td>1</td>\n",
       "      <td>2015</td>\n",
       "      <td>3473</td>\n",
       "    </tr>\n",
       "    <tr>\n",
       "      <th>2</th>\n",
       "      <td>1</td>\n",
       "      <td>1</td>\n",
       "      <td>2016</td>\n",
       "      <td>3036</td>\n",
       "    </tr>\n",
       "    <tr>\n",
       "      <th>3</th>\n",
       "      <td>1</td>\n",
       "      <td>1</td>\n",
       "      <td>2017</td>\n",
       "      <td>3438</td>\n",
       "    </tr>\n",
       "    <tr>\n",
       "      <th>4</th>\n",
       "      <td>1</td>\n",
       "      <td>1</td>\n",
       "      <td>2018</td>\n",
       "      <td>3990</td>\n",
       "    </tr>\n",
       "    <tr>\n",
       "      <th>...</th>\n",
       "      <td>...</td>\n",
       "      <td>...</td>\n",
       "      <td>...</td>\n",
       "      <td>...</td>\n",
       "    </tr>\n",
       "    <tr>\n",
       "      <th>22435</th>\n",
       "      <td>264</td>\n",
       "      <td>12</td>\n",
       "      <td>2016</td>\n",
       "      <td>3555</td>\n",
       "    </tr>\n",
       "    <tr>\n",
       "      <th>22436</th>\n",
       "      <td>264</td>\n",
       "      <td>12</td>\n",
       "      <td>2017</td>\n",
       "      <td>3465</td>\n",
       "    </tr>\n",
       "    <tr>\n",
       "      <th>22437</th>\n",
       "      <td>264</td>\n",
       "      <td>12</td>\n",
       "      <td>2018</td>\n",
       "      <td>4680</td>\n",
       "    </tr>\n",
       "    <tr>\n",
       "      <th>22438</th>\n",
       "      <td>264</td>\n",
       "      <td>12</td>\n",
       "      <td>2019</td>\n",
       "      <td>3600</td>\n",
       "    </tr>\n",
       "    <tr>\n",
       "      <th>22439</th>\n",
       "      <td>264</td>\n",
       "      <td>12</td>\n",
       "      <td>2020</td>\n",
       "      <td>6390</td>\n",
       "    </tr>\n",
       "  </tbody>\n",
       "</table>\n",
       "<p>22440 rows × 4 columns</p>\n",
       "</div>"
      ],
      "text/plain": [
       "       Item  Month  year  Total Sales\n",
       "0         1      1  2014         1518\n",
       "1         1      1  2015         3473\n",
       "2         1      1  2016         3036\n",
       "3         1      1  2017         3438\n",
       "4         1      1  2018         3990\n",
       "...     ...    ...   ...          ...\n",
       "22435   264     12  2016         3555\n",
       "22436   264     12  2017         3465\n",
       "22437   264     12  2018         4680\n",
       "22438   264     12  2019         3600\n",
       "22439   264     12  2020         6390\n",
       "\n",
       "[22440 rows x 4 columns]"
      ]
     },
     "execution_count": 5,
     "metadata": {},
     "output_type": "execute_result"
    }
   ],
   "source": [
    "df['Total Sales'] = df['Total Sales'].astype('int64')\n",
    "df['Item'] = df['Item'].map(lambda x: x.lstrip('I00').rstrip('aAbBcC'))\n",
    "df['Item'] = df['Item'].astype('int64')\n",
    "df"
   ]
  },
  {
   "cell_type": "code",
   "execution_count": 6,
   "id": "1afaa2ad",
   "metadata": {},
   "outputs": [
    {
     "data": {
      "text/html": [
       "<div>\n",
       "<style scoped>\n",
       "    .dataframe tbody tr th:only-of-type {\n",
       "        vertical-align: middle;\n",
       "    }\n",
       "\n",
       "    .dataframe tbody tr th {\n",
       "        vertical-align: top;\n",
       "    }\n",
       "\n",
       "    .dataframe thead th {\n",
       "        text-align: right;\n",
       "    }\n",
       "</style>\n",
       "<table border=\"1\" class=\"dataframe\">\n",
       "  <thead>\n",
       "    <tr style=\"text-align: right;\">\n",
       "      <th></th>\n",
       "      <th>Item</th>\n",
       "      <th>Month</th>\n",
       "      <th>year</th>\n",
       "      <th>Total Sales</th>\n",
       "    </tr>\n",
       "  </thead>\n",
       "  <tbody>\n",
       "    <tr>\n",
       "      <th>count</th>\n",
       "      <td>22440.000000</td>\n",
       "      <td>22440.000000</td>\n",
       "      <td>22440.000000</td>\n",
       "      <td>22440.000000</td>\n",
       "    </tr>\n",
       "    <tr>\n",
       "      <th>mean</th>\n",
       "      <td>132.500000</td>\n",
       "      <td>6.435294</td>\n",
       "      <td>2017.047059</td>\n",
       "      <td>4696.975535</td>\n",
       "    </tr>\n",
       "    <tr>\n",
       "      <th>std</th>\n",
       "      <td>76.211387</td>\n",
       "      <td>3.482629</td>\n",
       "      <td>2.034489</td>\n",
       "      <td>2527.284630</td>\n",
       "    </tr>\n",
       "    <tr>\n",
       "      <th>min</th>\n",
       "      <td>1.000000</td>\n",
       "      <td>1.000000</td>\n",
       "      <td>2014.000000</td>\n",
       "      <td>420.000000</td>\n",
       "    </tr>\n",
       "    <tr>\n",
       "      <th>25%</th>\n",
       "      <td>66.750000</td>\n",
       "      <td>3.000000</td>\n",
       "      <td>2015.000000</td>\n",
       "      <td>3234.000000</td>\n",
       "    </tr>\n",
       "    <tr>\n",
       "      <th>50%</th>\n",
       "      <td>132.500000</td>\n",
       "      <td>6.000000</td>\n",
       "      <td>2017.000000</td>\n",
       "      <td>4230.000000</td>\n",
       "    </tr>\n",
       "    <tr>\n",
       "      <th>75%</th>\n",
       "      <td>198.250000</td>\n",
       "      <td>9.000000</td>\n",
       "      <td>2019.000000</td>\n",
       "      <td>5400.000000</td>\n",
       "    </tr>\n",
       "    <tr>\n",
       "      <th>max</th>\n",
       "      <td>264.000000</td>\n",
       "      <td>12.000000</td>\n",
       "      <td>2021.000000</td>\n",
       "      <td>21200.000000</td>\n",
       "    </tr>\n",
       "  </tbody>\n",
       "</table>\n",
       "</div>"
      ],
      "text/plain": [
       "               Item         Month          year   Total Sales\n",
       "count  22440.000000  22440.000000  22440.000000  22440.000000\n",
       "mean     132.500000      6.435294   2017.047059   4696.975535\n",
       "std       76.211387      3.482629      2.034489   2527.284630\n",
       "min        1.000000      1.000000   2014.000000    420.000000\n",
       "25%       66.750000      3.000000   2015.000000   3234.000000\n",
       "50%      132.500000      6.000000   2017.000000   4230.000000\n",
       "75%      198.250000      9.000000   2019.000000   5400.000000\n",
       "max      264.000000     12.000000   2021.000000  21200.000000"
      ]
     },
     "execution_count": 6,
     "metadata": {},
     "output_type": "execute_result"
    }
   ],
   "source": [
    "df.describe()"
   ]
  },
  {
   "cell_type": "code",
   "execution_count": 8,
   "id": "d748f01c",
   "metadata": {},
   "outputs": [
    {
     "data": {
      "text/plain": [
       "Item           int64\n",
       "Month          int64\n",
       "year           int64\n",
       "Total Sales    int64\n",
       "dtype: object"
      ]
     },
     "execution_count": 8,
     "metadata": {},
     "output_type": "execute_result"
    }
   ],
   "source": [
    "df.dtypes"
   ]
  },
  {
   "cell_type": "code",
   "execution_count": 9,
   "id": "b45606a4",
   "metadata": {
    "scrolled": true
   },
   "outputs": [
    {
     "data": {
      "text/plain": [
       "Item           0\n",
       "Month          0\n",
       "year           0\n",
       "Total Sales    0\n",
       "dtype: int64"
      ]
     },
     "execution_count": 9,
     "metadata": {},
     "output_type": "execute_result"
    }
   ],
   "source": [
    "df.isnull().sum()"
   ]
  },
  {
   "cell_type": "code",
   "execution_count": 10,
   "id": "c37cabf3",
   "metadata": {},
   "outputs": [
    {
     "data": {
      "text/plain": [
       "array([2014, 2015, 2016, 2017, 2018, 2019, 2020, 2021], dtype=int64)"
      ]
     },
     "execution_count": 10,
     "metadata": {},
     "output_type": "execute_result"
    }
   ],
   "source": [
    "df['year'].unique()"
   ]
  },
  {
   "cell_type": "code",
   "execution_count": 14,
   "id": "a3f28af4",
   "metadata": {},
   "outputs": [
    {
     "data": {
      "text/plain": [
       "array([  1,   2,   3,   4,   5,   6,   7,   8,   9,  10,  11,  12,  13,\n",
       "        14,  15,  16,  17,  18,  19,  20,  21,  22,  23,  24,  25,  26,\n",
       "        27,  28,  29,  30,  31,  32,  33,  34,  35,  36,  37,  38,  39,\n",
       "        40,  41,  42,  43,  44,  45,  46,  47,  48,  49,  50,  51,  52,\n",
       "        53,  54,  55,  56,  57,  58,  59,  60,  61,  62,  63,  64,  65,\n",
       "        66,  67,  68,  69,  70,  71,  72,  73,  74,  75,  76,  77,  78,\n",
       "        79,  80,  81,  82,  83,  84,  85,  86,  87,  88,  89,  90,  91,\n",
       "        92,  93,  94,  95,  96,  97,  98,  99, 100, 101, 102, 103, 104,\n",
       "       105, 106, 107, 108, 109, 110, 111, 112, 113, 114, 115, 116, 117,\n",
       "       118, 119, 120, 121, 122, 123, 124, 125, 126, 127, 128, 129, 130,\n",
       "       131, 132, 133, 134, 135, 136, 137, 138, 139, 140, 141, 142, 143,\n",
       "       144, 145, 146, 147, 148, 149, 150, 151, 152, 153, 154, 155, 156,\n",
       "       157, 158, 159, 160, 161, 162, 163, 164, 165, 166, 167, 168, 169,\n",
       "       170, 171, 172, 173, 174, 175, 176, 177, 178, 179, 180, 181, 182,\n",
       "       183, 184, 185, 186, 187, 188, 189, 190, 191, 192, 193, 194, 195,\n",
       "       196, 197, 198, 199, 200, 201, 202, 203, 204, 205, 206, 207, 208,\n",
       "       209, 210, 211, 212, 213, 214, 215, 216, 217, 218, 219, 220, 221,\n",
       "       222, 223, 224, 225, 226, 227, 228, 229, 230, 231, 232, 233, 234,\n",
       "       235, 236, 237, 238, 239, 240, 241, 242, 243, 244, 245, 246, 247,\n",
       "       248, 249, 250, 251, 252, 253, 254, 255, 256, 257, 258, 259, 260,\n",
       "       261, 262, 263, 264], dtype=int64)"
      ]
     },
     "execution_count": 14,
     "metadata": {},
     "output_type": "execute_result"
    }
   ],
   "source": [
    "df['Item'].unique()"
   ]
  },
  {
   "cell_type": "code",
   "execution_count": 12,
   "id": "a2cccd48",
   "metadata": {},
   "outputs": [
    {
     "data": {
      "text/html": [
       "<div>\n",
       "<style scoped>\n",
       "    .dataframe tbody tr th:only-of-type {\n",
       "        vertical-align: middle;\n",
       "    }\n",
       "\n",
       "    .dataframe tbody tr th {\n",
       "        vertical-align: top;\n",
       "    }\n",
       "\n",
       "    .dataframe thead th {\n",
       "        text-align: right;\n",
       "    }\n",
       "</style>\n",
       "<table border=\"1\" class=\"dataframe\">\n",
       "  <thead>\n",
       "    <tr style=\"text-align: right;\">\n",
       "      <th></th>\n",
       "      <th>Item</th>\n",
       "      <th>Month</th>\n",
       "      <th>year</th>\n",
       "      <th>Total Sales</th>\n",
       "    </tr>\n",
       "  </thead>\n",
       "  <tbody>\n",
       "    <tr>\n",
       "      <th>0</th>\n",
       "      <td>1</td>\n",
       "      <td>1</td>\n",
       "      <td>2014</td>\n",
       "      <td>1518</td>\n",
       "    </tr>\n",
       "    <tr>\n",
       "      <th>1</th>\n",
       "      <td>1</td>\n",
       "      <td>1</td>\n",
       "      <td>2015</td>\n",
       "      <td>3473</td>\n",
       "    </tr>\n",
       "    <tr>\n",
       "      <th>2</th>\n",
       "      <td>1</td>\n",
       "      <td>1</td>\n",
       "      <td>2016</td>\n",
       "      <td>3036</td>\n",
       "    </tr>\n",
       "    <tr>\n",
       "      <th>3</th>\n",
       "      <td>1</td>\n",
       "      <td>1</td>\n",
       "      <td>2017</td>\n",
       "      <td>3438</td>\n",
       "    </tr>\n",
       "    <tr>\n",
       "      <th>4</th>\n",
       "      <td>1</td>\n",
       "      <td>1</td>\n",
       "      <td>2018</td>\n",
       "      <td>3990</td>\n",
       "    </tr>\n",
       "    <tr>\n",
       "      <th>...</th>\n",
       "      <td>...</td>\n",
       "      <td>...</td>\n",
       "      <td>...</td>\n",
       "      <td>...</td>\n",
       "    </tr>\n",
       "    <tr>\n",
       "      <th>80</th>\n",
       "      <td>1</td>\n",
       "      <td>12</td>\n",
       "      <td>2016</td>\n",
       "      <td>2978</td>\n",
       "    </tr>\n",
       "    <tr>\n",
       "      <th>81</th>\n",
       "      <td>1</td>\n",
       "      <td>12</td>\n",
       "      <td>2017</td>\n",
       "      <td>2794</td>\n",
       "    </tr>\n",
       "    <tr>\n",
       "      <th>82</th>\n",
       "      <td>1</td>\n",
       "      <td>12</td>\n",
       "      <td>2018</td>\n",
       "      <td>2955</td>\n",
       "    </tr>\n",
       "    <tr>\n",
       "      <th>83</th>\n",
       "      <td>1</td>\n",
       "      <td>12</td>\n",
       "      <td>2019</td>\n",
       "      <td>2426</td>\n",
       "    </tr>\n",
       "    <tr>\n",
       "      <th>84</th>\n",
       "      <td>1</td>\n",
       "      <td>12</td>\n",
       "      <td>2020</td>\n",
       "      <td>3599</td>\n",
       "    </tr>\n",
       "  </tbody>\n",
       "</table>\n",
       "<p>85 rows × 4 columns</p>\n",
       "</div>"
      ],
      "text/plain": [
       "    Item  Month  year  Total Sales\n",
       "0      1      1  2014         1518\n",
       "1      1      1  2015         3473\n",
       "2      1      1  2016         3036\n",
       "3      1      1  2017         3438\n",
       "4      1      1  2018         3990\n",
       "..   ...    ...   ...          ...\n",
       "80     1     12  2016         2978\n",
       "81     1     12  2017         2794\n",
       "82     1     12  2018         2955\n",
       "83     1     12  2019         2426\n",
       "84     1     12  2020         3599\n",
       "\n",
       "[85 rows x 4 columns]"
      ]
     },
     "execution_count": 12,
     "metadata": {},
     "output_type": "execute_result"
    }
   ],
   "source": [
    "df1 = df[df['Item'] == 1]\n",
    "df1"
   ]
  },
  {
   "cell_type": "code",
   "execution_count": 13,
   "id": "90df3e45",
   "metadata": {},
   "outputs": [
    {
     "data": {
      "text/html": [
       "<div>\n",
       "<style scoped>\n",
       "    .dataframe tbody tr th:only-of-type {\n",
       "        vertical-align: middle;\n",
       "    }\n",
       "\n",
       "    .dataframe tbody tr th {\n",
       "        vertical-align: top;\n",
       "    }\n",
       "\n",
       "    .dataframe thead th {\n",
       "        text-align: right;\n",
       "    }\n",
       "</style>\n",
       "<table border=\"1\" class=\"dataframe\">\n",
       "  <thead>\n",
       "    <tr style=\"text-align: right;\">\n",
       "      <th></th>\n",
       "      <th>Item</th>\n",
       "      <th>Month</th>\n",
       "      <th>year</th>\n",
       "      <th>Total Sales</th>\n",
       "    </tr>\n",
       "  </thead>\n",
       "  <tbody>\n",
       "    <tr>\n",
       "      <th>7</th>\n",
       "      <td>1</td>\n",
       "      <td>1</td>\n",
       "      <td>2021</td>\n",
       "      <td>1943</td>\n",
       "    </tr>\n",
       "    <tr>\n",
       "      <th>92</th>\n",
       "      <td>2</td>\n",
       "      <td>1</td>\n",
       "      <td>2021</td>\n",
       "      <td>1917</td>\n",
       "    </tr>\n",
       "    <tr>\n",
       "      <th>177</th>\n",
       "      <td>3</td>\n",
       "      <td>1</td>\n",
       "      <td>2021</td>\n",
       "      <td>1255</td>\n",
       "    </tr>\n",
       "    <tr>\n",
       "      <th>262</th>\n",
       "      <td>4</td>\n",
       "      <td>1</td>\n",
       "      <td>2021</td>\n",
       "      <td>1316</td>\n",
       "    </tr>\n",
       "    <tr>\n",
       "      <th>347</th>\n",
       "      <td>5</td>\n",
       "      <td>1</td>\n",
       "      <td>2021</td>\n",
       "      <td>1302</td>\n",
       "    </tr>\n",
       "    <tr>\n",
       "      <th>...</th>\n",
       "      <td>...</td>\n",
       "      <td>...</td>\n",
       "      <td>...</td>\n",
       "      <td>...</td>\n",
       "    </tr>\n",
       "    <tr>\n",
       "      <th>22022</th>\n",
       "      <td>260</td>\n",
       "      <td>1</td>\n",
       "      <td>2021</td>\n",
       "      <td>2430</td>\n",
       "    </tr>\n",
       "    <tr>\n",
       "      <th>22107</th>\n",
       "      <td>261</td>\n",
       "      <td>1</td>\n",
       "      <td>2021</td>\n",
       "      <td>6864</td>\n",
       "    </tr>\n",
       "    <tr>\n",
       "      <th>22192</th>\n",
       "      <td>262</td>\n",
       "      <td>1</td>\n",
       "      <td>2021</td>\n",
       "      <td>2338</td>\n",
       "    </tr>\n",
       "    <tr>\n",
       "      <th>22277</th>\n",
       "      <td>263</td>\n",
       "      <td>1</td>\n",
       "      <td>2021</td>\n",
       "      <td>1834</td>\n",
       "    </tr>\n",
       "    <tr>\n",
       "      <th>22362</th>\n",
       "      <td>264</td>\n",
       "      <td>1</td>\n",
       "      <td>2021</td>\n",
       "      <td>2910</td>\n",
       "    </tr>\n",
       "  </tbody>\n",
       "</table>\n",
       "<p>264 rows × 4 columns</p>\n",
       "</div>"
      ],
      "text/plain": [
       "       Item  Month  year  Total Sales\n",
       "7         1      1  2021         1943\n",
       "92        2      1  2021         1917\n",
       "177       3      1  2021         1255\n",
       "262       4      1  2021         1316\n",
       "347       5      1  2021         1302\n",
       "...     ...    ...   ...          ...\n",
       "22022   260      1  2021         2430\n",
       "22107   261      1  2021         6864\n",
       "22192   262      1  2021         2338\n",
       "22277   263      1  2021         1834\n",
       "22362   264      1  2021         2910\n",
       "\n",
       "[264 rows x 4 columns]"
      ]
     },
     "execution_count": 13,
     "metadata": {},
     "output_type": "execute_result"
    }
   ],
   "source": [
    "df_2021 = df[df['year'] == 2021]\n",
    "df_2021"
   ]
  },
  {
   "cell_type": "code",
   "execution_count": 71,
   "id": "faadce72",
   "metadata": {
    "scrolled": true
   },
   "outputs": [
    {
     "data": {
      "text/plain": [
       "array([[   1,    1, 2014],\n",
       "       [   1,    1, 2015],\n",
       "       [   1,    1, 2016],\n",
       "       ...,\n",
       "       [ 264,   12, 2018],\n",
       "       [ 264,   12, 2019],\n",
       "       [ 264,   12, 2020]], dtype=int64)"
      ]
     },
     "execution_count": 71,
     "metadata": {},
     "output_type": "execute_result"
    }
   ],
   "source": [
    "x = df.iloc[:, 0:3].values\n",
    "y = df.iloc[:, 3].values\n",
    "x"
   ]
  },
  {
   "cell_type": "code",
   "execution_count": 72,
   "id": "f724acc2",
   "metadata": {},
   "outputs": [
    {
     "data": {
      "text/plain": [
       "array([1518, 3473, 3036, ..., 4680, 3600, 6390], dtype=int64)"
      ]
     },
     "execution_count": 72,
     "metadata": {},
     "output_type": "execute_result"
    }
   ],
   "source": [
    "y"
   ]
  },
  {
   "cell_type": "code",
   "execution_count": 73,
   "id": "ce5462ed",
   "metadata": {},
   "outputs": [
    {
     "data": {
      "text/plain": [
       "array([[-1.72550239, -1.56072175, -1.49773549],\n",
       "       [-1.72550239, -1.56072175, -1.00620068],\n",
       "       [-1.72550239, -1.56072175, -0.51466586],\n",
       "       ...,\n",
       "       [ 1.72550239,  1.59788179,  0.46840376],\n",
       "       [ 1.72550239,  1.59788179,  0.95993858],\n",
       "       [ 1.72550239,  1.59788179,  1.45147339]])"
      ]
     },
     "execution_count": 73,
     "metadata": {},
     "output_type": "execute_result"
    }
   ],
   "source": [
    "sc = StandardScaler()\n",
    "X = sc.fit_transform(x)\n",
    "X"
   ]
  },
  {
   "cell_type": "code",
   "execution_count": 74,
   "id": "d7537310",
   "metadata": {
    "scrolled": true
   },
   "outputs": [
    {
     "data": {
      "text/plain": [
       "array([[-1.25789012],\n",
       "       [-0.48431538],\n",
       "       [-0.65723208],\n",
       "       ...,\n",
       "       [-0.00671706],\n",
       "       [-0.4340627 ],\n",
       "       [ 0.66991354]])"
      ]
     },
     "execution_count": 74,
     "metadata": {},
     "output_type": "execute_result"
    }
   ],
   "source": [
    "y_reshape = y.reshape(-1,1)\n",
    "Y = sc.fit_transform(y_reshape)\n",
    "Y\n",
    " "
   ]
  },
  {
   "cell_type": "code",
   "execution_count": 75,
   "id": "b8a04e68",
   "metadata": {},
   "outputs": [
    {
     "data": {
      "text/plain": [
       "SVR()"
      ]
     },
     "execution_count": 75,
     "metadata": {},
     "output_type": "execute_result"
    }
   ],
   "source": [
    "from sklearn.svm import SVR\n",
    "regressor = SVR(kernel = 'rbf')\n",
    "regressor.fit(X, Y.ravel())"
   ]
  },
  {
   "cell_type": "code",
   "execution_count": 78,
   "id": "96eead54",
   "metadata": {},
   "outputs": [
    {
     "data": {
      "text/plain": [
       "array([2503.81949544])"
      ]
     },
     "execution_count": 78,
     "metadata": {},
     "output_type": "execute_result"
    }
   ],
   "source": [
    "y_pred = regressor.predict([[1,1,2021]])\n",
    "y_pred = sc.inverse_transform(y_pred) \n",
    "y_pred"
   ]
  },
  {
   "cell_type": "code",
   "execution_count": 79,
   "id": "ff963ecb",
   "metadata": {},
   "outputs": [
    {
     "data": {
      "text/plain": [
       "array([2503.81949544])"
      ]
     },
     "execution_count": 79,
     "metadata": {},
     "output_type": "execute_result"
    }
   ],
   "source": [
    "y_pred = regressor.predict([[4,1,2021]])\n",
    "y_pred = sc.inverse_transform(y_pred) \n",
    "y_pred"
   ]
  },
  {
   "cell_type": "code",
   "execution_count": 80,
   "id": "3c455b8d",
   "metadata": {},
   "outputs": [
    {
     "data": {
      "text/plain": [
       "array([ 701.3469849 , 1439.85308486, 1739.85337642, ..., 4756.51941839,\n",
       "       4768.85457816, 4781.00567578])"
      ]
     },
     "execution_count": 80,
     "metadata": {},
     "output_type": "execute_result"
    }
   ],
   "source": [
    "y_pred = regressor.predict(X)\n",
    "y_pred = sc.inverse_transform(y_pred) \n",
    "y_pred"
   ]
  },
  {
   "cell_type": "code",
   "execution_count": 81,
   "id": "d134b5f5",
   "metadata": {
    "scrolled": false
   },
   "outputs": [
    {
     "data": {
      "text/plain": [
       "0.07407002842938226"
      ]
     },
     "execution_count": 81,
     "metadata": {},
     "output_type": "execute_result"
    }
   ],
   "source": [
    "regressor.score(X,Y)"
   ]
  },
  {
   "cell_type": "code",
   "execution_count": 93,
   "id": "6da29183",
   "metadata": {},
   "outputs": [
    {
     "data": {
      "text/plain": [
       "array([[-1.72550239, -1.56072175, -1.49773549],\n",
       "       [-1.72550239, -1.56072175, -1.00620068],\n",
       "       [-1.72550239, -1.56072175, -0.51466586],\n",
       "       ...,\n",
       "       [ 1.72550239,  1.59788179,  0.46840376],\n",
       "       [ 1.72550239,  1.59788179,  0.95993858],\n",
       "       [ 1.72550239,  1.59788179,  1.45147339]])"
      ]
     },
     "execution_count": 93,
     "metadata": {},
     "output_type": "execute_result"
    }
   ],
   "source": [
    "X"
   ]
  },
  {
   "cell_type": "code",
   "execution_count": 94,
   "id": "e40044fe",
   "metadata": {},
   "outputs": [
    {
     "data": {
      "text/plain": [
       "array([[-1.25789012],\n",
       "       [-0.48431538],\n",
       "       [-0.65723208],\n",
       "       ...,\n",
       "       [-0.00671706],\n",
       "       [-0.4340627 ],\n",
       "       [ 0.66991354]])"
      ]
     },
     "execution_count": 94,
     "metadata": {},
     "output_type": "execute_result"
    }
   ],
   "source": [
    "Y"
   ]
  },
  {
   "cell_type": "code",
   "execution_count": 92,
   "id": "00422768",
   "metadata": {},
   "outputs": [
    {
     "data": {
      "text/plain": [
       "22440"
      ]
     },
     "execution_count": 92,
     "metadata": {},
     "output_type": "execute_result"
    }
   ],
   "source": [
    "# len(X)\n",
    "# len(Y)\n"
   ]
  },
  {
   "cell_type": "code",
   "execution_count": 130,
   "id": "2665a4e5",
   "metadata": {},
   "outputs": [
    {
     "data": {
      "text/plain": [
       "(22440, 3)"
      ]
     },
     "execution_count": 130,
     "metadata": {},
     "output_type": "execute_result"
    }
   ],
   "source": [
    "X.shape"
   ]
  },
  {
   "cell_type": "code",
   "execution_count": 131,
   "id": "bb30673c",
   "metadata": {},
   "outputs": [
    {
     "data": {
      "text/plain": [
       "(22440, 1)"
      ]
     },
     "execution_count": 131,
     "metadata": {},
     "output_type": "execute_result"
    }
   ],
   "source": [
    "Y.shape "
   ]
  },
  {
   "cell_type": "code",
   "execution_count": 132,
   "id": "b0ccd7e2",
   "metadata": {},
   "outputs": [
    {
     "data": {
      "image/png": "[encoded data removed]",
      "text/plain": [
       "<Figure size 432x288 with 1 Axes>"
      ]
     },
     "metadata": {
      "needs_background": "light"
     },
     "output_type": "display_data"
    }
   ],
   "source": [
    "# Visualising the SVR results \n",
    "plt.scatter(X[:,0], Y, color = 'red') \n",
    "plt.plot(X, regressor.predict(X), color = 'blue') \n",
    "plt.xlabel('Position level') \n",
    "plt.ylabel('Total Sale') \n",
    "plt.show()"
   ]
  },
  {
   "cell_type": "code",
   "execution_count": null,
   "id": "a0c52f76",
   "metadata": {},
   "outputs": [],
   "source": [
    "X_grid = np.arange(min(X), max(X), 0.01) #this step required because data is feature scaled.\n",
    "X_grid = X_grid.reshape((len(X_grid), 1))\n",
    "plt.scatter(X, y, color = 'red')\n",
    "plt.plot(X_grid, regressor.predict(X_grid), color = 'blue')\n",
    "plt.title('Truth or Bluff (SVR)')\n",
    "plt.xlabel('Position level')\n",
    "plt.ylabel('Salary')\n",
    "plt.show()"
   ]
  },
  {
   "cell_type": "code",
   "execution_count": null,
   "id": "9a867461",
   "metadata": {},
   "outputs": [],
   "source": []
  },
  {
   "cell_type": "markdown",
   "id": "afc76b9b",
   "metadata": {},
   "source": [
    "# Linear Regression"
   ]
  },
  {
   "cell_type": "code",
   "execution_count": 95,
   "id": "b8a9a3ca",
   "metadata": {},
   "outputs": [
    {
     "data": {
      "text/html": [
       "<div>\n",
       "<style scoped>\n",
       "    .dataframe tbody tr th:only-of-type {\n",
       "        vertical-align: middle;\n",
       "    }\n",
       "\n",
       "    .dataframe tbody tr th {\n",
       "        vertical-align: top;\n",
       "    }\n",
       "\n",
       "    .dataframe thead th {\n",
       "        text-align: right;\n",
       "    }\n",
       "</style>\n",
       "<table border=\"1\" class=\"dataframe\">\n",
       "  <thead>\n",
       "    <tr style=\"text-align: right;\">\n",
       "      <th></th>\n",
       "      <th>Item</th>\n",
       "      <th>Month</th>\n",
       "      <th>year</th>\n",
       "      <th>Total Sales</th>\n",
       "    </tr>\n",
       "  </thead>\n",
       "  <tbody>\n",
       "    <tr>\n",
       "      <th>0</th>\n",
       "      <td>1</td>\n",
       "      <td>1</td>\n",
       "      <td>2014</td>\n",
       "      <td>1518</td>\n",
       "    </tr>\n",
       "    <tr>\n",
       "      <th>1</th>\n",
       "      <td>1</td>\n",
       "      <td>1</td>\n",
       "      <td>2015</td>\n",
       "      <td>3473</td>\n",
       "    </tr>\n",
       "    <tr>\n",
       "      <th>2</th>\n",
       "      <td>1</td>\n",
       "      <td>1</td>\n",
       "      <td>2016</td>\n",
       "      <td>3036</td>\n",
       "    </tr>\n",
       "    <tr>\n",
       "      <th>3</th>\n",
       "      <td>1</td>\n",
       "      <td>1</td>\n",
       "      <td>2017</td>\n",
       "      <td>3438</td>\n",
       "    </tr>\n",
       "    <tr>\n",
       "      <th>4</th>\n",
       "      <td>1</td>\n",
       "      <td>1</td>\n",
       "      <td>2018</td>\n",
       "      <td>3990</td>\n",
       "    </tr>\n",
       "    <tr>\n",
       "      <th>...</th>\n",
       "      <td>...</td>\n",
       "      <td>...</td>\n",
       "      <td>...</td>\n",
       "      <td>...</td>\n",
       "    </tr>\n",
       "    <tr>\n",
       "      <th>22435</th>\n",
       "      <td>264</td>\n",
       "      <td>12</td>\n",
       "      <td>2016</td>\n",
       "      <td>3555</td>\n",
       "    </tr>\n",
       "    <tr>\n",
       "      <th>22436</th>\n",
       "      <td>264</td>\n",
       "      <td>12</td>\n",
       "      <td>2017</td>\n",
       "      <td>3465</td>\n",
       "    </tr>\n",
       "    <tr>\n",
       "      <th>22437</th>\n",
       "      <td>264</td>\n",
       "      <td>12</td>\n",
       "      <td>2018</td>\n",
       "      <td>4680</td>\n",
       "    </tr>\n",
       "    <tr>\n",
       "      <th>22438</th>\n",
       "      <td>264</td>\n",
       "      <td>12</td>\n",
       "      <td>2019</td>\n",
       "      <td>3600</td>\n",
       "    </tr>\n",
       "    <tr>\n",
       "      <th>22439</th>\n",
       "      <td>264</td>\n",
       "      <td>12</td>\n",
       "      <td>2020</td>\n",
       "      <td>6390</td>\n",
       "    </tr>\n",
       "  </tbody>\n",
       "</table>\n",
       "<p>22440 rows × 4 columns</p>\n",
       "</div>"
      ],
      "text/plain": [
       "       Item  Month  year  Total Sales\n",
       "0         1      1  2014         1518\n",
       "1         1      1  2015         3473\n",
       "2         1      1  2016         3036\n",
       "3         1      1  2017         3438\n",
       "4         1      1  2018         3990\n",
       "...     ...    ...   ...          ...\n",
       "22435   264     12  2016         3555\n",
       "22436   264     12  2017         3465\n",
       "22437   264     12  2018         4680\n",
       "22438   264     12  2019         3600\n",
       "22439   264     12  2020         6390\n",
       "\n",
       "[22440 rows x 4 columns]"
      ]
     },
     "execution_count": 95,
     "metadata": {},
     "output_type": "execute_result"
    }
   ],
   "source": [
    "df"
   ]
  },
  {
   "cell_type": "code",
   "execution_count": 96,
   "id": "67a7f9f2",
   "metadata": {},
   "outputs": [
    {
     "data": {
      "text/plain": [
       "array([[-1.72550239, -1.56072175, -1.49773549],\n",
       "       [-1.72550239, -1.56072175, -1.00620068],\n",
       "       [-1.72550239, -1.56072175, -0.51466586],\n",
       "       ...,\n",
       "       [ 1.72550239,  1.59788179,  0.46840376],\n",
       "       [ 1.72550239,  1.59788179,  0.95993858],\n",
       "       [ 1.72550239,  1.59788179,  1.45147339]])"
      ]
     },
     "execution_count": 96,
     "metadata": {},
     "output_type": "execute_result"
    }
   ],
   "source": [
    "X"
   ]
  },
  {
   "cell_type": "code",
   "execution_count": 97,
   "id": "41b16836",
   "metadata": {
    "scrolled": true
   },
   "outputs": [
    {
     "data": {
      "text/plain": [
       "array([[-1.25789012],\n",
       "       [-0.48431538],\n",
       "       [-0.65723208],\n",
       "       ...,\n",
       "       [-0.00671706],\n",
       "       [-0.4340627 ],\n",
       "       [ 0.66991354]])"
      ]
     },
     "execution_count": 97,
     "metadata": {},
     "output_type": "execute_result"
    }
   ],
   "source": [
    "Y"
   ]
  },
  {
   "cell_type": "code",
   "execution_count": 106,
   "id": "cac39ad5",
   "metadata": {},
   "outputs": [],
   "source": [
    "X_train, X_test, y_train,y_test = train_test_split(X, Y, test_size = 0.2, random_state = 10)\n"
   ]
  },
  {
   "cell_type": "code",
   "execution_count": 107,
   "id": "5b40b6f4",
   "metadata": {},
   "outputs": [
    {
     "data": {
      "text/plain": [
       "array([[-0.16402114,  0.44929868,  0.95993858],\n",
       "       [ 1.38433842, -0.12499287,  1.45147339],\n",
       "       [ 0.19026452,  0.73644446,  0.46840376],\n",
       "       ...,\n",
       "       [-0.2165079 ,  1.02359024,  1.45147339],\n",
       "       [-0.05904761, -1.56072175,  0.46840376],\n",
       "       [-1.30560827, -1.27357597,  0.46840376]])"
      ]
     },
     "execution_count": 107,
     "metadata": {},
     "output_type": "execute_result"
    }
   ],
   "source": [
    "X_train"
   ]
  },
  {
   "cell_type": "code",
   "execution_count": 108,
   "id": "9c70b92c",
   "metadata": {},
   "outputs": [
    {
     "data": {
      "text/plain": [
       "array([[-0.63349066],\n",
       "       [-0.18715188],\n",
       "       [-0.3925152 ],\n",
       "       ...,\n",
       "       [ 3.0226887 ],\n",
       "       [-0.48471107],\n",
       "       [-0.19348293]])"
      ]
     },
     "execution_count": 108,
     "metadata": {},
     "output_type": "execute_result"
    }
   ],
   "source": [
    " y_train"
   ]
  },
  {
   "cell_type": "code",
   "execution_count": 109,
   "id": "9da26ff0",
   "metadata": {},
   "outputs": [
    {
     "data": {
      "text/plain": [
       "LinearRegression()"
      ]
     },
     "execution_count": 109,
     "metadata": {},
     "output_type": "execute_result"
    }
   ],
   "source": [
    "model_regressor = LinearRegression()\n",
    "model_regressor.fit(X_train, y_train)"
   ]
  },
  {
   "cell_type": "code",
   "execution_count": 117,
   "id": "97521ff2",
   "metadata": {},
   "outputs": [
    {
     "data": {
      "text/plain": [
       "array([[47741.49248967]])"
      ]
     },
     "execution_count": 117,
     "metadata": {},
     "output_type": "execute_result"
    }
   ],
   "source": [
    "y_pred = model_regressor.predict([[2,3,2021]])\n",
    "y_pred = sc.inverse_transform(y_pred) \n",
    "y_pred"
   ]
  },
  {
   "cell_type": "code",
   "execution_count": 118,
   "id": "15ca2350",
   "metadata": {},
   "outputs": [
    {
     "data": {
      "text/plain": [
       "array([[49025.69494828]])"
      ]
     },
     "execution_count": 118,
     "metadata": {},
     "output_type": "execute_result"
    }
   ],
   "source": [
    "y_pred = model_regressor.predict([[21,4,2021]])\n",
    "y_pred = sc.inverse_transform(y_pred)\n",
    "y_pred"
   ]
  },
  {
   "cell_type": "code",
   "execution_count": 119,
   "id": "9c89c5b3",
   "metadata": {},
   "outputs": [
    {
     "data": {
      "text/plain": [
       "array([[4745.51774303],\n",
       "       [4689.94497316],\n",
       "       [4549.45929932],\n",
       "       ...,\n",
       "       [4717.80604526],\n",
       "       [4972.41819019],\n",
       "       [4665.89546805]])"
      ]
     },
     "execution_count": 119,
     "metadata": {},
     "output_type": "execute_result"
    }
   ],
   "source": [
    "#predecting the test set results\n",
    "y_pred = model_regressor.predict(X_test)\n",
    "y_pred = sc.inverse_transform(y_pred)\n",
    "y_pred"
   ]
  },
  {
   "cell_type": "code",
   "execution_count": 120,
   "id": "480716b5",
   "metadata": {},
   "outputs": [
    {
     "data": {
      "text/plain": [
       "0.0011194199606009425"
      ]
     },
     "execution_count": 120,
     "metadata": {},
     "output_type": "execute_result"
    }
   ],
   "source": [
    "model_regressor.score(X_test,y_test)"
   ]
  },
  {
   "cell_type": "code",
   "execution_count": 121,
   "id": "e97b8d04",
   "metadata": {},
   "outputs": [
    {
     "data": {
      "text/plain": [
       "(17952, 3)"
      ]
     },
     "execution_count": 121,
     "metadata": {},
     "output_type": "execute_result"
    }
   ],
   "source": [
    "X_train.shape"
   ]
  },
  {
   "cell_type": "code",
   "execution_count": 122,
   "id": "70a344e1",
   "metadata": {},
   "outputs": [
    {
     "data": {
      "text/plain": [
       "(17952, 1)"
      ]
     },
     "execution_count": 122,
     "metadata": {},
     "output_type": "execute_result"
    }
   ],
   "source": [
    "y_train.shape"
   ]
  },
  {
   "cell_type": "code",
   "execution_count": 125,
   "id": "d4606e6c",
   "metadata": {},
   "outputs": [
    {
     "data": {
      "text/plain": [
       "(26928,)"
      ]
     },
     "execution_count": 125,
     "metadata": {},
     "output_type": "execute_result"
    }
   ],
   "source": [
    "first_input.shape"
   ]
  },
  {
   "cell_type": "code",
   "execution_count": 163,
   "id": "05b96461",
   "metadata": {},
   "outputs": [
    {
     "data": {
      "image/png": "[encoded data removed]",
      "text/plain": [
       "<Figure size 432x288 with 1 Axes>"
      ]
     },
     "metadata": {
      "needs_background": "light"
     },
     "output_type": "display_data"
    }
   ],
   "source": [
    "#Visualization of the training set results\n",
    "plt.scatter(X_train[:,0], y_train, color = 'red')\n",
    "plt.plot(X_train, model_regressor.predict(X_train), color = 'green')\n",
    "plt.title('Item vs Total sales (month Wise)')\n",
    "plt.xlabel('Item')\n",
    "plt.ylabel('Total sales')\n",
    "plt.show()"
   ]
  },
  {
   "cell_type": "code",
   "execution_count": 161,
   "id": "244d7470",
   "metadata": {
    "scrolled": true
   },
   "outputs": [
    {
     "data": {
      "image/png": "[encoded data removed]",
      "text/plain": [
       "<Figure size 432x288 with 1 Axes>"
      ]
     },
     "metadata": {
      "needs_background": "light"
     },
     "output_type": "display_data"
    }
   ],
   "source": [
    "#Visualization of the training set results\n",
    "plt.scatter(X_train[:,1], y_train, color = 'red')\n",
    "plt.plot(X_train, model_regressor.predict(X_train), color = 'green')\n",
    "plt.title('Item vs Total sales (month Wise)')\n",
    "plt.xlabel('Item')\n",
    "plt.ylabel('Total sales')\n",
    "plt.show()\n"
   ]
  },
  {
   "cell_type": "code",
   "execution_count": 162,
   "id": "5f79d4da",
   "metadata": {
    "scrolled": true
   },
   "outputs": [
    {
     "data": {
      "image/png": "[encoded data removed]",
      "text/plain": [
       "<Figure size 432x288 with 1 Axes>"
      ]
     },
     "metadata": {
      "needs_background": "light"
     },
     "output_type": "display_data"
    }
   ],
   "source": [
    "#Visualization of the training set results\n",
    "plt.scatter(X_train[:,2], y_train, color = 'red')\n",
    "plt.plot(X_train, model_regressor.predict(X_train), color = 'green')\n",
    "plt.title('Item vs Total sales(month Wise)')\n",
    "plt.xlabel('Item')\n",
    "plt.ylabel('Total sales')\n",
    "plt.show()"
   ]
  },
  {
   "cell_type": "code",
   "execution_count": null,
   "id": "66d0ffd3",
   "metadata": {},
   "outputs": [],
   "source": []
  },
  {
   "cell_type": "markdown",
   "id": "38cbd009",
   "metadata": {},
   "source": [
    "# Presenting 3 data in one Axis"
   ]
  },
  {
   "cell_type": "code",
   "execution_count": 154,
   "id": "2ff829ff",
   "metadata": {},
   "outputs": [
    {
     "data": {
      "image/png": "[encoded data removed]",
      "text/plain": [
       "<Figure size 432x288 with 3 Axes>"
      ]
     },
     "metadata": {
      "needs_background": "light"
     },
     "output_type": "display_data"
    }
   ],
   "source": [
    "fig, ax1 = plt.subplots()\n",
    "\n",
    "years = [2011,2012,2013,2014,2015,2017]\n",
    "first = [2,3,4,6,3,2]\n",
    "second = [5,13,6,10,3,12]\n",
    "third = [7,4,8,2,13,21]\n",
    "\n",
    "ax1.plot(years,first, color='blue')\n",
    "\n",
    "ax2= ax1.twinx()\n",
    "ax2.plot(years,second,color = 'green')\n",
    "\n",
    "ax3= ax1.twinx()\n",
    "ax3.plot(years,third,color = 'red')\n",
    "#ax3.spines['right'].set_position(('outward',60))\n",
    "ax3.spines['right'].set_position(('axes',1.15))\n",
    "\n",
    "#\n",
    "ax1.set_ylabel('First',color='blue')\n",
    "ax2.set_ylabel('Second',color='green')\n",
    "ax3.set_ylabel('Third',color='red')\n",
    "\n",
    "#\n",
    "ax1.tick_params(axis='y',colors='blue')\n",
    "ax2.tick_params(axis='y',colors='green')\n",
    "ax3.tick_params(axis='y',colors='red')\n",
    "\n",
    "#\n",
    "ax2.spines['right'].set_color(\"green\")\n",
    "ax3.spines['right'].set_color(\"red\")\n",
    "ax3.spines['left'].set_color(\"blue\")\n",
    "\n",
    "plt.show()\n",
    "\n",
    "# fig.tight_layout() # alternate of  bbox_inches='tight'\n",
    "fig.savefig(\"3-axis-test.png\", bbox_inches='tight')\n"
   ]
  },
  {
   "cell_type": "code",
   "execution_count": 156,
   "id": "511aeeca",
   "metadata": {
    "scrolled": false
   },
   "outputs": [
    {
     "data": {
      "image/png": "[encoded data removed]",
      "text/plain": [
       "<Figure size 432x288 with 3 Axes>"
      ]
     },
     "metadata": {},
     "output_type": "display_data"
    }
   ],
   "source": [
    "x_values1=[1,2,3,4,5]\n",
    "y_values1=[1,2,2,4,1]\n",
    "\n",
    "x_values2=[-1000,-800,-600,-400,-200]\n",
    "y_values2=[10,20,39,40,50]\n",
    "\n",
    "x_values3=[150,200,250,300,350]\n",
    "y_values3=[10,20,30,40,50]\n",
    "\n",
    "\n",
    "fig=plt.figure()\n",
    "ax=fig.add_subplot(111, label=\"1\")\n",
    "ax2=fig.add_subplot(111, label=\"2\", frame_on=False)\n",
    "ax3=fig.add_subplot(111, label=\"3\", frame_on=False)\n",
    "\n",
    "ax.plot(x_values1, y_values1, color=\"C0\")\n",
    "ax.set_xlabel(\"x label 1\", color=\"C0\")\n",
    "ax.set_ylabel(\"y label 1\", color=\"C0\")\n",
    "ax.tick_params(axis='x', colors=\"C0\")\n",
    "ax.tick_params(axis='y', colors=\"C0\")\n",
    "\n",
    "ax2.scatter(x_values2, y_values2, color=\"C1\")\n",
    "ax2.xaxis.tick_top()\n",
    "ax2.yaxis.tick_right()\n",
    "ax2.set_xlabel('x label 2', color=\"C1\") \n",
    "ax2.set_ylabel('y label 2', color=\"C1\")       \n",
    "ax2.xaxis.set_label_position('top') \n",
    "ax2.yaxis.set_label_position('right') \n",
    "ax2.tick_params(axis='x', colors=\"C1\")\n",
    "ax2.tick_params(axis='y', colors=\"C1\")\n",
    "\n",
    "ax3.plot(x_values3, y_values3, color=\"C3\")\n",
    "ax3.set_xticks([])\n",
    "ax3.set_yticks([])\n",
    "\n",
    "plt.show()"
   ]
  },
  {
   "cell_type": "code",
   "execution_count": 158,
   "id": "cd2c4d49",
   "metadata": {},
   "outputs": [
    {
     "data": {
      "image/png": "[encoded data removed]",
      "text/plain": [
       "<Figure size 432x288 with 4 Axes>"
      ]
     },
     "metadata": {
      "needs_background": "light"
     },
     "output_type": "display_data"
    }
   ],
   "source": [
    "X1 = np.arange(10)\n",
    "X1 = np.stack([X1, X1])\n",
    "Y1 = np.random.randint(1, 10, (2, 10))\n",
    "X2 = np.arange(0, 1000, 200)\n",
    "X2 = np.stack([X2, X2])\n",
    "Y2 = np.random.randint(100, 200, (2, 5))\n",
    "\n",
    "\n",
    "x_label_names = ['XXX', 'xxx']\n",
    "y_label_names = ['YYY', 'yyy']\n",
    "X1_legend_names = ['X1_legend1', 'X1_legend2']\n",
    "X2_legend_names = ['X2_legend1', 'X2_legend2']\n",
    "\n",
    "\n",
    "def plot_by_two_xaxis(X1, Y1, X2, Y2, x_label_names: list, y_label_names: list, X1_legend_names: list, X2_legend_names: list):\n",
    "    fig = plt.figure()\n",
    "    ax1s = []\n",
    "    ax2s = []\n",
    "    lines = []\n",
    "    j = 0\n",
    "    for i in range(len(X1)):\n",
    "        j += 1\n",
    "        ax1s.append(fig.add_subplot(111, label=f\"{j}\", frame_on=(j == 1)))\n",
    "    for i in range(len(X2)):\n",
    "        j += 1\n",
    "        ax2s.append(fig.add_subplot(111, label=f\"{j}\", frame_on=(j == 1)))\n",
    "\n",
    "    k = 0\n",
    "    for i in range(len(X1)):\n",
    "        lines.append(ax1s[i].plot(X1[i], Y1[i], color=f\"C{k}\")[0])\n",
    "        if i == 0:\n",
    "            ax1s[i].set_xlabel(x_label_names[0], color=f\"C{k}\")\n",
    "            ax1s[i].set_ylabel(y_label_names[0], color=f\"C{k}\")\n",
    "            ax1s[i].tick_params(axis='x', colors=f\"C{k}\")\n",
    "            ax1s[i].tick_params(axis='y', colors=f\"C{k}\")\n",
    "        else:\n",
    "            ax1s[i].set_xticks([])\n",
    "            ax1s[i].set_yticks([])\n",
    "        k += 1\n",
    "\n",
    "    for i in range(len(X1)):\n",
    "        lines.append(ax2s[i].plot(X2[i], Y2[i], color=f\"C{k}\")[0])\n",
    "        if i == 0:\n",
    "            ax2s[i].xaxis.tick_top()\n",
    "            ax2s[i].yaxis.tick_right()\n",
    "            ax2s[i].set_xlabel(x_label_names[1], color=f\"C{k}\")\n",
    "            ax2s[i].set_ylabel(y_label_names[1], color=f\"C{k}\")\n",
    "            ax2s[i].xaxis.set_label_position('top')\n",
    "            ax2s[i].yaxis.set_label_position('right')\n",
    "            ax2s[i].tick_params(axis='x', colors=f\"C{k}\")\n",
    "            ax2s[i].tick_params(axis='y', colors=f\"C{k}\")\n",
    "        else:\n",
    "            ax2s[i].set_xticks([])\n",
    "            ax2s[i].set_yticks([])\n",
    "        k += 1\n",
    "\n",
    "    ax1s[0].legend(lines, X1_legend_names + X2_legend_names)\n",
    "\n",
    "    plt.show()\n",
    "\n",
    "\n",
    "plot_by_two_xaxis(X1, Y1, X2, Y2, x_label_names,\n",
    "                y_label_names, X1_legend_names, X2_legend_names)"
   ]
  }
 ],
 "metadata": {
  "kernelspec": {
   "display_name": "Python 3",
   "language": "python",
   "name": "python3"
  },
  "language_info": {
   "codemirror_mode": {
    "name": "ipython",
    "version": 3
   },
   "file_extension": ".py",
   "mimetype": "text/x-python",
   "name": "python",
   "nbconvert_exporter": "python",
   "pygments_lexer": "ipython3",
   "version": "3.8.8"
  }
 },
 "nbformat": 4,
 "nbformat_minor": 5
}
